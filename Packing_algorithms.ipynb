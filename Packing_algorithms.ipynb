{
 "cells": [
  {
   "cell_type": "markdown",
   "id": "6a1aece2-fa5f-4e12-a3c0-68d9f2e652f1",
   "metadata": {},
   "source": [
    "[School of Tomorrow (Home)](School_of_Tomorrow.ipynb)\n",
    "\n",
    "# Building the CCP:  Apex-Outward Packing vs Center-Outward Packing\n",
    "\n",
    "When creating the CCP, you might wish to start with a nuclear ball and then pack successive layers of 12, 42, 92, 162... balls in [a cuboctahedral conformation](https://oeis.org/A005901). \n",
    "\n",
    "![ccp_grow](ccp_grow.gif)\n",
    "\n",
    "Computing successive layers may be accomplished by adding all twelve vectors to adjacent balls to each ball in a layer, but only keeping it if it's new i.e. not already in the current or previous layer. The Python set data structure enforces such uniqueness. Our set members will be all-integer (non-negative) quadray coordinates of the CCP candidates.\n",
    "\n",
    "<br />\n",
    "<a data-flickr-embed=\"true\" href=\"https://www.flickr.com/photos/kirbyurner/54537724190/in/photostream/\" title=\"Screen Shot 2025-05-22 at 6.20.49 AM\"><img src=\"https://live.staticflickr.com/65535/54537724190_062e6a5da7_o.png\" width=\"1996\" height=\"1312\" alt=\"Screen Shot 2025-05-22 at 6.20.49 AM\"/></a><script async src=\"//embedr.flickr.com/assets/client-code.js\" charset=\"utf-8\"></script>\n",
    "\n",
    "<br/> "
   ]
  },
  {
   "cell_type": "markdown",
   "id": "444738d4-cbd7-430f-8f1a-61ce9c8ed2e0",
   "metadata": {},
   "source": [
    "Thanks to a collaboration involving more attention to color-coding, I give each of the four quadrays its own color, envisioning the caltrop like a tripod radio tower, with Blue one of the ground based tips, and considered the \"radio broadcast station\" and therefore the beginning of our packing.  \n",
    "\n",
    "The green tip defines the radio tower, from which emanate our IVM FM radio broadcasts.  Actually, a 1st layer starting with Blue is simply the remaining three (Green, Red, Yellow) and then onward, layer by layer, adding to a growing tetrahedron (four-eyes in the collaborator namespace) of successive triangular numbers of balls.\n",
    "\n",
    "![tripod_1](tripod_1.png)\n",
    "\n",
    "Note the pathways we'll consider, starting from any existing CCP ball. Using the BYRG caltrop for orientation, and starting from Blue, we will travel 2 hops in one color direction and 1 hop in the two others, neglecting any Blue component as that takes us in a direction we needn't consider. \n",
    "\n",
    "Three pathways to the right and up will be sufficient.  Think of these as only some of (three of) the 12 spokes we would use if doing center-outward cuboctahedral packing.  We're confining our expansion to a single tetrahedron.\n",
    "\n",
    "![vector add](vector_addition.gif)\n",
    "\n",
    "<a data-flickr-embed=\"true\" href=\"https://www.flickr.com/photos/kirbyurner/54537545484/in/dateposted/\" title=\"Screen Shot 2025-05-22 at 6.08.46 AM\"><img src=\"https://live.staticflickr.com/65535/54537545484_f06d251def_o.png\" width=\"1650\" height=\"1336\" alt=\"Screen Shot 2025-05-22 at 6.08.46 AM\"/></a><script async src=\"//embedr.flickr.com/assets/client-code.js\" charset=\"utf-8\"></script>\n",
    "\n",
    "<br />"
   ]
  },
  {
   "cell_type": "markdown",
   "id": "18e7e4bd-a674-46b5-afb4-2d1567649e2a",
   "metadata": {},
   "source": [
    "Start bu drawing the color coded caltrop with the camera oriented a certain way such as to put the radio station (Blue) on the viewer's left.  Green is vertical and so on. Whereas the framework provides a default camera, this particular function will substitute its own camera further down in the output, overriding the default camera.\n",
    "\n",
    "<br />\n",
    "\n",
    "<a data-flickr-embed=\"true\" href=\"https://www.flickr.com/photos/kirbyurner/54537360706/in/photostream/\" title=\"Screen Shot 2025-05-22 at 6.09.48 AM\"><img src=\"https://live.staticflickr.com/65535/54537360706_5429322a24_o.png\" width=\"2010\" height=\"1276\" alt=\"Screen Shot 2025-05-22 at 6.09.48 AM\"/></a><script async src=\"//embedr.flickr.com/assets/client-code.js\" charset=\"utf-8\"></script>"
   ]
  },
  {
   "cell_type": "markdown",
   "id": "a642587b-2cdd-475b-924e-ab8d40d3dede",
   "metadata": {},
   "source": [
    "Check each of the three pathways from each ball in the current layer. There's no danger of revisiting a previous layer, but we will arrive at the same ball in the newly added layer multiple times, which is where the set data structure again becomes our friend. Keep unique balls only, stored as 4-tuple quadrays, and return this newly completed layer as a list, as we'll be adding lists to render multiple layers per our animated GIF frames.\n",
    "\n",
    "<br />\n",
    "\n",
    "<a data-flickr-embed=\"true\" href=\"https://www.flickr.com/photos/kirbyurner/54537596408/in/photostream/\" title=\"Screen Shot 2025-05-22 at 6.10.52 AM\"><img src=\"https://live.staticflickr.com/65535/54537596408_e555e7637f_o.png\" width=\"1582\" height=\"1312\" alt=\"Screen Shot 2025-05-22 at 6.10.52 AM\"/></a><script async src=\"//embedr.flickr.com/assets/client-code.js\" charset=\"utf-8\"></script>"
   ]
  },
  {
   "cell_type": "markdown",
   "id": "2db20b32-048b-40dd-bd34-4c971e7b5c8e",
   "metadata": {},
   "source": [
    "![tetrapack_wood.gif](tetrapack_wood.gif)"
   ]
  },
  {
   "cell_type": "markdown",
   "id": "23e29008-8b8a-49db-b37f-d33d985769a3",
   "metadata": {},
   "source": [
    "![tetrapack_marble.gif](tetrapack_marble.gif)"
   ]
  },
  {
   "cell_type": "markdown",
   "id": "d75b2d9b-4c97-4098-aeea-1b952a45c847",
   "metadata": {},
   "source": [
    "<a data-flickr-embed=\"true\" href=\"https://www.flickr.com/photos/kirbyurner/54537360731/in/photostream/\" title=\"Screen Shot 2025-05-22 at 6.03.16 AM\"><img src=\"https://live.staticflickr.com/65535/54537360731_52319157a9_o.png\" width=\"977\" height=\"533\" alt=\"Screen Shot 2025-05-22 at 6.03.16 AM\"/></a><script async src=\"//embedr.flickr.com/assets/client-code.js\" charset=\"utf-8\"></script>"
   ]
  }
 ],
 "metadata": {
  "kernelspec": {
   "display_name": "Python 3 (ipykernel)",
   "language": "python",
   "name": "python3"
  },
  "language_info": {
   "codemirror_mode": {
    "name": "ipython",
    "version": 3
   },
   "file_extension": ".py",
   "mimetype": "text/x-python",
   "name": "python",
   "nbconvert_exporter": "python",
   "pygments_lexer": "ipython3",
   "version": "3.11.3"
  }
 },
 "nbformat": 4,
 "nbformat_minor": 5
}
