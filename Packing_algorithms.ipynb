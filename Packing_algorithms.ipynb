{
 "cells": [
  {
   "cell_type": "markdown",
   "id": "6a1aece2-fa5f-4e12-a3c0-68d9f2e652f1",
   "metadata": {},
   "source": [
    "[School of Tomorrow (Home)](School_of_Tomorrow.ipynb)\n",
    "\n",
    "# Building the CCP:  Apex-Outward vs Center-Outward Packing\n",
    "\n",
    "When creating the CCP, you might wish to start with a nuclear ball and then pack successive layers of 12, 42, 92, 162... balls in [a cuboctahedral conformation](https://oeis.org/A005901). \n",
    "\n",
    "![ccp_grow](ccp_grow.gif)\n",
    "\n",
    "Computing successive layers may be accomplished by adding all twelve vectors to adjacent balls to each ball in a layer, but only keeping it if it's new i.e. not already in the current or previous layer. The Python *set* data structure enforces such uniqueness. Our set members will be all-integer (non-negative) quadray coordinates of the CCP candidates. Determining uniqueness is fast and accurate when we're not hashing with fuzzy floats.\n",
    "\n",
    "For more background, consider reading [Generating the FCC](https://github.com/4dsolutions/Python5/blob/master/Generating%20the%20FCC.ipynb) which contains a lot more information on the CCP, the source code below, and Quadrays more generally. \n",
    "\n",
    "[The Quadcraft Project](QuadCraft_Project.ipynb) may also be of interest in this regard.\n",
    "\n",
    "<br />\n",
    "\n",
    "<a data-flickr-embed=\"true\" href=\"https://www.flickr.com/photos/kirbyurner/54537724190/in/photostream/\" title=\"Screen Shot 2025-05-22 at 6.20.49 AM\"><img src=\"https://live.staticflickr.com/65535/54537724190_062e6a5da7_o.png\" width=\"1996\" height=\"1312\" alt=\"Screen Shot 2025-05-22 at 6.20.49 AM\"/></a><script async src=\"//embedr.flickr.com/assets/client-code.js\" charset=\"utf-8\"></script>\n",
    "\n",
    "<br/> "
   ]
  },
  {
   "cell_type": "markdown",
   "id": "444738d4-cbd7-430f-8f1a-61ce9c8ed2e0",
   "metadata": {},
   "source": [
    "Thanks to a collaboration involving more attention to color-coding, I give each of the four quadrays its own color, envisioning the caltrop like a tripod radio tower, with Blue one of the ground based tips, and considered the \"radio broadcast station\" and therefore the beginning of our packing.  \n",
    "\n",
    "The green tip defines the radio tower, from which emanate our IVM FM radio broadcasts.  Actually, a 1st layer starting with Blue is simply the remaining three (Green, Red, Yellow) and then onward, layer by layer, adding to a growing tetrahedron (four-eyes in the collaborator namespace) of successive triangular numbers of balls.\n",
    "\n",
    "![tripod_1](tripod_1.png)\n",
    "\n",
    "Note the pathways we'll consider, starting from any existing CCP ball. Using the BRYG (\"bridge\") caltrop for orientation, and starting from Blue, we will travel 2 hops in one color direction and 1 hop in the two others, neglecting any Blue component as that takes us in a direction we needn't consider. \n",
    "\n",
    "Three pathways to the right and up will be sufficient.  Think of these as only some of (three of) the 12 spokes we would use if doing center-outward cuboctahedral packing.  We're confining our expansion to a single tetrahedron.\n",
    "\n",
    "![vector add](vector_addition.gif)\n",
    "\n",
    "<a data-flickr-embed=\"true\" href=\"https://www.flickr.com/photos/kirbyurner/54537545484/in/dateposted/\" title=\"Screen Shot 2025-05-22 at 6.08.46 AM\"><img src=\"https://live.staticflickr.com/65535/54537545484_f06d251def_o.png\" width=\"1650\" height=\"1336\" alt=\"Screen Shot 2025-05-22 at 6.08.46 AM\"/></a><script async src=\"//embedr.flickr.com/assets/client-code.js\" charset=\"utf-8\"></script>\n",
    "\n",
    "<br />"
   ]
  },
  {
   "cell_type": "markdown",
   "id": "18e7e4bd-a674-46b5-afb4-2d1567649e2a",
   "metadata": {},
   "source": [
    "Start by drawing the color coded caltrop with the camera oriented a certain way such as to put the radio station (Blue) on the viewer's left.  Green is vertical and so on. Whereas the framework provides a default camera, this particular function will substitute its own camera further down in the output, overriding the default camera.\n",
    "\n",
    "<br />\n",
    "\n",
    "<a data-flickr-embed=\"true\" href=\"https://www.flickr.com/photos/kirbyurner/54537360706/in/photostream/\" title=\"Screen Shot 2025-05-22 at 6.09.48 AM\"><img src=\"https://live.staticflickr.com/65535/54537360706_5429322a24_o.png\" width=\"2010\" height=\"1276\" alt=\"Screen Shot 2025-05-22 at 6.09.48 AM\"/></a><script async src=\"//embedr.flickr.com/assets/client-code.js\" charset=\"utf-8\"></script>"
   ]
  },
  {
   "cell_type": "markdown",
   "id": "a642587b-2cdd-475b-924e-ab8d40d3dede",
   "metadata": {},
   "source": [
    "Check each of the three pathways from each ball in the current layer. There's no danger of revisiting a previous layer, but we will arrive at the same ball in the newly added layer multiple times, which is where the set data structure again becomes our friend. Keep unique balls only, stored as 4-tuple quadrays, and return this newly completed layer as a list, as we'll be adding lists to render multiple layers per our animated GIF frames.\n",
    "\n",
    "<br />\n",
    "\n",
    "<a data-flickr-embed=\"true\" href=\"https://www.flickr.com/photos/kirbyurner/54537596408/in/photostream/\" title=\"Screen Shot 2025-05-22 at 6.10.52 AM\"><img src=\"https://live.staticflickr.com/65535/54537596408_e555e7637f_o.png\" width=\"1582\" height=\"1312\" alt=\"Screen Shot 2025-05-22 at 6.10.52 AM\"/></a><script async src=\"//embedr.flickr.com/assets/client-code.js\" charset=\"utf-8\"></script>"
   ]
  },
  {
   "cell_type": "markdown",
   "id": "fdaf47d8-5b1a-4946-b9e1-c8be903f4d26",
   "metadata": {},
   "source": [
    "The source code used in this Notebook is in [quadcraft.py](quadcraft.py), which in turn has its dependencies. The graphics pipepline also uses [POV-Ray](https://povray.org)."
   ]
  },
  {
   "cell_type": "markdown",
   "id": "2db20b32-048b-40dd-bd34-4c971e7b5c8e",
   "metadata": {},
   "source": [
    "![tetrapack_wood.gif](tetrapack_wood.gif)"
   ]
  },
  {
   "cell_type": "markdown",
   "id": "23e29008-8b8a-49db-b37f-d33d985769a3",
   "metadata": {},
   "source": [
    "![tetrapack_marble.gif](tetrapack_marble.gif)"
   ]
  },
  {
   "cell_type": "markdown",
   "id": "d75b2d9b-4c97-4098-aeea-1b952a45c847",
   "metadata": {},
   "source": [
    "<a data-flickr-embed=\"true\" href=\"https://www.flickr.com/photos/kirbyurner/54537360731/in/photostream/\" title=\"Screen Shot 2025-05-22 at 6.03.16 AM\"><img src=\"https://live.staticflickr.com/65535/54537360731_52319157a9_o.png\" width=\"977\" height=\"533\" alt=\"Screen Shot 2025-05-22 at 6.03.16 AM\"/></a><script async src=\"//embedr.flickr.com/assets/client-code.js\" charset=\"utf-8\"></script>"
   ]
  },
  {
   "cell_type": "markdown",
   "id": "59b9c24f-cefb-4262-864a-60185636a2ae",
   "metadata": {},
   "source": [
    "### Consecutive Enumerated CCP Generation\n",
    "\n",
    "Apex-outward packing suggests a pretty easy and intuitive consecutive ball number scheme. The apex ball is 1, and then when adding layers, use the already established orientations to see it is a matter of rastering down a page, reading left to right, top to bottom. So looking at L1 (layer 1) from the Blue side, with Green up top, we see the triangle always starting in an extreme Green direction, the next level up as it were. Then we go left to right, row by row, building a trying n+1 wider i.e. one higher frequency.\n",
    "\n",
    "Given such a numbering strategy, we want our Python to enumerate for us. Questions arise as to how might we need to change the existing CCP apex-outward packing algorithm to accommodate sequential numbering, which means keeping track of every ball in a data structure, from which its number might be deduced. That could mean a list with the balls in order, however in the tweaked algorithm below we went with a dictionary, the ball's number the key, and the value the Quadray vector location of said ball."
   ]
  },
  {
   "cell_type": "markdown",
   "id": "870eb5d4-3c6c-43bb-912b-7de054e6a744",
   "metadata": {},
   "source": [
    "<a data-flickr-embed=\"true\" href=\"https://www.flickr.com/photos/kirbyurner/54552958032/in/dateposted/\" title=\"Screen Shot 2025-05-29 at 8.09.25 AM\"><img src=\"https://live.staticflickr.com/65535/54552958032_28fc57950a_o.png\" width=\"1336\" height=\"1016\" alt=\"Screen Shot 2025-05-29 at 8.09.25 AM\"/></a><script async src=\"//embedr.flickr.com/assets/client-code.js\" charset=\"utf-8\"></script>"
   ]
  },
  {
   "cell_type": "markdown",
   "id": "116832ed-73f2-4af3-83f4-67f919e04163",
   "metadata": {},
   "source": [
    "In the above version of the algorithm, I've decided to keep the growing list in \"chronological order\" as well, meaning we're keeping a list that corresponds to what's also in the new `balldict` dictionary. The alternative semantics involve appending new balls to the next_layer list, and using `in` to make sure the candidate ball is not already `in` (as in *on*) the list.\n",
    "\n",
    "With these changes in place, we can build a demo around ball 15, which is the first \"nuclear ball\" to appear at the tetrahedron's center, 1/4 above its BRY base and 3/4 below its G apex. 1/4 is 1/3 of 3/4, so if the Origin to Green (OG) length is 4, then O to BRY base center is 4/3 or 1/3 of that number.\n",
    "\n",
    "<a data-flickr-embed=\"true\" href=\"https://www.flickr.com/photos/kirbyurner/54554176540/in/photostream/\" title=\"Screen Shot 2025-05-29 at 8.08.48 AM\"><img src=\"https://live.staticflickr.com/65535/54554176540_9aa1f567ee_o.png\" width=\"1560\" height=\"804\" alt=\"Screen Shot 2025-05-29 at 8.08.48 AM\"/></a><script async src=\"//embedr.flickr.com/assets/client-code.js\" charset=\"utf-8\"></script>"
   ]
  },
  {
   "cell_type": "markdown",
   "id": "025bb08f-59f7-4ab2-a74e-b5d72b478600",
   "metadata": {},
   "source": [
    "<a data-flickr-embed=\"true\" href=\"https://www.flickr.com/photos/kirbyurner/54554075488/in/dateposted/\" title=\"Screen Shot 2025-05-28 at 10.52.28 AM\"><img src=\"https://live.staticflickr.com/65535/54554075488_3e7b0b2bf5_o.png\" width=\"784\" height=\"718\" alt=\"Screen Shot 2025-05-28 at 10.52.28 AM\"/></a><script async src=\"//embedr.flickr.com/assets/client-code.js\" charset=\"utf-8\"></script>"
   ]
  },
  {
   "cell_type": "markdown",
   "id": "510f4010-4c63-430e-aee9-3a2aaf1936a1",
   "metadata": {},
   "source": [
    "![layers_gif](layers_gif.gif)"
   ]
  },
  {
   "cell_type": "code",
   "execution_count": null,
   "id": "66016440-c04c-4915-b424-007a449a3c63",
   "metadata": {},
   "outputs": [],
   "source": []
  }
 ],
 "metadata": {
  "kernelspec": {
   "display_name": "Python 3 (ipykernel)",
   "language": "python",
   "name": "python3"
  },
  "language_info": {
   "codemirror_mode": {
    "name": "ipython",
    "version": 3
   },
   "file_extension": ".py",
   "mimetype": "text/x-python",
   "name": "python",
   "nbconvert_exporter": "python",
   "pygments_lexer": "ipython3",
   "version": "3.11.3"
  }
 },
 "nbformat": 4,
 "nbformat_minor": 5
}
