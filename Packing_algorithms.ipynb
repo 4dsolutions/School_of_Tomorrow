{
 "cells": [
  {
   "cell_type": "markdown",
   "id": "6a1aece2-fa5f-4e12-a3c0-68d9f2e652f1",
   "metadata": {},
   "source": [
    "[School of Tomorrow (Home)](School_of_Tomorrow.ipynb)\n",
    "\n",
    "# Building the CCP:  Apex-Outward vs Center-Outward Packing\n",
    "\n",
    "When creating the CCP, you might wish to start with a nuclear ball and then pack successive layers of 12, 42, 92, 162... balls in [a cuboctahedral conformation](https://oeis.org/A005901). \n",
    "\n",
    "![ccp_grow](ccp_grow.gif)\n",
    "\n",
    "Computing successive layers may be accomplished by adding all twelve vectors to adjacent balls to each ball in a layer, but only keeping it if it's new i.e. not already in the current or previous layer. The Python *set* data structure enforces such uniqueness. Our set members will be all-integer (non-negative) quadray coordinates of the CCP candidates. Determining uniqueness is fast and accurate when we're not hashing with fuzzy floats.\n",
    "\n",
    "For more background, consider reading [Generating the FCC](https://github.com/4dsolutions/Python5/blob/master/Generating%20the%20FCC.ipynb) which contains a lot more information on the CCP, the source code below, and Quadrays more generally. \n",
    "\n",
    "[The Quadcraft Project](QuadCraft_Project.ipynb) may also be of interest in this regard.\n",
    "\n",
    "<br />\n",
    "\n",
    "<a data-flickr-embed=\"true\" href=\"https://www.flickr.com/photos/kirbyurner/54537724190/in/photostream/\" title=\"Screen Shot 2025-05-22 at 6.20.49 AM\"><img src=\"https://staging-jubilee.flickr.com/65535/54537724190_880d9aa62e.jpg\" width=\"500\" height=\"329\" alt=\"Screen Shot 2025-05-22 at 6.20.49 AM\"/></a><script async src=\"//embedr.flickr.com/assets/client-code.js\" charset=\"utf-8\"></script>\n",
    "\n",
    "<br/> "
   ]
  },
  {
   "cell_type": "markdown",
   "id": "444738d4-cbd7-430f-8f1a-61ce9c8ed2e0",
   "metadata": {},
   "source": [
    "Thanks to a collaboration involving more attention to color-coding, I give each of the four quadrays its own color, envisioning the caltrop like a tripod radio tower, with Blue one of the ground based tips, and considered the \"radio broadcast station\" and therefore the beginning of our packing.  \n",
    "\n",
    "The green tip defines the radio tower, from which emanate our IVM FM radio broadcasts.  Actually, a 1st layer starting with Blue is simply the remaining three (Green, Red, Yellow) and then onward, layer by layer, adding to a growing tetrahedron (four-eyes in the collaborator namespace) of successive triangular numbers of balls.\n",
    "\n",
    "![tripod_1](tripod_1.png)\n",
    "\n",
    "Note the pathways we'll consider, starting from any existing CCP ball. Using the BRYG (\"bridge\") caltrop for orientation, and starting from Blue, we will travel 2 hops in one color direction and 1 hop in the two others, neglecting any Blue component as that takes us in a direction we needn't consider. \n",
    "\n",
    "Three pathways to the right and up will be sufficient.  Think of these as only some of (three of) the 12 spokes we would use if doing center-outward cuboctahedral packing.  We're confining our expansion to a single tetrahedron.\n",
    "\n",
    "![vector add](vector_addition.gif)\n",
    "\n",
    "<a data-flickr-embed=\"true\" href=\"https://www.flickr.com/photos/kirbyurner/54537545484/in/dateposted/\" title=\"Screen Shot 2025-05-22 at 6.08.46 AM\"><img src=\"https://staging-jubilee.flickr.com/65535/54537545484_fc10f9b187.jpg\" width=\"500\" height=\"405\" alt=\"Screen Shot 2025-05-22 at 6.08.46 AM\"/></a><script async src=\"//embedr.flickr.com/assets/client-code.js\" charset=\"utf-8\"></script>\n",
    "\n",
    "<br />"
   ]
  },
  {
   "cell_type": "markdown",
   "id": "18e7e4bd-a674-46b5-afb4-2d1567649e2a",
   "metadata": {},
   "source": [
    "Start by drawing the color coded caltrop with the camera oriented a certain way such as to put the radio station (Blue) on the viewer's left.  Green is vertical and so on. Whereas the framework provides a default camera, this particular function will substitute its own camera further down in the output, overriding the default camera.\n",
    "\n",
    "<br />\n",
    "\n",
    "<a data-flickr-embed=\"true\" href=\"https://www.flickr.com/photos/kirbyurner/54537360706/in/photostream/\" title=\"Screen Shot 2025-05-22 at 6.09.48 AM\"><img src=\"https://staging-jubilee.flickr.com/65535/54537360706_d06779632c.jpg\" width=\"500\" height=\"317\" alt=\"Screen Shot 2025-05-22 at 6.09.48 AM\"/></a><script async src=\"//embedr.flickr.com/assets/client-code.js\" charset=\"utf-8\"></script>"
   ]
  },
  {
   "cell_type": "markdown",
   "id": "a642587b-2cdd-475b-924e-ab8d40d3dede",
   "metadata": {},
   "source": [
    "Check each of the three pathways from each ball in the current layer. There's no danger of revisiting a previous layer, but we will arrive at the same ball in the newly added layer multiple times, which is where the set data structure again becomes our friend. Keep unique balls only, stored as 4-tuple quadrays, and return this newly completed layer as a list, as we'll be adding lists to render multiple layers per our animated GIF frames.\n",
    "\n",
    "<br />\n",
    "\n",
    "<a data-flickr-embed=\"true\" href=\"https://www.flickr.com/photos/kirbyurner/54537545484/in/dateposted/\" title=\"Screen Shot 2025-05-22 at 6.08.46 AM\"><img src=\"https://staging-jubilee.flickr.com/65535/54537545484_fc10f9b187.jpg\" width=\"500\" height=\"405\" alt=\"Screen Shot 2025-05-22 at 6.08.46 AM\"/></a><script async src=\"//embedr.flickr.com/assets/client-code.js\" charset=\"utf-8\"></script>"
   ]
  },
  {
   "cell_type": "markdown",
   "id": "fdaf47d8-5b1a-4946-b9e1-c8be903f4d26",
   "metadata": {},
   "source": [
    "The source code used in this Notebook is in [quadcraft.py](quadcraft.py), which in turn has its dependencies. The graphics pipepline also uses [POV-Ray](https://povray.org)."
   ]
  },
  {
   "cell_type": "markdown",
   "id": "2db20b32-048b-40dd-bd34-4c971e7b5c8e",
   "metadata": {},
   "source": [
    "![tetrapack_wood.gif](tetrapack_wood.gif)"
   ]
  },
  {
   "cell_type": "markdown",
   "id": "23e29008-8b8a-49db-b37f-d33d985769a3",
   "metadata": {},
   "source": [
    "![tetrapack_marble.gif](tetrapack_marble.gif)"
   ]
  },
  {
   "cell_type": "markdown",
   "id": "d75b2d9b-4c97-4098-aeea-1b952a45c847",
   "metadata": {},
   "source": [
    "<a data-flickr-embed=\"true\" href=\"https://www.flickr.com/photos/kirbyurner/54537360731/in/photostream/\" title=\"Screen Shot 2025-05-22 at 6.03.16 AM\"><img src=\"https://live.staticflickr.com/65535/54537360731_52319157a9_o.png\" width=\"977\" height=\"533\" alt=\"Screen Shot 2025-05-22 at 6.03.16 AM\"/></a><script async src=\"//embedr.flickr.com/assets/client-code.js\" charset=\"utf-8\"></script>"
   ]
  },
  {
   "cell_type": "markdown",
   "id": "59b9c24f-cefb-4262-864a-60185636a2ae",
   "metadata": {},
   "source": [
    "### Consecutive Enumerated CCP Generation\n",
    "\n",
    "Apex-outward packing suggests a pretty easy and intuitive consecutive ball number scheme. The apex ball is 1, and then when adding layers, use the already established orientations to see it is a matter of rastering down a page, reading left to right, top to bottom. So looking at L1 (layer 1) from the Blue side, with Green up top, we see the triangle always starting in an extreme Green direction, the next level up as it were. Then we go left to right, row by row, building a trying n+1 wider i.e. one higher frequency.\n",
    "\n",
    "Given such a numbering strategy, we want our Python to enumerate for us. Questions arise as to how might we need to change the existing CCP apex-outward packing algorithm to accommodate sequential numbering, which means keeping track of every ball in a data structure, from which its number might be deduced. That could mean a list with the balls in order, however in the tweaked algorithm below we went with a dictionary, the ball's number the key, and the value the Quadray vector location of said ball."
   ]
  },
  {
   "cell_type": "markdown",
   "id": "870eb5d4-3c6c-43bb-912b-7de054e6a744",
   "metadata": {},
   "source": [
    "<a data-flickr-embed=\"true\" href=\"https://www.flickr.com/photos/kirbyurner/54552958032/in/dateposted/\" title=\"Screen Shot 2025-05-29 at 8.09.25 AM\"><img src=\"https://staging-jubilee.flickr.com/65535/54552958032_eef1f6861b.jpg\" width=\"500\" height=\"380\" alt=\"Screen Shot 2025-05-29 at 8.09.25 AM\"/></a><script async src=\"//embedr.flickr.com/assets/client-code.js\" charset=\"utf-8\"></script>"
   ]
  },
  {
   "cell_type": "markdown",
   "id": "116832ed-73f2-4af3-83f4-67f919e04163",
   "metadata": {},
   "source": [
    "In the above version of the algorithm, I've decided to keep the growing list in \"chronological order\" as well, meaning we're keeping a list that corresponds to what's also in the new `balldict` dictionary. The alternative semantics involve appending new balls to the next_layer list, and using `in` to make sure the candidate ball is not already `in` (as in *on*) the list.\n",
    "\n",
    "With these changes in place, we can build a demo around ball 15, which is the first \"nuclear ball\" to appear at the tetrahedron's center, 1/4 above its BRY base and 3/4 below its G apex. 1/4 is 1/3 of 3/4, so if the Origin to Green (OG) length is 4, then O to BRY base center is 4/3 or 1/3 of that number.\n",
    "\n",
    "<a data-flickr-embed=\"true\" href=\"https://www.flickr.com/photos/kirbyurner/54554176540/in/photostream/\" title=\"Screen Shot 2025-05-29 at 8.08.48 AM\"><img src=\"https://staging-jubilee.flickr.com/65535/54554176540_c262d095a1.jpg\" width=\"500\" height=\"258\" alt=\"Screen Shot 2025-05-29 at 8.08.48 AM\"/></a><script async src=\"//embedr.flickr.com/assets/client-code.js\" charset=\"utf-8\"></script>"
   ]
  },
  {
   "cell_type": "markdown",
   "id": "025bb08f-59f7-4ab2-a74e-b5d72b478600",
   "metadata": {},
   "source": [
    "<a data-flickr-embed=\"true\" href=\"https://www.flickr.com/photos/kirbyurner/54554075488/in/dateposted/\" title=\"Screen Shot 2025-05-28 at 10.52.28 AM\"><img src=\"https://live.staticflickr.com/65535/54554075488_3e7b0b2bf5_o.png\" width=\"784\" height=\"718\" alt=\"Screen Shot 2025-05-28 at 10.52.28 AM\"/></a><script async src=\"//embedr.flickr.com/assets/client-code.js\" charset=\"utf-8\"></script>"
   ]
  },
  {
   "cell_type": "markdown",
   "id": "510f4010-4c63-430e-aee9-3a2aaf1936a1",
   "metadata": {},
   "source": [
    "![layers_gif](layers_gif.gif)"
   ]
  },
  {
   "cell_type": "markdown",
   "id": "42d9eb6a-a1db-420c-9b8f-89447140bd4e",
   "metadata": {},
   "source": [
    "## OctaPacking versus TetraPacking\n",
    "\n",
    "We're not done with our investigation until we look at another pattern natural to the IVM (CCP), that of the growing half-octahedron, or \"Egyptian Pyramid\" (EP) with a square base. Of course Egyptionologists often argue a true EP is anything but equi-edged, involving Phi (?) and so on. Many find these to be dubious claims. However, rather than wading into this debate, lets just switch attention to the \"stacking with oranges\" exhibit prevalent in textbooks.\n",
    "\n",
    "As the cuboctahedral ball packing conformation makes clear (1, 12, 42, 92...), what we might call omnidirectional packing from a nucleus versus treating the initial ball as an apex, is that the CCP is buildable on a square-based foundation, where balls create only one set of valleys for the next layer.  The triangle-foundation leaves a choice as it presents twice as many valleys as we might need, two sets of valleys, call them B and C. The CCP goes ABCABC... whereas any number of permutations are possible, all giving \"Barlow Packings\" to use a term coined by J.H. Conway in correspondence with myself (and in other places I presume).\n",
    "\n",
    "By color-coding all 12 balls around the nuclear ball, I was able to pick out a set of four in a square arrangement that I could treat as a next layer (L1) after L0, the nuclear ball. The vectors to Yellow, Magenta, Grey, and Red, from a nuclear Orange, would be my pathways to every layer after that. Given any layer L(n), compute L(n+1) by trying all four pathways on each ball but in such a way as to disallow duplication. Only new balls will be kept, and those will be the balls of the next layer.\n",
    "\n",
    "<a data-flickr-embed=\"true\" href=\"https://www.flickr.com/photos/kirbyurner/54658904231/in/dateposted/\" title=\"Twelve Around One\"><img src=\"https://staging-jubilee.flickr.com/65535/54658904231_bcc6d65e5a.jpg\" width=\"500\" height=\"375\" alt=\"Twelve Around One\"/></a><script async src=\"//embedr.flickr.com/assets/client-code.js\" charset=\"utf-8\"></script>\n",
    "\n",
    "<a data-flickr-embed=\"true\" href=\"https://www.flickr.com/photos/kirbyurner/54659132159/in/dateposted/\" title=\"Screen Shot 2025-07-15 at 5.45.24 PM\"><img src=\"https://staging-jubilee.flickr.com/65535/54659132159_d2711fed1b.jpg\" width=\"421\" height=\"500\" alt=\"Screen Shot 2025-07-15 at 5.45.24 PM\"/></a><script async src=\"//embedr.flickr.com/assets/client-code.js\" charset=\"utf-8\"></script>"
   ]
  },
  {
   "cell_type": "markdown",
   "id": "94d5862c-e39d-48c3-b3e4-2f6ec36907c0",
   "metadata": {},
   "source": [
    "Counting cumulatively as we add next layers (1, 1+4, 1+4+9, 1+4+9+16,...), this sequence is often called the [Square Pyramidal Numbers](https://oeis.org/A000330). "
   ]
  },
  {
   "cell_type": "markdown",
   "id": "e67ca1be-db00-45db-b2e4-235dd96cd6fb",
   "metadata": {},
   "source": [
    "![octa_pack.gif](octa_pack.gif)\n",
    "\n",
    "![octa_rd.gif](octa_rd.gif)"
   ]
  },
  {
   "cell_type": "markdown",
   "id": "3d1a92b4-98e1-4aa1-9405-d444eba07e4d",
   "metadata": {},
   "source": [
    "Clay Ball Installations anchoring the BRYG concept. Nuclear ball is Orange."
   ]
  },
  {
   "cell_type": "markdown",
   "id": "4e814922-8488-4587-bbf3-9bf364a0b9c8",
   "metadata": {},
   "source": [
    "<a data-flickr-embed=\"true\" href=\"https://www.flickr.com/photos/kirbyurner/54596523569/in/dateposted/\" title=\"BRYG Landing Site\"><img src=\"https://live.staticflickr.com/65535/54596523569_a2ff3c9443.jpg\" width=\"500\" height=\"500\" alt=\"BRYG Landing Site\"/></a><script async src=\"//embedr.flickr.com/assets/client-code.js\" charset=\"utf-8\"></script>\n",
    "<br/> \n",
    "3-frequency\n",
    "\n",
    "<a data-flickr-embed=\"true\" href=\"https://www.flickr.com/photos/kirbyurner/54600145506/in/dateposted/\" title=\"Blue Bias\"><img src=\"https://live.staticflickr.com/65535/54600145506_ef3aa65a9f.jpg\" width=\"500\" height=\"500\" alt=\"Blue Bias\"/></a><script async src=\"//embedr.flickr.com/assets/client-code.js\" charset=\"utf-8\"></script>\n",
    "<br/> \n",
    "4-frequency"
   ]
  }
 ],
 "metadata": {
  "kernelspec": {
   "display_name": "Python 3 (ipykernel)",
   "language": "python",
   "name": "python3"
  },
  "language_info": {
   "codemirror_mode": {
    "name": "ipython",
    "version": 3
   },
   "file_extension": ".py",
   "mimetype": "text/x-python",
   "name": "python",
   "nbconvert_exporter": "python",
   "pygments_lexer": "ipython3",
   "version": "3.9.15"
  }
 },
 "nbformat": 4,
 "nbformat_minor": 5
}
