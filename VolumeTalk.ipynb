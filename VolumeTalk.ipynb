{
 "cells": [
  {
   "cell_type": "markdown",
   "id": "a58eb3e3-d2c7-44a0-bdca-6916a0334d51",
   "metadata": {},
   "source": [
    "# The Formulae\n",
    "\n",
    "Let's start with [Piero della Francesca's Tetrahedron Formula](https://www.mathpages.com/home/kmath424/kmath424.htm) and then move on to Gerald de Jong's.  \n",
    "\n",
    "Both will be coded in Python, as PdF and GdJ respectively.  Both will obey the convention that edge lengths be lowercase a..f while those same lengths to the 2nd power will be A..F.\n",
    "\n",
    "Then there's the matter of labeling a topological tetrahedron.  A \"topological tetrahedron\" is \"any tetrahedron\" (right, regular, irregular...) meaning all we know is it has six edges converging to four vertexes. \n",
    "\n",
    "When inputting those six edge lengths, as data, into a computer program, the order in which they're entered has to matter, as the underlying formulae need to match each edge unambiguously with a corresponding letter.  Just as in Algebra.\n",
    "\n",
    "\n",
    "\n",
    "<a data-flickr-embed=\"true\" href=\"https://www.flickr.com/photos/kirbyurner/51705683042/in/dateposted-public/\" title=\"tetra_labeling\"><img src=\"https://live.staticflickr.com/65535/51705683042_53abfeb77e_o.jpg\" width=\"368\" height=\"178\" alt=\"tetra_labeling\"></a><script async src=\"//embedr.flickr.com/assets/client-code.js\" charset=\"utf-8\"></script>\n",
    "\n",
    "Six edges do not always constitute a single way to build a tetrahedron.  You may get a left and right handed version for example, of equivalent volume."
   ]
  },
  {
   "cell_type": "code",
   "execution_count": 1,
   "id": "cc4e8d4c-1601-4a35-91a9-d45483bed280",
   "metadata": {},
   "outputs": [],
   "source": [
    "import math\n",
    "\n",
    "def PdF(a, b, c, d, e, f):\n",
    "    A,B,C,D,E,F = [x**2 for x in (a,b,c,d,e,f)] # 2nd power us\n",
    "\n",
    "    comp_chunk =  ((A * F) * (-A + B + C + D + E - F)\n",
    "                 + (B * E) * ( A - B + C + D - E + F)\n",
    "                 + (C * D) * ( A + B - C - D + E + F)\n",
    "                 - (A + F) * (B + E) * (C + D)/2\n",
    "                 - (A - F) * (B - E) * (C - D)/2 )\n",
    "    \n",
    "    return math.sqrt(comp_chunk/144)"
   ]
  },
  {
   "cell_type": "code",
   "execution_count": 2,
   "id": "876771ac-4654-49c3-b16d-5f436c665489",
   "metadata": {},
   "outputs": [
    {
     "data": {
      "text/plain": [
       "0.11785113019775792"
      ]
     },
     "execution_count": 2,
     "metadata": {},
     "output_type": "execute_result"
    }
   ],
   "source": [
    "PdF(1,1,1,1,1,1)"
   ]
  },
  {
   "cell_type": "code",
   "execution_count": 3,
   "id": "122137d8-dfb9-40a5-b8fe-f40106961fa1",
   "metadata": {},
   "outputs": [],
   "source": [
    "def GdJ(a, b, c, d, e, f):\n",
    "    A,B,C,D,E,F = [x**2 for x in (a,b,c,d,e,f)] # 2nd power us\n",
    "\n",
    "    _open   = sum((A * B * E, A * B * F, A * C * D,  \n",
    "                   A * C * E, A * D * E, A * E * F,\n",
    "                   B * C * D, B * C * F, B * D * F, \n",
    "                   B * E * F, C * D * E, C * D * F))\n",
    "    \n",
    "    _closed = sum((A * B * D, \n",
    "                   A * C * F, \n",
    "                   B * C * E, \n",
    "                   D * E * F))\n",
    "\n",
    "    _oppo   = sum((A * E * (A + E),\n",
    "                   B * F * (B + F),\n",
    "                   C * D * (C + D)))\n",
    "    \n",
    "    return math.sqrt((_open - _closed - _oppo)/2)"
   ]
  },
  {
   "cell_type": "code",
   "execution_count": 4,
   "id": "c8fb9f21-0c79-4d98-bfc0-8f60eec27d5a",
   "metadata": {},
   "outputs": [
    {
     "data": {
      "text/plain": [
       "1.0"
      ]
     },
     "execution_count": 4,
     "metadata": {},
     "output_type": "execute_result"
    }
   ],
   "source": [
    "GdJ(1,1,1,1,1,1)"
   ]
  },
  {
   "cell_type": "markdown",
   "id": "1c6d96d9-cf4d-4e29-a875-be5b916d316f",
   "metadata": {},
   "source": [
    "### Syn3\n",
    "\n",
    "How could these be so different?  The GdJ returns a volume in \"tetravolumes\" instead of in terms of unit cubes.  In addition, it's unit edges are twice as long, being in sphere diameters versus radii.  \n",
    "\n",
    "\"What spheres?\" you ask?  \n",
    "\n",
    "<a data-flickr-embed=\"true\" href=\"https://www.flickr.com/photos/kirbyurner/49962483976/in/photolist-2myMppk-fwsE89-2m29ojG-2j8odSY-2j81MPw-26g2gG9-27mJXsZ-MawKvV-rg5pC9-r4ZbJn-dZJiB8-aYpJ9K-66Ya6T-5vNAD3\" title=\"Blender [C__Users_Kirby_Documents_C6XTY_ivm_fm.blend] 6_1_2020 11_47_31 PM\"><img src=\"https://live.staticflickr.com/65535/49962483976_a99348b4b3.jpg\" width=\"500\" height=\"304\" alt=\"Blender [C__Users_Kirby_Documents_C6XTY_ivm_fm.blend] 6_1_2020 11_47_31 PM\"></a><script async src=\"//embedr.flickr.com/assets/client-code.js\" charset=\"utf-8\"></script>\n",
    "\n",
    "The ones packing together to fill space in a pattern we call FCC or CCP, and which yields a skeletal scaffolding we call the IVM.  The IVM consists of tetrahedral and octahedral voids, whereas the XYZ consists of only cubes.\n",
    "\n",
    "<a data-flickr-embed=\"true\" href=\"https://www.flickr.com/photos/kirbyurner/5436831548/in/photolist-wWKQmk-bdBsk4-a3doND-9mY873-9hrbAY-8awzCS-7Fw23Z-7dcs4X-6BY6va-6oqjem-6i5oRw-5SXuYP-5PjRWV-5AA1JF-5xe2b6-5sHnxN-5rFY8v-2yoZR2\" title=\"Bell&#x27;s Octet Truss\"><img src=\"https://live.staticflickr.com/4112/5436831548_feefdbb9a0.jpg\" width=\"500\" height=\"387\" alt=\"Bell&#x27;s Octet Truss\"></a><script async src=\"//embedr.flickr.com/assets/client-code.js\" charset=\"utf-8\"></script>\n",
    "\n",
    "<a data-flickr-embed=\"true\" href=\"https://www.flickr.com/photos/kirbyurner/3475021600/in/photolist-wWKQmk-bdBsk4-a3doND-9mY873-9hrbAY-8awzCS-7Fw23Z-7dcs4X-6BY6va-6oqjem-6i5oRw-5SXuYP-5PjRWV-5AA1JF-5xe2b6-5sHnxN-5rFY8v-2yoZR2\" title=\"Bell System\"><img src=\"https://live.staticflickr.com/3354/3475021600_6675a79100_w.jpg\" width=\"400\" height=\"300\" alt=\"Bell System\"></a><script async src=\"//embedr.flickr.com/assets/client-code.js\" charset=\"utf-8\"></script>\n",
    "\n",
    "<a data-flickr-embed=\"true\" href=\"https://www.flickr.com/photos/kirbyurner/5436220385/in/dateposted-public/\" title=\"Octet Truss\"><img src=\"https://live.staticflickr.com/4101/5436220385_b1b22a89c5.jpg\" width=\"500\" height=\"371\" alt=\"Octet Truss\"></a><script async src=\"//embedr.flickr.com/assets/client-code.js\" charset=\"utf-8\"></script>"
   ]
  },
  {
   "cell_type": "code",
   "execution_count": 5,
   "id": "dc786126-14ef-48df-8bad-e188691e265c",
   "metadata": {},
   "outputs": [
    {
     "data": {
      "text/plain": [
       "0.9428090415820634"
      ]
     },
     "execution_count": 5,
     "metadata": {},
     "output_type": "execute_result"
    }
   ],
   "source": [
    "PdF(2,2,2,2,2,2)"
   ]
  },
  {
   "cell_type": "code",
   "execution_count": 6,
   "id": "4537c315-b27e-4e6c-9e4f-de2b6ff418aa",
   "metadata": {},
   "outputs": [],
   "source": [
    "Syn3 = GdJ(1,1,1,1,1,1)/PdF(2,2,2,2,2,2)"
   ]
  },
  {
   "cell_type": "code",
   "execution_count": 7,
   "id": "d23a8d75-e255-4c2d-a04b-99a4f01d3ee9",
   "metadata": {},
   "outputs": [
    {
     "data": {
      "text/plain": [
       "1.0606601717798212"
      ]
     },
     "execution_count": 7,
     "metadata": {},
     "output_type": "execute_result"
    }
   ],
   "source": [
    "Syn3 # Synergetics Constant"
   ]
  },
  {
   "cell_type": "markdown",
   "id": "40a90fcb-0287-4680-8e76-27b0259a71fd",
   "metadata": {},
   "source": [
    "The PdF volume * Syn3 should give the GdJ volume.  The latter is a little bigger number (about 6%) because even after you double the XYZ edges, the unit volume tetrahedron of edges D is still less than the unit volume cube of edges R.  \n",
    "\n",
    "\"How can unit not equal unit?\" you ask?\n",
    "\n",
    "They're each unit in two respective paradigms, the IVM and XYZ paradigms respectively.\n",
    "\n",
    "Below:  a tetrahedron unit next to a cube unit.  The former has edges D, the latter has edges R.  D = 2R.\n",
    "\n",
    "<a data-flickr-embed=\"true\" href=\"https://www.flickr.com/photos/kirbyurner/4903290928/in/photolist-2mgJNog-EPg3Ag-8ti2xi-8thDyL-2muQr99-2msj6xS-2msgzQd-2m44aqr-22yg9uX-FMLvQQ-NzckH4-CMbRqK-dMGmVw-agu9Xx-8xp2z5-8vatB3-8oX85J-6Wcvue-5QyKim\" title=\"Units of Volume\"><img src=\"https://live.staticflickr.com/4136/4903290928_f185b32368.jpg\" width=\"500\" height=\"375\" alt=\"Units of Volume\"></a><script async src=\"//embedr.flickr.com/assets/client-code.js\" charset=\"utf-8\"></script>\n"
   ]
  },
  {
   "cell_type": "code",
   "execution_count": 8,
   "id": "e6f65fd0-3371-4525-ba39-fb9b5ffb9f0e",
   "metadata": {},
   "outputs": [
    {
     "data": {
      "text/plain": [
       "0.9999999999999999"
      ]
     },
     "execution_count": 8,
     "metadata": {},
     "output_type": "execute_result"
    }
   ],
   "source": [
    "PdF(2,2,2,2,2,2) * Syn3  # comes close enough -- floating points are limited precision"
   ]
  },
  {
   "cell_type": "markdown",
   "id": "37ebf6cd-fa7e-46bc-a6cb-66a398016dde",
   "metadata": {},
   "source": [
    "The TetraBook with its page vertical, as all edges 2R or 1D *except* for the \"hypotenuse\" which is either 2nd-root of 6 (in R units) or (2nd-root of 6)/2 if in D units.  The volume of this right tetrahedron matches that of the unit cube.  The GdJ formula, on the other hand, uses the volume that results when the page slats to make all edges equal (one one side or the other).\n",
    "\n",
    "<a data-flickr-embed=\"true\" href=\"https://www.flickr.com/photos/kirbyurner/9530922237/in/album-72157624750749042/\" title=\"Regular and Right Tetrahedrons Compared\"><img src=\"https://live.staticflickr.com/3790/9530922237_dcc672a68a.jpg\" width=\"500\" height=\"375\" alt=\"Regular and Right Tetrahedrons Compared\"></a><script async src=\"//embedr.flickr.com/assets/client-code.js\" charset=\"utf-8\"></script>"
   ]
  },
  {
   "cell_type": "code",
   "execution_count": 9,
   "id": "fdc7d08d-c43b-4b06-a415-d9b8e721fbd8",
   "metadata": {},
   "outputs": [
    {
     "data": {
      "text/plain": [
       "1.0"
      ]
     },
     "execution_count": 9,
     "metadata": {},
     "output_type": "execute_result"
    }
   ],
   "source": [
    "xyz_volume = PdF(2,2,2,2,2,math.sqrt(6))  # cubic volume:  unit\n",
    "xyz_volume"
   ]
  },
  {
   "cell_type": "code",
   "execution_count": 10,
   "id": "fd93c81f-4437-46f4-9603-546c50be95f4",
   "metadata": {},
   "outputs": [
    {
     "data": {
      "text/plain": [
       "1.0606601717798212"
      ]
     },
     "execution_count": 10,
     "metadata": {},
     "output_type": "execute_result"
    }
   ],
   "source": [
    "ivm_volume = GdJ(1,1,1,1,1,math.sqrt(6)/2)  # IVM volume:  > unit\n",
    "ivm_volume"
   ]
  },
  {
   "cell_type": "markdown",
   "id": "1ed4a337-583b-40b1-888d-3898910078ae",
   "metadata": {},
   "source": [
    "### The A Module"
   ]
  },
  {
   "cell_type": "markdown",
   "id": "08c3635f-3172-47f8-8a33-2974a2a24e7d",
   "metadata": {},
   "source": [
    "<a data-flickr-embed=\"true\" href=\"https://www.flickr.com/photos/kirbyurner/4073112337/in/photolist-25JufgG-NYVxaA-ujipN3-f75zUP-8ryEix-8ryECF-7pQH9f-7pLP7a-7mcmne-7cVLoM-5zY9gA-5zTRjp-7k4Eid-7jZLe2-7jZLhp-7k4Em5-7k4Ejf\" title=\"A &amp; B Modules\"><img src=\"https://live.staticflickr.com/3508/4073112337_4d0bb5b0b4_o.gif\" width=\"320\" height=\"240\" alt=\"A &amp; B Modules\"></a><script async src=\"//embedr.flickr.com/assets/client-code.js\" charset=\"utf-8\"></script>\n",
    "\n",
    "<a data-flickr-embed=\"true\" href=\"https://www.flickr.com/photos/kirbyurner/4723083407/in/photolist-2mK3nhE-2mFYn7K-2myMppk-2m29ok8-2jxGLDx-KjMqQP-EhaxK2-Bpf1cD-8P2cs1-8cn39x-7cVeMN-JotMo\" title=\"Quadray Coordinates\"><img src=\"https://live.staticflickr.com/1213/4723083407_2ccf6bc229_w.jpg\" width=\"400\" height=\"350\" alt=\"Quadray Coordinates\"></a><script async src=\"//embedr.flickr.com/assets/client-code.js\" charset=\"utf-8\"></script>"
   ]
  },
  {
   "cell_type": "code",
   "execution_count": 11,
   "id": "457de5cf-bb37-47c4-bd81-6a2b04531dff",
   "metadata": {},
   "outputs": [],
   "source": [
    "from qrays import Qvector"
   ]
  },
  {
   "cell_type": "markdown",
   "id": "ed17f881-a000-42ff-b3e7-3abc648c3ada",
   "metadata": {},
   "source": [
    "You may be unfamiliar with Qvectors.  Think of them as ordinary XYZ vector presets, representing the four directions from the origin, defining four quadrants (instead of eight octants as in XYZ).  \n",
    "\n",
    "The edges of this tetrahedron are preset to 1D or 2R.  This makes it easy to express the edges of the A Module as vector sums.  The four basis vectors are not unit length in other words.\n",
    "\n",
    "We call them \"basis vectors\" because the operation of rotation (which includes negation) is unnecessary to reach all points in space by linear combinations of the positively scaled basis vectors.  \n",
    "\n",
    "For any point P, at least one basis vector will always be zero, the one pointing away from the quadrant that P is in.  If P is on a plane or \"vane\" between two rays, then only two non-zero Qvectors will be needed e.g. (0, b, 0, d) where a, d are positive scalars.\n",
    "\n",
    "<img src=\"http://www.rwgrayprojects.com/synergetics/s09/figs/f1301.gif\" width=\"332\" height=\"412\" />"
   ]
  },
  {
   "cell_type": "code",
   "execution_count": 12,
   "id": "777ad037-2dc0-432e-aa71-2abebbf56805",
   "metadata": {},
   "outputs": [],
   "source": [
    "a = Qvector((1,0,0,0))\n",
    "b = Qvector((0,1,0,0))\n",
    "c = Qvector((0,0,1,0))\n",
    "d = Qvector((0,0,0,1))\n",
    "\n",
    "# vertexes\n",
    "amod_E  = Qvector((0,0,0,0))  # origin = center of home base tetrahedron\n",
    "amod_C  = b                   # to vertex (C), choose Qvector b\n",
    "amod_D  = (b + c)/2           # to mid-edge D of CC on tetra base \n",
    "amod_F  = (b + c + d)/3       # to face-center of base F\n",
    "\n",
    "# apex E to base F, C, D\n",
    "amod_EF = amod_F\n",
    "amod_CE = b\n",
    "amod_DE = amod_D\n",
    "\n",
    "# around the base, C, D, E\n",
    "amod_CF = amod_C - amod_F\n",
    "amod_CD = amod_C - amod_D\n",
    "amod_DF = amod_D - amod_F"
   ]
  },
  {
   "cell_type": "code",
   "execution_count": 13,
   "id": "2d0d628a-31e0-463e-9a7a-d683174e3246",
   "metadata": {},
   "outputs": [],
   "source": [
    "a,b,c,d,e,f = [v.length() for v in (amod_EF, amod_CE, amod_DE, amod_CF, amod_CD, amod_DF)]"
   ]
  },
  {
   "cell_type": "code",
   "execution_count": 14,
   "id": "a477c50a-4da4-4ef2-b508-8bdc906293bb",
   "metadata": {},
   "outputs": [
    {
     "name": "stdout",
     "output_type": "stream",
     "text": [
      "amod_EF = 0.2041241452319315\n",
      "amod_CE = 0.6123724356957945\n",
      "amod_DE = 0.3535533905932738\n",
      "amod_CF = 0.5773502691896258\n",
      "amod_CD = 0.5\n",
      "amod_DF = 0.2886751345948129\n"
     ]
    }
   ],
   "source": [
    "print(f\"amod_EF = {a}\",\n",
    "f\"amod_CE = {b}\",\n",
    "f\"amod_DE = {c}\",\n",
    "f\"amod_CF = {d}\",\n",
    "f\"amod_CD = {e}\",\n",
    "f\"amod_DF = {f}\", sep=\"\\n\")"
   ]
  },
  {
   "cell_type": "markdown",
   "id": "a4a3432c-054c-4a8d-814e-49bc53e0ea85",
   "metadata": {},
   "source": [
    "<img src=\"http://www.rwgrayprojects.com/synergetics/s09/figs/f1301.gif\" width=\"332\" height=\"412\" />"
   ]
  },
  {
   "cell_type": "code",
   "execution_count": 15,
   "id": "a188ae1a-c1e5-465b-a711-b9b763a44b8d",
   "metadata": {},
   "outputs": [
    {
     "data": {
      "text/plain": [
       "0.04166666666666664"
      ]
     },
     "execution_count": 15,
     "metadata": {},
     "output_type": "execute_result"
    }
   ],
   "source": [
    "GdJ(a,b,c,d,e,f)  # 1/24th, the A mod's Tetravolume"
   ]
  },
  {
   "cell_type": "code",
   "execution_count": 16,
   "id": "6fa23c7d-d184-4f65-9389-0519d8708290",
   "metadata": {},
   "outputs": [
    {
     "name": "stdout",
     "output_type": "stream",
     "text": [
      "Sorry, not a legal tetrahedron\n"
     ]
    }
   ],
   "source": [
    "try:\n",
    "    volume = PdF(a*2,b*2,c*2,d*2,e*2,f*2) * Syn3  # should't this give the same answer?\n",
    "except:\n",
    "    print(\"Sorry, not a legal tetrahedron\")"
   ]
  },
  {
   "cell_type": "markdown",
   "id": "66bd4e2f-45c2-4c24-9e66-1f29403e9e68",
   "metadata": {},
   "source": [
    "The article linked above, at mathpages, uses the topological tetrahedron on the left below, for its input order to the PdF formula.  \n",
    "\n",
    "The GdJ formula, on the other hand, labels a, b, c from the same apex, going clockwise or counter-clockwise, then picks the opposite base edges in the same order (clockwise or counter-clockwise).\n",
    "\n",
    "If e, f were swapped on the tetrahedron at right, we would have the GdJ labeling scheme.\n",
    "\n",
    "We're going to need an adapter.\n",
    "\n",
    "\n",
    "<a data-flickr-embed=\"true\" href=\"https://www.flickr.com/photos/kirbyurner/51705683042/in/dateposted-public/\" title=\"tetra_labeling\"><img src=\"https://live.staticflickr.com/65535/51705683042_53abfeb77e_o.jpg\" width=\"368\" height=\"178\" alt=\"tetra_labeling\"></a><script async src=\"//embedr.flickr.com/assets/client-code.js\" charset=\"utf-8\"></script>"
   ]
  },
  {
   "cell_type": "code",
   "execution_count": 17,
   "id": "dfee8ec4-223e-4ad3-a412-560a91986c4c",
   "metadata": {},
   "outputs": [],
   "source": [
    "def adapter(a, e, c, d, f, b):\n",
    "    return a, b, c, d, e, f"
   ]
  },
  {
   "cell_type": "code",
   "execution_count": 18,
   "id": "62351b8c-73ad-4b3d-8f70-9756420f85ae",
   "metadata": {},
   "outputs": [],
   "source": [
    "try:\n",
    "    volume = PdF(*adapter(a*2,b*2,c*2,d*2,e*2,f*2)) * Syn3  # should't this give the same answer?\n",
    "except:\n",
    "    print(\"Sorry, not a legal tetrahedron\")"
   ]
  },
  {
   "cell_type": "markdown",
   "id": "5ec12d03-d8d2-4520-9c95-e6ad19179d5f",
   "metadata": {},
   "source": [
    "This time it worked!"
   ]
  },
  {
   "cell_type": "code",
   "execution_count": 19,
   "id": "382720df-8462-467d-9749-f5f394324f34",
   "metadata": {},
   "outputs": [
    {
     "data": {
      "text/plain": [
       "0.04166666666666664"
      ]
     },
     "execution_count": 19,
     "metadata": {},
     "output_type": "execute_result"
    }
   ],
   "source": [
    "volume"
   ]
  },
  {
   "cell_type": "markdown",
   "id": "cd08f23e-cf17-4c98-b2ae-c1a97724504c",
   "metadata": {},
   "source": [
    "Let's modify the PdF function to output exactly the same result as the GdF function.  We'll call it PdF_ivm."
   ]
  },
  {
   "cell_type": "code",
   "execution_count": 25,
   "id": "ac55a972-fe72-4471-81cf-a444badf4c17",
   "metadata": {},
   "outputs": [],
   "source": [
    "def PdF_ivm(a,b,c,d,e,f):\n",
    "    \"\"\"\n",
    "    tweeked to output the same answer as the\n",
    "    GdJ function, by incorporating the XYZ->IVM\n",
    "    transformation\n",
    "    \"\"\"\n",
    "    \n",
    "    def adapter(a, e, c, d, f, b):\n",
    "        \"double & swap input's to match GdJ order\"\n",
    "        return a, b, c, d, e, f\n",
    "\n",
    "    A,B,C,D,E,F = [x**2 for x in \n",
    "                   adapter(2*a,2*b,2*c,2*d,2*e,2*f)] # double 'n 2nd power\n",
    "\n",
    "    comp_chunk =  ((A * F) * (-A + B + C + D + E - F)\n",
    "                 + (B * E) * ( A - B + C + D - E + F)\n",
    "                 + (C * D) * ( A + B - C - D + E + F)\n",
    "                 - (A + F) * (B + E) * (C + D)/2\n",
    "                 - (A - F) * (B - E) * (C - D)/2 )\n",
    "    \n",
    "    return math.sqrt(2 * comp_chunk) / 16"
   ]
  },
  {
   "cell_type": "code",
   "execution_count": 21,
   "id": "da6209dd-2ef7-4ad8-ba0b-7a467dd29033",
   "metadata": {},
   "outputs": [
    {
     "data": {
      "text/plain": [
       "1.0"
      ]
     },
     "execution_count": 21,
     "metadata": {},
     "output_type": "execute_result"
    }
   ],
   "source": [
    "PdF_ivm(1,1,1,1,1,1)"
   ]
  },
  {
   "cell_type": "code",
   "execution_count": 22,
   "id": "cd3bd043-9404-4d31-ba5a-e80ed6fb0666",
   "metadata": {},
   "outputs": [
    {
     "data": {
      "text/plain": [
       "1.0606601717798212"
      ]
     },
     "execution_count": 22,
     "metadata": {},
     "output_type": "execute_result"
    }
   ],
   "source": [
    "PdF_ivm(1,1,1,1,1,math.sqrt(6)/2)"
   ]
  },
  {
   "cell_type": "code",
   "execution_count": 23,
   "id": "e4677540-564b-4b8b-9459-bb34aa8a3a84",
   "metadata": {},
   "outputs": [
    {
     "name": "stdout",
     "output_type": "stream",
     "text": [
      "amod_EF = 0.2041241452319315\n",
      "amod_CE = 0.6123724356957945\n",
      "amod_DE = 0.3535533905932738\n",
      "amod_CF = 0.5773502691896258\n",
      "amod_CD = 0.5\n",
      "amod_DF = 0.2886751345948129\n"
     ]
    }
   ],
   "source": [
    "print(f\"amod_EF = {a}\",\n",
    "f\"amod_CE = {b}\",\n",
    "f\"amod_DE = {c}\",\n",
    "f\"amod_CF = {d}\",\n",
    "f\"amod_CD = {e}\",\n",
    "f\"amod_DF = {f}\", sep=\"\\n\")"
   ]
  },
  {
   "cell_type": "code",
   "execution_count": 24,
   "id": "66cbd8aa-e525-49a6-8fcf-dcb0238f7009",
   "metadata": {},
   "outputs": [
    {
     "data": {
      "text/plain": [
       "0.04166666666666664"
      ]
     },
     "execution_count": 24,
     "metadata": {},
     "output_type": "execute_result"
    }
   ],
   "source": [
    "PdF_ivm(a,b,c,d,e,f)"
   ]
  }
 ],
 "metadata": {
  "kernelspec": {
   "display_name": "Python 3 (ipykernel)",
   "language": "python",
   "name": "python3"
  },
  "language_info": {
   "codemirror_mode": {
    "name": "ipython",
    "version": 3
   },
   "file_extension": ".py",
   "mimetype": "text/x-python",
   "name": "python",
   "nbconvert_exporter": "python",
   "pygments_lexer": "ipython3",
   "version": "3.7.9"
  }
 },
 "nbformat": 4,
 "nbformat_minor": 5
}
