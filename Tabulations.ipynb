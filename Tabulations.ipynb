{
 "cells": [
  {
   "cell_type": "markdown",
   "id": "30a666f3-537b-4e11-8d8e-6a84a1a0742e",
   "metadata": {},
   "source": [
    "# TABULATING THE CONCENTRIC HIERARCHY\n",
    "\n",
    "Since the Python ecosystem provides some excellent tabulation tools, so why not take advantage and build a pandas DataFrame showing alternative coordinate system treatments of the same vertexes (vertices) of a set of nested polyhedrons? \n",
    "\n",
    "But then vertices are not sufficent to define a polyhedron: we need faces, from which edges might be distilled. The faces to edges distallation process is easily implemented by algorithm.\n",
    "\n",
    "These face graphs might be tabulated in matrix format, with the same vertexes down the side and across the top. To every row and column label there corresponds a vector tail orginating at the origin, the center of our concentric hiearechy."
   ]
  },
  {
   "cell_type": "code",
   "execution_count": 1,
   "id": "6aac31de-ccff-4bb9-b872-bdf43a21eda1",
   "metadata": {},
   "outputs": [
    {
     "data": {
      "text/plain": [
       "'3.9.15 (main, Nov  4 2022, 11:11:31) \\n[Clang 12.0.0 ]'"
      ]
     },
     "execution_count": 1,
     "metadata": {},
     "output_type": "execute_result"
    }
   ],
   "source": [
    "import sys\n",
    "sys.version"
   ]
  },
  {
   "cell_type": "code",
   "execution_count": 2,
   "id": "d59ce0c9-fbd6-4f19-a062-b19d2583b860",
   "metadata": {},
   "outputs": [],
   "source": [
    "import tetravolume as tv\n",
    "import flextegrity as fx\n",
    "import pandas as pd\n",
    "import numpy as np\n",
    "from importlib import reload\n",
    "import sympy"
   ]
  },
  {
   "cell_type": "code",
   "execution_count": 3,
   "id": "77989f96-2c71-48a7-938a-99f9d697b9e2",
   "metadata": {},
   "outputs": [
    {
     "data": {
      "text/plain": [
       "flextegrity.Tetrahedron"
      ]
     },
     "execution_count": 3,
     "metadata": {},
     "output_type": "execute_result"
    }
   ],
   "source": [
    "fx.Tetrahedron"
   ]
  },
  {
   "cell_type": "code",
   "execution_count": 4,
   "id": "60399b70-edb9-4651-86b6-5b89401afb28",
   "metadata": {},
   "outputs": [],
   "source": [
    "import qrays\n",
    "import flextegrity"
   ]
  },
  {
   "cell_type": "code",
   "execution_count": 5,
   "id": "f23aaf89-247a-481a-9f41-e79bf72e32d5",
   "metadata": {},
   "outputs": [
    {
     "data": {
      "text/latex": [
       "$\\displaystyle 1$"
      ],
      "text/plain": [
       "1"
      ]
     },
     "execution_count": 5,
     "metadata": {},
     "output_type": "execute_result"
    }
   ],
   "source": [
    "qrays.DIAM"
   ]
  },
  {
   "cell_type": "code",
   "execution_count": 6,
   "id": "c3c469a7-9743-49f9-9a79-78c0115d6aa2",
   "metadata": {},
   "outputs": [
    {
     "data": {
      "text/latex": [
       "$\\displaystyle \\frac{1}{2}$"
      ],
      "text/plain": [
       "1/2"
      ]
     },
     "execution_count": 6,
     "metadata": {},
     "output_type": "execute_result"
    }
   ],
   "source": [
    "qrays.RAD"
   ]
  },
  {
   "cell_type": "code",
   "execution_count": 7,
   "id": "0d8b0a0f-fc88-4e23-923d-97ba5eb2e666",
   "metadata": {},
   "outputs": [],
   "source": [
    "# reload(flextegrity)"
   ]
  },
  {
   "cell_type": "markdown",
   "id": "c2bc8fee-8dee-44ec-b706-0547daa32494",
   "metadata": {},
   "source": [
    "Synergetics builds with a Prime Vector (PV) that is the distance between two touching balls of equal radius. That means PV is also the diameter of each of these balls, and PVR or Prime Vector Radius is 1/2 of PV.\n",
    "\n",
    "It's quite logical to think of the balls as unit radius and therefore PVR=1 and PV=2. The edges of a tetrahedron defined by four IVM balls with inter-connected centers, in PVR units, has edges 2, whereas if the sphere diameter is unit, the PVR is 1/2 as the PV is 1."
   ]
  },
  {
   "cell_type": "code",
   "execution_count": 8,
   "id": "f7b06caa-5539-44e9-ab3c-cd6a3898d785",
   "metadata": {},
   "outputs": [
    {
     "data": {
      "text/plain": [
       "(1, 1, 1, 1, 1, 1)"
      ]
     },
     "execution_count": 8,
     "metadata": {},
     "output_type": "execute_result"
    }
   ],
   "source": [
    "one = sympy.Integer(1)\n",
    "qA = qrays.Qvector((one,0,0,0))\n",
    "qB = qrays.Qvector((0,one,0,0))\n",
    "qC = qrays.Qvector((0,0,one,0))\n",
    "qD = qrays.Qvector((0,0,0,one))\n",
    "\n",
    "((qA - qB).length(),\n",
    "(qA - qC).length(),\n",
    "(qA - qD).length(),\n",
    "(qB - qC).length(),\n",
    "(qC - qD).length(),\n",
    "(qD - qB).length(),)"
   ]
  },
  {
   "cell_type": "code",
   "execution_count": 9,
   "id": "9f34ec7d-02a4-4d61-9106-fa2eb9679de8",
   "metadata": {},
   "outputs": [
    {
     "data": {
      "text/latex": [
       "$\\displaystyle \\frac{\\sqrt{6}}{2}$"
      ],
      "text/plain": [
       "sqrt(6)/2"
      ]
     },
     "execution_count": 9,
     "metadata": {},
     "output_type": "execute_result"
    }
   ],
   "source": [
    "(qA - (-qA)).length()"
   ]
  },
  {
   "cell_type": "code",
   "execution_count": 10,
   "id": "63c9c0f9-54c1-493e-a1b7-d8ff12324f41",
   "metadata": {},
   "outputs": [
    {
     "data": {
      "text/latex": [
       "$\\displaystyle 1$"
      ],
      "text/plain": [
       "1"
      ]
     },
     "execution_count": 10,
     "metadata": {},
     "output_type": "execute_result"
    }
   ],
   "source": [
    "(qA.xyz - qB.xyz).length()"
   ]
  },
  {
   "cell_type": "code",
   "execution_count": 11,
   "id": "e644e826-ae07-43f0-a0b3-9561844b0e17",
   "metadata": {},
   "outputs": [
    {
     "data": {
      "text/plain": [
       "xyz_vector(x=sqrt(2)/4, y=sqrt(2)/4, z=sqrt(2)/4)"
      ]
     },
     "execution_count": 11,
     "metadata": {},
     "output_type": "execute_result"
    }
   ],
   "source": [
    "qA.xyz"
   ]
  },
  {
   "cell_type": "code",
   "execution_count": 12,
   "id": "ffe77239-e4cb-4ec2-93ae-d30796649c14",
   "metadata": {},
   "outputs": [
    {
     "data": {
      "text/latex": [
       "$\\displaystyle \\frac{\\sqrt{6}}{4}$"
      ],
      "text/plain": [
       "sqrt(6)/4"
      ]
     },
     "execution_count": 12,
     "metadata": {},
     "output_type": "execute_result"
    }
   ],
   "source": [
    "fx.rt2(qA.xyz.x ** 2 + qA.xyz.y ** 2 + qA.xyz.z ** 2)"
   ]
  },
  {
   "cell_type": "code",
   "execution_count": 13,
   "id": "98b5124f-2194-4f50-bdf1-0e6bd9d03df2",
   "metadata": {},
   "outputs": [
    {
     "data": {
      "text/latex": [
       "$\\displaystyle \\frac{\\sqrt{6}}{4}$"
      ],
      "text/plain": [
       "sqrt(6)/4"
      ]
     },
     "execution_count": 13,
     "metadata": {},
     "output_type": "execute_result"
    }
   ],
   "source": [
    "qA.length()"
   ]
  },
  {
   "cell_type": "code",
   "execution_count": 14,
   "id": "1dc30c4f-a692-46b1-9618-512bc610a0c5",
   "metadata": {},
   "outputs": [
    {
     "data": {
      "text/latex": [
       "$\\displaystyle \\sqrt{3}$"
      ],
      "text/plain": [
       "sqrt(3)"
      ]
     },
     "execution_count": 14,
     "metadata": {},
     "output_type": "execute_result"
    }
   ],
   "source": [
    "vX = qrays.Vector((1,0,0))\n",
    "vY = qrays.Vector((0,1,0))\n",
    "vZ = qrays.Vector((0,0,1))\n",
    "(vX + vY + vZ).length()"
   ]
  },
  {
   "cell_type": "code",
   "execution_count": 15,
   "id": "2739949d-00d3-478d-a9a1-39d8a93e52f6",
   "metadata": {},
   "outputs": [
    {
     "data": {
      "text/latex": [
       "$\\displaystyle 1$"
      ],
      "text/plain": [
       "1"
      ]
     },
     "execution_count": 15,
     "metadata": {},
     "output_type": "execute_result"
    }
   ],
   "source": [
    "fx.rt2(vX.x**2 + vX.y**2 + vX.z**2)"
   ]
  },
  {
   "cell_type": "code",
   "execution_count": 16,
   "id": "0e9b5edf-e5cd-4f6b-b690-76948a8771af",
   "metadata": {},
   "outputs": [
    {
     "data": {
      "text/latex": [
       "$\\displaystyle 1$"
      ],
      "text/plain": [
       "1"
      ]
     },
     "execution_count": 16,
     "metadata": {},
     "output_type": "execute_result"
    }
   ],
   "source": [
    "vX.quadray().length()"
   ]
  },
  {
   "cell_type": "code",
   "execution_count": 17,
   "id": "6cdc138a-bed4-42ec-a808-7e07d7666c9b",
   "metadata": {},
   "outputs": [
    {
     "data": {
      "text/latex": [
       "$\\displaystyle \\frac{\\sqrt{6}}{4}$"
      ],
      "text/plain": [
       "sqrt(6)/4"
      ]
     },
     "execution_count": 17,
     "metadata": {},
     "output_type": "execute_result"
    }
   ],
   "source": [
    "qA.length()"
   ]
  },
  {
   "cell_type": "code",
   "execution_count": 18,
   "id": "6c40ef24-2f9d-4958-b204-596b701e7edd",
   "metadata": {},
   "outputs": [
    {
     "data": {
      "text/plain": [
       "xyz_vector(x=sqrt(2)/4, y=sqrt(2)/4, z=sqrt(2)/4)"
      ]
     },
     "execution_count": 18,
     "metadata": {},
     "output_type": "execute_result"
    }
   ],
   "source": [
    "qA.xyz"
   ]
  },
  {
   "cell_type": "code",
   "execution_count": 19,
   "id": "b6745d5b-ff6c-482c-a539-0211306bda4b",
   "metadata": {},
   "outputs": [
    {
     "data": {
      "text/latex": [
       "$\\displaystyle \\frac{\\sqrt{6}}{4}$"
      ],
      "text/plain": [
       "sqrt(6)/4"
      ]
     },
     "execution_count": 19,
     "metadata": {},
     "output_type": "execute_result"
    }
   ],
   "source": [
    "qA.length()"
   ]
  },
  {
   "cell_type": "code",
   "execution_count": 20,
   "id": "a6252101-3208-4eb8-8a8a-1208d08c7e37",
   "metadata": {},
   "outputs": [
    {
     "data": {
      "text/latex": [
       "$\\displaystyle \\frac{\\sqrt{6}}{4}$"
      ],
      "text/plain": [
       "sqrt(6)/4"
      ]
     },
     "execution_count": 20,
     "metadata": {},
     "output_type": "execute_result"
    }
   ],
   "source": [
    "fx.rt2(qA.xyz.x ** 2 + qA.xyz.y ** 2 + qA.xyz.z ** 2)"
   ]
  },
  {
   "cell_type": "code",
   "execution_count": 21,
   "id": "423989f4-be72-4a27-8d81-ae1097325d64",
   "metadata": {},
   "outputs": [
    {
     "data": {
      "text/latex": [
       "$\\displaystyle 1$"
      ],
      "text/plain": [
       "1"
      ]
     },
     "execution_count": 21,
     "metadata": {},
     "output_type": "execute_result"
    }
   ],
   "source": [
    "(qA.xyz - qB.xyz).length()"
   ]
  },
  {
   "cell_type": "code",
   "execution_count": 22,
   "id": "a5daee2f-81b6-4f58-b72a-0a62c93e4281",
   "metadata": {},
   "outputs": [
    {
     "data": {
      "text/plain": [
       "ivm_vector(a=1, b=0, c=0, d=0)"
      ]
     },
     "execution_count": 22,
     "metadata": {},
     "output_type": "execute_result"
    }
   ],
   "source": [
    "qA.xyz.quadray()"
   ]
  },
  {
   "cell_type": "code",
   "execution_count": 23,
   "id": "4549ccad-53b4-4dd2-9ce6-a672bad50192",
   "metadata": {},
   "outputs": [
    {
     "data": {
      "text/latex": [
       "$\\displaystyle \\frac{\\sqrt{6}}{4}$"
      ],
      "text/plain": [
       "sqrt(6)/4"
      ]
     },
     "execution_count": 23,
     "metadata": {},
     "output_type": "execute_result"
    }
   ],
   "source": [
    "qA.xyz.length()"
   ]
  },
  {
   "cell_type": "code",
   "execution_count": 24,
   "id": "e8f24d20-966d-434e-a2e0-4da99a9f33c9",
   "metadata": {},
   "outputs": [
    {
     "data": {
      "text/latex": [
       "$\\displaystyle \\frac{\\sqrt{6}}{4}$"
      ],
      "text/plain": [
       "sqrt(6)/4"
      ]
     },
     "execution_count": 24,
     "metadata": {},
     "output_type": "execute_result"
    }
   ],
   "source": [
    "qA.length()"
   ]
  },
  {
   "cell_type": "code",
   "execution_count": 25,
   "id": "325f4192-a131-4910-9fef-835556d0c722",
   "metadata": {},
   "outputs": [],
   "source": [
    "D = qrays.DIAM"
   ]
  },
  {
   "cell_type": "code",
   "execution_count": 26,
   "id": "7c89a149-7209-4db4-95d7-d3425fe5fb52",
   "metadata": {},
   "outputs": [
    {
     "data": {
      "text/latex": [
       "$\\displaystyle \\frac{1}{2}$"
      ],
      "text/plain": [
       "1/2"
      ]
     },
     "execution_count": 26,
     "metadata": {},
     "output_type": "execute_result"
    }
   ],
   "source": [
    "qrays.RAD"
   ]
  },
  {
   "cell_type": "code",
   "execution_count": 27,
   "id": "f36e5271-f3af-4e77-9616-405719722125",
   "metadata": {},
   "outputs": [
    {
     "data": {
      "text/latex": [
       "$\\displaystyle 1$"
      ],
      "text/plain": [
       "1"
      ]
     },
     "execution_count": 27,
     "metadata": {},
     "output_type": "execute_result"
    }
   ],
   "source": [
    "tv.Tetrahedron(D,D,D,D,D,D).ivm_volume()"
   ]
  },
  {
   "cell_type": "code",
   "execution_count": 28,
   "id": "562ec0cb-e6c5-4a35-b887-e70655552963",
   "metadata": {},
   "outputs": [
    {
     "data": {
      "text/plain": [
       "{'a': ivm_vector(a=1, b=0, c=0, d=0),\n",
       " 'b': ivm_vector(a=0, b=1, c=0, d=0),\n",
       " 'c': ivm_vector(a=0, b=0, c=1, d=0),\n",
       " 'd': ivm_vector(a=0, b=0, c=0, d=1)}"
      ]
     },
     "execution_count": 28,
     "metadata": {},
     "output_type": "execute_result"
    }
   ],
   "source": [
    "fx.Tetrahedron().vertexes"
   ]
  },
  {
   "cell_type": "code",
   "execution_count": 29,
   "id": "c8455e41-1f5b-45cd-b7e1-a30b2b0eaa57",
   "metadata": {},
   "outputs": [
    {
     "data": {
      "text/plain": [
       "sympy.core.numbers.Zero"
      ]
     },
     "execution_count": 29,
     "metadata": {},
     "output_type": "execute_result"
    }
   ],
   "source": [
    "type(fx.Tetrahedron().vertexes['a'].b)"
   ]
  },
  {
   "cell_type": "code",
   "execution_count": 30,
   "id": "402f75af-14d9-4bda-82c0-0184325754de",
   "metadata": {},
   "outputs": [
    {
     "data": {
      "text/plain": [
       "sympy.core.numbers.Zero"
      ]
     },
     "execution_count": 30,
     "metadata": {},
     "output_type": "execute_result"
    }
   ],
   "source": [
    "type(fx.A.b)"
   ]
  },
  {
   "cell_type": "code",
   "execution_count": 31,
   "id": "d2827c04-3b15-450f-8387-dae3c4be63b6",
   "metadata": {},
   "outputs": [
    {
     "data": {
      "text/plain": [
       "[('IVM', 'A'),\n",
       " ('IVM', 'B'),\n",
       " ('IVM', 'C'),\n",
       " ('IVM', 'D'),\n",
       " ('XYZ', 'X'),\n",
       " ('XYZ', 'Y'),\n",
       " ('XYZ', 'Z')]"
      ]
     },
     "execution_count": 31,
     "metadata": {},
     "output_type": "execute_result"
    }
   ],
   "source": [
    "arrays = [\n",
    "    coordsys := [\"IVM\", \"IVM\", \"IVM\", \"IVM\", \"XYZ\", \"XYZ\", \"XYZ\"],\n",
    "    coordnms := [\"A\", \"B\", \"C\", \"D\", \"X\", \"Y\", \"Z\"]]\n",
    "col_tuples = list(zip(*arrays))\n",
    "col_tuples"
   ]
  },
  {
   "cell_type": "code",
   "execution_count": 32,
   "id": "55208790-c7ee-466c-824d-b69e11278b81",
   "metadata": {},
   "outputs": [],
   "source": [
    "the_shape = fx.Cuboctahedron()\n",
    "vs = the_shape.vertexes.items()\n",
    "shape_name = the_shape.nick\n",
    "rows = []\n",
    "row_tuples = []\n",
    "\n",
    "for label, v in vs:\n",
    "    xyz = v.xyz\n",
    "    rows.append(dict(name = label, A=v.a, B=v.b, C=v.c, D = v.d, X = xyz.x, Y = xyz.y, Z = xyz.z))\n",
    "    row_tuples.append((shape_name, label))"
   ]
  },
  {
   "cell_type": "code",
   "execution_count": 33,
   "id": "1921e371-6bac-4aed-a0d5-901f1a31cdef",
   "metadata": {},
   "outputs": [
    {
     "data": {
      "text/plain": [
       "[('CO', 'o'),\n",
       " ('CO', 'p'),\n",
       " ('CO', 'q'),\n",
       " ('CO', 'r'),\n",
       " ('CO', 's'),\n",
       " ('CO', 't'),\n",
       " ('CO', 'u'),\n",
       " ('CO', 'v'),\n",
       " ('CO', 'w'),\n",
       " ('CO', 'x'),\n",
       " ('CO', 'y'),\n",
       " ('CO', 'z')]"
      ]
     },
     "execution_count": 33,
     "metadata": {},
     "output_type": "execute_result"
    }
   ],
   "source": [
    "row_tuples"
   ]
  },
  {
   "cell_type": "code",
   "execution_count": 34,
   "id": "cd756225-bc85-43ac-b690-27610cb78e7d",
   "metadata": {},
   "outputs": [
    {
     "data": {
      "text/html": [
       "<div>\n",
       "<style scoped>\n",
       "    .dataframe tbody tr th:only-of-type {\n",
       "        vertical-align: middle;\n",
       "    }\n",
       "\n",
       "    .dataframe tbody tr th {\n",
       "        vertical-align: top;\n",
       "    }\n",
       "\n",
       "    .dataframe thead tr th {\n",
       "        text-align: left;\n",
       "    }\n",
       "\n",
       "    .dataframe thead tr:last-of-type th {\n",
       "        text-align: right;\n",
       "    }\n",
       "</style>\n",
       "<table border=\"1\" class=\"dataframe\">\n",
       "  <thead>\n",
       "    <tr>\n",
       "      <th></th>\n",
       "      <th>System</th>\n",
       "      <th colspan=\"4\" halign=\"left\">IVM</th>\n",
       "      <th colspan=\"3\" halign=\"left\">XYZ</th>\n",
       "    </tr>\n",
       "    <tr>\n",
       "      <th></th>\n",
       "      <th>Coords</th>\n",
       "      <th>A</th>\n",
       "      <th>B</th>\n",
       "      <th>C</th>\n",
       "      <th>D</th>\n",
       "      <th>X</th>\n",
       "      <th>Y</th>\n",
       "      <th>Z</th>\n",
       "    </tr>\n",
       "    <tr>\n",
       "      <th>Shape</th>\n",
       "      <th>Verts</th>\n",
       "      <th></th>\n",
       "      <th></th>\n",
       "      <th></th>\n",
       "      <th></th>\n",
       "      <th></th>\n",
       "      <th></th>\n",
       "      <th></th>\n",
       "    </tr>\n",
       "  </thead>\n",
       "  <tbody>\n",
       "    <tr>\n",
       "      <th rowspan=\"12\" valign=\"top\">CO</th>\n",
       "      <th>o</th>\n",
       "      <td>2</td>\n",
       "      <td>1</td>\n",
       "      <td>1</td>\n",
       "      <td>0</td>\n",
       "      <td>0</td>\n",
       "      <td>sqrt(2)/2</td>\n",
       "      <td>sqrt(2)/2</td>\n",
       "    </tr>\n",
       "    <tr>\n",
       "      <th>p</th>\n",
       "      <td>2</td>\n",
       "      <td>1</td>\n",
       "      <td>0</td>\n",
       "      <td>1</td>\n",
       "      <td>sqrt(2)/2</td>\n",
       "      <td>0</td>\n",
       "      <td>sqrt(2)/2</td>\n",
       "    </tr>\n",
       "    <tr>\n",
       "      <th>q</th>\n",
       "      <td>1</td>\n",
       "      <td>2</td>\n",
       "      <td>1</td>\n",
       "      <td>0</td>\n",
       "      <td>-sqrt(2)/2</td>\n",
       "      <td>0</td>\n",
       "      <td>sqrt(2)/2</td>\n",
       "    </tr>\n",
       "    <tr>\n",
       "      <th>r</th>\n",
       "      <td>1</td>\n",
       "      <td>2</td>\n",
       "      <td>0</td>\n",
       "      <td>1</td>\n",
       "      <td>0</td>\n",
       "      <td>-sqrt(2)/2</td>\n",
       "      <td>sqrt(2)/2</td>\n",
       "    </tr>\n",
       "    <tr>\n",
       "      <th>s</th>\n",
       "      <td>1</td>\n",
       "      <td>0</td>\n",
       "      <td>2</td>\n",
       "      <td>1</td>\n",
       "      <td>0</td>\n",
       "      <td>sqrt(2)/2</td>\n",
       "      <td>-sqrt(2)/2</td>\n",
       "    </tr>\n",
       "    <tr>\n",
       "      <th>t</th>\n",
       "      <td>1</td>\n",
       "      <td>0</td>\n",
       "      <td>1</td>\n",
       "      <td>2</td>\n",
       "      <td>sqrt(2)/2</td>\n",
       "      <td>0</td>\n",
       "      <td>-sqrt(2)/2</td>\n",
       "    </tr>\n",
       "    <tr>\n",
       "      <th>u</th>\n",
       "      <td>0</td>\n",
       "      <td>1</td>\n",
       "      <td>2</td>\n",
       "      <td>1</td>\n",
       "      <td>-sqrt(2)/2</td>\n",
       "      <td>0</td>\n",
       "      <td>-sqrt(2)/2</td>\n",
       "    </tr>\n",
       "    <tr>\n",
       "      <th>v</th>\n",
       "      <td>0</td>\n",
       "      <td>1</td>\n",
       "      <td>1</td>\n",
       "      <td>2</td>\n",
       "      <td>0</td>\n",
       "      <td>-sqrt(2)/2</td>\n",
       "      <td>-sqrt(2)/2</td>\n",
       "    </tr>\n",
       "    <tr>\n",
       "      <th>w</th>\n",
       "      <td>1</td>\n",
       "      <td>1</td>\n",
       "      <td>2</td>\n",
       "      <td>0</td>\n",
       "      <td>-sqrt(2)/2</td>\n",
       "      <td>sqrt(2)/2</td>\n",
       "      <td>0</td>\n",
       "    </tr>\n",
       "    <tr>\n",
       "      <th>x</th>\n",
       "      <td>0</td>\n",
       "      <td>2</td>\n",
       "      <td>1</td>\n",
       "      <td>1</td>\n",
       "      <td>-sqrt(2)/2</td>\n",
       "      <td>-sqrt(2)/2</td>\n",
       "      <td>0</td>\n",
       "    </tr>\n",
       "    <tr>\n",
       "      <th>y</th>\n",
       "      <td>1</td>\n",
       "      <td>1</td>\n",
       "      <td>0</td>\n",
       "      <td>2</td>\n",
       "      <td>sqrt(2)/2</td>\n",
       "      <td>-sqrt(2)/2</td>\n",
       "      <td>0</td>\n",
       "    </tr>\n",
       "    <tr>\n",
       "      <th>z</th>\n",
       "      <td>2</td>\n",
       "      <td>0</td>\n",
       "      <td>1</td>\n",
       "      <td>1</td>\n",
       "      <td>sqrt(2)/2</td>\n",
       "      <td>sqrt(2)/2</td>\n",
       "      <td>0</td>\n",
       "    </tr>\n",
       "  </tbody>\n",
       "</table>\n",
       "</div>"
      ],
      "text/plain": [
       "System      IVM                  XYZ                        \n",
       "Coords        A  B  C  D           X           Y           Z\n",
       "Shape Verts                                                 \n",
       "CO    o       2  1  1  0           0   sqrt(2)/2   sqrt(2)/2\n",
       "      p       2  1  0  1   sqrt(2)/2           0   sqrt(2)/2\n",
       "      q       1  2  1  0  -sqrt(2)/2           0   sqrt(2)/2\n",
       "      r       1  2  0  1           0  -sqrt(2)/2   sqrt(2)/2\n",
       "      s       1  0  2  1           0   sqrt(2)/2  -sqrt(2)/2\n",
       "      t       1  0  1  2   sqrt(2)/2           0  -sqrt(2)/2\n",
       "      u       0  1  2  1  -sqrt(2)/2           0  -sqrt(2)/2\n",
       "      v       0  1  1  2           0  -sqrt(2)/2  -sqrt(2)/2\n",
       "      w       1  1  2  0  -sqrt(2)/2   sqrt(2)/2           0\n",
       "      x       0  2  1  1  -sqrt(2)/2  -sqrt(2)/2           0\n",
       "      y       1  1  0  2   sqrt(2)/2  -sqrt(2)/2           0\n",
       "      z       2  0  1  1   sqrt(2)/2   sqrt(2)/2           0"
      ]
     },
     "execution_count": 34,
     "metadata": {},
     "output_type": "execute_result"
    }
   ],
   "source": [
    "df = pd.DataFrame.from_dict(rows)\n",
    "col_index = pd.MultiIndex.from_tuples(col_tuples, names=[\"System\", \"Coords\"])\n",
    "row_index = pd.MultiIndex.from_tuples(row_tuples, names=[\"Shape\", \"Verts\"])\n",
    "df.index = row_index\n",
    "df.drop(columns=\"name\", axis=1, inplace=True)\n",
    "df.columns = col_index\n",
    "df"
   ]
  },
  {
   "cell_type": "code",
   "execution_count": 35,
   "id": "4a8162ac-ac91-4c1b-839a-f7bc283a3204",
   "metadata": {},
   "outputs": [
    {
     "data": {
      "text/plain": [
       "sympy.core.numbers.Integer"
      ]
     },
     "execution_count": 35,
     "metadata": {},
     "output_type": "execute_result"
    }
   ],
   "source": [
    "type(df.loc[('CO','o')].IVM.A)"
   ]
  },
  {
   "cell_type": "code",
   "execution_count": 36,
   "id": "80fe2ee1-fc8d-4670-a014-a9621cb9188f",
   "metadata": {},
   "outputs": [
    {
     "data": {
      "text/html": [
       "<div>\n",
       "<style scoped>\n",
       "    .dataframe tbody tr th:only-of-type {\n",
       "        vertical-align: middle;\n",
       "    }\n",
       "\n",
       "    .dataframe tbody tr th {\n",
       "        vertical-align: top;\n",
       "    }\n",
       "\n",
       "    .dataframe thead tr th {\n",
       "        text-align: left;\n",
       "    }\n",
       "\n",
       "    .dataframe thead tr:last-of-type th {\n",
       "        text-align: right;\n",
       "    }\n",
       "</style>\n",
       "<table border=\"1\" class=\"dataframe\">\n",
       "  <thead>\n",
       "    <tr>\n",
       "      <th></th>\n",
       "      <th>System</th>\n",
       "      <th colspan=\"4\" halign=\"left\">IVM</th>\n",
       "      <th colspan=\"3\" halign=\"left\">XYZ</th>\n",
       "    </tr>\n",
       "    <tr>\n",
       "      <th></th>\n",
       "      <th>Coords</th>\n",
       "      <th>A</th>\n",
       "      <th>B</th>\n",
       "      <th>C</th>\n",
       "      <th>D</th>\n",
       "      <th>X</th>\n",
       "      <th>Y</th>\n",
       "      <th>Z</th>\n",
       "    </tr>\n",
       "    <tr>\n",
       "      <th>Shape</th>\n",
       "      <th>Verts</th>\n",
       "      <th></th>\n",
       "      <th></th>\n",
       "      <th></th>\n",
       "      <th></th>\n",
       "      <th></th>\n",
       "      <th></th>\n",
       "      <th></th>\n",
       "    </tr>\n",
       "  </thead>\n",
       "  <tbody>\n",
       "    <tr>\n",
       "      <th rowspan=\"12\" valign=\"top\">CO</th>\n",
       "      <th>o</th>\n",
       "      <td>2</td>\n",
       "      <td>1</td>\n",
       "      <td>1</td>\n",
       "      <td>0</td>\n",
       "      <td>0</td>\n",
       "      <td>sqrt(2)/2</td>\n",
       "      <td>sqrt(2)/2</td>\n",
       "    </tr>\n",
       "    <tr>\n",
       "      <th>p</th>\n",
       "      <td>2</td>\n",
       "      <td>1</td>\n",
       "      <td>0</td>\n",
       "      <td>1</td>\n",
       "      <td>sqrt(2)/2</td>\n",
       "      <td>0</td>\n",
       "      <td>sqrt(2)/2</td>\n",
       "    </tr>\n",
       "    <tr>\n",
       "      <th>q</th>\n",
       "      <td>1</td>\n",
       "      <td>2</td>\n",
       "      <td>1</td>\n",
       "      <td>0</td>\n",
       "      <td>-sqrt(2)/2</td>\n",
       "      <td>0</td>\n",
       "      <td>sqrt(2)/2</td>\n",
       "    </tr>\n",
       "    <tr>\n",
       "      <th>r</th>\n",
       "      <td>1</td>\n",
       "      <td>2</td>\n",
       "      <td>0</td>\n",
       "      <td>1</td>\n",
       "      <td>0</td>\n",
       "      <td>-sqrt(2)/2</td>\n",
       "      <td>sqrt(2)/2</td>\n",
       "    </tr>\n",
       "    <tr>\n",
       "      <th>s</th>\n",
       "      <td>1</td>\n",
       "      <td>0</td>\n",
       "      <td>2</td>\n",
       "      <td>1</td>\n",
       "      <td>0</td>\n",
       "      <td>sqrt(2)/2</td>\n",
       "      <td>-sqrt(2)/2</td>\n",
       "    </tr>\n",
       "    <tr>\n",
       "      <th>t</th>\n",
       "      <td>1</td>\n",
       "      <td>0</td>\n",
       "      <td>1</td>\n",
       "      <td>2</td>\n",
       "      <td>sqrt(2)/2</td>\n",
       "      <td>0</td>\n",
       "      <td>-sqrt(2)/2</td>\n",
       "    </tr>\n",
       "    <tr>\n",
       "      <th>u</th>\n",
       "      <td>0</td>\n",
       "      <td>1</td>\n",
       "      <td>2</td>\n",
       "      <td>1</td>\n",
       "      <td>-sqrt(2)/2</td>\n",
       "      <td>0</td>\n",
       "      <td>-sqrt(2)/2</td>\n",
       "    </tr>\n",
       "    <tr>\n",
       "      <th>v</th>\n",
       "      <td>0</td>\n",
       "      <td>1</td>\n",
       "      <td>1</td>\n",
       "      <td>2</td>\n",
       "      <td>0</td>\n",
       "      <td>-sqrt(2)/2</td>\n",
       "      <td>-sqrt(2)/2</td>\n",
       "    </tr>\n",
       "    <tr>\n",
       "      <th>w</th>\n",
       "      <td>1</td>\n",
       "      <td>1</td>\n",
       "      <td>2</td>\n",
       "      <td>0</td>\n",
       "      <td>-sqrt(2)/2</td>\n",
       "      <td>sqrt(2)/2</td>\n",
       "      <td>0</td>\n",
       "    </tr>\n",
       "    <tr>\n",
       "      <th>x</th>\n",
       "      <td>0</td>\n",
       "      <td>2</td>\n",
       "      <td>1</td>\n",
       "      <td>1</td>\n",
       "      <td>-sqrt(2)/2</td>\n",
       "      <td>-sqrt(2)/2</td>\n",
       "      <td>0</td>\n",
       "    </tr>\n",
       "    <tr>\n",
       "      <th>y</th>\n",
       "      <td>1</td>\n",
       "      <td>1</td>\n",
       "      <td>0</td>\n",
       "      <td>2</td>\n",
       "      <td>sqrt(2)/2</td>\n",
       "      <td>-sqrt(2)/2</td>\n",
       "      <td>0</td>\n",
       "    </tr>\n",
       "    <tr>\n",
       "      <th>z</th>\n",
       "      <td>2</td>\n",
       "      <td>0</td>\n",
       "      <td>1</td>\n",
       "      <td>1</td>\n",
       "      <td>sqrt(2)/2</td>\n",
       "      <td>sqrt(2)/2</td>\n",
       "      <td>0</td>\n",
       "    </tr>\n",
       "  </tbody>\n",
       "</table>\n",
       "</div>"
      ],
      "text/plain": [
       "System      IVM                  XYZ                        \n",
       "Coords        A  B  C  D           X           Y           Z\n",
       "Shape Verts                                                 \n",
       "CO    o       2  1  1  0           0   sqrt(2)/2   sqrt(2)/2\n",
       "      p       2  1  0  1   sqrt(2)/2           0   sqrt(2)/2\n",
       "      q       1  2  1  0  -sqrt(2)/2           0   sqrt(2)/2\n",
       "      r       1  2  0  1           0  -sqrt(2)/2   sqrt(2)/2\n",
       "      s       1  0  2  1           0   sqrt(2)/2  -sqrt(2)/2\n",
       "      t       1  0  1  2   sqrt(2)/2           0  -sqrt(2)/2\n",
       "      u       0  1  2  1  -sqrt(2)/2           0  -sqrt(2)/2\n",
       "      v       0  1  1  2           0  -sqrt(2)/2  -sqrt(2)/2\n",
       "      w       1  1  2  0  -sqrt(2)/2   sqrt(2)/2           0\n",
       "      x       0  2  1  1  -sqrt(2)/2  -sqrt(2)/2           0\n",
       "      y       1  1  0  2   sqrt(2)/2  -sqrt(2)/2           0\n",
       "      z       2  0  1  1   sqrt(2)/2   sqrt(2)/2           0"
      ]
     },
     "execution_count": 36,
     "metadata": {},
     "output_type": "execute_result"
    }
   ],
   "source": [
    "df"
   ]
  },
  {
   "cell_type": "code",
   "execution_count": 37,
   "id": "5fbd0836-145c-4ef5-a192-e459bbb64757",
   "metadata": {},
   "outputs": [],
   "source": [
    "def tabulate(shape, dec=False, n=8):\n",
    "    vs = shape.vertexes.items()\n",
    "    shape_name = shape.nick\n",
    "    rows = []\n",
    "    row_tuples = []\n",
    "\n",
    "    for label, v in vs:\n",
    "        xyz = v.xyz\n",
    "        row_tuples.append((shape_name, label))\n",
    "        if not dec:\n",
    "            rows.append(dict(name = label, \n",
    "                             A=v.a, \n",
    "                             B=v.b, \n",
    "                             C=v.c, \n",
    "                             D = v.d, \n",
    "                             X = xyz.x, \n",
    "                             Y = xyz.y, \n",
    "                             Z = xyz.z))\n",
    "        else:\n",
    "            rows.append(dict(name = label, \n",
    "                             A = v.a.evalf(n).round(n), \n",
    "                             B = v.b.evalf(n).round(n), \n",
    "                             C = v.c.evalf(n).round(n), \n",
    "                             D = v.d.evalf(n).round(n), \n",
    "                             X = xyz.x.evalf(n).round(n), \n",
    "                             Y = xyz.y.evalf(n).round(n), \n",
    "                             Z = xyz.z.evalf(n).round(n)))  \n",
    "                        \n",
    "    df = pd.DataFrame.from_dict(rows)\n",
    "    col_index = pd.MultiIndex.from_tuples(col_tuples, names=[\"System\", \"Coords\"])\n",
    "    row_index = pd.MultiIndex.from_tuples(row_tuples, names=[\"Shape\", \"Verts\"])\n",
    "    df.index = row_index\n",
    "    df.drop(columns=\"name\", axis=1, inplace=True)\n",
    "    df.columns = col_index\n",
    "    return df"
   ]
  },
  {
   "cell_type": "code",
   "execution_count": 38,
   "id": "58028d16-1ae2-4b09-971a-6dde8d2b092b",
   "metadata": {},
   "outputs": [
    {
     "data": {
      "text/html": [
       "<div>\n",
       "<style scoped>\n",
       "    .dataframe tbody tr th:only-of-type {\n",
       "        vertical-align: middle;\n",
       "    }\n",
       "\n",
       "    .dataframe tbody tr th {\n",
       "        vertical-align: top;\n",
       "    }\n",
       "\n",
       "    .dataframe thead tr th {\n",
       "        text-align: left;\n",
       "    }\n",
       "\n",
       "    .dataframe thead tr:last-of-type th {\n",
       "        text-align: right;\n",
       "    }\n",
       "</style>\n",
       "<table border=\"1\" class=\"dataframe\">\n",
       "  <thead>\n",
       "    <tr>\n",
       "      <th></th>\n",
       "      <th>System</th>\n",
       "      <th colspan=\"4\" halign=\"left\">IVM</th>\n",
       "      <th colspan=\"3\" halign=\"left\">XYZ</th>\n",
       "    </tr>\n",
       "    <tr>\n",
       "      <th></th>\n",
       "      <th>Coords</th>\n",
       "      <th>A</th>\n",
       "      <th>B</th>\n",
       "      <th>C</th>\n",
       "      <th>D</th>\n",
       "      <th>X</th>\n",
       "      <th>Y</th>\n",
       "      <th>Z</th>\n",
       "    </tr>\n",
       "    <tr>\n",
       "      <th>Shape</th>\n",
       "      <th>Verts</th>\n",
       "      <th></th>\n",
       "      <th></th>\n",
       "      <th></th>\n",
       "      <th></th>\n",
       "      <th></th>\n",
       "      <th></th>\n",
       "      <th></th>\n",
       "    </tr>\n",
       "  </thead>\n",
       "  <tbody>\n",
       "    <tr>\n",
       "      <th rowspan=\"4\" valign=\"top\">Tet</th>\n",
       "      <th>a</th>\n",
       "      <td>1</td>\n",
       "      <td>0</td>\n",
       "      <td>0</td>\n",
       "      <td>0</td>\n",
       "      <td>sqrt(2)/4</td>\n",
       "      <td>sqrt(2)/4</td>\n",
       "      <td>sqrt(2)/4</td>\n",
       "    </tr>\n",
       "    <tr>\n",
       "      <th>b</th>\n",
       "      <td>0</td>\n",
       "      <td>1</td>\n",
       "      <td>0</td>\n",
       "      <td>0</td>\n",
       "      <td>-sqrt(2)/4</td>\n",
       "      <td>-sqrt(2)/4</td>\n",
       "      <td>sqrt(2)/4</td>\n",
       "    </tr>\n",
       "    <tr>\n",
       "      <th>c</th>\n",
       "      <td>0</td>\n",
       "      <td>0</td>\n",
       "      <td>1</td>\n",
       "      <td>0</td>\n",
       "      <td>-sqrt(2)/4</td>\n",
       "      <td>sqrt(2)/4</td>\n",
       "      <td>-sqrt(2)/4</td>\n",
       "    </tr>\n",
       "    <tr>\n",
       "      <th>d</th>\n",
       "      <td>0</td>\n",
       "      <td>0</td>\n",
       "      <td>0</td>\n",
       "      <td>1</td>\n",
       "      <td>sqrt(2)/4</td>\n",
       "      <td>-sqrt(2)/4</td>\n",
       "      <td>-sqrt(2)/4</td>\n",
       "    </tr>\n",
       "    <tr>\n",
       "      <th rowspan=\"4\" valign=\"top\">~Tet</th>\n",
       "      <th>e</th>\n",
       "      <td>0</td>\n",
       "      <td>1</td>\n",
       "      <td>1</td>\n",
       "      <td>1</td>\n",
       "      <td>-sqrt(2)/4</td>\n",
       "      <td>-sqrt(2)/4</td>\n",
       "      <td>-sqrt(2)/4</td>\n",
       "    </tr>\n",
       "    <tr>\n",
       "      <th>f</th>\n",
       "      <td>1</td>\n",
       "      <td>0</td>\n",
       "      <td>1</td>\n",
       "      <td>1</td>\n",
       "      <td>sqrt(2)/4</td>\n",
       "      <td>sqrt(2)/4</td>\n",
       "      <td>-sqrt(2)/4</td>\n",
       "    </tr>\n",
       "    <tr>\n",
       "      <th>g</th>\n",
       "      <td>1</td>\n",
       "      <td>1</td>\n",
       "      <td>0</td>\n",
       "      <td>1</td>\n",
       "      <td>sqrt(2)/4</td>\n",
       "      <td>-sqrt(2)/4</td>\n",
       "      <td>sqrt(2)/4</td>\n",
       "    </tr>\n",
       "    <tr>\n",
       "      <th>h</th>\n",
       "      <td>1</td>\n",
       "      <td>1</td>\n",
       "      <td>1</td>\n",
       "      <td>0</td>\n",
       "      <td>-sqrt(2)/4</td>\n",
       "      <td>sqrt(2)/4</td>\n",
       "      <td>sqrt(2)/4</td>\n",
       "    </tr>\n",
       "    <tr>\n",
       "      <th rowspan=\"8\" valign=\"top\">Cube</th>\n",
       "      <th>a</th>\n",
       "      <td>1</td>\n",
       "      <td>0</td>\n",
       "      <td>0</td>\n",
       "      <td>0</td>\n",
       "      <td>sqrt(2)/4</td>\n",
       "      <td>sqrt(2)/4</td>\n",
       "      <td>sqrt(2)/4</td>\n",
       "    </tr>\n",
       "    <tr>\n",
       "      <th>b</th>\n",
       "      <td>0</td>\n",
       "      <td>1</td>\n",
       "      <td>0</td>\n",
       "      <td>0</td>\n",
       "      <td>-sqrt(2)/4</td>\n",
       "      <td>-sqrt(2)/4</td>\n",
       "      <td>sqrt(2)/4</td>\n",
       "    </tr>\n",
       "    <tr>\n",
       "      <th>c</th>\n",
       "      <td>0</td>\n",
       "      <td>0</td>\n",
       "      <td>1</td>\n",
       "      <td>0</td>\n",
       "      <td>-sqrt(2)/4</td>\n",
       "      <td>sqrt(2)/4</td>\n",
       "      <td>-sqrt(2)/4</td>\n",
       "    </tr>\n",
       "    <tr>\n",
       "      <th>d</th>\n",
       "      <td>0</td>\n",
       "      <td>0</td>\n",
       "      <td>0</td>\n",
       "      <td>1</td>\n",
       "      <td>sqrt(2)/4</td>\n",
       "      <td>-sqrt(2)/4</td>\n",
       "      <td>-sqrt(2)/4</td>\n",
       "    </tr>\n",
       "    <tr>\n",
       "      <th>e</th>\n",
       "      <td>0</td>\n",
       "      <td>1</td>\n",
       "      <td>1</td>\n",
       "      <td>1</td>\n",
       "      <td>-sqrt(2)/4</td>\n",
       "      <td>-sqrt(2)/4</td>\n",
       "      <td>-sqrt(2)/4</td>\n",
       "    </tr>\n",
       "    <tr>\n",
       "      <th>f</th>\n",
       "      <td>1</td>\n",
       "      <td>0</td>\n",
       "      <td>1</td>\n",
       "      <td>1</td>\n",
       "      <td>sqrt(2)/4</td>\n",
       "      <td>sqrt(2)/4</td>\n",
       "      <td>-sqrt(2)/4</td>\n",
       "    </tr>\n",
       "    <tr>\n",
       "      <th>g</th>\n",
       "      <td>1</td>\n",
       "      <td>1</td>\n",
       "      <td>0</td>\n",
       "      <td>1</td>\n",
       "      <td>sqrt(2)/4</td>\n",
       "      <td>-sqrt(2)/4</td>\n",
       "      <td>sqrt(2)/4</td>\n",
       "    </tr>\n",
       "    <tr>\n",
       "      <th>h</th>\n",
       "      <td>1</td>\n",
       "      <td>1</td>\n",
       "      <td>1</td>\n",
       "      <td>0</td>\n",
       "      <td>-sqrt(2)/4</td>\n",
       "      <td>sqrt(2)/4</td>\n",
       "      <td>sqrt(2)/4</td>\n",
       "    </tr>\n",
       "    <tr>\n",
       "      <th rowspan=\"6\" valign=\"top\">Oct</th>\n",
       "      <th>i</th>\n",
       "      <td>1</td>\n",
       "      <td>1</td>\n",
       "      <td>0</td>\n",
       "      <td>0</td>\n",
       "      <td>0</td>\n",
       "      <td>0</td>\n",
       "      <td>sqrt(2)/2</td>\n",
       "    </tr>\n",
       "    <tr>\n",
       "      <th>j</th>\n",
       "      <td>1</td>\n",
       "      <td>0</td>\n",
       "      <td>1</td>\n",
       "      <td>0</td>\n",
       "      <td>0</td>\n",
       "      <td>sqrt(2)/2</td>\n",
       "      <td>0</td>\n",
       "    </tr>\n",
       "    <tr>\n",
       "      <th>k</th>\n",
       "      <td>1</td>\n",
       "      <td>0</td>\n",
       "      <td>0</td>\n",
       "      <td>1</td>\n",
       "      <td>sqrt(2)/2</td>\n",
       "      <td>0</td>\n",
       "      <td>0</td>\n",
       "    </tr>\n",
       "    <tr>\n",
       "      <th>l</th>\n",
       "      <td>0</td>\n",
       "      <td>1</td>\n",
       "      <td>1</td>\n",
       "      <td>0</td>\n",
       "      <td>-sqrt(2)/2</td>\n",
       "      <td>0</td>\n",
       "      <td>0</td>\n",
       "    </tr>\n",
       "    <tr>\n",
       "      <th>m</th>\n",
       "      <td>0</td>\n",
       "      <td>1</td>\n",
       "      <td>0</td>\n",
       "      <td>1</td>\n",
       "      <td>0</td>\n",
       "      <td>-sqrt(2)/2</td>\n",
       "      <td>0</td>\n",
       "    </tr>\n",
       "    <tr>\n",
       "      <th>n</th>\n",
       "      <td>0</td>\n",
       "      <td>0</td>\n",
       "      <td>1</td>\n",
       "      <td>1</td>\n",
       "      <td>0</td>\n",
       "      <td>0</td>\n",
       "      <td>-sqrt(2)/2</td>\n",
       "    </tr>\n",
       "    <tr>\n",
       "      <th rowspan=\"14\" valign=\"top\">RD</th>\n",
       "      <th>a</th>\n",
       "      <td>1</td>\n",
       "      <td>0</td>\n",
       "      <td>0</td>\n",
       "      <td>0</td>\n",
       "      <td>sqrt(2)/4</td>\n",
       "      <td>sqrt(2)/4</td>\n",
       "      <td>sqrt(2)/4</td>\n",
       "    </tr>\n",
       "    <tr>\n",
       "      <th>b</th>\n",
       "      <td>0</td>\n",
       "      <td>1</td>\n",
       "      <td>0</td>\n",
       "      <td>0</td>\n",
       "      <td>-sqrt(2)/4</td>\n",
       "      <td>-sqrt(2)/4</td>\n",
       "      <td>sqrt(2)/4</td>\n",
       "    </tr>\n",
       "    <tr>\n",
       "      <th>c</th>\n",
       "      <td>0</td>\n",
       "      <td>0</td>\n",
       "      <td>1</td>\n",
       "      <td>0</td>\n",
       "      <td>-sqrt(2)/4</td>\n",
       "      <td>sqrt(2)/4</td>\n",
       "      <td>-sqrt(2)/4</td>\n",
       "    </tr>\n",
       "    <tr>\n",
       "      <th>d</th>\n",
       "      <td>0</td>\n",
       "      <td>0</td>\n",
       "      <td>0</td>\n",
       "      <td>1</td>\n",
       "      <td>sqrt(2)/4</td>\n",
       "      <td>-sqrt(2)/4</td>\n",
       "      <td>-sqrt(2)/4</td>\n",
       "    </tr>\n",
       "    <tr>\n",
       "      <th>e</th>\n",
       "      <td>0</td>\n",
       "      <td>1</td>\n",
       "      <td>1</td>\n",
       "      <td>1</td>\n",
       "      <td>-sqrt(2)/4</td>\n",
       "      <td>-sqrt(2)/4</td>\n",
       "      <td>-sqrt(2)/4</td>\n",
       "    </tr>\n",
       "    <tr>\n",
       "      <th>f</th>\n",
       "      <td>1</td>\n",
       "      <td>0</td>\n",
       "      <td>1</td>\n",
       "      <td>1</td>\n",
       "      <td>sqrt(2)/4</td>\n",
       "      <td>sqrt(2)/4</td>\n",
       "      <td>-sqrt(2)/4</td>\n",
       "    </tr>\n",
       "    <tr>\n",
       "      <th>g</th>\n",
       "      <td>1</td>\n",
       "      <td>1</td>\n",
       "      <td>0</td>\n",
       "      <td>1</td>\n",
       "      <td>sqrt(2)/4</td>\n",
       "      <td>-sqrt(2)/4</td>\n",
       "      <td>sqrt(2)/4</td>\n",
       "    </tr>\n",
       "    <tr>\n",
       "      <th>h</th>\n",
       "      <td>1</td>\n",
       "      <td>1</td>\n",
       "      <td>1</td>\n",
       "      <td>0</td>\n",
       "      <td>-sqrt(2)/4</td>\n",
       "      <td>sqrt(2)/4</td>\n",
       "      <td>sqrt(2)/4</td>\n",
       "    </tr>\n",
       "    <tr>\n",
       "      <th>i</th>\n",
       "      <td>1</td>\n",
       "      <td>1</td>\n",
       "      <td>0</td>\n",
       "      <td>0</td>\n",
       "      <td>0</td>\n",
       "      <td>0</td>\n",
       "      <td>sqrt(2)/2</td>\n",
       "    </tr>\n",
       "    <tr>\n",
       "      <th>j</th>\n",
       "      <td>1</td>\n",
       "      <td>0</td>\n",
       "      <td>1</td>\n",
       "      <td>0</td>\n",
       "      <td>0</td>\n",
       "      <td>sqrt(2)/2</td>\n",
       "      <td>0</td>\n",
       "    </tr>\n",
       "    <tr>\n",
       "      <th>k</th>\n",
       "      <td>1</td>\n",
       "      <td>0</td>\n",
       "      <td>0</td>\n",
       "      <td>1</td>\n",
       "      <td>sqrt(2)/2</td>\n",
       "      <td>0</td>\n",
       "      <td>0</td>\n",
       "    </tr>\n",
       "    <tr>\n",
       "      <th>l</th>\n",
       "      <td>0</td>\n",
       "      <td>1</td>\n",
       "      <td>1</td>\n",
       "      <td>0</td>\n",
       "      <td>-sqrt(2)/2</td>\n",
       "      <td>0</td>\n",
       "      <td>0</td>\n",
       "    </tr>\n",
       "    <tr>\n",
       "      <th>m</th>\n",
       "      <td>0</td>\n",
       "      <td>1</td>\n",
       "      <td>0</td>\n",
       "      <td>1</td>\n",
       "      <td>0</td>\n",
       "      <td>-sqrt(2)/2</td>\n",
       "      <td>0</td>\n",
       "    </tr>\n",
       "    <tr>\n",
       "      <th>n</th>\n",
       "      <td>0</td>\n",
       "      <td>0</td>\n",
       "      <td>1</td>\n",
       "      <td>1</td>\n",
       "      <td>0</td>\n",
       "      <td>0</td>\n",
       "      <td>-sqrt(2)/2</td>\n",
       "    </tr>\n",
       "    <tr>\n",
       "      <th rowspan=\"12\" valign=\"top\">CO</th>\n",
       "      <th>o</th>\n",
       "      <td>2</td>\n",
       "      <td>1</td>\n",
       "      <td>1</td>\n",
       "      <td>0</td>\n",
       "      <td>0</td>\n",
       "      <td>sqrt(2)/2</td>\n",
       "      <td>sqrt(2)/2</td>\n",
       "    </tr>\n",
       "    <tr>\n",
       "      <th>p</th>\n",
       "      <td>2</td>\n",
       "      <td>1</td>\n",
       "      <td>0</td>\n",
       "      <td>1</td>\n",
       "      <td>sqrt(2)/2</td>\n",
       "      <td>0</td>\n",
       "      <td>sqrt(2)/2</td>\n",
       "    </tr>\n",
       "    <tr>\n",
       "      <th>q</th>\n",
       "      <td>1</td>\n",
       "      <td>2</td>\n",
       "      <td>1</td>\n",
       "      <td>0</td>\n",
       "      <td>-sqrt(2)/2</td>\n",
       "      <td>0</td>\n",
       "      <td>sqrt(2)/2</td>\n",
       "    </tr>\n",
       "    <tr>\n",
       "      <th>r</th>\n",
       "      <td>1</td>\n",
       "      <td>2</td>\n",
       "      <td>0</td>\n",
       "      <td>1</td>\n",
       "      <td>0</td>\n",
       "      <td>-sqrt(2)/2</td>\n",
       "      <td>sqrt(2)/2</td>\n",
       "    </tr>\n",
       "    <tr>\n",
       "      <th>s</th>\n",
       "      <td>1</td>\n",
       "      <td>0</td>\n",
       "      <td>2</td>\n",
       "      <td>1</td>\n",
       "      <td>0</td>\n",
       "      <td>sqrt(2)/2</td>\n",
       "      <td>-sqrt(2)/2</td>\n",
       "    </tr>\n",
       "    <tr>\n",
       "      <th>t</th>\n",
       "      <td>1</td>\n",
       "      <td>0</td>\n",
       "      <td>1</td>\n",
       "      <td>2</td>\n",
       "      <td>sqrt(2)/2</td>\n",
       "      <td>0</td>\n",
       "      <td>-sqrt(2)/2</td>\n",
       "    </tr>\n",
       "    <tr>\n",
       "      <th>u</th>\n",
       "      <td>0</td>\n",
       "      <td>1</td>\n",
       "      <td>2</td>\n",
       "      <td>1</td>\n",
       "      <td>-sqrt(2)/2</td>\n",
       "      <td>0</td>\n",
       "      <td>-sqrt(2)/2</td>\n",
       "    </tr>\n",
       "    <tr>\n",
       "      <th>v</th>\n",
       "      <td>0</td>\n",
       "      <td>1</td>\n",
       "      <td>1</td>\n",
       "      <td>2</td>\n",
       "      <td>0</td>\n",
       "      <td>-sqrt(2)/2</td>\n",
       "      <td>-sqrt(2)/2</td>\n",
       "    </tr>\n",
       "    <tr>\n",
       "      <th>w</th>\n",
       "      <td>1</td>\n",
       "      <td>1</td>\n",
       "      <td>2</td>\n",
       "      <td>0</td>\n",
       "      <td>-sqrt(2)/2</td>\n",
       "      <td>sqrt(2)/2</td>\n",
       "      <td>0</td>\n",
       "    </tr>\n",
       "    <tr>\n",
       "      <th>x</th>\n",
       "      <td>0</td>\n",
       "      <td>2</td>\n",
       "      <td>1</td>\n",
       "      <td>1</td>\n",
       "      <td>-sqrt(2)/2</td>\n",
       "      <td>-sqrt(2)/2</td>\n",
       "      <td>0</td>\n",
       "    </tr>\n",
       "    <tr>\n",
       "      <th>y</th>\n",
       "      <td>1</td>\n",
       "      <td>1</td>\n",
       "      <td>0</td>\n",
       "      <td>2</td>\n",
       "      <td>sqrt(2)/2</td>\n",
       "      <td>-sqrt(2)/2</td>\n",
       "      <td>0</td>\n",
       "    </tr>\n",
       "    <tr>\n",
       "      <th>z</th>\n",
       "      <td>2</td>\n",
       "      <td>0</td>\n",
       "      <td>1</td>\n",
       "      <td>1</td>\n",
       "      <td>sqrt(2)/2</td>\n",
       "      <td>sqrt(2)/2</td>\n",
       "      <td>0</td>\n",
       "    </tr>\n",
       "  </tbody>\n",
       "</table>\n",
       "</div>"
      ],
      "text/plain": [
       "System      IVM                  XYZ                        \n",
       "Coords        A  B  C  D           X           Y           Z\n",
       "Shape Verts                                                 \n",
       "Tet   a       1  0  0  0   sqrt(2)/4   sqrt(2)/4   sqrt(2)/4\n",
       "      b       0  1  0  0  -sqrt(2)/4  -sqrt(2)/4   sqrt(2)/4\n",
       "      c       0  0  1  0  -sqrt(2)/4   sqrt(2)/4  -sqrt(2)/4\n",
       "      d       0  0  0  1   sqrt(2)/4  -sqrt(2)/4  -sqrt(2)/4\n",
       "~Tet  e       0  1  1  1  -sqrt(2)/4  -sqrt(2)/4  -sqrt(2)/4\n",
       "      f       1  0  1  1   sqrt(2)/4   sqrt(2)/4  -sqrt(2)/4\n",
       "      g       1  1  0  1   sqrt(2)/4  -sqrt(2)/4   sqrt(2)/4\n",
       "      h       1  1  1  0  -sqrt(2)/4   sqrt(2)/4   sqrt(2)/4\n",
       "Cube  a       1  0  0  0   sqrt(2)/4   sqrt(2)/4   sqrt(2)/4\n",
       "      b       0  1  0  0  -sqrt(2)/4  -sqrt(2)/4   sqrt(2)/4\n",
       "      c       0  0  1  0  -sqrt(2)/4   sqrt(2)/4  -sqrt(2)/4\n",
       "      d       0  0  0  1   sqrt(2)/4  -sqrt(2)/4  -sqrt(2)/4\n",
       "      e       0  1  1  1  -sqrt(2)/4  -sqrt(2)/4  -sqrt(2)/4\n",
       "      f       1  0  1  1   sqrt(2)/4   sqrt(2)/4  -sqrt(2)/4\n",
       "      g       1  1  0  1   sqrt(2)/4  -sqrt(2)/4   sqrt(2)/4\n",
       "      h       1  1  1  0  -sqrt(2)/4   sqrt(2)/4   sqrt(2)/4\n",
       "Oct   i       1  1  0  0           0           0   sqrt(2)/2\n",
       "      j       1  0  1  0           0   sqrt(2)/2           0\n",
       "      k       1  0  0  1   sqrt(2)/2           0           0\n",
       "      l       0  1  1  0  -sqrt(2)/2           0           0\n",
       "      m       0  1  0  1           0  -sqrt(2)/2           0\n",
       "      n       0  0  1  1           0           0  -sqrt(2)/2\n",
       "RD    a       1  0  0  0   sqrt(2)/4   sqrt(2)/4   sqrt(2)/4\n",
       "      b       0  1  0  0  -sqrt(2)/4  -sqrt(2)/4   sqrt(2)/4\n",
       "      c       0  0  1  0  -sqrt(2)/4   sqrt(2)/4  -sqrt(2)/4\n",
       "      d       0  0  0  1   sqrt(2)/4  -sqrt(2)/4  -sqrt(2)/4\n",
       "      e       0  1  1  1  -sqrt(2)/4  -sqrt(2)/4  -sqrt(2)/4\n",
       "      f       1  0  1  1   sqrt(2)/4   sqrt(2)/4  -sqrt(2)/4\n",
       "      g       1  1  0  1   sqrt(2)/4  -sqrt(2)/4   sqrt(2)/4\n",
       "      h       1  1  1  0  -sqrt(2)/4   sqrt(2)/4   sqrt(2)/4\n",
       "      i       1  1  0  0           0           0   sqrt(2)/2\n",
       "      j       1  0  1  0           0   sqrt(2)/2           0\n",
       "      k       1  0  0  1   sqrt(2)/2           0           0\n",
       "      l       0  1  1  0  -sqrt(2)/2           0           0\n",
       "      m       0  1  0  1           0  -sqrt(2)/2           0\n",
       "      n       0  0  1  1           0           0  -sqrt(2)/2\n",
       "CO    o       2  1  1  0           0   sqrt(2)/2   sqrt(2)/2\n",
       "      p       2  1  0  1   sqrt(2)/2           0   sqrt(2)/2\n",
       "      q       1  2  1  0  -sqrt(2)/2           0   sqrt(2)/2\n",
       "      r       1  2  0  1           0  -sqrt(2)/2   sqrt(2)/2\n",
       "      s       1  0  2  1           0   sqrt(2)/2  -sqrt(2)/2\n",
       "      t       1  0  1  2   sqrt(2)/2           0  -sqrt(2)/2\n",
       "      u       0  1  2  1  -sqrt(2)/2           0  -sqrt(2)/2\n",
       "      v       0  1  1  2           0  -sqrt(2)/2  -sqrt(2)/2\n",
       "      w       1  1  2  0  -sqrt(2)/2   sqrt(2)/2           0\n",
       "      x       0  2  1  1  -sqrt(2)/2  -sqrt(2)/2           0\n",
       "      y       1  1  0  2   sqrt(2)/2  -sqrt(2)/2           0\n",
       "      z       2  0  1  1   sqrt(2)/2   sqrt(2)/2           0"
      ]
     },
     "execution_count": 38,
     "metadata": {},
     "output_type": "execute_result"
    }
   ],
   "source": [
    "tet = tabulate(fx.Tetrahedron())\n",
    "invtet = tabulate(fx.InvTetrahedron())\n",
    "cu   = tabulate(fx.Cube())\n",
    "octa = tabulate(fx.Octahedron())\n",
    "rd   = tabulate(fx.RD())\n",
    "co   = tabulate(fx.Cuboctahedron())\n",
    "\n",
    "master_df = pd.concat((tet, invtet, cu, octa, rd, co), axis=0)\n",
    "master_df"
   ]
  },
  {
   "cell_type": "code",
   "execution_count": 39,
   "id": "0599fc2d-dd44-4293-9b5e-8ad7b034777a",
   "metadata": {},
   "outputs": [
    {
     "data": {
      "text/html": [
       "<div>\n",
       "<style scoped>\n",
       "    .dataframe tbody tr th:only-of-type {\n",
       "        vertical-align: middle;\n",
       "    }\n",
       "\n",
       "    .dataframe tbody tr th {\n",
       "        vertical-align: top;\n",
       "    }\n",
       "\n",
       "    .dataframe thead tr th {\n",
       "        text-align: left;\n",
       "    }\n",
       "\n",
       "    .dataframe thead tr:last-of-type th {\n",
       "        text-align: right;\n",
       "    }\n",
       "</style>\n",
       "<table border=\"1\" class=\"dataframe\">\n",
       "  <thead>\n",
       "    <tr>\n",
       "      <th></th>\n",
       "      <th>System</th>\n",
       "      <th colspan=\"4\" halign=\"left\">IVM</th>\n",
       "      <th colspan=\"3\" halign=\"left\">XYZ</th>\n",
       "    </tr>\n",
       "    <tr>\n",
       "      <th></th>\n",
       "      <th>Coords</th>\n",
       "      <th>A</th>\n",
       "      <th>B</th>\n",
       "      <th>C</th>\n",
       "      <th>D</th>\n",
       "      <th>X</th>\n",
       "      <th>Y</th>\n",
       "      <th>Z</th>\n",
       "    </tr>\n",
       "    <tr>\n",
       "      <th>Shape</th>\n",
       "      <th>Verts</th>\n",
       "      <th></th>\n",
       "      <th></th>\n",
       "      <th></th>\n",
       "      <th></th>\n",
       "      <th></th>\n",
       "      <th></th>\n",
       "      <th></th>\n",
       "    </tr>\n",
       "  </thead>\n",
       "  <tbody>\n",
       "    <tr>\n",
       "      <th rowspan=\"12\" valign=\"top\">Ico</th>\n",
       "      <th>o</th>\n",
       "      <td>1.8512</td>\n",
       "      <td>0.70711</td>\n",
       "      <td>1.1441</td>\n",
       "      <td>0</td>\n",
       "      <td>0.0</td>\n",
       "      <td>0.80902</td>\n",
       "      <td>0.50000</td>\n",
       "    </tr>\n",
       "    <tr>\n",
       "      <th>p</th>\n",
       "      <td>1.8512</td>\n",
       "      <td>1.1441</td>\n",
       "      <td>0</td>\n",
       "      <td>0.70711</td>\n",
       "      <td>0.50000</td>\n",
       "      <td>0.0</td>\n",
       "      <td>0.80902</td>\n",
       "    </tr>\n",
       "    <tr>\n",
       "      <th>q</th>\n",
       "      <td>1.1441</td>\n",
       "      <td>1.8512</td>\n",
       "      <td>0.70711</td>\n",
       "      <td>0</td>\n",
       "      <td>-0.50000</td>\n",
       "      <td>0.0</td>\n",
       "      <td>0.80902</td>\n",
       "    </tr>\n",
       "    <tr>\n",
       "      <th>r</th>\n",
       "      <td>0.70711</td>\n",
       "      <td>1.8512</td>\n",
       "      <td>0</td>\n",
       "      <td>1.1441</td>\n",
       "      <td>0.0</td>\n",
       "      <td>-0.80902</td>\n",
       "      <td>0.50000</td>\n",
       "    </tr>\n",
       "    <tr>\n",
       "      <th>s</th>\n",
       "      <td>1.1441</td>\n",
       "      <td>0</td>\n",
       "      <td>1.8512</td>\n",
       "      <td>0.70711</td>\n",
       "      <td>0.0</td>\n",
       "      <td>0.80902</td>\n",
       "      <td>-0.50000</td>\n",
       "    </tr>\n",
       "    <tr>\n",
       "      <th>t</th>\n",
       "      <td>0.70711</td>\n",
       "      <td>0</td>\n",
       "      <td>1.1441</td>\n",
       "      <td>1.8512</td>\n",
       "      <td>0.50000</td>\n",
       "      <td>0.0</td>\n",
       "      <td>-0.80902</td>\n",
       "    </tr>\n",
       "    <tr>\n",
       "      <th>u</th>\n",
       "      <td>0</td>\n",
       "      <td>0.70711</td>\n",
       "      <td>1.8512</td>\n",
       "      <td>1.1441</td>\n",
       "      <td>-0.50000</td>\n",
       "      <td>0.0</td>\n",
       "      <td>-0.80902</td>\n",
       "    </tr>\n",
       "    <tr>\n",
       "      <th>v</th>\n",
       "      <td>0</td>\n",
       "      <td>1.1441</td>\n",
       "      <td>0.70711</td>\n",
       "      <td>1.8512</td>\n",
       "      <td>0.0</td>\n",
       "      <td>-0.80902</td>\n",
       "      <td>-0.50000</td>\n",
       "    </tr>\n",
       "    <tr>\n",
       "      <th>w</th>\n",
       "      <td>0.70711</td>\n",
       "      <td>1.1441</td>\n",
       "      <td>1.8512</td>\n",
       "      <td>0</td>\n",
       "      <td>-0.80902</td>\n",
       "      <td>0.50000</td>\n",
       "      <td>0.0</td>\n",
       "    </tr>\n",
       "    <tr>\n",
       "      <th>x</th>\n",
       "      <td>0</td>\n",
       "      <td>1.8512</td>\n",
       "      <td>1.1441</td>\n",
       "      <td>0.70711</td>\n",
       "      <td>-0.80902</td>\n",
       "      <td>-0.50000</td>\n",
       "      <td>0.0</td>\n",
       "    </tr>\n",
       "    <tr>\n",
       "      <th>y</th>\n",
       "      <td>1.1441</td>\n",
       "      <td>0.70711</td>\n",
       "      <td>0</td>\n",
       "      <td>1.8512</td>\n",
       "      <td>0.80902</td>\n",
       "      <td>-0.50000</td>\n",
       "      <td>0.0</td>\n",
       "    </tr>\n",
       "    <tr>\n",
       "      <th>z</th>\n",
       "      <td>1.8512</td>\n",
       "      <td>0</td>\n",
       "      <td>0.70711</td>\n",
       "      <td>1.1441</td>\n",
       "      <td>0.80902</td>\n",
       "      <td>0.50000</td>\n",
       "      <td>0.0</td>\n",
       "    </tr>\n",
       "  </tbody>\n",
       "</table>\n",
       "</div>"
      ],
      "text/plain": [
       "System           IVM                                  XYZ                    \n",
       "Coords             A        B        C        D         X         Y         Z\n",
       "Shape Verts                                                                  \n",
       "Ico   o       1.8512  0.70711   1.1441        0       0.0   0.80902   0.50000\n",
       "      p       1.8512   1.1441        0  0.70711   0.50000       0.0   0.80902\n",
       "      q       1.1441   1.8512  0.70711        0  -0.50000       0.0   0.80902\n",
       "      r      0.70711   1.8512        0   1.1441       0.0  -0.80902   0.50000\n",
       "      s       1.1441        0   1.8512  0.70711       0.0   0.80902  -0.50000\n",
       "      t      0.70711        0   1.1441   1.8512   0.50000       0.0  -0.80902\n",
       "      u            0  0.70711   1.8512   1.1441  -0.50000       0.0  -0.80902\n",
       "      v            0   1.1441  0.70711   1.8512       0.0  -0.80902  -0.50000\n",
       "      w      0.70711   1.1441   1.8512        0  -0.80902   0.50000       0.0\n",
       "      x            0   1.8512   1.1441  0.70711  -0.80902  -0.50000       0.0\n",
       "      y       1.1441  0.70711        0   1.8512   0.80902  -0.50000       0.0\n",
       "      z       1.8512        0  0.70711   1.1441   0.80902   0.50000       0.0"
      ]
     },
     "execution_count": 39,
     "metadata": {},
     "output_type": "execute_result"
    }
   ],
   "source": [
    "df = tabulate(fx.Icosahedron(),dec=True,n=5)\n",
    "df"
   ]
  },
  {
   "cell_type": "code",
   "execution_count": 40,
   "id": "bf6061ff-3d83-485c-a66a-f8993470639b",
   "metadata": {},
   "outputs": [
    {
     "data": {
      "text/plain": [
       "[Edge from ivm_vector(a=1, b=2, c=0, d=1) to ivm_vector(a=1, b=1, c=0, d=2),\n",
       " Edge from ivm_vector(a=1, b=0, c=1, d=2) to ivm_vector(a=2, b=0, c=1, d=1),\n",
       " Edge from ivm_vector(a=0, b=1, c=1, d=2) to ivm_vector(a=0, b=2, c=1, d=1),\n",
       " Edge from ivm_vector(a=1, b=0, c=2, d=1) to ivm_vector(a=1, b=1, c=2, d=0),\n",
       " Edge from ivm_vector(a=0, b=1, c=2, d=1) to ivm_vector(a=0, b=1, c=1, d=2),\n",
       " Edge from ivm_vector(a=2, b=1, c=0, d=1) to ivm_vector(a=2, b=0, c=1, d=1),\n",
       " Edge from ivm_vector(a=0, b=1, c=2, d=1) to ivm_vector(a=1, b=1, c=2, d=0),\n",
       " Edge from ivm_vector(a=1, b=2, c=1, d=0) to ivm_vector(a=1, b=1, c=2, d=0),\n",
       " Edge from ivm_vector(a=2, b=1, c=1, d=0) to ivm_vector(a=1, b=2, c=1, d=0),\n",
       " Edge from ivm_vector(a=2, b=1, c=1, d=0) to ivm_vector(a=1, b=1, c=2, d=0),\n",
       " Edge from ivm_vector(a=1, b=0, c=2, d=1) to ivm_vector(a=2, b=0, c=1, d=1),\n",
       " Edge from ivm_vector(a=2, b=1, c=1, d=0) to ivm_vector(a=2, b=0, c=1, d=1),\n",
       " Edge from ivm_vector(a=2, b=1, c=0, d=1) to ivm_vector(a=1, b=2, c=0, d=1),\n",
       " Edge from ivm_vector(a=1, b=2, c=0, d=1) to ivm_vector(a=0, b=2, c=1, d=1),\n",
       " Edge from ivm_vector(a=1, b=0, c=2, d=1) to ivm_vector(a=0, b=1, c=2, d=1),\n",
       " Edge from ivm_vector(a=1, b=2, c=1, d=0) to ivm_vector(a=1, b=2, c=0, d=1),\n",
       " Edge from ivm_vector(a=1, b=0, c=2, d=1) to ivm_vector(a=1, b=0, c=1, d=2),\n",
       " Edge from ivm_vector(a=1, b=2, c=1, d=0) to ivm_vector(a=0, b=2, c=1, d=1),\n",
       " Edge from ivm_vector(a=0, b=1, c=2, d=1) to ivm_vector(a=0, b=2, c=1, d=1),\n",
       " Edge from ivm_vector(a=0, b=1, c=1, d=2) to ivm_vector(a=1, b=1, c=0, d=2),\n",
       " Edge from ivm_vector(a=2, b=1, c=1, d=0) to ivm_vector(a=2, b=1, c=0, d=1),\n",
       " Edge from ivm_vector(a=1, b=0, c=1, d=2) to ivm_vector(a=1, b=1, c=0, d=2),\n",
       " Edge from ivm_vector(a=1, b=0, c=1, d=2) to ivm_vector(a=0, b=1, c=1, d=2),\n",
       " Edge from ivm_vector(a=2, b=1, c=0, d=1) to ivm_vector(a=1, b=1, c=0, d=2)]"
      ]
     },
     "execution_count": 40,
     "metadata": {},
     "output_type": "execute_result"
    }
   ],
   "source": [
    "fx.Cuboctahedron().edges"
   ]
  },
  {
   "cell_type": "code",
   "execution_count": 41,
   "id": "495257f6-d492-44fa-97f4-9fbeaf202570",
   "metadata": {},
   "outputs": [
    {
     "data": {
      "text/plain": [
       "(('o', 'w', 's', 'z'),\n",
       " ('z', 'p', 'y', 't'),\n",
       " ('t', 'v', 'u', 's'),\n",
       " ('w', 'q', 'x', 'u'),\n",
       " ('o', 'p', 'r', 'q'),\n",
       " ('r', 'y', 'v', 'x'),\n",
       " ('z', 's', 't'),\n",
       " ('t', 'y', 'v'),\n",
       " ('y', 'p', 'r'),\n",
       " ('r', 'q', 'x'),\n",
       " ('x', 'u', 'v'),\n",
       " ('u', 's', 'w'),\n",
       " ('w', 'q', 'o'),\n",
       " ('o', 'z', 'p'))"
      ]
     },
     "execution_count": 41,
     "metadata": {},
     "output_type": "execute_result"
    }
   ],
   "source": [
    "fx.Cuboctahedron().faces"
   ]
  },
  {
   "cell_type": "code",
   "execution_count": 42,
   "id": "db40e490-abef-47f0-a3a1-d86952686042",
   "metadata": {},
   "outputs": [
    {
     "data": {
      "text/plain": [
       "{('o', 'p'),\n",
       " ('o', 'q'),\n",
       " ('o', 'w'),\n",
       " ('o', 'z'),\n",
       " ('p', 'r'),\n",
       " ('p', 'y'),\n",
       " ('p', 'z'),\n",
       " ('q', 'r'),\n",
       " ('q', 'w'),\n",
       " ('q', 'x'),\n",
       " ('r', 'x'),\n",
       " ('r', 'y'),\n",
       " ('s', 't'),\n",
       " ('s', 'u'),\n",
       " ('s', 'w'),\n",
       " ('s', 'z'),\n",
       " ('t', 'v'),\n",
       " ('t', 'y'),\n",
       " ('t', 'z'),\n",
       " ('u', 'v'),\n",
       " ('u', 'w'),\n",
       " ('u', 'x'),\n",
       " ('v', 'x'),\n",
       " ('v', 'y')}"
      ]
     },
     "execution_count": 42,
     "metadata": {},
     "output_type": "execute_result"
    }
   ],
   "source": [
    "the_edges = fx.Cuboctahedron().unique\n",
    "the_edges"
   ]
  },
  {
   "cell_type": "code",
   "execution_count": 43,
   "id": "cbf5231a-4ab7-4bc8-b32b-2f3eab3120e0",
   "metadata": {},
   "outputs": [],
   "source": [
    "labels = set()\n",
    "for verts in the_edges:\n",
    "    labels.add(verts[0])\n",
    "    labels.add(verts[1])\n",
    "labels = sorted(list(labels))"
   ]
  },
  {
   "cell_type": "code",
   "execution_count": 44,
   "id": "98c112d5-e977-4cc3-ac86-edfcfefcbe0d",
   "metadata": {},
   "outputs": [
    {
     "data": {
      "text/plain": [
       "['o', 'p', 'q', 'r', 's', 't', 'u', 'v', 'w', 'x', 'y', 'z']"
      ]
     },
     "execution_count": 44,
     "metadata": {},
     "output_type": "execute_result"
    }
   ],
   "source": [
    "labels"
   ]
  },
  {
   "cell_type": "code",
   "execution_count": 45,
   "id": "dd1c093e-6c36-4131-838e-e0e63c7ce7e5",
   "metadata": {},
   "outputs": [
    {
     "data": {
      "text/html": [
       "<div>\n",
       "<style scoped>\n",
       "    .dataframe tbody tr th:only-of-type {\n",
       "        vertical-align: middle;\n",
       "    }\n",
       "\n",
       "    .dataframe tbody tr th {\n",
       "        vertical-align: top;\n",
       "    }\n",
       "\n",
       "    .dataframe thead th {\n",
       "        text-align: right;\n",
       "    }\n",
       "</style>\n",
       "<table border=\"1\" class=\"dataframe\">\n",
       "  <thead>\n",
       "    <tr style=\"text-align: right;\">\n",
       "      <th></th>\n",
       "      <th>o</th>\n",
       "      <th>p</th>\n",
       "      <th>q</th>\n",
       "      <th>r</th>\n",
       "      <th>s</th>\n",
       "      <th>t</th>\n",
       "      <th>u</th>\n",
       "      <th>v</th>\n",
       "      <th>w</th>\n",
       "      <th>x</th>\n",
       "      <th>y</th>\n",
       "      <th>z</th>\n",
       "    </tr>\n",
       "  </thead>\n",
       "  <tbody>\n",
       "    <tr>\n",
       "      <th>o</th>\n",
       "      <td>0</td>\n",
       "      <td>0</td>\n",
       "      <td>0</td>\n",
       "      <td>0</td>\n",
       "      <td>0</td>\n",
       "      <td>0</td>\n",
       "      <td>0</td>\n",
       "      <td>0</td>\n",
       "      <td>0</td>\n",
       "      <td>0</td>\n",
       "      <td>0</td>\n",
       "      <td>0</td>\n",
       "    </tr>\n",
       "    <tr>\n",
       "      <th>p</th>\n",
       "      <td>0</td>\n",
       "      <td>0</td>\n",
       "      <td>0</td>\n",
       "      <td>0</td>\n",
       "      <td>0</td>\n",
       "      <td>0</td>\n",
       "      <td>0</td>\n",
       "      <td>0</td>\n",
       "      <td>0</td>\n",
       "      <td>0</td>\n",
       "      <td>0</td>\n",
       "      <td>0</td>\n",
       "    </tr>\n",
       "    <tr>\n",
       "      <th>q</th>\n",
       "      <td>0</td>\n",
       "      <td>0</td>\n",
       "      <td>0</td>\n",
       "      <td>0</td>\n",
       "      <td>0</td>\n",
       "      <td>0</td>\n",
       "      <td>0</td>\n",
       "      <td>0</td>\n",
       "      <td>0</td>\n",
       "      <td>0</td>\n",
       "      <td>0</td>\n",
       "      <td>0</td>\n",
       "    </tr>\n",
       "    <tr>\n",
       "      <th>r</th>\n",
       "      <td>0</td>\n",
       "      <td>0</td>\n",
       "      <td>0</td>\n",
       "      <td>0</td>\n",
       "      <td>0</td>\n",
       "      <td>0</td>\n",
       "      <td>0</td>\n",
       "      <td>0</td>\n",
       "      <td>0</td>\n",
       "      <td>0</td>\n",
       "      <td>0</td>\n",
       "      <td>0</td>\n",
       "    </tr>\n",
       "    <tr>\n",
       "      <th>s</th>\n",
       "      <td>0</td>\n",
       "      <td>0</td>\n",
       "      <td>0</td>\n",
       "      <td>0</td>\n",
       "      <td>0</td>\n",
       "      <td>0</td>\n",
       "      <td>0</td>\n",
       "      <td>0</td>\n",
       "      <td>0</td>\n",
       "      <td>0</td>\n",
       "      <td>0</td>\n",
       "      <td>0</td>\n",
       "    </tr>\n",
       "    <tr>\n",
       "      <th>t</th>\n",
       "      <td>0</td>\n",
       "      <td>0</td>\n",
       "      <td>0</td>\n",
       "      <td>0</td>\n",
       "      <td>0</td>\n",
       "      <td>0</td>\n",
       "      <td>0</td>\n",
       "      <td>0</td>\n",
       "      <td>0</td>\n",
       "      <td>0</td>\n",
       "      <td>0</td>\n",
       "      <td>0</td>\n",
       "    </tr>\n",
       "    <tr>\n",
       "      <th>u</th>\n",
       "      <td>0</td>\n",
       "      <td>0</td>\n",
       "      <td>0</td>\n",
       "      <td>0</td>\n",
       "      <td>0</td>\n",
       "      <td>0</td>\n",
       "      <td>0</td>\n",
       "      <td>0</td>\n",
       "      <td>0</td>\n",
       "      <td>0</td>\n",
       "      <td>0</td>\n",
       "      <td>0</td>\n",
       "    </tr>\n",
       "    <tr>\n",
       "      <th>v</th>\n",
       "      <td>0</td>\n",
       "      <td>0</td>\n",
       "      <td>0</td>\n",
       "      <td>0</td>\n",
       "      <td>0</td>\n",
       "      <td>0</td>\n",
       "      <td>0</td>\n",
       "      <td>0</td>\n",
       "      <td>0</td>\n",
       "      <td>0</td>\n",
       "      <td>0</td>\n",
       "      <td>0</td>\n",
       "    </tr>\n",
       "    <tr>\n",
       "      <th>w</th>\n",
       "      <td>0</td>\n",
       "      <td>0</td>\n",
       "      <td>0</td>\n",
       "      <td>0</td>\n",
       "      <td>0</td>\n",
       "      <td>0</td>\n",
       "      <td>0</td>\n",
       "      <td>0</td>\n",
       "      <td>0</td>\n",
       "      <td>0</td>\n",
       "      <td>0</td>\n",
       "      <td>0</td>\n",
       "    </tr>\n",
       "    <tr>\n",
       "      <th>x</th>\n",
       "      <td>0</td>\n",
       "      <td>0</td>\n",
       "      <td>0</td>\n",
       "      <td>0</td>\n",
       "      <td>0</td>\n",
       "      <td>0</td>\n",
       "      <td>0</td>\n",
       "      <td>0</td>\n",
       "      <td>0</td>\n",
       "      <td>0</td>\n",
       "      <td>0</td>\n",
       "      <td>0</td>\n",
       "    </tr>\n",
       "    <tr>\n",
       "      <th>y</th>\n",
       "      <td>0</td>\n",
       "      <td>0</td>\n",
       "      <td>0</td>\n",
       "      <td>0</td>\n",
       "      <td>0</td>\n",
       "      <td>0</td>\n",
       "      <td>0</td>\n",
       "      <td>0</td>\n",
       "      <td>0</td>\n",
       "      <td>0</td>\n",
       "      <td>0</td>\n",
       "      <td>0</td>\n",
       "    </tr>\n",
       "    <tr>\n",
       "      <th>z</th>\n",
       "      <td>0</td>\n",
       "      <td>0</td>\n",
       "      <td>0</td>\n",
       "      <td>0</td>\n",
       "      <td>0</td>\n",
       "      <td>0</td>\n",
       "      <td>0</td>\n",
       "      <td>0</td>\n",
       "      <td>0</td>\n",
       "      <td>0</td>\n",
       "      <td>0</td>\n",
       "      <td>0</td>\n",
       "    </tr>\n",
       "  </tbody>\n",
       "</table>\n",
       "</div>"
      ],
      "text/plain": [
       "   o  p  q  r  s  t  u  v  w  x  y  z\n",
       "o  0  0  0  0  0  0  0  0  0  0  0  0\n",
       "p  0  0  0  0  0  0  0  0  0  0  0  0\n",
       "q  0  0  0  0  0  0  0  0  0  0  0  0\n",
       "r  0  0  0  0  0  0  0  0  0  0  0  0\n",
       "s  0  0  0  0  0  0  0  0  0  0  0  0\n",
       "t  0  0  0  0  0  0  0  0  0  0  0  0\n",
       "u  0  0  0  0  0  0  0  0  0  0  0  0\n",
       "v  0  0  0  0  0  0  0  0  0  0  0  0\n",
       "w  0  0  0  0  0  0  0  0  0  0  0  0\n",
       "x  0  0  0  0  0  0  0  0  0  0  0  0\n",
       "y  0  0  0  0  0  0  0  0  0  0  0  0\n",
       "z  0  0  0  0  0  0  0  0  0  0  0  0"
      ]
     },
     "execution_count": 45,
     "metadata": {},
     "output_type": "execute_result"
    }
   ],
   "source": [
    "face_matrix = pd.DataFrame(data=np.zeros((len(labels), len(labels)), dtype=int), \n",
    "                           index = labels,\n",
    "                           columns = labels)\n",
    "face_matrix"
   ]
  },
  {
   "cell_type": "code",
   "execution_count": 46,
   "id": "1bea82fe-e83e-4d6b-b09d-4add2cd706d5",
   "metadata": {
    "scrolled": true
   },
   "outputs": [
    {
     "data": {
      "text/html": [
       "<div>\n",
       "<style scoped>\n",
       "    .dataframe tbody tr th:only-of-type {\n",
       "        vertical-align: middle;\n",
       "    }\n",
       "\n",
       "    .dataframe tbody tr th {\n",
       "        vertical-align: top;\n",
       "    }\n",
       "\n",
       "    .dataframe thead th {\n",
       "        text-align: right;\n",
       "    }\n",
       "</style>\n",
       "<table border=\"1\" class=\"dataframe\">\n",
       "  <thead>\n",
       "    <tr style=\"text-align: right;\">\n",
       "      <th></th>\n",
       "      <th>o</th>\n",
       "      <th>p</th>\n",
       "      <th>q</th>\n",
       "      <th>r</th>\n",
       "      <th>s</th>\n",
       "      <th>t</th>\n",
       "      <th>u</th>\n",
       "      <th>v</th>\n",
       "      <th>w</th>\n",
       "      <th>x</th>\n",
       "      <th>y</th>\n",
       "      <th>z</th>\n",
       "    </tr>\n",
       "  </thead>\n",
       "  <tbody>\n",
       "    <tr>\n",
       "      <th>o</th>\n",
       "      <td>0</td>\n",
       "      <td>1</td>\n",
       "      <td>1</td>\n",
       "      <td>0</td>\n",
       "      <td>0</td>\n",
       "      <td>0</td>\n",
       "      <td>0</td>\n",
       "      <td>0</td>\n",
       "      <td>1</td>\n",
       "      <td>0</td>\n",
       "      <td>0</td>\n",
       "      <td>1</td>\n",
       "    </tr>\n",
       "    <tr>\n",
       "      <th>p</th>\n",
       "      <td>1</td>\n",
       "      <td>0</td>\n",
       "      <td>0</td>\n",
       "      <td>1</td>\n",
       "      <td>0</td>\n",
       "      <td>0</td>\n",
       "      <td>0</td>\n",
       "      <td>0</td>\n",
       "      <td>0</td>\n",
       "      <td>0</td>\n",
       "      <td>1</td>\n",
       "      <td>1</td>\n",
       "    </tr>\n",
       "    <tr>\n",
       "      <th>q</th>\n",
       "      <td>1</td>\n",
       "      <td>0</td>\n",
       "      <td>0</td>\n",
       "      <td>1</td>\n",
       "      <td>0</td>\n",
       "      <td>0</td>\n",
       "      <td>0</td>\n",
       "      <td>0</td>\n",
       "      <td>1</td>\n",
       "      <td>1</td>\n",
       "      <td>0</td>\n",
       "      <td>0</td>\n",
       "    </tr>\n",
       "    <tr>\n",
       "      <th>r</th>\n",
       "      <td>0</td>\n",
       "      <td>1</td>\n",
       "      <td>1</td>\n",
       "      <td>0</td>\n",
       "      <td>0</td>\n",
       "      <td>0</td>\n",
       "      <td>0</td>\n",
       "      <td>0</td>\n",
       "      <td>0</td>\n",
       "      <td>1</td>\n",
       "      <td>1</td>\n",
       "      <td>0</td>\n",
       "    </tr>\n",
       "    <tr>\n",
       "      <th>s</th>\n",
       "      <td>0</td>\n",
       "      <td>0</td>\n",
       "      <td>0</td>\n",
       "      <td>0</td>\n",
       "      <td>0</td>\n",
       "      <td>1</td>\n",
       "      <td>1</td>\n",
       "      <td>0</td>\n",
       "      <td>1</td>\n",
       "      <td>0</td>\n",
       "      <td>0</td>\n",
       "      <td>1</td>\n",
       "    </tr>\n",
       "    <tr>\n",
       "      <th>t</th>\n",
       "      <td>0</td>\n",
       "      <td>0</td>\n",
       "      <td>0</td>\n",
       "      <td>0</td>\n",
       "      <td>1</td>\n",
       "      <td>0</td>\n",
       "      <td>0</td>\n",
       "      <td>1</td>\n",
       "      <td>0</td>\n",
       "      <td>0</td>\n",
       "      <td>1</td>\n",
       "      <td>1</td>\n",
       "    </tr>\n",
       "    <tr>\n",
       "      <th>u</th>\n",
       "      <td>0</td>\n",
       "      <td>0</td>\n",
       "      <td>0</td>\n",
       "      <td>0</td>\n",
       "      <td>1</td>\n",
       "      <td>0</td>\n",
       "      <td>0</td>\n",
       "      <td>1</td>\n",
       "      <td>1</td>\n",
       "      <td>1</td>\n",
       "      <td>0</td>\n",
       "      <td>0</td>\n",
       "    </tr>\n",
       "    <tr>\n",
       "      <th>v</th>\n",
       "      <td>0</td>\n",
       "      <td>0</td>\n",
       "      <td>0</td>\n",
       "      <td>0</td>\n",
       "      <td>0</td>\n",
       "      <td>1</td>\n",
       "      <td>1</td>\n",
       "      <td>0</td>\n",
       "      <td>0</td>\n",
       "      <td>1</td>\n",
       "      <td>1</td>\n",
       "      <td>0</td>\n",
       "    </tr>\n",
       "    <tr>\n",
       "      <th>w</th>\n",
       "      <td>1</td>\n",
       "      <td>0</td>\n",
       "      <td>1</td>\n",
       "      <td>0</td>\n",
       "      <td>1</td>\n",
       "      <td>0</td>\n",
       "      <td>1</td>\n",
       "      <td>0</td>\n",
       "      <td>0</td>\n",
       "      <td>0</td>\n",
       "      <td>0</td>\n",
       "      <td>0</td>\n",
       "    </tr>\n",
       "    <tr>\n",
       "      <th>x</th>\n",
       "      <td>0</td>\n",
       "      <td>0</td>\n",
       "      <td>1</td>\n",
       "      <td>1</td>\n",
       "      <td>0</td>\n",
       "      <td>0</td>\n",
       "      <td>1</td>\n",
       "      <td>1</td>\n",
       "      <td>0</td>\n",
       "      <td>0</td>\n",
       "      <td>0</td>\n",
       "      <td>0</td>\n",
       "    </tr>\n",
       "    <tr>\n",
       "      <th>y</th>\n",
       "      <td>0</td>\n",
       "      <td>1</td>\n",
       "      <td>0</td>\n",
       "      <td>1</td>\n",
       "      <td>0</td>\n",
       "      <td>1</td>\n",
       "      <td>0</td>\n",
       "      <td>1</td>\n",
       "      <td>0</td>\n",
       "      <td>0</td>\n",
       "      <td>0</td>\n",
       "      <td>0</td>\n",
       "    </tr>\n",
       "    <tr>\n",
       "      <th>z</th>\n",
       "      <td>1</td>\n",
       "      <td>1</td>\n",
       "      <td>0</td>\n",
       "      <td>0</td>\n",
       "      <td>1</td>\n",
       "      <td>1</td>\n",
       "      <td>0</td>\n",
       "      <td>0</td>\n",
       "      <td>0</td>\n",
       "      <td>0</td>\n",
       "      <td>0</td>\n",
       "      <td>0</td>\n",
       "    </tr>\n",
       "  </tbody>\n",
       "</table>\n",
       "</div>"
      ],
      "text/plain": [
       "   o  p  q  r  s  t  u  v  w  x  y  z\n",
       "o  0  1  1  0  0  0  0  0  1  0  0  1\n",
       "p  1  0  0  1  0  0  0  0  0  0  1  1\n",
       "q  1  0  0  1  0  0  0  0  1  1  0  0\n",
       "r  0  1  1  0  0  0  0  0  0  1  1  0\n",
       "s  0  0  0  0  0  1  1  0  1  0  0  1\n",
       "t  0  0  0  0  1  0  0  1  0  0  1  1\n",
       "u  0  0  0  0  1  0  0  1  1  1  0  0\n",
       "v  0  0  0  0  0  1  1  0  0  1  1  0\n",
       "w  1  0  1  0  1  0  1  0  0  0  0  0\n",
       "x  0  0  1  1  0  0  1  1  0  0  0  0\n",
       "y  0  1  0  1  0  1  0  1  0  0  0  0\n",
       "z  1  1  0  0  1  1  0  0  0  0  0  0"
      ]
     },
     "execution_count": 46,
     "metadata": {},
     "output_type": "execute_result"
    }
   ],
   "source": [
    "for verts in the_edges:\n",
    "    face_matrix.loc[verts[0], verts[1]] = 1\n",
    "    face_matrix.loc[verts[1], verts[0]] = 1\n",
    "face_matrix"
   ]
  },
  {
   "cell_type": "code",
   "execution_count": 47,
   "id": "ea62ea69-5b84-4fd6-a63d-4ed808bd84b0",
   "metadata": {},
   "outputs": [],
   "source": [
    "def make_matrix(shape):\n",
    "    the_edges = shape.unique\n",
    "    labels = set()\n",
    "    for verts in the_edges:\n",
    "        labels.add(verts[0])\n",
    "        labels.add(verts[1])\n",
    "    labels = sorted(list(labels))\n",
    "    face_matrix = pd.DataFrame(data=np.zeros((len(labels), len(labels)), dtype=int), \n",
    "                           index = labels,\n",
    "                           columns = labels)\n",
    "    for verts in the_edges:\n",
    "        face_matrix.loc[verts[0], verts[1]] = 1\n",
    "        face_matrix.loc[verts[1], verts[0]] = 1\n",
    "    return face_matrix"
   ]
  },
  {
   "cell_type": "code",
   "execution_count": 48,
   "id": "f021f3aa-4472-4836-a30b-e7b8474b5768",
   "metadata": {},
   "outputs": [
    {
     "data": {
      "text/html": [
       "<div>\n",
       "<style scoped>\n",
       "    .dataframe tbody tr th:only-of-type {\n",
       "        vertical-align: middle;\n",
       "    }\n",
       "\n",
       "    .dataframe tbody tr th {\n",
       "        vertical-align: top;\n",
       "    }\n",
       "\n",
       "    .dataframe thead th {\n",
       "        text-align: right;\n",
       "    }\n",
       "</style>\n",
       "<table border=\"1\" class=\"dataframe\">\n",
       "  <thead>\n",
       "    <tr style=\"text-align: right;\">\n",
       "      <th></th>\n",
       "      <th>a</th>\n",
       "      <th>b</th>\n",
       "      <th>c</th>\n",
       "      <th>d</th>\n",
       "    </tr>\n",
       "  </thead>\n",
       "  <tbody>\n",
       "    <tr>\n",
       "      <th>a</th>\n",
       "      <td>0</td>\n",
       "      <td>1</td>\n",
       "      <td>1</td>\n",
       "      <td>1</td>\n",
       "    </tr>\n",
       "    <tr>\n",
       "      <th>b</th>\n",
       "      <td>1</td>\n",
       "      <td>0</td>\n",
       "      <td>1</td>\n",
       "      <td>1</td>\n",
       "    </tr>\n",
       "    <tr>\n",
       "      <th>c</th>\n",
       "      <td>1</td>\n",
       "      <td>1</td>\n",
       "      <td>0</td>\n",
       "      <td>1</td>\n",
       "    </tr>\n",
       "    <tr>\n",
       "      <th>d</th>\n",
       "      <td>1</td>\n",
       "      <td>1</td>\n",
       "      <td>1</td>\n",
       "      <td>0</td>\n",
       "    </tr>\n",
       "  </tbody>\n",
       "</table>\n",
       "</div>"
      ],
      "text/plain": [
       "   a  b  c  d\n",
       "a  0  1  1  1\n",
       "b  1  0  1  1\n",
       "c  1  1  0  1\n",
       "d  1  1  1  0"
      ]
     },
     "execution_count": 48,
     "metadata": {},
     "output_type": "execute_result"
    }
   ],
   "source": [
    "make_matrix(fx.Tetrahedron())"
   ]
  },
  {
   "cell_type": "markdown",
   "id": "f6848823-7ed0-44e1-9afa-1a5a5a5608b4",
   "metadata": {},
   "source": [
    "### BASKET MODULES\n",
    "\n",
    "The goal in this section is to publish a volumes table for the BASKET modules, giving both algebraic and numeric expressions. These modules are defined in terms of their coordinates inside the tetravolume module, imported above as tv."
   ]
  },
  {
   "cell_type": "code",
   "execution_count": 49,
   "id": "ed421c5e-8686-44e1-806d-27f5e7f571b6",
   "metadata": {},
   "outputs": [],
   "source": [
    "Bmod, Amod, Smod, Kmod, Emod, Tmod = tv.B(), tv.A(), tv.S(), tv.K(), tv.E(), tv.T()\n",
    "basket = [Bmod, Amod, Smod, Kmod, Emod, Tmod]"
   ]
  },
  {
   "cell_type": "code",
   "execution_count": 50,
   "id": "da3e50b9-f226-4465-9218-302e452931e7",
   "metadata": {},
   "outputs": [
    {
     "data": {
      "text/plain": [
       "[1/24,\n",
       " 1/24,\n",
       " -sqrt(5)*sqrt(2*sqrt(5) + 6) + 9*sqrt(2*sqrt(5) + 6)/4,\n",
       " 1/16,\n",
       " -sqrt(2)/4 + sqrt(10)/8,\n",
       " 1/24]"
      ]
     },
     "execution_count": 50,
     "metadata": {},
     "output_type": "execute_result"
    }
   ],
   "source": [
    "exp_volumes = [mod.ivm_volume().simplify() for mod in basket]\n",
    "exp_volumes"
   ]
  },
  {
   "cell_type": "markdown",
   "id": "b8eed4ee-56f9-464b-ba7e-91836a9d8e44",
   "metadata": {},
   "source": [
    "Sympy's algebra system computer a volume for the S module without phi. An expression in terms of phi is simpler. We might choose to swap that in, having checked for equality."
   ]
  },
  {
   "cell_type": "code",
   "execution_count": 51,
   "id": "47d8be08-dab1-4665-92bd-4296405e2617",
   "metadata": {},
   "outputs": [
    {
     "data": {
      "text/plain": [
       "True"
      ]
     },
     "execution_count": 51,
     "metadata": {},
     "output_type": "execute_result"
    }
   ],
   "source": [
    "exp_volumes[2].equals(1/(2 * tv.PHI**5))"
   ]
  },
  {
   "cell_type": "code",
   "execution_count": 52,
   "id": "78d38709-f4dc-4481-b51c-47c5f69e9773",
   "metadata": {},
   "outputs": [
    {
     "data": {
      "text/plain": [
       "[1/24, 1/24, 1/(2*(1/2 + sqrt(5)/2)**5), 1/16, -sqrt(2)/4 + sqrt(10)/8, 1/24]"
      ]
     },
     "execution_count": 52,
     "metadata": {},
     "output_type": "execute_result"
    }
   ],
   "source": [
    "exp_volumes[2] = 1/(2 * tv.PHI**5)\n",
    "exp_volumes"
   ]
  },
  {
   "cell_type": "code",
   "execution_count": 53,
   "id": "cb9b3853-a716-4859-9cfd-d41eec2dff98",
   "metadata": {},
   "outputs": [
    {
     "data": {
      "text/plain": [
       "[0.0416666666666667,\n",
       " 0.0416666666666667,\n",
       " 0.0450849718747371,\n",
       " 0.0625000000000000,\n",
       " 0.0417313169277737,\n",
       " 0.0416666666666667]"
      ]
     },
     "execution_count": 53,
     "metadata": {},
     "output_type": "execute_result"
    }
   ],
   "source": [
    "num_volumes = [mod.ivm_volume().simplify().evalf() for mod in basket]\n",
    "num_volumes"
   ]
  },
  {
   "cell_type": "code",
   "execution_count": 54,
   "id": "ef8ef5d3-b150-44af-b7b5-16aec20ecbfe",
   "metadata": {},
   "outputs": [],
   "source": [
    "pd.set_option('display.max_colwidth', None)"
   ]
  },
  {
   "cell_type": "code",
   "execution_count": 55,
   "id": "a57b5e8f-abc4-4a04-bc20-7d83533c2366",
   "metadata": {},
   "outputs": [
    {
     "data": {
      "text/html": [
       "<div>\n",
       "<style scoped>\n",
       "    .dataframe tbody tr th:only-of-type {\n",
       "        vertical-align: middle;\n",
       "    }\n",
       "\n",
       "    .dataframe tbody tr th {\n",
       "        vertical-align: top;\n",
       "    }\n",
       "\n",
       "    .dataframe thead th {\n",
       "        text-align: right;\n",
       "    }\n",
       "</style>\n",
       "<table border=\"1\" class=\"dataframe\">\n",
       "  <thead>\n",
       "    <tr style=\"text-align: right;\">\n",
       "      <th></th>\n",
       "      <th>Algebraic</th>\n",
       "      <th>Numeric</th>\n",
       "    </tr>\n",
       "  </thead>\n",
       "  <tbody>\n",
       "    <tr>\n",
       "      <th>B</th>\n",
       "      <td>1/24</td>\n",
       "      <td>0.0416666666666667</td>\n",
       "    </tr>\n",
       "    <tr>\n",
       "      <th>A</th>\n",
       "      <td>1/24</td>\n",
       "      <td>0.0416666666666667</td>\n",
       "    </tr>\n",
       "    <tr>\n",
       "      <th>S</th>\n",
       "      <td>1/(2*(1/2 + sqrt(5)/2)**5)</td>\n",
       "      <td>0.0450849718747371</td>\n",
       "    </tr>\n",
       "    <tr>\n",
       "      <th>K</th>\n",
       "      <td>1/16</td>\n",
       "      <td>0.0625000000000000</td>\n",
       "    </tr>\n",
       "    <tr>\n",
       "      <th>E</th>\n",
       "      <td>-sqrt(2)/4 + sqrt(10)/8</td>\n",
       "      <td>0.0417313169277737</td>\n",
       "    </tr>\n",
       "    <tr>\n",
       "      <th>T</th>\n",
       "      <td>1/24</td>\n",
       "      <td>0.0416666666666667</td>\n",
       "    </tr>\n",
       "  </tbody>\n",
       "</table>\n",
       "</div>"
      ],
      "text/plain": [
       "                    Algebraic             Numeric\n",
       "B                        1/24  0.0416666666666667\n",
       "A                        1/24  0.0416666666666667\n",
       "S  1/(2*(1/2 + sqrt(5)/2)**5)  0.0450849718747371\n",
       "K                        1/16  0.0625000000000000\n",
       "E     -sqrt(2)/4 + sqrt(10)/8  0.0417313169277737\n",
       "T                        1/24  0.0416666666666667"
      ]
     },
     "execution_count": 55,
     "metadata": {},
     "output_type": "execute_result"
    }
   ],
   "source": [
    "pd.DataFrame({\"Algebraic\":exp_volumes,\n",
    "              \"Numeric\":num_volumes},\n",
    "             index = [\"B\",\"A\",\"S\",\"K\",\"E\",\"T\"])"
   ]
  },
  {
   "cell_type": "code",
   "execution_count": 56,
   "id": "d85abae0-b481-4a6f-bf76-f90390416760",
   "metadata": {},
   "outputs": [
    {
     "data": {
      "text/latex": [
       "$\\displaystyle \\frac{15}{2}$"
      ],
      "text/plain": [
       "15/2"
      ]
     },
     "execution_count": 56,
     "metadata": {},
     "output_type": "execute_result"
    }
   ],
   "source": [
    "tv.K().ivm_volume().simplify() * 120"
   ]
  },
  {
   "cell_type": "code",
   "execution_count": 57,
   "id": "a7df0f04-6471-4610-940f-850aa277c0ac",
   "metadata": {},
   "outputs": [
    {
     "data": {
      "text/latex": [
       "$\\displaystyle 5.00775803133284$"
      ],
      "text/plain": [
       "5.00775803133284"
      ]
     },
     "execution_count": 57,
     "metadata": {},
     "output_type": "execute_result"
    }
   ],
   "source": [
    "tv.E().ivm_volume().simplify().evalf() * 120"
   ]
  },
  {
   "cell_type": "code",
   "execution_count": 58,
   "id": "ab72d811-9cf3-487e-af20-a84cfd6a1cc7",
   "metadata": {},
   "outputs": [
    {
     "data": {
      "text/latex": [
       "$\\displaystyle 5.0$"
      ],
      "text/plain": [
       "5.00000000000000"
      ]
     },
     "execution_count": 58,
     "metadata": {},
     "output_type": "execute_result"
    }
   ],
   "source": [
    "tv.T().ivm_volume().simplify().evalf() * 120"
   ]
  },
  {
   "cell_type": "markdown",
   "id": "377c61cb-0496-4d0c-99c3-dffd579328bb",
   "metadata": {},
   "source": [
    "<a data-flickr-embed=\"true\" href=\"https://www.flickr.com/photos/kirbyurner/54229272363/in/dateposted/\" title=\"Transformation\"><img src=\"https://live.staticflickr.com/65535/54229272363_226f1c6631_z.jpg\" width=\"640\" height=\"480\" alt=\"Transformation\"/></a><script async src=\"//embedr.flickr.com/assets/client-code.js\" charset=\"utf-8\"></script>"
   ]
  },
  {
   "cell_type": "markdown",
   "id": "1dca1bf9-466a-467c-a7c5-a33890956f6b",
   "metadata": {},
   "source": [
    "One path to the IcosaWithin inscribed in Octahedron faces, is to start with the D-edged Icosahedron, cut edges in half (to R), and multiply the result by the Sfactor, yielding edges around 1.08+ R. This is the sought-for scale, the IcosaWithin. Another path, to the target volume, is the cut the edges of the D-edged Cuboctahedron in half (to R), and multiply the result by the Sfactor twice, i.e. Sfactor to the 2nd power. However to get the graphical view, we need to stay on path one.\n",
    "\n",
    "The IW with 24 S modules packed around it, defines the D-edged Octahedron of volume 4."
   ]
  },
  {
   "cell_type": "code",
   "execution_count": 59,
   "id": "8939b0a2-55ce-44ed-867c-c850c6b59d29",
   "metadata": {},
   "outputs": [
    {
     "data": {
      "text/latex": [
       "$\\displaystyle 2.91796067500631$"
      ],
      "text/plain": [
       "2.91796067500631"
      ]
     },
     "execution_count": 59,
     "metadata": {},
     "output_type": "execute_result"
    }
   ],
   "source": [
    "IW = fx.Icosahedron() * sympy.Rational(1,2) * tv.sfactor\n",
    "IW.volume.simplify().evalf()"
   ]
  },
  {
   "cell_type": "code",
   "execution_count": 60,
   "id": "60a5be1a-f882-4d72-87f7-f88d03c206e2",
   "metadata": {},
   "outputs": [
    {
     "data": {
      "text/latex": [
       "$\\displaystyle 4.0$"
      ],
      "text/plain": [
       "4.00000000000000"
      ]
     },
     "execution_count": 60,
     "metadata": {},
     "output_type": "execute_result"
    }
   ],
   "source": [
    "(IW.volume + 24 * tv.S().ivm_volume()).simplify().evalf()"
   ]
  },
  {
   "cell_type": "code",
   "execution_count": 61,
   "id": "16cd2a5b-c50c-467d-8f48-332cfa8c5905",
   "metadata": {},
   "outputs": [
    {
     "data": {
      "text/plain": [
       "True"
      ]
     },
     "execution_count": 61,
     "metadata": {},
     "output_type": "execute_result"
    }
   ],
   "source": [
    "tv.S().ivm_volume().equals( (tv.PHI **-5)/2 )"
   ]
  },
  {
   "cell_type": "code",
   "execution_count": 62,
   "id": "b7693a0b-ce12-44a5-862a-aef9a0b64bc9",
   "metadata": {},
   "outputs": [
    {
     "data": {
      "text/plain": [
       "True"
      ]
     },
     "execution_count": 62,
     "metadata": {},
     "output_type": "execute_result"
    }
   ],
   "source": [
    "(1/(2 * tv.PHI**5)).equals(tv.S().ivm_volume())"
   ]
  },
  {
   "cell_type": "markdown",
   "id": "a560a3c8-e68c-40f5-9f6e-e57b31169790",
   "metadata": {},
   "source": [
    "### Testing Area 51"
   ]
  },
  {
   "cell_type": "code",
   "execution_count": 63,
   "id": "470180bf-9caa-41c5-9b05-ccef6e61b6d8",
   "metadata": {},
   "outputs": [
    {
     "data": {
      "text/latex": [
       "$\\displaystyle 0.5$"
      ],
      "text/plain": [
       "0.50000"
      ]
     },
     "execution_count": 63,
     "metadata": {},
     "output_type": "execute_result"
    }
   ],
   "source": [
    "df.loc[('Ico', 'z')]['XYZ'].Y.evalf(5).round(8)"
   ]
  },
  {
   "cell_type": "code",
   "execution_count": 64,
   "id": "baea64da-81f2-4396-a925-0220612bf284",
   "metadata": {},
   "outputs": [],
   "source": [
    "control = (fx.Z - fx.T).length()\n",
    "half = fx.half\n",
    "midface = (fx.Z + fx.Y)\n",
    "gold    = half * fx.PHI * midface/midface.length()\n",
    "Zi = gold + fx.J/fx.J.length() * (control/2)\n",
    "Yi = gold + fx.M/fx.M.length() * (control/2)"
   ]
  },
  {
   "cell_type": "code",
   "execution_count": 65,
   "id": "70532062-5398-484d-94ea-9d0b3e5027de",
   "metadata": {},
   "outputs": [
    {
     "data": {
      "text/latex": [
       "$\\displaystyle \\frac{1}{2}$"
      ],
      "text/plain": [
       "1/2"
      ]
     },
     "execution_count": 65,
     "metadata": {},
     "output_type": "execute_result"
    }
   ],
   "source": [
    "control/2"
   ]
  },
  {
   "cell_type": "code",
   "execution_count": 66,
   "id": "c6cd1cf3-56e9-499b-afb0-fb44b98ebf2a",
   "metadata": {},
   "outputs": [
    {
     "data": {
      "text/plain": [
       "ivm_vector(a=sqrt(2)/2 + sqrt(2)*(1/2 + sqrt(5)/2)/2, b=0, c=sqrt(2)/2, d=sqrt(2)*(1/2 + sqrt(5)/2)/2)"
      ]
     },
     "execution_count": 66,
     "metadata": {},
     "output_type": "execute_result"
    }
   ],
   "source": [
    "gold + fx.J/fx.J.length() * (control/2)"
   ]
  },
  {
   "cell_type": "code",
   "execution_count": 67,
   "id": "e0658c65-b2d5-4c04-b38a-e477a3232b84",
   "metadata": {},
   "outputs": [
    {
     "data": {
      "text/latex": [
       "$\\displaystyle \\frac{1}{2}$"
      ],
      "text/plain": [
       "1/2"
      ]
     },
     "execution_count": 67,
     "metadata": {},
     "output_type": "execute_result"
    }
   ],
   "source": [
    "half"
   ]
  },
  {
   "cell_type": "code",
   "execution_count": 68,
   "id": "05a23359-09f9-44e1-b656-abfb5e530b98",
   "metadata": {},
   "outputs": [
    {
     "data": {
      "text/plain": [
       "sympy.core.numbers.One"
      ]
     },
     "execution_count": 68,
     "metadata": {},
     "output_type": "execute_result"
    }
   ],
   "source": [
    "type(midface.norm0()[0])"
   ]
  },
  {
   "cell_type": "code",
   "execution_count": 69,
   "id": "e6aa7ad6-2c36-4657-b46a-3836dd6e7882",
   "metadata": {},
   "outputs": [
    {
     "data": {
      "text/plain": [
       "ivm_vector(a=sqrt(2)*(1/2 + sqrt(5)/2)/2, b=0, c=0, d=sqrt(2)*(1/2 + sqrt(5)/2)/2)"
      ]
     },
     "execution_count": 69,
     "metadata": {},
     "output_type": "execute_result"
    }
   ],
   "source": [
    "gold"
   ]
  },
  {
   "cell_type": "code",
   "execution_count": 70,
   "id": "f86f3f87-97ae-4ec8-96a0-925d1fe5f70b",
   "metadata": {},
   "outputs": [
    {
     "data": {
      "text/plain": [
       "ivm_vector(a=sqrt(2)/2 + sqrt(2)*(1/2 + sqrt(5)/2)/2, b=0, c=sqrt(2)/2, d=sqrt(2)*(1/2 + sqrt(5)/2)/2)"
      ]
     },
     "execution_count": 70,
     "metadata": {},
     "output_type": "execute_result"
    }
   ],
   "source": [
    "Zi"
   ]
  },
  {
   "cell_type": "code",
   "execution_count": 71,
   "id": "de9604f8-23d3-4feb-b920-15b2fba167ef",
   "metadata": {},
   "outputs": [
    {
     "data": {
      "text/plain": [
       "ivm_vector(a=sqrt(2)*(1/2 + sqrt(5)/2)/2, b=sqrt(2)/2, c=0, d=sqrt(2)/2 + sqrt(2)*(1/2 + sqrt(5)/2)/2)"
      ]
     },
     "execution_count": 71,
     "metadata": {},
     "output_type": "execute_result"
    }
   ],
   "source": [
    "Yi"
   ]
  },
  {
   "cell_type": "code",
   "execution_count": 72,
   "id": "713caed5-1fc9-4551-b28a-9967c762eb6c",
   "metadata": {},
   "outputs": [
    {
     "data": {
      "text/latex": [
       "$\\displaystyle \\frac{\\sqrt{2}}{2}$"
      ],
      "text/plain": [
       "sqrt(2)/2"
      ]
     },
     "execution_count": 72,
     "metadata": {},
     "output_type": "execute_result"
    }
   ],
   "source": [
    "fx.M.length()"
   ]
  },
  {
   "cell_type": "code",
   "execution_count": 73,
   "id": "4089455d-cf5d-481d-9155-62c148857c8d",
   "metadata": {},
   "outputs": [
    {
     "data": {
      "text/plain": [
       "ivm_vector(a=1, b=0, c=0, d=0)"
      ]
     },
     "execution_count": 73,
     "metadata": {},
     "output_type": "execute_result"
    }
   ],
   "source": [
    "fx.A"
   ]
  },
  {
   "cell_type": "code",
   "execution_count": 74,
   "id": "ddea4b09-aab5-4868-8ccd-5360d0d54805",
   "metadata": {},
   "outputs": [
    {
     "data": {
      "text/plain": [
       "sympy.core.numbers.One"
      ]
     },
     "execution_count": 74,
     "metadata": {},
     "output_type": "execute_result"
    }
   ],
   "source": [
    "type(fx.A.a)"
   ]
  },
  {
   "cell_type": "code",
   "execution_count": 75,
   "id": "52139d9d-2e0b-49c9-84bc-c29935401718",
   "metadata": {},
   "outputs": [
    {
     "data": {
      "text/latex": [
       "$\\displaystyle \\frac{16}{\\left(1 + \\sqrt{5}\\right)^{5}}$"
      ],
      "text/plain": [
       "16/(1 + sqrt(5))**5"
      ]
     },
     "execution_count": 75,
     "metadata": {},
     "output_type": "execute_result"
    }
   ],
   "source": [
    "tv.Svol.simplify() # S module volume"
   ]
  },
  {
   "cell_type": "code",
   "execution_count": 76,
   "id": "9901dd81-0191-4265-ae7e-9c8b4b600882",
   "metadata": {},
   "outputs": [
    {
     "data": {
      "text/latex": [
       "$\\displaystyle 0.045084971874737120511467085914095294300772949514407$"
      ],
      "text/plain": [
       "0.045084971874737120511467085914095294300772949514407"
      ]
     },
     "execution_count": 76,
     "metadata": {},
     "output_type": "execute_result"
    }
   ],
   "source": [
    "tv.Svol.evalf(50)"
   ]
  },
  {
   "cell_type": "code",
   "execution_count": 77,
   "id": "76e1979b-9c6d-42b6-85c7-0ca6709e2e78",
   "metadata": {},
   "outputs": [
    {
     "data": {
      "text/latex": [
       "$\\displaystyle 0.045084971874737120511467085914095294300772949514407$"
      ],
      "text/plain": [
       "0.045084971874737120511467085914095294300772949514407"
      ]
     },
     "execution_count": 77,
     "metadata": {},
     "output_type": "execute_result"
    }
   ],
   "source": [
    "tv.S().ivm_volume().simplify().evalf(50)"
   ]
  },
  {
   "cell_type": "code",
   "execution_count": 78,
   "id": "863bb7bb-11f4-45a6-aee7-b0dac0be8967",
   "metadata": {},
   "outputs": [
    {
     "data": {
      "text/latex": [
       "$\\displaystyle \\frac{\\sqrt{2}}{\\left(1 + \\sqrt{5}\\right)^{3}}$"
      ],
      "text/plain": [
       "sqrt(2)/(1 + sqrt(5))**3"
      ]
     },
     "execution_count": 78,
     "metadata": {},
     "output_type": "execute_result"
    }
   ],
   "source": [
    "tv.Evol.simplify()  # E module volume"
   ]
  },
  {
   "cell_type": "code",
   "execution_count": 79,
   "id": "e46f0dd3-4154-4a91-89b1-1482ea4d14a2",
   "metadata": {},
   "outputs": [
    {
     "data": {
      "text/latex": [
       "$\\displaystyle - \\sqrt{10} + 3 \\sqrt{2}$"
      ],
      "text/plain": [
       "-sqrt(10) + 3*sqrt(2)"
      ]
     },
     "execution_count": 79,
     "metadata": {},
     "output_type": "execute_result"
    }
   ],
   "source": [
    "Sfactor = tv.Svol/tv.Evol\n",
    "Sfactor.simplify()"
   ]
  },
  {
   "cell_type": "code",
   "execution_count": 80,
   "id": "8516d3b4-b4c9-4681-824a-3b1cf8a80968",
   "metadata": {},
   "outputs": [],
   "source": [
    "cuboctavol, icosavol = fx.Cuboctahedron().volume, fx.Icosahedron().volume "
   ]
  },
  {
   "cell_type": "code",
   "execution_count": 81,
   "id": "b8ceb7ee-57ef-47dc-b96e-c16cdc2d11db",
   "metadata": {},
   "outputs": [
    {
     "data": {
      "text/plain": [
       "(20, 18.512295868219161196009899292654531923571426913640)"
      ]
     },
     "execution_count": 81,
     "metadata": {},
     "output_type": "execute_result"
    }
   ],
   "source": [
    "cuboctavol, icosavol.evalf(50)"
   ]
  },
  {
   "cell_type": "code",
   "execution_count": 82,
   "id": "458ab666-4f77-4281-821e-5e4c7aba0d9c",
   "metadata": {},
   "outputs": [
    {
     "data": {
      "text/plain": [
       "True"
      ]
     },
     "execution_count": 82,
     "metadata": {},
     "output_type": "execute_result"
    }
   ],
   "source": [
    "cuboctavol/icosavol == Sfactor"
   ]
  },
  {
   "cell_type": "code",
   "execution_count": 83,
   "id": "b6166e0a-8d88-4d55-bb4b-26d1f5f3aabc",
   "metadata": {},
   "outputs": [
    {
     "data": {
      "text/latex": [
       "$\\displaystyle \\frac{320}{\\left(1 + \\sqrt{5}\\right)^{4}}$"
      ],
      "text/plain": [
       "320/(1 + sqrt(5))**4"
      ]
     },
     "execution_count": 83,
     "metadata": {},
     "output_type": "execute_result"
    }
   ],
   "source": [
    "IW = (5*half * Sfactor ** 2).simplify() # IW = 2.5 CO * sfactor * sfactor\n",
    "IW"
   ]
  },
  {
   "cell_type": "code",
   "execution_count": 84,
   "id": "c34cc8ff-1609-48d4-aed9-2425933270c7",
   "metadata": {},
   "outputs": [
    {
     "data": {
      "text/latex": [
       "$\\displaystyle 2.9179606750063091077247899380617129367814492116542$"
      ],
      "text/plain": [
       "2.9179606750063091077247899380617129367814492116542"
      ]
     },
     "execution_count": 84,
     "metadata": {},
     "output_type": "execute_result"
    }
   ],
   "source": [
    "IW.evalf(50)"
   ]
  },
  {
   "cell_type": "code",
   "execution_count": 85,
   "id": "05fc44e1-725c-4c2a-9edd-2a941fec4bbb",
   "metadata": {},
   "outputs": [
    {
     "data": {
      "text/latex": [
       "$\\displaystyle 4$"
      ],
      "text/plain": [
       "4"
      ]
     },
     "execution_count": 85,
     "metadata": {},
     "output_type": "execute_result"
    }
   ],
   "source": [
    "(IW + 24 * tv.Svol).simplify()"
   ]
  },
  {
   "cell_type": "markdown",
   "id": "5add37c4-0804-4a97-baff-453a8fd9a1eb",
   "metadata": {},
   "source": [
    "## Chatting with ET\n",
    "\n",
    "<a data-flickr-embed=\"true\" href=\"https://www.flickr.com/photos/kirbyurner/54237268265/in/dateposted/\" title=\"Crow Town\"><img src=\"https://live.staticflickr.com/65535/54237268265_393966954d.jpg\" width=\"495\" height=\"500\" alt=\"Crow Town\"/></a><script async src=\"//embedr.flickr.com/assets/client-code.js\" charset=\"utf-8\"></script>"
   ]
  },
  {
   "cell_type": "markdown",
   "id": "da4cd8c9-95d4-4383-92ab-5e8de7583f31",
   "metadata": {},
   "source": [
    "<a data-flickr-embed=\"true\" href=\"https://www.flickr.com/photos/kirbyurner/54237184569/in/dateposted/\" title=\"XYZ IVM conversion\"><img src=\"https://live.staticflickr.com/65535/54237184569_f7a02761c8.jpg\" width=\"500\" height=\"489\" alt=\"XYZ IVM conversion\"/></a><script async src=\"//embedr.flickr.com/assets/client-code.js\" charset=\"utf-8\"></script>\n",
    "\n",
    "<a data-flickr-embed=\"true\" href=\"https://www.flickr.com/photos/kirbyurner/54236059212/in/dateposted/\" title=\"Screen Shot 2024-12-30 at 6.04.21 PM\"><img src=\"https://live.staticflickr.com/65535/54236059212_53a6aff839_o.png\" width=\"210\" height=\"236\" alt=\"Screen Shot 2024-12-30 at 6.04.21 PM\"/></a><script async src=\"//embedr.flickr.com/assets/client-code.js\" charset=\"utf-8\"></script>\n",
    "\n",
    "<br />\n",
    "\n",
    "<a data-flickr-embed=\"true\" href=\"https://www.flickr.com/photos/kirbyurner/54238292610/in/dateposted/\" title=\"Mind Meld\"><img src=\"https://live.staticflickr.com/65535/54238292610_8ed117f520.jpg\" width=\"500\" height=\"375\" alt=\"Mind Meld\"/></a><script async src=\"//embedr.flickr.com/assets/client-code.js\" charset=\"utf-8\"></script>\n",
    "\n",
    "<br />\n",
    "\n",
    "<a data-flickr-embed=\"true\" href=\"https://www.flickr.com/photos/kirbyurner/54238060139/in/dateposted/\" title=\"Platonic Dialog re SynGeom\"><img src=\"https://live.staticflickr.com/65535/54238060139_4d73743226_c.jpg\" width=\"662\" height=\"800\" alt=\"Platonic Dialog re SynGeom\"/></a><script async src=\"//embedr.flickr.com/assets/client-code.js\" charset=\"utf-8\"></script>\n",
    "<br />\n",
    "\n",
    "<a data-flickr-embed=\"true\" href=\"https://www.flickr.com/photos/kirbyurner/54238057534/in/dateposted/\" title=\"Chatting with ET\"><img src=\"https://live.staticflickr.com/65535/54238057534_32fb97a756_c.jpg\" width=\"708\" height=\"800\" alt=\"Chatting with ET\"/></a><script async src=\"//embedr.flickr.com/assets/client-code.js\" charset=\"utf-8\"></script>\n",
    "\n",
    "<br />\n",
    "<a data-flickr-embed=\"true\" href=\"https://www.flickr.com/photos/kirbyurner/54240452415/in/dateposted/\" title=\"Different Camera Angles\"><img src=\"https://live.staticflickr.com/65535/54240452415_9c04380815_o.png\" width=\"323\" height=\"321\" alt=\"Different Camera Angles\"/></a><script async src=\"//embedr.flickr.com/assets/client-code.js\" charset=\"utf-8\"></script>"
   ]
  },
  {
   "cell_type": "markdown",
   "id": "17f672ab-ac16-4eb9-aba4-f29c01ebd065",
   "metadata": {},
   "source": [
    "For POV-Ray script making, see [flextegrity.py](flextegrity.py)"
   ]
  },
  {
   "cell_type": "markdown",
   "id": "0e173af0-882e-4567-b42c-d5fcab95c234",
   "metadata": {},
   "source": [
    "Esteban Trev when Synergetics was published in late 1970s, it contained a dollop of polemics aimed towards orthogonalists, claiming unit tet was less awkward, look at all the whole numbers we're getting, why not explore this branch further? Which he did, along with students, a successful career overall, though with many jealous detractors in his wake saying he stole it all and didn't give credit where due.\n",
    "\n",
    "However, CJ and I agree on this, and Cliff Nelson: he didn't provide an alternative computational apparatus akin to XYZ in the form of a notation amenable to computerization. Cliff set off to devise his own, while in the meantime my Synergetics-L (listserv) learned of quadrays (he later said tetrays) from David Chako. Gerald de Jong and others chipped in, using Pascal and Python, with Tom Ace (a Bucky skeptic) contributed big time on the side, and quadrays became usable as an IVM device. All ball centers have positive whole number addresses. I never understood Cliff's solution, but he was passionate about it. He saw the need. There's a link from the Quadrays page in Wikipedia.\n",
    "\n",
    "Once Quadrays got off the ground, it became more urgent to create agreement on how to convert back and forth with XYZ. That's what I've been working on, making sure to follow up on Bucky's S3 idea, wherein we set our alternative unit volumes side by side and design a simple relationship between them. This relationship is: given an IVM ball, like in CCP (Cubic Closest Packing, not Chinese Communist Party) make a cube of edges R, which is what it has anyway (unit length edges), and make a tetrahedron of edges 2R (or D).\n",
    "Synergetics already showed, in the 1970s, that if we move to a tetrahedral instead of cubing model of 3rd powering, we can recast our ideas of area and volume while keeping our numerical values. n x n = n^2 -- we all think of a growing square but Wayne Roberts, Richard Blankenship, Ghee Beom Kim and so on are showing a grid of triangles will work, even for products like 17 x 89. Just \"close the lid\". Likewise we know from Fuller et all that \"closing the lid\" has a volumetric analog.\n",
    "\n",
    "So the two streams are convergent: Synergetics minus a coordinate system computational apparatus, and a computational apparatus.\n",
    "\n",
    "What I surmised ET might be interested in is the details of this relationship, between IVM and XYZ coordinates. How we go back and forth. I introduced the tightrope walking man, with the caveat and warning that this was not the XYZ unit cube he was walking in. ET then handed me an XYZ cube, color coded and I showed where it would be in my space. My polyhedrons are centered around the origin. That's important. More symmetric. Shoving everything into one of the octants is against the grain, not my design, a road block. So I'm glad the brown cube is behind us. I've showed exactly how it fits and given its quadray coordinates. All is well in 2025.\n",
    "\n",
    "<a data-flickr-embed=\"true\" href=\"https://www.flickr.com/photos/kirbyurner/54239272517/in/dateposted/\" title=\"Screen Shot 2025-01-01 at 7.19.39 AM\"><img src=\"https://live.staticflickr.com/65535/54239272517_cfe665f024_z.jpg\" width=\"640\" height=\"360\" alt=\"Screen Shot 2025-01-01 at 7.19.39 AM\"/></a><script async src=\"//embedr.flickr.com/assets/client-code.js\" charset=\"utf-8\"></script>\n",
    "\n",
    "I thought it bold of me to put his left hand in the all-positive bee hive, so to speak, (where the buzz is all positive) i.e. in the octant used by textbooks when they wanna go 3d but not bother with negative coordinates, considered secondary, not as basic.\n",
    "\n",
    "English associates \"right\" with \"true and correct\" whereas \"left\" is \"sinister\" and is always where the negative numbers go (to the left on a standard number line).\n",
    "\n",
    "That \"right\" is the opposite of \"wrong\" as well as the opposite of \"left\" (ergo implying \"left is wrong\") seems to color the whole of English, to its detriment I might add.\n",
    "\n",
    "In XYZ, the practitioners are careful to point out that only +X, +Y and +Z unit vectors are \"primary\" whereas the other three rays are mere (mirror) reflections and therefore \"secondary\". The unit vectors i, j, k are \"basis vectors\" but -i, -j, -k are negated positives, and therefore derivative, dependent, not co-equals, more 2nd class, more like slaves (they do all the same work but get none of the respect).\n",
    "\n",
    "The opposite of (1, 0, 0, 0), i.e. 180 degrees thereto, is (0, 1, 1, 1). The negation operator works the same as in XYZ: it flips a vector 180 degrees. -(1, 0, 0, 0) equals (0, 1, 1, 1)."
   ]
  },
  {
   "cell_type": "code",
   "execution_count": 86,
   "id": "278ee65f-7830-447d-a76a-c220d0fd13b0",
   "metadata": {},
   "outputs": [],
   "source": [
    "r_edge_cube = {\n",
    "'big_yellow' : fx.Vector((0,0,0)),\n",
    "'small_yellow' : fx.Vector((1,1,1)),\n",
    "'small_blue' : fx.Vector((1,0,0)),\n",
    "'big_blue' : fx.Vector((0,1,1)),\n",
    "'small_green' : fx.Vector((0,1,0)),\n",
    "'big_green' : fx.Vector((1,0,1)),\n",
    "'small_red' : fx.Vector((0,0,1)),\n",
    "'big_red' : fx.Vector((1,1,0)),\n",
    "}"
   ]
  },
  {
   "cell_type": "code",
   "execution_count": 87,
   "id": "2a47fe77-8aad-4106-8664-f81f2b9279e7",
   "metadata": {},
   "outputs": [],
   "source": [
    "by = r_edge_cube['big_yellow']"
   ]
  },
  {
   "cell_type": "code",
   "execution_count": 88,
   "id": "d8a87beb-e284-458d-9558-79ca809a50cf",
   "metadata": {},
   "outputs": [
    {
     "name": "stdout",
     "output_type": "stream",
     "text": [
      "big_yellow     : xyz_vector(x=0, y=0, z=0) ivm_vector(a=0, b=0, c=0, d=0)\n",
      "small_yellow   : xyz_vector(x=1, y=1, z=1) ivm_vector(a=2*sqrt(2), b=0, c=0, d=0)\n",
      "small_blue     : xyz_vector(x=1, y=0, z=0) ivm_vector(a=sqrt(2), b=0, c=0, d=sqrt(2))\n",
      "big_blue       : xyz_vector(x=0, y=1, z=1) ivm_vector(a=2*sqrt(2), b=sqrt(2), c=sqrt(2), d=0)\n",
      "small_green    : xyz_vector(x=0, y=1, z=0) ivm_vector(a=sqrt(2), b=0, c=sqrt(2), d=0)\n",
      "big_green      : xyz_vector(x=1, y=0, z=1) ivm_vector(a=2*sqrt(2), b=sqrt(2), c=0, d=sqrt(2))\n",
      "small_red      : xyz_vector(x=0, y=0, z=1) ivm_vector(a=sqrt(2), b=sqrt(2), c=0, d=0)\n",
      "big_red        : xyz_vector(x=1, y=1, z=0) ivm_vector(a=2*sqrt(2), b=0, c=sqrt(2), d=sqrt(2))\n"
     ]
    }
   ],
   "source": [
    "for name, v in r_edge_cube.items():\n",
    "    print(f\"{name:<15}: {v} {v.quadray()}\")"
   ]
  },
  {
   "cell_type": "code",
   "execution_count": 89,
   "id": "556ab951-769b-4263-8efd-c6e1bc07b42e",
   "metadata": {},
   "outputs": [
    {
     "data": {
      "text/plain": [
       "xyz_vector(x=0, y=0, z=0)"
      ]
     },
     "execution_count": 89,
     "metadata": {},
     "output_type": "execute_result"
    }
   ],
   "source": [
    "by.xyz"
   ]
  },
  {
   "cell_type": "code",
   "execution_count": 90,
   "id": "be9a950c-e0b3-4ce7-80ae-16a964352ab2",
   "metadata": {},
   "outputs": [
    {
     "data": {
      "text/plain": [
       "qrays.Vector"
      ]
     },
     "execution_count": 90,
     "metadata": {},
     "output_type": "execute_result"
    }
   ],
   "source": [
    "type(by)"
   ]
  },
  {
   "cell_type": "code",
   "execution_count": 91,
   "id": "11a58f02-8ba7-46c3-88e4-3d8ee32d2e7e",
   "metadata": {},
   "outputs": [],
   "source": [
    "sy = r_edge_cube['small_yellow']"
   ]
  },
  {
   "cell_type": "code",
   "execution_count": 92,
   "id": "adf1d342-4b41-40fd-88df-15f345875a05",
   "metadata": {},
   "outputs": [
    {
     "data": {
      "text/latex": [
       "$\\displaystyle \\sqrt{3}$"
      ],
      "text/plain": [
       "sqrt(3)"
      ]
     },
     "execution_count": 92,
     "metadata": {},
     "output_type": "execute_result"
    }
   ],
   "source": [
    "sy.length()"
   ]
  },
  {
   "cell_type": "code",
   "execution_count": 93,
   "id": "b830852b-092a-493e-b66c-2cc31104edad",
   "metadata": {},
   "outputs": [],
   "source": [
    "bb = r_edge_cube['big_blue']"
   ]
  },
  {
   "cell_type": "code",
   "execution_count": 94,
   "id": "c78a400d-a15d-482c-8945-ebb06d11f3db",
   "metadata": {},
   "outputs": [
    {
     "data": {
      "text/latex": [
       "$\\displaystyle \\sqrt{2}$"
      ],
      "text/plain": [
       "sqrt(2)"
      ]
     },
     "execution_count": 94,
     "metadata": {},
     "output_type": "execute_result"
    }
   ],
   "source": [
    "(bb-by).length()"
   ]
  },
  {
   "cell_type": "code",
   "execution_count": 95,
   "id": "a0357262-80ae-498c-9b4a-4388d02db429",
   "metadata": {},
   "outputs": [],
   "source": [
    "sr = r_edge_cube['small_red']"
   ]
  },
  {
   "cell_type": "code",
   "execution_count": 96,
   "id": "83d60ece-3149-4bda-ab5a-96c9223613b9",
   "metadata": {},
   "outputs": [
    {
     "data": {
      "text/latex": [
       "$\\displaystyle 1$"
      ],
      "text/plain": [
       "1"
      ]
     },
     "execution_count": 96,
     "metadata": {},
     "output_type": "execute_result"
    }
   ],
   "source": [
    "(by - sr).length()"
   ]
  },
  {
   "cell_type": "code",
   "execution_count": 97,
   "id": "333ba59b-e085-4b5b-b44e-c6adf62fd66f",
   "metadata": {},
   "outputs": [
    {
     "name": "stdout",
     "output_type": "stream",
     "text": [
      "1.060660172\n"
     ]
    }
   ],
   "source": [
    "print(sympy.sqrt(sympy.Rational(9,8)).evalf(10))"
   ]
  },
  {
   "cell_type": "code",
   "execution_count": 98,
   "id": "56055fd2-badc-4c18-bfb5-26ea7df58214",
   "metadata": {},
   "outputs": [
    {
     "data": {
      "text/latex": [
       "$\\displaystyle 1$"
      ],
      "text/plain": [
       "1"
      ]
     },
     "execution_count": 98,
     "metadata": {},
     "output_type": "execute_result"
    }
   ],
   "source": [
    "X = fx.Vector((1,0,0))\n",
    "X.length()"
   ]
  },
  {
   "cell_type": "code",
   "execution_count": 99,
   "id": "b033d21e-374a-4783-92df-c504c3c3d741",
   "metadata": {},
   "outputs": [
    {
     "data": {
      "text/latex": [
       "$\\displaystyle \\frac{\\sqrt{6}}{4}$"
      ],
      "text/plain": [
       "sqrt(6)/4"
      ]
     },
     "execution_count": 99,
     "metadata": {},
     "output_type": "execute_result"
    }
   ],
   "source": [
    "A = fx.A\n",
    "A.length()"
   ]
  },
  {
   "cell_type": "code",
   "execution_count": 100,
   "id": "54ecb217-b196-48b8-b8e1-dc1e3f9598df",
   "metadata": {},
   "outputs": [
    {
     "data": {
      "text/latex": [
       "$\\displaystyle 1$"
      ],
      "text/plain": [
       "1"
      ]
     },
     "execution_count": 100,
     "metadata": {},
     "output_type": "execute_result"
    }
   ],
   "source": [
    "(fx.A - fx.B).length()"
   ]
  },
  {
   "cell_type": "code",
   "execution_count": 101,
   "id": "fea012d7-a079-437e-9d36-ca17b722871f",
   "metadata": {},
   "outputs": [
    {
     "data": {
      "text/latex": [
       "$\\displaystyle \\frac{\\sqrt{6}}{4}$"
      ],
      "text/plain": [
       "sqrt(6)/4"
      ]
     },
     "execution_count": 101,
     "metadata": {},
     "output_type": "execute_result"
    }
   ],
   "source": [
    "A.xyz.length()"
   ]
  },
  {
   "cell_type": "code",
   "execution_count": 102,
   "id": "0f463b97-b35a-436e-86ab-f8ad315659d7",
   "metadata": {},
   "outputs": [
    {
     "data": {
      "text/latex": [
       "$\\displaystyle \\frac{\\sqrt{6}}{4}$"
      ],
      "text/plain": [
       "sqrt(6)/4"
      ]
     },
     "execution_count": 102,
     "metadata": {},
     "output_type": "execute_result"
    }
   ],
   "source": [
    "A.length()"
   ]
  },
  {
   "cell_type": "code",
   "execution_count": 103,
   "id": "6a1c28e8-fa95-4097-bb1d-38d6a75e0575",
   "metadata": {},
   "outputs": [
    {
     "data": {
      "text/latex": [
       "$\\displaystyle 1$"
      ],
      "text/plain": [
       "1"
      ]
     },
     "execution_count": 103,
     "metadata": {},
     "output_type": "execute_result"
    }
   ],
   "source": [
    "X.quadray().length()"
   ]
  },
  {
   "cell_type": "code",
   "execution_count": 104,
   "id": "2046f4dd-c5e6-447b-a02a-11f5472dc892",
   "metadata": {},
   "outputs": [
    {
     "data": {
      "text/latex": [
       "$\\displaystyle 1$"
      ],
      "text/plain": [
       "1"
      ]
     },
     "execution_count": 104,
     "metadata": {},
     "output_type": "execute_result"
    }
   ],
   "source": [
    "X.length()"
   ]
  },
  {
   "cell_type": "code",
   "execution_count": 105,
   "id": "cdb1ba64-0727-434b-9a92-34300c129649",
   "metadata": {},
   "outputs": [
    {
     "data": {
      "text/latex": [
       "$\\displaystyle 1$"
      ],
      "text/plain": [
       "1"
      ]
     },
     "execution_count": 105,
     "metadata": {},
     "output_type": "execute_result"
    }
   ],
   "source": [
    "(fx.A.xyz - fx.B.xyz).length()"
   ]
  },
  {
   "cell_type": "code",
   "execution_count": 106,
   "id": "5d19e65d-e6d0-4ade-87fa-75dd751184e3",
   "metadata": {},
   "outputs": [],
   "source": [
    "br = r_edge_cube['big_red']\n",
    "bg = r_edge_cube['big_green']\n",
    "sb = r_edge_cube['small_blue']"
   ]
  },
  {
   "cell_type": "code",
   "execution_count": 107,
   "id": "b415d6f9-2e97-483a-825d-d0efc1cff5d9",
   "metadata": {},
   "outputs": [
    {
     "data": {
      "text/latex": [
       "$\\displaystyle \\sqrt{2}$"
      ],
      "text/plain": [
       "sqrt(2)"
      ]
     },
     "execution_count": 107,
     "metadata": {},
     "output_type": "execute_result"
    }
   ],
   "source": [
    "(br - bg).length()"
   ]
  },
  {
   "cell_type": "code",
   "execution_count": 108,
   "id": "57a64cc8-e55f-4d0c-adb5-935a150b206c",
   "metadata": {},
   "outputs": [
    {
     "data": {
      "text/latex": [
       "$\\displaystyle 1$"
      ],
      "text/plain": [
       "1"
      ]
     },
     "execution_count": 108,
     "metadata": {},
     "output_type": "execute_result"
    }
   ],
   "source": [
    "(br - sb).length()"
   ]
  },
  {
   "cell_type": "code",
   "execution_count": 109,
   "id": "06f9a113-d3c7-4080-a690-a67a987bc4eb",
   "metadata": {},
   "outputs": [
    {
     "data": {
      "text/latex": [
       "$\\displaystyle 1$"
      ],
      "text/plain": [
       "1"
      ]
     },
     "execution_count": 109,
     "metadata": {},
     "output_type": "execute_result"
    }
   ],
   "source": [
    "(fx.A - fx.B).length()"
   ]
  },
  {
   "cell_type": "code",
   "execution_count": 110,
   "id": "a9dd95f5-93fb-4df4-a521-9de5a45207ec",
   "metadata": {},
   "outputs": [
    {
     "data": {
      "text/plain": [
       "ivm_vector(a=0, b=0, c=0, d=1)"
      ]
     },
     "execution_count": 110,
     "metadata": {},
     "output_type": "execute_result"
    }
   ],
   "source": [
    "fx.D"
   ]
  },
  {
   "cell_type": "code",
   "execution_count": 111,
   "id": "06f358c4-3f71-4966-84d2-a46d9d925679",
   "metadata": {},
   "outputs": [
    {
     "data": {
      "text/latex": [
       "$\\displaystyle 1$"
      ],
      "text/plain": [
       "1"
      ]
     },
     "execution_count": 111,
     "metadata": {},
     "output_type": "execute_result"
    }
   ],
   "source": [
    "tv.DIAM"
   ]
  },
  {
   "cell_type": "code",
   "execution_count": 112,
   "id": "071503a1-929e-415c-a111-a139109bb746",
   "metadata": {},
   "outputs": [],
   "source": [
    "tet = tv.Tetrahedron(tv.DIAM,tv.DIAM,tv.DIAM,tv.DIAM,tv.DIAM,tv.DIAM)"
   ]
  },
  {
   "cell_type": "code",
   "execution_count": 113,
   "id": "a1b918dd-5974-4911-b26b-e276810f9d0d",
   "metadata": {},
   "outputs": [
    {
     "data": {
      "text/latex": [
       "$\\displaystyle 1$"
      ],
      "text/plain": [
       "1"
      ]
     },
     "execution_count": 113,
     "metadata": {},
     "output_type": "execute_result"
    }
   ],
   "source": [
    "tet.ivm_volume()"
   ]
  },
  {
   "cell_type": "code",
   "execution_count": 114,
   "id": "6d775656-b6fa-4c9a-ade7-9ba3bd9028c6",
   "metadata": {},
   "outputs": [
    {
     "data": {
      "text/latex": [
       "$\\displaystyle \\frac{2 \\sqrt{2}}{3}$"
      ],
      "text/plain": [
       "2*sqrt(2)/3"
      ]
     },
     "execution_count": 114,
     "metadata": {},
     "output_type": "execute_result"
    }
   ],
   "source": [
    "tet.xyz_volume()"
   ]
  },
  {
   "cell_type": "code",
   "execution_count": 115,
   "id": "7a791b6b-0deb-4d0d-a9b0-3ada4c512778",
   "metadata": {},
   "outputs": [
    {
     "data": {
      "text/latex": [
       "$\\displaystyle \\frac{\\left(- \\sqrt{2} + \\sqrt{10}\\right) \\sqrt{\\sqrt{5} + 3}}{4}$"
      ],
      "text/plain": [
       "(-sqrt(2) + sqrt(10))*sqrt(sqrt(5) + 3)/4"
      ]
     },
     "execution_count": 115,
     "metadata": {},
     "output_type": "execute_result"
    }
   ],
   "source": [
    "Smod3 = tv.S().ivm_volume() * fx.PHI**3\n",
    "Smod6 = Smod3 * fx.PHI**3\n",
    "(Smod3 + Smod6).simplify().simplify().simplify()"
   ]
  },
  {
   "cell_type": "code",
   "execution_count": 116,
   "id": "381e4c57-5382-4764-a435-5a11bf338d13",
   "metadata": {},
   "outputs": [
    {
     "data": {
      "text/latex": [
       "$\\displaystyle - \\sqrt{5} \\sqrt{2 \\sqrt{5} + 6} + \\frac{9 \\sqrt{2 \\sqrt{5} + 6}}{4}$"
      ],
      "text/plain": [
       "-sqrt(5)*sqrt(2*sqrt(5) + 6) + 9*sqrt(2*sqrt(5) + 6)/4"
      ]
     },
     "execution_count": 116,
     "metadata": {},
     "output_type": "execute_result"
    }
   ],
   "source": [
    "Smod = tv.S()\n",
    "Smod.ivm_volume().simplify()"
   ]
  },
  {
   "cell_type": "code",
   "execution_count": 117,
   "id": "a047d46f-a47f-402c-84e6-5e4a1295b92b",
   "metadata": {},
   "outputs": [
    {
     "data": {
      "text/latex": [
       "$\\displaystyle 1$"
      ],
      "text/plain": [
       "1"
      ]
     },
     "execution_count": 117,
     "metadata": {},
     "output_type": "execute_result"
    }
   ],
   "source": [
    "tv.DIAM"
   ]
  },
  {
   "cell_type": "code",
   "execution_count": 118,
   "id": "b50cc7ca-69e9-40d5-a72b-bd67978431c6",
   "metadata": {},
   "outputs": [
    {
     "data": {
      "text/latex": [
       "$\\displaystyle \\frac{1}{2}$"
      ],
      "text/plain": [
       "1/2"
      ]
     },
     "execution_count": 118,
     "metadata": {},
     "output_type": "execute_result"
    }
   ],
   "source": [
    "tv.RAD"
   ]
  },
  {
   "cell_type": "code",
   "execution_count": 119,
   "id": "185c5f23-07ae-43bf-91ee-5017508a6223",
   "metadata": {},
   "outputs": [
    {
     "data": {
      "text/latex": [
       "$\\displaystyle 4.0$"
      ],
      "text/plain": [
       "4.0000000000000000000000000000000000000000000000000"
      ]
     },
     "execution_count": 119,
     "metadata": {},
     "output_type": "execute_result"
    }
   ],
   "source": [
    "(24 * Smod.ivm_volume() + IW).simplify().evalf(50)"
   ]
  },
  {
   "cell_type": "code",
   "execution_count": 120,
   "id": "b2319b24-2eeb-4cda-8e3b-6982d6edfcf5",
   "metadata": {},
   "outputs": [],
   "source": [
    "def test_area_martian1():\n",
    "    two = sympy.Integer(2)\n",
    "    one = sympy.Integer(1)\n",
    "    p = fx.Qvector((two,one,0,one))\n",
    "    q = fx.Qvector((two,one,one,0))\n",
    "    result = p.area(q)\n",
    "    return result"
   ]
  },
  {
   "cell_type": "code",
   "execution_count": 121,
   "id": "6fb31be4-7dc7-473d-87f7-bdb4bada5b43",
   "metadata": {},
   "outputs": [
    {
     "data": {
      "text/latex": [
       "$\\displaystyle 1$"
      ],
      "text/plain": [
       "1"
      ]
     },
     "execution_count": 121,
     "metadata": {},
     "output_type": "execute_result"
    }
   ],
   "source": [
    "test_area_martian1()"
   ]
  },
  {
   "cell_type": "code",
   "execution_count": 122,
   "id": "4248af3a-6f1f-473a-9a9e-60184404f7ff",
   "metadata": {},
   "outputs": [],
   "source": [
    "p = fx.Qvector((sympy.Integer(2),fx.one,0,fx.one))"
   ]
  },
  {
   "cell_type": "code",
   "execution_count": 123,
   "id": "d2c3de54-84f7-4ded-9daa-7af321b705e1",
   "metadata": {},
   "outputs": [
    {
     "data": {
      "text/latex": [
       "$\\displaystyle 1$"
      ],
      "text/plain": [
       "1"
      ]
     },
     "execution_count": 123,
     "metadata": {},
     "output_type": "execute_result"
    }
   ],
   "source": [
    "p.length()"
   ]
  },
  {
   "cell_type": "code",
   "execution_count": 124,
   "id": "de84cb8e-fd9b-4363-b9fc-795d6155ef86",
   "metadata": {},
   "outputs": [],
   "source": [
    "q = fx.Qvector((sympy.Integer(2),fx.one,fx.one,0))"
   ]
  },
  {
   "cell_type": "code",
   "execution_count": 125,
   "id": "2a61a773-4fd3-488b-94bf-790621dd6c0c",
   "metadata": {},
   "outputs": [
    {
     "data": {
      "text/latex": [
       "$\\displaystyle 1$"
      ],
      "text/plain": [
       "1"
      ]
     },
     "execution_count": 125,
     "metadata": {},
     "output_type": "execute_result"
    }
   ],
   "source": [
    "q.length()"
   ]
  },
  {
   "cell_type": "code",
   "execution_count": 126,
   "id": "eeac759c-76eb-4de2-900f-6d13109c6ffa",
   "metadata": {},
   "outputs": [
    {
     "data": {
      "text/latex": [
       "$\\displaystyle 1$"
      ],
      "text/plain": [
       "1"
      ]
     },
     "execution_count": 126,
     "metadata": {},
     "output_type": "execute_result"
    }
   ],
   "source": [
    "p.area(q)"
   ]
  },
  {
   "cell_type": "code",
   "execution_count": 127,
   "id": "8d4ea449-f2de-4ef8-9aa5-c87de0695cbc",
   "metadata": {},
   "outputs": [
    {
     "data": {
      "text/latex": [
       "$\\displaystyle 60.0$"
      ],
      "text/plain": [
       "60.0000000000000"
      ]
     },
     "execution_count": 127,
     "metadata": {},
     "output_type": "execute_result"
    }
   ],
   "source": [
    "p.angle(q)"
   ]
  },
  {
   "cell_type": "code",
   "execution_count": 128,
   "id": "cc2e541c-aba4-4a3a-b58f-4cd827dc57e1",
   "metadata": {},
   "outputs": [
    {
     "data": {
      "text/latex": [
       "$\\displaystyle 60.0$"
      ],
      "text/plain": [
       "60.0000000000000"
      ]
     },
     "execution_count": 128,
     "metadata": {},
     "output_type": "execute_result"
    }
   ],
   "source": [
    "q.angle(p)"
   ]
  },
  {
   "cell_type": "code",
   "execution_count": 129,
   "id": "0e23f7cc-1842-44ec-83b9-3e6b66e91959",
   "metadata": {},
   "outputs": [],
   "source": [
    "from math import degrees"
   ]
  },
  {
   "cell_type": "code",
   "execution_count": 130,
   "id": "0ff7ce90-a408-452c-8473-4779a4c21bf7",
   "metadata": {},
   "outputs": [
    {
     "data": {
      "text/plain": [
       "3437.746770784939"
      ]
     },
     "execution_count": 130,
     "metadata": {},
     "output_type": "execute_result"
    }
   ],
   "source": [
    "degrees(q.angle(p).evalf(10))"
   ]
  },
  {
   "cell_type": "code",
   "execution_count": 131,
   "id": "20fdae41-dba4-40d7-8c8e-bebb02c65633",
   "metadata": {},
   "outputs": [
    {
     "data": {
      "text/latex": [
       "$\\displaystyle 60.0$"
      ],
      "text/plain": [
       "60.00000000"
      ]
     },
     "execution_count": 131,
     "metadata": {},
     "output_type": "execute_result"
    }
   ],
   "source": [
    "q.angle(p).evalf(10)"
   ]
  },
  {
   "cell_type": "code",
   "execution_count": 132,
   "id": "2e5e9670-a5c0-4109-8956-e28fc7314ac3",
   "metadata": {},
   "outputs": [],
   "source": [
    "def tet_quad():\n",
    "    one = sympy.Integer(1)\n",
    "    qA = fx.Qvector((one,0,0,0))\n",
    "    qB = fx.Qvector((0,one,0,0))\n",
    "    qC = fx.Qvector((0,0,one,0))\n",
    "    tet = tv.make_tet(qA, qB, qC) \n",
    "    return tet.ivm_volume()"
   ]
  },
  {
   "cell_type": "code",
   "execution_count": 133,
   "id": "2bf651a7-6722-4270-b7a7-6a38483f5aaa",
   "metadata": {},
   "outputs": [
    {
     "data": {
      "text/latex": [
       "$\\displaystyle \\frac{1}{4}$"
      ],
      "text/plain": [
       "1/4"
      ]
     },
     "execution_count": 133,
     "metadata": {},
     "output_type": "execute_result"
    }
   ],
   "source": [
    "tet_quad()"
   ]
  },
  {
   "cell_type": "code",
   "execution_count": 134,
   "id": "6dd69ed4-4cf5-4963-a232-f8aecb794664",
   "metadata": {},
   "outputs": [],
   "source": [
    "def test_Tetrahedron():\n",
    "    \"Tetrahedron =   S6  +    S3 # (volume = 1)\"\n",
    "    S6 = tv.S() * fx.PHI**2\n",
    "    S3 = tv.S() * fx.PHI\n",
    "    return S6.ivm_volume() + S3.ivm_volume()"
   ]
  },
  {
   "cell_type": "code",
   "execution_count": 135,
   "id": "fb574f67-a9b1-4a46-9c3b-31e778d92c34",
   "metadata": {},
   "outputs": [
    {
     "data": {
      "text/latex": [
       "$\\displaystyle 1.0$"
      ],
      "text/plain": [
       "1.000000000"
      ]
     },
     "execution_count": 135,
     "metadata": {},
     "output_type": "execute_result"
    }
   ],
   "source": [
    "test_Tetrahedron().simplify().evalf(10)"
   ]
  },
  {
   "cell_type": "code",
   "execution_count": 136,
   "id": "f8716638-864a-4405-b50f-f721d74ac861",
   "metadata": {},
   "outputs": [],
   "source": [
    "e = fx.rt2(6)/2"
   ]
  },
  {
   "cell_type": "code",
   "execution_count": 137,
   "id": "336dbd12-eb51-497b-a1e9-4bd3d4d7d093",
   "metadata": {},
   "outputs": [
    {
     "data": {
      "text/latex": [
       "$\\displaystyle 1.0$"
      ],
      "text/plain": [
       "1.000000000"
      ]
     },
     "execution_count": 137,
     "metadata": {},
     "output_type": "execute_result"
    }
   ],
   "source": [
    "# e   = tv.rt2(2 * tv.rt2(tv.DIAM**2 - (tv.DIAM/2)**2))  # right tetrahedron hypotenuse\n",
    "tet = tv.Tetrahedron(tv.DIAM, tv.DIAM, tv.DIAM, tv.DIAM, tv.DIAM, e)\n",
    "tet.xyz_volume().evalf(10)"
   ]
  },
  {
   "cell_type": "code",
   "execution_count": 138,
   "id": "fd78e438-0b4d-41d2-a281-f5d20e0949c9",
   "metadata": {},
   "outputs": [
    {
     "data": {
      "text/latex": [
       "$\\displaystyle \\frac{\\sqrt{3}}{2}$"
      ],
      "text/plain": [
       "sqrt(3)/2"
      ]
     },
     "execution_count": 138,
     "metadata": {},
     "output_type": "execute_result"
    }
   ],
   "source": [
    "alt = tv.rt2(tv.DIAM**2 - (tv.DIAM/2)**2)\n",
    "alt"
   ]
  },
  {
   "cell_type": "code",
   "execution_count": 139,
   "id": "8c8e75d1-ca87-4735-947b-3b660566a697",
   "metadata": {},
   "outputs": [],
   "source": [
    "e = tv.rt2(alt**2 + alt**2)"
   ]
  },
  {
   "cell_type": "code",
   "execution_count": 140,
   "id": "61645137-5860-424e-958b-b891b6f7e622",
   "metadata": {},
   "outputs": [],
   "source": [
    "def phi_tet():\n",
    "    \"edges from common vertex: phi, 1/phi, 1\"\n",
    "    p = fx.Vector((fx.one, 0, 0))\n",
    "    q = fx.Vector((fx.one, 0, 0)).rotz(60) * fx.PHI \n",
    "    r = fx.Vector((sympy.Rational(1,2), tv.root3/6, tv.root6/3)) * 1/fx.PHI\n",
    "    result = tv.make_tet(p * DIAM, q * DIAM, r * DIAM)\n",
    "    return result.ivm_volume()"
   ]
  },
  {
   "cell_type": "code",
   "execution_count": 141,
   "id": "1551ec82-6187-4f18-8cca-7dda7fe247d9",
   "metadata": {},
   "outputs": [],
   "source": [
    "DIAM = tv.DIAM\n",
    "PHI = tv.PHI\n",
    "tet = tv.Tetrahedron(DIAM, DIAM, DIAM, DIAM, DIAM, DIAM*PHI)"
   ]
  },
  {
   "cell_type": "code",
   "execution_count": 142,
   "id": "b24334b7-c828-4e77-86af-83596742a73d",
   "metadata": {},
   "outputs": [
    {
     "data": {
      "text/latex": [
       "$\\displaystyle 0.99999999603195131392$"
      ],
      "text/plain": [
       "0.99999999603195131392"
      ]
     },
     "execution_count": 142,
     "metadata": {},
     "output_type": "execute_result"
    }
   ],
   "source": [
    "phi_tet().evalf(20)"
   ]
  },
  {
   "cell_type": "code",
   "execution_count": 143,
   "id": "bb258fe3-8e70-4ce4-a3e0-6ee8bd5dc24e",
   "metadata": {},
   "outputs": [
    {
     "data": {
      "text/latex": [
       "$\\displaystyle 0.7071067811865475244$"
      ],
      "text/plain": [
       "0.70710678118654752440"
      ]
     },
     "execution_count": 143,
     "metadata": {},
     "output_type": "execute_result"
    }
   ],
   "source": [
    "tet.ivm_volume().evalf(20)"
   ]
  },
  {
   "cell_type": "code",
   "execution_count": 144,
   "id": "0acb7680-c5ac-483e-b257-87b838671e83",
   "metadata": {},
   "outputs": [
    {
     "data": {
      "text/latex": [
       "$\\displaystyle 0.7071067811865475244$"
      ],
      "text/plain": [
       "0.70710678118654752440"
      ]
     },
     "execution_count": 144,
     "metadata": {},
     "output_type": "execute_result"
    }
   ],
   "source": [
    "(tv.rt2(2)/2).evalf(20)"
   ]
  },
  {
   "cell_type": "code",
   "execution_count": 145,
   "id": "b83994f2-2430-41a1-8be7-caf108bb871b",
   "metadata": {},
   "outputs": [],
   "source": [
    "D = 2\n",
    "def test_phi_tet():\n",
    "    \"edges from common vertex: phi, 1/phi, 1\"\n",
    "    p = fx.Vector((1, 0, 0))\n",
    "    q = fx.Vector((1, 0, 0)).rotz(60) * tv.PHI \n",
    "    r = fx.Vector((sympy.Rational(1,2), tv.root3/6, tv.root6/3)) * 1/tv.PHI\n",
    "    result = tv.make_tet(D*p, D*q, D*r)\n",
    "    return result.ivm_volume()"
   ]
  },
  {
   "cell_type": "code",
   "execution_count": 146,
   "id": "e4b12209-00c1-4173-b6f9-1f7358064f1b",
   "metadata": {},
   "outputs": [
    {
     "data": {
      "text/latex": [
       "$\\displaystyle 7.999999968$"
      ],
      "text/plain": [
       "7.999999968"
      ]
     },
     "execution_count": 146,
     "metadata": {},
     "output_type": "execute_result"
    }
   ],
   "source": [
    "test_phi_tet().evalf(10)"
   ]
  },
  {
   "cell_type": "code",
   "execution_count": 147,
   "id": "a9367fb2-ff0e-4044-8bf1-eae85bf49df3",
   "metadata": {},
   "outputs": [
    {
     "data": {
      "text/latex": [
       "$\\displaystyle 3$"
      ],
      "text/plain": [
       "3"
      ]
     },
     "execution_count": 147,
     "metadata": {},
     "output_type": "execute_result"
    }
   ],
   "source": [
    "fx.rt2(2)**3 * tv.Syn3"
   ]
  },
  {
   "cell_type": "code",
   "execution_count": 148,
   "id": "b1ac85a6-e920-4e9b-a7ef-60f59038c68b",
   "metadata": {},
   "outputs": [
    {
     "data": {
      "text/latex": [
       "$\\displaystyle \\frac{3 \\sqrt{2}}{4}$"
      ],
      "text/plain": [
       "3*sqrt(2)/4"
      ]
     },
     "execution_count": 148,
     "metadata": {},
     "output_type": "execute_result"
    }
   ],
   "source": [
    "tv.Syn3"
   ]
  },
  {
   "cell_type": "code",
   "execution_count": null,
   "id": "2fe83054-b411-4236-97eb-14e8dd902071",
   "metadata": {},
   "outputs": [],
   "source": []
  }
 ],
 "metadata": {
  "kernelspec": {
   "display_name": "Python 3 (ipykernel)",
   "language": "python",
   "name": "python3"
  },
  "language_info": {
   "codemirror_mode": {
    "name": "ipython",
    "version": 3
   },
   "file_extension": ".py",
   "mimetype": "text/x-python",
   "name": "python",
   "nbconvert_exporter": "python",
   "pygments_lexer": "ipython3",
   "version": "3.9.15"
  }
 },
 "nbformat": 4,
 "nbformat_minor": 5
}
