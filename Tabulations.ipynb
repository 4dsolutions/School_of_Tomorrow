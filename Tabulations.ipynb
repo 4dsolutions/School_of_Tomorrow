{
 "cells": [
  {
   "cell_type": "code",
   "execution_count": 1,
   "id": "6aac31de-ccff-4bb9-b872-bdf43a21eda1",
   "metadata": {},
   "outputs": [
    {
     "data": {
      "text/plain": [
       "'3.11.3 | packaged by conda-forge | (main, Apr  6 2023, 09:05:00) [Clang 14.0.6 ]'"
      ]
     },
     "execution_count": 1,
     "metadata": {},
     "output_type": "execute_result"
    }
   ],
   "source": [
    "import sys\n",
    "sys.version"
   ]
  },
  {
   "cell_type": "code",
   "execution_count": 68,
   "id": "d59ce0c9-fbd6-4f19-a062-b19d2583b860",
   "metadata": {},
   "outputs": [],
   "source": [
    "import tetravolume as tv\n",
    "import flextegrity as fx\n",
    "import pandas as pd\n",
    "import numpy as np\n",
    "from importlib import reload\n",
    "import sympy"
   ]
  },
  {
   "cell_type": "code",
   "execution_count": 3,
   "id": "77989f96-2c71-48a7-938a-99f9d697b9e2",
   "metadata": {},
   "outputs": [
    {
     "data": {
      "text/plain": [
       "flextegrity.Tetrahedron"
      ]
     },
     "execution_count": 3,
     "metadata": {},
     "output_type": "execute_result"
    }
   ],
   "source": [
    "fx.Tetrahedron"
   ]
  },
  {
   "cell_type": "code",
   "execution_count": 4,
   "id": "60399b70-edb9-4651-86b6-5b89401afb28",
   "metadata": {},
   "outputs": [],
   "source": [
    "import qrays\n",
    "import flextegrity"
   ]
  },
  {
   "cell_type": "code",
   "execution_count": 67,
   "id": "0d8b0a0f-fc88-4e23-923d-97ba5eb2e666",
   "metadata": {},
   "outputs": [
    {
     "data": {
      "text/plain": [
       "<module 'flextegrity' from '/Users/kirbyurner/Documents/School_of_Tomorrow/flextegrity.py'>"
      ]
     },
     "execution_count": 67,
     "metadata": {},
     "output_type": "execute_result"
    }
   ],
   "source": [
    "reload(flextegrity)"
   ]
  },
  {
   "cell_type": "code",
   "execution_count": 6,
   "id": "562ec0cb-e6c5-4a35-b887-e70655552963",
   "metadata": {},
   "outputs": [
    {
     "data": {
      "text/plain": [
       "{'a': ivm_vector(a=1, b=0, c=0, d=0),\n",
       " 'b': ivm_vector(a=0, b=1, c=0, d=0),\n",
       " 'c': ivm_vector(a=0, b=0, c=1, d=0),\n",
       " 'd': ivm_vector(a=0, b=0, c=0, d=1)}"
      ]
     },
     "execution_count": 6,
     "metadata": {},
     "output_type": "execute_result"
    }
   ],
   "source": [
    "fx.Tetrahedron().vertexes"
   ]
  },
  {
   "cell_type": "code",
   "execution_count": 7,
   "id": "c8455e41-1f5b-45cd-b7e1-a30b2b0eaa57",
   "metadata": {},
   "outputs": [
    {
     "data": {
      "text/plain": [
       "sympy.core.numbers.Zero"
      ]
     },
     "execution_count": 7,
     "metadata": {},
     "output_type": "execute_result"
    }
   ],
   "source": [
    "type(fx.Tetrahedron().vertexes['a'].b)"
   ]
  },
  {
   "cell_type": "code",
   "execution_count": 8,
   "id": "402f75af-14d9-4bda-82c0-0184325754de",
   "metadata": {},
   "outputs": [
    {
     "data": {
      "text/plain": [
       "sympy.core.numbers.Zero"
      ]
     },
     "execution_count": 8,
     "metadata": {},
     "output_type": "execute_result"
    }
   ],
   "source": [
    "type(fx.A.b)"
   ]
  },
  {
   "cell_type": "code",
   "execution_count": 9,
   "id": "d2827c04-3b15-450f-8387-dae3c4be63b6",
   "metadata": {},
   "outputs": [
    {
     "data": {
      "text/plain": [
       "[('IVM', 'A'),\n",
       " ('IVM', 'B'),\n",
       " ('IVM', 'C'),\n",
       " ('IVM', 'D'),\n",
       " ('XYZ', 'X'),\n",
       " ('XYZ', 'Y'),\n",
       " ('XYZ', 'Z')]"
      ]
     },
     "execution_count": 9,
     "metadata": {},
     "output_type": "execute_result"
    }
   ],
   "source": [
    "arrays = [\n",
    "    coordsys := [\"IVM\", \"IVM\", \"IVM\", \"IVM\", \"XYZ\", \"XYZ\", \"XYZ\"],\n",
    "    coordnms := [\"A\", \"B\", \"C\", \"D\", \"X\", \"Y\", \"Z\"]]\n",
    "tuples = list(zip(*arrays))\n",
    "tuples"
   ]
  },
  {
   "cell_type": "code",
   "execution_count": 10,
   "id": "d6bfee5b-65ee-4929-a695-c2e2c6a5d6b0",
   "metadata": {},
   "outputs": [],
   "source": [
    "index = pd.MultiIndex.from_tuples(tuples, names=[\"System\", \"Coords\"])"
   ]
  },
  {
   "cell_type": "code",
   "execution_count": 11,
   "id": "55208790-c7ee-466c-824d-b69e11278b81",
   "metadata": {},
   "outputs": [],
   "source": [
    "vs = fx.Cuboctahedron().vertexes.items()\n",
    "rows = []\n",
    "for label, v in vs:\n",
    "    xyz = v.xyz\n",
    "    rows.append(dict(name = label, A=v.a, B=v.b, C=v.c, D = v.d, X = xyz.x, Y = xyz.y, Z = xyz.z))"
   ]
  },
  {
   "cell_type": "code",
   "execution_count": 12,
   "id": "cd756225-bc85-43ac-b690-27610cb78e7d",
   "metadata": {},
   "outputs": [
    {
     "data": {
      "text/html": [
       "<div>\n",
       "<style scoped>\n",
       "    .dataframe tbody tr th:only-of-type {\n",
       "        vertical-align: middle;\n",
       "    }\n",
       "\n",
       "    .dataframe tbody tr th {\n",
       "        vertical-align: top;\n",
       "    }\n",
       "\n",
       "    .dataframe thead tr th {\n",
       "        text-align: left;\n",
       "    }\n",
       "\n",
       "    .dataframe thead tr:last-of-type th {\n",
       "        text-align: right;\n",
       "    }\n",
       "</style>\n",
       "<table border=\"1\" class=\"dataframe\">\n",
       "  <thead>\n",
       "    <tr>\n",
       "      <th>System</th>\n",
       "      <th colspan=\"4\" halign=\"left\">IVM</th>\n",
       "      <th colspan=\"3\" halign=\"left\">XYZ</th>\n",
       "    </tr>\n",
       "    <tr>\n",
       "      <th>Coords</th>\n",
       "      <th>A</th>\n",
       "      <th>B</th>\n",
       "      <th>C</th>\n",
       "      <th>D</th>\n",
       "      <th>X</th>\n",
       "      <th>Y</th>\n",
       "      <th>Z</th>\n",
       "    </tr>\n",
       "    <tr>\n",
       "      <th>name</th>\n",
       "      <th></th>\n",
       "      <th></th>\n",
       "      <th></th>\n",
       "      <th></th>\n",
       "      <th></th>\n",
       "      <th></th>\n",
       "      <th></th>\n",
       "    </tr>\n",
       "  </thead>\n",
       "  <tbody>\n",
       "    <tr>\n",
       "      <th>o</th>\n",
       "      <td>2</td>\n",
       "      <td>1</td>\n",
       "      <td>1</td>\n",
       "      <td>0</td>\n",
       "      <td>0</td>\n",
       "      <td>sqrt(2)/2</td>\n",
       "      <td>sqrt(2)/2</td>\n",
       "    </tr>\n",
       "    <tr>\n",
       "      <th>p</th>\n",
       "      <td>2</td>\n",
       "      <td>1</td>\n",
       "      <td>0</td>\n",
       "      <td>1</td>\n",
       "      <td>sqrt(2)/2</td>\n",
       "      <td>0</td>\n",
       "      <td>sqrt(2)/2</td>\n",
       "    </tr>\n",
       "    <tr>\n",
       "      <th>q</th>\n",
       "      <td>1</td>\n",
       "      <td>2</td>\n",
       "      <td>1</td>\n",
       "      <td>0</td>\n",
       "      <td>-sqrt(2)/2</td>\n",
       "      <td>0</td>\n",
       "      <td>sqrt(2)/2</td>\n",
       "    </tr>\n",
       "    <tr>\n",
       "      <th>r</th>\n",
       "      <td>1</td>\n",
       "      <td>2</td>\n",
       "      <td>0</td>\n",
       "      <td>1</td>\n",
       "      <td>0</td>\n",
       "      <td>-sqrt(2)/2</td>\n",
       "      <td>sqrt(2)/2</td>\n",
       "    </tr>\n",
       "    <tr>\n",
       "      <th>s</th>\n",
       "      <td>1</td>\n",
       "      <td>0</td>\n",
       "      <td>2</td>\n",
       "      <td>1</td>\n",
       "      <td>0</td>\n",
       "      <td>sqrt(2)/2</td>\n",
       "      <td>-sqrt(2)/2</td>\n",
       "    </tr>\n",
       "    <tr>\n",
       "      <th>t</th>\n",
       "      <td>1</td>\n",
       "      <td>0</td>\n",
       "      <td>1</td>\n",
       "      <td>2</td>\n",
       "      <td>sqrt(2)/2</td>\n",
       "      <td>0</td>\n",
       "      <td>-sqrt(2)/2</td>\n",
       "    </tr>\n",
       "    <tr>\n",
       "      <th>u</th>\n",
       "      <td>0</td>\n",
       "      <td>1</td>\n",
       "      <td>2</td>\n",
       "      <td>1</td>\n",
       "      <td>-sqrt(2)/2</td>\n",
       "      <td>0</td>\n",
       "      <td>-sqrt(2)/2</td>\n",
       "    </tr>\n",
       "    <tr>\n",
       "      <th>v</th>\n",
       "      <td>0</td>\n",
       "      <td>1</td>\n",
       "      <td>1</td>\n",
       "      <td>2</td>\n",
       "      <td>0</td>\n",
       "      <td>-sqrt(2)/2</td>\n",
       "      <td>-sqrt(2)/2</td>\n",
       "    </tr>\n",
       "    <tr>\n",
       "      <th>w</th>\n",
       "      <td>1</td>\n",
       "      <td>1</td>\n",
       "      <td>2</td>\n",
       "      <td>0</td>\n",
       "      <td>-sqrt(2)/2</td>\n",
       "      <td>sqrt(2)/2</td>\n",
       "      <td>0</td>\n",
       "    </tr>\n",
       "    <tr>\n",
       "      <th>x</th>\n",
       "      <td>0</td>\n",
       "      <td>2</td>\n",
       "      <td>1</td>\n",
       "      <td>1</td>\n",
       "      <td>-sqrt(2)/2</td>\n",
       "      <td>-sqrt(2)/2</td>\n",
       "      <td>0</td>\n",
       "    </tr>\n",
       "    <tr>\n",
       "      <th>y</th>\n",
       "      <td>1</td>\n",
       "      <td>1</td>\n",
       "      <td>0</td>\n",
       "      <td>2</td>\n",
       "      <td>sqrt(2)/2</td>\n",
       "      <td>-sqrt(2)/2</td>\n",
       "      <td>0</td>\n",
       "    </tr>\n",
       "    <tr>\n",
       "      <th>z</th>\n",
       "      <td>2</td>\n",
       "      <td>0</td>\n",
       "      <td>1</td>\n",
       "      <td>1</td>\n",
       "      <td>sqrt(2)/2</td>\n",
       "      <td>sqrt(2)/2</td>\n",
       "      <td>0</td>\n",
       "    </tr>\n",
       "  </tbody>\n",
       "</table>\n",
       "</div>"
      ],
      "text/plain": [
       "System IVM                  XYZ                        \n",
       "Coords   A  B  C  D           X           Y           Z\n",
       "name                                                   \n",
       "o        2  1  1  0           0   sqrt(2)/2   sqrt(2)/2\n",
       "p        2  1  0  1   sqrt(2)/2           0   sqrt(2)/2\n",
       "q        1  2  1  0  -sqrt(2)/2           0   sqrt(2)/2\n",
       "r        1  2  0  1           0  -sqrt(2)/2   sqrt(2)/2\n",
       "s        1  0  2  1           0   sqrt(2)/2  -sqrt(2)/2\n",
       "t        1  0  1  2   sqrt(2)/2           0  -sqrt(2)/2\n",
       "u        0  1  2  1  -sqrt(2)/2           0  -sqrt(2)/2\n",
       "v        0  1  1  2           0  -sqrt(2)/2  -sqrt(2)/2\n",
       "w        1  1  2  0  -sqrt(2)/2   sqrt(2)/2           0\n",
       "x        0  2  1  1  -sqrt(2)/2  -sqrt(2)/2           0\n",
       "y        1  1  0  2   sqrt(2)/2  -sqrt(2)/2           0\n",
       "z        2  0  1  1   sqrt(2)/2   sqrt(2)/2           0"
      ]
     },
     "execution_count": 12,
     "metadata": {},
     "output_type": "execute_result"
    }
   ],
   "source": [
    "df = pd.DataFrame.from_dict(rows)\n",
    "df.index = df.name\n",
    "df.drop(columns=\"name\", axis=1, inplace=True)\n",
    "df.columns = index\n",
    "df"
   ]
  },
  {
   "cell_type": "code",
   "execution_count": 13,
   "id": "4a8162ac-ac91-4c1b-839a-f7bc283a3204",
   "metadata": {},
   "outputs": [
    {
     "data": {
      "text/plain": [
       "sympy.core.numbers.Integer"
      ]
     },
     "execution_count": 13,
     "metadata": {},
     "output_type": "execute_result"
    }
   ],
   "source": [
    "type(df.loc['o'].IVM.A)"
   ]
  },
  {
   "cell_type": "code",
   "execution_count": 14,
   "id": "80fe2ee1-fc8d-4670-a014-a9621cb9188f",
   "metadata": {},
   "outputs": [
    {
     "data": {
      "text/html": [
       "<div>\n",
       "<style scoped>\n",
       "    .dataframe tbody tr th:only-of-type {\n",
       "        vertical-align: middle;\n",
       "    }\n",
       "\n",
       "    .dataframe tbody tr th {\n",
       "        vertical-align: top;\n",
       "    }\n",
       "\n",
       "    .dataframe thead tr th {\n",
       "        text-align: left;\n",
       "    }\n",
       "\n",
       "    .dataframe thead tr:last-of-type th {\n",
       "        text-align: right;\n",
       "    }\n",
       "</style>\n",
       "<table border=\"1\" class=\"dataframe\">\n",
       "  <thead>\n",
       "    <tr>\n",
       "      <th>System</th>\n",
       "      <th colspan=\"4\" halign=\"left\">IVM</th>\n",
       "      <th colspan=\"3\" halign=\"left\">XYZ</th>\n",
       "    </tr>\n",
       "    <tr>\n",
       "      <th>Coords</th>\n",
       "      <th>A</th>\n",
       "      <th>B</th>\n",
       "      <th>C</th>\n",
       "      <th>D</th>\n",
       "      <th>X</th>\n",
       "      <th>Y</th>\n",
       "      <th>Z</th>\n",
       "    </tr>\n",
       "    <tr>\n",
       "      <th>name</th>\n",
       "      <th></th>\n",
       "      <th></th>\n",
       "      <th></th>\n",
       "      <th></th>\n",
       "      <th></th>\n",
       "      <th></th>\n",
       "      <th></th>\n",
       "    </tr>\n",
       "  </thead>\n",
       "  <tbody>\n",
       "    <tr>\n",
       "      <th>o</th>\n",
       "      <td>2</td>\n",
       "      <td>1</td>\n",
       "      <td>1</td>\n",
       "      <td>0</td>\n",
       "      <td>0</td>\n",
       "      <td>sqrt(2)/2</td>\n",
       "      <td>sqrt(2)/2</td>\n",
       "    </tr>\n",
       "    <tr>\n",
       "      <th>p</th>\n",
       "      <td>2</td>\n",
       "      <td>1</td>\n",
       "      <td>0</td>\n",
       "      <td>1</td>\n",
       "      <td>sqrt(2)/2</td>\n",
       "      <td>0</td>\n",
       "      <td>sqrt(2)/2</td>\n",
       "    </tr>\n",
       "    <tr>\n",
       "      <th>q</th>\n",
       "      <td>1</td>\n",
       "      <td>2</td>\n",
       "      <td>1</td>\n",
       "      <td>0</td>\n",
       "      <td>-sqrt(2)/2</td>\n",
       "      <td>0</td>\n",
       "      <td>sqrt(2)/2</td>\n",
       "    </tr>\n",
       "    <tr>\n",
       "      <th>r</th>\n",
       "      <td>1</td>\n",
       "      <td>2</td>\n",
       "      <td>0</td>\n",
       "      <td>1</td>\n",
       "      <td>0</td>\n",
       "      <td>-sqrt(2)/2</td>\n",
       "      <td>sqrt(2)/2</td>\n",
       "    </tr>\n",
       "    <tr>\n",
       "      <th>s</th>\n",
       "      <td>1</td>\n",
       "      <td>0</td>\n",
       "      <td>2</td>\n",
       "      <td>1</td>\n",
       "      <td>0</td>\n",
       "      <td>sqrt(2)/2</td>\n",
       "      <td>-sqrt(2)/2</td>\n",
       "    </tr>\n",
       "    <tr>\n",
       "      <th>t</th>\n",
       "      <td>1</td>\n",
       "      <td>0</td>\n",
       "      <td>1</td>\n",
       "      <td>2</td>\n",
       "      <td>sqrt(2)/2</td>\n",
       "      <td>0</td>\n",
       "      <td>-sqrt(2)/2</td>\n",
       "    </tr>\n",
       "    <tr>\n",
       "      <th>u</th>\n",
       "      <td>0</td>\n",
       "      <td>1</td>\n",
       "      <td>2</td>\n",
       "      <td>1</td>\n",
       "      <td>-sqrt(2)/2</td>\n",
       "      <td>0</td>\n",
       "      <td>-sqrt(2)/2</td>\n",
       "    </tr>\n",
       "    <tr>\n",
       "      <th>v</th>\n",
       "      <td>0</td>\n",
       "      <td>1</td>\n",
       "      <td>1</td>\n",
       "      <td>2</td>\n",
       "      <td>0</td>\n",
       "      <td>-sqrt(2)/2</td>\n",
       "      <td>-sqrt(2)/2</td>\n",
       "    </tr>\n",
       "    <tr>\n",
       "      <th>w</th>\n",
       "      <td>1</td>\n",
       "      <td>1</td>\n",
       "      <td>2</td>\n",
       "      <td>0</td>\n",
       "      <td>-sqrt(2)/2</td>\n",
       "      <td>sqrt(2)/2</td>\n",
       "      <td>0</td>\n",
       "    </tr>\n",
       "    <tr>\n",
       "      <th>x</th>\n",
       "      <td>0</td>\n",
       "      <td>2</td>\n",
       "      <td>1</td>\n",
       "      <td>1</td>\n",
       "      <td>-sqrt(2)/2</td>\n",
       "      <td>-sqrt(2)/2</td>\n",
       "      <td>0</td>\n",
       "    </tr>\n",
       "    <tr>\n",
       "      <th>y</th>\n",
       "      <td>1</td>\n",
       "      <td>1</td>\n",
       "      <td>0</td>\n",
       "      <td>2</td>\n",
       "      <td>sqrt(2)/2</td>\n",
       "      <td>-sqrt(2)/2</td>\n",
       "      <td>0</td>\n",
       "    </tr>\n",
       "    <tr>\n",
       "      <th>z</th>\n",
       "      <td>2</td>\n",
       "      <td>0</td>\n",
       "      <td>1</td>\n",
       "      <td>1</td>\n",
       "      <td>sqrt(2)/2</td>\n",
       "      <td>sqrt(2)/2</td>\n",
       "      <td>0</td>\n",
       "    </tr>\n",
       "  </tbody>\n",
       "</table>\n",
       "</div>"
      ],
      "text/plain": [
       "System IVM                  XYZ                        \n",
       "Coords   A  B  C  D           X           Y           Z\n",
       "name                                                   \n",
       "o        2  1  1  0           0   sqrt(2)/2   sqrt(2)/2\n",
       "p        2  1  0  1   sqrt(2)/2           0   sqrt(2)/2\n",
       "q        1  2  1  0  -sqrt(2)/2           0   sqrt(2)/2\n",
       "r        1  2  0  1           0  -sqrt(2)/2   sqrt(2)/2\n",
       "s        1  0  2  1           0   sqrt(2)/2  -sqrt(2)/2\n",
       "t        1  0  1  2   sqrt(2)/2           0  -sqrt(2)/2\n",
       "u        0  1  2  1  -sqrt(2)/2           0  -sqrt(2)/2\n",
       "v        0  1  1  2           0  -sqrt(2)/2  -sqrt(2)/2\n",
       "w        1  1  2  0  -sqrt(2)/2   sqrt(2)/2           0\n",
       "x        0  2  1  1  -sqrt(2)/2  -sqrt(2)/2           0\n",
       "y        1  1  0  2   sqrt(2)/2  -sqrt(2)/2           0\n",
       "z        2  0  1  1   sqrt(2)/2   sqrt(2)/2           0"
      ]
     },
     "execution_count": 14,
     "metadata": {},
     "output_type": "execute_result"
    }
   ],
   "source": [
    "df"
   ]
  },
  {
   "cell_type": "code",
   "execution_count": 15,
   "id": "5fbd0836-145c-4ef5-a192-e459bbb64757",
   "metadata": {},
   "outputs": [],
   "source": [
    "def tabulate(shape, dec=False, n=8):\n",
    "    vs = shape.vertexes.items()\n",
    "    rows = []\n",
    "    for label, v in vs:\n",
    "        xyz = v.xyz\n",
    "        if not dec:\n",
    "            rows.append(dict(name = label, \n",
    "                             A=v.a, \n",
    "                             B=v.b, \n",
    "                             C=v.c, \n",
    "                             D = v.d, \n",
    "                             X = xyz.x, \n",
    "                             Y = xyz.y, \n",
    "                             Z = xyz.z))\n",
    "        else:\n",
    "            rows.append(dict(name = label, \n",
    "                             A = v.a.evalf(n).round(n), \n",
    "                             B = v.b.evalf(n).round(n), \n",
    "                             C = v.c.evalf(n).round(n), \n",
    "                             D = v.d.evalf(n).round(n), \n",
    "                             X = xyz.x.evalf(n).round(n), \n",
    "                             Y = xyz.y.evalf(n).round(n), \n",
    "                             Z = xyz.z.evalf(n).round(n)))            \n",
    "    df = pd.DataFrame.from_dict(rows)\n",
    "    df.index = df.name\n",
    "    df.drop(columns=\"name\", axis=1, inplace=True)\n",
    "    df.columns = index\n",
    "    return df"
   ]
  },
  {
   "cell_type": "code",
   "execution_count": 16,
   "id": "1a509843-7709-432f-a7e5-b3061fb88caa",
   "metadata": {},
   "outputs": [
    {
     "data": {
      "text/html": [
       "<div>\n",
       "<style scoped>\n",
       "    .dataframe tbody tr th:only-of-type {\n",
       "        vertical-align: middle;\n",
       "    }\n",
       "\n",
       "    .dataframe tbody tr th {\n",
       "        vertical-align: top;\n",
       "    }\n",
       "\n",
       "    .dataframe thead tr th {\n",
       "        text-align: left;\n",
       "    }\n",
       "\n",
       "    .dataframe thead tr:last-of-type th {\n",
       "        text-align: right;\n",
       "    }\n",
       "</style>\n",
       "<table border=\"1\" class=\"dataframe\">\n",
       "  <thead>\n",
       "    <tr>\n",
       "      <th>System</th>\n",
       "      <th colspan=\"4\" halign=\"left\">IVM</th>\n",
       "      <th colspan=\"3\" halign=\"left\">XYZ</th>\n",
       "    </tr>\n",
       "    <tr>\n",
       "      <th>Coords</th>\n",
       "      <th>A</th>\n",
       "      <th>B</th>\n",
       "      <th>C</th>\n",
       "      <th>D</th>\n",
       "      <th>X</th>\n",
       "      <th>Y</th>\n",
       "      <th>Z</th>\n",
       "    </tr>\n",
       "    <tr>\n",
       "      <th>name</th>\n",
       "      <th></th>\n",
       "      <th></th>\n",
       "      <th></th>\n",
       "      <th></th>\n",
       "      <th></th>\n",
       "      <th></th>\n",
       "      <th></th>\n",
       "    </tr>\n",
       "  </thead>\n",
       "  <tbody>\n",
       "    <tr>\n",
       "      <th>a</th>\n",
       "      <td>1</td>\n",
       "      <td>0</td>\n",
       "      <td>0</td>\n",
       "      <td>0</td>\n",
       "      <td>sqrt(2)/4</td>\n",
       "      <td>sqrt(2)/4</td>\n",
       "      <td>sqrt(2)/4</td>\n",
       "    </tr>\n",
       "    <tr>\n",
       "      <th>b</th>\n",
       "      <td>0</td>\n",
       "      <td>1</td>\n",
       "      <td>0</td>\n",
       "      <td>0</td>\n",
       "      <td>-sqrt(2)/4</td>\n",
       "      <td>-sqrt(2)/4</td>\n",
       "      <td>sqrt(2)/4</td>\n",
       "    </tr>\n",
       "    <tr>\n",
       "      <th>c</th>\n",
       "      <td>0</td>\n",
       "      <td>0</td>\n",
       "      <td>1</td>\n",
       "      <td>0</td>\n",
       "      <td>-sqrt(2)/4</td>\n",
       "      <td>sqrt(2)/4</td>\n",
       "      <td>-sqrt(2)/4</td>\n",
       "    </tr>\n",
       "    <tr>\n",
       "      <th>d</th>\n",
       "      <td>0</td>\n",
       "      <td>0</td>\n",
       "      <td>0</td>\n",
       "      <td>1</td>\n",
       "      <td>sqrt(2)/4</td>\n",
       "      <td>-sqrt(2)/4</td>\n",
       "      <td>-sqrt(2)/4</td>\n",
       "    </tr>\n",
       "  </tbody>\n",
       "</table>\n",
       "</div>"
      ],
      "text/plain": [
       "System IVM                  XYZ                        \n",
       "Coords   A  B  C  D           X           Y           Z\n",
       "name                                                   \n",
       "a        1  0  0  0   sqrt(2)/4   sqrt(2)/4   sqrt(2)/4\n",
       "b        0  1  0  0  -sqrt(2)/4  -sqrt(2)/4   sqrt(2)/4\n",
       "c        0  0  1  0  -sqrt(2)/4   sqrt(2)/4  -sqrt(2)/4\n",
       "d        0  0  0  1   sqrt(2)/4  -sqrt(2)/4  -sqrt(2)/4"
      ]
     },
     "execution_count": 16,
     "metadata": {},
     "output_type": "execute_result"
    }
   ],
   "source": [
    "tabulate(fx.Tetrahedron())"
   ]
  },
  {
   "cell_type": "code",
   "execution_count": 17,
   "id": "0599fc2d-dd44-4293-9b5e-8ad7b034777a",
   "metadata": {},
   "outputs": [
    {
     "data": {
      "text/html": [
       "<div>\n",
       "<style scoped>\n",
       "    .dataframe tbody tr th:only-of-type {\n",
       "        vertical-align: middle;\n",
       "    }\n",
       "\n",
       "    .dataframe tbody tr th {\n",
       "        vertical-align: top;\n",
       "    }\n",
       "\n",
       "    .dataframe thead tr th {\n",
       "        text-align: left;\n",
       "    }\n",
       "\n",
       "    .dataframe thead tr:last-of-type th {\n",
       "        text-align: right;\n",
       "    }\n",
       "</style>\n",
       "<table border=\"1\" class=\"dataframe\">\n",
       "  <thead>\n",
       "    <tr>\n",
       "      <th>System</th>\n",
       "      <th colspan=\"4\" halign=\"left\">IVM</th>\n",
       "      <th colspan=\"3\" halign=\"left\">XYZ</th>\n",
       "    </tr>\n",
       "    <tr>\n",
       "      <th>Coords</th>\n",
       "      <th>A</th>\n",
       "      <th>B</th>\n",
       "      <th>C</th>\n",
       "      <th>D</th>\n",
       "      <th>X</th>\n",
       "      <th>Y</th>\n",
       "      <th>Z</th>\n",
       "    </tr>\n",
       "    <tr>\n",
       "      <th>name</th>\n",
       "      <th></th>\n",
       "      <th></th>\n",
       "      <th></th>\n",
       "      <th></th>\n",
       "      <th></th>\n",
       "      <th></th>\n",
       "      <th></th>\n",
       "    </tr>\n",
       "  </thead>\n",
       "  <tbody>\n",
       "    <tr>\n",
       "      <th>o</th>\n",
       "      <td>1.8512</td>\n",
       "      <td>0.70711</td>\n",
       "      <td>1.1441</td>\n",
       "      <td>0</td>\n",
       "      <td>0.0</td>\n",
       "      <td>0.80902</td>\n",
       "      <td>0.50000</td>\n",
       "    </tr>\n",
       "    <tr>\n",
       "      <th>p</th>\n",
       "      <td>1.8512</td>\n",
       "      <td>1.1441</td>\n",
       "      <td>0</td>\n",
       "      <td>0.70711</td>\n",
       "      <td>0.50000</td>\n",
       "      <td>0.0</td>\n",
       "      <td>0.80902</td>\n",
       "    </tr>\n",
       "    <tr>\n",
       "      <th>q</th>\n",
       "      <td>1.1441</td>\n",
       "      <td>1.8512</td>\n",
       "      <td>0.70711</td>\n",
       "      <td>0</td>\n",
       "      <td>-0.50000</td>\n",
       "      <td>0.0</td>\n",
       "      <td>0.80902</td>\n",
       "    </tr>\n",
       "    <tr>\n",
       "      <th>r</th>\n",
       "      <td>0.70711</td>\n",
       "      <td>1.8512</td>\n",
       "      <td>0</td>\n",
       "      <td>1.1441</td>\n",
       "      <td>0.0</td>\n",
       "      <td>-0.80902</td>\n",
       "      <td>0.50000</td>\n",
       "    </tr>\n",
       "    <tr>\n",
       "      <th>s</th>\n",
       "      <td>1.1441</td>\n",
       "      <td>0</td>\n",
       "      <td>1.8512</td>\n",
       "      <td>0.70711</td>\n",
       "      <td>0.0</td>\n",
       "      <td>0.80902</td>\n",
       "      <td>-0.50000</td>\n",
       "    </tr>\n",
       "    <tr>\n",
       "      <th>t</th>\n",
       "      <td>0.70711</td>\n",
       "      <td>0</td>\n",
       "      <td>1.1441</td>\n",
       "      <td>1.8512</td>\n",
       "      <td>0.50000</td>\n",
       "      <td>0.0</td>\n",
       "      <td>-0.80902</td>\n",
       "    </tr>\n",
       "    <tr>\n",
       "      <th>u</th>\n",
       "      <td>0</td>\n",
       "      <td>0.70711</td>\n",
       "      <td>1.8512</td>\n",
       "      <td>1.1441</td>\n",
       "      <td>-0.50000</td>\n",
       "      <td>0.0</td>\n",
       "      <td>-0.80902</td>\n",
       "    </tr>\n",
       "    <tr>\n",
       "      <th>v</th>\n",
       "      <td>0</td>\n",
       "      <td>1.1441</td>\n",
       "      <td>0.70711</td>\n",
       "      <td>1.8512</td>\n",
       "      <td>0.0</td>\n",
       "      <td>-0.80902</td>\n",
       "      <td>-0.50000</td>\n",
       "    </tr>\n",
       "    <tr>\n",
       "      <th>w</th>\n",
       "      <td>0.70711</td>\n",
       "      <td>1.1441</td>\n",
       "      <td>1.8512</td>\n",
       "      <td>0</td>\n",
       "      <td>-0.80902</td>\n",
       "      <td>0.50000</td>\n",
       "      <td>0.0</td>\n",
       "    </tr>\n",
       "    <tr>\n",
       "      <th>x</th>\n",
       "      <td>0</td>\n",
       "      <td>1.8512</td>\n",
       "      <td>1.1441</td>\n",
       "      <td>0.70711</td>\n",
       "      <td>-0.80902</td>\n",
       "      <td>-0.50000</td>\n",
       "      <td>0.0</td>\n",
       "    </tr>\n",
       "    <tr>\n",
       "      <th>y</th>\n",
       "      <td>1.1441</td>\n",
       "      <td>0.70711</td>\n",
       "      <td>0</td>\n",
       "      <td>1.8512</td>\n",
       "      <td>0.80902</td>\n",
       "      <td>-0.50000</td>\n",
       "      <td>0.0</td>\n",
       "    </tr>\n",
       "    <tr>\n",
       "      <th>z</th>\n",
       "      <td>1.8512</td>\n",
       "      <td>0</td>\n",
       "      <td>0.70711</td>\n",
       "      <td>1.1441</td>\n",
       "      <td>0.80902</td>\n",
       "      <td>0.50000</td>\n",
       "      <td>0.0</td>\n",
       "    </tr>\n",
       "  </tbody>\n",
       "</table>\n",
       "</div>"
      ],
      "text/plain": [
       "System      IVM                                  XYZ                    \n",
       "Coords        A        B        C        D         X         Y         Z\n",
       "name                                                                    \n",
       "o        1.8512  0.70711   1.1441        0       0.0   0.80902   0.50000\n",
       "p        1.8512   1.1441        0  0.70711   0.50000       0.0   0.80902\n",
       "q        1.1441   1.8512  0.70711        0  -0.50000       0.0   0.80902\n",
       "r       0.70711   1.8512        0   1.1441       0.0  -0.80902   0.50000\n",
       "s        1.1441        0   1.8512  0.70711       0.0   0.80902  -0.50000\n",
       "t       0.70711        0   1.1441   1.8512   0.50000       0.0  -0.80902\n",
       "u             0  0.70711   1.8512   1.1441  -0.50000       0.0  -0.80902\n",
       "v             0   1.1441  0.70711   1.8512       0.0  -0.80902  -0.50000\n",
       "w       0.70711   1.1441   1.8512        0  -0.80902   0.50000       0.0\n",
       "x             0   1.8512   1.1441  0.70711  -0.80902  -0.50000       0.0\n",
       "y        1.1441  0.70711        0   1.8512   0.80902  -0.50000       0.0\n",
       "z        1.8512        0  0.70711   1.1441   0.80902   0.50000       0.0"
      ]
     },
     "execution_count": 17,
     "metadata": {},
     "output_type": "execute_result"
    }
   ],
   "source": [
    "df = tabulate(fx.Icosahedron(),dec=True,n=5)\n",
    "df"
   ]
  },
  {
   "cell_type": "code",
   "execution_count": 18,
   "id": "470180bf-9caa-41c5-9b05-ccef6e61b6d8",
   "metadata": {},
   "outputs": [
    {
     "data": {
      "text/latex": [
       "$\\displaystyle 0.5$"
      ],
      "text/plain": [
       "0.50000"
      ]
     },
     "execution_count": 18,
     "metadata": {},
     "output_type": "execute_result"
    }
   ],
   "source": [
    "df.loc['z']['XYZ'].Y.evalf(5).round(8)"
   ]
  },
  {
   "cell_type": "code",
   "execution_count": 19,
   "id": "baea64da-81f2-4396-a925-0220612bf284",
   "metadata": {},
   "outputs": [],
   "source": [
    "control = (fx.Z - fx.T).length()\n",
    "half = fx.half\n",
    "midface = (fx.Z + fx.Y)\n",
    "gold    = half * fx.PHI * midface/midface.length()\n",
    "Zi = gold + fx.J/fx.J.length() * (control/2)\n",
    "Yi = gold + fx.M/fx.M.length() * (control/2)"
   ]
  },
  {
   "cell_type": "code",
   "execution_count": 20,
   "id": "70532062-5398-484d-94ea-9d0b3e5027de",
   "metadata": {},
   "outputs": [
    {
     "data": {
      "text/latex": [
       "$\\displaystyle \\frac{1}{2}$"
      ],
      "text/plain": [
       "1/2"
      ]
     },
     "execution_count": 20,
     "metadata": {},
     "output_type": "execute_result"
    }
   ],
   "source": [
    "control/2"
   ]
  },
  {
   "cell_type": "code",
   "execution_count": 21,
   "id": "c6cd1cf3-56e9-499b-afb0-fb44b98ebf2a",
   "metadata": {},
   "outputs": [
    {
     "data": {
      "text/plain": [
       "ivm_vector(a=sqrt(2)/2 + sqrt(2)*(1/2 + sqrt(5)/2)/2, b=0, c=sqrt(2)/2, d=sqrt(2)*(1/2 + sqrt(5)/2)/2)"
      ]
     },
     "execution_count": 21,
     "metadata": {},
     "output_type": "execute_result"
    }
   ],
   "source": [
    "gold + fx.J/fx.J.length() * (control/2)"
   ]
  },
  {
   "cell_type": "code",
   "execution_count": 22,
   "id": "e0658c65-b2d5-4c04-b38a-e477a3232b84",
   "metadata": {},
   "outputs": [
    {
     "data": {
      "text/latex": [
       "$\\displaystyle \\frac{1}{2}$"
      ],
      "text/plain": [
       "1/2"
      ]
     },
     "execution_count": 22,
     "metadata": {},
     "output_type": "execute_result"
    }
   ],
   "source": [
    "half"
   ]
  },
  {
   "cell_type": "code",
   "execution_count": 23,
   "id": "05a23359-09f9-44e1-b656-abfb5e530b98",
   "metadata": {},
   "outputs": [
    {
     "data": {
      "text/plain": [
       "sympy.core.numbers.One"
      ]
     },
     "execution_count": 23,
     "metadata": {},
     "output_type": "execute_result"
    }
   ],
   "source": [
    "type(midface.norm0()[0])"
   ]
  },
  {
   "cell_type": "code",
   "execution_count": 24,
   "id": "e6aa7ad6-2c36-4657-b46a-3836dd6e7882",
   "metadata": {},
   "outputs": [
    {
     "data": {
      "text/plain": [
       "ivm_vector(a=sqrt(2)*(1/2 + sqrt(5)/2)/2, b=0, c=0, d=sqrt(2)*(1/2 + sqrt(5)/2)/2)"
      ]
     },
     "execution_count": 24,
     "metadata": {},
     "output_type": "execute_result"
    }
   ],
   "source": [
    "gold"
   ]
  },
  {
   "cell_type": "code",
   "execution_count": 25,
   "id": "f86f3f87-97ae-4ec8-96a0-925d1fe5f70b",
   "metadata": {},
   "outputs": [
    {
     "data": {
      "text/plain": [
       "ivm_vector(a=sqrt(2)/2 + sqrt(2)*(1/2 + sqrt(5)/2)/2, b=0, c=sqrt(2)/2, d=sqrt(2)*(1/2 + sqrt(5)/2)/2)"
      ]
     },
     "execution_count": 25,
     "metadata": {},
     "output_type": "execute_result"
    }
   ],
   "source": [
    "Zi"
   ]
  },
  {
   "cell_type": "code",
   "execution_count": 26,
   "id": "de9604f8-23d3-4feb-b920-15b2fba167ef",
   "metadata": {},
   "outputs": [
    {
     "data": {
      "text/plain": [
       "ivm_vector(a=sqrt(2)*(1/2 + sqrt(5)/2)/2, b=sqrt(2)/2, c=0, d=sqrt(2)/2 + sqrt(2)*(1/2 + sqrt(5)/2)/2)"
      ]
     },
     "execution_count": 26,
     "metadata": {},
     "output_type": "execute_result"
    }
   ],
   "source": [
    "Yi"
   ]
  },
  {
   "cell_type": "code",
   "execution_count": 27,
   "id": "713caed5-1fc9-4551-b28a-9967c762eb6c",
   "metadata": {},
   "outputs": [
    {
     "data": {
      "text/latex": [
       "$\\displaystyle \\frac{\\sqrt{2}}{2}$"
      ],
      "text/plain": [
       "sqrt(2)/2"
      ]
     },
     "execution_count": 27,
     "metadata": {},
     "output_type": "execute_result"
    }
   ],
   "source": [
    "fx.M.length()"
   ]
  },
  {
   "cell_type": "code",
   "execution_count": 28,
   "id": "4089455d-cf5d-481d-9155-62c148857c8d",
   "metadata": {},
   "outputs": [
    {
     "data": {
      "text/plain": [
       "ivm_vector(a=1, b=0, c=0, d=0)"
      ]
     },
     "execution_count": 28,
     "metadata": {},
     "output_type": "execute_result"
    }
   ],
   "source": [
    "fx.A"
   ]
  },
  {
   "cell_type": "code",
   "execution_count": 29,
   "id": "ddea4b09-aab5-4868-8ccd-5360d0d54805",
   "metadata": {},
   "outputs": [
    {
     "data": {
      "text/plain": [
       "sympy.core.numbers.One"
      ]
     },
     "execution_count": 29,
     "metadata": {},
     "output_type": "execute_result"
    }
   ],
   "source": [
    "type(fx.A.a)"
   ]
  },
  {
   "cell_type": "code",
   "execution_count": 69,
   "id": "52139d9d-2e0b-49c9-84bc-c29935401718",
   "metadata": {},
   "outputs": [
    {
     "data": {
      "text/latex": [
       "$\\displaystyle \\frac{16}{\\left(1 + \\sqrt{5}\\right)^{5}}$"
      ],
      "text/plain": [
       "16/(1 + sqrt(5))**5"
      ]
     },
     "execution_count": 69,
     "metadata": {},
     "output_type": "execute_result"
    }
   ],
   "source": [
    "tv.Svol.simplify() # S module volume"
   ]
  },
  {
   "cell_type": "code",
   "execution_count": 70,
   "id": "863bb7bb-11f4-45a6-aee7-b0dac0be8967",
   "metadata": {},
   "outputs": [
    {
     "data": {
      "text/latex": [
       "$\\displaystyle \\frac{\\sqrt{2}}{\\left(1 + \\sqrt{5}\\right)^{3}}$"
      ],
      "text/plain": [
       "sqrt(2)/(1 + sqrt(5))**3"
      ]
     },
     "execution_count": 70,
     "metadata": {},
     "output_type": "execute_result"
    }
   ],
   "source": [
    "tv.Evol.simplify()  # E module volume"
   ]
  },
  {
   "cell_type": "code",
   "execution_count": 94,
   "id": "e46f0dd3-4154-4a91-89b1-1482ea4d14a2",
   "metadata": {},
   "outputs": [
    {
     "data": {
      "text/latex": [
       "$\\displaystyle - \\sqrt{10} + 3 \\sqrt{2}$"
      ],
      "text/plain": [
       "-sqrt(10) + 3*sqrt(2)"
      ]
     },
     "execution_count": 94,
     "metadata": {},
     "output_type": "execute_result"
    }
   ],
   "source": [
    "Sfactor = tv.Svol/tv.Evol\n",
    "Sfactor.simplify()"
   ]
  },
  {
   "cell_type": "code",
   "execution_count": 95,
   "id": "8516d3b4-b4c9-4681-824a-3b1cf8a80968",
   "metadata": {},
   "outputs": [],
   "source": [
    "cuboctavol, icosavol = fx.Cuboctahedron().volume, fx.Icosahedron().volume "
   ]
  },
  {
   "cell_type": "code",
   "execution_count": 96,
   "id": "b8ceb7ee-57ef-47dc-b96e-c16cdc2d11db",
   "metadata": {},
   "outputs": [
    {
     "data": {
      "text/plain": [
       "(20, 18.512295868219161196009899292654531923571426913640)"
      ]
     },
     "execution_count": 96,
     "metadata": {},
     "output_type": "execute_result"
    }
   ],
   "source": [
    "cuboctavol, icosavol.evalf(50)"
   ]
  },
  {
   "cell_type": "code",
   "execution_count": 97,
   "id": "458ab666-4f77-4281-821e-5e4c7aba0d9c",
   "metadata": {},
   "outputs": [
    {
     "data": {
      "text/plain": [
       "True"
      ]
     },
     "execution_count": 97,
     "metadata": {},
     "output_type": "execute_result"
    }
   ],
   "source": [
    "cuboctavol/icosavol == Sfactor"
   ]
  },
  {
   "cell_type": "code",
   "execution_count": 98,
   "id": "b6166e0a-8d88-4d55-bb4b-26d1f5f3aabc",
   "metadata": {},
   "outputs": [
    {
     "data": {
      "text/latex": [
       "$\\displaystyle \\frac{320}{\\left(1 + \\sqrt{5}\\right)^{4}}$"
      ],
      "text/plain": [
       "320/(1 + sqrt(5))**4"
      ]
     },
     "execution_count": 98,
     "metadata": {},
     "output_type": "execute_result"
    }
   ],
   "source": [
    "IW = (5*half * Sfactor ** 2).simplify() # IW = 2.5 CO * sfactor * sfactor\n",
    "IW"
   ]
  },
  {
   "cell_type": "code",
   "execution_count": 99,
   "id": "c34cc8ff-1609-48d4-aed9-2425933270c7",
   "metadata": {},
   "outputs": [
    {
     "data": {
      "text/latex": [
       "$\\displaystyle 2.9179606750063091077247899380617129367814492116542$"
      ],
      "text/plain": [
       "2.9179606750063091077247899380617129367814492116542"
      ]
     },
     "execution_count": 99,
     "metadata": {},
     "output_type": "execute_result"
    }
   ],
   "source": [
    "IW.evalf(50)"
   ]
  },
  {
   "cell_type": "code",
   "execution_count": 100,
   "id": "05fc44e1-725c-4c2a-9edd-2a941fec4bbb",
   "metadata": {},
   "outputs": [
    {
     "data": {
      "text/latex": [
       "$\\displaystyle 4$"
      ],
      "text/plain": [
       "4"
      ]
     },
     "execution_count": 100,
     "metadata": {},
     "output_type": "execute_result"
    }
   ],
   "source": [
    "(IW + 24 * tv.Svol).simplify()"
   ]
  },
  {
   "cell_type": "code",
   "execution_count": null,
   "id": "4171859b-58e0-486c-8e42-824de2a29cd2",
   "metadata": {},
   "outputs": [],
   "source": []
  }
 ],
 "metadata": {
  "kernelspec": {
   "display_name": "Python 3 (ipykernel)",
   "language": "python",
   "name": "python3"
  },
  "language_info": {
   "codemirror_mode": {
    "name": "ipython",
    "version": 3
   },
   "file_extension": ".py",
   "mimetype": "text/x-python",
   "name": "python",
   "nbconvert_exporter": "python",
   "pygments_lexer": "ipython3",
   "version": "3.11.3"
  }
 },
 "nbformat": 4,
 "nbformat_minor": 5
}
