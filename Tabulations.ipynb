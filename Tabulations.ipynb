{
 "cells": [
  {
   "cell_type": "markdown",
   "id": "30a666f3-537b-4e11-8d8e-6a84a1a0742e",
   "metadata": {},
   "source": [
    "# TABULATING THE CONCENTRIC HIERARCHY\n",
    "\n",
    "Since the Python ecosystem provides some excellent tabulation tools, so why not take advantage and build a pandas DataFrame showing alternative coordinate system treatments of the same vertexes (vertices) of a set of nested polyhedrons? \n",
    "\n",
    "But then vertices are not sufficent to define a polyhedron: we need faces, from which edges might be distilled. The faces to edges distallation process is easily implemented by algorithm.\n",
    "\n",
    "These face graphs might be tabulated in matrix format, with the same vertexes down the side and across the top. To every row and column label there corresponds a vector tail orginating at the origin, the center of our concentric hiearechy."
   ]
  },
  {
   "cell_type": "code",
   "execution_count": 1,
   "id": "6aac31de-ccff-4bb9-b872-bdf43a21eda1",
   "metadata": {},
   "outputs": [
    {
     "data": {
      "text/plain": [
       "'3.11.3 | packaged by conda-forge | (main, Apr  6 2023, 09:05:00) [Clang 14.0.6 ]'"
      ]
     },
     "execution_count": 1,
     "metadata": {},
     "output_type": "execute_result"
    }
   ],
   "source": [
    "import sys\n",
    "sys.version"
   ]
  },
  {
   "cell_type": "code",
   "execution_count": 2,
   "id": "d59ce0c9-fbd6-4f19-a062-b19d2583b860",
   "metadata": {},
   "outputs": [],
   "source": [
    "import tetravolume as tv\n",
    "import flextegrity as fx\n",
    "import pandas as pd\n",
    "import numpy as np\n",
    "from importlib import reload\n",
    "import sympy"
   ]
  },
  {
   "cell_type": "code",
   "execution_count": 3,
   "id": "77989f96-2c71-48a7-938a-99f9d697b9e2",
   "metadata": {},
   "outputs": [
    {
     "data": {
      "text/plain": [
       "flextegrity.Tetrahedron"
      ]
     },
     "execution_count": 3,
     "metadata": {},
     "output_type": "execute_result"
    }
   ],
   "source": [
    "fx.Tetrahedron"
   ]
  },
  {
   "cell_type": "code",
   "execution_count": 4,
   "id": "60399b70-edb9-4651-86b6-5b89401afb28",
   "metadata": {},
   "outputs": [],
   "source": [
    "import qrays\n",
    "import flextegrity"
   ]
  },
  {
   "cell_type": "code",
   "execution_count": 5,
   "id": "0d8b0a0f-fc88-4e23-923d-97ba5eb2e666",
   "metadata": {},
   "outputs": [
    {
     "data": {
      "text/plain": [
       "<module 'flextegrity' from '/Users/kirbyurner/Documents/School_of_Tomorrow/flextegrity.py'>"
      ]
     },
     "execution_count": 5,
     "metadata": {},
     "output_type": "execute_result"
    }
   ],
   "source": [
    "reload(flextegrity)"
   ]
  },
  {
   "cell_type": "code",
   "execution_count": 6,
   "id": "562ec0cb-e6c5-4a35-b887-e70655552963",
   "metadata": {},
   "outputs": [
    {
     "data": {
      "text/plain": [
       "{'a': ivm_vector(a=1, b=0, c=0, d=0),\n",
       " 'b': ivm_vector(a=0, b=1, c=0, d=0),\n",
       " 'c': ivm_vector(a=0, b=0, c=1, d=0),\n",
       " 'd': ivm_vector(a=0, b=0, c=0, d=1)}"
      ]
     },
     "execution_count": 6,
     "metadata": {},
     "output_type": "execute_result"
    }
   ],
   "source": [
    "fx.Tetrahedron().vertexes"
   ]
  },
  {
   "cell_type": "code",
   "execution_count": 7,
   "id": "c8455e41-1f5b-45cd-b7e1-a30b2b0eaa57",
   "metadata": {},
   "outputs": [
    {
     "data": {
      "text/plain": [
       "sympy.core.numbers.Zero"
      ]
     },
     "execution_count": 7,
     "metadata": {},
     "output_type": "execute_result"
    }
   ],
   "source": [
    "type(fx.Tetrahedron().vertexes['a'].b)"
   ]
  },
  {
   "cell_type": "code",
   "execution_count": 8,
   "id": "402f75af-14d9-4bda-82c0-0184325754de",
   "metadata": {},
   "outputs": [
    {
     "data": {
      "text/plain": [
       "sympy.core.numbers.Zero"
      ]
     },
     "execution_count": 8,
     "metadata": {},
     "output_type": "execute_result"
    }
   ],
   "source": [
    "type(fx.A.b)"
   ]
  },
  {
   "cell_type": "code",
   "execution_count": 9,
   "id": "d2827c04-3b15-450f-8387-dae3c4be63b6",
   "metadata": {},
   "outputs": [
    {
     "data": {
      "text/plain": [
       "[('IVM', 'A'),\n",
       " ('IVM', 'B'),\n",
       " ('IVM', 'C'),\n",
       " ('IVM', 'D'),\n",
       " ('XYZ', 'X'),\n",
       " ('XYZ', 'Y'),\n",
       " ('XYZ', 'Z')]"
      ]
     },
     "execution_count": 9,
     "metadata": {},
     "output_type": "execute_result"
    }
   ],
   "source": [
    "arrays = [\n",
    "    coordsys := [\"IVM\", \"IVM\", \"IVM\", \"IVM\", \"XYZ\", \"XYZ\", \"XYZ\"],\n",
    "    coordnms := [\"A\", \"B\", \"C\", \"D\", \"X\", \"Y\", \"Z\"]]\n",
    "col_tuples = list(zip(*arrays))\n",
    "col_tuples"
   ]
  },
  {
   "cell_type": "code",
   "execution_count": 10,
   "id": "55208790-c7ee-466c-824d-b69e11278b81",
   "metadata": {},
   "outputs": [],
   "source": [
    "the_shape = fx.Cuboctahedron()\n",
    "vs = the_shape.vertexes.items()\n",
    "shape_name = the_shape.nick\n",
    "rows = []\n",
    "row_tuples = []\n",
    "\n",
    "for label, v in vs:\n",
    "    xyz = v.xyz\n",
    "    rows.append(dict(name = label, A=v.a, B=v.b, C=v.c, D = v.d, X = xyz.x, Y = xyz.y, Z = xyz.z))\n",
    "    row_tuples.append((shape_name, label))"
   ]
  },
  {
   "cell_type": "code",
   "execution_count": 11,
   "id": "1921e371-6bac-4aed-a0d5-901f1a31cdef",
   "metadata": {},
   "outputs": [
    {
     "data": {
      "text/plain": [
       "[('CO', 'o'),\n",
       " ('CO', 'p'),\n",
       " ('CO', 'q'),\n",
       " ('CO', 'r'),\n",
       " ('CO', 's'),\n",
       " ('CO', 't'),\n",
       " ('CO', 'u'),\n",
       " ('CO', 'v'),\n",
       " ('CO', 'w'),\n",
       " ('CO', 'x'),\n",
       " ('CO', 'y'),\n",
       " ('CO', 'z')]"
      ]
     },
     "execution_count": 11,
     "metadata": {},
     "output_type": "execute_result"
    }
   ],
   "source": [
    "row_tuples"
   ]
  },
  {
   "cell_type": "code",
   "execution_count": 12,
   "id": "cd756225-bc85-43ac-b690-27610cb78e7d",
   "metadata": {},
   "outputs": [
    {
     "data": {
      "text/html": [
       "<div>\n",
       "<style scoped>\n",
       "    .dataframe tbody tr th:only-of-type {\n",
       "        vertical-align: middle;\n",
       "    }\n",
       "\n",
       "    .dataframe tbody tr th {\n",
       "        vertical-align: top;\n",
       "    }\n",
       "\n",
       "    .dataframe thead tr th {\n",
       "        text-align: left;\n",
       "    }\n",
       "\n",
       "    .dataframe thead tr:last-of-type th {\n",
       "        text-align: right;\n",
       "    }\n",
       "</style>\n",
       "<table border=\"1\" class=\"dataframe\">\n",
       "  <thead>\n",
       "    <tr>\n",
       "      <th></th>\n",
       "      <th>System</th>\n",
       "      <th colspan=\"4\" halign=\"left\">IVM</th>\n",
       "      <th colspan=\"3\" halign=\"left\">XYZ</th>\n",
       "    </tr>\n",
       "    <tr>\n",
       "      <th></th>\n",
       "      <th>Coords</th>\n",
       "      <th>A</th>\n",
       "      <th>B</th>\n",
       "      <th>C</th>\n",
       "      <th>D</th>\n",
       "      <th>X</th>\n",
       "      <th>Y</th>\n",
       "      <th>Z</th>\n",
       "    </tr>\n",
       "    <tr>\n",
       "      <th>Shape</th>\n",
       "      <th>Verts</th>\n",
       "      <th></th>\n",
       "      <th></th>\n",
       "      <th></th>\n",
       "      <th></th>\n",
       "      <th></th>\n",
       "      <th></th>\n",
       "      <th></th>\n",
       "    </tr>\n",
       "  </thead>\n",
       "  <tbody>\n",
       "    <tr>\n",
       "      <th rowspan=\"12\" valign=\"top\">CO</th>\n",
       "      <th>o</th>\n",
       "      <td>2</td>\n",
       "      <td>1</td>\n",
       "      <td>1</td>\n",
       "      <td>0</td>\n",
       "      <td>0</td>\n",
       "      <td>sqrt(2)/2</td>\n",
       "      <td>sqrt(2)/2</td>\n",
       "    </tr>\n",
       "    <tr>\n",
       "      <th>p</th>\n",
       "      <td>2</td>\n",
       "      <td>1</td>\n",
       "      <td>0</td>\n",
       "      <td>1</td>\n",
       "      <td>sqrt(2)/2</td>\n",
       "      <td>0</td>\n",
       "      <td>sqrt(2)/2</td>\n",
       "    </tr>\n",
       "    <tr>\n",
       "      <th>q</th>\n",
       "      <td>1</td>\n",
       "      <td>2</td>\n",
       "      <td>1</td>\n",
       "      <td>0</td>\n",
       "      <td>-sqrt(2)/2</td>\n",
       "      <td>0</td>\n",
       "      <td>sqrt(2)/2</td>\n",
       "    </tr>\n",
       "    <tr>\n",
       "      <th>r</th>\n",
       "      <td>1</td>\n",
       "      <td>2</td>\n",
       "      <td>0</td>\n",
       "      <td>1</td>\n",
       "      <td>0</td>\n",
       "      <td>-sqrt(2)/2</td>\n",
       "      <td>sqrt(2)/2</td>\n",
       "    </tr>\n",
       "    <tr>\n",
       "      <th>s</th>\n",
       "      <td>1</td>\n",
       "      <td>0</td>\n",
       "      <td>2</td>\n",
       "      <td>1</td>\n",
       "      <td>0</td>\n",
       "      <td>sqrt(2)/2</td>\n",
       "      <td>-sqrt(2)/2</td>\n",
       "    </tr>\n",
       "    <tr>\n",
       "      <th>t</th>\n",
       "      <td>1</td>\n",
       "      <td>0</td>\n",
       "      <td>1</td>\n",
       "      <td>2</td>\n",
       "      <td>sqrt(2)/2</td>\n",
       "      <td>0</td>\n",
       "      <td>-sqrt(2)/2</td>\n",
       "    </tr>\n",
       "    <tr>\n",
       "      <th>u</th>\n",
       "      <td>0</td>\n",
       "      <td>1</td>\n",
       "      <td>2</td>\n",
       "      <td>1</td>\n",
       "      <td>-sqrt(2)/2</td>\n",
       "      <td>0</td>\n",
       "      <td>-sqrt(2)/2</td>\n",
       "    </tr>\n",
       "    <tr>\n",
       "      <th>v</th>\n",
       "      <td>0</td>\n",
       "      <td>1</td>\n",
       "      <td>1</td>\n",
       "      <td>2</td>\n",
       "      <td>0</td>\n",
       "      <td>-sqrt(2)/2</td>\n",
       "      <td>-sqrt(2)/2</td>\n",
       "    </tr>\n",
       "    <tr>\n",
       "      <th>w</th>\n",
       "      <td>1</td>\n",
       "      <td>1</td>\n",
       "      <td>2</td>\n",
       "      <td>0</td>\n",
       "      <td>-sqrt(2)/2</td>\n",
       "      <td>sqrt(2)/2</td>\n",
       "      <td>0</td>\n",
       "    </tr>\n",
       "    <tr>\n",
       "      <th>x</th>\n",
       "      <td>0</td>\n",
       "      <td>2</td>\n",
       "      <td>1</td>\n",
       "      <td>1</td>\n",
       "      <td>-sqrt(2)/2</td>\n",
       "      <td>-sqrt(2)/2</td>\n",
       "      <td>0</td>\n",
       "    </tr>\n",
       "    <tr>\n",
       "      <th>y</th>\n",
       "      <td>1</td>\n",
       "      <td>1</td>\n",
       "      <td>0</td>\n",
       "      <td>2</td>\n",
       "      <td>sqrt(2)/2</td>\n",
       "      <td>-sqrt(2)/2</td>\n",
       "      <td>0</td>\n",
       "    </tr>\n",
       "    <tr>\n",
       "      <th>z</th>\n",
       "      <td>2</td>\n",
       "      <td>0</td>\n",
       "      <td>1</td>\n",
       "      <td>1</td>\n",
       "      <td>sqrt(2)/2</td>\n",
       "      <td>sqrt(2)/2</td>\n",
       "      <td>0</td>\n",
       "    </tr>\n",
       "  </tbody>\n",
       "</table>\n",
       "</div>"
      ],
      "text/plain": [
       "System      IVM                  XYZ                        \n",
       "Coords        A  B  C  D           X           Y           Z\n",
       "Shape Verts                                                 \n",
       "CO    o       2  1  1  0           0   sqrt(2)/2   sqrt(2)/2\n",
       "      p       2  1  0  1   sqrt(2)/2           0   sqrt(2)/2\n",
       "      q       1  2  1  0  -sqrt(2)/2           0   sqrt(2)/2\n",
       "      r       1  2  0  1           0  -sqrt(2)/2   sqrt(2)/2\n",
       "      s       1  0  2  1           0   sqrt(2)/2  -sqrt(2)/2\n",
       "      t       1  0  1  2   sqrt(2)/2           0  -sqrt(2)/2\n",
       "      u       0  1  2  1  -sqrt(2)/2           0  -sqrt(2)/2\n",
       "      v       0  1  1  2           0  -sqrt(2)/2  -sqrt(2)/2\n",
       "      w       1  1  2  0  -sqrt(2)/2   sqrt(2)/2           0\n",
       "      x       0  2  1  1  -sqrt(2)/2  -sqrt(2)/2           0\n",
       "      y       1  1  0  2   sqrt(2)/2  -sqrt(2)/2           0\n",
       "      z       2  0  1  1   sqrt(2)/2   sqrt(2)/2           0"
      ]
     },
     "execution_count": 12,
     "metadata": {},
     "output_type": "execute_result"
    }
   ],
   "source": [
    "df = pd.DataFrame.from_dict(rows)\n",
    "col_index = pd.MultiIndex.from_tuples(col_tuples, names=[\"System\", \"Coords\"])\n",
    "row_index = pd.MultiIndex.from_tuples(row_tuples, names=[\"Shape\", \"Verts\"])\n",
    "df.index = row_index\n",
    "df.drop(columns=\"name\", axis=1, inplace=True)\n",
    "df.columns = col_index\n",
    "df"
   ]
  },
  {
   "cell_type": "code",
   "execution_count": 13,
   "id": "4a8162ac-ac91-4c1b-839a-f7bc283a3204",
   "metadata": {},
   "outputs": [
    {
     "data": {
      "text/plain": [
       "sympy.core.numbers.Integer"
      ]
     },
     "execution_count": 13,
     "metadata": {},
     "output_type": "execute_result"
    }
   ],
   "source": [
    "type(df.loc[('CO','o')].IVM.A)"
   ]
  },
  {
   "cell_type": "code",
   "execution_count": 14,
   "id": "80fe2ee1-fc8d-4670-a014-a9621cb9188f",
   "metadata": {},
   "outputs": [
    {
     "data": {
      "text/html": [
       "<div>\n",
       "<style scoped>\n",
       "    .dataframe tbody tr th:only-of-type {\n",
       "        vertical-align: middle;\n",
       "    }\n",
       "\n",
       "    .dataframe tbody tr th {\n",
       "        vertical-align: top;\n",
       "    }\n",
       "\n",
       "    .dataframe thead tr th {\n",
       "        text-align: left;\n",
       "    }\n",
       "\n",
       "    .dataframe thead tr:last-of-type th {\n",
       "        text-align: right;\n",
       "    }\n",
       "</style>\n",
       "<table border=\"1\" class=\"dataframe\">\n",
       "  <thead>\n",
       "    <tr>\n",
       "      <th></th>\n",
       "      <th>System</th>\n",
       "      <th colspan=\"4\" halign=\"left\">IVM</th>\n",
       "      <th colspan=\"3\" halign=\"left\">XYZ</th>\n",
       "    </tr>\n",
       "    <tr>\n",
       "      <th></th>\n",
       "      <th>Coords</th>\n",
       "      <th>A</th>\n",
       "      <th>B</th>\n",
       "      <th>C</th>\n",
       "      <th>D</th>\n",
       "      <th>X</th>\n",
       "      <th>Y</th>\n",
       "      <th>Z</th>\n",
       "    </tr>\n",
       "    <tr>\n",
       "      <th>Shape</th>\n",
       "      <th>Verts</th>\n",
       "      <th></th>\n",
       "      <th></th>\n",
       "      <th></th>\n",
       "      <th></th>\n",
       "      <th></th>\n",
       "      <th></th>\n",
       "      <th></th>\n",
       "    </tr>\n",
       "  </thead>\n",
       "  <tbody>\n",
       "    <tr>\n",
       "      <th rowspan=\"12\" valign=\"top\">CO</th>\n",
       "      <th>o</th>\n",
       "      <td>2</td>\n",
       "      <td>1</td>\n",
       "      <td>1</td>\n",
       "      <td>0</td>\n",
       "      <td>0</td>\n",
       "      <td>sqrt(2)/2</td>\n",
       "      <td>sqrt(2)/2</td>\n",
       "    </tr>\n",
       "    <tr>\n",
       "      <th>p</th>\n",
       "      <td>2</td>\n",
       "      <td>1</td>\n",
       "      <td>0</td>\n",
       "      <td>1</td>\n",
       "      <td>sqrt(2)/2</td>\n",
       "      <td>0</td>\n",
       "      <td>sqrt(2)/2</td>\n",
       "    </tr>\n",
       "    <tr>\n",
       "      <th>q</th>\n",
       "      <td>1</td>\n",
       "      <td>2</td>\n",
       "      <td>1</td>\n",
       "      <td>0</td>\n",
       "      <td>-sqrt(2)/2</td>\n",
       "      <td>0</td>\n",
       "      <td>sqrt(2)/2</td>\n",
       "    </tr>\n",
       "    <tr>\n",
       "      <th>r</th>\n",
       "      <td>1</td>\n",
       "      <td>2</td>\n",
       "      <td>0</td>\n",
       "      <td>1</td>\n",
       "      <td>0</td>\n",
       "      <td>-sqrt(2)/2</td>\n",
       "      <td>sqrt(2)/2</td>\n",
       "    </tr>\n",
       "    <tr>\n",
       "      <th>s</th>\n",
       "      <td>1</td>\n",
       "      <td>0</td>\n",
       "      <td>2</td>\n",
       "      <td>1</td>\n",
       "      <td>0</td>\n",
       "      <td>sqrt(2)/2</td>\n",
       "      <td>-sqrt(2)/2</td>\n",
       "    </tr>\n",
       "    <tr>\n",
       "      <th>t</th>\n",
       "      <td>1</td>\n",
       "      <td>0</td>\n",
       "      <td>1</td>\n",
       "      <td>2</td>\n",
       "      <td>sqrt(2)/2</td>\n",
       "      <td>0</td>\n",
       "      <td>-sqrt(2)/2</td>\n",
       "    </tr>\n",
       "    <tr>\n",
       "      <th>u</th>\n",
       "      <td>0</td>\n",
       "      <td>1</td>\n",
       "      <td>2</td>\n",
       "      <td>1</td>\n",
       "      <td>-sqrt(2)/2</td>\n",
       "      <td>0</td>\n",
       "      <td>-sqrt(2)/2</td>\n",
       "    </tr>\n",
       "    <tr>\n",
       "      <th>v</th>\n",
       "      <td>0</td>\n",
       "      <td>1</td>\n",
       "      <td>1</td>\n",
       "      <td>2</td>\n",
       "      <td>0</td>\n",
       "      <td>-sqrt(2)/2</td>\n",
       "      <td>-sqrt(2)/2</td>\n",
       "    </tr>\n",
       "    <tr>\n",
       "      <th>w</th>\n",
       "      <td>1</td>\n",
       "      <td>1</td>\n",
       "      <td>2</td>\n",
       "      <td>0</td>\n",
       "      <td>-sqrt(2)/2</td>\n",
       "      <td>sqrt(2)/2</td>\n",
       "      <td>0</td>\n",
       "    </tr>\n",
       "    <tr>\n",
       "      <th>x</th>\n",
       "      <td>0</td>\n",
       "      <td>2</td>\n",
       "      <td>1</td>\n",
       "      <td>1</td>\n",
       "      <td>-sqrt(2)/2</td>\n",
       "      <td>-sqrt(2)/2</td>\n",
       "      <td>0</td>\n",
       "    </tr>\n",
       "    <tr>\n",
       "      <th>y</th>\n",
       "      <td>1</td>\n",
       "      <td>1</td>\n",
       "      <td>0</td>\n",
       "      <td>2</td>\n",
       "      <td>sqrt(2)/2</td>\n",
       "      <td>-sqrt(2)/2</td>\n",
       "      <td>0</td>\n",
       "    </tr>\n",
       "    <tr>\n",
       "      <th>z</th>\n",
       "      <td>2</td>\n",
       "      <td>0</td>\n",
       "      <td>1</td>\n",
       "      <td>1</td>\n",
       "      <td>sqrt(2)/2</td>\n",
       "      <td>sqrt(2)/2</td>\n",
       "      <td>0</td>\n",
       "    </tr>\n",
       "  </tbody>\n",
       "</table>\n",
       "</div>"
      ],
      "text/plain": [
       "System      IVM                  XYZ                        \n",
       "Coords        A  B  C  D           X           Y           Z\n",
       "Shape Verts                                                 \n",
       "CO    o       2  1  1  0           0   sqrt(2)/2   sqrt(2)/2\n",
       "      p       2  1  0  1   sqrt(2)/2           0   sqrt(2)/2\n",
       "      q       1  2  1  0  -sqrt(2)/2           0   sqrt(2)/2\n",
       "      r       1  2  0  1           0  -sqrt(2)/2   sqrt(2)/2\n",
       "      s       1  0  2  1           0   sqrt(2)/2  -sqrt(2)/2\n",
       "      t       1  0  1  2   sqrt(2)/2           0  -sqrt(2)/2\n",
       "      u       0  1  2  1  -sqrt(2)/2           0  -sqrt(2)/2\n",
       "      v       0  1  1  2           0  -sqrt(2)/2  -sqrt(2)/2\n",
       "      w       1  1  2  0  -sqrt(2)/2   sqrt(2)/2           0\n",
       "      x       0  2  1  1  -sqrt(2)/2  -sqrt(2)/2           0\n",
       "      y       1  1  0  2   sqrt(2)/2  -sqrt(2)/2           0\n",
       "      z       2  0  1  1   sqrt(2)/2   sqrt(2)/2           0"
      ]
     },
     "execution_count": 14,
     "metadata": {},
     "output_type": "execute_result"
    }
   ],
   "source": [
    "df"
   ]
  },
  {
   "cell_type": "code",
   "execution_count": 15,
   "id": "5fbd0836-145c-4ef5-a192-e459bbb64757",
   "metadata": {},
   "outputs": [],
   "source": [
    "def tabulate(shape, dec=False, n=8):\n",
    "    vs = shape.vertexes.items()\n",
    "    shape_name = shape.nick\n",
    "    rows = []\n",
    "    row_tuples = []\n",
    "\n",
    "    for label, v in vs:\n",
    "        xyz = v.xyz\n",
    "        row_tuples.append((shape_name, label))\n",
    "        if not dec:\n",
    "            rows.append(dict(name = label, \n",
    "                             A=v.a, \n",
    "                             B=v.b, \n",
    "                             C=v.c, \n",
    "                             D = v.d, \n",
    "                             X = xyz.x, \n",
    "                             Y = xyz.y, \n",
    "                             Z = xyz.z))\n",
    "        else:\n",
    "            rows.append(dict(name = label, \n",
    "                             A = v.a.evalf(n).round(n), \n",
    "                             B = v.b.evalf(n).round(n), \n",
    "                             C = v.c.evalf(n).round(n), \n",
    "                             D = v.d.evalf(n).round(n), \n",
    "                             X = xyz.x.evalf(n).round(n), \n",
    "                             Y = xyz.y.evalf(n).round(n), \n",
    "                             Z = xyz.z.evalf(n).round(n)))  \n",
    "                        \n",
    "    df = pd.DataFrame.from_dict(rows)\n",
    "    col_index = pd.MultiIndex.from_tuples(col_tuples, names=[\"System\", \"Coords\"])\n",
    "    row_index = pd.MultiIndex.from_tuples(row_tuples, names=[\"Shape\", \"Verts\"])\n",
    "    df.index = row_index\n",
    "    df.drop(columns=\"name\", axis=1, inplace=True)\n",
    "    df.columns = col_index\n",
    "    return df"
   ]
  },
  {
   "cell_type": "code",
   "execution_count": 16,
   "id": "58028d16-1ae2-4b09-971a-6dde8d2b092b",
   "metadata": {},
   "outputs": [
    {
     "data": {
      "text/html": [
       "<div>\n",
       "<style scoped>\n",
       "    .dataframe tbody tr th:only-of-type {\n",
       "        vertical-align: middle;\n",
       "    }\n",
       "\n",
       "    .dataframe tbody tr th {\n",
       "        vertical-align: top;\n",
       "    }\n",
       "\n",
       "    .dataframe thead tr th {\n",
       "        text-align: left;\n",
       "    }\n",
       "\n",
       "    .dataframe thead tr:last-of-type th {\n",
       "        text-align: right;\n",
       "    }\n",
       "</style>\n",
       "<table border=\"1\" class=\"dataframe\">\n",
       "  <thead>\n",
       "    <tr>\n",
       "      <th></th>\n",
       "      <th>System</th>\n",
       "      <th colspan=\"4\" halign=\"left\">IVM</th>\n",
       "      <th colspan=\"3\" halign=\"left\">XYZ</th>\n",
       "    </tr>\n",
       "    <tr>\n",
       "      <th></th>\n",
       "      <th>Coords</th>\n",
       "      <th>A</th>\n",
       "      <th>B</th>\n",
       "      <th>C</th>\n",
       "      <th>D</th>\n",
       "      <th>X</th>\n",
       "      <th>Y</th>\n",
       "      <th>Z</th>\n",
       "    </tr>\n",
       "    <tr>\n",
       "      <th>Shape</th>\n",
       "      <th>Verts</th>\n",
       "      <th></th>\n",
       "      <th></th>\n",
       "      <th></th>\n",
       "      <th></th>\n",
       "      <th></th>\n",
       "      <th></th>\n",
       "      <th></th>\n",
       "    </tr>\n",
       "  </thead>\n",
       "  <tbody>\n",
       "    <tr>\n",
       "      <th rowspan=\"4\" valign=\"top\">Tet</th>\n",
       "      <th>a</th>\n",
       "      <td>1</td>\n",
       "      <td>0</td>\n",
       "      <td>0</td>\n",
       "      <td>0</td>\n",
       "      <td>sqrt(2)/4</td>\n",
       "      <td>sqrt(2)/4</td>\n",
       "      <td>sqrt(2)/4</td>\n",
       "    </tr>\n",
       "    <tr>\n",
       "      <th>b</th>\n",
       "      <td>0</td>\n",
       "      <td>1</td>\n",
       "      <td>0</td>\n",
       "      <td>0</td>\n",
       "      <td>-sqrt(2)/4</td>\n",
       "      <td>-sqrt(2)/4</td>\n",
       "      <td>sqrt(2)/4</td>\n",
       "    </tr>\n",
       "    <tr>\n",
       "      <th>c</th>\n",
       "      <td>0</td>\n",
       "      <td>0</td>\n",
       "      <td>1</td>\n",
       "      <td>0</td>\n",
       "      <td>-sqrt(2)/4</td>\n",
       "      <td>sqrt(2)/4</td>\n",
       "      <td>-sqrt(2)/4</td>\n",
       "    </tr>\n",
       "    <tr>\n",
       "      <th>d</th>\n",
       "      <td>0</td>\n",
       "      <td>0</td>\n",
       "      <td>0</td>\n",
       "      <td>1</td>\n",
       "      <td>sqrt(2)/4</td>\n",
       "      <td>-sqrt(2)/4</td>\n",
       "      <td>-sqrt(2)/4</td>\n",
       "    </tr>\n",
       "    <tr>\n",
       "      <th rowspan=\"4\" valign=\"top\">~Tet</th>\n",
       "      <th>e</th>\n",
       "      <td>0</td>\n",
       "      <td>1</td>\n",
       "      <td>1</td>\n",
       "      <td>1</td>\n",
       "      <td>-sqrt(2)/4</td>\n",
       "      <td>-sqrt(2)/4</td>\n",
       "      <td>-sqrt(2)/4</td>\n",
       "    </tr>\n",
       "    <tr>\n",
       "      <th>f</th>\n",
       "      <td>1</td>\n",
       "      <td>0</td>\n",
       "      <td>1</td>\n",
       "      <td>1</td>\n",
       "      <td>sqrt(2)/4</td>\n",
       "      <td>sqrt(2)/4</td>\n",
       "      <td>-sqrt(2)/4</td>\n",
       "    </tr>\n",
       "    <tr>\n",
       "      <th>g</th>\n",
       "      <td>1</td>\n",
       "      <td>1</td>\n",
       "      <td>0</td>\n",
       "      <td>1</td>\n",
       "      <td>sqrt(2)/4</td>\n",
       "      <td>-sqrt(2)/4</td>\n",
       "      <td>sqrt(2)/4</td>\n",
       "    </tr>\n",
       "    <tr>\n",
       "      <th>h</th>\n",
       "      <td>1</td>\n",
       "      <td>1</td>\n",
       "      <td>1</td>\n",
       "      <td>0</td>\n",
       "      <td>-sqrt(2)/4</td>\n",
       "      <td>sqrt(2)/4</td>\n",
       "      <td>sqrt(2)/4</td>\n",
       "    </tr>\n",
       "    <tr>\n",
       "      <th rowspan=\"8\" valign=\"top\">Cube</th>\n",
       "      <th>a</th>\n",
       "      <td>1</td>\n",
       "      <td>0</td>\n",
       "      <td>0</td>\n",
       "      <td>0</td>\n",
       "      <td>sqrt(2)/4</td>\n",
       "      <td>sqrt(2)/4</td>\n",
       "      <td>sqrt(2)/4</td>\n",
       "    </tr>\n",
       "    <tr>\n",
       "      <th>b</th>\n",
       "      <td>0</td>\n",
       "      <td>1</td>\n",
       "      <td>0</td>\n",
       "      <td>0</td>\n",
       "      <td>-sqrt(2)/4</td>\n",
       "      <td>-sqrt(2)/4</td>\n",
       "      <td>sqrt(2)/4</td>\n",
       "    </tr>\n",
       "    <tr>\n",
       "      <th>c</th>\n",
       "      <td>0</td>\n",
       "      <td>0</td>\n",
       "      <td>1</td>\n",
       "      <td>0</td>\n",
       "      <td>-sqrt(2)/4</td>\n",
       "      <td>sqrt(2)/4</td>\n",
       "      <td>-sqrt(2)/4</td>\n",
       "    </tr>\n",
       "    <tr>\n",
       "      <th>d</th>\n",
       "      <td>0</td>\n",
       "      <td>0</td>\n",
       "      <td>0</td>\n",
       "      <td>1</td>\n",
       "      <td>sqrt(2)/4</td>\n",
       "      <td>-sqrt(2)/4</td>\n",
       "      <td>-sqrt(2)/4</td>\n",
       "    </tr>\n",
       "    <tr>\n",
       "      <th>e</th>\n",
       "      <td>0</td>\n",
       "      <td>1</td>\n",
       "      <td>1</td>\n",
       "      <td>1</td>\n",
       "      <td>-sqrt(2)/4</td>\n",
       "      <td>-sqrt(2)/4</td>\n",
       "      <td>-sqrt(2)/4</td>\n",
       "    </tr>\n",
       "    <tr>\n",
       "      <th>f</th>\n",
       "      <td>1</td>\n",
       "      <td>0</td>\n",
       "      <td>1</td>\n",
       "      <td>1</td>\n",
       "      <td>sqrt(2)/4</td>\n",
       "      <td>sqrt(2)/4</td>\n",
       "      <td>-sqrt(2)/4</td>\n",
       "    </tr>\n",
       "    <tr>\n",
       "      <th>g</th>\n",
       "      <td>1</td>\n",
       "      <td>1</td>\n",
       "      <td>0</td>\n",
       "      <td>1</td>\n",
       "      <td>sqrt(2)/4</td>\n",
       "      <td>-sqrt(2)/4</td>\n",
       "      <td>sqrt(2)/4</td>\n",
       "    </tr>\n",
       "    <tr>\n",
       "      <th>h</th>\n",
       "      <td>1</td>\n",
       "      <td>1</td>\n",
       "      <td>1</td>\n",
       "      <td>0</td>\n",
       "      <td>-sqrt(2)/4</td>\n",
       "      <td>sqrt(2)/4</td>\n",
       "      <td>sqrt(2)/4</td>\n",
       "    </tr>\n",
       "    <tr>\n",
       "      <th rowspan=\"6\" valign=\"top\">Oct</th>\n",
       "      <th>i</th>\n",
       "      <td>1</td>\n",
       "      <td>1</td>\n",
       "      <td>0</td>\n",
       "      <td>0</td>\n",
       "      <td>0</td>\n",
       "      <td>0</td>\n",
       "      <td>sqrt(2)/2</td>\n",
       "    </tr>\n",
       "    <tr>\n",
       "      <th>j</th>\n",
       "      <td>1</td>\n",
       "      <td>0</td>\n",
       "      <td>1</td>\n",
       "      <td>0</td>\n",
       "      <td>0</td>\n",
       "      <td>sqrt(2)/2</td>\n",
       "      <td>0</td>\n",
       "    </tr>\n",
       "    <tr>\n",
       "      <th>k</th>\n",
       "      <td>1</td>\n",
       "      <td>0</td>\n",
       "      <td>0</td>\n",
       "      <td>1</td>\n",
       "      <td>sqrt(2)/2</td>\n",
       "      <td>0</td>\n",
       "      <td>0</td>\n",
       "    </tr>\n",
       "    <tr>\n",
       "      <th>l</th>\n",
       "      <td>0</td>\n",
       "      <td>1</td>\n",
       "      <td>1</td>\n",
       "      <td>0</td>\n",
       "      <td>-sqrt(2)/2</td>\n",
       "      <td>0</td>\n",
       "      <td>0</td>\n",
       "    </tr>\n",
       "    <tr>\n",
       "      <th>m</th>\n",
       "      <td>0</td>\n",
       "      <td>1</td>\n",
       "      <td>0</td>\n",
       "      <td>1</td>\n",
       "      <td>0</td>\n",
       "      <td>-sqrt(2)/2</td>\n",
       "      <td>0</td>\n",
       "    </tr>\n",
       "    <tr>\n",
       "      <th>n</th>\n",
       "      <td>0</td>\n",
       "      <td>0</td>\n",
       "      <td>1</td>\n",
       "      <td>1</td>\n",
       "      <td>0</td>\n",
       "      <td>0</td>\n",
       "      <td>-sqrt(2)/2</td>\n",
       "    </tr>\n",
       "    <tr>\n",
       "      <th rowspan=\"14\" valign=\"top\">RD</th>\n",
       "      <th>a</th>\n",
       "      <td>1</td>\n",
       "      <td>0</td>\n",
       "      <td>0</td>\n",
       "      <td>0</td>\n",
       "      <td>sqrt(2)/4</td>\n",
       "      <td>sqrt(2)/4</td>\n",
       "      <td>sqrt(2)/4</td>\n",
       "    </tr>\n",
       "    <tr>\n",
       "      <th>b</th>\n",
       "      <td>0</td>\n",
       "      <td>1</td>\n",
       "      <td>0</td>\n",
       "      <td>0</td>\n",
       "      <td>-sqrt(2)/4</td>\n",
       "      <td>-sqrt(2)/4</td>\n",
       "      <td>sqrt(2)/4</td>\n",
       "    </tr>\n",
       "    <tr>\n",
       "      <th>c</th>\n",
       "      <td>0</td>\n",
       "      <td>0</td>\n",
       "      <td>1</td>\n",
       "      <td>0</td>\n",
       "      <td>-sqrt(2)/4</td>\n",
       "      <td>sqrt(2)/4</td>\n",
       "      <td>-sqrt(2)/4</td>\n",
       "    </tr>\n",
       "    <tr>\n",
       "      <th>d</th>\n",
       "      <td>0</td>\n",
       "      <td>0</td>\n",
       "      <td>0</td>\n",
       "      <td>1</td>\n",
       "      <td>sqrt(2)/4</td>\n",
       "      <td>-sqrt(2)/4</td>\n",
       "      <td>-sqrt(2)/4</td>\n",
       "    </tr>\n",
       "    <tr>\n",
       "      <th>e</th>\n",
       "      <td>0</td>\n",
       "      <td>1</td>\n",
       "      <td>1</td>\n",
       "      <td>1</td>\n",
       "      <td>-sqrt(2)/4</td>\n",
       "      <td>-sqrt(2)/4</td>\n",
       "      <td>-sqrt(2)/4</td>\n",
       "    </tr>\n",
       "    <tr>\n",
       "      <th>f</th>\n",
       "      <td>1</td>\n",
       "      <td>0</td>\n",
       "      <td>1</td>\n",
       "      <td>1</td>\n",
       "      <td>sqrt(2)/4</td>\n",
       "      <td>sqrt(2)/4</td>\n",
       "      <td>-sqrt(2)/4</td>\n",
       "    </tr>\n",
       "    <tr>\n",
       "      <th>g</th>\n",
       "      <td>1</td>\n",
       "      <td>1</td>\n",
       "      <td>0</td>\n",
       "      <td>1</td>\n",
       "      <td>sqrt(2)/4</td>\n",
       "      <td>-sqrt(2)/4</td>\n",
       "      <td>sqrt(2)/4</td>\n",
       "    </tr>\n",
       "    <tr>\n",
       "      <th>h</th>\n",
       "      <td>1</td>\n",
       "      <td>1</td>\n",
       "      <td>1</td>\n",
       "      <td>0</td>\n",
       "      <td>-sqrt(2)/4</td>\n",
       "      <td>sqrt(2)/4</td>\n",
       "      <td>sqrt(2)/4</td>\n",
       "    </tr>\n",
       "    <tr>\n",
       "      <th>i</th>\n",
       "      <td>1</td>\n",
       "      <td>1</td>\n",
       "      <td>0</td>\n",
       "      <td>0</td>\n",
       "      <td>0</td>\n",
       "      <td>0</td>\n",
       "      <td>sqrt(2)/2</td>\n",
       "    </tr>\n",
       "    <tr>\n",
       "      <th>j</th>\n",
       "      <td>1</td>\n",
       "      <td>0</td>\n",
       "      <td>1</td>\n",
       "      <td>0</td>\n",
       "      <td>0</td>\n",
       "      <td>sqrt(2)/2</td>\n",
       "      <td>0</td>\n",
       "    </tr>\n",
       "    <tr>\n",
       "      <th>k</th>\n",
       "      <td>1</td>\n",
       "      <td>0</td>\n",
       "      <td>0</td>\n",
       "      <td>1</td>\n",
       "      <td>sqrt(2)/2</td>\n",
       "      <td>0</td>\n",
       "      <td>0</td>\n",
       "    </tr>\n",
       "    <tr>\n",
       "      <th>l</th>\n",
       "      <td>0</td>\n",
       "      <td>1</td>\n",
       "      <td>1</td>\n",
       "      <td>0</td>\n",
       "      <td>-sqrt(2)/2</td>\n",
       "      <td>0</td>\n",
       "      <td>0</td>\n",
       "    </tr>\n",
       "    <tr>\n",
       "      <th>m</th>\n",
       "      <td>0</td>\n",
       "      <td>1</td>\n",
       "      <td>0</td>\n",
       "      <td>1</td>\n",
       "      <td>0</td>\n",
       "      <td>-sqrt(2)/2</td>\n",
       "      <td>0</td>\n",
       "    </tr>\n",
       "    <tr>\n",
       "      <th>n</th>\n",
       "      <td>0</td>\n",
       "      <td>0</td>\n",
       "      <td>1</td>\n",
       "      <td>1</td>\n",
       "      <td>0</td>\n",
       "      <td>0</td>\n",
       "      <td>-sqrt(2)/2</td>\n",
       "    </tr>\n",
       "    <tr>\n",
       "      <th rowspan=\"12\" valign=\"top\">CO</th>\n",
       "      <th>o</th>\n",
       "      <td>2</td>\n",
       "      <td>1</td>\n",
       "      <td>1</td>\n",
       "      <td>0</td>\n",
       "      <td>0</td>\n",
       "      <td>sqrt(2)/2</td>\n",
       "      <td>sqrt(2)/2</td>\n",
       "    </tr>\n",
       "    <tr>\n",
       "      <th>p</th>\n",
       "      <td>2</td>\n",
       "      <td>1</td>\n",
       "      <td>0</td>\n",
       "      <td>1</td>\n",
       "      <td>sqrt(2)/2</td>\n",
       "      <td>0</td>\n",
       "      <td>sqrt(2)/2</td>\n",
       "    </tr>\n",
       "    <tr>\n",
       "      <th>q</th>\n",
       "      <td>1</td>\n",
       "      <td>2</td>\n",
       "      <td>1</td>\n",
       "      <td>0</td>\n",
       "      <td>-sqrt(2)/2</td>\n",
       "      <td>0</td>\n",
       "      <td>sqrt(2)/2</td>\n",
       "    </tr>\n",
       "    <tr>\n",
       "      <th>r</th>\n",
       "      <td>1</td>\n",
       "      <td>2</td>\n",
       "      <td>0</td>\n",
       "      <td>1</td>\n",
       "      <td>0</td>\n",
       "      <td>-sqrt(2)/2</td>\n",
       "      <td>sqrt(2)/2</td>\n",
       "    </tr>\n",
       "    <tr>\n",
       "      <th>s</th>\n",
       "      <td>1</td>\n",
       "      <td>0</td>\n",
       "      <td>2</td>\n",
       "      <td>1</td>\n",
       "      <td>0</td>\n",
       "      <td>sqrt(2)/2</td>\n",
       "      <td>-sqrt(2)/2</td>\n",
       "    </tr>\n",
       "    <tr>\n",
       "      <th>t</th>\n",
       "      <td>1</td>\n",
       "      <td>0</td>\n",
       "      <td>1</td>\n",
       "      <td>2</td>\n",
       "      <td>sqrt(2)/2</td>\n",
       "      <td>0</td>\n",
       "      <td>-sqrt(2)/2</td>\n",
       "    </tr>\n",
       "    <tr>\n",
       "      <th>u</th>\n",
       "      <td>0</td>\n",
       "      <td>1</td>\n",
       "      <td>2</td>\n",
       "      <td>1</td>\n",
       "      <td>-sqrt(2)/2</td>\n",
       "      <td>0</td>\n",
       "      <td>-sqrt(2)/2</td>\n",
       "    </tr>\n",
       "    <tr>\n",
       "      <th>v</th>\n",
       "      <td>0</td>\n",
       "      <td>1</td>\n",
       "      <td>1</td>\n",
       "      <td>2</td>\n",
       "      <td>0</td>\n",
       "      <td>-sqrt(2)/2</td>\n",
       "      <td>-sqrt(2)/2</td>\n",
       "    </tr>\n",
       "    <tr>\n",
       "      <th>w</th>\n",
       "      <td>1</td>\n",
       "      <td>1</td>\n",
       "      <td>2</td>\n",
       "      <td>0</td>\n",
       "      <td>-sqrt(2)/2</td>\n",
       "      <td>sqrt(2)/2</td>\n",
       "      <td>0</td>\n",
       "    </tr>\n",
       "    <tr>\n",
       "      <th>x</th>\n",
       "      <td>0</td>\n",
       "      <td>2</td>\n",
       "      <td>1</td>\n",
       "      <td>1</td>\n",
       "      <td>-sqrt(2)/2</td>\n",
       "      <td>-sqrt(2)/2</td>\n",
       "      <td>0</td>\n",
       "    </tr>\n",
       "    <tr>\n",
       "      <th>y</th>\n",
       "      <td>1</td>\n",
       "      <td>1</td>\n",
       "      <td>0</td>\n",
       "      <td>2</td>\n",
       "      <td>sqrt(2)/2</td>\n",
       "      <td>-sqrt(2)/2</td>\n",
       "      <td>0</td>\n",
       "    </tr>\n",
       "    <tr>\n",
       "      <th>z</th>\n",
       "      <td>2</td>\n",
       "      <td>0</td>\n",
       "      <td>1</td>\n",
       "      <td>1</td>\n",
       "      <td>sqrt(2)/2</td>\n",
       "      <td>sqrt(2)/2</td>\n",
       "      <td>0</td>\n",
       "    </tr>\n",
       "  </tbody>\n",
       "</table>\n",
       "</div>"
      ],
      "text/plain": [
       "System      IVM                  XYZ                        \n",
       "Coords        A  B  C  D           X           Y           Z\n",
       "Shape Verts                                                 \n",
       "Tet   a       1  0  0  0   sqrt(2)/4   sqrt(2)/4   sqrt(2)/4\n",
       "      b       0  1  0  0  -sqrt(2)/4  -sqrt(2)/4   sqrt(2)/4\n",
       "      c       0  0  1  0  -sqrt(2)/4   sqrt(2)/4  -sqrt(2)/4\n",
       "      d       0  0  0  1   sqrt(2)/4  -sqrt(2)/4  -sqrt(2)/4\n",
       "~Tet  e       0  1  1  1  -sqrt(2)/4  -sqrt(2)/4  -sqrt(2)/4\n",
       "      f       1  0  1  1   sqrt(2)/4   sqrt(2)/4  -sqrt(2)/4\n",
       "      g       1  1  0  1   sqrt(2)/4  -sqrt(2)/4   sqrt(2)/4\n",
       "      h       1  1  1  0  -sqrt(2)/4   sqrt(2)/4   sqrt(2)/4\n",
       "Cube  a       1  0  0  0   sqrt(2)/4   sqrt(2)/4   sqrt(2)/4\n",
       "      b       0  1  0  0  -sqrt(2)/4  -sqrt(2)/4   sqrt(2)/4\n",
       "      c       0  0  1  0  -sqrt(2)/4   sqrt(2)/4  -sqrt(2)/4\n",
       "      d       0  0  0  1   sqrt(2)/4  -sqrt(2)/4  -sqrt(2)/4\n",
       "      e       0  1  1  1  -sqrt(2)/4  -sqrt(2)/4  -sqrt(2)/4\n",
       "      f       1  0  1  1   sqrt(2)/4   sqrt(2)/4  -sqrt(2)/4\n",
       "      g       1  1  0  1   sqrt(2)/4  -sqrt(2)/4   sqrt(2)/4\n",
       "      h       1  1  1  0  -sqrt(2)/4   sqrt(2)/4   sqrt(2)/4\n",
       "Oct   i       1  1  0  0           0           0   sqrt(2)/2\n",
       "      j       1  0  1  0           0   sqrt(2)/2           0\n",
       "      k       1  0  0  1   sqrt(2)/2           0           0\n",
       "      l       0  1  1  0  -sqrt(2)/2           0           0\n",
       "      m       0  1  0  1           0  -sqrt(2)/2           0\n",
       "      n       0  0  1  1           0           0  -sqrt(2)/2\n",
       "RD    a       1  0  0  0   sqrt(2)/4   sqrt(2)/4   sqrt(2)/4\n",
       "      b       0  1  0  0  -sqrt(2)/4  -sqrt(2)/4   sqrt(2)/4\n",
       "      c       0  0  1  0  -sqrt(2)/4   sqrt(2)/4  -sqrt(2)/4\n",
       "      d       0  0  0  1   sqrt(2)/4  -sqrt(2)/4  -sqrt(2)/4\n",
       "      e       0  1  1  1  -sqrt(2)/4  -sqrt(2)/4  -sqrt(2)/4\n",
       "      f       1  0  1  1   sqrt(2)/4   sqrt(2)/4  -sqrt(2)/4\n",
       "      g       1  1  0  1   sqrt(2)/4  -sqrt(2)/4   sqrt(2)/4\n",
       "      h       1  1  1  0  -sqrt(2)/4   sqrt(2)/4   sqrt(2)/4\n",
       "      i       1  1  0  0           0           0   sqrt(2)/2\n",
       "      j       1  0  1  0           0   sqrt(2)/2           0\n",
       "      k       1  0  0  1   sqrt(2)/2           0           0\n",
       "      l       0  1  1  0  -sqrt(2)/2           0           0\n",
       "      m       0  1  0  1           0  -sqrt(2)/2           0\n",
       "      n       0  0  1  1           0           0  -sqrt(2)/2\n",
       "CO    o       2  1  1  0           0   sqrt(2)/2   sqrt(2)/2\n",
       "      p       2  1  0  1   sqrt(2)/2           0   sqrt(2)/2\n",
       "      q       1  2  1  0  -sqrt(2)/2           0   sqrt(2)/2\n",
       "      r       1  2  0  1           0  -sqrt(2)/2   sqrt(2)/2\n",
       "      s       1  0  2  1           0   sqrt(2)/2  -sqrt(2)/2\n",
       "      t       1  0  1  2   sqrt(2)/2           0  -sqrt(2)/2\n",
       "      u       0  1  2  1  -sqrt(2)/2           0  -sqrt(2)/2\n",
       "      v       0  1  1  2           0  -sqrt(2)/2  -sqrt(2)/2\n",
       "      w       1  1  2  0  -sqrt(2)/2   sqrt(2)/2           0\n",
       "      x       0  2  1  1  -sqrt(2)/2  -sqrt(2)/2           0\n",
       "      y       1  1  0  2   sqrt(2)/2  -sqrt(2)/2           0\n",
       "      z       2  0  1  1   sqrt(2)/2   sqrt(2)/2           0"
      ]
     },
     "execution_count": 16,
     "metadata": {},
     "output_type": "execute_result"
    }
   ],
   "source": [
    "tet = tabulate(fx.Tetrahedron())\n",
    "invtet = tabulate(fx.InvTetrahedron())\n",
    "cu   = tabulate(fx.Cube())\n",
    "octa = tabulate(fx.Octahedron())\n",
    "rd   = tabulate(fx.RD())\n",
    "co   = tabulate(fx.Cuboctahedron())\n",
    "\n",
    "master_df = pd.concat((tet, invtet, cu, octa, rd, co), axis=0)\n",
    "master_df"
   ]
  },
  {
   "cell_type": "code",
   "execution_count": 17,
   "id": "0599fc2d-dd44-4293-9b5e-8ad7b034777a",
   "metadata": {},
   "outputs": [
    {
     "data": {
      "text/html": [
       "<div>\n",
       "<style scoped>\n",
       "    .dataframe tbody tr th:only-of-type {\n",
       "        vertical-align: middle;\n",
       "    }\n",
       "\n",
       "    .dataframe tbody tr th {\n",
       "        vertical-align: top;\n",
       "    }\n",
       "\n",
       "    .dataframe thead tr th {\n",
       "        text-align: left;\n",
       "    }\n",
       "\n",
       "    .dataframe thead tr:last-of-type th {\n",
       "        text-align: right;\n",
       "    }\n",
       "</style>\n",
       "<table border=\"1\" class=\"dataframe\">\n",
       "  <thead>\n",
       "    <tr>\n",
       "      <th></th>\n",
       "      <th>System</th>\n",
       "      <th colspan=\"4\" halign=\"left\">IVM</th>\n",
       "      <th colspan=\"3\" halign=\"left\">XYZ</th>\n",
       "    </tr>\n",
       "    <tr>\n",
       "      <th></th>\n",
       "      <th>Coords</th>\n",
       "      <th>A</th>\n",
       "      <th>B</th>\n",
       "      <th>C</th>\n",
       "      <th>D</th>\n",
       "      <th>X</th>\n",
       "      <th>Y</th>\n",
       "      <th>Z</th>\n",
       "    </tr>\n",
       "    <tr>\n",
       "      <th>Shape</th>\n",
       "      <th>Verts</th>\n",
       "      <th></th>\n",
       "      <th></th>\n",
       "      <th></th>\n",
       "      <th></th>\n",
       "      <th></th>\n",
       "      <th></th>\n",
       "      <th></th>\n",
       "    </tr>\n",
       "  </thead>\n",
       "  <tbody>\n",
       "    <tr>\n",
       "      <th rowspan=\"12\" valign=\"top\">Ico</th>\n",
       "      <th>o</th>\n",
       "      <td>1.8512</td>\n",
       "      <td>0.70711</td>\n",
       "      <td>1.1441</td>\n",
       "      <td>0</td>\n",
       "      <td>0.0</td>\n",
       "      <td>0.80902</td>\n",
       "      <td>0.50000</td>\n",
       "    </tr>\n",
       "    <tr>\n",
       "      <th>p</th>\n",
       "      <td>1.8512</td>\n",
       "      <td>1.1441</td>\n",
       "      <td>0</td>\n",
       "      <td>0.70711</td>\n",
       "      <td>0.50000</td>\n",
       "      <td>0.0</td>\n",
       "      <td>0.80902</td>\n",
       "    </tr>\n",
       "    <tr>\n",
       "      <th>q</th>\n",
       "      <td>1.1441</td>\n",
       "      <td>1.8512</td>\n",
       "      <td>0.70711</td>\n",
       "      <td>0</td>\n",
       "      <td>-0.50000</td>\n",
       "      <td>0.0</td>\n",
       "      <td>0.80902</td>\n",
       "    </tr>\n",
       "    <tr>\n",
       "      <th>r</th>\n",
       "      <td>0.70711</td>\n",
       "      <td>1.8512</td>\n",
       "      <td>0</td>\n",
       "      <td>1.1441</td>\n",
       "      <td>0.0</td>\n",
       "      <td>-0.80902</td>\n",
       "      <td>0.50000</td>\n",
       "    </tr>\n",
       "    <tr>\n",
       "      <th>s</th>\n",
       "      <td>1.1441</td>\n",
       "      <td>0</td>\n",
       "      <td>1.8512</td>\n",
       "      <td>0.70711</td>\n",
       "      <td>0.0</td>\n",
       "      <td>0.80902</td>\n",
       "      <td>-0.50000</td>\n",
       "    </tr>\n",
       "    <tr>\n",
       "      <th>t</th>\n",
       "      <td>0.70711</td>\n",
       "      <td>0</td>\n",
       "      <td>1.1441</td>\n",
       "      <td>1.8512</td>\n",
       "      <td>0.50000</td>\n",
       "      <td>0.0</td>\n",
       "      <td>-0.80902</td>\n",
       "    </tr>\n",
       "    <tr>\n",
       "      <th>u</th>\n",
       "      <td>0</td>\n",
       "      <td>0.70711</td>\n",
       "      <td>1.8512</td>\n",
       "      <td>1.1441</td>\n",
       "      <td>-0.50000</td>\n",
       "      <td>0.0</td>\n",
       "      <td>-0.80902</td>\n",
       "    </tr>\n",
       "    <tr>\n",
       "      <th>v</th>\n",
       "      <td>0</td>\n",
       "      <td>1.1441</td>\n",
       "      <td>0.70711</td>\n",
       "      <td>1.8512</td>\n",
       "      <td>0.0</td>\n",
       "      <td>-0.80902</td>\n",
       "      <td>-0.50000</td>\n",
       "    </tr>\n",
       "    <tr>\n",
       "      <th>w</th>\n",
       "      <td>0.70711</td>\n",
       "      <td>1.1441</td>\n",
       "      <td>1.8512</td>\n",
       "      <td>0</td>\n",
       "      <td>-0.80902</td>\n",
       "      <td>0.50000</td>\n",
       "      <td>0.0</td>\n",
       "    </tr>\n",
       "    <tr>\n",
       "      <th>x</th>\n",
       "      <td>0</td>\n",
       "      <td>1.8512</td>\n",
       "      <td>1.1441</td>\n",
       "      <td>0.70711</td>\n",
       "      <td>-0.80902</td>\n",
       "      <td>-0.50000</td>\n",
       "      <td>0.0</td>\n",
       "    </tr>\n",
       "    <tr>\n",
       "      <th>y</th>\n",
       "      <td>1.1441</td>\n",
       "      <td>0.70711</td>\n",
       "      <td>0</td>\n",
       "      <td>1.8512</td>\n",
       "      <td>0.80902</td>\n",
       "      <td>-0.50000</td>\n",
       "      <td>0.0</td>\n",
       "    </tr>\n",
       "    <tr>\n",
       "      <th>z</th>\n",
       "      <td>1.8512</td>\n",
       "      <td>0</td>\n",
       "      <td>0.70711</td>\n",
       "      <td>1.1441</td>\n",
       "      <td>0.80902</td>\n",
       "      <td>0.50000</td>\n",
       "      <td>0.0</td>\n",
       "    </tr>\n",
       "  </tbody>\n",
       "</table>\n",
       "</div>"
      ],
      "text/plain": [
       "System           IVM                                  XYZ                    \n",
       "Coords             A        B        C        D         X         Y         Z\n",
       "Shape Verts                                                                  \n",
       "Ico   o       1.8512  0.70711   1.1441        0       0.0   0.80902   0.50000\n",
       "      p       1.8512   1.1441        0  0.70711   0.50000       0.0   0.80902\n",
       "      q       1.1441   1.8512  0.70711        0  -0.50000       0.0   0.80902\n",
       "      r      0.70711   1.8512        0   1.1441       0.0  -0.80902   0.50000\n",
       "      s       1.1441        0   1.8512  0.70711       0.0   0.80902  -0.50000\n",
       "      t      0.70711        0   1.1441   1.8512   0.50000       0.0  -0.80902\n",
       "      u            0  0.70711   1.8512   1.1441  -0.50000       0.0  -0.80902\n",
       "      v            0   1.1441  0.70711   1.8512       0.0  -0.80902  -0.50000\n",
       "      w      0.70711   1.1441   1.8512        0  -0.80902   0.50000       0.0\n",
       "      x            0   1.8512   1.1441  0.70711  -0.80902  -0.50000       0.0\n",
       "      y       1.1441  0.70711        0   1.8512   0.80902  -0.50000       0.0\n",
       "      z       1.8512        0  0.70711   1.1441   0.80902   0.50000       0.0"
      ]
     },
     "execution_count": 17,
     "metadata": {},
     "output_type": "execute_result"
    }
   ],
   "source": [
    "df = tabulate(fx.Icosahedron(),dec=True,n=5)\n",
    "df"
   ]
  },
  {
   "cell_type": "code",
   "execution_count": 18,
   "id": "bf6061ff-3d83-485c-a66a-f8993470639b",
   "metadata": {},
   "outputs": [
    {
     "data": {
      "text/plain": [
       "[Edge from ivm_vector(a=1, b=2, c=1, d=0) to ivm_vector(a=0, b=2, c=1, d=1),\n",
       " Edge from ivm_vector(a=1, b=0, c=1, d=2) to ivm_vector(a=0, b=1, c=1, d=2),\n",
       " Edge from ivm_vector(a=0, b=1, c=2, d=1) to ivm_vector(a=1, b=1, c=2, d=0),\n",
       " Edge from ivm_vector(a=0, b=1, c=1, d=2) to ivm_vector(a=1, b=1, c=0, d=2),\n",
       " Edge from ivm_vector(a=2, b=1, c=1, d=0) to ivm_vector(a=1, b=1, c=2, d=0),\n",
       " Edge from ivm_vector(a=0, b=1, c=2, d=1) to ivm_vector(a=0, b=1, c=1, d=2),\n",
       " Edge from ivm_vector(a=2, b=1, c=1, d=0) to ivm_vector(a=1, b=2, c=1, d=0),\n",
       " Edge from ivm_vector(a=2, b=1, c=1, d=0) to ivm_vector(a=2, b=1, c=0, d=1),\n",
       " Edge from ivm_vector(a=2, b=1, c=0, d=1) to ivm_vector(a=2, b=0, c=1, d=1),\n",
       " Edge from ivm_vector(a=1, b=0, c=1, d=2) to ivm_vector(a=2, b=0, c=1, d=1),\n",
       " Edge from ivm_vector(a=1, b=2, c=1, d=0) to ivm_vector(a=1, b=2, c=0, d=1),\n",
       " Edge from ivm_vector(a=1, b=0, c=2, d=1) to ivm_vector(a=1, b=0, c=1, d=2),\n",
       " Edge from ivm_vector(a=1, b=0, c=2, d=1) to ivm_vector(a=1, b=1, c=2, d=0),\n",
       " Edge from ivm_vector(a=1, b=2, c=1, d=0) to ivm_vector(a=1, b=1, c=2, d=0),\n",
       " Edge from ivm_vector(a=1, b=0, c=2, d=1) to ivm_vector(a=0, b=1, c=2, d=1),\n",
       " Edge from ivm_vector(a=2, b=1, c=1, d=0) to ivm_vector(a=2, b=0, c=1, d=1),\n",
       " Edge from ivm_vector(a=2, b=1, c=0, d=1) to ivm_vector(a=1, b=1, c=0, d=2),\n",
       " Edge from ivm_vector(a=0, b=1, c=2, d=1) to ivm_vector(a=0, b=2, c=1, d=1),\n",
       " Edge from ivm_vector(a=1, b=2, c=0, d=1) to ivm_vector(a=0, b=2, c=1, d=1),\n",
       " Edge from ivm_vector(a=1, b=0, c=1, d=2) to ivm_vector(a=1, b=1, c=0, d=2),\n",
       " Edge from ivm_vector(a=1, b=2, c=0, d=1) to ivm_vector(a=1, b=1, c=0, d=2),\n",
       " Edge from ivm_vector(a=2, b=1, c=0, d=1) to ivm_vector(a=1, b=2, c=0, d=1),\n",
       " Edge from ivm_vector(a=1, b=0, c=2, d=1) to ivm_vector(a=2, b=0, c=1, d=1),\n",
       " Edge from ivm_vector(a=0, b=1, c=1, d=2) to ivm_vector(a=0, b=2, c=1, d=1)]"
      ]
     },
     "execution_count": 18,
     "metadata": {},
     "output_type": "execute_result"
    }
   ],
   "source": [
    "fx.Cuboctahedron().edges"
   ]
  },
  {
   "cell_type": "code",
   "execution_count": 19,
   "id": "495257f6-d492-44fa-97f4-9fbeaf202570",
   "metadata": {},
   "outputs": [
    {
     "data": {
      "text/plain": [
       "(('o', 'w', 's', 'z'),\n",
       " ('z', 'p', 'y', 't'),\n",
       " ('t', 'v', 'u', 's'),\n",
       " ('w', 'q', 'x', 'u'),\n",
       " ('o', 'p', 'r', 'q'),\n",
       " ('r', 'y', 'v', 'x'),\n",
       " ('z', 's', 't'),\n",
       " ('t', 'y', 'v'),\n",
       " ('y', 'p', 'r'),\n",
       " ('r', 'q', 'x'),\n",
       " ('x', 'u', 'v'),\n",
       " ('u', 's', 'w'),\n",
       " ('w', 'q', 'o'),\n",
       " ('o', 'z', 'p'))"
      ]
     },
     "execution_count": 19,
     "metadata": {},
     "output_type": "execute_result"
    }
   ],
   "source": [
    "fx.Cuboctahedron().faces"
   ]
  },
  {
   "cell_type": "code",
   "execution_count": 20,
   "id": "db40e490-abef-47f0-a3a1-d86952686042",
   "metadata": {},
   "outputs": [
    {
     "data": {
      "text/plain": [
       "{('o', 'p'),\n",
       " ('o', 'q'),\n",
       " ('o', 'w'),\n",
       " ('o', 'z'),\n",
       " ('p', 'r'),\n",
       " ('p', 'y'),\n",
       " ('p', 'z'),\n",
       " ('q', 'r'),\n",
       " ('q', 'w'),\n",
       " ('q', 'x'),\n",
       " ('r', 'x'),\n",
       " ('r', 'y'),\n",
       " ('s', 't'),\n",
       " ('s', 'u'),\n",
       " ('s', 'w'),\n",
       " ('s', 'z'),\n",
       " ('t', 'v'),\n",
       " ('t', 'y'),\n",
       " ('t', 'z'),\n",
       " ('u', 'v'),\n",
       " ('u', 'w'),\n",
       " ('u', 'x'),\n",
       " ('v', 'x'),\n",
       " ('v', 'y')}"
      ]
     },
     "execution_count": 20,
     "metadata": {},
     "output_type": "execute_result"
    }
   ],
   "source": [
    "the_edges = fx.Cuboctahedron().unique\n",
    "the_edges"
   ]
  },
  {
   "cell_type": "code",
   "execution_count": 21,
   "id": "cbf5231a-4ab7-4bc8-b32b-2f3eab3120e0",
   "metadata": {},
   "outputs": [],
   "source": [
    "labels = set()\n",
    "for verts in the_edges:\n",
    "    labels.add(verts[0])\n",
    "    labels.add(verts[1])\n",
    "labels = sorted(list(labels))"
   ]
  },
  {
   "cell_type": "code",
   "execution_count": 22,
   "id": "98c112d5-e977-4cc3-ac86-edfcfefcbe0d",
   "metadata": {},
   "outputs": [
    {
     "data": {
      "text/plain": [
       "['o', 'p', 'q', 'r', 's', 't', 'u', 'v', 'w', 'x', 'y', 'z']"
      ]
     },
     "execution_count": 22,
     "metadata": {},
     "output_type": "execute_result"
    }
   ],
   "source": [
    "labels"
   ]
  },
  {
   "cell_type": "code",
   "execution_count": 23,
   "id": "dd1c093e-6c36-4131-838e-e0e63c7ce7e5",
   "metadata": {},
   "outputs": [
    {
     "data": {
      "text/html": [
       "<div>\n",
       "<style scoped>\n",
       "    .dataframe tbody tr th:only-of-type {\n",
       "        vertical-align: middle;\n",
       "    }\n",
       "\n",
       "    .dataframe tbody tr th {\n",
       "        vertical-align: top;\n",
       "    }\n",
       "\n",
       "    .dataframe thead th {\n",
       "        text-align: right;\n",
       "    }\n",
       "</style>\n",
       "<table border=\"1\" class=\"dataframe\">\n",
       "  <thead>\n",
       "    <tr style=\"text-align: right;\">\n",
       "      <th></th>\n",
       "      <th>o</th>\n",
       "      <th>p</th>\n",
       "      <th>q</th>\n",
       "      <th>r</th>\n",
       "      <th>s</th>\n",
       "      <th>t</th>\n",
       "      <th>u</th>\n",
       "      <th>v</th>\n",
       "      <th>w</th>\n",
       "      <th>x</th>\n",
       "      <th>y</th>\n",
       "      <th>z</th>\n",
       "    </tr>\n",
       "  </thead>\n",
       "  <tbody>\n",
       "    <tr>\n",
       "      <th>o</th>\n",
       "      <td>0</td>\n",
       "      <td>0</td>\n",
       "      <td>0</td>\n",
       "      <td>0</td>\n",
       "      <td>0</td>\n",
       "      <td>0</td>\n",
       "      <td>0</td>\n",
       "      <td>0</td>\n",
       "      <td>0</td>\n",
       "      <td>0</td>\n",
       "      <td>0</td>\n",
       "      <td>0</td>\n",
       "    </tr>\n",
       "    <tr>\n",
       "      <th>p</th>\n",
       "      <td>0</td>\n",
       "      <td>0</td>\n",
       "      <td>0</td>\n",
       "      <td>0</td>\n",
       "      <td>0</td>\n",
       "      <td>0</td>\n",
       "      <td>0</td>\n",
       "      <td>0</td>\n",
       "      <td>0</td>\n",
       "      <td>0</td>\n",
       "      <td>0</td>\n",
       "      <td>0</td>\n",
       "    </tr>\n",
       "    <tr>\n",
       "      <th>q</th>\n",
       "      <td>0</td>\n",
       "      <td>0</td>\n",
       "      <td>0</td>\n",
       "      <td>0</td>\n",
       "      <td>0</td>\n",
       "      <td>0</td>\n",
       "      <td>0</td>\n",
       "      <td>0</td>\n",
       "      <td>0</td>\n",
       "      <td>0</td>\n",
       "      <td>0</td>\n",
       "      <td>0</td>\n",
       "    </tr>\n",
       "    <tr>\n",
       "      <th>r</th>\n",
       "      <td>0</td>\n",
       "      <td>0</td>\n",
       "      <td>0</td>\n",
       "      <td>0</td>\n",
       "      <td>0</td>\n",
       "      <td>0</td>\n",
       "      <td>0</td>\n",
       "      <td>0</td>\n",
       "      <td>0</td>\n",
       "      <td>0</td>\n",
       "      <td>0</td>\n",
       "      <td>0</td>\n",
       "    </tr>\n",
       "    <tr>\n",
       "      <th>s</th>\n",
       "      <td>0</td>\n",
       "      <td>0</td>\n",
       "      <td>0</td>\n",
       "      <td>0</td>\n",
       "      <td>0</td>\n",
       "      <td>0</td>\n",
       "      <td>0</td>\n",
       "      <td>0</td>\n",
       "      <td>0</td>\n",
       "      <td>0</td>\n",
       "      <td>0</td>\n",
       "      <td>0</td>\n",
       "    </tr>\n",
       "    <tr>\n",
       "      <th>t</th>\n",
       "      <td>0</td>\n",
       "      <td>0</td>\n",
       "      <td>0</td>\n",
       "      <td>0</td>\n",
       "      <td>0</td>\n",
       "      <td>0</td>\n",
       "      <td>0</td>\n",
       "      <td>0</td>\n",
       "      <td>0</td>\n",
       "      <td>0</td>\n",
       "      <td>0</td>\n",
       "      <td>0</td>\n",
       "    </tr>\n",
       "    <tr>\n",
       "      <th>u</th>\n",
       "      <td>0</td>\n",
       "      <td>0</td>\n",
       "      <td>0</td>\n",
       "      <td>0</td>\n",
       "      <td>0</td>\n",
       "      <td>0</td>\n",
       "      <td>0</td>\n",
       "      <td>0</td>\n",
       "      <td>0</td>\n",
       "      <td>0</td>\n",
       "      <td>0</td>\n",
       "      <td>0</td>\n",
       "    </tr>\n",
       "    <tr>\n",
       "      <th>v</th>\n",
       "      <td>0</td>\n",
       "      <td>0</td>\n",
       "      <td>0</td>\n",
       "      <td>0</td>\n",
       "      <td>0</td>\n",
       "      <td>0</td>\n",
       "      <td>0</td>\n",
       "      <td>0</td>\n",
       "      <td>0</td>\n",
       "      <td>0</td>\n",
       "      <td>0</td>\n",
       "      <td>0</td>\n",
       "    </tr>\n",
       "    <tr>\n",
       "      <th>w</th>\n",
       "      <td>0</td>\n",
       "      <td>0</td>\n",
       "      <td>0</td>\n",
       "      <td>0</td>\n",
       "      <td>0</td>\n",
       "      <td>0</td>\n",
       "      <td>0</td>\n",
       "      <td>0</td>\n",
       "      <td>0</td>\n",
       "      <td>0</td>\n",
       "      <td>0</td>\n",
       "      <td>0</td>\n",
       "    </tr>\n",
       "    <tr>\n",
       "      <th>x</th>\n",
       "      <td>0</td>\n",
       "      <td>0</td>\n",
       "      <td>0</td>\n",
       "      <td>0</td>\n",
       "      <td>0</td>\n",
       "      <td>0</td>\n",
       "      <td>0</td>\n",
       "      <td>0</td>\n",
       "      <td>0</td>\n",
       "      <td>0</td>\n",
       "      <td>0</td>\n",
       "      <td>0</td>\n",
       "    </tr>\n",
       "    <tr>\n",
       "      <th>y</th>\n",
       "      <td>0</td>\n",
       "      <td>0</td>\n",
       "      <td>0</td>\n",
       "      <td>0</td>\n",
       "      <td>0</td>\n",
       "      <td>0</td>\n",
       "      <td>0</td>\n",
       "      <td>0</td>\n",
       "      <td>0</td>\n",
       "      <td>0</td>\n",
       "      <td>0</td>\n",
       "      <td>0</td>\n",
       "    </tr>\n",
       "    <tr>\n",
       "      <th>z</th>\n",
       "      <td>0</td>\n",
       "      <td>0</td>\n",
       "      <td>0</td>\n",
       "      <td>0</td>\n",
       "      <td>0</td>\n",
       "      <td>0</td>\n",
       "      <td>0</td>\n",
       "      <td>0</td>\n",
       "      <td>0</td>\n",
       "      <td>0</td>\n",
       "      <td>0</td>\n",
       "      <td>0</td>\n",
       "    </tr>\n",
       "  </tbody>\n",
       "</table>\n",
       "</div>"
      ],
      "text/plain": [
       "   o  p  q  r  s  t  u  v  w  x  y  z\n",
       "o  0  0  0  0  0  0  0  0  0  0  0  0\n",
       "p  0  0  0  0  0  0  0  0  0  0  0  0\n",
       "q  0  0  0  0  0  0  0  0  0  0  0  0\n",
       "r  0  0  0  0  0  0  0  0  0  0  0  0\n",
       "s  0  0  0  0  0  0  0  0  0  0  0  0\n",
       "t  0  0  0  0  0  0  0  0  0  0  0  0\n",
       "u  0  0  0  0  0  0  0  0  0  0  0  0\n",
       "v  0  0  0  0  0  0  0  0  0  0  0  0\n",
       "w  0  0  0  0  0  0  0  0  0  0  0  0\n",
       "x  0  0  0  0  0  0  0  0  0  0  0  0\n",
       "y  0  0  0  0  0  0  0  0  0  0  0  0\n",
       "z  0  0  0  0  0  0  0  0  0  0  0  0"
      ]
     },
     "execution_count": 23,
     "metadata": {},
     "output_type": "execute_result"
    }
   ],
   "source": [
    "face_matrix = pd.DataFrame(data=np.zeros((len(labels), len(labels)), dtype=int), \n",
    "                           index = labels,\n",
    "                           columns = labels)\n",
    "face_matrix"
   ]
  },
  {
   "cell_type": "code",
   "execution_count": 24,
   "id": "1bea82fe-e83e-4d6b-b09d-4add2cd706d5",
   "metadata": {
    "scrolled": true
   },
   "outputs": [
    {
     "data": {
      "text/html": [
       "<div>\n",
       "<style scoped>\n",
       "    .dataframe tbody tr th:only-of-type {\n",
       "        vertical-align: middle;\n",
       "    }\n",
       "\n",
       "    .dataframe tbody tr th {\n",
       "        vertical-align: top;\n",
       "    }\n",
       "\n",
       "    .dataframe thead th {\n",
       "        text-align: right;\n",
       "    }\n",
       "</style>\n",
       "<table border=\"1\" class=\"dataframe\">\n",
       "  <thead>\n",
       "    <tr style=\"text-align: right;\">\n",
       "      <th></th>\n",
       "      <th>o</th>\n",
       "      <th>p</th>\n",
       "      <th>q</th>\n",
       "      <th>r</th>\n",
       "      <th>s</th>\n",
       "      <th>t</th>\n",
       "      <th>u</th>\n",
       "      <th>v</th>\n",
       "      <th>w</th>\n",
       "      <th>x</th>\n",
       "      <th>y</th>\n",
       "      <th>z</th>\n",
       "    </tr>\n",
       "  </thead>\n",
       "  <tbody>\n",
       "    <tr>\n",
       "      <th>o</th>\n",
       "      <td>0</td>\n",
       "      <td>1</td>\n",
       "      <td>1</td>\n",
       "      <td>0</td>\n",
       "      <td>0</td>\n",
       "      <td>0</td>\n",
       "      <td>0</td>\n",
       "      <td>0</td>\n",
       "      <td>1</td>\n",
       "      <td>0</td>\n",
       "      <td>0</td>\n",
       "      <td>1</td>\n",
       "    </tr>\n",
       "    <tr>\n",
       "      <th>p</th>\n",
       "      <td>1</td>\n",
       "      <td>0</td>\n",
       "      <td>0</td>\n",
       "      <td>1</td>\n",
       "      <td>0</td>\n",
       "      <td>0</td>\n",
       "      <td>0</td>\n",
       "      <td>0</td>\n",
       "      <td>0</td>\n",
       "      <td>0</td>\n",
       "      <td>1</td>\n",
       "      <td>1</td>\n",
       "    </tr>\n",
       "    <tr>\n",
       "      <th>q</th>\n",
       "      <td>1</td>\n",
       "      <td>0</td>\n",
       "      <td>0</td>\n",
       "      <td>1</td>\n",
       "      <td>0</td>\n",
       "      <td>0</td>\n",
       "      <td>0</td>\n",
       "      <td>0</td>\n",
       "      <td>1</td>\n",
       "      <td>1</td>\n",
       "      <td>0</td>\n",
       "      <td>0</td>\n",
       "    </tr>\n",
       "    <tr>\n",
       "      <th>r</th>\n",
       "      <td>0</td>\n",
       "      <td>1</td>\n",
       "      <td>1</td>\n",
       "      <td>0</td>\n",
       "      <td>0</td>\n",
       "      <td>0</td>\n",
       "      <td>0</td>\n",
       "      <td>0</td>\n",
       "      <td>0</td>\n",
       "      <td>1</td>\n",
       "      <td>1</td>\n",
       "      <td>0</td>\n",
       "    </tr>\n",
       "    <tr>\n",
       "      <th>s</th>\n",
       "      <td>0</td>\n",
       "      <td>0</td>\n",
       "      <td>0</td>\n",
       "      <td>0</td>\n",
       "      <td>0</td>\n",
       "      <td>1</td>\n",
       "      <td>1</td>\n",
       "      <td>0</td>\n",
       "      <td>1</td>\n",
       "      <td>0</td>\n",
       "      <td>0</td>\n",
       "      <td>1</td>\n",
       "    </tr>\n",
       "    <tr>\n",
       "      <th>t</th>\n",
       "      <td>0</td>\n",
       "      <td>0</td>\n",
       "      <td>0</td>\n",
       "      <td>0</td>\n",
       "      <td>1</td>\n",
       "      <td>0</td>\n",
       "      <td>0</td>\n",
       "      <td>1</td>\n",
       "      <td>0</td>\n",
       "      <td>0</td>\n",
       "      <td>1</td>\n",
       "      <td>1</td>\n",
       "    </tr>\n",
       "    <tr>\n",
       "      <th>u</th>\n",
       "      <td>0</td>\n",
       "      <td>0</td>\n",
       "      <td>0</td>\n",
       "      <td>0</td>\n",
       "      <td>1</td>\n",
       "      <td>0</td>\n",
       "      <td>0</td>\n",
       "      <td>1</td>\n",
       "      <td>1</td>\n",
       "      <td>1</td>\n",
       "      <td>0</td>\n",
       "      <td>0</td>\n",
       "    </tr>\n",
       "    <tr>\n",
       "      <th>v</th>\n",
       "      <td>0</td>\n",
       "      <td>0</td>\n",
       "      <td>0</td>\n",
       "      <td>0</td>\n",
       "      <td>0</td>\n",
       "      <td>1</td>\n",
       "      <td>1</td>\n",
       "      <td>0</td>\n",
       "      <td>0</td>\n",
       "      <td>1</td>\n",
       "      <td>1</td>\n",
       "      <td>0</td>\n",
       "    </tr>\n",
       "    <tr>\n",
       "      <th>w</th>\n",
       "      <td>1</td>\n",
       "      <td>0</td>\n",
       "      <td>1</td>\n",
       "      <td>0</td>\n",
       "      <td>1</td>\n",
       "      <td>0</td>\n",
       "      <td>1</td>\n",
       "      <td>0</td>\n",
       "      <td>0</td>\n",
       "      <td>0</td>\n",
       "      <td>0</td>\n",
       "      <td>0</td>\n",
       "    </tr>\n",
       "    <tr>\n",
       "      <th>x</th>\n",
       "      <td>0</td>\n",
       "      <td>0</td>\n",
       "      <td>1</td>\n",
       "      <td>1</td>\n",
       "      <td>0</td>\n",
       "      <td>0</td>\n",
       "      <td>1</td>\n",
       "      <td>1</td>\n",
       "      <td>0</td>\n",
       "      <td>0</td>\n",
       "      <td>0</td>\n",
       "      <td>0</td>\n",
       "    </tr>\n",
       "    <tr>\n",
       "      <th>y</th>\n",
       "      <td>0</td>\n",
       "      <td>1</td>\n",
       "      <td>0</td>\n",
       "      <td>1</td>\n",
       "      <td>0</td>\n",
       "      <td>1</td>\n",
       "      <td>0</td>\n",
       "      <td>1</td>\n",
       "      <td>0</td>\n",
       "      <td>0</td>\n",
       "      <td>0</td>\n",
       "      <td>0</td>\n",
       "    </tr>\n",
       "    <tr>\n",
       "      <th>z</th>\n",
       "      <td>1</td>\n",
       "      <td>1</td>\n",
       "      <td>0</td>\n",
       "      <td>0</td>\n",
       "      <td>1</td>\n",
       "      <td>1</td>\n",
       "      <td>0</td>\n",
       "      <td>0</td>\n",
       "      <td>0</td>\n",
       "      <td>0</td>\n",
       "      <td>0</td>\n",
       "      <td>0</td>\n",
       "    </tr>\n",
       "  </tbody>\n",
       "</table>\n",
       "</div>"
      ],
      "text/plain": [
       "   o  p  q  r  s  t  u  v  w  x  y  z\n",
       "o  0  1  1  0  0  0  0  0  1  0  0  1\n",
       "p  1  0  0  1  0  0  0  0  0  0  1  1\n",
       "q  1  0  0  1  0  0  0  0  1  1  0  0\n",
       "r  0  1  1  0  0  0  0  0  0  1  1  0\n",
       "s  0  0  0  0  0  1  1  0  1  0  0  1\n",
       "t  0  0  0  0  1  0  0  1  0  0  1  1\n",
       "u  0  0  0  0  1  0  0  1  1  1  0  0\n",
       "v  0  0  0  0  0  1  1  0  0  1  1  0\n",
       "w  1  0  1  0  1  0  1  0  0  0  0  0\n",
       "x  0  0  1  1  0  0  1  1  0  0  0  0\n",
       "y  0  1  0  1  0  1  0  1  0  0  0  0\n",
       "z  1  1  0  0  1  1  0  0  0  0  0  0"
      ]
     },
     "execution_count": 24,
     "metadata": {},
     "output_type": "execute_result"
    }
   ],
   "source": [
    "for verts in the_edges:\n",
    "    face_matrix.loc[verts[0], verts[1]] = 1\n",
    "    face_matrix.loc[verts[1], verts[0]] = 1\n",
    "face_matrix"
   ]
  },
  {
   "cell_type": "code",
   "execution_count": 25,
   "id": "ea62ea69-5b84-4fd6-a63d-4ed808bd84b0",
   "metadata": {},
   "outputs": [],
   "source": [
    "def make_matrix(shape):\n",
    "    the_edges = shape.unique\n",
    "    labels = set()\n",
    "    for verts in the_edges:\n",
    "        labels.add(verts[0])\n",
    "        labels.add(verts[1])\n",
    "    labels = sorted(list(labels))\n",
    "    face_matrix = pd.DataFrame(data=np.zeros((len(labels), len(labels)), dtype=int), \n",
    "                           index = labels,\n",
    "                           columns = labels)\n",
    "    for verts in the_edges:\n",
    "        face_matrix.loc[verts[0], verts[1]] = 1\n",
    "        face_matrix.loc[verts[1], verts[0]] = 1\n",
    "    return face_matrix"
   ]
  },
  {
   "cell_type": "code",
   "execution_count": 26,
   "id": "f021f3aa-4472-4836-a30b-e7b8474b5768",
   "metadata": {},
   "outputs": [
    {
     "data": {
      "text/html": [
       "<div>\n",
       "<style scoped>\n",
       "    .dataframe tbody tr th:only-of-type {\n",
       "        vertical-align: middle;\n",
       "    }\n",
       "\n",
       "    .dataframe tbody tr th {\n",
       "        vertical-align: top;\n",
       "    }\n",
       "\n",
       "    .dataframe thead th {\n",
       "        text-align: right;\n",
       "    }\n",
       "</style>\n",
       "<table border=\"1\" class=\"dataframe\">\n",
       "  <thead>\n",
       "    <tr style=\"text-align: right;\">\n",
       "      <th></th>\n",
       "      <th>a</th>\n",
       "      <th>b</th>\n",
       "      <th>c</th>\n",
       "      <th>d</th>\n",
       "    </tr>\n",
       "  </thead>\n",
       "  <tbody>\n",
       "    <tr>\n",
       "      <th>a</th>\n",
       "      <td>0</td>\n",
       "      <td>1</td>\n",
       "      <td>1</td>\n",
       "      <td>1</td>\n",
       "    </tr>\n",
       "    <tr>\n",
       "      <th>b</th>\n",
       "      <td>1</td>\n",
       "      <td>0</td>\n",
       "      <td>1</td>\n",
       "      <td>1</td>\n",
       "    </tr>\n",
       "    <tr>\n",
       "      <th>c</th>\n",
       "      <td>1</td>\n",
       "      <td>1</td>\n",
       "      <td>0</td>\n",
       "      <td>1</td>\n",
       "    </tr>\n",
       "    <tr>\n",
       "      <th>d</th>\n",
       "      <td>1</td>\n",
       "      <td>1</td>\n",
       "      <td>1</td>\n",
       "      <td>0</td>\n",
       "    </tr>\n",
       "  </tbody>\n",
       "</table>\n",
       "</div>"
      ],
      "text/plain": [
       "   a  b  c  d\n",
       "a  0  1  1  1\n",
       "b  1  0  1  1\n",
       "c  1  1  0  1\n",
       "d  1  1  1  0"
      ]
     },
     "execution_count": 26,
     "metadata": {},
     "output_type": "execute_result"
    }
   ],
   "source": [
    "make_matrix(fx.Tetrahedron())"
   ]
  },
  {
   "cell_type": "markdown",
   "id": "a560a3c8-e68c-40f5-9f6e-e57b31169790",
   "metadata": {},
   "source": [
    "### Testing Area 51"
   ]
  },
  {
   "cell_type": "code",
   "execution_count": 27,
   "id": "470180bf-9caa-41c5-9b05-ccef6e61b6d8",
   "metadata": {},
   "outputs": [
    {
     "data": {
      "text/latex": [
       "$\\displaystyle 0.5$"
      ],
      "text/plain": [
       "0.50000"
      ]
     },
     "execution_count": 27,
     "metadata": {},
     "output_type": "execute_result"
    }
   ],
   "source": [
    "df.loc[('Ico', 'z')]['XYZ'].Y.evalf(5).round(8)"
   ]
  },
  {
   "cell_type": "code",
   "execution_count": 28,
   "id": "baea64da-81f2-4396-a925-0220612bf284",
   "metadata": {},
   "outputs": [],
   "source": [
    "control = (fx.Z - fx.T).length()\n",
    "half = fx.half\n",
    "midface = (fx.Z + fx.Y)\n",
    "gold    = half * fx.PHI * midface/midface.length()\n",
    "Zi = gold + fx.J/fx.J.length() * (control/2)\n",
    "Yi = gold + fx.M/fx.M.length() * (control/2)"
   ]
  },
  {
   "cell_type": "code",
   "execution_count": 29,
   "id": "70532062-5398-484d-94ea-9d0b3e5027de",
   "metadata": {},
   "outputs": [
    {
     "data": {
      "text/latex": [
       "$\\displaystyle \\frac{1}{2}$"
      ],
      "text/plain": [
       "1/2"
      ]
     },
     "execution_count": 29,
     "metadata": {},
     "output_type": "execute_result"
    }
   ],
   "source": [
    "control/2"
   ]
  },
  {
   "cell_type": "code",
   "execution_count": 30,
   "id": "c6cd1cf3-56e9-499b-afb0-fb44b98ebf2a",
   "metadata": {},
   "outputs": [
    {
     "data": {
      "text/plain": [
       "ivm_vector(a=sqrt(2)/2 + sqrt(2)*(1/2 + sqrt(5)/2)/2, b=0, c=sqrt(2)/2, d=sqrt(2)*(1/2 + sqrt(5)/2)/2)"
      ]
     },
     "execution_count": 30,
     "metadata": {},
     "output_type": "execute_result"
    }
   ],
   "source": [
    "gold + fx.J/fx.J.length() * (control/2)"
   ]
  },
  {
   "cell_type": "code",
   "execution_count": 31,
   "id": "e0658c65-b2d5-4c04-b38a-e477a3232b84",
   "metadata": {},
   "outputs": [
    {
     "data": {
      "text/latex": [
       "$\\displaystyle \\frac{1}{2}$"
      ],
      "text/plain": [
       "1/2"
      ]
     },
     "execution_count": 31,
     "metadata": {},
     "output_type": "execute_result"
    }
   ],
   "source": [
    "half"
   ]
  },
  {
   "cell_type": "code",
   "execution_count": 32,
   "id": "05a23359-09f9-44e1-b656-abfb5e530b98",
   "metadata": {},
   "outputs": [
    {
     "data": {
      "text/plain": [
       "sympy.core.numbers.One"
      ]
     },
     "execution_count": 32,
     "metadata": {},
     "output_type": "execute_result"
    }
   ],
   "source": [
    "type(midface.norm0()[0])"
   ]
  },
  {
   "cell_type": "code",
   "execution_count": 33,
   "id": "e6aa7ad6-2c36-4657-b46a-3836dd6e7882",
   "metadata": {},
   "outputs": [
    {
     "data": {
      "text/plain": [
       "ivm_vector(a=sqrt(2)*(1/2 + sqrt(5)/2)/2, b=0, c=0, d=sqrt(2)*(1/2 + sqrt(5)/2)/2)"
      ]
     },
     "execution_count": 33,
     "metadata": {},
     "output_type": "execute_result"
    }
   ],
   "source": [
    "gold"
   ]
  },
  {
   "cell_type": "code",
   "execution_count": 34,
   "id": "f86f3f87-97ae-4ec8-96a0-925d1fe5f70b",
   "metadata": {},
   "outputs": [
    {
     "data": {
      "text/plain": [
       "ivm_vector(a=sqrt(2)/2 + sqrt(2)*(1/2 + sqrt(5)/2)/2, b=0, c=sqrt(2)/2, d=sqrt(2)*(1/2 + sqrt(5)/2)/2)"
      ]
     },
     "execution_count": 34,
     "metadata": {},
     "output_type": "execute_result"
    }
   ],
   "source": [
    "Zi"
   ]
  },
  {
   "cell_type": "code",
   "execution_count": 35,
   "id": "de9604f8-23d3-4feb-b920-15b2fba167ef",
   "metadata": {},
   "outputs": [
    {
     "data": {
      "text/plain": [
       "ivm_vector(a=sqrt(2)*(1/2 + sqrt(5)/2)/2, b=sqrt(2)/2, c=0, d=sqrt(2)/2 + sqrt(2)*(1/2 + sqrt(5)/2)/2)"
      ]
     },
     "execution_count": 35,
     "metadata": {},
     "output_type": "execute_result"
    }
   ],
   "source": [
    "Yi"
   ]
  },
  {
   "cell_type": "code",
   "execution_count": 36,
   "id": "713caed5-1fc9-4551-b28a-9967c762eb6c",
   "metadata": {},
   "outputs": [
    {
     "data": {
      "text/latex": [
       "$\\displaystyle \\frac{\\sqrt{2}}{2}$"
      ],
      "text/plain": [
       "sqrt(2)/2"
      ]
     },
     "execution_count": 36,
     "metadata": {},
     "output_type": "execute_result"
    }
   ],
   "source": [
    "fx.M.length()"
   ]
  },
  {
   "cell_type": "code",
   "execution_count": 37,
   "id": "4089455d-cf5d-481d-9155-62c148857c8d",
   "metadata": {},
   "outputs": [
    {
     "data": {
      "text/plain": [
       "ivm_vector(a=1, b=0, c=0, d=0)"
      ]
     },
     "execution_count": 37,
     "metadata": {},
     "output_type": "execute_result"
    }
   ],
   "source": [
    "fx.A"
   ]
  },
  {
   "cell_type": "code",
   "execution_count": 38,
   "id": "ddea4b09-aab5-4868-8ccd-5360d0d54805",
   "metadata": {},
   "outputs": [
    {
     "data": {
      "text/plain": [
       "sympy.core.numbers.One"
      ]
     },
     "execution_count": 38,
     "metadata": {},
     "output_type": "execute_result"
    }
   ],
   "source": [
    "type(fx.A.a)"
   ]
  },
  {
   "cell_type": "code",
   "execution_count": 39,
   "id": "52139d9d-2e0b-49c9-84bc-c29935401718",
   "metadata": {},
   "outputs": [
    {
     "data": {
      "text/latex": [
       "$\\displaystyle \\frac{16}{\\left(1 + \\sqrt{5}\\right)^{5}}$"
      ],
      "text/plain": [
       "16/(1 + sqrt(5))**5"
      ]
     },
     "execution_count": 39,
     "metadata": {},
     "output_type": "execute_result"
    }
   ],
   "source": [
    "tv.Svol.simplify() # S module volume"
   ]
  },
  {
   "cell_type": "code",
   "execution_count": 40,
   "id": "863bb7bb-11f4-45a6-aee7-b0dac0be8967",
   "metadata": {},
   "outputs": [
    {
     "data": {
      "text/latex": [
       "$\\displaystyle \\frac{\\sqrt{2}}{\\left(1 + \\sqrt{5}\\right)^{3}}$"
      ],
      "text/plain": [
       "sqrt(2)/(1 + sqrt(5))**3"
      ]
     },
     "execution_count": 40,
     "metadata": {},
     "output_type": "execute_result"
    }
   ],
   "source": [
    "tv.Evol.simplify()  # E module volume"
   ]
  },
  {
   "cell_type": "code",
   "execution_count": 41,
   "id": "e46f0dd3-4154-4a91-89b1-1482ea4d14a2",
   "metadata": {},
   "outputs": [
    {
     "data": {
      "text/latex": [
       "$\\displaystyle - \\sqrt{10} + 3 \\sqrt{2}$"
      ],
      "text/plain": [
       "-sqrt(10) + 3*sqrt(2)"
      ]
     },
     "execution_count": 41,
     "metadata": {},
     "output_type": "execute_result"
    }
   ],
   "source": [
    "Sfactor = tv.Svol/tv.Evol\n",
    "Sfactor.simplify()"
   ]
  },
  {
   "cell_type": "code",
   "execution_count": 42,
   "id": "8516d3b4-b4c9-4681-824a-3b1cf8a80968",
   "metadata": {},
   "outputs": [],
   "source": [
    "cuboctavol, icosavol = fx.Cuboctahedron().volume, fx.Icosahedron().volume "
   ]
  },
  {
   "cell_type": "code",
   "execution_count": 43,
   "id": "b8ceb7ee-57ef-47dc-b96e-c16cdc2d11db",
   "metadata": {},
   "outputs": [
    {
     "data": {
      "text/plain": [
       "(20, 18.512295868219161196009899292654531923571426913640)"
      ]
     },
     "execution_count": 43,
     "metadata": {},
     "output_type": "execute_result"
    }
   ],
   "source": [
    "cuboctavol, icosavol.evalf(50)"
   ]
  },
  {
   "cell_type": "code",
   "execution_count": 44,
   "id": "458ab666-4f77-4281-821e-5e4c7aba0d9c",
   "metadata": {},
   "outputs": [
    {
     "data": {
      "text/plain": [
       "True"
      ]
     },
     "execution_count": 44,
     "metadata": {},
     "output_type": "execute_result"
    }
   ],
   "source": [
    "cuboctavol/icosavol == Sfactor"
   ]
  },
  {
   "cell_type": "code",
   "execution_count": 45,
   "id": "b6166e0a-8d88-4d55-bb4b-26d1f5f3aabc",
   "metadata": {},
   "outputs": [
    {
     "data": {
      "text/latex": [
       "$\\displaystyle \\frac{320}{\\left(1 + \\sqrt{5}\\right)^{4}}$"
      ],
      "text/plain": [
       "320/(1 + sqrt(5))**4"
      ]
     },
     "execution_count": 45,
     "metadata": {},
     "output_type": "execute_result"
    }
   ],
   "source": [
    "IW = (5*half * Sfactor ** 2).simplify() # IW = 2.5 CO * sfactor * sfactor\n",
    "IW"
   ]
  },
  {
   "cell_type": "code",
   "execution_count": 46,
   "id": "c34cc8ff-1609-48d4-aed9-2425933270c7",
   "metadata": {},
   "outputs": [
    {
     "data": {
      "text/latex": [
       "$\\displaystyle 2.9179606750063091077247899380617129367814492116542$"
      ],
      "text/plain": [
       "2.9179606750063091077247899380617129367814492116542"
      ]
     },
     "execution_count": 46,
     "metadata": {},
     "output_type": "execute_result"
    }
   ],
   "source": [
    "IW.evalf(50)"
   ]
  },
  {
   "cell_type": "code",
   "execution_count": 47,
   "id": "05fc44e1-725c-4c2a-9edd-2a941fec4bbb",
   "metadata": {},
   "outputs": [
    {
     "data": {
      "text/latex": [
       "$\\displaystyle 4$"
      ],
      "text/plain": [
       "4"
      ]
     },
     "execution_count": 47,
     "metadata": {},
     "output_type": "execute_result"
    }
   ],
   "source": [
    "(IW + 24 * tv.Svol).simplify()"
   ]
  },
  {
   "cell_type": "markdown",
   "id": "5add37c4-0804-4a97-baff-453a8fd9a1eb",
   "metadata": {},
   "source": [
    "## Scratch Pad for Facebook\n",
    "\n",
    "<a data-flickr-embed=\"true\" href=\"https://www.flickr.com/photos/kirbyurner/54237268265/in/dateposted/\" title=\"Crow Town\"><img src=\"https://live.staticflickr.com/65535/54237268265_393966954d.jpg\" width=\"495\" height=\"500\" alt=\"Crow Town\"/></a><script async src=\"//embedr.flickr.com/assets/client-code.js\" charset=\"utf-8\"></script>"
   ]
  },
  {
   "cell_type": "markdown",
   "id": "da4cd8c9-95d4-4383-92ab-5e8de7583f31",
   "metadata": {},
   "source": [
    "<a data-flickr-embed=\"true\" href=\"https://www.flickr.com/photos/kirbyurner/54237184569/in/dateposted/\" title=\"XYZ IVM conversion\"><img src=\"https://live.staticflickr.com/65535/54237184569_f7a02761c8.jpg\" width=\"500\" height=\"489\" alt=\"XYZ IVM conversion\"/></a><script async src=\"//embedr.flickr.com/assets/client-code.js\" charset=\"utf-8\"></script>\n",
    "\n",
    "<a data-flickr-embed=\"true\" href=\"https://www.flickr.com/photos/kirbyurner/54236059212/in/dateposted/\" title=\"Screen Shot 2024-12-30 at 6.04.21 PM\"><img src=\"https://live.staticflickr.com/65535/54236059212_53a6aff839_o.png\" width=\"210\" height=\"236\" alt=\"Screen Shot 2024-12-30 at 6.04.21 PM\"/></a><script async src=\"//embedr.flickr.com/assets/client-code.js\" charset=\"utf-8\"></script>"
   ]
  },
  {
   "cell_type": "code",
   "execution_count": 48,
   "id": "278ee65f-7830-447d-a76a-c220d0fd13b0",
   "metadata": {},
   "outputs": [],
   "source": [
    "r_edge_cube = {\n",
    "'big_yellow' : fx.Vector((0,0,0)),\n",
    "'small_yellow' : fx.Vector((1,1,1)),\n",
    "'small_blue' : fx.Vector((1,0,0)),\n",
    "'big_blue' : fx.Vector((0,1,1)),\n",
    "'small_green' : fx.Vector((0,1,0)),\n",
    "'big_green' : fx.Vector((1,0,1)),\n",
    "'small_red' : fx.Vector((0,0,1)),\n",
    "'big_red' : fx.Vector((1,1,0)),\n",
    "}"
   ]
  },
  {
   "cell_type": "code",
   "execution_count": 49,
   "id": "2a47fe77-8aad-4106-8664-f81f2b9279e7",
   "metadata": {},
   "outputs": [],
   "source": [
    "by = r_edge_cube['big_yellow']"
   ]
  },
  {
   "cell_type": "code",
   "execution_count": 50,
   "id": "556ab951-769b-4263-8efd-c6e1bc07b42e",
   "metadata": {},
   "outputs": [
    {
     "data": {
      "text/plain": [
       "xyz_vector(x=0, y=0, z=0)"
      ]
     },
     "execution_count": 50,
     "metadata": {},
     "output_type": "execute_result"
    }
   ],
   "source": [
    "by.xyz"
   ]
  },
  {
   "cell_type": "code",
   "execution_count": 51,
   "id": "be9a950c-e0b3-4ce7-80ae-16a964352ab2",
   "metadata": {},
   "outputs": [
    {
     "data": {
      "text/plain": [
       "qrays.Vector"
      ]
     },
     "execution_count": 51,
     "metadata": {},
     "output_type": "execute_result"
    }
   ],
   "source": [
    "type(by)"
   ]
  },
  {
   "cell_type": "code",
   "execution_count": 52,
   "id": "11a58f02-8ba7-46c3-88e4-3d8ee32d2e7e",
   "metadata": {},
   "outputs": [],
   "source": [
    "sy = r_edge_cube['small_yellow']"
   ]
  },
  {
   "cell_type": "code",
   "execution_count": 53,
   "id": "adf1d342-4b41-40fd-88df-15f345875a05",
   "metadata": {},
   "outputs": [
    {
     "data": {
      "text/latex": [
       "$\\displaystyle \\frac{\\sqrt{3}}{2}$"
      ],
      "text/plain": [
       "sqrt(3)/2"
      ]
     },
     "execution_count": 53,
     "metadata": {},
     "output_type": "execute_result"
    }
   ],
   "source": [
    "sy.length()"
   ]
  },
  {
   "cell_type": "code",
   "execution_count": 54,
   "id": "b830852b-092a-493e-b66c-2cc31104edad",
   "metadata": {},
   "outputs": [],
   "source": [
    "bb = r_edge_cube['big_blue']"
   ]
  },
  {
   "cell_type": "code",
   "execution_count": 55,
   "id": "c78a400d-a15d-482c-8945-ebb06d11f3db",
   "metadata": {},
   "outputs": [
    {
     "data": {
      "text/latex": [
       "$\\displaystyle \\frac{\\sqrt{2}}{2}$"
      ],
      "text/plain": [
       "sqrt(2)/2"
      ]
     },
     "execution_count": 55,
     "metadata": {},
     "output_type": "execute_result"
    }
   ],
   "source": [
    "(bb-by).length()"
   ]
  },
  {
   "cell_type": "code",
   "execution_count": 56,
   "id": "a0357262-80ae-498c-9b4a-4388d02db429",
   "metadata": {},
   "outputs": [],
   "source": [
    "sr = r_edge_cube['small_red']"
   ]
  },
  {
   "cell_type": "code",
   "execution_count": 57,
   "id": "83d60ece-3149-4bda-ab5a-96c9223613b9",
   "metadata": {},
   "outputs": [
    {
     "data": {
      "text/latex": [
       "$\\displaystyle \\frac{1}{2}$"
      ],
      "text/plain": [
       "1/2"
      ]
     },
     "execution_count": 57,
     "metadata": {},
     "output_type": "execute_result"
    }
   ],
   "source": [
    "(by - sr).length()"
   ]
  },
  {
   "cell_type": "code",
   "execution_count": 58,
   "id": "333ba59b-e085-4b5b-b44e-c6adf62fd66f",
   "metadata": {},
   "outputs": [
    {
     "name": "stdout",
     "output_type": "stream",
     "text": [
      "1.060660172\n"
     ]
    }
   ],
   "source": [
    "print(sympy.sqrt(sympy.Rational(9,8)).evalf(10))"
   ]
  },
  {
   "cell_type": "code",
   "execution_count": 59,
   "id": "56055fd2-badc-4c18-bfb5-26ea7df58214",
   "metadata": {},
   "outputs": [
    {
     "data": {
      "text/latex": [
       "$\\displaystyle \\frac{1}{2}$"
      ],
      "text/plain": [
       "1/2"
      ]
     },
     "execution_count": 59,
     "metadata": {},
     "output_type": "execute_result"
    }
   ],
   "source": [
    "X = fx.Vector((1,0,0))\n",
    "X.length()"
   ]
  },
  {
   "cell_type": "code",
   "execution_count": 60,
   "id": "b033d21e-374a-4783-92df-c504c3c3d741",
   "metadata": {},
   "outputs": [
    {
     "data": {
      "text/latex": [
       "$\\displaystyle \\frac{\\sqrt{6}}{4}$"
      ],
      "text/plain": [
       "sqrt(6)/4"
      ]
     },
     "execution_count": 60,
     "metadata": {},
     "output_type": "execute_result"
    }
   ],
   "source": [
    "A = fx.A\n",
    "A.length()"
   ]
  },
  {
   "cell_type": "code",
   "execution_count": 61,
   "id": "54ecb217-b196-48b8-b8e1-dc1e3f9598df",
   "metadata": {},
   "outputs": [
    {
     "data": {
      "text/latex": [
       "$\\displaystyle 1$"
      ],
      "text/plain": [
       "1"
      ]
     },
     "execution_count": 61,
     "metadata": {},
     "output_type": "execute_result"
    }
   ],
   "source": [
    "(fx.A - fx.B).length()"
   ]
  },
  {
   "cell_type": "code",
   "execution_count": 62,
   "id": "fea012d7-a079-437e-9d36-ca17b722871f",
   "metadata": {},
   "outputs": [
    {
     "data": {
      "text/latex": [
       "$\\displaystyle \\frac{\\sqrt{6}}{8}$"
      ],
      "text/plain": [
       "sqrt(6)/8"
      ]
     },
     "execution_count": 62,
     "metadata": {},
     "output_type": "execute_result"
    }
   ],
   "source": [
    "A.xyz.length()"
   ]
  },
  {
   "cell_type": "code",
   "execution_count": 63,
   "id": "0f463b97-b35a-436e-86ab-f8ad315659d7",
   "metadata": {},
   "outputs": [
    {
     "data": {
      "text/latex": [
       "$\\displaystyle \\frac{\\sqrt{6}}{4}$"
      ],
      "text/plain": [
       "sqrt(6)/4"
      ]
     },
     "execution_count": 63,
     "metadata": {},
     "output_type": "execute_result"
    }
   ],
   "source": [
    "A.length()"
   ]
  },
  {
   "cell_type": "code",
   "execution_count": 64,
   "id": "6a1c28e8-fa95-4097-bb1d-38d6a75e0575",
   "metadata": {},
   "outputs": [
    {
     "data": {
      "text/latex": [
       "$\\displaystyle 1$"
      ],
      "text/plain": [
       "1"
      ]
     },
     "execution_count": 64,
     "metadata": {},
     "output_type": "execute_result"
    }
   ],
   "source": [
    "X.quadray().length()"
   ]
  },
  {
   "cell_type": "code",
   "execution_count": 65,
   "id": "2046f4dd-c5e6-447b-a02a-11f5472dc892",
   "metadata": {},
   "outputs": [
    {
     "data": {
      "text/latex": [
       "$\\displaystyle \\frac{1}{2}$"
      ],
      "text/plain": [
       "1/2"
      ]
     },
     "execution_count": 65,
     "metadata": {},
     "output_type": "execute_result"
    }
   ],
   "source": [
    "X.length()"
   ]
  },
  {
   "cell_type": "code",
   "execution_count": 66,
   "id": "cdb1ba64-0727-434b-9a92-34300c129649",
   "metadata": {},
   "outputs": [
    {
     "data": {
      "text/latex": [
       "$\\displaystyle \\frac{1}{2}$"
      ],
      "text/plain": [
       "1/2"
      ]
     },
     "execution_count": 66,
     "metadata": {},
     "output_type": "execute_result"
    }
   ],
   "source": [
    "(fx.A.xyz - fx.B.xyz).length()"
   ]
  },
  {
   "cell_type": "code",
   "execution_count": 67,
   "id": "5d19e65d-e6d0-4ade-87fa-75dd751184e3",
   "metadata": {},
   "outputs": [],
   "source": [
    "br = r_edge_cube['big_red']\n",
    "bg = r_edge_cube['big_green']\n",
    "sb = r_edge_cube['small_blue']"
   ]
  },
  {
   "cell_type": "code",
   "execution_count": 68,
   "id": "b415d6f9-2e97-483a-825d-d0efc1cff5d9",
   "metadata": {},
   "outputs": [
    {
     "data": {
      "text/latex": [
       "$\\displaystyle \\frac{\\sqrt{2}}{2}$"
      ],
      "text/plain": [
       "sqrt(2)/2"
      ]
     },
     "execution_count": 68,
     "metadata": {},
     "output_type": "execute_result"
    }
   ],
   "source": [
    "(br - bg).length()"
   ]
  },
  {
   "cell_type": "code",
   "execution_count": 69,
   "id": "57a64cc8-e55f-4d0c-adb5-935a150b206c",
   "metadata": {},
   "outputs": [
    {
     "data": {
      "text/latex": [
       "$\\displaystyle \\frac{1}{2}$"
      ],
      "text/plain": [
       "1/2"
      ]
     },
     "execution_count": 69,
     "metadata": {},
     "output_type": "execute_result"
    }
   ],
   "source": [
    "(br - sb).length()"
   ]
  },
  {
   "cell_type": "code",
   "execution_count": null,
   "id": "06f9a113-d3c7-4080-a690-a67a987bc4eb",
   "metadata": {},
   "outputs": [],
   "source": []
  }
 ],
 "metadata": {
  "kernelspec": {
   "display_name": "Python 3 (ipykernel)",
   "language": "python",
   "name": "python3"
  },
  "language_info": {
   "codemirror_mode": {
    "name": "ipython",
    "version": 3
   },
   "file_extension": ".py",
   "mimetype": "text/x-python",
   "name": "python",
   "nbconvert_exporter": "python",
   "pygments_lexer": "ipython3",
   "version": "3.11.3"
  }
 },
 "nbformat": 4,
 "nbformat_minor": 5
}
