{
 "cells": [
  {
   "cell_type": "markdown",
   "metadata": {},
   "source": [
    "[Oregon Curriculum Network](http://4dsolutions.net/ocn/)\n",
    "\n",
    "# The School of Tomorrow\n",
    "\n",
    "<a data-flickr-embed=\"true\"  href=\"https://www.flickr.com/photos/kirbyurner/7028378663/in/album-72157624750749042/\" title=\"History of Mathematics\"><img src=\"https://live.staticflickr.com/7043/7028378663_f6c157dc10.jpg\" width=\"500\" height=\"375\" alt=\"History of Mathematics\"></a><script async src=\"//embedr.flickr.com/assets/client-code.js\" charset=\"utf-8\"></script>\n",
    "\n",
    "\n",
    "## Our Tools\n",
    "\n",
    "By the early 21st Century, many schools were using various Jupyter Notebook like tools.  One of most impressive was [SAGE](http://www.sagemath.org/), which allowed cloud computing including access to computer algebra systems.\n",
    "\n",
    "[The edu-sig archives](https://mail.python.org/mailman/listinfo/edu-sig) at Python.org is a good place to search for insights into how some high school and college teachers were using such tools, including of course Jupyter Notebooks.\n",
    "\n",
    "Jupyter Notebooks may be rendered in several ways:\n",
    "\n",
    "* locally through a webserver, running on localhost:8888 (most likely), no internet access required\n",
    "* as read-only through a displayer program named nbviewer\n",
    "* rendered as read-only on a host website such as Github\n",
    "* interactive in the cloud, thanks to containerization and microservices\n",
    "\n",
    "Check out [this notebook in nbviewer](https://github.com/4dsolutions/School_of_Tomorrow/blob/master/School_of_Tomorrow.ipynb)!\n",
    "\n",
    "Of the above, the first option is the most preferred, because \"interactive\" means only \"the ability to edit and run code cells\" where \"cell\" means some rectangle of code or text, such as you are reading now (if reading a Jupyter Notebook).  \n",
    "\n",
    "If you're running Jupyter Notebook on localhost, you'll be able to start new notebooks from scratch, as well as completely overhaul the ones in your personal stash.\n",
    "\n",
    "It's time for a short Glossary, that we will add to over time:"
   ]
  },
  {
   "cell_type": "code",
   "execution_count": 1,
   "metadata": {},
   "outputs": [
    {
     "data": {
      "text/plain": [
       "dict"
      ]
     },
     "execution_count": 1,
     "metadata": {},
     "output_type": "execute_result"
    }
   ],
   "source": [
    "glossary = {\n",
    "\"cell\"   : \"a Jupyter Notebook consists of mostly Code and Markdown cells\",\n",
    "\"code cell\": \"where runnable code, interpreted by the Kernel, is displayed and color coded\",\n",
    "\"CSV\"    : \"comma-separated values, one of the simplest data sharing formats\",\n",
    "\"DOM\"    : \"the Document Object Model is a tree of graph of a document in a web browser\",\n",
    "\"HTML\"   : \"hypertext markup language, almost an XML, defines the DOM in tandem with CSS\",\n",
    "\"HTTP\"   : \"hypertext transfer protocol\",\n",
    "\"JavaScript\" : \"a computer language, not confined to running inside browsers but happy there\",\n",
    "\"json\"   : \"JavaScript Object Notation is a way to save data (compare with XML)\",\n",
    "\"Jupyter Notebook (JN)\" : \"like a web page, but interactive, stored as json\",\n",
    "\"Kernel\" : \"an interpreter, e.g. Python, ready to process JN code cells and return results\",\n",
    "\"Python\" : \"a computer language from Holland (the Netherlands) that went viral\", # we're using it now\n",
    "\"localhost\" : \"the IP address of the host computer: 127.0.0.1\",\n",
    "\"markdown cell\" : \"uses a markup called markdown to format the text cells in a Jupyter Notebook\",\n",
    "\"port\" : \"internet services connect through IP:port addresses, JN usually on port 8888\",\n",
    "\"web browser\" : \"HTTP client, sends requests, gets responses\",\n",
    "\"web server\" : \"accepts and processes (or rejects) HTTP requests, sends responses\",\n",
    "\"XML\"    : \"a markup language using pointy brackets, reminiscent of HTML, for structured data\"\n",
    "}\n",
    "type(glossary)  # ask about this object's type"
   ]
  },
  {
   "cell_type": "markdown",
   "metadata": {},
   "source": [
    "Python is a language of objects, where objects have type or kind, species.  Depending on the species of an object, it will have varying capabilities.  Dog objects bark.  Car objects brake.  Python is one of many computer languages we consider \"object oriented\".  \n",
    "\n",
    "### Literary Sidebar\n",
    "\n",
    "HTML didn't come out of nowhere.  Imagine storing all the parts for an airplane in a computer.  How would you do that.  JSON is one answer.  XML is another.  XML grew out of an older SGML where ML stands for \"markup language\".  In HTML, we use pointy brackets as a kind of punctuation.  \n",
    "\n",
    "The poet [Gene Fowler](https://www.amazon.com/Waking-poet-Acquiring-usually-talents/dp/0941386007) used to say we should teach HTML right along with all the rest of the language, meaning periods, commas, semi-colons and like that.  He wrote a text processor in Pascal showing the kind of thing he meant.  He was [a prisoner in San Quentin](http://www.bigbridge.org/BD-GF-B.HTM) before he discovered how to \"re-genius\" himself.\n",
    "\n",
    "### Sharing Data\n",
    "\n",
    "We'll be sharing a lot of data sets in this school.  We consume data produced by others, and we publish data for others to use.  Data needs to be stored in some structured way.  Even pictures and music are data.  We package up data in files and stream these files to one another over the internet or by some other means.\n",
    "\n",
    "In the Glossary above, created in the Python language as a \"dictionary\", you will find at least three data storing and streaming formats defined:  [CSV](https://en.wikipedia.org/wiki/Comma-separated_values), [JSON](https://en.wikipedia.org/wiki/JSON) and [XML](https://en.wikipedia.org/wiki/XML).\n",
    "\n",
    "The above data structure looks a lot like JSON by the way.  Let's see that using Python's json library:"
   ]
  },
  {
   "cell_type": "code",
   "execution_count": 2,
   "metadata": {},
   "outputs": [
    {
     "name": "stdout",
     "output_type": "stream",
     "text": [
      "{\"cell\": \"a Jupyter Notebook consists of mostly Co ... red data\"}\n"
     ]
    }
   ],
   "source": [
    "import json  # Python has a huge library with hundreds of modules\n",
    "send_over_web = json.dumps(glossary)\n",
    "print(send_over_web[:50], \"...\", send_over_web[-10:]) # first 50 chars is enough, then the last 10."
   ]
  },
  {
   "cell_type": "code",
   "execution_count": 3,
   "metadata": {},
   "outputs": [
    {
     "data": {
      "text/plain": [
       "str"
      ]
     },
     "execution_count": 3,
     "metadata": {},
     "output_type": "execute_result"
    }
   ],
   "source": [
    "type(send_over_web)  # what type of object is this?  Number?  String?  Other kind of object?  Dog?"
   ]
  },
  {
   "cell_type": "markdown",
   "metadata": {},
   "source": [
    "Lets save our JSON as a text file, for retrieval in another notebook."
   ]
  },
  {
   "cell_type": "code",
   "execution_count": 4,
   "metadata": {},
   "outputs": [],
   "source": [
    "with open('glossary.txt', 'w') as output:\n",
    "    json.dump(glossary, output)"
   ]
  },
  {
   "cell_type": "markdown",
   "metadata": {},
   "source": [
    "#### RECAP\n",
    "\n",
    "We just asked to have our ```glossary``` object turned into a string (a sequence of characters, like keyboard characters), but formatted as JSON.  That ended up looking not much different from the ```glossary``` object in the first place, as defined in the code cell above.\n",
    "\n",
    "When a web browser asks an IP:port address for an HTTP response, by means of an HTTP request, it may get back JSON as payload.  Or it may get back HTML, its bread and butter.  Web browsers are all about combining the HTML + CSS in an HTTP response, and turning that into a formatted and typeset looking web page, such as you're likely looking at right now.\n",
    "\n",
    "## OUR TOPICS\n",
    "\n",
    "* [Data Visualization](dataviz.ipynb) (using our tools)\n",
    "* History (snippets)\n",
    "* Literature (specific branches)\n",
    "* Cryptography (symmetric and public)\n",
    "* A Philosophy of Engineering\n",
    "\n",
    "### Data Visualization\n",
    "\n",
    "Jupyter Notebook based explorations of datasets, with the aim of building up skills with our tools.\n",
    "\n",
    "### History\n",
    "\n",
    "From H.G. Wells to Orson Welles.  Bonus Army, Smedley Butler, Gen. MacArthur... links to Portland, Oregon, Cascadia region, home of the [Oregon Curriculum Network](http://4dsolutions.net/ocn/).\n",
    "\n",
    "### Literature\n",
    "\n",
    "[Martian Math](https://github.com/4dsolutions/MartianMath/blob/master/mm1.ipynb) is Science Fiction.\n",
    "\n",
    "### Cryptography\n",
    "\n",
    "[RSA](https://github.com/4dsolutions/Python5/blob/master/Public%20Key%20Cryptography.ipynb) provides lots of number theory.\n",
    "\n",
    "### A Philosophy of Engineering\n",
    "\n",
    "[ISEPP stuff](http://www.isepp.org/).\n",
    "\n",
    "### Historical Sidebar\n",
    "\n",
    "The School of Tomorrow is in part inspired by the movie The House of Tomorrow, in turn based on a book.  As you explore this curriculum, some of the connections will become clear.\n",
    "\n",
    "<a data-flickr-embed=\"true\"  href=\"https://www.flickr.com/photos/kirbyurner/47953542008/in/dateposted-public/\" title=\"P1080807\"><img src=\"https://live.staticflickr.com/65535/47953542008_4e29d05772.jpg\" width=\"500\" height=\"500\" alt=\"P1080807\"></a><script async src=\"//embedr.flickr.com/assets/client-code.js\" charset=\"utf-8\"></script>"
   ]
  }
 ],
 "metadata": {
  "kernelspec": {
   "display_name": "Python 3",
   "language": "python",
   "name": "python3"
  },
  "language_info": {
   "codemirror_mode": {
    "name": "ipython",
    "version": 3
   },
   "file_extension": ".py",
   "mimetype": "text/x-python",
   "name": "python",
   "nbconvert_exporter": "python",
   "pygments_lexer": "ipython3",
   "version": "3.6.8"
  }
 },
 "nbformat": 4,
 "nbformat_minor": 2
}
