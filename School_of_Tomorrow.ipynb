{
 "cells": [
  {
   "cell_type": "markdown",
   "metadata": {},
   "source": [
    "[Oregon Curriculum Network](http://4dsolutions.net/ocn/)\n",
    "\n",
    "# The School of Tomorrow\n",
    "\n",
    "<a data-flickr-embed=\"true\"  href=\"https://www.flickr.com/photos/kirbyurner/7028378663/in/album-72157624750749042/\" title=\"History of Mathematics\"><img src=\"https://live.staticflickr.com/7043/7028378663_f6c157dc10.jpg\" width=\"500\" height=\"375\" alt=\"History of Mathematics\"></a><script async src=\"//embedr.flickr.com/assets/client-code.js\" charset=\"utf-8\"></script>"
   ]
  },
  {
   "cell_type": "markdown",
   "metadata": {},
   "source": [
    "## OUR TOPICS\n",
    "\n",
    "* Computer Programming\n",
    "* [Data Visualization](dataviz.ipynb) (using our tools)\n",
    "* History (see Sidebars)\n",
    "* Literature (see Sidebars)\n",
    "* Cryptography (symmetric and public)\n",
    "* Number Sequences ([OEIS](http://oeis.org/A005901))\n",
    "* Philosophy of Engineering"
   ]
  },
  {
   "cell_type": "markdown",
   "metadata": {},
   "source": [
    "## Computer Programming\n",
    "\n",
    "Our Jupyter Notebook's kernel is Python.  The code cells you see, interspersed with text and pictures, are a primary constituent of the Jupyter Notebook.  You will learn more about Jupyter Notebook technology as you work through these materials."
   ]
  },
  {
   "cell_type": "code",
   "execution_count": 1,
   "metadata": {},
   "outputs": [
    {
     "data": {
      "text/plain": [
       "dict"
      ]
     },
     "execution_count": 1,
     "metadata": {},
     "output_type": "execute_result"
    }
   ],
   "source": [
    "glossary = {}  # empty dictionary (a set of key:value pairs)\n",
    "glossary.update({\n",
    "\"Jupyter Notebook (JN)\" : \"like a web page, but interactive, stored as json\",\n",
    "\"cell\"          : \"a Jupyter Notebook consists of mostly Code and Markdown cells\",\n",
    "\"code cell\"     : \"where runnable code, interpreted by the Kernel, is displayed and color coded\",\n",
    "\"markdown cell\" : \"uses a markup called markdown to format the text cells in a Jupyter Notebook\",\n",
    "\"Python\"        : \"a computer language from Holland (the Netherlands) that went viral\", \n",
    "\"Kernel\"        : \"an interpreter, e.g. Python, ready to process JN code cells and return results\",\n",
    "})\n",
    "type(glossary)  # ask about this object's type"
   ]
  },
  {
   "cell_type": "markdown",
   "metadata": {},
   "source": [
    "## Data Visualization\n",
    "\n",
    "The School of Tomorrow features Jupyter Notebook based explorations of datasets, with the aim of building up skills with a specific suite of tools (see below).\n",
    "\n",
    "## History\n",
    "\n",
    "Our topics will include (but are not limited to):\n",
    "\n",
    "* Science Fiction through the ages, from [H.G. Wells](https://www.gutenberg.org/ebooks/author/30) to [Orson Welles](https://www.snopes.com/fact-check/war-of-the-worlds/).  \n",
    "* Bonus Army (WW1 Veterans, requesting payment from Congress)\n",
    "* Smedley \"fighting Quaker\" Butler (his career and writings)\n",
    "* Rajneesh Puram (Oregon History)\n",
    "* The Vortex Festival (Oregon History)\n",
    "* The Browser Wars and the Birth of JavaScript\n",
    "* [Occupy Portland (OPDX)](https://medium.com/@kirbyurner/occupy-university-ef91da029f9e) and Hoovervilles\n",
    "* Refugees and asylum-seekers in Portland\n",
    "* Cyber Punk and Crypto Punk subcultures (consistent with The House of Tomorrow)\n",
    "* other topics you choose (plus various research projects will be suggested)\n",
    "\n",
    "Links to Portland, Oregon, Cascadia region, home of the [Oregon Curriculum Network](http://4dsolutions.net/ocn/).\n",
    "\n",
    "<a data-flickr-embed=\"true\"  href=\"https://www.flickr.com/photos/kirbyurner/47428902511/in/dateposted-public/\" title=\"P1080444\"><img src=\"https://live.staticflickr.com/7852/47428902511_0943f4dcf7_n.jpg\" width=\"320\" height=\"240\" alt=\"P1080444\"></a><script async src=\"//embedr.flickr.com/assets/client-code.js\" charset=\"utf-8\"></script>\n",
    "<div style=\"text-align: center\">\n",
    "Mt. Tabor, Southeast Portland, Mid-level Reservoir\n",
    "</div>\n",
    "\n",
    "## Literature\n",
    "\n",
    "[Martian Math](https://github.com/4dsolutions/MartianMath/blob/master/mm1.ipynb) is Science Fiction, as well as a bridge to STEM topics.  \n",
    "\n",
    "However, we look at more than science fiction.  Based on our *The Home of Tomorrow* theme, we take seriously the curious mathematics ensconced within American Transcendentalism in the form of \"synergetic geometry\", the Concentric Hierarchy of Polyhedrons especially, which features a flagship Tetrahedron of edges one, as a unit of volume.\n",
    "\n",
    "<a data-flickr-embed=\"true\"  href=\"https://www.flickr.com/photos/kirbyurner/29224053958/in/photolist-pYjwL8-M3HF83-LwqV6h-25A37wJ-25MGEoH-WBrp4M-SB9x6G-SYjFPy-EPg3Ag-AnM3Vr-AnMgUH-A5F5Vg-A5zkx5-Aob4CP-A5zkZN-A5F7Xc-zqhPtk-A5F5ip-zCJpe6-zz6Qp9\" title=\"Martian Base\"><img src=\"https://live.staticflickr.com/1801/29224053958_02e71944be_n.jpg\" width=\"213\" height=\"320\" alt=\"Martian Base\"></a><script async src=\"//embedr.flickr.com/assets/client-code.js\" charset=\"utf-8\"></script>\n",
    "<div style=\"text-align: center\">\n",
    "Martian Base made of an A-modules Tetrahedron,<br />protected with a Lux Perimeter\n",
    "</div>\n",
    "\n",
    "## Cryptography\n",
    "\n",
    "[RSA](https://github.com/4dsolutions/Python5/blob/master/Public%20Key%20Cryptography.ipynb) is the name of a public key cryptography algorithm we study a lot. Cryptography involves a lot of what we might call Number Theory.\n",
    "\n",
    "With the rise of the commercial web came the business requirement to perform secure communications, meaning encrypted communications over TCP/IP. The need for public key cryptography became obvious and widely disseminated, over the objections of those wishing to preserve \"military grade\" encryption for a chosen few.\n",
    "\n",
    "Subsequent to the rise of the commercial web came the crypto-currencies revolution, and blockchain strategies for decentralizing the responsibility for securing transactions.  The promise of these technologies led many more people to develop [fluency around cryptography](https://bookauthority.org/books/best-cryptography-books).\n",
    "\n",
    "<a data-flickr-embed=\"true\"  href=\"https://www.flickr.com/photos/kirbyurner/40140789202/in/photolist-24a739s\" title=\"save_crypto\"><img src=\"https://live.staticflickr.com/4761/40140789202_9bf37537cc_n.jpg\" width=\"320\" height=\"282\" alt=\"save_crypto\"></a><script async src=\"//embedr.flickr.com/assets/client-code.js\" charset=\"utf-8\"></script>\n",
    "\n",
    "### Historical Sidebar\n",
    "In periods marked by hostility towards specific cultures, the signature technologies of those cultures may be deprecated, pushed to the back burner.  For example, [some argue](https://medium.com/@kirbyurner/operators-harbingers-of-the-zeitgeist-89fe9f4764b3) that Number Theory, pioneered by [Friedrich Gauss](http://4dsolutions.net/ocn/numeracy0.html) (1777-1855), was given a lower profile in North American curricula because of hostility towards Germanic cultures."
   ]
  },
  {
   "cell_type": "code",
   "execution_count": 2,
   "metadata": {},
   "outputs": [],
   "source": [
    "# alternative syntax for adding to a Python dictionary\n",
    "glossary[\"HTTP\"] = \"hypertext transfer protocol\",\n",
    "glossary[\"TLS\"]  = \"Transport Layer Security, used to turn HTTP into HTTPS\"\n",
    "glossary[\"RSA\"]  = \"public key crypto algorithm, named for collaborators Rivest, Shamir, Adleman\"\n",
    "glossary[\"PGP\"]  = \"Pretty Good Privacy, RSA before the US patent expired, by Phil Zimmerman\""
   ]
  },
  {
   "cell_type": "markdown",
   "metadata": {},
   "source": [
    "## A Philosophy of Engineering\n",
    "\n",
    "At the time of this writing, the Silicon Forest continued to honor the memory of Linus Pauling by preserving his boyhood home on Hawthorne Boulevard.  The organization supporting these preservation efforts was [the Institute for Science, Engineering and Public Policy](http://www.isepp.org/).\n",
    "\n",
    "Do engineers live by a code of ethics?  Should they?  ISEPP, a think tank, was looking into these questions, especially in light of Linus and Ava Helen Pauling's teachings and values.\n",
    "\n",
    "<a data-flickr-embed=\"true\"  href=\"https://www.flickr.com/photos/kirbyurner/32437606177/in/dateposted-public/\" title=\"P1080361\"><img src=\"https://live.staticflickr.com/7914/32437606177_8f7a6db2f7_n.jpg\" width=\"320\" height=\"240\" alt=\"P1080361\"></a><script async src=\"//embedr.flickr.com/assets/client-code.js\" charset=\"utf-8\"></script>\n",
    "\n",
    "<div style=\"text-align: center\">\n",
    "Terry Bristol of ISEPP,<br />patron Doug Strain (ESI),<br />Julian Voss Andreae (sculptor)<br />in front of Alpha Helix\n",
    "</div>"
   ]
  },
  {
   "cell_type": "markdown",
   "metadata": {},
   "source": [
    "### Literary Sidebar\n",
    "\n",
    "*The School of Tomorrow* is in part inspired by the movie *The House of Tomorrow*, in turn based on [a book](https://www.nytimes.com/2010/04/04/books/review/Stace-t.html).  As you explore this curriculum, some of the connections will become clear.\n",
    "\n",
    "<a data-flickr-embed=\"true\"  href=\"https://www.flickr.com/photos/kirbyurner/47953542008/in/dateposted-public/\" title=\"P1080807\"><img src=\"https://live.staticflickr.com/65535/47953542008_4e29d05772.jpg\" width=\"500\" height=\"500\" alt=\"P1080807\"></a><script async src=\"//embedr.flickr.com/assets/client-code.js\" charset=\"utf-8\"></script>\n",
    "\n",
    "<div style=\"text-align: center\">\n",
    "House of Tomorrow DVD\n",
    "</div>\n",
    "\n",
    "<a data-flickr-embed=\"true\"  href=\"https://www.flickr.com/photos/kirbyurner/6281428905/in/album-72157627710609369/\" title=\"Undercover Dome\"><img src=\"https://live.staticflickr.com/6108/6281428905_12aa354b18_n.jpg\" width=\"320\" height=\"240\" alt=\"Undercover Dome\"></a><script async src=\"//embedr.flickr.com/assets/client-code.js\" charset=\"utf-8\"></script>\n",
    "\n",
    "<div style=\"text-align: center\">\n",
    "Occupy Portland, 2011\n",
    "</div>"
   ]
  },
  {
   "cell_type": "markdown",
   "metadata": {},
   "source": [
    "## Our Tools\n",
    "\n",
    "By the early 21st Century, many schools were using various Jupyter Notebook like tools.  One of most impressive was [SAGE](http://www.sagemath.org/), which allowed cloud computing including access to computer algebra systems.\n",
    "\n",
    "[The edu-sig archives](https://mail.python.org/mailman/listinfo/edu-sig) at Python.org is a good place to search for insights into how some high school and college teachers were using such tools, including of course Jupyter Notebooks.\n",
    "\n",
    "Jupyter Notebooks may be rendered in several ways:\n",
    "\n",
    "* locally through a webserver, running on localhost:8888 (most likely), no internet access required\n",
    "* as read-only through a displayer program named nbviewer\n",
    "* rendered as read-only on a host website such as Github\n",
    "* as [interactive in the cloud](https://mybinder.org/), thanks to containerization and microservices\n",
    "\n",
    "Check out [this notebook in nbviewer](https://nbviewer.jupyter.org/github/4dsolutions/School_of_Tomorrow/blob/master/School_of_Tomorrow.ipynb)!\n",
    "\n",
    "Of the above, the first option is the most preferred, because \"interactive\" means only \"the ability to edit and run code cells\" where \"cell\" means some rectangle of code or text, such as you are reading now (if reading a Jupyter Notebook).  \n",
    "\n",
    "If you're running Jupyter Notebook on localhost, you'll be able to start new notebooks from scratch, as well as completely overhaul the ones in your personal stash."
   ]
  },
  {
   "cell_type": "markdown",
   "metadata": {},
   "source": [
    "## Our Toys\n",
    "\n",
    "The Oregon Curriculum Network is not a retailer or direct marketer of educational supplies.  When you visit your medical doctor, you may get a prescription for a specific pill, but you but those pills from a pharmacy not directly from the doctor. The doctor may give you free samples in some cases.\n",
    "\n",
    "Some of you are teachers and are planning on adapting Oregon Curriculum Network materials for your own use.\n",
    "\n",
    "Toys might include construction kits such as [Zometool](https://www.zometool.com/) and [Lux Blox](https://www.luxblox.com/).\n",
    "\n",
    "<a data-flickr-embed=\"true\"  href=\"https://www.flickr.com/photos/kirbyurner/41342666275/in/photolist-SMW7bY-28ydnGo-YofZgj-XtaH8U-X5Cijd-WPAApj-WsVUEk-25ZiYjX-HxV2Hg-229fY7r-23pkSoG-XpcPhS-Vm65Ub-UAXQdJ-UMPt2h-TKFbUA-UwKvCk-U8RpQF-T6Lv6T-U6GHwx\" title=\"Assembling C6XTY\"><img src=\"https://live.staticflickr.com/971/41342666275_723e2a62a7_z.jpg\" width=\"480\" height=\"640\" alt=\"Assembling C6XTY\"></a><script async src=\"//embedr.flickr.com/assets/client-code.js\" charset=\"utf-8\"></script>\n",
    "\n",
    "<div style=\"text-align: center\">\n",
    "C6XTY at OCN HQS\n",
    "</div>"
   ]
  },
  {
   "cell_type": "markdown",
   "metadata": {},
   "source": [
    "It's time for a short Glossary, that we will add to over time:"
   ]
  },
  {
   "cell_type": "code",
   "execution_count": 3,
   "metadata": {},
   "outputs": [],
   "source": [
    "glossary.update({\n",
    "\"CSV\"    : \"comma-separated values, one of the simplest data sharing formats\",\n",
    "\"DOM\"    : \"the Document Object Model is a tree of graph of a document in a web browser\",\n",
    "\"HTML\"   : \"hypertext markup language, almost an XML, defines the DOM in tandem with CSS\",\n",
    "\"JavaScript\" : \"a computer language, not confined to running inside browsers but happy there\",\n",
    "\"Pascal\" : \"an early computer language, later commercially available as Delphi from Borland\"\n",
    "\"json\"   : \"JavaScript Object Notation is a way to save data (compare with XML)\",\n",
    "\"localhost\" : \"the IP address of the host computer: 127.0.0.1\",\n",
    "\"port\" : \"internet services connect through IP:port addresses, JN usually on port 8888\",\n",
    "\"web browser\" : \"HTTP client, sends requests, gets responses\",\n",
    "\"web server\" : \"accepts and processes (or rejects) HTTP requests, sends responses\",\n",
    "\"XML\"    : \"a markup language using pointy brackets, reminiscent of HTML, for structured data\"\n",
    "\"SGML\"   : \"a parent specification behind what eventually became XML\"\n",
    "})"
   ]
  },
  {
   "cell_type": "markdown",
   "metadata": {},
   "source": [
    "Python is a language of objects, where objects have type or kind, species.  Depending on the species of an object, it will have varying capabilities.  Dog objects bark.  Car objects brake.  Python is one of many computer languages we consider \"object oriented\".  \n",
    "\n",
    "### Literary Sidebar\n",
    "\n",
    "HTML didn't come out of nowhere.  Imagine storing all the parts for an airplane in a computer.  How would you do that.  JSON is one answer.  XML is another.  XML grew out of an older [SGML](https://en.wikipedia.org/wiki/Standard_Generalized_Markup_Language) where ML stands for \"markup language\".  In HTML, we use pointy brackets as a kind of punctuation.  \n",
    "\n",
    "The poet [Gene Fowler](https://www.amazon.com/Waking-poet-Acquiring-usually-talents/dp/0941386007) used to say we should teach HTML right along with all the rest of the language, meaning periods, commas, semi-colons and like that (grammar and punctuation).  He wrote a text processor in Pascal showing the kind of thing he meant.  He was [a prisoner in San Quentin](http://www.bigbridge.org/BD-GF-B.HTM) before he discovered how to \"re-genius\" himself.\n",
    "\n",
    "### Sharing Data\n",
    "\n",
    "We'll be sharing a lot of data sets in this school.  We consume data produced by others, and we publish data for others to use.  \n",
    "\n",
    "Data needs to be stored in some structured way, in files and databases.  Even pictures, movies and music are data.  We package up data in files and stream these files to one another over the internet or by some other means.  Computer programs are also stored as data files, usually in some standard text encoding such as UTF-8.\n",
    "\n",
    "In the Glossary above, created in the Python language as a \"dictionary\", you will find at least three data storing and streaming formats defined:  [CSV](https://en.wikipedia.org/wiki/Comma-separated_values), [JSON](https://en.wikipedia.org/wiki/JSON) and [XML](https://en.wikipedia.org/wiki/XML).\n",
    "\n",
    "The above data structure looks a lot like JSON by the way.  Let's see that using Python's json library:"
   ]
  },
  {
   "cell_type": "code",
   "execution_count": 4,
   "metadata": {},
   "outputs": [
    {
     "name": "stdout",
     "output_type": "stream",
     "text": [
      "{\"Jupyter Notebook (JN)\": \"like a web page, but in ... red data\"}\n"
     ]
    }
   ],
   "source": [
    "import json  # Python has a huge library with hundreds of modules\n",
    "send_over_web = json.dumps(glossary)\n",
    "print(send_over_web[:50], \"...\", send_over_web[-10:]) # first 50 chars is enough, then the last 10."
   ]
  },
  {
   "cell_type": "code",
   "execution_count": 5,
   "metadata": {},
   "outputs": [
    {
     "data": {
      "text/plain": [
       "str"
      ]
     },
     "execution_count": 5,
     "metadata": {},
     "output_type": "execute_result"
    }
   ],
   "source": [
    "type(send_over_web)  # what type of object is this?  Number?  String?  Other kind of object?  Dog?"
   ]
  },
  {
   "cell_type": "markdown",
   "metadata": {},
   "source": [
    "#### RECAP\n",
    "\n",
    "We just asked to have our ```glossary``` object turned into a string (a sequence of characters, like keyboard characters), but formatted as JSON.  That ended up looking not much different from the ```glossary``` object in the first place, as defined in the code cell above.\n",
    "\n",
    "When a web browser asks an IP:port address for an HTTP response, by means of an HTTP request, it may get back JSON as payload.  Or it may get back HTML, its bread and butter.  Web browsers are all about combining the HTML + CSS in an HTTP response, and turning that into a formatted and typeset looking web page, such as you're likely looking at right now."
   ]
  },
  {
   "cell_type": "markdown",
   "metadata": {},
   "source": [
    "Lets save our JSON as a text file, for retrieval in [a next notebook](dataviz2.ipynb)."
   ]
  },
  {
   "cell_type": "code",
   "execution_count": 6,
   "metadata": {},
   "outputs": [],
   "source": [
    "with open('glossary.txt', 'w') as output:\n",
    "    json.dump(glossary, output)"
   ]
  }
 ],
 "metadata": {
  "kernelspec": {
   "display_name": "Python 3",
   "language": "python",
   "name": "python3"
  },
  "language_info": {
   "codemirror_mode": {
    "name": "ipython",
    "version": 3
   },
   "file_extension": ".py",
   "mimetype": "text/x-python",
   "name": "python",
   "nbconvert_exporter": "python",
   "pygments_lexer": "ipython3",
   "version": "3.6.8"
  }
 },
 "nbformat": 4,
 "nbformat_minor": 2
}
