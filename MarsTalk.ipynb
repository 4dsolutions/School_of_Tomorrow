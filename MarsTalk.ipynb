{
 "cells": [
  {
   "cell_type": "markdown",
   "id": "9c25b5c7-990d-41e1-90ee-e1af896b71e7",
   "metadata": {},
   "source": [
    "# Monday on Mars\n",
    "\n",
    "<a data-flickr-embed=\"true\" href=\"https://www.flickr.com/photos/kirbyurner/51677338704/in/dateposted-public/\" title=\"Cheat Sheet\"><img src=\"https://live.staticflickr.com/65535/51677338704_ef4746ae40_z.jpg\" width=\"640\" height=\"528\" alt=\"Cheat Sheet\"></a><script async src=\"//embedr.flickr.com/assets/client-code.js\" charset=\"utf-8\"></script>\n"
   ]
  },
  {
   "cell_type": "code",
   "execution_count": 1,
   "id": "1dd79e61-8d4f-4383-acee-f0f87a78ff8c",
   "metadata": {},
   "outputs": [],
   "source": [
    "from tetravolume import Tetrahedron as T\n",
    "from math import sqrt as rt2\n",
    "from math import sin, radians, hypot"
   ]
  },
  {
   "cell_type": "code",
   "execution_count": 2,
   "id": "a72abd09-8ff4-4a95-9528-1d7eb81ed8c1",
   "metadata": {},
   "outputs": [],
   "source": [
    "φ = (rt2(5)+1)/2  # golden ratio"
   ]
  },
  {
   "cell_type": "code",
   "execution_count": 3,
   "id": "e3bdc720-7509-4af3-976e-fea838a56765",
   "metadata": {},
   "outputs": [],
   "source": [
    "t = T(1,1,1,1,1,rt2(6)/2)  # edges measured in Ds"
   ]
  },
  {
   "cell_type": "code",
   "execution_count": 4,
   "id": "c813d447-52ec-4ab2-a865-7e03b11ac2cb",
   "metadata": {},
   "outputs": [
    {
     "data": {
      "text/plain": [
       "1.0606601717798212"
      ]
     },
     "execution_count": 4,
     "metadata": {},
     "output_type": "execute_result"
    }
   ],
   "source": [
    "t.ivm_volume()"
   ]
  },
  {
   "cell_type": "code",
   "execution_count": 5,
   "id": "5ea90fa9-80ef-4823-8118-74ff7574b2ec",
   "metadata": {},
   "outputs": [
    {
     "data": {
      "text/plain": [
       "1.0"
      ]
     },
     "execution_count": 5,
     "metadata": {},
     "output_type": "execute_result"
    }
   ],
   "source": [
    "t.xyz_volume()"
   ]
  },
  {
   "cell_type": "code",
   "execution_count": 6,
   "id": "5db28b97-ad75-435a-a007-3e77de1b2fbf",
   "metadata": {},
   "outputs": [],
   "source": [
    "t = T(1,1,1,1,1,1)  # edges measured in Ds"
   ]
  },
  {
   "cell_type": "code",
   "execution_count": 7,
   "id": "5055941f-63e0-4d2c-bba5-dea28e607657",
   "metadata": {},
   "outputs": [
    {
     "data": {
      "text/plain": [
       "1.0"
      ]
     },
     "execution_count": 7,
     "metadata": {},
     "output_type": "execute_result"
    }
   ],
   "source": [
    "t.ivm_volume()"
   ]
  },
  {
   "cell_type": "code",
   "execution_count": 8,
   "id": "7e6fe9a6-f036-42a5-b825-da45dd329ff1",
   "metadata": {},
   "outputs": [
    {
     "data": {
      "text/plain": [
       "0.9428090415820635"
      ]
     },
     "execution_count": 8,
     "metadata": {},
     "output_type": "execute_result"
    }
   ],
   "source": [
    "t.xyz_volume()"
   ]
  },
  {
   "cell_type": "markdown",
   "id": "7d923b6e-bc1d-4262-8086-babb1da7390d",
   "metadata": {},
   "source": [
    "#### Golden Cuboid\n",
    "\n",
    "<a data-flickr-embed=\"true\" href=\"https://www.flickr.com/photos/kirbyurner/51678607334/in/dateposted-public/\" title=\"Golden Cuboid\"><img src=\"https://live.staticflickr.com/65535/51678607334_67e55f7c17_z.jpg\" width=\"640\" height=\"406\" alt=\"Golden Cuboid\"></a><script async src=\"//embedr.flickr.com/assets/client-code.js\" charset=\"utf-8\"></script>\n"
   ]
  },
  {
   "cell_type": "code",
   "execution_count": 9,
   "id": "253e856c-6fcd-4219-b274-62e352a2908b",
   "metadata": {},
   "outputs": [],
   "source": [
    "a = 1\n",
    "b = 1/φ\n",
    "c = φ\n",
    "ab = hypot(a, b)\n",
    "ac = hypot(a, c)\n",
    "bc = hypot(b, c)"
   ]
  },
  {
   "cell_type": "code",
   "execution_count": 10,
   "id": "9d19e538-d4ad-4354-868e-54180da8b42a",
   "metadata": {},
   "outputs": [
    {
     "data": {
      "text/plain": [
       "[('b', 0.6180339887498948),\n",
       " ('a', 1),\n",
       " ('ab', 1.1755705045849463),\n",
       " ('c', 1.618033988749895),\n",
       " ('bc', 1.7320508075688774),\n",
       " ('ac', 1.9021130325903073)]"
      ]
     },
     "execution_count": 10,
     "metadata": {},
     "output_type": "execute_result"
    }
   ],
   "source": [
    "sorted(((\"a\", a), (\"b\", b), (\"c\", c), \n",
    "       (\"ab\", ab), (\"bc\", bc), (\"ac\", ac)), \n",
    "       key = lambda i: i[1])"
   ]
  },
  {
   "cell_type": "markdown",
   "id": "d9e53870-9aac-4906-8ff5-2c927527ead6",
   "metadata": {},
   "source": [
    "Lets compute one of the four corner tetrahedrons, before computing the central face-diagonals tetrahedron."
   ]
  },
  {
   "cell_type": "code",
   "execution_count": 11,
   "id": "3b39cc7d-939f-4995-b6f7-3a665587b949",
   "metadata": {},
   "outputs": [],
   "source": [
    "t = T(a/2, b/2, c/2, ab/2, bc/2, ac/2)  # edges measured in Ds"
   ]
  },
  {
   "cell_type": "code",
   "execution_count": 12,
   "id": "05d8a746-6a09-4ea5-bd01-9697492c64ac",
   "metadata": {},
   "outputs": [
    {
     "data": {
      "text/plain": [
       "0.17677669529663703"
      ]
     },
     "execution_count": 12,
     "metadata": {},
     "output_type": "execute_result"
    }
   ],
   "source": [
    "t.ivm_volume()"
   ]
  },
  {
   "cell_type": "code",
   "execution_count": 13,
   "id": "309328bf-81cc-4ad5-9d45-f41487623352",
   "metadata": {},
   "outputs": [
    {
     "data": {
      "text/plain": [
       "0.1767766952966369"
      ]
     },
     "execution_count": 13,
     "metadata": {},
     "output_type": "execute_result"
    }
   ],
   "source": [
    "rt2(2)/8"
   ]
  },
  {
   "cell_type": "code",
   "execution_count": 14,
   "id": "1ec5a9fb-6a68-4658-b141-f503d7a4e43d",
   "metadata": {},
   "outputs": [],
   "source": [
    "Syn3  = rt2(9/8)      # not to be confused with Smod\n",
    "\n",
    "Cubocta   = 20\n",
    "SuperRT   = Syn3 * Cubocta\n",
    "\n",
    "E3 = Emod3     = SuperRT / 120  # Emod phi up\n",
    "E  = Emod      = E3   * φ**-3   # home base Emod\n",
    "e3 = emod3     = Emod * φ**-3   # Emod phi down"
   ]
  },
  {
   "cell_type": "code",
   "execution_count": 15,
   "id": "98b05d42-afe3-4d47-aaae-7565c08f7b60",
   "metadata": {},
   "outputs": [
    {
     "data": {
      "text/plain": [
       "0.17677669529663687"
      ]
     },
     "execution_count": 15,
     "metadata": {},
     "output_type": "execute_result"
    }
   ],
   "source": [
    "E3"
   ]
  },
  {
   "cell_type": "markdown",
   "id": "578918c4-ca81-4529-a4c7-ada07f116164",
   "metadata": {},
   "source": [
    "#### U, V, W Modules and Their Volumes\n",
    "\n",
    "We can define these modules using Zometool, and/or using vZome, a virtual version."
   ]
  },
  {
   "cell_type": "markdown",
   "id": "3f9b9114-c592-4837-a799-d9274018e8b6",
   "metadata": {},
   "source": [
    "Here's what we call the U module, as a plane net, before folding it into a tetrahedron.\n",
    "\n",
    "<a data-flickr-embed=\"true\" href=\"https://www.flickr.com/photos/kirbyurner/51677703156/in/dateposted-public/\" title=\"U Plane Net\"><img src=\"https://live.staticflickr.com/65535/51677703156_87ce56f152_z.jpg\" width=\"480\" height=\"640\" alt=\"U Plane Net\"></a><script async src=\"//embedr.flickr.com/assets/client-code.js\" charset=\"utf-8\"></script>"
   ]
  },
  {
   "cell_type": "code",
   "execution_count": 16,
   "id": "c1e9ccd6-b3c9-4ab4-a3d1-325516654fcf",
   "metadata": {},
   "outputs": [],
   "source": [
    "red = ac\n",
    "yellow = bc\n",
    "short_red = ab"
   ]
  },
  {
   "cell_type": "markdown",
   "id": "2831a358-21a3-4d1b-bba8-d7ecfc70fedd",
   "metadata": {},
   "source": [
    "Let's compute the volume of this module. \n",
    "\n",
    "<a data-flickr-embed=\"true\" href=\"https://www.flickr.com/photos/kirbyurner/51678373979/in/dateposted-public/\" title=\"U Mod\"><img src=\"https://live.staticflickr.com/65535/51678373979_63f0d56859_z.jpg\" width=\"480\" height=\"640\" alt=\"U Mod\"></a><script async src=\"//embedr.flickr.com/assets/client-code.js\" charset=\"utf-8\"></script>"
   ]
  },
  {
   "cell_type": "code",
   "execution_count": 17,
   "id": "621a5174-4c96-457d-bd29-9229433bbc6c",
   "metadata": {},
   "outputs": [],
   "source": [
    "U = T(red/2, \n",
    "      short_red/2, \n",
    "      yellow/2, \n",
    "      yellow/2, \n",
    "      red/2, \n",
    "      short_red/2)  # edges measured in Ds"
   ]
  },
  {
   "cell_type": "code",
   "execution_count": 18,
   "id": "9019f45c-c1c2-4e33-b3e3-dc8cf649a204",
   "metadata": {},
   "outputs": [
    {
     "data": {
      "text/plain": [
       "0.35355339059327345"
      ]
     },
     "execution_count": 18,
     "metadata": {},
     "output_type": "execute_result"
    }
   ],
   "source": [
    "u_vol = U.ivm_volume()\n",
    "u_vol"
   ]
  },
  {
   "cell_type": "markdown",
   "id": "a519f092-4420-4645-8d47-48cb540f9f7e",
   "metadata": {},
   "source": [
    "David Koski:  \"In a golden cuboid of edges $\\phi^{-1}, 1, \\phi$, there are 4 E mods and the inner tetrahedron.  Not unlike the reg tet in a cube. 1/3 the volume.\n",
    "\n",
    "The U mod resides in the interior, and is one 1/3 the volume of said cuboid.\n",
    "\n",
    "Cuboid is 6 * E3.\n",
    "\n",
    "U tetrahedron 2 * E3\n",
    "\n",
    "If anything, that is a direct connection to Synergetics and was first dubbed by Tell Andersen since U followed T module.\""
   ]
  },
  {
   "cell_type": "code",
   "execution_count": 19,
   "id": "2b164702-02ab-4009-bc1e-7cbaee5baa60",
   "metadata": {},
   "outputs": [
    {
     "data": {
      "text/plain": [
       "1.0606601717798212"
      ]
     },
     "execution_count": 19,
     "metadata": {},
     "output_type": "execute_result"
    }
   ],
   "source": [
    "6 * E3"
   ]
  },
  {
   "cell_type": "code",
   "execution_count": 20,
   "id": "9dce32ec-d048-4a97-a49c-8ff7625ade16",
   "metadata": {},
   "outputs": [
    {
     "data": {
      "text/plain": [
       "0.35355339059327373"
      ]
     },
     "execution_count": 20,
     "metadata": {},
     "output_type": "execute_result"
    }
   ],
   "source": [
    "2 * E3"
   ]
  },
  {
   "cell_type": "code",
   "execution_count": 21,
   "id": "23d7abeb-9db7-4cb1-8f8b-714c96d40144",
   "metadata": {},
   "outputs": [
    {
     "data": {
      "text/plain": [
       "0.35355339059327373"
      ]
     },
     "execution_count": 21,
     "metadata": {},
     "output_type": "execute_result"
    }
   ],
   "source": [
    "(6 * E3)/3"
   ]
  },
  {
   "cell_type": "code",
   "execution_count": 22,
   "id": "4e5548fa-60ba-4764-9f3f-481ba12a0361",
   "metadata": {},
   "outputs": [
    {
     "data": {
      "text/plain": [
       "0.35355339059327373"
      ]
     },
     "execution_count": 22,
     "metadata": {},
     "output_type": "execute_result"
    }
   ],
   "source": [
    "Syn3/3"
   ]
  },
  {
   "cell_type": "code",
   "execution_count": 23,
   "id": "1d6b5716-cf5d-4406-bcac-3d909858ff3a",
   "metadata": {},
   "outputs": [
    {
     "data": {
      "text/plain": [
       "5.007758031332838"
      ]
     },
     "execution_count": 23,
     "metadata": {},
     "output_type": "execute_result"
    }
   ],
   "source": [
    "120 * E"
   ]
  },
  {
   "cell_type": "code",
   "execution_count": 24,
   "id": "3e47a446-6a34-4879-a061-a4e9c840eb5f",
   "metadata": {},
   "outputs": [
    {
     "data": {
      "text/plain": [
       "21.213203435596423"
      ]
     },
     "execution_count": 24,
     "metadata": {},
     "output_type": "execute_result"
    }
   ],
   "source": [
    "120 * E3"
   ]
  },
  {
   "cell_type": "markdown",
   "id": "0171da03-bb13-4f75-9205-9305ef015c61",
   "metadata": {},
   "source": [
    "#### V Module\n",
    "\n",
    "<a data-flickr-embed=\"true\" href=\"https://www.flickr.com/photos/kirbyurner/51677703101/in/dateposted-public/\" title=\"V Plane Net\"><img src=\"https://live.staticflickr.com/65535/51677703101_1db2e5e8d3_z.jpg\" width=\"480\" height=\"640\" alt=\"V Plane Net\"></a><script async src=\"//embedr.flickr.com/assets/client-code.js\" charset=\"utf-8\"></script>\n",
    "\n",
    "<a data-flickr-embed=\"true\" href=\"https://www.flickr.com/photos/kirbyurner/51678583370/in/dateposted-public/\" title=\"V Mod\"><img src=\"https://live.staticflickr.com/65535/51678583370_e4b45812e2_z.jpg\" width=\"480\" height=\"640\" alt=\"V Mod\"></a><script async src=\"//embedr.flickr.com/assets/client-code.js\" charset=\"utf-8\"></script>"
   ]
  },
  {
   "cell_type": "code",
   "execution_count": 25,
   "id": "8faec9e0-559a-4372-b446-43d02df001a8",
   "metadata": {},
   "outputs": [],
   "source": [
    "short_yellow = (1/φ) * yellow"
   ]
  },
  {
   "cell_type": "code",
   "execution_count": 26,
   "id": "56717d90-51b6-4562-9e2e-0d3f6312a968",
   "metadata": {},
   "outputs": [],
   "source": [
    "V = T((yellow + short_yellow)/2, \n",
    "      yellow/2, \n",
    "      red/2, \n",
    "      red/2, \n",
    "      short_red/2, \n",
    "      yellow/2)  # edges measured in Ds"
   ]
  },
  {
   "cell_type": "code",
   "execution_count": 27,
   "id": "aa5bd769-af54-4421-9de4-c01e21be1060",
   "metadata": {},
   "outputs": [
    {
     "data": {
      "text/plain": [
       "0.5720614028176837"
      ]
     },
     "execution_count": 27,
     "metadata": {},
     "output_type": "execute_result"
    }
   ],
   "source": [
    "v_vol = V.ivm_volume()\n",
    "v_vol"
   ]
  },
  {
   "cell_type": "code",
   "execution_count": 28,
   "id": "7cd32e1b-8739-457f-aa92-83cf26734f95",
   "metadata": {},
   "outputs": [
    {
     "data": {
      "text/plain": [
       "0.618033988749895"
      ]
     },
     "execution_count": 28,
     "metadata": {},
     "output_type": "execute_result"
    }
   ],
   "source": [
    "u_vol / v_vol"
   ]
  },
  {
   "cell_type": "code",
   "execution_count": 29,
   "id": "6e0ca92f-3064-40ac-a795-6eba3396ea7b",
   "metadata": {},
   "outputs": [
    {
     "data": {
      "text/plain": [
       "0.6180339887498948"
      ]
     },
     "execution_count": 29,
     "metadata": {},
     "output_type": "execute_result"
    }
   ],
   "source": [
    "1/φ"
   ]
  },
  {
   "cell_type": "markdown",
   "id": "03259041-f689-4b1a-bc25-e5fbb5572888",
   "metadata": {},
   "source": [
    "#### W Module\n",
    "\n",
    "<a data-flickr-embed=\"true\" href=\"https://www.flickr.com/photos/kirbyurner/51676895767/in/dateposted-public/\" title=\"W Mod\"><img src=\"https://live.staticflickr.com/65535/51676895767_923f8a8231_z.jpg\" width=\"480\" height=\"640\" alt=\"W Mod\"></a><script async src=\"//embedr.flickr.com/assets/client-code.js\" charset=\"utf-8\"></script>"
   ]
  },
  {
   "cell_type": "code",
   "execution_count": 30,
   "id": "00ace9ab-54ac-437c-bf4d-e7e160f29517",
   "metadata": {},
   "outputs": [],
   "source": [
    "W = T(yellow/2, \n",
    "      short_red/2, \n",
    "      short_yellow/2, \n",
    "      red/2, \n",
    "      yellow/2, \n",
    "      short_red/2)  # edges measured in Ds"
   ]
  },
  {
   "cell_type": "code",
   "execution_count": 31,
   "id": "01d2a946-f20d-4fac-8ba4-90837fe68c3a",
   "metadata": {},
   "outputs": [
    {
     "data": {
      "text/plain": [
       "0.21850801222441102"
      ]
     },
     "execution_count": 31,
     "metadata": {},
     "output_type": "execute_result"
    }
   ],
   "source": [
    "w_vol = W.ivm_volume()\n",
    "w_vol"
   ]
  },
  {
   "cell_type": "code",
   "execution_count": 32,
   "id": "7d679be1-a4bc-4a85-b219-b07faf58f8cb",
   "metadata": {},
   "outputs": [
    {
     "data": {
      "text/plain": [
       "0.6180339887498968"
      ]
     },
     "execution_count": 32,
     "metadata": {},
     "output_type": "execute_result"
    }
   ],
   "source": [
    "w_vol / u_vol"
   ]
  },
  {
   "cell_type": "code",
   "execution_count": 33,
   "id": "6f798ea9-1186-4151-98eb-c093bc92b32f",
   "metadata": {},
   "outputs": [
    {
     "data": {
      "text/plain": [
       "0.6180339887498948"
      ]
     },
     "execution_count": 33,
     "metadata": {},
     "output_type": "execute_result"
    }
   ],
   "source": [
    "1/φ"
   ]
  },
  {
   "cell_type": "code",
   "execution_count": 34,
   "id": "bea0ab8d-a418-4f81-81dd-138a773dc3c3",
   "metadata": {},
   "outputs": [
    {
     "data": {
      "text/plain": [
       "[('W', 0.21850801222441102),\n",
       " ('U', 0.35355339059327345),\n",
       " ('V', 0.5720614028176837)]"
      ]
     },
     "execution_count": 34,
     "metadata": {},
     "output_type": "execute_result"
    }
   ],
   "source": [
    "sorted(((\"U\", u_vol), (\"V\",v_vol), (\"W\",w_vol)), key = lambda i: i[1])"
   ]
  }
 ],
 "metadata": {
  "kernelspec": {
   "display_name": "Python 3 (ipykernel)",
   "language": "python",
   "name": "python3"
  },
  "language_info": {
   "codemirror_mode": {
    "name": "ipython",
    "version": 3
   },
   "file_extension": ".py",
   "mimetype": "text/x-python",
   "name": "python",
   "nbconvert_exporter": "python",
   "pygments_lexer": "ipython3",
   "version": "3.7.9"
  }
 },
 "nbformat": 4,
 "nbformat_minor": 5
}
