{
 "cells": [
  {
   "cell_type": "markdown",
   "id": "9c25b5c7-990d-41e1-90ee-e1af896b71e7",
   "metadata": {},
   "source": [
    "# Monday on Mars\n",
    "\n",
    "<a data-flickr-embed=\"true\" href=\"https://www.flickr.com/photos/kirbyurner/51677338704/in/dateposted-public/\" title=\"Cheat Sheet\"><img src=\"https://live.staticflickr.com/65535/51677338704_ef4746ae40_z.jpg\" width=\"640\" height=\"528\" alt=\"Cheat Sheet\"></a><script async src=\"//embedr.flickr.com/assets/client-code.js\" charset=\"utf-8\"></script>\n"
   ]
  },
  {
   "cell_type": "code",
   "execution_count": 10,
   "id": "1dd79e61-8d4f-4383-acee-f0f87a78ff8c",
   "metadata": {},
   "outputs": [],
   "source": [
    "from tetravolume import Tetrahedron as T\n",
    "from math import sqrt as rt2\n",
    "from math import sin, radians"
   ]
  },
  {
   "cell_type": "code",
   "execution_count": 14,
   "id": "a72abd09-8ff4-4a95-9528-1d7eb81ed8c1",
   "metadata": {},
   "outputs": [],
   "source": [
    "phi = (1 + rt2(5))/2"
   ]
  },
  {
   "cell_type": "code",
   "execution_count": 2,
   "id": "e3bdc720-7509-4af3-976e-fea838a56765",
   "metadata": {},
   "outputs": [],
   "source": [
    "t = T(1,1,1,1,1,rt2(6)/2)  # edges measured in Ds"
   ]
  },
  {
   "cell_type": "code",
   "execution_count": 3,
   "id": "c813d447-52ec-4ab2-a865-7e03b11ac2cb",
   "metadata": {},
   "outputs": [
    {
     "data": {
      "text/plain": [
       "1.0606601717798212"
      ]
     },
     "execution_count": 3,
     "metadata": {},
     "output_type": "execute_result"
    }
   ],
   "source": [
    "t.ivm_volume()"
   ]
  },
  {
   "cell_type": "code",
   "execution_count": 4,
   "id": "5ea90fa9-80ef-4823-8118-74ff7574b2ec",
   "metadata": {},
   "outputs": [
    {
     "data": {
      "text/plain": [
       "1.0"
      ]
     },
     "execution_count": 4,
     "metadata": {},
     "output_type": "execute_result"
    }
   ],
   "source": [
    "t.xyz_volume()"
   ]
  },
  {
   "cell_type": "code",
   "execution_count": 5,
   "id": "5db28b97-ad75-435a-a007-3e77de1b2fbf",
   "metadata": {},
   "outputs": [],
   "source": [
    "t = T(1,1,1,1,1,1)  # edges measured in Ds"
   ]
  },
  {
   "cell_type": "code",
   "execution_count": 6,
   "id": "5055941f-63e0-4d2c-bba5-dea28e607657",
   "metadata": {},
   "outputs": [
    {
     "data": {
      "text/plain": [
       "1.0"
      ]
     },
     "execution_count": 6,
     "metadata": {},
     "output_type": "execute_result"
    }
   ],
   "source": [
    "t.ivm_volume()"
   ]
  },
  {
   "cell_type": "code",
   "execution_count": 7,
   "id": "7e6fe9a6-f036-42a5-b825-da45dd329ff1",
   "metadata": {},
   "outputs": [
    {
     "data": {
      "text/plain": [
       "0.9428090415820635"
      ]
     },
     "execution_count": 7,
     "metadata": {},
     "output_type": "execute_result"
    }
   ],
   "source": [
    "t.xyz_volume()"
   ]
  },
  {
   "cell_type": "markdown",
   "id": "578918c4-ca81-4529-a4c7-ada07f116164",
   "metadata": {},
   "source": [
    "#### U, V, W Modules and Their Volumes\n",
    "\n",
    "We can define these modules using Zometool, and/or using vZome, a virtual version."
   ]
  },
  {
   "cell_type": "markdown",
   "id": "3f9b9114-c592-4837-a799-d9274018e8b6",
   "metadata": {},
   "source": [
    "Here's what we call the U module, as a plane net, before folding it into a tetrahedron.\n",
    "\n",
    "<a data-flickr-embed=\"true\" href=\"https://www.flickr.com/photos/kirbyurner/51677703156/in/dateposted-public/\" title=\"U Plane Net\"><img src=\"https://live.staticflickr.com/65535/51677703156_87ce56f152_z.jpg\" width=\"480\" height=\"640\" alt=\"U Plane Net\"></a><script async src=\"//embedr.flickr.com/assets/client-code.js\" charset=\"utf-8\"></script>"
   ]
  },
  {
   "cell_type": "code",
   "execution_count": 16,
   "id": "c1e9ccd6-b3c9-4ab4-a3d1-325516654fcf",
   "metadata": {},
   "outputs": [],
   "source": [
    "yellow = rt2(3)\n",
    "red = 2 * sin(radians(72))\n",
    "short_red = red * 1/phi"
   ]
  },
  {
   "cell_type": "markdown",
   "id": "2831a358-21a3-4d1b-bba8-d7ecfc70fedd",
   "metadata": {},
   "source": [
    "Let's computer the volume of this module. \n",
    "\n",
    "<a data-flickr-embed=\"true\" href=\"https://www.flickr.com/photos/kirbyurner/51678373979/in/dateposted-public/\" title=\"U Mod\"><img src=\"https://live.staticflickr.com/65535/51678373979_63f0d56859_z.jpg\" width=\"480\" height=\"640\" alt=\"U Mod\"></a><script async src=\"//embedr.flickr.com/assets/client-code.js\" charset=\"utf-8\"></script>"
   ]
  },
  {
   "cell_type": "code",
   "execution_count": 21,
   "id": "d9d9cb54-a040-4fdf-a717-9bdac5690f90",
   "metadata": {},
   "outputs": [],
   "source": [
    "apex_a = red\n",
    "apex_b = short_red\n",
    "apex_c = yellow\n",
    "a_b = yellow\n",
    "b_c = red\n",
    "a_c = short_red"
   ]
  },
  {
   "cell_type": "code",
   "execution_count": 22,
   "id": "621a5174-4c96-457d-bd29-9229433bbc6c",
   "metadata": {},
   "outputs": [],
   "source": [
    "t = T(apex_a, apex_b, apex_c, a_b, a_c, a_c)  # edges measured in Ds"
   ]
  },
  {
   "cell_type": "code",
   "execution_count": 23,
   "id": "9019f45c-c1c2-4e33-b3e3-dc8cf649a204",
   "metadata": {},
   "outputs": [
    {
     "data": {
      "text/plain": [
       "2.1172574413910286"
      ]
     },
     "execution_count": 23,
     "metadata": {},
     "output_type": "execute_result"
    }
   ],
   "source": [
    "t.ivm_volume()"
   ]
  },
  {
   "cell_type": "code",
   "execution_count": null,
   "id": "827403e8-98dc-420a-884a-a9cb7759e4ff",
   "metadata": {},
   "outputs": [],
   "source": []
  }
 ],
 "metadata": {
  "kernelspec": {
   "display_name": "Python 3 (ipykernel)",
   "language": "python",
   "name": "python3"
  },
  "language_info": {
   "codemirror_mode": {
    "name": "ipython",
    "version": 3
   },
   "file_extension": ".py",
   "mimetype": "text/x-python",
   "name": "python",
   "nbconvert_exporter": "python",
   "pygments_lexer": "ipython3",
   "version": "3.7.9"
  }
 },
 "nbformat": 4,
 "nbformat_minor": 5
}
