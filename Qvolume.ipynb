{
 "cells": [
  {
   "cell_type": "markdown",
   "id": "c080a027",
   "metadata": {},
   "source": [
    "[Oregon Curriculum Network](http://4dsolutions.net/ocn/)<br />\n",
    "[Home Page](School_of_Tomorrow.ipynb)\n",
    "\n",
    "# Tetrahedron Volume with Quadrays\n",
    "\n",
    "Testing a new enhancement shared with me by Tom Ace.\n",
    "\n",
    "$$\n",
    "A = \n",
    "\\begin{vmatrix}\n",
    "a0&a1&a2&a3&1\\\\\n",
    "b0&b1&b2&b3&1\\\\\n",
    "c0&c1&c2&c3&1\\\\\n",
    "d0&d1&d2&d3&1\\\\\n",
    "1&1&1&1&0\\\\\n",
    "\\end{vmatrix}\n",
    "$$\n",
    "<br />\n",
    "\n",
    "$$ \n",
    "Vol = |{A/4}|\n",
    "$$\n",
    "\n",
    "That's a determinant, which results in a number A, which upon dividing by 4, and taking the absolute value, gives the volume of said tetrahedron, in tetravolumes.\n",
    "\n",
    "What tetrahedron again?  The one defined by the four Quadrays or Qvectors, vectors defined using 4-tuples additively combining 4 elementary rays from (0,0,0,0) to the 4 corners of a tetrahedron: (1,0,0,0) (0,1,0,0) (0,0,1,0) and (0,0,0,1).\n",
    "\n",
    "In this implementation of Qvectors, the resulting home base tetrahedron is what has edges 1, not the elementary Qvectors.\n",
    "\n",
    "<a data-flickr-embed=\"true\" href=\"https://www.flickr.com/photos/kirbyurner/4723083407/in/photolist-2myMppk-2m29ok8-2jxGLDx-KjMqQP-EhaxK2-Bpf1cD-8P2cs1-8cn39x-7cVeMN-JotMo/\" title=\"Quadray Coordinates\"><img src=\"https://live.staticflickr.com/1213/4723083407_2ccf6bc229_w.jpg\" width=\"400\" height=\"350\" alt=\"Quadray Coordinates\"></a><script async src=\"//embedr.flickr.com/assets/client-code.js\" charset=\"utf-8\"></script>\n",
    "\n",
    "What about \"tetravolumes\"?  That's where we take a tetrahedron of edges 1, as unit volume, or edges 2 if measuring in radians (radii).  The Quadrays in question have been geared to operate in such a namespace, i.e. the balls below have radius R, diameter D, D = 2R.  That's our home base tetrahedron with (0,0,0,0) at its center of gravity.\n",
    "\n",
    "<a data-flickr-embed=\"true\" href=\"https://www.flickr.com/photos/kirbyurner/4949801610/in/photolist-2m29ojG-5DsYaY-2i3qGpP-8EDNfx-8xp2z5-6wUiRq\" title=\"Sphere Packing\"><img src=\"https://live.staticflickr.com/4146/4949801610_da3fc94b2c_n.jpg\" width=\"240\" height=\"320\" alt=\"Sphere Packing\"></a><script async src=\"//embedr.flickr.com/assets/client-code.js\" charset=\"utf-8\"></script>"
   ]
  },
  {
   "cell_type": "code",
   "execution_count": 1,
   "id": "a025b6ed",
   "metadata": {},
   "outputs": [],
   "source": [
    "import numpy as np\n",
    "from qrays import Qvector\n",
    "from random import choice\n",
    "from itertools import permutations\n",
    "import tetravolume as tv"
   ]
  },
  {
   "cell_type": "markdown",
   "id": "1fb7b576",
   "metadata": {},
   "source": [
    "The four quadrays..."
   ]
  },
  {
   "cell_type": "code",
   "execution_count": 2,
   "id": "0030f2e1",
   "metadata": {},
   "outputs": [],
   "source": [
    "a = Qvector((1,0,0,0))\n",
    "b = Qvector((0,1,0,0))\n",
    "c = Qvector((0,0,1,0))\n",
    "d = Qvector((0,0,0,1))"
   ]
  },
  {
   "cell_type": "code",
   "execution_count": 3,
   "id": "4f58fd97",
   "metadata": {},
   "outputs": [
    {
     "data": {
      "text/plain": [
       "ivm_vector(a=1, b=0, c=0, d=0)"
      ]
     },
     "execution_count": 3,
     "metadata": {},
     "output_type": "execute_result"
    }
   ],
   "source": [
    "a.coords"
   ]
  },
  {
   "cell_type": "code",
   "execution_count": 4,
   "id": "eff1c2fa",
   "metadata": {},
   "outputs": [],
   "source": [
    "def volume(q0, q1, q2, q3):\n",
    "    \"\"\"\n",
    "    Construct a 5x5 matrix per Tom Ace\n",
    "    \"\"\"\n",
    "    A = np.ones((5,5)) # shape, all 1s except..\n",
    "    A[4,4] = 0 # zero in lower right corner\n",
    "    A[0,0:4] = q0.coords\n",
    "    A[1,0:4] = q1.coords\n",
    "    A[2,0:4] = q2.coords\n",
    "    A[3,0:4] = q3.coords\n",
    "    return abs(np.linalg.det(A))/4 # that's it!"
   ]
  },
  {
   "cell_type": "markdown",
   "id": "5c1e947f",
   "metadata": {},
   "source": [
    "Getting back the expected unit-volume..."
   ]
  },
  {
   "cell_type": "code",
   "execution_count": 5,
   "id": "37899fa6",
   "metadata": {},
   "outputs": [
    {
     "data": {
      "text/plain": [
       "1.0"
      ]
     },
     "execution_count": 5,
     "metadata": {},
     "output_type": "execute_result"
    }
   ],
   "source": [
    "volume(a,b,c,d)"
   ]
  },
  {
   "cell_type": "markdown",
   "id": "ab052e87",
   "metadata": {},
   "source": [
    "Double all Qvector lengths..."
   ]
  },
  {
   "cell_type": "code",
   "execution_count": 6,
   "id": "c2486671",
   "metadata": {},
   "outputs": [],
   "source": [
    "a, b, c, d = map(lambda q: 2 * q, (a,b,c,d))"
   ]
  },
  {
   "cell_type": "markdown",
   "id": "8b773090",
   "metadata": {},
   "source": [
    "Volume is 8-folded..."
   ]
  },
  {
   "cell_type": "markdown",
   "id": "9d037bd1",
   "metadata": {},
   "source": [
    "Create the 12 directions to neighoring balls in a ball packing.\n",
    "\n",
    "<a data-flickr-embed=\"true\" href=\"https://www.flickr.com/photos/kirbyurner/51522139740/in/photolist-8thDyL-2muQr99-2msgzQd-2msj6xS-2mgJNog-2m44aqr-22yg9uX-FMLvQQ-NzckH4-EPg3Ag-CMbRqK-dMGmVw-agu9Xx-8xp2z5-8vatB3-8ti2xi-8oX85J-6Wcvue-5QyKim\" title=\"Growing Sphere Packing\"><img src=\"https://live.staticflickr.com/65535/51522139740_b16f97cc96_m.jpg\" width=\"225\" height=\"210\" alt=\"Growing Sphere Packing\"></a><script async src=\"//embedr.flickr.com/assets/client-code.js\" charset=\"utf-8\"></script>"
   ]
  },
  {
   "cell_type": "code",
   "execution_count": 7,
   "id": "d4fdcc0c",
   "metadata": {},
   "outputs": [
    {
     "data": {
      "text/plain": [
       "[ivm_vector(a=0, b=1, c=1, d=2),\n",
       " ivm_vector(a=1, b=0, c=1, d=2),\n",
       " ivm_vector(a=2, b=0, c=1, d=1),\n",
       " ivm_vector(a=0, b=2, c=1, d=1),\n",
       " ivm_vector(a=0, b=1, c=2, d=1),\n",
       " ivm_vector(a=1, b=2, c=1, d=0),\n",
       " ivm_vector(a=1, b=1, c=2, d=0),\n",
       " ivm_vector(a=2, b=1, c=1, d=0),\n",
       " ivm_vector(a=1, b=0, c=2, d=1),\n",
       " ivm_vector(a=1, b=2, c=0, d=1),\n",
       " ivm_vector(a=2, b=1, c=0, d=1),\n",
       " ivm_vector(a=1, b=1, c=0, d=2)]"
      ]
     },
     "execution_count": 7,
     "metadata": {},
     "output_type": "execute_result"
    }
   ],
   "source": [
    "moves = [Qvector(p) for p in set(permutations((2,1,1,0)))]\n",
    "moves"
   ]
  },
  {
   "cell_type": "code",
   "execution_count": 8,
   "id": "e7a2091d",
   "metadata": {},
   "outputs": [],
   "source": [
    "def random_walk(start, steps):\n",
    "    \"\"\"\n",
    "    Randomly move in the 12 CCP directions\n",
    "    for steps times, starting at start\n",
    "    \"\"\"\n",
    "    end = start\n",
    "    for _ in range(steps):\n",
    "        end += choice(moves)\n",
    "    return end \n",
    "\n",
    "vA = random_walk(Qvector((0,0,0,0)), 1000)\n",
    "vB = random_walk(Qvector((0,0,0,0)), 1000)\n",
    "vC = random_walk(Qvector((0,0,0,0)), 1000)\n",
    "vD = random_walk(Qvector((0,0,0,0)), 1000)  "
   ]
  },
  {
   "cell_type": "code",
   "execution_count": 9,
   "id": "b0b45985",
   "metadata": {},
   "outputs": [],
   "source": [
    "ab = (vA-vB).length()\n",
    "ac = (vA-vC).length()\n",
    "ad = (vA-vD).length()\n",
    "bc = (vB-vC).length()\n",
    "cd = (vC-vD).length()\n",
    "bd = (vB-vD).length()"
   ]
  },
  {
   "cell_type": "markdown",
   "id": "a32fbcad",
   "metadata": {},
   "source": [
    "The volume formula used in tv.Tetrahedron operates on the six edge lengths only.  \n",
    "\n",
    "<a data-flickr-embed=\"true\" href=\"https://www.flickr.com/photos/kirbyurner/39391693474/in/photolist-2msgpP9-2ifuQn8-2hvwJt9-2csiBa8-231UJ5S-QrfReH-GNshah-q8vyLo-fwsLq7-fwdt8t-fwsE89-fwsARu-c5RPLS-bH5gvP-8xp1nN-8tm3iL-8teDJ4-8thDyL-8thDHW-8ryECF-8ryEix-8teEm2-8ryyt2-8pNQou-8thE4q-5QyKsS-7jZLhp-8batec-7cXk2G-6n24Ja-5QyKe7\" title=\"Computer Volume\"><img src=\"https://live.staticflickr.com/4672/39391693474_c6c54f3d22.jpg\" width=\"500\" height=\"463\" alt=\"Computer Volume\"></a><script async src=\"//embedr.flickr.com/assets/client-code.js\" charset=\"utf-8\"></script>\n",
    "\n",
    "\n",
    "The formula originally comes from Gerald de Jong, a tensegrity master and an inventor of \"elastic interval geometry\".\n",
    "\n",
    "<a data-flickr-embed=\"true\" href=\"https://www.flickr.com/photos/kirbyurner/49649798053/in/photolist-2iDocbV\" title=\"Pretty Shadows by Gerald de Jong\"><img src=\"https://live.staticflickr.com/65535/49649798053_729ac6bf74_w.jpg\" width=\"400\" height=\"300\" alt=\"Pretty Shadows by Gerald de Jong\"></a><script async src=\"//embedr.flickr.com/assets/client-code.js\" charset=\"utf-8\"></script>"
   ]
  },
  {
   "cell_type": "code",
   "execution_count": 10,
   "id": "0d0ad603",
   "metadata": {},
   "outputs": [
    {
     "data": {
      "text/plain": [
       "11970.000000000318"
      ]
     },
     "execution_count": 10,
     "metadata": {},
     "output_type": "execute_result"
    }
   ],
   "source": [
    "t = tv.Tetrahedron(ab,ac,ad,bc,cd,bd)\n",
    "t.ivm_volume()"
   ]
  },
  {
   "cell_type": "code",
   "execution_count": 11,
   "id": "3cfc070f",
   "metadata": {},
   "outputs": [
    {
     "data": {
      "text/plain": [
       "11970.000000000002"
      ]
     },
     "execution_count": 11,
     "metadata": {},
     "output_type": "execute_result"
    }
   ],
   "source": [
    "volume(vA, vB, vC, vD)"
   ]
  },
  {
   "cell_type": "markdown",
   "id": "3bb134a8",
   "metadata": {},
   "source": [
    "These vestigal rounding errors are annoying.  Lets employ some arbitrary precision numbers, allowing 200 bits per number object.  If you grab a copy of this Notebook and install gmpy2, you will be able to adjust the precision."
   ]
  },
  {
   "cell_type": "code",
   "execution_count": 12,
   "id": "2f8fb835",
   "metadata": {},
   "outputs": [
    {
     "data": {
      "text/plain": [
       "mpfr('73173.999999999999999999999999999999999999999999999999999999674',200)"
      ]
     },
     "execution_count": 12,
     "metadata": {},
     "output_type": "execute_result"
    }
   ],
   "source": [
    "import gmpy2\n",
    "from gmpy2 import mpfr\n",
    "gmpy2.get_context().precision=200\n",
    "z0 = mpfr('0')\n",
    "vA = random_walk(Qvector((z0,z0,z0,z0)), 1000)\n",
    "vB = random_walk(Qvector((z0,z0,z0,z0)), 1000)\n",
    "vC = random_walk(Qvector((z0,z0,z0,z0)), 1000)\n",
    "vD = random_walk(Qvector((z0,z0,z0,z0)), 1000) \n",
    "ab = (vA-vB).length()\n",
    "ac = (vA-vC).length()\n",
    "ad = (vA-vD).length()\n",
    "bc = (vB-vC).length()\n",
    "cd = (vC-vD).length()\n",
    "bd = (vB-vD).length()\n",
    "t = tv.Tetrahedron(ab,ac,ad,bc,cd,bd)\n",
    "t.ivm_volume()"
   ]
  },
  {
   "cell_type": "markdown",
   "id": "84af2b97",
   "metadata": {},
   "source": [
    "Since the inputs to the determinant will be only integers in this situation, force an integer result.  Should match the above.  numpy speeds determinant finding, using short cuts that introduce some entropy.\n",
    "\n",
    "Since we know from other homework that tetrahedrons randomly generated by the method described have integer volume, we're fine with rounding and typecasting to int as a last step, in the version of the volume function below."
   ]
  },
  {
   "cell_type": "code",
   "execution_count": 13,
   "id": "82fdb46a",
   "metadata": {},
   "outputs": [],
   "source": [
    "def volume(q0, q1, q2, q3):\n",
    "    A = np.ones((5,5), dtype=np.int64)\n",
    "    A[4,4] = 0\n",
    "    A[0,0:4] = q0.coords\n",
    "    A[1,0:4] = q1.coords\n",
    "    A[2,0:4] = q2.coords\n",
    "    A[3,0:4] = q3.coords\n",
    "    print(A)\n",
    "    return int(round(abs(np.linalg.det(A))/4))"
   ]
  },
  {
   "cell_type": "code",
   "execution_count": 14,
   "id": "6003d9be",
   "metadata": {},
   "outputs": [
    {
     "name": "stdout",
     "output_type": "stream",
     "text": [
      "[[ 6  0 17 37  1]\n",
      " [ 0 54 61 25  1]\n",
      " [45 40  0 23  1]\n",
      " [69  0 27 20  1]\n",
      " [ 1  1  1  1  0]]\n"
     ]
    },
    {
     "data": {
      "text/plain": [
       "73174"
      ]
     },
     "execution_count": 14,
     "metadata": {},
     "output_type": "execute_result"
    }
   ],
   "source": [
    "volume(vA, vB, vC, vD)"
   ]
  },
  {
   "cell_type": "markdown",
   "id": "bfa3129b",
   "metadata": {},
   "source": [
    "For further reading:\n",
    "\n",
    "* [Random Walk in the Matrix](https://nbviewer.org/github/4dsolutions/elite_school/blob/master/Quadrays.ipynb)\n",
    "* [The Quadray Papers](http://grunch.net/synergetics/quadrays.html)\n",
    "* [Quadray Coordinates on Wikipedia](https://en.wikipedia.org/wiki/Quadray_coordinates)\n",
    "* [Cartesian Coordinates and simplicial coordinates](https://minortriad.com/q4d.html)"
   ]
  }
 ],
 "metadata": {
  "kernelspec": {
   "display_name": "Python 3",
   "language": "python",
   "name": "python3"
  },
  "language_info": {
   "codemirror_mode": {
    "name": "ipython",
    "version": 3
   },
   "file_extension": ".py",
   "mimetype": "text/x-python",
   "name": "python",
   "nbconvert_exporter": "python",
   "pygments_lexer": "ipython3",
   "version": "3.7.9"
  }
 },
 "nbformat": 4,
 "nbformat_minor": 5
}
