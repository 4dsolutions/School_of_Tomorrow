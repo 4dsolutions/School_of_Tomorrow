{
 "cells": [
  {
   "cell_type": "markdown",
   "id": "e7d4b9ef-8ba1-4e0c-a130-13cbf06f6084",
   "metadata": {},
   "source": [
    "[Oregon Curriculum Network](http://4dsolutions.net/ocn/)<br />\n",
    "[Home Page](School_of_Tomorrow.ipynb)\n",
    "\n",
    "# Tetravolumes with Quadrays\n",
    "\n",
    "I'm testing a new Qvectors enhancement, suggested to me by Tom Ace:\n",
    "\n",
    "$$\n",
    "V_{ivm} = (1/4) \n",
    "\\begin{vmatrix}\n",
    "a0&a1&a2&a3&1\\\\\n",
    "b0&b1&b2&b3&1\\\\\n",
    "c0&c1&c2&c3&1\\\\\n",
    "d0&d1&d2&d3&1\\\\\n",
    "1&1&1&1&0\\\\\n",
    "\\end{vmatrix}\n",
    "$$\n",
    "<br />\n",
    "Take the absolute value of that determinant if you wish only positive values for the tetrahedron's tetravolume.\n",
    "\n",
    "What tetrahedron?\n",
    "\n",
    "The one defined by the four Quadrays or Qvectors embedded as the first four rows in the matrix.\n",
    "\n",
    "What's a Quadray?\n",
    "\n",
    "## Quadrays \n",
    "Each Qvector is defined using 4-tuples representing 4 positively scaled and additively combined elementary rays. \n",
    "\n",
    "These four elementary rays originate from the origin (0,0,0,0) and go to the 4 corners of a regular tetrahedron: (1,0,0,0) (0,1,0,0) (0,0,1,0) and (0,0,0,1). See Figure 1."
   ]
  },
  {
   "cell_type": "markdown",
   "id": "39a8db77-c5d4-4126-9f15-d5877c207bd8",
   "metadata": {},
   "source": [
    "Tools we'll need:"
   ]
  },
  {
   "cell_type": "code",
   "execution_count": 1,
   "id": "a025b6ed",
   "metadata": {},
   "outputs": [],
   "source": [
    "import numpy as np\n",
    "from qrays import Qvector\n",
    "from random import choice\n",
    "from itertools import permutations\n",
    "import tetravolume as tv"
   ]
  },
  {
   "cell_type": "markdown",
   "id": "a6baf54f-fadd-4126-8c38-e3c8232b8b24",
   "metadata": {},
   "source": [
    "The four elementary Qvectors:"
   ]
  },
  {
   "cell_type": "code",
   "execution_count": 2,
   "id": "674b4550-7d09-4ad1-9fb9-6b4774e6a0f2",
   "metadata": {},
   "outputs": [],
   "source": [
    "a = Qvector((1,0,0,0))\n",
    "b = Qvector((0,1,0,0))\n",
    "c = Qvector((0,0,1,0))\n",
    "d = Qvector((0,0,0,1))"
   ]
  },
  {
   "cell_type": "markdown",
   "id": "42646b3e-1c09-40fd-99b3-ff811308a240",
   "metadata": {},
   "source": [
    "Linear combinations of these four elementary rays yield a unique positive 4-tuple in canonical form -- representing an equivalence class -- corresponding to every (x, y, z) coordinate in ${\\mathbb{R}}^{3}$.\n",
    "\n",
    "In this implementation of Qvectors, the resulting home base tetrahedron is what has edges 1, not the elementary Qvectors.  An XYZ unit cube will be introduced below with half this edge length, i.e. 1R instead of 1D.\n",
    "\n",
    "<a data-flickr-embed=\"true\" href=\"https://www.flickr.com/photos/kirbyurner/4723083407/\" title=\"Quadray Coordinates\"><img src=\"https://live.staticflickr.com/1213/4723083407_2ccf6bc229_w.jpg\" width=\"400\" height=\"350\" alt=\"Quadray Coordinates\"></a><script async src=\"//embedr.flickr.com/assets/client-code.js\" charset=\"utf-8\"></script>\n",
    "\n",
    "*Figure 1*"
   ]
  },
  {
   "cell_type": "code",
   "execution_count": 3,
   "id": "e355c095-3722-4fcc-aaa7-3aa00d1cd61b",
   "metadata": {},
   "outputs": [
    {
     "data": {
      "text/plain": [
       "1.0"
      ]
     },
     "execution_count": 3,
     "metadata": {},
     "output_type": "execute_result"
    }
   ],
   "source": [
    "(a-b).length()"
   ]
  },
  {
   "cell_type": "markdown",
   "id": "d7ecf720-4482-4c65-a158-1e77d23b3586",
   "metadata": {},
   "source": [
    "## Tetravolumes"
   ]
  },
  {
   "cell_type": "markdown",
   "id": "d4d24fc1-110f-4205-9fe7-3e883081b067",
   "metadata": {},
   "source": [
    "What about \"tetravolume\"?  That's where we take a tetrahedron of edges 1, as unit volume, or edges 2 if measuring in radians (radii).  \n",
    "\n",
    "The Quadrays in question have been geared to operate in such a namespace, i.e. the balls below have radius R, diameter D, D = 2R.  That's our home base tetrahedron with (0,0,0,0) at its center of gravity.\n",
    "\n",
    "<a data-flickr-embed=\"true\" href=\"https://www.flickr.com/photos/kirbyurner/4949801610/in/photolist-2m29ojG-5DsYaY-2i3qGpP-8EDNfx-8xp2z5-6wUiRq\" title=\"Sphere Packing\"><img src=\"https://live.staticflickr.com/4146/4949801610_da3fc94b2c_n.jpg\" width=\"240\" height=\"320\" alt=\"Sphere Packing\"></a><script async src=\"//embedr.flickr.com/assets/client-code.js\" charset=\"utf-8\"></script>\n",
    "\n",
    "*Figure 2*"
   ]
  },
  {
   "cell_type": "code",
   "execution_count": 4,
   "id": "4f58fd97",
   "metadata": {},
   "outputs": [
    {
     "name": "stdout",
     "output_type": "stream",
     "text": [
      "ivm_vector(a=1, b=0, c=0, d=0)\n",
      "ivm_vector(a=0, b=1, c=0, d=0)\n",
      "ivm_vector(a=0, b=0, c=1, d=0)\n",
      "ivm_vector(a=0, b=0, c=0, d=1)\n"
     ]
    }
   ],
   "source": [
    "for q in a,b,c,d:  \n",
    "    print(q.coords)"
   ]
  },
  {
   "cell_type": "code",
   "execution_count": 5,
   "id": "5547ceff-cb15-4cef-867d-582bd9ccaba0",
   "metadata": {},
   "outputs": [
    {
     "name": "stdout",
     "output_type": "stream",
     "text": [
      "xyz_vector(x=0.35355339059327373, y=0.35355339059327373, z=0.35355339059327373)\n",
      "xyz_vector(x=-0.35355339059327373, y=-0.35355339059327373, z=0.35355339059327373)\n",
      "xyz_vector(x=-0.35355339059327373, y=0.35355339059327373, z=-0.35355339059327373)\n",
      "xyz_vector(x=0.35355339059327373, y=-0.35355339059327373, z=-0.35355339059327373)\n"
     ]
    }
   ],
   "source": [
    "for q in a,b,c,d:  \n",
    "    print(q.xyz.xyz)"
   ]
  },
  {
   "cell_type": "markdown",
   "id": "f6d3968a-84c3-44dd-a1a9-d8bf3b905d87",
   "metadata": {},
   "source": [
    "Now lets get down to the business of testing:"
   ]
  },
  {
   "cell_type": "code",
   "execution_count": 6,
   "id": "eff1c2fa",
   "metadata": {},
   "outputs": [],
   "source": [
    "def volume(q0, q1, q2, q3):\n",
    "    \"\"\"\n",
    "    Construct a 5x5 matrix per Tom Ace\n",
    "    \"\"\"\n",
    "    A = np.ones((5,5)) # shape, all 1s except..\n",
    "    A[4,4] = 0 # zero in lower right corner\n",
    "    A[0,0:4] = q0.coords\n",
    "    A[1,0:4] = q1.coords\n",
    "    A[2,0:4] = q2.coords\n",
    "    A[3,0:4] = q3.coords\n",
    "    print(A) # comment out?\n",
    "    return abs(np.linalg.det(A))/4 # that's it!"
   ]
  },
  {
   "cell_type": "markdown",
   "id": "5c1e947f",
   "metadata": {},
   "source": [
    "Do we get back the expected unit-volume?"
   ]
  },
  {
   "cell_type": "code",
   "execution_count": 7,
   "id": "37899fa6",
   "metadata": {},
   "outputs": [
    {
     "name": "stdout",
     "output_type": "stream",
     "text": [
      "[[1. 0. 0. 0. 1.]\n",
      " [0. 1. 0. 0. 1.]\n",
      " [0. 0. 1. 0. 1.]\n",
      " [0. 0. 0. 1. 1.]\n",
      " [1. 1. 1. 1. 0.]]\n"
     ]
    },
    {
     "data": {
      "text/plain": [
       "1.0"
      ]
     },
     "execution_count": 7,
     "metadata": {},
     "output_type": "execute_result"
    }
   ],
   "source": [
    "volume(a,b,c,d)"
   ]
  },
  {
   "cell_type": "markdown",
   "id": "ab052e87",
   "metadata": {},
   "source": [
    "Double all Qvector lengths..."
   ]
  },
  {
   "cell_type": "code",
   "execution_count": 8,
   "id": "c2486671",
   "metadata": {},
   "outputs": [],
   "source": [
    "e, f, g, h = map(lambda q: 2 * q, (a,b,c,d))"
   ]
  },
  {
   "cell_type": "markdown",
   "id": "8b773090",
   "metadata": {},
   "source": [
    "Volume is 8-folded..."
   ]
  },
  {
   "cell_type": "code",
   "execution_count": 9,
   "id": "1402aaf1-af7a-4b22-896d-7f756015595f",
   "metadata": {},
   "outputs": [
    {
     "name": "stdout",
     "output_type": "stream",
     "text": [
      "[[2. 0. 0. 0. 1.]\n",
      " [0. 2. 0. 0. 1.]\n",
      " [0. 0. 2. 0. 1.]\n",
      " [0. 0. 0. 2. 1.]\n",
      " [1. 1. 1. 1. 0.]]\n"
     ]
    },
    {
     "data": {
      "text/plain": [
       "8.0"
      ]
     },
     "execution_count": 9,
     "metadata": {},
     "output_type": "execute_result"
    }
   ],
   "source": [
    "volume(e, f, g, h)"
   ]
  },
  {
   "cell_type": "markdown",
   "id": "cdfa03e4-2156-4e26-96e0-3d11d2eb12bc",
   "metadata": {},
   "source": [
    "## Random Tetrahedrons in the IVM"
   ]
  },
  {
   "cell_type": "markdown",
   "id": "9d037bd1",
   "metadata": {},
   "source": [
    "Create the 12 directions to neighoring balls in a ball packing.\n",
    "\n",
    "<a data-flickr-embed=\"true\" href=\"https://www.flickr.com/photos/kirbyurner/51522139740/in/photolist-8thDyL-2muQr99-2msgzQd-2msj6xS-2mgJNog-2m44aqr-22yg9uX-FMLvQQ-NzckH4-EPg3Ag-CMbRqK-dMGmVw-agu9Xx-8xp2z5-8vatB3-8ti2xi-8oX85J-6Wcvue-5QyKim\" title=\"Growing Sphere Packing\"><img src=\"https://live.staticflickr.com/65535/51522139740_b16f97cc96_m.jpg\" width=\"225\" height=\"210\" alt=\"Growing Sphere Packing\"></a><script async src=\"//embedr.flickr.com/assets/client-code.js\" charset=\"utf-8\"></script>\n",
    "\n",
    "*Figure 3:  CCP*"
   ]
  },
  {
   "cell_type": "code",
   "execution_count": 10,
   "id": "d4fdcc0c",
   "metadata": {},
   "outputs": [
    {
     "data": {
      "text/plain": [
       "[ivm_vector(a=0, b=1, c=1, d=2),\n",
       " ivm_vector(a=1, b=0, c=1, d=2),\n",
       " ivm_vector(a=2, b=0, c=1, d=1),\n",
       " ivm_vector(a=0, b=2, c=1, d=1),\n",
       " ivm_vector(a=0, b=1, c=2, d=1),\n",
       " ivm_vector(a=1, b=2, c=1, d=0),\n",
       " ivm_vector(a=1, b=1, c=2, d=0),\n",
       " ivm_vector(a=2, b=1, c=1, d=0),\n",
       " ivm_vector(a=1, b=0, c=2, d=1),\n",
       " ivm_vector(a=1, b=2, c=0, d=1),\n",
       " ivm_vector(a=2, b=1, c=0, d=1),\n",
       " ivm_vector(a=1, b=1, c=0, d=2)]"
      ]
     },
     "execution_count": 10,
     "metadata": {},
     "output_type": "execute_result"
    }
   ],
   "source": [
    "moves = [Qvector(p) for p in set(permutations((2,1,1,0)))]\n",
    "moves"
   ]
  },
  {
   "cell_type": "code",
   "execution_count": 11,
   "id": "e7a2091d",
   "metadata": {},
   "outputs": [],
   "source": [
    "def random_walk(start, steps):\n",
    "    \"\"\"\n",
    "    Randomly move in the 12 CCP directions\n",
    "    for steps times, starting at start\n",
    "    \"\"\"\n",
    "    end = start\n",
    "    for _ in range(steps):\n",
    "        end += choice(moves)\n",
    "    return end \n",
    "\n",
    "vA = random_walk(Qvector((0,0,0,0)), 1000)\n",
    "vB = random_walk(Qvector((0,0,0,0)), 1000)\n",
    "vC = random_walk(Qvector((0,0,0,0)), 1000)\n",
    "vD = random_walk(Qvector((0,0,0,0)), 1000)  "
   ]
  },
  {
   "cell_type": "code",
   "execution_count": 12,
   "id": "b0b45985",
   "metadata": {},
   "outputs": [],
   "source": [
    "ab = (vA-vB).length()\n",
    "ac = (vA-vC).length()\n",
    "ad = (vA-vD).length()\n",
    "bc = (vB-vC).length()\n",
    "cd = (vC-vD).length()\n",
    "bd = (vB-vD).length()"
   ]
  },
  {
   "cell_type": "markdown",
   "id": "a32fbcad",
   "metadata": {},
   "source": [
    "The volume formula used in tv.Tetrahedron operates on the six edge lengths only.  \n",
    "\n",
    "<a data-flickr-embed=\"true\" href=\"https://www.flickr.com/photos/kirbyurner/39391693474/in/photolist-2msgpP9-2ifuQn8-2hvwJt9-2csiBa8-231UJ5S-QrfReH-GNshah-q8vyLo-fwsLq7-fwdt8t-fwsE89-fwsARu-c5RPLS-bH5gvP-8xp1nN-8tm3iL-8teDJ4-8thDyL-8thDHW-8ryECF-8ryEix-8teEm2-8ryyt2-8pNQou-8thE4q-5QyKsS-7jZLhp-8batec-7cXk2G-6n24Ja-5QyKe7\" title=\"Computer Volume\"><img src=\"https://live.staticflickr.com/4672/39391693474_c6c54f3d22.jpg\" width=\"500\" height=\"463\" alt=\"Computer Volume\"></a><script async src=\"//embedr.flickr.com/assets/client-code.js\" charset=\"utf-8\"></script>\n",
    "\n",
    "*Figure 4: Gerald's Volume Formula*\n",
    "\n",
    "\n",
    "The formula originally comes from Gerald de Jong, a tensegrity master and an inventor of \"elastic interval geometry\".\n",
    "\n",
    "My taking the absolute value in the last line is unnecessary in this case as the result is positive if the tetrahedron is possible at all.\n",
    "\n",
    "<a data-flickr-embed=\"true\" href=\"https://www.flickr.com/photos/kirbyurner/49649798053/in/photolist-2iDocbV\" title=\"Pretty Shadows by Gerald de Jong\"><img src=\"https://live.staticflickr.com/65535/49649798053_729ac6bf74_w.jpg\" width=\"400\" height=\"300\" alt=\"Pretty Shadows by Gerald de Jong\"></a><script async src=\"//embedr.flickr.com/assets/client-code.js\" charset=\"utf-8\"></script>\n",
    "\n",
    "*Figure 5: Computer Rendered Tensegrity by Gerald de Jong*"
   ]
  },
  {
   "cell_type": "code",
   "execution_count": 13,
   "id": "0d0ad603",
   "metadata": {},
   "outputs": [
    {
     "data": {
      "text/plain": [
       "5235.0"
      ]
     },
     "execution_count": 13,
     "metadata": {},
     "output_type": "execute_result"
    }
   ],
   "source": [
    "t = tv.Tetrahedron(ab,ac,ad,bc,cd,bd)\n",
    "t.ivm_volume()"
   ]
  },
  {
   "cell_type": "code",
   "execution_count": 14,
   "id": "3cfc070f",
   "metadata": {},
   "outputs": [
    {
     "name": "stdout",
     "output_type": "stream",
     "text": [
      "[[59.  0. 51. 18.  1.]\n",
      " [ 0.  6. 37.  5.  1.]\n",
      " [24. 31.  0. 25.  1.]\n",
      " [ 3. 14.  0.  3.  1.]\n",
      " [ 1.  1.  1.  1.  0.]]\n"
     ]
    },
    {
     "data": {
      "text/plain": [
       "5235.000000000003"
      ]
     },
     "execution_count": 14,
     "metadata": {},
     "output_type": "execute_result"
    }
   ],
   "source": [
    "volume(vA, vB, vC, vD)"
   ]
  },
  {
   "cell_type": "markdown",
   "id": "3bb134a8",
   "metadata": {},
   "source": [
    "These vestigal rounding errors are annoying.  Lets employ some arbitrary precision numbers, allowing 200 bits per number object.  If you grab a copy of this Notebook and install gmpy2, you will be able to adjust the precision."
   ]
  },
  {
   "cell_type": "code",
   "execution_count": 15,
   "id": "2f8fb835",
   "metadata": {},
   "outputs": [
    {
     "data": {
      "text/plain": [
       "mpfr('64935.0',200)"
      ]
     },
     "execution_count": 15,
     "metadata": {},
     "output_type": "execute_result"
    }
   ],
   "source": [
    "import gmpy2\n",
    "from gmpy2 import mpfr\n",
    "gmpy2.get_context().precision=200\n",
    "z0 = mpfr('0')\n",
    "vA = random_walk(Qvector((z0,z0,z0,z0)), 1000)\n",
    "vB = random_walk(Qvector((z0,z0,z0,z0)), 1000)\n",
    "vC = random_walk(Qvector((z0,z0,z0,z0)), 1000)\n",
    "vD = random_walk(Qvector((z0,z0,z0,z0)), 1000) \n",
    "ab = (vA-vB).length()\n",
    "ac = (vA-vC).length()\n",
    "ad = (vA-vD).length()\n",
    "bc = (vB-vC).length()\n",
    "cd = (vC-vD).length()\n",
    "bd = (vB-vD).length()\n",
    "t = tv.Tetrahedron(ab,ac,ad,bc,cd,bd)\n",
    "t.ivm_volume()"
   ]
  },
  {
   "cell_type": "markdown",
   "id": "84af2b97",
   "metadata": {},
   "source": [
    "Since the inputs to the determinant below will be only integers in this situation, it's OK to force an integer result.  If the algorithm is correct, its output should match the above.  Why float answers in the first place?  numpy speeds determinant finding, using time-saving short cuts that introduce some entropy.\n",
    "\n",
    "Since we know from other homework that tetrahedrons randomly generated by the method described have integer volumes, we're fine with rounding and typecasting to int as a last step, in the version of the volume function below."
   ]
  },
  {
   "cell_type": "code",
   "execution_count": 16,
   "id": "82fdb46a",
   "metadata": {},
   "outputs": [],
   "source": [
    "def ivm_volume(q0, q1, q2, q3, dtype=np.float):\n",
    "    \"\"\"\n",
    "    improved:  more flexible as to element type\n",
    "    \"\"\"\n",
    "    A = np.ones((5,5), dtype)\n",
    "    A[4,4] = 0\n",
    "    A[0,0:4] = q0.coords\n",
    "    A[1,0:4] = q1.coords\n",
    "    A[2,0:4] = q2.coords\n",
    "    A[3,0:4] = q3.coords\n",
    "    print(A)\n",
    "    return abs(np.linalg.det(A))/4"
   ]
  },
  {
   "cell_type": "code",
   "execution_count": 17,
   "id": "6003d9be",
   "metadata": {},
   "outputs": [
    {
     "name": "stdout",
     "output_type": "stream",
     "text": [
      "[[52  0 39  9  1]\n",
      " [ 0 12 22 22  1]\n",
      " [61 77  0 18  1]\n",
      " [ 0 57 49 22  1]\n",
      " [ 1  1  1  1  0]]\n"
     ]
    },
    {
     "data": {
      "text/plain": [
       "64935"
      ]
     },
     "execution_count": 17,
     "metadata": {},
     "output_type": "execute_result"
    }
   ],
   "source": [
    "int(round(ivm_volume(vA, vB, vC, vD, np.int64)))"
   ]
  },
  {
   "cell_type": "markdown",
   "id": "adc596a7-0cc6-4d88-ac57-83a82b23c598",
   "metadata": {},
   "source": [
    "Lets express three vectors emanating from a common origin (0,0,0,0) as if from the corner of a regular tetrahedron.  The Qvectors in question, each of unit length, would be:"
   ]
  },
  {
   "cell_type": "code",
   "execution_count": 18,
   "id": "f2216a6c-ec49-4fce-8ecf-bbf946374c69",
   "metadata": {},
   "outputs": [],
   "source": [
    "o = Qvector((0,0,0,0)) # origin\n",
    "p = Qvector((2,1,0,1)) # reg tet edge\n",
    "q = Qvector((2,1,1,0)) # ditto\n",
    "r = Qvector((2,0,1,1)) # ditto"
   ]
  },
  {
   "cell_type": "code",
   "execution_count": 19,
   "id": "a0dc874c-978b-4063-8eea-4428c4467de0",
   "metadata": {},
   "outputs": [
    {
     "data": {
      "text/plain": [
       "1.0"
      ]
     },
     "execution_count": 19,
     "metadata": {},
     "output_type": "execute_result"
    }
   ],
   "source": [
    "p.length()"
   ]
  },
  {
   "cell_type": "code",
   "execution_count": 20,
   "id": "fb02f593-20ef-48e6-b469-a89d81152df7",
   "metadata": {},
   "outputs": [
    {
     "name": "stdout",
     "output_type": "stream",
     "text": [
      "[[0 0 0 0 1]\n",
      " [2 1 0 1 1]\n",
      " [2 1 1 0 1]\n",
      " [2 0 1 1 1]\n",
      " [1 1 1 1 0]]\n"
     ]
    },
    {
     "data": {
      "text/plain": [
       "1"
      ]
     },
     "execution_count": 20,
     "metadata": {},
     "output_type": "execute_result"
    }
   ],
   "source": [
    "int(round(ivm_volume(o, p, q, r, np.int64 )))"
   ]
  },
  {
   "cell_type": "markdown",
   "id": "912a64fe-a6fc-4d42-8982-c72ef953554e",
   "metadata": {},
   "source": [
    "Now we can show our \"closing the lid\" volume operation, by scaling those 3 edges as if they were XYZ elementary basis vectors, for an analagous tetrahedron.\n",
    "\n",
    "<a data-flickr-embed=\"true\" href=\"https://www.flickr.com/photos/kirbyurner/41211295565/in/photolist-M3HF83-LwqV6h-25A37wJ-25MGEoH-WBrp4M-SB9x6G-SYjFPy-EPg3Ag-AnMgUH-AnM3Vr-A5F7Xc-A5zkx5-zqhPtk-Aob4CP-A5zkZN-A5F5Vg-A5F5ip-zCJpe6-zz6Qp9-pYjwL8\" title=\"Martian Multiplication\"><img src=\"https://live.staticflickr.com/907/41211295565_59145e2f63.jpg\" width=\"500\" height=\"312\" alt=\"Martian Multiplication\"></a><script async src=\"//embedr.flickr.com/assets/client-code.js\" charset=\"utf-8\"></script>\n",
    "\n",
    "*Figure 6:  \"closing the lid\" 2 x 2 x 5 = 20*"
   ]
  },
  {
   "cell_type": "code",
   "execution_count": 21,
   "id": "a23859c4-6681-4a53-adce-465096c62cc4",
   "metadata": {},
   "outputs": [
    {
     "name": "stdout",
     "output_type": "stream",
     "text": [
      "[[ 0  0  0  0  1]\n",
      " [10  5  0  5  1]\n",
      " [ 4  2  2  0  1]\n",
      " [ 4  0  2  2  1]\n",
      " [ 1  1  1  1  0]]\n"
     ]
    },
    {
     "data": {
      "text/plain": [
       "20"
      ]
     },
     "execution_count": 21,
     "metadata": {},
     "output_type": "execute_result"
    }
   ],
   "source": [
    "# edges from origin:  2, 2, and 5\n",
    "tet = (o, 5*p, 2*q, 2*r)\n",
    "int(round(ivm_volume(*tet, dtype= np.int64)))"
   ]
  },
  {
   "cell_type": "markdown",
   "id": "8688c3f8-5013-4c0e-8cbc-8afd77265881",
   "metadata": {},
   "source": [
    "## XYZ : IVM Conversion (S3)"
   ]
  },
  {
   "cell_type": "markdown",
   "id": "9b6be643-cb82-4f88-8063-b26c02786455",
   "metadata": {},
   "source": [
    "What happens if we use a more conventional determinant, against the XYZ coordinates of each of simplicial Qvectors?\n",
    "\n",
    "The formula in question is:\n",
    "\n",
    "\n",
    "$$\n",
    "V_{xyz} = (1/6)\n",
    "\\begin{vmatrix}\n",
    "ax&ay&az&1\\\\\n",
    "bx&by&bz&1\\\\\n",
    "cx&cy&cz&1\\\\\n",
    "dx&dy&dz&1\\\\\n",
    "\\end{vmatrix}\n",
    "$$\n",
    "<br />\n",
    "\n",
    "The four rows of the matrix corresponding to the four tetrahedron corners, with their XYZ coordinates.\n",
    "\n",
    "As above, take the absolute value of that determinant if you need always positive values."
   ]
  },
  {
   "cell_type": "code",
   "execution_count": 22,
   "id": "a1186da3-6cef-4818-8e9b-1660c22e1f49",
   "metadata": {},
   "outputs": [],
   "source": [
    "def xyz_volume(q0, q1, q2, q3, dtype=np.float):\n",
    "    \"\"\"\n",
    "    Takes four Qvectors in D-edge units, outputs \n",
    "    XYZ volume w/r to R-edge unit cube, D = 2R\n",
    "    \n",
    "    q0.xyz -> XYZ Vector v, v.xyz = (x,y,z) namedtuple\n",
    "    \"\"\"\n",
    "    A = np.ones((4,4), dtype)\n",
    "    # get xyz namedtuple from qvectors\n",
    "    A[0,0:3] = (2 * q0).xyz.xyz \n",
    "    A[1,0:3] = (2 * q1).xyz.xyz\n",
    "    A[2,0:3] = (2 * q2).xyz.xyz\n",
    "    A[3,0:3] = (2 * q3).xyz.xyz\n",
    "    print(A)\n",
    "    return abs(np.linalg.det(A))/6"
   ]
  },
  {
   "cell_type": "code",
   "execution_count": 23,
   "id": "92b59814-33d2-4159-8d08-e21912cc003b",
   "metadata": {},
   "outputs": [],
   "source": [
    "S3 = np.sqrt(9/8) # synergetics constant"
   ]
  },
  {
   "cell_type": "markdown",
   "id": "8ce8b36a-7bbd-43d1-b7d5-b06d5f46b772",
   "metadata": {},
   "source": [
    "The thinking behind S3, a conversion constant, is that the edges of the XYZ unit volume cube, are half the length of the unit tetrahedron's.\n",
    "\n",
    "\n",
    "<a data-flickr-embed=\"true\" href=\"https://www.flickr.com/photos/kirbyurner/4903290928/in/album-72157624750749042/\" title=\"Units of Volume\"><img src=\"https://live.staticflickr.com/4136/4903290928_f185b32368.jpg\" width=\"500\" height=\"375\" alt=\"Units of Volume\"></a><script async src=\"//embedr.flickr.com/assets/client-code.js\" charset=\"utf-8\"></script>\n",
    "\n",
    "*Figure 7:  IVM vs XYZ Unit Volumes*"
   ]
  },
  {
   "cell_type": "code",
   "execution_count": 24,
   "id": "aead4c0c-927a-4496-93c4-943e54d9afe0",
   "metadata": {},
   "outputs": [
    {
     "name": "stdout",
     "output_type": "stream",
     "text": [
      "[[0.         2.82842712 2.82842712 1.        ]\n",
      " [0.         0.         0.         1.        ]\n",
      " [2.82842712 0.         2.82842712 1.        ]\n",
      " [7.07106781 7.07106781 0.         1.        ]]\n"
     ]
    },
    {
     "data": {
      "text/plain": [
       "18.85618083164126"
      ]
     },
     "execution_count": 24,
     "metadata": {},
     "output_type": "execute_result"
    }
   ],
   "source": [
    "# XYZ unit cube has edges R, whereas p, q, r were in D units (D = 2R)\n",
    "vol = xyz_volume(2*q, o, 2*p, 5*r)  # same IVM unit tetrahedron, but in R edge cube units\n",
    "vol"
   ]
  },
  {
   "cell_type": "code",
   "execution_count": 25,
   "id": "22206fc8-7887-4030-810a-b8c4fb150de5",
   "metadata": {},
   "outputs": [
    {
     "data": {
      "text/plain": [
       "19.999999999999993"
      ]
     },
     "execution_count": 25,
     "metadata": {},
     "output_type": "execute_result"
    }
   ],
   "source": [
    "vol * S3  # i.e. 20, see Fig. 6"
   ]
  },
  {
   "cell_type": "code",
   "execution_count": 26,
   "id": "fd193e17-f4b7-4f05-ac99-ff043cefc19a",
   "metadata": {},
   "outputs": [
    {
     "name": "stdout",
     "output_type": "stream",
     "text": [
      "[[ 0.70710678  0.70710678  0.70710678  1.        ]\n",
      " [-0.70710678 -0.70710678  0.70710678  1.        ]\n",
      " [-0.70710678  0.70710678 -0.70710678  1.        ]\n",
      " [ 0.70710678 -0.70710678 -0.70710678  1.        ]]\n"
     ]
    },
    {
     "data": {
      "text/plain": [
       "0.9428090415820631"
      ]
     },
     "execution_count": 26,
     "metadata": {},
     "output_type": "execute_result"
    }
   ],
   "source": [
    "vol = xyz_volume(a,b,c,d)\n",
    "vol"
   ]
  },
  {
   "cell_type": "code",
   "execution_count": 27,
   "id": "6155649e-c2b5-4cd6-a501-0e081233cacf",
   "metadata": {},
   "outputs": [
    {
     "data": {
      "text/plain": [
       "0.9999999999999997"
      ]
     },
     "execution_count": 27,
     "metadata": {},
     "output_type": "execute_result"
    }
   ],
   "source": [
    "vol * S3 # i.e. 1"
   ]
  },
  {
   "cell_type": "markdown",
   "id": "bfa3129b",
   "metadata": {},
   "source": [
    "For further reading:\n",
    "\n",
    "* [Random Walk in the Matrix](https://nbviewer.org/github/4dsolutions/elite_school/blob/master/Quadrays.ipynb)\n",
    "* [The Quadray Papers](http://grunch.net/synergetics/quadrays.html)\n",
    "* [Quadray Coordinates on Wikipedia](https://en.wikipedia.org/wiki/Quadray_coordinates)\n",
    "* [Cartesian Coordinates and simplicial coordinates](https://minortriad.com/q4d.html)"
   ]
  }
 ],
 "metadata": {
  "kernelspec": {
   "display_name": "Python 3 (ipykernel)",
   "language": "python",
   "name": "python3"
  },
  "language_info": {
   "codemirror_mode": {
    "name": "ipython",
    "version": 3
   },
   "file_extension": ".py",
   "mimetype": "text/x-python",
   "name": "python",
   "nbconvert_exporter": "python",
   "pygments_lexer": "ipython3",
   "version": "3.11.3"
  }
 },
 "nbformat": 4,
 "nbformat_minor": 5
}
