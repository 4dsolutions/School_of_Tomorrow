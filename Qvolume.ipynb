{
 "cells": [
  {
   "cell_type": "markdown",
   "id": "082227f0",
   "metadata": {},
   "source": [
    "# Tetrahedron Volume with Quadrays\n",
    "\n",
    "Testing a new enhancement shared with me by Tom Ace."
   ]
  },
  {
   "cell_type": "code",
   "execution_count": 1,
   "id": "5d578d00",
   "metadata": {},
   "outputs": [],
   "source": [
    "import numpy as np\n",
    "from qrays import Qvector\n",
    "from random import choice\n",
    "from itertools import permutations\n",
    "import tetravolume as tv"
   ]
  },
  {
   "cell_type": "markdown",
   "id": "e9f9502f",
   "metadata": {},
   "source": [
    "The four quadrays..."
   ]
  },
  {
   "cell_type": "code",
   "execution_count": 2,
   "id": "895e5133",
   "metadata": {},
   "outputs": [],
   "source": [
    "a = Qvector((1,0,0,0))\n",
    "b = Qvector((0,1,0,0))\n",
    "c = Qvector((0,0,1,0))\n",
    "d = Qvector((0,0,0,1))"
   ]
  },
  {
   "cell_type": "code",
   "execution_count": 3,
   "id": "7b9052b2",
   "metadata": {},
   "outputs": [
    {
     "data": {
      "text/plain": [
       "ivm_vector(a=1, b=0, c=0, d=0)"
      ]
     },
     "execution_count": 3,
     "metadata": {},
     "output_type": "execute_result"
    }
   ],
   "source": [
    "a.coords"
   ]
  },
  {
   "cell_type": "code",
   "execution_count": 4,
   "id": "60b22231",
   "metadata": {},
   "outputs": [],
   "source": [
    "def volume(q0, q1, q2, q3):\n",
    "    \"\"\"\n",
    "    Construct a 5x5 matrix per Tom Ace\n",
    "    \"\"\"\n",
    "    A = np.ones((5,5)) # shape, all 1s except..\n",
    "    A[4,4] = 0 # zero in lower right corner\n",
    "    A[0,0:4] = q0.coords\n",
    "    A[1,0:4] = q1.coords\n",
    "    A[2,0:4] = q2.coords\n",
    "    A[3,0:4] = q3.coords\n",
    "    return abs(np.linalg.det(A))/4 # that's it!"
   ]
  },
  {
   "cell_type": "markdown",
   "id": "1b5593e6",
   "metadata": {},
   "source": [
    "Getting back the expected unit-volume..."
   ]
  },
  {
   "cell_type": "code",
   "execution_count": 5,
   "id": "847bea6f",
   "metadata": {},
   "outputs": [
    {
     "data": {
      "text/plain": [
       "1.0"
      ]
     },
     "execution_count": 5,
     "metadata": {},
     "output_type": "execute_result"
    }
   ],
   "source": [
    "volume(a,b,c,d)"
   ]
  },
  {
   "cell_type": "markdown",
   "id": "d69d7c8b",
   "metadata": {},
   "source": [
    "Double all Qvector lengths..."
   ]
  },
  {
   "cell_type": "code",
   "execution_count": 6,
   "id": "3d4c2bb9",
   "metadata": {},
   "outputs": [],
   "source": [
    "a, b, c, d = map(lambda q: 2 * q, (a,b,c,d))"
   ]
  },
  {
   "cell_type": "markdown",
   "id": "3192f981",
   "metadata": {},
   "source": [
    "Volume is 8-folded..."
   ]
  },
  {
   "cell_type": "code",
   "execution_count": 7,
   "id": "8a27e30c",
   "metadata": {},
   "outputs": [
    {
     "data": {
      "text/plain": [
       "8.0"
      ]
     },
     "execution_count": 7,
     "metadata": {},
     "output_type": "execute_result"
    }
   ],
   "source": [
    "volume(a,b,c,d)"
   ]
  },
  {
   "cell_type": "markdown",
   "id": "fba0b06c",
   "metadata": {},
   "source": [
    "Create the 12 directions to neighoring balls in a ball packing."
   ]
  },
  {
   "cell_type": "code",
   "execution_count": 8,
   "id": "c071b953",
   "metadata": {},
   "outputs": [
    {
     "data": {
      "text/plain": [
       "[ivm_vector(a=0, b=1, c=1, d=2),\n",
       " ivm_vector(a=1, b=0, c=1, d=2),\n",
       " ivm_vector(a=2, b=0, c=1, d=1),\n",
       " ivm_vector(a=0, b=2, c=1, d=1),\n",
       " ivm_vector(a=0, b=1, c=2, d=1),\n",
       " ivm_vector(a=1, b=2, c=1, d=0),\n",
       " ivm_vector(a=1, b=1, c=2, d=0),\n",
       " ivm_vector(a=2, b=1, c=1, d=0),\n",
       " ivm_vector(a=1, b=0, c=2, d=1),\n",
       " ivm_vector(a=1, b=2, c=0, d=1),\n",
       " ivm_vector(a=2, b=1, c=0, d=1),\n",
       " ivm_vector(a=1, b=1, c=0, d=2)]"
      ]
     },
     "execution_count": 8,
     "metadata": {},
     "output_type": "execute_result"
    }
   ],
   "source": [
    "moves = [Qvector(p) for p in set(permutations((2,1,1,0)))]\n",
    "moves"
   ]
  },
  {
   "cell_type": "code",
   "execution_count": 9,
   "id": "f72177fb",
   "metadata": {},
   "outputs": [],
   "source": [
    "def random_walk(start, steps):\n",
    "    \"\"\"\n",
    "    Randomly move in the 12 CCP directions\n",
    "    for steps times, starting at start\n",
    "    \"\"\"\n",
    "    end = start\n",
    "    for _ in range(steps):\n",
    "        end += choice(moves)\n",
    "    return end \n",
    "\n",
    "vA = random_walk(Qvector((0,0,0,0)), 1000)\n",
    "vB = random_walk(Qvector((0,0,0,0)), 1000)\n",
    "vC = random_walk(Qvector((0,0,0,0)), 1000)\n",
    "vD = random_walk(Qvector((0,0,0,0)), 1000)  "
   ]
  },
  {
   "cell_type": "code",
   "execution_count": 10,
   "id": "9a4c9da6",
   "metadata": {},
   "outputs": [],
   "source": [
    "ab = (vA-vB).length()\n",
    "ac = (vA-vC).length()\n",
    "ad = (vA-vD).length()\n",
    "bc = (vB-vC).length()\n",
    "cd = (vC-vD).length()\n",
    "bd = (vB-vD).length()"
   ]
  },
  {
   "cell_type": "code",
   "execution_count": 11,
   "id": "18e226a0",
   "metadata": {},
   "outputs": [
    {
     "data": {
      "text/plain": [
       "378.00000000126147"
      ]
     },
     "execution_count": 11,
     "metadata": {},
     "output_type": "execute_result"
    }
   ],
   "source": [
    "t = tv.Tetrahedron(ab,ac,ad,bc,cd,bd)\n",
    "t.ivm_volume()"
   ]
  },
  {
   "cell_type": "code",
   "execution_count": 12,
   "id": "63def970",
   "metadata": {},
   "outputs": [
    {
     "data": {
      "text/plain": [
       "378.0000000000005"
      ]
     },
     "execution_count": 12,
     "metadata": {},
     "output_type": "execute_result"
    }
   ],
   "source": [
    "volume(vA, vB, vC, vD)"
   ]
  },
  {
   "cell_type": "code",
   "execution_count": 13,
   "id": "318cd7c9",
   "metadata": {},
   "outputs": [
    {
     "data": {
      "text/plain": [
       "mpfr('11068.0',200)"
      ]
     },
     "execution_count": 13,
     "metadata": {},
     "output_type": "execute_result"
    }
   ],
   "source": [
    "import gmpy2\n",
    "from gmpy2 import mpfr\n",
    "gmpy2.get_context().precision=200\n",
    "z0 = mpfr('0')\n",
    "vA = random_walk(Qvector((z0,z0,z0,z0)), 1000)\n",
    "vB = random_walk(Qvector((z0,z0,z0,z0)), 1000)\n",
    "vC = random_walk(Qvector((z0,z0,z0,z0)), 1000)\n",
    "vD = random_walk(Qvector((z0,z0,z0,z0)), 1000) \n",
    "ab = (vA-vB).length()\n",
    "ac = (vA-vC).length()\n",
    "ad = (vA-vD).length()\n",
    "bc = (vB-vC).length()\n",
    "cd = (vC-vD).length()\n",
    "bd = (vB-vD).length()\n",
    "t = tv.Tetrahedron(ab,ac,ad,bc,cd,bd)\n",
    "t.ivm_volume()"
   ]
  },
  {
   "cell_type": "markdown",
   "id": "554eb782",
   "metadata": {},
   "source": [
    "Since the inputs to the determinant will be only integers in this situation, force an integer result.  Should match the above."
   ]
  },
  {
   "cell_type": "code",
   "execution_count": 14,
   "id": "c412d316",
   "metadata": {},
   "outputs": [],
   "source": [
    "def volume(q0, q1, q2, q3):\n",
    "    A = np.ones((5,5), dtype=np.int64)\n",
    "    A[4,4] = 0\n",
    "    A[0,0:4] = q0.coords\n",
    "    A[1,0:4] = q1.coords\n",
    "    A[2,0:4] = q2.coords\n",
    "    A[3,0:4] = q3.coords\n",
    "    print(A)\n",
    "    return int(round(abs(np.linalg.det(A))/4))"
   ]
  },
  {
   "cell_type": "code",
   "execution_count": 15,
   "id": "9cc14cb8",
   "metadata": {},
   "outputs": [
    {
     "name": "stdout",
     "output_type": "stream",
     "text": [
      "[[ 3 23 14  0  1]\n",
      " [ 0 29 40 19  1]\n",
      " [40 31 29  0  1]\n",
      " [39  0 23 38  1]\n",
      " [ 1  1  1  1  0]]\n"
     ]
    },
    {
     "data": {
      "text/plain": [
       "11068"
      ]
     },
     "execution_count": 15,
     "metadata": {},
     "output_type": "execute_result"
    }
   ],
   "source": [
    "volume(vA, vB, vC, vD)"
   ]
  }
 ],
 "metadata": {
  "kernelspec": {
   "display_name": "Python 3",
   "language": "python",
   "name": "python3"
  },
  "language_info": {
   "codemirror_mode": {
    "name": "ipython",
    "version": 3
   },
   "file_extension": ".py",
   "mimetype": "text/x-python",
   "name": "python",
   "nbconvert_exporter": "python",
   "pygments_lexer": "ipython3",
   "version": "3.7.9"
  }
 },
 "nbformat": 4,
 "nbformat_minor": 5
}
