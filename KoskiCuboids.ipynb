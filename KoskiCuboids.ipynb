{
 "cells": [
  {
   "cell_type": "markdown",
   "id": "eb359a4f-018f-4853-9116-5cb02b957c48",
   "metadata": {},
   "source": [
    "[Oregon Curriculum Network](http://4dsolutions.net/ocn/)<br/>\n",
    "[School of Tomorrow](School_of_Tomorrow.ipynb)<br/>\n",
    "[nbviewer read-only](https://nbviewer.org/github/4dsolutions/School_of_Tomorrow/blob/master/KoskiCuboids.ipynb)<br/>\n",
    "[Colab user-active](https://colab.research.google.com/github/4dsolutions/School_of_Tomorrow/blob/master/KoskiCuboids.ipynb)\n",
    "<br/>"
   ]
  },
  {
   "cell_type": "markdown",
   "id": "942e3cef-56a1-4f06-8c02-6bbcd36f3551",
   "metadata": {},
   "source": [
    "# Koski Cuboids\n",
    "\n",
    "Cuboids are important for generating tetrahedrons. Their edges, face and body diagonals all supply edges, sometimes for tetrahedra \"in situ\" i.e. as parts of the cuboid itself, other times as free standing, but with edges gleaned from the cuboid framework.\n",
    "\n",
    "One important cuboid we've met so far has edges:\n",
    "\n",
    "$$\\sqrt{1} = 1$$\n",
    "$$\\sqrt{2}$$\n",
    "$$\\sqrt{3}$$\n",
    "$$\\sqrt{4} = 2$$\n",
    "$$\\sqrt{5}$$\n",
    "$$\\sqrt{6}$$\n",
    "$$\\sqrt{7}$$\n",
    "\n",
    "where $\\sqrt{7}$ is the length of the body diagonal.\n",
    "\n",
    "Another important cuboid we'll name Kepler's Cuboid\n",
    "\n",
    "--- \n",
    "David Koski, May 28, 2024 at 3:46:52 PM:\n",
    "I like it for many reasons\n",
    "\n",
    "Kepler's cuboid should be \n",
    "\n",
    "$(\\phi^{-1})(1)(\\phi^{1/2})$ \n",
    "\n",
    "Then the body diagonal is rt 3\n",
    "\n",
    "---\n",
    "\n",
    "Now consider yet another brick of two opposing squares, edges 1, diagonal $\\sqrt{2}$, and every other edge $\\phi$. The tetrahedron comprised solely of face the diagonals is the one we might call Kepler's, as each face is a Kepler Triangle."
   ]
  },
  {
   "cell_type": "markdown",
   "id": "db806213-a461-479c-8f76-1b9d88f97a0b",
   "metadata": {},
   "source": [
    "Consider a cabin in the woods with a roof ridge beam of $\\sqrt{2}$. Two flaps slope down, like two wings, such that their tips are $\\sqrt{2}$ spread apart, where they reach the ground."
   ]
  },
  {
   "cell_type": "code",
   "execution_count": 1,
   "id": "cf638506-ee16-4a85-9b28-2a8068d89fef",
   "metadata": {},
   "outputs": [],
   "source": [
    "from sympy import sqrt as rt2"
   ]
  },
  {
   "cell_type": "code",
   "execution_count": 2,
   "id": "b3991b99-e528-4a45-98f3-ce6d05f14152",
   "metadata": {},
   "outputs": [],
   "source": [
    "phi = (rt2(5)+1)/2\n",
    "\n",
    "ridge_pole = rt2(2)\n",
    "floor_pole = rt2(2)\n",
    "flap_edge = phi\n",
    "\n",
    "tet_edges = {\n",
    "    'R0R1': ridge_pole/2, \n",
    "    'R0F0': flap_edge/2,\n",
    "    'R0F1': flap_edge/2, \n",
    "    \"R1F0\": flap_edge/2,\n",
    "    \"R1F1\": flap_edge/2, \n",
    "    \"F0F1\": ridge_pole/2\n",
    "}"
   ]
  },
  {
   "cell_type": "code",
   "execution_count": 3,
   "id": "ef0c03f1-0de9-4572-b765-7543616c7071",
   "metadata": {},
   "outputs": [],
   "source": [
    "from tetravolume import Tetrahedron as Tet"
   ]
  },
  {
   "cell_type": "code",
   "execution_count": 4,
   "id": "0a9a4699-15ee-440b-830e-b1db813e8035",
   "metadata": {},
   "outputs": [],
   "source": [
    "tet = Tet(tet_edges['R0R1'], tet_edges['R0F0'], tet_edges['R0F1'], # apex\n",
    "          tet_edges['R1F0'], tet_edges['F0F1'], tet_edges['R1F1']) # base"
   ]
  },
  {
   "cell_type": "code",
   "execution_count": 5,
   "id": "53fc3070-7101-4c71-9b23-18fea5de26ba",
   "metadata": {},
   "outputs": [
    {
     "data": {
      "text/latex": [
       "$\\displaystyle \\frac{\\sqrt{1 + \\sqrt{5}}}{4}$"
      ],
      "text/plain": [
       "sqrt(1 + sqrt(5))/4"
      ]
     },
     "execution_count": 5,
     "metadata": {},
     "output_type": "execute_result"
    }
   ],
   "source": [
    "tet.ivm_volume().simplify()"
   ]
  },
  {
   "cell_type": "code",
   "execution_count": 6,
   "id": "8069a91d-52f7-4c5c-9eff-09235df74583",
   "metadata": {},
   "outputs": [
    {
     "data": {
      "text/latex": [
       "$\\displaystyle 0.424006549838023$"
      ],
      "text/plain": [
       "0.424006549838023"
      ]
     },
     "execution_count": 6,
     "metadata": {},
     "output_type": "execute_result"
    }
   ],
   "source": [
    "rt2(phi).evalf()/3"
   ]
  },
  {
   "cell_type": "markdown",
   "id": "fab337c9-f79e-4000-80ee-09b6a04e1b00",
   "metadata": {},
   "source": [
    "The IVM volume of the cuboid as a whole will be three times that of this internal tetrahedron or "
   ]
  },
  {
   "cell_type": "code",
   "execution_count": 7,
   "id": "322fe8c2-da43-42d6-8867-b8960f13bef5",
   "metadata": {},
   "outputs": [
    {
     "data": {
      "text/latex": [
       "$\\displaystyle 1.3491805799609$"
      ],
      "text/plain": [
       "1.34918057996090"
      ]
     },
     "execution_count": 7,
     "metadata": {},
     "output_type": "execute_result"
    }
   ],
   "source": [
    "tet.ivm_volume().evalf() * 3"
   ]
  },
  {
   "cell_type": "code",
   "execution_count": 8,
   "id": "9366208b-4e2d-46d0-8528-2b17b0363b31",
   "metadata": {},
   "outputs": [
    {
     "data": {
      "text/latex": [
       "$\\displaystyle 1.27201964951407$"
      ],
      "text/plain": [
       "1.27201964951407"
      ]
     },
     "execution_count": 8,
     "metadata": {},
     "output_type": "execute_result"
    }
   ],
   "source": [
    "tet.xyz_volume().evalf() * 3"
   ]
  },
  {
   "cell_type": "code",
   "execution_count": 9,
   "id": "491613d1-6abb-4557-a45b-399316673484",
   "metadata": {},
   "outputs": [
    {
     "data": {
      "text/latex": [
       "$\\displaystyle 1 + \\sqrt{5}$"
      ],
      "text/plain": [
       "1 + sqrt(5)"
      ]
     },
     "execution_count": 9,
     "metadata": {},
     "output_type": "execute_result"
    }
   ],
   "source": [
    "ridge_pole * ridge_pole * phi"
   ]
  },
  {
   "cell_type": "code",
   "execution_count": 10,
   "id": "1c8502b0-cf48-4cda-87ef-fa74b278e93b",
   "metadata": {},
   "outputs": [
    {
     "data": {
      "text/latex": [
       "$\\displaystyle 1.61803398874989$"
      ],
      "text/plain": [
       "1.61803398874989"
      ]
     },
     "execution_count": 10,
     "metadata": {},
     "output_type": "execute_result"
    }
   ],
   "source": [
    "(1 * phi).evalf()"
   ]
  },
  {
   "cell_type": "code",
   "execution_count": 11,
   "id": "dab368c8-5ab8-4402-b1d9-071478e65dca",
   "metadata": {},
   "outputs": [
    {
     "data": {
      "text/latex": [
       "$\\displaystyle \\frac{\\left(\\frac{1}{2} + \\frac{\\sqrt{5}}{2}\\right)^{3}}{8}$"
      ],
      "text/plain": [
       "(1/2 + sqrt(5)/2)**3/8"
      ]
     },
     "execution_count": 11,
     "metadata": {},
     "output_type": "execute_result"
    }
   ],
   "source": [
    "t = Tet(phi/2, phi/2, phi/2, phi/2, phi/2, phi/2)\n",
    "t.ivm_volume()"
   ]
  },
  {
   "cell_type": "code",
   "execution_count": 12,
   "id": "719b693c-f2e9-4318-91be-fda47ac3b580",
   "metadata": {},
   "outputs": [
    {
     "data": {
      "text/latex": [
       "$\\displaystyle 0.529508497187474$"
      ],
      "text/plain": [
       "0.529508497187474"
      ]
     },
     "execution_count": 12,
     "metadata": {},
     "output_type": "execute_result"
    }
   ],
   "source": [
    "t.ivm_volume().evalf()"
   ]
  },
  {
   "cell_type": "code",
   "execution_count": 13,
   "id": "663ef086-f1ef-4321-b497-0ebdd7d2ed64",
   "metadata": {},
   "outputs": [
    {
     "data": {
      "text/latex": [
       "$\\displaystyle \\frac{\\sqrt{2} \\left(\\frac{1}{2} + \\frac{\\sqrt{5}}{2}\\right)^{3}}{12}$"
      ],
      "text/plain": [
       "sqrt(2)*(1/2 + sqrt(5)/2)**3/12"
      ]
     },
     "execution_count": 13,
     "metadata": {},
     "output_type": "execute_result"
    }
   ],
   "source": [
    "t.xyz_volume()"
   ]
  },
  {
   "cell_type": "code",
   "execution_count": 14,
   "id": "14214f06-ba5c-42ac-a068-53242426a1c0",
   "metadata": {},
   "outputs": [
    {
     "data": {
      "text/latex": [
       "$\\displaystyle \\frac{\\sqrt{2}}{4}$"
      ],
      "text/plain": [
       "sqrt(2)/4"
      ]
     },
     "execution_count": 14,
     "metadata": {},
     "output_type": "execute_result"
    }
   ],
   "source": [
    "root2 = ridge_pole\n",
    "\n",
    "t = Tet(root2/2, root2/2, root2/2, root2/2, root2/2, root2/2)\n",
    "t.ivm_volume()\n"
   ]
  },
  {
   "cell_type": "markdown",
   "id": "22769754-2099-46b0-832a-890fb75cedd2",
   "metadata": {},
   "source": [
    "Same volume as U mod."
   ]
  },
  {
   "cell_type": "markdown",
   "id": "3c373d67-c017-407c-aabb-0b41f1844f44",
   "metadata": {},
   "source": [
    "# Generic Tetrahedrons\n",
    "\n",
    "Consider the case of a tetrahedron with a pair of opposite edges the same length and all other edges another length. The Kepler Tetrahedron of opposite edges $\\sqrt{2}$ and other edges $\\phi$ would qualify.\n",
    "\n",
    "Lets assign symbols a and b, and run the algebra, starting with Pico della Francesca's forumula:"
   ]
  },
  {
   "cell_type": "code",
   "execution_count": 15,
   "id": "bfb68060-02bc-4710-ac68-4ace85314552",
   "metadata": {},
   "outputs": [],
   "source": [
    "from sympy import symbols \n",
    "from tetravolume import PdF, GdJ, CM"
   ]
  },
  {
   "cell_type": "code",
   "execution_count": 16,
   "id": "26e50b1b-af9a-421c-933e-ee20bb57c4ff",
   "metadata": {},
   "outputs": [],
   "source": [
    "a, b = symbols(['a', 'b'])"
   ]
  },
  {
   "cell_type": "code",
   "execution_count": 17,
   "id": "75464669-d2d0-491d-9b13-f60bbc8fcfb8",
   "metadata": {},
   "outputs": [
    {
     "data": {
      "text/latex": [
       "$\\displaystyle \\frac{\\sqrt{768 a^{2} b^{4} - 8 b^{2} \\left(4 a^{2} + 4 b^{2}\\right)^{2}}}{16}$"
      ],
      "text/plain": [
       "sqrt(768*a**2*b**4 - 8*b**2*(4*a**2 + 4*b**2)**2)/16"
      ]
     },
     "execution_count": 17,
     "metadata": {},
     "output_type": "execute_result"
    }
   ],
   "source": [
    "pdf = PdF(a, b, b, b, b, a)\n",
    "pdf"
   ]
  },
  {
   "cell_type": "markdown",
   "id": "0a238a0f-d40c-45d0-9db3-dc14cad26093",
   "metadata": {},
   "source": [
    "That's pretty complicated. Let's see if sympy is able to simplify more."
   ]
  },
  {
   "cell_type": "code",
   "execution_count": 18,
   "id": "0cbcdf9e-a183-40c5-b7e1-bdf4e4297ef1",
   "metadata": {},
   "outputs": [
    {
     "data": {
      "text/latex": [
       "$\\displaystyle \\frac{\\sqrt{2} \\sqrt{b^{2} \\left(- a^{4} + 4 a^{2} b^{2} - b^{4}\\right)}}{2}$"
      ],
      "text/plain": [
       "sqrt(2)*sqrt(b**2*(-a**4 + 4*a**2*b**2 - b**4))/2"
      ]
     },
     "execution_count": 18,
     "metadata": {},
     "output_type": "execute_result"
    }
   ],
   "source": [
    "pdf = pdf.simplify()\n",
    "pdf"
   ]
  },
  {
   "cell_type": "markdown",
   "id": "b5655ecc-bc00-412e-b3dd-7fefdf50eab3",
   "metadata": {},
   "source": [
    "Since my formulae assume D=1 by default, vs D=2, I'll have the edge lengths as above. However what's important in this section is how the algebraic version is always the same, and so of course the numeric outputs are the same given actual numbers for a and b."
   ]
  },
  {
   "cell_type": "code",
   "execution_count": 19,
   "id": "fe1d4414-3fd1-4530-8b39-053b09b30e05",
   "metadata": {},
   "outputs": [
    {
     "data": {
      "text/latex": [
       "$\\displaystyle 0.454288659824679$"
      ],
      "text/plain": [
       "0.454288659824679"
      ]
     },
     "execution_count": 19,
     "metadata": {},
     "output_type": "execute_result"
    }
   ],
   "source": [
    "pdf.evalf(subs = {'a':rt2(2)/2, 'b':phi/2})"
   ]
  },
  {
   "cell_type": "code",
   "execution_count": 20,
   "id": "23d610e6-ac4d-419b-911d-b7c246b03c69",
   "metadata": {},
   "outputs": [
    {
     "data": {
      "text/latex": [
       "$\\displaystyle \\sqrt{\\frac{a^{4} b^{2}}{2} + 3 a^{2} b^{4} - a^{2} b^{2} \\left(a^{2} + b^{2}\\right) - \\frac{b^{6}}{2}}$"
      ],
      "text/plain": [
       "sqrt(a**4*b**2/2 + 3*a**2*b**4 - a**2*b**2*(a**2 + b**2) - b**6/2)"
      ]
     },
     "execution_count": 20,
     "metadata": {},
     "output_type": "execute_result"
    }
   ],
   "source": [
    "gdj = GdJ(a, b, b, b, b, a)\n",
    "gdj"
   ]
  },
  {
   "cell_type": "code",
   "execution_count": 21,
   "id": "6fbaf972-102b-4cbd-9ec7-800dc366f995",
   "metadata": {},
   "outputs": [
    {
     "data": {
      "text/latex": [
       "$\\displaystyle \\frac{\\sqrt{2} \\sqrt{b^{2} \\left(- a^{4} + 4 a^{2} b^{2} - b^{4}\\right)}}{2}$"
      ],
      "text/plain": [
       "sqrt(2)*sqrt(b**2*(-a**4 + 4*a**2*b**2 - b**4))/2"
      ]
     },
     "execution_count": 21,
     "metadata": {},
     "output_type": "execute_result"
    }
   ],
   "source": [
    "gdj = gdj.simplify()\n",
    "gdj"
   ]
  },
  {
   "cell_type": "code",
   "execution_count": 22,
   "id": "b7c1210b-9464-4d4e-9795-1294fc78ae0b",
   "metadata": {},
   "outputs": [
    {
     "data": {
      "text/latex": [
       "$\\displaystyle \\frac{\\sqrt{- 128 a^{4} b^{2} + 512 a^{2} b^{4} - 128 b^{6}}}{16}$"
      ],
      "text/plain": [
       "sqrt(-128*a**4*b**2 + 512*a**2*b**4 - 128*b**6)/16"
      ]
     },
     "execution_count": 22,
     "metadata": {},
     "output_type": "execute_result"
    }
   ],
   "source": [
    "cm = CM(a, b, b, b, b, a)\n",
    "cm"
   ]
  },
  {
   "cell_type": "code",
   "execution_count": 23,
   "id": "2c9cc7a1-d46b-471b-8b61-67addfe43448",
   "metadata": {},
   "outputs": [
    {
     "data": {
      "text/latex": [
       "$\\displaystyle \\frac{\\sqrt{2} \\sqrt{b^{2} \\left(- a^{4} + 4 a^{2} b^{2} - b^{4}\\right)}}{2}$"
      ],
      "text/plain": [
       "sqrt(2)*sqrt(b**2*(-a**4 + 4*a**2*b**2 - b**4))/2"
      ]
     },
     "execution_count": 23,
     "metadata": {},
     "output_type": "execute_result"
    }
   ],
   "source": [
    "cm = cm.simplify()\n",
    "cm"
   ]
  },
  {
   "cell_type": "code",
   "execution_count": 24,
   "id": "55faae6c-88a4-4a4e-8f4e-cda9c5aeda58",
   "metadata": {},
   "outputs": [
    {
     "data": {
      "text/latex": [
       "$\\displaystyle 0.454288659824679$"
      ],
      "text/plain": [
       "0.454288659824679"
      ]
     },
     "execution_count": 24,
     "metadata": {},
     "output_type": "execute_result"
    }
   ],
   "source": [
    "pdf.evalf(subs = {'a':rt2(2)/2, 'b':phi/2})"
   ]
  },
  {
   "cell_type": "code",
   "execution_count": 25,
   "id": "6162b2ec-9527-436a-b992-9c20c2f760bb",
   "metadata": {},
   "outputs": [
    {
     "data": {
      "text/latex": [
       "$\\displaystyle 0.454288659824679$"
      ],
      "text/plain": [
       "0.454288659824679"
      ]
     },
     "execution_count": 25,
     "metadata": {},
     "output_type": "execute_result"
    }
   ],
   "source": [
    "gdj.evalf(subs = {'a':rt2(2)/2, 'b':phi/2})"
   ]
  },
  {
   "cell_type": "code",
   "execution_count": 26,
   "id": "99f7cd2e-d546-4a41-845a-0691cecadf6d",
   "metadata": {},
   "outputs": [
    {
     "data": {
      "text/latex": [
       "$\\displaystyle 0.454288659824679$"
      ],
      "text/plain": [
       "0.454288659824679"
      ]
     },
     "execution_count": 26,
     "metadata": {},
     "output_type": "execute_result"
    }
   ],
   "source": [
    "cm.evalf(subs = {'a':rt2(2)/2, 'b':phi/2})"
   ]
  },
  {
   "cell_type": "code",
   "execution_count": 27,
   "id": "fbbc39c3-fbc8-4efa-9acf-e3201647c695",
   "metadata": {},
   "outputs": [
    {
     "name": "stdout",
     "output_type": "stream",
     "text": [
      "sqrt(2)*sqrt(b**2*(-a**4 + 4*a**2*b**2 - b**4))/2\n"
     ]
    }
   ],
   "source": [
    "print(pdf)"
   ]
  },
  {
   "cell_type": "markdown",
   "id": "6432164a-c7e0-4cd1-a3b7-2cc7b66b0a08",
   "metadata": {},
   "source": [
    "What's the forumla when all the edges are the same?"
   ]
  },
  {
   "cell_type": "code",
   "execution_count": 28,
   "id": "9ab95506-1245-432a-988d-4d4ca1e5d974",
   "metadata": {},
   "outputs": [
    {
     "data": {
      "text/latex": [
       "$\\displaystyle \\sqrt{a^{6}}$"
      ],
      "text/plain": [
       "sqrt(a**6)"
      ]
     },
     "execution_count": 28,
     "metadata": {},
     "output_type": "execute_result"
    }
   ],
   "source": [
    "pdf = PdF(a, a, a, a, a, a)\n",
    "pdf"
   ]
  },
  {
   "cell_type": "code",
   "execution_count": 29,
   "id": "6a26657a-fb49-4c8b-a025-c3e805acbe44",
   "metadata": {},
   "outputs": [
    {
     "data": {
      "text/latex": [
       "$\\displaystyle \\sqrt{a^{6}}$"
      ],
      "text/plain": [
       "sqrt(a**6)"
      ]
     },
     "execution_count": 29,
     "metadata": {},
     "output_type": "execute_result"
    }
   ],
   "source": [
    "pdf.simplify()"
   ]
  },
  {
   "cell_type": "markdown",
   "id": "2e4c1df7-324b-423c-b02a-cbaba6f219ba",
   "metadata": {},
   "source": [
    "Obviously $a^3$."
   ]
  }
 ],
 "metadata": {
  "kernelspec": {
   "display_name": "Python 3 (ipykernel)",
   "language": "python",
   "name": "python3"
  },
  "language_info": {
   "codemirror_mode": {
    "name": "ipython",
    "version": 3
   },
   "file_extension": ".py",
   "mimetype": "text/x-python",
   "name": "python",
   "nbconvert_exporter": "python",
   "pygments_lexer": "ipython3",
   "version": "3.11.3"
  }
 },
 "nbformat": 4,
 "nbformat_minor": 5
}
