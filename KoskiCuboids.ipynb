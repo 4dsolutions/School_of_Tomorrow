{
 "cells": [
  {
   "cell_type": "markdown",
   "id": "eb359a4f-018f-4853-9116-5cb02b957c48",
   "metadata": {},
   "source": [
    "[Oregon Curriculum Network](http://4dsolutions.net/ocn/)<br/>\n",
    "[School of Tomorrow](School_of_Tomorrow.ipynb)<br/>\n",
    "[nbviewer read-only](https://nbviewer.org/github/4dsolutions/School_of_Tomorrow/blob/master/KoskiCuboids.ipynb)<br/>\n",
    "[Colab user-active](https://colab.research.google.com/github/4dsolutions/School_of_Tomorrow/blob/master/KoskiCuboids.ipynb)\n",
    "<br/>"
   ]
  },
  {
   "cell_type": "markdown",
   "id": "942e3cef-56a1-4f06-8c02-6bbcd36f3551",
   "metadata": {},
   "source": [
    "# Koski Cuboids\n",
    "\n",
    "Cuboids are important for generating tetrahedrons. Their edges, face and body diagonals all supply edges, sometimes for tetrahedra \"in situ\" i.e. as parts of the cuboid itself, other times as free standing, but with edges gleaned from the cuboid framework.\n",
    "\n",
    "One important cuboid we've met so far has edges:\n",
    "\n",
    "$$\\sqrt{1} = 1$$\n",
    "$$\\sqrt{2}$$\n",
    "$$\\sqrt{3}$$\n",
    "$$\\sqrt{4} = 2$$\n",
    "$$\\sqrt{5}$$\n",
    "$$\\sqrt{6}$$\n",
    "$$\\sqrt{7}$$\n",
    "\n",
    "where $\\sqrt{7}$ is the length of the body diagonal.\n",
    "\n",
    "Another important cuboid we'll name Kepler's Cuboid\n",
    "\n",
    "--- \n",
    "David Koski, May 28, 2024 at 3:46:52 PM:\n",
    "I like it for many reasons\n",
    "\n",
    "Kepler's cuboid should be \n",
    "\n",
    "$(\\phi^{-1})(1)((\\phi^{1/2})$ \n",
    "\n",
    "Then the body diagonal is rt 3\n",
    "\n",
    "---\n",
    "\n",
    "Now consider yet another brick of two opposing squares, edges 1, diagonal $\\sqrt{2}$, and every other edge $\\phi$. The tetrahedron comprised solely of face the diagonals is the one we might call Kepler's, as each face is a Kepler Triangle."
   ]
  },
  {
   "cell_type": "markdown",
   "id": "db806213-a461-479c-8f76-1b9d88f97a0b",
   "metadata": {},
   "source": [
    "Consider a cabin in the woods with a roof ridge beam of $\\sqrt{2}$. Two flaps slope down, like two wings, such that their tips are $\\sqrt{2}$ spread apart, where they reach the ground."
   ]
  },
  {
   "cell_type": "code",
   "execution_count": 2,
   "id": "cf638506-ee16-4a85-9b28-2a8068d89fef",
   "metadata": {},
   "outputs": [],
   "source": [
    "from sympy import sqrt as rt2"
   ]
  },
  {
   "cell_type": "code",
   "execution_count": 29,
   "id": "b3991b99-e528-4a45-98f3-ce6d05f14152",
   "metadata": {},
   "outputs": [],
   "source": [
    "phi = (rt2(5)+1)/2\n",
    "\n",
    "ridge_pole = rt2(2)\n",
    "floor_pole = rt2(2)\n",
    "flap_edge = phi\n",
    "\n",
    "tet_edges = {\n",
    "    'R0R1': ridge_pole/2, \n",
    "    'R0F0': flap_edge/2,\n",
    "    'R0F1': flap_edge/2, \n",
    "    \"R1F0\": flap_edge/2,\n",
    "    \"R1F1\": flap_edge/2, \n",
    "    \"F0F1\": ridge_pole/2\n",
    "}"
   ]
  },
  {
   "cell_type": "code",
   "execution_count": 6,
   "id": "ef0c03f1-0de9-4572-b765-7543616c7071",
   "metadata": {},
   "outputs": [],
   "source": [
    "from tetravolume import Tetrahedron as Tet"
   ]
  },
  {
   "cell_type": "code",
   "execution_count": 35,
   "id": "0a9a4699-15ee-440b-830e-b1db813e8035",
   "metadata": {},
   "outputs": [],
   "source": [
    "tet = Tet(tet_edges['R0R1'], tet_edges['R0F0'], tet_edges['R0F1'], # apex\n",
    "          tet_edges['R1F0'], tet_edges['F0F1'], tet_edges['R1F1']) # base"
   ]
  },
  {
   "cell_type": "code",
   "execution_count": 38,
   "id": "53fc3070-7101-4c71-9b23-18fea5de26ba",
   "metadata": {},
   "outputs": [
    {
     "data": {
      "text/latex": [
       "$\\displaystyle \\frac{\\sqrt{1 + \\sqrt{5}}}{4}$"
      ],
      "text/plain": [
       "sqrt(1 + sqrt(5))/4"
      ]
     },
     "execution_count": 38,
     "metadata": {},
     "output_type": "execute_result"
    }
   ],
   "source": [
    "tet.ivm_volume().simplify()"
   ]
  },
  {
   "cell_type": "code",
   "execution_count": 34,
   "id": "8069a91d-52f7-4c5c-9eff-09235df74583",
   "metadata": {},
   "outputs": [
    {
     "data": {
      "text/latex": [
       "$\\displaystyle 0.424006549838023$"
      ],
      "text/plain": [
       "0.424006549838023"
      ]
     },
     "execution_count": 34,
     "metadata": {},
     "output_type": "execute_result"
    }
   ],
   "source": [
    "rt2(phi).evalf()/3"
   ]
  },
  {
   "cell_type": "markdown",
   "id": "fab337c9-f79e-4000-80ee-09b6a04e1b00",
   "metadata": {},
   "source": [
    "The IVM volume of the cuboid as a whole will be three times that of this internal tetrahedron or "
   ]
  },
  {
   "cell_type": "code",
   "execution_count": 11,
   "id": "322fe8c2-da43-42d6-8867-b8960f13bef5",
   "metadata": {},
   "outputs": [
    {
     "data": {
      "text/latex": [
       "$\\displaystyle 10.7934446396872$"
      ],
      "text/plain": [
       "10.7934446396872"
      ]
     },
     "execution_count": 11,
     "metadata": {},
     "output_type": "execute_result"
    }
   ],
   "source": [
    "tet.ivm_volume().evalf() * 3"
   ]
  },
  {
   "cell_type": "code",
   "execution_count": 12,
   "id": "9366208b-4e2d-46d0-8528-2b17b0363b31",
   "metadata": {},
   "outputs": [
    {
     "data": {
      "text/latex": [
       "$\\displaystyle 10.1761571961126$"
      ],
      "text/plain": [
       "10.1761571961126"
      ]
     },
     "execution_count": 12,
     "metadata": {},
     "output_type": "execute_result"
    }
   ],
   "source": [
    "tet.xyz_volume().evalf() * 3"
   ]
  },
  {
   "cell_type": "code",
   "execution_count": 13,
   "id": "491613d1-6abb-4557-a45b-399316673484",
   "metadata": {},
   "outputs": [
    {
     "data": {
      "text/latex": [
       "$\\displaystyle 1 + \\sqrt{5}$"
      ],
      "text/plain": [
       "1 + sqrt(5)"
      ]
     },
     "execution_count": 13,
     "metadata": {},
     "output_type": "execute_result"
    }
   ],
   "source": [
    "ridge_pole * ridge_pole * phi"
   ]
  },
  {
   "cell_type": "code",
   "execution_count": 16,
   "id": "1c8502b0-cf48-4cda-87ef-fa74b278e93b",
   "metadata": {},
   "outputs": [
    {
     "data": {
      "text/latex": [
       "$\\displaystyle 12.9442719099992$"
      ],
      "text/plain": [
       "12.9442719099992"
      ]
     },
     "execution_count": 16,
     "metadata": {},
     "output_type": "execute_result"
    }
   ],
   "source": [
    "(1 * phi).evalf()"
   ]
  },
  {
   "cell_type": "code",
   "execution_count": 39,
   "id": "dab368c8-5ab8-4402-b1d9-071478e65dca",
   "metadata": {},
   "outputs": [
    {
     "data": {
      "text/latex": [
       "$\\displaystyle \\left(\\frac{1}{4} + \\frac{\\sqrt{5}}{4}\\right)^{3}$"
      ],
      "text/plain": [
       "(1/4 + sqrt(5)/4)**3"
      ]
     },
     "execution_count": 39,
     "metadata": {},
     "output_type": "execute_result"
    }
   ],
   "source": [
    "t = Tet(phi/2, phi/2, phi/2, phi/2, phi/2, phi/2)\n",
    "t.ivm_volume()"
   ]
  },
  {
   "cell_type": "code",
   "execution_count": 40,
   "id": "719b693c-f2e9-4318-91be-fda47ac3b580",
   "metadata": {},
   "outputs": [
    {
     "data": {
      "text/latex": [
       "$\\displaystyle 0.529508497187474$"
      ],
      "text/plain": [
       "0.529508497187474"
      ]
     },
     "execution_count": 40,
     "metadata": {},
     "output_type": "execute_result"
    }
   ],
   "source": [
    "t.ivm_volume().evalf()"
   ]
  },
  {
   "cell_type": "code",
   "execution_count": 41,
   "id": "663ef086-f1ef-4321-b497-0ebdd7d2ed64",
   "metadata": {},
   "outputs": [
    {
     "data": {
      "text/latex": [
       "$\\displaystyle \\frac{2 \\sqrt{2} \\left(\\frac{1}{4} + \\frac{\\sqrt{5}}{4}\\right)^{3}}{3}$"
      ],
      "text/plain": [
       "2*sqrt(2)*(1/4 + sqrt(5)/4)**3/3"
      ]
     },
     "execution_count": 41,
     "metadata": {},
     "output_type": "execute_result"
    }
   ],
   "source": [
    "t.xyz_volume()"
   ]
  },
  {
   "cell_type": "code",
   "execution_count": 42,
   "id": "14214f06-ba5c-42ac-a068-53242426a1c0",
   "metadata": {},
   "outputs": [
    {
     "data": {
      "text/latex": [
       "$\\displaystyle \\frac{\\sqrt{2}}{4}$"
      ],
      "text/plain": [
       "sqrt(2)/4"
      ]
     },
     "execution_count": 42,
     "metadata": {},
     "output_type": "execute_result"
    }
   ],
   "source": [
    "root2 = ridge_pole\n",
    "\n",
    "t = Tet(root2/2, root2/2, root2/2, root2/2, root2/2, root2/2)\n",
    "t.ivm_volume()\n"
   ]
  },
  {
   "cell_type": "code",
   "execution_count": null,
   "id": "10d07701-0bc7-4bea-94f0-2d7525686cda",
   "metadata": {},
   "outputs": [],
   "source": []
  }
 ],
 "metadata": {
  "kernelspec": {
   "display_name": "Python 3 (ipykernel)",
   "language": "python",
   "name": "python3"
  },
  "language_info": {
   "codemirror_mode": {
    "name": "ipython",
    "version": 3
   },
   "file_extension": ".py",
   "mimetype": "text/x-python",
   "name": "python",
   "nbconvert_exporter": "python",
   "pygments_lexer": "ipython3",
   "version": "3.11.3"
  }
 },
 "nbformat": 4,
 "nbformat_minor": 5
}
