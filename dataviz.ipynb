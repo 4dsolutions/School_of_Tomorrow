{
 "cells": [
  {
   "cell_type": "markdown",
   "metadata": {},
   "source": [
    "[Oregon Curriculum Network](http://4dsolutions.net/ocn/)\n",
    "\n",
    "[Home](School_of_Tomorrow.ipynb)\n",
    "\n",
    "# Data Visualization (Part One)\n",
    "\n",
    "<a data-flickr-embed=\"true\"  href=\"https://www.flickr.com/photos/kirbyurner/3292180674/\" title=\"Globe &amp; Map\"><img src=\"https://live.staticflickr.com/3189/3292180674_08cf3c0611_z.jpg\" width=\"480\" height=\"640\" alt=\"Globe &amp; Map\"></a><script async src=\"//embedr.flickr.com/assets/client-code.js\" charset=\"utf-8\"></script>\n",
    "<div style=\"text-align: center\">\n",
    "Cleveland High School, Portland, Oregon\n",
    "</div>\n",
    "\n",
    "\n",
    "## Introduction to Data Science\n",
    "\n",
    "In entering the realm of Data Science, we come upon a world concerned with predicting the future, anticipating what's next, based on extrapolation and sometimes interpolation.  Many data science practices inherit from the insurance industry, which is about assessing and socializing (spreading the costs of) risk.\n",
    "\n",
    "We predict about the past as well. We're often keen to know of events that may have already taken place.  \n",
    "\n",
    "We guess about this and that, whether this or that happened in the past, or has yet to happen.  When making these guesses, we use existing data as evidence.  A model that's scoring well is able to correctly predict what we already know to be the case.\n",
    "\n",
    "Under the heading of \"prediction\" therefore, comes \"the ability to guess correctly\" whether or not we're looking into the future or into the past.  Keep in mind the Physics, including Quantum Physics, is just as interested in prediction, in \"guessing right\" as any discipline.  \n",
    "\n",
    "A goal, in engineering, is to have some influence over outcomes, and that means looking for trimtabs.  How might we optimize various distribution networks, such as the internet itself, so that it's less likely to bog down in traffic jams?\n",
    "\n",
    "### Historical Sidebar\n",
    "\n",
    "\"Data Science\" is a relatively recent invention, for what used to be called Statistics.  We still have Statistics, but ever since statistics joined forces with Machine Learning, the term \"data science\" has been in the foreground.  The evolution of Machine Learning has been against the backdrop of some professional debates the statisticians have been having.  One of these debates has been between so-called \"Frequentists\" and another camp known as \"Bayesians\".\n",
    "\n",
    "#### Research Project:  Recent History of Data Science\n",
    "\n",
    "Looking for a research topic?  Here's [a place to start](https://www.amazon.com/dp/B0050QB3EQ):  *The Theory That Would Not Die: How Bayes' Rule Cracked the Enigma Code, Hunted Down Russian Submarines, and Emerged Triumphant from Two Centuries of Controversy* by Sharon Bertsch McGrayne."
   ]
  },
  {
   "cell_type": "code",
   "execution_count": 1,
   "metadata": {},
   "outputs": [
    {
     "data": {
      "text/plain": [
       "'hypertext transfer protocol'"
      ]
     },
     "execution_count": 1,
     "metadata": {},
     "output_type": "execute_result"
    }
   ],
   "source": [
    "import json\n",
    "with open(\"glossary.json\", 'r') as infile: # context manager syntax\n",
    "    glossary = json.load(infile)\n",
    "glossary['HTTP']"
   ]
  },
  {
   "cell_type": "markdown",
   "metadata": {},
   "source": [
    "### Programming Interlude: Context Managers\n",
    "\n",
    "Since we've chosen Python for a kernel language (many choices exist), we might as well dig into it from time to time. In the code cell above, you'll notice the keyword ```with``` with the optional ```as``` piece, with indented code underneath (as many lines as we like).  \n",
    "\n",
    "The indented code is the body of our \"context\" which is entered at the top and exited at the bottom.  The occassions of entering and exiting a context automatically trigger the ```__enter__``` and ```__exit__``` methods of the object we're using with ```with```."
   ]
  },
  {
   "cell_type": "code",
   "execution_count": 2,
   "metadata": {},
   "outputs": [
    {
     "name": "stdout",
     "output_type": "stream",
     "text": [
      "Content of knight_bag: Holy Grail from Goth Castle\n"
     ]
    }
   ],
   "source": [
    "class Castle:\n",
    "    \"\"\"\n",
    "    Example of a class designed to perform as a \n",
    "    context manager, as triggered by keyword 'with'\n",
    "    \"\"\"\n",
    "    \n",
    "    def __init__(self, name):\n",
    "        self.name = name\n",
    "        \n",
    "    def __enter__(self):\n",
    "        return self  # pass forward through as\n",
    "    \n",
    "    def inner_sanctum(self):\n",
    "        # Monty Python allusion\n",
    "        return \"Holy Grail from %s\" % self.name\n",
    "    \n",
    "    def __exit__(self, *oops):\n",
    "        if oops[0]:\n",
    "            # do cleanup\n",
    "            pass\n",
    "        return True\n",
    "    \n",
    "with Castle(\"Goth Castle\") as castle:\n",
    "    knight_bag = castle.inner_sanctum()\n",
    "    \n",
    "print(\"Content of knight_bag:\", knight_bag)"
   ]
  },
  {
   "cell_type": "code",
   "execution_count": 3,
   "metadata": {},
   "outputs": [],
   "source": [
    "glossary[\"Bayesian\"] = \"inferential methods useable even in the absense of any prospect for controlled studies\"\n",
    "glossary[\"Pharo\"]    = \"a Smalltalk-like language and ecosystem that competes with Python's\"\n",
    "glossary[\"Sphinx\"]  = \"a documentation generator, targeting the web in particular, for use with Python\""
   ]
  },
  {
   "cell_type": "markdown",
   "metadata": {},
   "source": [
    "#### Digital Mathematics curriculum\n",
    "\n",
    "In [Digital Mathematics: Heuristics for Teachers](http://wikieducator.org/Digital_Math) you will find a way of carving up our mathematical domain into four sections:\n",
    "\n",
    "* Martian Math (looking towards the future)\n",
    "* Neolithic Math (looking towards the past)\n",
    "* Casino Math (looking at risks)\n",
    "* Supermarket Math (looking at ecological systems)\n",
    "\n",
    "Ready for [Part Two](dataviz2.ipynb)?"
   ]
  },
  {
   "cell_type": "markdown",
   "metadata": {},
   "source": [
    "## More Tools...\n",
    "\n",
    "In addition to Python the language, which is our Kernel, we need to use some add-on 3rd party packages, which usually get installed in a subfolder called ```site-packages``` and associated with the specific Python you're using.  \n",
    "\n",
    "Three of these packages are:  \n",
    "\n",
    "* ```numpy``` (a workhorse that works with tensors, or n-dimensional arrays)\n",
    "* ```pandas``` for encapsulating [tensors](https://www.tensorflow.org/guide/tensors) and adding dictionary-like labeling\n",
    "* ```matplotlib``` for doing the actual visualizations.\n",
    "* ```seaborn``` for making matplotlib even prettier.\n",
    "\n",
    "### Will I Ever Know Enough?\n",
    "What you might be asking yourself, perhaps having glanced at some documentation, is:\n",
    "\n",
    "1. where to begin? and\n",
    "2. will I really need to memorize hundreds of commands to control each one of these products?\n",
    "\n",
    "Our assumption here is you're involved in \"world game\" meaning thinking globally, acting locally.  \n",
    "\n",
    "You're on the faculty of a think tank.  People look to you for guidance.\n",
    "\n",
    "To get a stronger grasp on what's going on, you read a lot, but you also look at data that's sometimes too new to have yet led many, if any, to draw conclusions.  You are one of those privileged data analysts with a special vantage point, who will share your sense of what it all means with your peers.\n",
    "\n",
    "That's partly why you read, and also write a lot:  to keep your communication skills polished.  We're learning new language our entire lives.  New vocabularies.  New \"games\" (language games), some of which are literally games.  Learning from data also involves applying the techniques of data science, which may include using machine learning algorithms.\n",
    "\n",
    "The data you're studying is not necessarily \"big data\" although it may be.  \"Small data\" may still be quite a lot, by 20th Century standards.\n",
    "\n",
    "#### Research Project:  Apache Foundation\n",
    "\n",
    "[The Apache Foundation](https://www.apache.org/) helps fund a number of valuable free and open source products built to work with big data. In order to gain some fluency with the concepts, do some research on these projects.\n",
    "\n",
    "\n",
    "### What's an API?\n",
    "As for memorization, you're best bet is to stay in the habit of consulting documentation, and deciphering it.  What you're often looking for is advice on how to use an \"API\" or Application Programming Interface.  You might call it a control panel or dashboard, but unless you're operating a GUI, the API is likely encountered in the thick of some programming language, such as Python, Ruby, or JavaScript.\n",
    "\n",
    "#### Reading the Docs\n",
    "\n",
    "Looking ahead to the next Notebook: \n",
    "\n",
    "* How do I sort a DataFrame by index? [Check here](https://pandas.pydata.org/pandas-docs/stable/reference/api/pandas.DataFrame.sort_index.html)\n",
    "* How do I sort a DataFrame by any column? [Check here](https://pandas.pydata.org/pandas-docs/stable/reference/api/pandas.DataFrame.sort_values.html)\n",
    "\n",
    "If you work with these tools on an everyday basis, then you'll become more adept through practice.  However what's rewarding about programming is that your code will run extremely fast even if you take a relatively long time to write it, compared to someone else who writes code faster.  \n",
    "\n",
    "Better to take your time and understand what you're doing, than just cut and paste a lot of code you find on the internet.  It's fine to cut and paste code, but plan to spend time getting to understand it in some detail. That way, you'll continue along your learning curve.\n",
    "\n",
    "A common misapprehension about \"learning to code\" is that \"real programming\" always involves starting with a blank canvas and writing everything from scratch.  Certainly piano players don't do that, when it comes to piano playing.  Sometimes that's a good approach.  Other times, you best bet is to begin with some existing code, and modifying it to suit your own purposes.\n",
    "\n",
    "Without further delay, lets get to know some of our data science tools, each with its own API."
   ]
  },
  {
   "cell_type": "code",
   "execution_count": 4,
   "metadata": {},
   "outputs": [],
   "source": [
    "% matplotlib inline\n",
    "import numpy as np\n",
    "import pandas as pd\n",
    "import matplotlib.pyplot as plt\n",
    "import matplotlib as mpl\n",
    "import seaborn as sns\n",
    "\n",
    "from math import sin, cos, radians  # lets plot some trig functions!"
   ]
  },
  {
   "cell_type": "markdown",
   "metadata": {},
   "source": [
    "Notice that you don't need to import Python itself.  That's because Python is the Kernel behind the scenes running all these code cells.  One specifies the Kernel upon starting a new Jupyter Notebook."
   ]
  },
  {
   "cell_type": "code",
   "execution_count": 5,
   "metadata": {},
   "outputs": [
    {
     "name": "stdout",
     "output_type": "stream",
     "text": [
      "Numpy version     : 1.14.4\n",
      "Pandas version    : 0.23.0\n",
      "Matplotlib version: 3.1.0\n",
      "Seaborn version:  : 0.8.1\n"
     ]
    }
   ],
   "source": [
    "# Kernel is Python 3.6 or above\n",
    "print(f\"\"\"\\\n",
    "Numpy version     : {np.__version__}\n",
    "Pandas version    : {pd.__version__}\n",
    "Matplotlib version: {mpl.__version__}\n",
    "Seaborn version:  : {sns.__version__}\"\"\"\n",
    ")"
   ]
  },
  {
   "cell_type": "markdown",
   "metadata": {},
   "source": [
    "You probably won't want or need to upgrade each time there's a version change.  In fact sometimes you may find yourself in the opposite situation, of needing to lock in an old version of something.  Programmers use containers and virtual environments to preserve old ecosystems and keep them from contaminating each other.\n",
    "\n",
    "When you do upgrade a package, you may find rerunning the same code results in warnings or outright errors.  Packages with stable APIs are less likely to surprise you in this way.  It's a good idea to consult documentation to find out what's new, if you actually have a choice about whether to upgrade or not."
   ]
  },
  {
   "cell_type": "code",
   "execution_count": 6,
   "metadata": {},
   "outputs": [
    {
     "name": "stdout",
     "output_type": "stream",
     "text": [
      "Numpy version     : 1.14.4\n",
      "Pandas version    : 0.23.0\n",
      "Matplotlib version: 3.1.0\n",
      "Seaborn version   : 0.8.1\n"
     ]
    }
   ],
   "source": [
    "# if you have an earlier kernel\n",
    "print(\"\"\"\\\n",
    "Numpy version     : {}\n",
    "Pandas version    : {}\n",
    "Matplotlib version: {}\n",
    "Seaborn version   : {}\"\"\".format(\n",
    "np.__version__, pd.__version__, mpl.__version__, sns.__version__)\n",
    ")"
   ]
  },
  {
   "cell_type": "markdown",
   "metadata": {},
   "source": [
    "The code cell below is quite typical of how we might use ```plt``` (matplotlib.pyplot) together with ```np``` (numpy). Note that ```pd``` (pandas) is not yet involved.  We'll be seeing it soon.\n",
    "\n",
    "The ```np.linspace``` command is one of the most used, as we so often need a particular number of evenly spaced numbers between a minimum and maximum extreme.  ```np.arange``` is the other workhorse.  It takes a minimum and maximum extreme, just like ```linspace```, however the third argument is the increment you wish to use.  ```arange``` will figure out how many elements you need, up to but not including the limiting value.\n",
    "\n",
    "Note that both of these functions return ```np.ndarray``` objects, where the ```ndarray``` type is the star of ```numpy```.  An ```ndarray``` is a multi-dimensional array, meaning it has one or more axes.  These axes define the coordinate system structure used to address the contained elements.  You'll learn more about the ins and outs of ```ndarrays``` from other notebooks."
   ]
  },
  {
   "cell_type": "code",
   "execution_count": 7,
   "metadata": {},
   "outputs": [
    {
     "data": {
      "image/png": "[encoded data removed]",
      "text/plain": [
       "<Figure size 720x360 with 1 Axes>"
      ]
     },
     "metadata": {},
     "output_type": "display_data"
    }
   ],
   "source": [
    "domain = np.linspace(-5, 5, 100) # give me 100 points from -5 to 5\n",
    "y_sin  = np.sin(domain) # do all 1000\n",
    "y_cos  = np.cos(domain) # do all 1000\n",
    "\n",
    "def plot_functions():\n",
    "    plt.figure(figsize=(10, 5))\n",
    "    plt.xlabel(\"X\")\n",
    "    plt.ylabel(\"Y\")\n",
    "    plt.title(\"Trig Functions\")\n",
    "    lines = plt.plot(domain, y_sin, 'go', domain, y_cos, 'y^')\n",
    "    # https://matplotlib.org/api/_as_gen/matplotlib.pyplot.legend.html\n",
    "    leg = plt.legend(lines, (\"sine\", \"cosine\"), \n",
    "                     title=\"Key\", frameon=True,\n",
    "                     shadow=True, facecolor=\"gray\",\n",
    "                     borderaxespad=2) \n",
    "    plt.axis([-6, 6, -1.5, 1.5])\n",
    "    plt.show()\n",
    "    \n",
    "plot_functions()"
   ]
  },
  {
   "cell_type": "markdown",
   "metadata": {},
   "source": [
    "### Historical Sidebar\n",
    "\n",
    "Do you live in a dome home?  Trigonometric functions prove useful when it comes to computing the vertexes of a geodesic sphere.  \n",
    "\n",
    "One of the best primers on the topic is [Divided Spheres](http://www.dividedspheres.com/) by [Ed Popko](http://www.dividedspheres.com/?page_id=19).  Dome homes became popular in the 1960s onward, as an alternative to the more conventional house.\n",
    "\n",
    "<a data-flickr-embed=\"true\"  href=\"https://www.flickr.com/photos/kirbyurner/24140203359/in/photolist-CMbRqK\" title=\"Divided Spheres\"><img src=\"https://live.staticflickr.com/1530/24140203359_27c8a454ac.jpg\" width=\"500\" height=\"375\" alt=\"Divided Spheres\"></a><script async src=\"//embedr.flickr.com/assets/client-code.js\" charset=\"utf-8\"></script>\n",
    "\n",
    "The two videos below, talk about how we might (or might not) want to envision dome homes going forward."
   ]
  },
  {
   "cell_type": "code",
   "execution_count": 8,
   "metadata": {},
   "outputs": [
    {
     "data": {
      "image/jpeg": "[encoded data removed]",
      "text/html": [
       "\n",
       "        <iframe\n",
       "            width=\"400\"\n",
       "            height=\"300\"\n",
       "            src=\"https://www.youtube.com/embed/QV4m76Om7bk\"\n",
       "            frameborder=\"0\"\n",
       "            allowfullscreen\n",
       "        ></iframe>\n",
       "        "
      ],
      "text/plain": [
       "<IPython.lib.display.YouTubeVideo at 0x11276c320>"
      ]
     },
     "execution_count": 8,
     "metadata": {},
     "output_type": "execute_result"
    }
   ],
   "source": [
    "from IPython.display import YouTubeVideo\n",
    "YouTubeVideo(\"QV4m76Om7bk\")  # https://youtu.be/QV4m76Om7bk"
   ]
  },
  {
   "cell_type": "code",
   "execution_count": 9,
   "metadata": {},
   "outputs": [
    {
     "data": {
      "image/jpeg": "[encoded data removed]",
      "text/html": [
       "\n",
       "        <iframe\n",
       "            width=\"400\"\n",
       "            height=\"300\"\n",
       "            src=\"https://www.youtube.com/embed/rnkjVd1h8oE\"\n",
       "            frameborder=\"0\"\n",
       "            allowfullscreen\n",
       "        ></iframe>\n",
       "        "
      ],
      "text/plain": [
       "<IPython.lib.display.YouTubeVideo at 0x11276c198>"
      ]
     },
     "execution_count": 9,
     "metadata": {},
     "output_type": "execute_result"
    }
   ],
   "source": [
    "YouTubeVideo(\"rnkjVd1h8oE\")  # https://youtu.be/rnkjVd1h8oE"
   ]
  },
  {
   "cell_type": "markdown",
   "metadata": {},
   "source": [
    "The [nbviewer view](https://nbviewer.jupyter.org/github/4dsolutions/School_of_Tomorrow/blob/master/dataviz.ipynb) of this notebook will render the Youtubes in place.  Github does not."
   ]
  },
  {
   "cell_type": "markdown",
   "metadata": {},
   "source": [
    "### Literary Sidebar\n",
    "\n",
    "Another author who ventured into the realm of geodesic dome design was [Hugh Kenner](https://en.wikipedia.org/wiki/Hugh_Kenner), better known for [The Pound Era](https://en.wikipedia.org/wiki/The_Pound_Era).  \n",
    "\n",
    "He also wrote [Bucky](https://www.amazon.com/Bucky-Guided-Tour-Buckminster-Fuller/dp/0688001416) and [Geodesic Math and How to Use It](https://www.amazon.com/dp/0520239318).\n",
    "\n",
    "<a data-flickr-embed=\"true\"  href=\"https://www.flickr.com/photos/kirbyurner/4222216260/in/photolist-7r6XN5\" title=\"By Hugh Kenner\"><img src=\"https://live.staticflickr.com/4062/4222216260_7d58c7f57e.jpg\" width=\"375\" height=\"500\" alt=\"By Hugh Kenner\"></a><script async src=\"//embedr.flickr.com/assets/client-code.js\" charset=\"utf-8\"></script>"
   ]
  },
  {
   "cell_type": "code",
   "execution_count": 10,
   "metadata": {},
   "outputs": [],
   "source": [
    "def make_table():\n",
    "    keys   = pd.Series( list(glossary.keys()),   dtype=np.object)\n",
    "    values = pd.Series( list(glossary.values()), dtype=np.object)\n",
    "    df = pd.DataFrame({\"term\":keys, \"definition\":values}).set_index(\"term\")\n",
    "    # create and delete a sorting column, wherein the terms are all uppercase\n",
    "    df[\"sort_column\"] = df.index.str.upper()\n",
    "    df.sort_values(['sort_column'], axis=0, ascending=True, inplace=True)\n",
    "    del df[\"sort_column\"]  # now that the df is sorted, delete the sorting column\n",
    "    return df"
   ]
  },
  {
   "cell_type": "code",
   "execution_count": 11,
   "metadata": {},
   "outputs": [],
   "source": [
    "# glossary is an ordinary Python dict, stored as JSON in a text file\n",
    "glossary[\"matplotlib\"] =  \"data visualization package for Python, originally written by John D. Hunter\"\n",
    "glossary[\"numpy\"] = \"number crunchy goodness, vectorizes computations on n-dimensional arrays\"\n",
    "glossary[\"pandas\"] = \"wraps numpy arrays in handsome frames with row and column indexes\"\n",
    "glossary[\"seaborn\"] = \"adds new powers to matplotlib, makes pretty plots\"\n",
    "glossary[\"API\"] = \"a set of functions that take variable arguments, providing programmed control of something\"\n",
    "glossary[\"Ruby\"] = \"a programming language somewhat like Python and Perl, invented by Yukihiro Matsumoto\"\n",
    "glossary[\"ndarray\"] = \"n-dimensional array, the star of the numpy package, a multi-axis data structure\"\n",
    "glossary[\"DataFrame\"] = \"the star of the pandas package, providing ndarrays with a framing infrastructure\""
   ]
  },
  {
   "cell_type": "code",
   "execution_count": 12,
   "metadata": {},
   "outputs": [],
   "source": [
    "glossary_df = make_table()"
   ]
  },
  {
   "cell_type": "markdown",
   "metadata": {},
   "source": [
    "The Python function above has the job of taking our ```glossary``` object, a Python dictionary, and turning it into a pandas DataFrame object.  The dict's keys should comprise our index of terms and be sorted in a case-insensitive manner."
   ]
  },
  {
   "cell_type": "code",
   "execution_count": 13,
   "metadata": {},
   "outputs": [
    {
     "data": {
      "text/html": [
       "<div>\n",
       "<style scoped>\n",
       "    .dataframe tbody tr th:only-of-type {\n",
       "        vertical-align: middle;\n",
       "    }\n",
       "\n",
       "    .dataframe tbody tr th {\n",
       "        vertical-align: top;\n",
       "    }\n",
       "\n",
       "    .dataframe thead th {\n",
       "        text-align: right;\n",
       "    }\n",
       "</style>\n",
       "<table border=\"1\" class=\"dataframe\">\n",
       "  <thead>\n",
       "    <tr style=\"text-align: right;\">\n",
       "      <th></th>\n",
       "      <th>definition</th>\n",
       "    </tr>\n",
       "    <tr>\n",
       "      <th>term</th>\n",
       "      <th></th>\n",
       "    </tr>\n",
       "  </thead>\n",
       "  <tbody>\n",
       "    <tr>\n",
       "      <th>API</th>\n",
       "      <td>a set of functions that take variable arguments, providing programmed control of something</td>\n",
       "    </tr>\n",
       "    <tr>\n",
       "      <th>Bayesian</th>\n",
       "      <td>inferential methods useable even in the absense of any prospect for controlled studies</td>\n",
       "    </tr>\n",
       "    <tr>\n",
       "      <th>cell</th>\n",
       "      <td>a Jupyter Notebook consists of mostly Code and Markdown cells</td>\n",
       "    </tr>\n",
       "    <tr>\n",
       "      <th>code cell</th>\n",
       "      <td>where runnable code, interpreted by the Kernel, is displayed and color coded</td>\n",
       "    </tr>\n",
       "    <tr>\n",
       "      <th>CSV</th>\n",
       "      <td>comma-separated values, one of the simplest data sharing formats</td>\n",
       "    </tr>\n",
       "    <tr>\n",
       "      <th>DataFrame</th>\n",
       "      <td>the star of the pandas package, providing ndarrays with a framing infrastructure</td>\n",
       "    </tr>\n",
       "    <tr>\n",
       "      <th>DOM</th>\n",
       "      <td>the Document Object Model is a tree of graph of a document in a web browser</td>\n",
       "    </tr>\n",
       "    <tr>\n",
       "      <th>HTML</th>\n",
       "      <td>hypertext markup language, almost an XML, defines the DOM in tandem with CSS</td>\n",
       "    </tr>\n",
       "    <tr>\n",
       "      <th>HTTP</th>\n",
       "      <td>hypertext transfer protocol</td>\n",
       "    </tr>\n",
       "    <tr>\n",
       "      <th>JavaScript</th>\n",
       "      <td>a computer language, not confined to running inside browsers but happy there</td>\n",
       "    </tr>\n",
       "    <tr>\n",
       "      <th>json</th>\n",
       "      <td>JavaScript Object Notation is a way to save data (compare with XML)</td>\n",
       "    </tr>\n",
       "    <tr>\n",
       "      <th>Jupyter Notebook (JN)</th>\n",
       "      <td>like a web page, but interactive, stored as json</td>\n",
       "    </tr>\n",
       "    <tr>\n",
       "      <th>Kernel</th>\n",
       "      <td>an interpreter, e.g. Python, ready to process JN code cells and return results</td>\n",
       "    </tr>\n",
       "    <tr>\n",
       "      <th>localhost</th>\n",
       "      <td>the IP address of the host computer: 127.0.0.1</td>\n",
       "    </tr>\n",
       "    <tr>\n",
       "      <th>markdown cell</th>\n",
       "      <td>uses a markup called markdown to format the text cells in a Jupyter Notebook</td>\n",
       "    </tr>\n",
       "    <tr>\n",
       "      <th>matplotlib</th>\n",
       "      <td>data visualization package for Python, originally written by John D. Hunter</td>\n",
       "    </tr>\n",
       "    <tr>\n",
       "      <th>ndarray</th>\n",
       "      <td>n-dimensional array, the star of the numpy package, a multi-axis data structure</td>\n",
       "    </tr>\n",
       "    <tr>\n",
       "      <th>numpy</th>\n",
       "      <td>number crunchy goodness, vectorizes computations on n-dimensional arrays</td>\n",
       "    </tr>\n",
       "    <tr>\n",
       "      <th>pandas</th>\n",
       "      <td>wraps numpy arrays in handsome frames with row and column indexes</td>\n",
       "    </tr>\n",
       "    <tr>\n",
       "      <th>Pascal</th>\n",
       "      <td>an early computer language, later commercially available as Delphi from Borland</td>\n",
       "    </tr>\n",
       "    <tr>\n",
       "      <th>PGP</th>\n",
       "      <td>Pretty Good Privacy, RSA before the US patent expired, by Phil Zimmerman</td>\n",
       "    </tr>\n",
       "    <tr>\n",
       "      <th>Pharo</th>\n",
       "      <td>a Smalltalk-like language and ecosystem that competes with Python's</td>\n",
       "    </tr>\n",
       "    <tr>\n",
       "      <th>port</th>\n",
       "      <td>internet services connect through IP:port addresses, JN usually on port 8888</td>\n",
       "    </tr>\n",
       "    <tr>\n",
       "      <th>Python</th>\n",
       "      <td>a computer language from Holland (the Netherlands) that went viral</td>\n",
       "    </tr>\n",
       "    <tr>\n",
       "      <th>RSA</th>\n",
       "      <td>public key crypto algorithm, named for collaborators Rivest, Shamir, Adleman</td>\n",
       "    </tr>\n",
       "    <tr>\n",
       "      <th>Ruby</th>\n",
       "      <td>a programming language somewhat like Python and Perl, invented by Yukihiro Matsumoto</td>\n",
       "    </tr>\n",
       "    <tr>\n",
       "      <th>seaborn</th>\n",
       "      <td>adds new powers to matplotlib, makes pretty plots</td>\n",
       "    </tr>\n",
       "    <tr>\n",
       "      <th>SGML</th>\n",
       "      <td>a parent specification behind what eventually became XML</td>\n",
       "    </tr>\n",
       "    <tr>\n",
       "      <th>Sphinx</th>\n",
       "      <td>a documentation generator, targeting the web in particular, for use with Python</td>\n",
       "    </tr>\n",
       "    <tr>\n",
       "      <th>TLS</th>\n",
       "      <td>Transport Layer Security, used to turn HTTP into HTTPS</td>\n",
       "    </tr>\n",
       "    <tr>\n",
       "      <th>web browser</th>\n",
       "      <td>HTTP client, sends requests, gets responses</td>\n",
       "    </tr>\n",
       "    <tr>\n",
       "      <th>web server</th>\n",
       "      <td>accepts and processes (or rejects) HTTP requests, sends responses</td>\n",
       "    </tr>\n",
       "    <tr>\n",
       "      <th>XML</th>\n",
       "      <td>a markup language using pointy brackets, reminiscent of HTML, for structured data</td>\n",
       "    </tr>\n",
       "  </tbody>\n",
       "</table>\n",
       "</div>"
      ],
      "text/plain": [
       "                                                                                                       definition\n",
       "term                                                                                                             \n",
       "API                    a set of functions that take variable arguments, providing programmed control of something\n",
       "Bayesian               inferential methods useable even in the absense of any prospect for controlled studies    \n",
       "cell                   a Jupyter Notebook consists of mostly Code and Markdown cells                             \n",
       "code cell              where runnable code, interpreted by the Kernel, is displayed and color coded              \n",
       "CSV                    comma-separated values, one of the simplest data sharing formats                          \n",
       "DataFrame              the star of the pandas package, providing ndarrays with a framing infrastructure          \n",
       "DOM                    the Document Object Model is a tree of graph of a document in a web browser               \n",
       "HTML                   hypertext markup language, almost an XML, defines the DOM in tandem with CSS              \n",
       "HTTP                   hypertext transfer protocol                                                               \n",
       "JavaScript             a computer language, not confined to running inside browsers but happy there              \n",
       "json                   JavaScript Object Notation is a way to save data (compare with XML)                       \n",
       "Jupyter Notebook (JN)  like a web page, but interactive, stored as json                                          \n",
       "Kernel                 an interpreter, e.g. Python, ready to process JN code cells and return results            \n",
       "localhost              the IP address of the host computer: 127.0.0.1                                            \n",
       "markdown cell          uses a markup called markdown to format the text cells in a Jupyter Notebook              \n",
       "matplotlib             data visualization package for Python, originally written by John D. Hunter               \n",
       "ndarray                n-dimensional array, the star of the numpy package, a multi-axis data structure           \n",
       "numpy                  number crunchy goodness, vectorizes computations on n-dimensional arrays                  \n",
       "pandas                 wraps numpy arrays in handsome frames with row and column indexes                         \n",
       "Pascal                 an early computer language, later commercially available as Delphi from Borland           \n",
       "PGP                    Pretty Good Privacy, RSA before the US patent expired, by Phil Zimmerman                  \n",
       "Pharo                  a Smalltalk-like language and ecosystem that competes with Python's                       \n",
       "port                   internet services connect through IP:port addresses, JN usually on port 8888              \n",
       "Python                 a computer language from Holland (the Netherlands) that went viral                        \n",
       "RSA                    public key crypto algorithm, named for collaborators Rivest, Shamir, Adleman              \n",
       "Ruby                   a programming language somewhat like Python and Perl, invented by Yukihiro Matsumoto      \n",
       "seaborn                adds new powers to matplotlib, makes pretty plots                                         \n",
       "SGML                   a parent specification behind what eventually became XML                                  \n",
       "Sphinx                 a documentation generator, targeting the web in particular, for use with Python           \n",
       "TLS                    Transport Layer Security, used to turn HTTP into HTTPS                                    \n",
       "web browser            HTTP client, sends requests, gets responses                                               \n",
       "web server             accepts and processes (or rejects) HTTP requests, sends responses                         \n",
       "XML                    a markup language using pointy brackets, reminiscent of HTML, for structured data         "
      ]
     },
     "execution_count": 13,
     "metadata": {},
     "output_type": "execute_result"
    }
   ],
   "source": [
    "pd.set_option('display.max_colwidth', -1)  # max width on columns please\n",
    "glossary_df"
   ]
  },
  {
   "cell_type": "code",
   "execution_count": 14,
   "metadata": {},
   "outputs": [],
   "source": [
    "glossary_df.to_json('glossary2.json')"
   ]
  },
  {
   "cell_type": "markdown",
   "metadata": {},
   "source": [
    "## Slicing a Pandas DataFrame\n",
    "\n",
    "We're free to pick out a range of rows based on starting and ending values. using the .loc method with square brackets. The .iloc method assumes a purely numeric index of consecutive integers, whether one is defined or not."
   ]
  },
  {
   "cell_type": "code",
   "execution_count": 15,
   "metadata": {},
   "outputs": [
    {
     "data": {
      "text/html": [
       "<div>\n",
       "<style scoped>\n",
       "    .dataframe tbody tr th:only-of-type {\n",
       "        vertical-align: middle;\n",
       "    }\n",
       "\n",
       "    .dataframe tbody tr th {\n",
       "        vertical-align: top;\n",
       "    }\n",
       "\n",
       "    .dataframe thead th {\n",
       "        text-align: right;\n",
       "    }\n",
       "</style>\n",
       "<table border=\"1\" class=\"dataframe\">\n",
       "  <thead>\n",
       "    <tr style=\"text-align: right;\">\n",
       "      <th></th>\n",
       "      <th>definition</th>\n",
       "    </tr>\n",
       "    <tr>\n",
       "      <th>term</th>\n",
       "      <th></th>\n",
       "    </tr>\n",
       "  </thead>\n",
       "  <tbody>\n",
       "    <tr>\n",
       "      <th>code cell</th>\n",
       "      <td>where runnable code, interpreted by the Kernel, is displayed and color coded</td>\n",
       "    </tr>\n",
       "    <tr>\n",
       "      <th>CSV</th>\n",
       "      <td>comma-separated values, one of the simplest data sharing formats</td>\n",
       "    </tr>\n",
       "    <tr>\n",
       "      <th>DataFrame</th>\n",
       "      <td>the star of the pandas package, providing ndarrays with a framing infrastructure</td>\n",
       "    </tr>\n",
       "    <tr>\n",
       "      <th>DOM</th>\n",
       "      <td>the Document Object Model is a tree of graph of a document in a web browser</td>\n",
       "    </tr>\n",
       "    <tr>\n",
       "      <th>HTML</th>\n",
       "      <td>hypertext markup language, almost an XML, defines the DOM in tandem with CSS</td>\n",
       "    </tr>\n",
       "    <tr>\n",
       "      <th>HTTP</th>\n",
       "      <td>hypertext transfer protocol</td>\n",
       "    </tr>\n",
       "    <tr>\n",
       "      <th>JavaScript</th>\n",
       "      <td>a computer language, not confined to running inside browsers but happy there</td>\n",
       "    </tr>\n",
       "  </tbody>\n",
       "</table>\n",
       "</div>"
      ],
      "text/plain": [
       "                                                                                  definition\n",
       "term                                                                                        \n",
       "code cell   where runnable code, interpreted by the Kernel, is displayed and color coded    \n",
       "CSV         comma-separated values, one of the simplest data sharing formats                \n",
       "DataFrame   the star of the pandas package, providing ndarrays with a framing infrastructure\n",
       "DOM         the Document Object Model is a tree of graph of a document in a web browser     \n",
       "HTML        hypertext markup language, almost an XML, defines the DOM in tandem with CSS    \n",
       "HTTP        hypertext transfer protocol                                                     \n",
       "JavaScript  a computer language, not confined to running inside browsers but happy there    "
      ]
     },
     "execution_count": 15,
     "metadata": {},
     "output_type": "execute_result"
    }
   ],
   "source": [
    "glossary_df.iloc[3:10] # numeric indexing is from 0 and non-inclusive of the outer bound"
   ]
  },
  {
   "cell_type": "code",
   "execution_count": 16,
   "metadata": {},
   "outputs": [
    {
     "data": {
      "text/html": [
       "<div>\n",
       "<style scoped>\n",
       "    .dataframe tbody tr th:only-of-type {\n",
       "        vertical-align: middle;\n",
       "    }\n",
       "\n",
       "    .dataframe tbody tr th {\n",
       "        vertical-align: top;\n",
       "    }\n",
       "\n",
       "    .dataframe thead th {\n",
       "        text-align: right;\n",
       "    }\n",
       "</style>\n",
       "<table border=\"1\" class=\"dataframe\">\n",
       "  <thead>\n",
       "    <tr style=\"text-align: right;\">\n",
       "      <th></th>\n",
       "      <th>definition</th>\n",
       "    </tr>\n",
       "    <tr>\n",
       "      <th>term</th>\n",
       "      <th></th>\n",
       "    </tr>\n",
       "  </thead>\n",
       "  <tbody>\n",
       "    <tr>\n",
       "      <th>HTML</th>\n",
       "      <td>hypertext markup language, almost an XML, defines the DOM in tandem with CSS</td>\n",
       "    </tr>\n",
       "    <tr>\n",
       "      <th>HTTP</th>\n",
       "      <td>hypertext transfer protocol</td>\n",
       "    </tr>\n",
       "    <tr>\n",
       "      <th>JavaScript</th>\n",
       "      <td>a computer language, not confined to running inside browsers but happy there</td>\n",
       "    </tr>\n",
       "    <tr>\n",
       "      <th>json</th>\n",
       "      <td>JavaScript Object Notation is a way to save data (compare with XML)</td>\n",
       "    </tr>\n",
       "    <tr>\n",
       "      <th>Jupyter Notebook (JN)</th>\n",
       "      <td>like a web page, but interactive, stored as json</td>\n",
       "    </tr>\n",
       "    <tr>\n",
       "      <th>Kernel</th>\n",
       "      <td>an interpreter, e.g. Python, ready to process JN code cells and return results</td>\n",
       "    </tr>\n",
       "  </tbody>\n",
       "</table>\n",
       "</div>"
      ],
      "text/plain": [
       "                                                                                           definition\n",
       "term                                                                                                 \n",
       "HTML                   hypertext markup language, almost an XML, defines the DOM in tandem with CSS  \n",
       "HTTP                   hypertext transfer protocol                                                   \n",
       "JavaScript             a computer language, not confined to running inside browsers but happy there  \n",
       "json                   JavaScript Object Notation is a way to save data (compare with XML)           \n",
       "Jupyter Notebook (JN)  like a web page, but interactive, stored as json                              \n",
       "Kernel                 an interpreter, e.g. Python, ready to process JN code cells and return results"
      ]
     },
     "execution_count": 16,
     "metadata": {},
     "output_type": "execute_result"
    }
   ],
   "source": [
    "glossary_df.loc[\"HTML\":\"Kernel\"]"
   ]
  },
  {
   "cell_type": "code",
   "execution_count": 17,
   "metadata": {},
   "outputs": [
    {
     "data": {
      "text/html": [
       "<div>\n",
       "<style scoped>\n",
       "    .dataframe tbody tr th:only-of-type {\n",
       "        vertical-align: middle;\n",
       "    }\n",
       "\n",
       "    .dataframe tbody tr th {\n",
       "        vertical-align: top;\n",
       "    }\n",
       "\n",
       "    .dataframe thead th {\n",
       "        text-align: right;\n",
       "    }\n",
       "</style>\n",
       "<table border=\"1\" class=\"dataframe\">\n",
       "  <thead>\n",
       "    <tr style=\"text-align: right;\">\n",
       "      <th></th>\n",
       "      <th>definition</th>\n",
       "    </tr>\n",
       "    <tr>\n",
       "      <th>term</th>\n",
       "      <th></th>\n",
       "    </tr>\n",
       "  </thead>\n",
       "  <tbody>\n",
       "    <tr>\n",
       "      <th>Python</th>\n",
       "      <td>a computer language from Holland (the Netherlands) that went viral</td>\n",
       "    </tr>\n",
       "    <tr>\n",
       "      <th>RSA</th>\n",
       "      <td>public key crypto algorithm, named for collaborators Rivest, Shamir, Adleman</td>\n",
       "    </tr>\n",
       "    <tr>\n",
       "      <th>Ruby</th>\n",
       "      <td>a programming language somewhat like Python and Perl, invented by Yukihiro Matsumoto</td>\n",
       "    </tr>\n",
       "    <tr>\n",
       "      <th>seaborn</th>\n",
       "      <td>adds new powers to matplotlib, makes pretty plots</td>\n",
       "    </tr>\n",
       "    <tr>\n",
       "      <th>SGML</th>\n",
       "      <td>a parent specification behind what eventually became XML</td>\n",
       "    </tr>\n",
       "    <tr>\n",
       "      <th>Sphinx</th>\n",
       "      <td>a documentation generator, targeting the web in particular, for use with Python</td>\n",
       "    </tr>\n",
       "    <tr>\n",
       "      <th>TLS</th>\n",
       "      <td>Transport Layer Security, used to turn HTTP into HTTPS</td>\n",
       "    </tr>\n",
       "    <tr>\n",
       "      <th>web browser</th>\n",
       "      <td>HTTP client, sends requests, gets responses</td>\n",
       "    </tr>\n",
       "    <tr>\n",
       "      <th>web server</th>\n",
       "      <td>accepts and processes (or rejects) HTTP requests, sends responses</td>\n",
       "    </tr>\n",
       "    <tr>\n",
       "      <th>XML</th>\n",
       "      <td>a markup language using pointy brackets, reminiscent of HTML, for structured data</td>\n",
       "    </tr>\n",
       "  </tbody>\n",
       "</table>\n",
       "</div>"
      ],
      "text/plain": [
       "                                                                                       definition\n",
       "term                                                                                             \n",
       "Python       a computer language from Holland (the Netherlands) that went viral                  \n",
       "RSA          public key crypto algorithm, named for collaborators Rivest, Shamir, Adleman        \n",
       "Ruby         a programming language somewhat like Python and Perl, invented by Yukihiro Matsumoto\n",
       "seaborn      adds new powers to matplotlib, makes pretty plots                                   \n",
       "SGML         a parent specification behind what eventually became XML                            \n",
       "Sphinx       a documentation generator, targeting the web in particular, for use with Python     \n",
       "TLS          Transport Layer Security, used to turn HTTP into HTTPS                              \n",
       "web browser  HTTP client, sends requests, gets responses                                         \n",
       "web server   accepts and processes (or rejects) HTTP requests, sends responses                   \n",
       "XML          a markup language using pointy brackets, reminiscent of HTML, for structured data   "
      ]
     },
     "execution_count": 17,
     "metadata": {},
     "output_type": "execute_result"
    }
   ],
   "source": [
    "glossary_df.loc[\"Python\":]  # slice from Python to the end"
   ]
  },
  {
   "cell_type": "markdown",
   "metadata": {},
   "source": [
    "### A First Look at Seaborn\n",
    "\n",
    "[Seaborn](https://seaborn.pydata.org/introduction.html)\n",
    "\n",
    "The only change is ```sns.set()``` is run, prior to invoking the very same ```plot_functions```.  \n",
    "\n",
    "Notice the cosmetic differences, procured for free."
   ]
  },
  {
   "cell_type": "code",
   "execution_count": 18,
   "metadata": {},
   "outputs": [
    {
     "data": {
      "image/png": "[encoded data removed]",
      "text/plain": [
       "<Figure size 720x360 with 1 Axes>"
      ]
     },
     "metadata": {},
     "output_type": "display_data"
    }
   ],
   "source": [
    "plot_functions()"
   ]
  },
  {
   "cell_type": "code",
   "execution_count": 19,
   "metadata": {},
   "outputs": [],
   "source": [
    "sns.set()"
   ]
  },
  {
   "cell_type": "code",
   "execution_count": 20,
   "metadata": {},
   "outputs": [
    {
     "data": {
      "image/png": "[encoded data removed]",
      "text/plain": [
       "<Figure size 720x360 with 1 Axes>"
      ]
     },
     "metadata": {},
     "output_type": "display_data"
    }
   ],
   "source": [
    "plot_functions()"
   ]
  },
  {
   "cell_type": "markdown",
   "metadata": {},
   "source": [
    "What does more advanced seaborn look like?  [Click here](https://towardsdatascience.com/3-awesome-visualization-techniques-for-every-dataset-9737eecacbe8) for an example on *Medium*."
   ]
  }
 ],
 "metadata": {
  "kernelspec": {
   "display_name": "Python 3",
   "language": "python",
   "name": "python3"
  },
  "language_info": {
   "codemirror_mode": {
    "name": "ipython",
    "version": 3
   },
   "file_extension": ".py",
   "mimetype": "text/x-python",
   "name": "python",
   "nbconvert_exporter": "python",
   "pygments_lexer": "ipython3",
   "version": "3.6.8"
  }
 },
 "nbformat": 4,
 "nbformat_minor": 2
}
