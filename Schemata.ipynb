{
 "cells": [
  {
   "cell_type": "markdown",
   "id": "624691e9-27e6-462a-8363-02848eeee7db",
   "metadata": {},
   "source": [
    "## M4W Project (Math for Wisdom)"
   ]
  },
  {
   "cell_type": "markdown",
   "id": "211dd3d1-01f3-4fbb-abbb-8abda7de8953",
   "metadata": {},
   "source": [
    "<a data-flickr-embed=\"true\" href=\"https://www.flickr.com/photos/kirbyurner/52732677653/in/datetaken/\" title=\"Screen Shot 2023-03-07 at 8.16.31 AM\"><img src=\"https://live.staticflickr.com/65535/52732677653_71acd99dd3_z.jpg\" width=\"640\" height=\"471\" alt=\"Screen Shot 2023-03-07 at 8.16.31 AM\"/></a><script async src=\"//embedr.flickr.com/assets/client-code.js\" charset=\"utf-8\"></script>\n",
    "\n",
    "Uber Dynkin Diagram by [Andrius Kulikauskas](https://www.math4wisdom.com/) using the cloud-based drafting tool [math3d.org](math3d.org)."
   ]
  },
  {
   "cell_type": "markdown",
   "id": "332015c8-136e-430e-9c65-ffe9471ae25d",
   "metadata": {},
   "source": [
    "## XYZ versus IVM coordinate systems\n",
    "\n",
    "Let's agree that how we relate IVM and XYZ coordinates is somewhat by convention.  I would argue that if our purpose is to stay within Synergetics, then some conventions make more sense than others.\n",
    "\n",
    "Here's what I've come to:\n",
    "\n",
    "Consider the 8 octants of XYZ, i.e. we can label them by which XYZ basis vectors i,j,k are positive and which negative, to reach points deep inside each of them. \n",
    "\n",
    "We have (+, +, +) (+, -, +)(+, -, -)... (-, -, -), so eight combos in total.  $2^{3}$.  That's XYZ. \n",
    "\n",
    "In the case of Quadrays, we speak of four quadrants and distinguish them in terms of which basis vector is not needed i.e. at least one vector is 0 -- the vector pointing away from the quadrant we're in, when addressing some arbitrary point in space.\n",
    "\n",
    "The tetrahedron's four quadrays splay apart from one another at the origin (0,0,0,0) at an angle of about 109.47 degrees.  We may think of any two of them as forming a pair of \"rabbit ears\"."
   ]
  },
  {
   "cell_type": "markdown",
   "id": "9e5d8863-88f7-4805-9044-a7d2af33ae71",
   "metadata": {},
   "source": [
    "<a data-flickr-embed=\"true\" href=\"https://www.flickr.com/photos/kirbyurner/52748068817/in/datetaken/\" title=\"rabbit_ears\"><img src=\"https://live.staticflickr.com/65535/52748068817_e193b0c4f0_w.jpg\" width=\"400\" height=\"400\" alt=\"rabbit_ears\"/></a><script async src=\"//embedr.flickr.com/assets/client-code.js\" charset=\"utf-8\"></script>"
   ]
  },
  {
   "cell_type": "markdown",
   "id": "67cd8938-a27f-4d53-b07f-d77d6ee85d27",
   "metadata": {},
   "source": [
    "<a data-flickr-embed=\"true\" href=\"https://www.flickr.com/photos/kirbyurner/4073009388/in/photolist-JotMo-2ondmT4-GsURhL-8cn39x-KjMqQP-jjTX9Q-2mZq5Lb-2mTB9R8-Bpf1cD-dXVxsM-2mK3nhE-bhjf7P-7cVeMN-jjQKR2-2jxGLDx-8P2cs1-jjPxdF-dj1wJw-jjQPyH-jjTYJ3-jjRh9s-jjPNN8-2mYtG3k-2i4pkK8-2i4pkLf-jpfFXG-jnjYkJ-2mFYn7K-2mZzfpD-2m29ok8-2myMppk-jKwah8-Gc21oL-dq3Pno-7rwtU1-4ZEr4-4ZEr3\" title=\"Quadray Coordinates\"><img src=\"https://live.staticflickr.com/2693/4073009388_e1da93dbd4_w.jpg\" width=\"400\" height=\"350\" alt=\"Quadray Coordinates\"/></a><script async src=\"//embedr.flickr.com/assets/client-code.js\" charset=\"utf-8\"></script>"
   ]
  },
  {
   "cell_type": "code",
   "execution_count": 1,
   "id": "45ef9520-3fde-4cb6-ac14-06fbeee7e129",
   "metadata": {},
   "outputs": [],
   "source": [
    "import qrays, itertools\n",
    "from qrays import Qvector\n",
    "perm = itertools.permutations"
   ]
  },
  {
   "cell_type": "code",
   "execution_count": 2,
   "id": "6c20c8c5-b0b3-4ff5-b186-1d5a468b48b4",
   "metadata": {},
   "outputs": [],
   "source": [
    "a = Qvector((1,0,0,0))\n",
    "b = Qvector((0,1,0,0))\n",
    "c = Qvector((0,0,1,0))\n",
    "d = Qvector((0,0,0,1))"
   ]
  },
  {
   "cell_type": "code",
   "execution_count": 3,
   "id": "e1a769f5-f84d-44d8-9914-1f09b21ca10e",
   "metadata": {},
   "outputs": [
    {
     "data": {
      "text/latex": [
       "$\\displaystyle 109.471220634491$"
      ],
      "text/plain": [
       "109.471220634491"
      ]
     },
     "execution_count": 3,
     "metadata": {},
     "output_type": "execute_result"
    }
   ],
   "source": [
    "a.angle(b)"
   ]
  },
  {
   "cell_type": "code",
   "execution_count": 4,
   "id": "c7bccd1f-1baf-4d6b-8b4c-8efec414cbb4",
   "metadata": {},
   "outputs": [
    {
     "data": {
      "text/latex": [
       "$\\displaystyle 109.471220634491$"
      ],
      "text/plain": [
       "109.471220634491"
      ]
     },
     "execution_count": 4,
     "metadata": {},
     "output_type": "execute_result"
    }
   ],
   "source": [
    "b.angle(c)"
   ]
  },
  {
   "cell_type": "markdown",
   "id": "49dcd9e9-8983-42f5-a93c-5f3b0fc38e29",
   "metadata": {},
   "source": [
    "My focus is on the cube's six face diagonals.  The cube has one corner in each octant of XYZ and I'm making sure my (1,0,0,0) corresponds to a corner in the all-positive octant.  I want the edges of my tetrahedron (cube face diagonals) to be 1, so the cube edges are sqrt(2)/2.\n",
    "\n"
   ]
  },
  {
   "cell_type": "code",
   "execution_count": 5,
   "id": "ef75646c-a179-4984-b460-84ac30dcac0a",
   "metadata": {},
   "outputs": [
    {
     "data": {
      "text/plain": [
       "xyz_vector(x=0.25*sqrt(2), y=0.25*sqrt(2), z=0.25*sqrt(2))"
      ]
     },
     "execution_count": 5,
     "metadata": {},
     "output_type": "execute_result"
    }
   ],
   "source": [
    "a.xyz"
   ]
  },
  {
   "cell_type": "code",
   "execution_count": 6,
   "id": "9137b4c1-37ab-41d5-84c3-a1303b47963d",
   "metadata": {},
   "outputs": [
    {
     "data": {
      "text/plain": [
       "xyz_vector(x=-0.25*sqrt(2), y=-0.25*sqrt(2), z=0.25*sqrt(2))"
      ]
     },
     "execution_count": 6,
     "metadata": {},
     "output_type": "execute_result"
    }
   ],
   "source": [
    "b.xyz"
   ]
  },
  {
   "cell_type": "markdown",
   "id": "461b1c57-dca1-4033-9e6c-ea3e6720c8e5",
   "metadata": {},
   "source": [
    "The XYZ coordinates of quadray (1,0,0,0):"
   ]
  },
  {
   "cell_type": "code",
   "execution_count": 7,
   "id": "b65c08a5-a15b-4b45-a873-417e62d4d363",
   "metadata": {},
   "outputs": [
    {
     "data": {
      "text/plain": [
       "(0.353553390593274, 0.353553390593274, 0.353553390593274)"
      ]
     },
     "execution_count": 7,
     "metadata": {},
     "output_type": "execute_result"
    }
   ],
   "source": [
    "a.xyz.x.evalf(), a.xyz.y.evalf(), a.xyz.z.evalf()"
   ]
  },
  {
   "cell_type": "markdown",
   "id": "c42d5582-dc6e-4650-8e63-e7e0085a11e7",
   "metadata": {},
   "source": [
    "<a data-flickr-embed=\"true\" href=\"https://www.flickr.com/photos/kirbyurner/52748599441/in/datetaken/\" title=\"quadrays\"><img src=\"https://live.staticflickr.com/65535/52748599441_14ccaa246e_z.jpg\" width=\"640\" height=\"494\" alt=\"quadrays\"/></a><script async src=\"//embedr.flickr.com/assets/client-code.js\" charset=\"utf-8\"></script>"
   ]
  },
  {
   "cell_type": "markdown",
   "id": "9904cdd8-25b6-4312-919a-97aef667a83c",
   "metadata": {},
   "source": [
    "To connect back to the topic of cube's 12 mid-edges, per the four mutually intersecting hexagons we've been playing with, that's where I'm defining \"the 12 sphere centers around a central sphere\" as linear combinations of the four quadrays in question.  "
   ]
  },
  {
   "cell_type": "code",
   "execution_count": 8,
   "id": "ed2c0f10-43ea-44a9-bf6a-e0a50f2bbabd",
   "metadata": {},
   "outputs": [],
   "source": [
    "perm = itertools.permutations"
   ]
  },
  {
   "cell_type": "code",
   "execution_count": 9,
   "id": "a5b9c4e6-d141-4f3d-9760-7f3ef24bce7c",
   "metadata": {},
   "outputs": [],
   "source": [
    "midpoints = {p for p in perm([2,1,1,0],4)}"
   ]
  },
  {
   "cell_type": "code",
   "execution_count": 10,
   "id": "c1fea909-3b96-4605-a9fd-f67fe74fedb3",
   "metadata": {},
   "outputs": [
    {
     "data": {
      "text/plain": [
       "{(0, 1, 1, 2),\n",
       " (0, 1, 2, 1),\n",
       " (0, 2, 1, 1),\n",
       " (1, 0, 1, 2),\n",
       " (1, 0, 2, 1),\n",
       " (1, 1, 0, 2),\n",
       " (1, 1, 2, 0),\n",
       " (1, 2, 0, 1),\n",
       " (1, 2, 1, 0),\n",
       " (2, 0, 1, 1),\n",
       " (2, 1, 0, 1),\n",
       " (2, 1, 1, 0)}"
      ]
     },
     "execution_count": 10,
     "metadata": {},
     "output_type": "execute_result"
    }
   ],
   "source": [
    "midpoints"
   ]
  },
  {
   "cell_type": "code",
   "execution_count": 11,
   "id": "6c7e5006-6448-458c-bd12-73fb71646ff9",
   "metadata": {},
   "outputs": [
    {
     "data": {
      "text/latex": [
       "$\\displaystyle 0.25 \\sqrt{2}$"
      ],
      "text/plain": [
       "0.25*sqrt(2)"
      ]
     },
     "execution_count": 11,
     "metadata": {},
     "output_type": "execute_result"
    }
   ],
   "source": [
    "a.xyz.x"
   ]
  },
  {
   "cell_type": "code",
   "execution_count": 12,
   "id": "cfa1adf1-db1c-4628-a23c-df3ce2befcc3",
   "metadata": {},
   "outputs": [
    {
     "data": {
      "text/latex": [
       "$\\displaystyle 0.353553390593274$"
      ],
      "text/plain": [
       "0.353553390593274"
      ]
     },
     "execution_count": 12,
     "metadata": {},
     "output_type": "execute_result"
    }
   ],
   "source": [
    "a.xyz.x.evalf()"
   ]
  },
  {
   "cell_type": "code",
   "execution_count": 13,
   "id": "8d747753-74f5-4fc9-ba3f-5e5c0b0c2dcf",
   "metadata": {},
   "outputs": [
    {
     "name": "stdout",
     "output_type": "stream",
     "text": [
      "( 0.7071,  0.0000, -0.7071)\n",
      "( 0.0000,  0.7071,  0.7071)\n",
      "(-0.7071,  0.7071,  0.0000)\n",
      "(-0.7071,  0.0000, -0.7071)\n",
      "( 0.0000,  0.7071, -0.7071)\n",
      "( 0.0000, -0.7071,  0.7071)\n",
      "( 0.7071,  0.0000,  0.7071)\n",
      "( 0.7071,  0.7071,  0.0000)\n",
      "( 0.7071, -0.7071,  0.0000)\n",
      "(-0.7071,  0.0000,  0.7071)\n",
      "(-0.7071, -0.7071,  0.0000)\n",
      "( 0.0000, -0.7071, -0.7071)\n"
     ]
    }
   ],
   "source": [
    "for v in midpoints:\n",
    "    vec=Qvector(v)\n",
    "    print(f\"({float(vec.xyz.x.evalf()):7.4f}, \"\n",
    "          f\"{float(vec.xyz.y.evalf()):7.4f}, \"\n",
    "          f\"{float(vec.xyz.z.evalf()):7.4f})\")"
   ]
  },
  {
   "cell_type": "markdown",
   "id": "40144f1b-d154-4bd7-8868-cba206a384ff",
   "metadata": {},
   "source": [
    "So now we're ready to make hops in any of those 12 directions, from sphere to sphere, and stay with whole number non-negative coordinates.  This is the CCP ocean, with 12 spheres around 1.\n",
    "\n",
    "Give me any four points in space and I can return its tetra-volume using a variant of the Caley-Menger determinant formula.  The six edges of the tetrahedron are lowercase a..f while those same lengths to the 2nd power will be A... F.\n",
    "\n",
    "<br />\n",
    "\n",
    "\n",
    "$$\n",
    "V_{ivm} = (1/16) \n",
    "\\begin{vmatrix}\n",
    "0&1&1&1&1\\\\\n",
    "1&0&A&B&C\\\\\n",
    "1&A&0&D&F\\\\\n",
    "1&B&D&0&E\\\\\n",
    "1&C&F&E&0\\\\\n",
    "\\end{vmatrix}^{(1/2)}\n",
    "$$\n",
    "\n",
    "<br />"
   ]
  },
  {
   "cell_type": "code",
   "execution_count": 14,
   "id": "9078742f-8cf4-46b6-bbf0-de5d1d8f2f86",
   "metadata": {},
   "outputs": [],
   "source": [
    "import numpy as np\n",
    "import math\n",
    "\n",
    "def CM_ivm(a, b, c, d, e, f):\n",
    "    # double and 2nd power us\n",
    "    A,B,C,D,E,F = [(2*x)**2 for x in (a,b,c,d,e,f)]\n",
    "    \n",
    "    # Construct a 5x5 matrix per Caley-Menger\n",
    "    M = np.ones((5,5))\n",
    "    M[0,0:5] = 0, 1, 1, 1, 1\n",
    "    M[1,0:5] = 1, 0, A, B, C\n",
    "    M[2,0:5] = 1, A, 0, D, F\n",
    "    M[3,0:5] = 1, B, D, 0, E\n",
    "    M[4,0:5] = 1, C, F, E, 0\n",
    "    print(M) # comment out?\n",
    "    return round(math.sqrt(np.linalg.det(M))/16, 4)  # Syn3 factored in "
   ]
  },
  {
   "cell_type": "code",
   "execution_count": 15,
   "id": "bdfc198a-9e74-4da7-9fcd-c3b0b300a7df",
   "metadata": {},
   "outputs": [
    {
     "name": "stdout",
     "output_type": "stream",
     "text": [
      "[[0. 1. 1. 1. 1.]\n",
      " [1. 0. 4. 4. 4.]\n",
      " [1. 4. 0. 4. 4.]\n",
      " [1. 4. 4. 0. 4.]\n",
      " [1. 4. 4. 4. 0.]]\n"
     ]
    },
    {
     "data": {
      "text/plain": [
       "1.0"
      ]
     },
     "execution_count": 15,
     "metadata": {},
     "output_type": "execute_result"
    }
   ],
   "source": [
    "CM_ivm(1,1,1,1,1,1)"
   ]
  },
  {
   "cell_type": "markdown",
   "id": "e46e428f-add4-4b12-9c45-fbac809c8d58",
   "metadata": {},
   "source": [
    "\n",
    "There's another algorithm that makes more sense to share at this juncture, since we're talking about Quadrays in particular.\n",
    "\n",
    "Here it is:\n",
    "\n",
    "$$\n",
    "V_{ivm} = (1/4) \n",
    "\\begin{vmatrix}\n",
    "a0&a1&a2&a3&1\\\\\n",
    "b0&b1&b2&b3&1\\\\\n",
    "c0&c1&c2&c3&1\\\\\n",
    "d0&d1&d2&d3&1\\\\\n",
    "1&1&1&1&0\\\\\n",
    "\\end{vmatrix}\n",
    "$$\n",
    "<br />\n",
    "\n",
    "\n",
    "In this one, which I credit to Tom Ace, one of the designers behind Quadrays, the 4-tuple coordinates of the Quadrays themselves serve as inputs, to a determinant.  This would not be Caley-Menger."
   ]
  },
  {
   "cell_type": "code",
   "execution_count": 16,
   "id": "517e8890-d168-484d-9595-d327058307d3",
   "metadata": {},
   "outputs": [],
   "source": [
    "def volume(q0, q1, q2, q3):\n",
    "    \"\"\"\n",
    "    Construct a 5x5 matrix per Tom Ace\n",
    "    \"\"\"\n",
    "    A = np.ones((5,5)) # shape, all 1s except..\n",
    "    A[4,4] = 0 # zero in lower right corner\n",
    "    A[0,0:4] = q0.coords\n",
    "    A[1,0:4] = q1.coords\n",
    "    A[2,0:4] = q2.coords\n",
    "    A[3,0:4] = q3.coords\n",
    "    print(A) # comment out?\n",
    "    return abs(np.linalg.det(A))/4 # that's it!"
   ]
  },
  {
   "cell_type": "code",
   "execution_count": 17,
   "id": "2fb15eab-62ee-4328-9ba4-cf16abf31710",
   "metadata": {},
   "outputs": [
    {
     "name": "stdout",
     "output_type": "stream",
     "text": [
      "[[1. 0. 0. 0. 1.]\n",
      " [0. 1. 0. 0. 1.]\n",
      " [0. 0. 1. 0. 1.]\n",
      " [0. 0. 0. 1. 1.]\n",
      " [1. 1. 1. 1. 0.]]\n"
     ]
    },
    {
     "data": {
      "text/plain": [
       "1.0"
      ]
     },
     "execution_count": 17,
     "metadata": {},
     "output_type": "execute_result"
    }
   ],
   "source": [
    "volume(a,b,c,d)"
   ]
  },
  {
   "cell_type": "code",
   "execution_count": 18,
   "id": "a2365988-33cc-40a4-a5e1-5d59ea70a7a2",
   "metadata": {},
   "outputs": [
    {
     "data": {
      "image/jpeg": "[encoded data removed]",
      "text/html": [
       "\n",
       "        <iframe\n",
       "            width=\"400\"\n",
       "            height=\"300\"\n",
       "            src=\"https://www.youtube.com/embed/kJYFleyQiGo\"\n",
       "            frameborder=\"0\"\n",
       "            allowfullscreen\n",
       "            \n",
       "        ></iframe>\n",
       "        "
      ],
      "text/plain": [
       "<IPython.lib.display.YouTubeVideo at 0x7feee493ee80>"
      ]
     },
     "execution_count": 18,
     "metadata": {},
     "output_type": "execute_result"
    }
   ],
   "source": [
    "from IPython.display import YouTubeVideo\n",
    "YouTubeVideo(\"kJYFleyQiGo\")"
   ]
  },
  {
   "cell_type": "markdown",
   "id": "d2e6593a-58c3-4885-af7c-049c087d5cd7",
   "metadata": {},
   "source": [
    "## Retro Rockets Demo\n",
    "\n",
    "Suppose we're sharing the concept of \"vector addition\".  We use \"retro rockets\" that shoot mass exclusively away from the origin.  \n",
    "\n",
    "In the assembly below we have six thrusters oriented towards the corners of a regular octahedron or, same thing, to the face centers of a surrounding cube (origin at the center).\n",
    "\n",
    "The \"amount of thrust\" is the magnitude of a thrust vector, i.e. its length.  When it comes to orientation, we have only these six to choose from.  But by firing more than one at the same time, we beget a \"vector sum\" that puts one vector tail at the tip of the other.\n",
    "\n",
    "Vector addition is commutative:\n",
    "\n",
    "$$\n",
    "\\vec{z} + \\vec{x} + \\vec{y} = \\vec{y} + \\vec{x} + \\vec{z}\n",
    "$$"
   ]
  },
  {
   "cell_type": "markdown",
   "id": "8b61d785-584f-4789-89fc-959c257c698a",
   "metadata": {},
   "source": [
    "<a data-flickr-embed=\"true\" href=\"https://www.flickr.com/photos/kirbyurner/52745897441/in/datetaken/\" title=\"XYZ Pod Thrusters\"><img src=\"https://live.staticflickr.com/65535/52745897441_9c688ef5cf_c.jpg\" width=\"800\" height=\"563\" alt=\"XYZ Pod Thrusters\"/></a><script async src=\"//embedr.flickr.com/assets/client-code.js\" charset=\"utf-8\"></script>"
   ]
  },
  {
   "cell_type": "markdown",
   "id": "9b1b9195-93ce-404d-adf5-ca7554d5d8bc",
   "metadata": {},
   "source": [
    "Here's the six rocket assembly on the launch pad, ready to shoot upward vertically when its three downward-aimed thrusters all fire simultaneously."
   ]
  },
  {
   "cell_type": "markdown",
   "id": "1f1576ba-6c52-4c4f-9676-80964a447bd5",
   "metadata": {},
   "source": [
    "<a data-flickr-embed=\"true\" href=\"https://www.flickr.com/photos/kirbyurner/52745968144/in/datetaken/\" title=\"Six Spoke Ship\"><img src=\"https://live.staticflickr.com/65535/52745968144_0dbc38a402.jpg\" width=\"500\" height=\"375\" alt=\"Six Spoke Ship\"/></a><script async src=\"//embedr.flickr.com/assets/client-code.js\" charset=\"utf-8\"></script>"
   ]
  },
  {
   "cell_type": "markdown",
   "id": "59fd38c4-eb57-4037-8977-abb8338f3265",
   "metadata": {},
   "source": [
    "In the alternative retro rocket assembly, depicted below, we only have four thrusters, aimed from the origin to the vertices of a regular tetrahedron, or, same thing, to a regular tetrahedron's face centers.\n",
    "\n",
    "As above, the \"amount of thrust\" is the magnitude of a thrust vector, i.e. its length.  When it comes to orientation, we have only these four to choose from.  But by firing more than one at the same time, we beget a \"vector sum\" that puts one vector tail at the tip of the other.\n",
    "\n",
    "The order in which vectors are added makes no difference:\n",
    "\n",
    "$$\n",
    "\\vec{d} + \\vec{a} + \\vec{b} + \\vec{c} = \\vec{d} + \\vec{b} + \\vec{a} + \\vec{c}\n",
    "$$"
   ]
  },
  {
   "cell_type": "markdown",
   "id": "aa3e7e70-5e1a-41c9-97d1-07d5c65f87d2",
   "metadata": {
    "tags": []
   },
   "source": [
    "<a data-flickr-embed=\"true\" href=\"https://www.flickr.com/photos/kirbyurner/52746396453/in/datetaken/\" title=\"IVM Pod Thrusters\"><img src=\"https://live.staticflickr.com/65535/52746396453_03a882426b_c.jpg\" width=\"800\" height=\"563\" alt=\"IVM Pod Thrusters\"/></a><script async src=\"//embedr.flickr.com/assets/client-code.js\" charset=\"utf-8\"></script>"
   ]
  },
  {
   "cell_type": "markdown",
   "id": "0bb7b128-edbe-4c2d-9d4a-0dd0cdcf6bbd",
   "metadata": {},
   "source": [
    "Realistically speaking, these retro rockets have finite power, so the magnitude of the vectors is finite also.  Within a certain radius, limited by thruster power, a combination of thrusts should, in theory, be able to sum to any point.  \n",
    "\n",
    "The ship itself (or pod) is then imagined to move precisely opposite the sum total thrust vector, at 180 degrees thereto.  In practice, rotation would enter the picture.  However this is a thought experiment and we only allow translation, with no change in orientation, in either assembly.\n",
    "\n",
    "Both \"ships\" are capable of moving in any linear direction based on their \"thrust pattern\" i.e. based on a linear tip-to-tail addition of six or four rockets respectively.  Not all rockets need to fire.  Indeed, rockets at 180 degrees to one another need not work against each other."
   ]
  },
  {
   "cell_type": "code",
   "execution_count": 19,
   "id": "b8756234-692c-467d-b3a3-85b0c43731c1",
   "metadata": {},
   "outputs": [
    {
     "data": {
      "text/plain": [
       "xyz_vector(x=0.25*sqrt(2), y=0.25*sqrt(2), z=0.25*sqrt(2))"
      ]
     },
     "execution_count": 19,
     "metadata": {},
     "output_type": "execute_result"
    }
   ],
   "source": [
    "a.xyz"
   ]
  },
  {
   "cell_type": "code",
   "execution_count": 20,
   "id": "776f46f2-03c9-42c4-b279-e9dd0fc4bd4b",
   "metadata": {},
   "outputs": [
    {
     "data": {
      "text/plain": [
       "xyz_vector(x=-0.25*sqrt(2), y=-0.25*sqrt(2), z=0.25*sqrt(2))"
      ]
     },
     "execution_count": 20,
     "metadata": {},
     "output_type": "execute_result"
    }
   ],
   "source": [
    "b.xyz"
   ]
  },
  {
   "cell_type": "code",
   "execution_count": 21,
   "id": "9d54588a-a92c-4b68-8e97-d09c8a80d03d",
   "metadata": {},
   "outputs": [
    {
     "data": {
      "text/plain": [
       "1.0"
      ]
     },
     "execution_count": 21,
     "metadata": {},
     "output_type": "execute_result"
    }
   ],
   "source": [
    "(a-b).length()"
   ]
  },
  {
   "cell_type": "code",
   "execution_count": 22,
   "id": "a2a92eee-d3d3-4328-b36a-0f7d8c424d3e",
   "metadata": {},
   "outputs": [
    {
     "data": {
      "text/plain": [
       "xyz_vector(x=-0.25*sqrt(2), y=0.25*sqrt(2), z=-0.25*sqrt(2))"
      ]
     },
     "execution_count": 22,
     "metadata": {},
     "output_type": "execute_result"
    }
   ],
   "source": [
    "c.xyz"
   ]
  },
  {
   "cell_type": "code",
   "execution_count": 23,
   "id": "70b9c4f7-b386-4f82-a7cc-49d59ad1cc31",
   "metadata": {},
   "outputs": [
    {
     "data": {
      "text/plain": [
       "xyz_vector(x=0.25*sqrt(2), y=-0.25*sqrt(2), z=-0.25*sqrt(2))"
      ]
     },
     "execution_count": 23,
     "metadata": {},
     "output_type": "execute_result"
    }
   ],
   "source": [
    "d.xyz"
   ]
  },
  {
   "cell_type": "code",
   "execution_count": 24,
   "id": "ec20fa75-ceee-48d3-b5df-495d97059073",
   "metadata": {},
   "outputs": [
    {
     "name": "stdout",
     "output_type": "stream",
     "text": [
      "1.0 1.0 1.0 1.0 1.0 1.0\n"
     ]
    }
   ],
   "source": [
    "print((a - b).length(),\n",
    "(a - c).length(),\n",
    "(a - d).length(),\n",
    "(b - c).length(),\n",
    "(c - d).length(),\n",
    "(d - b).length())"
   ]
  },
  {
   "cell_type": "code",
   "execution_count": 25,
   "id": "2c52d504-0c14-4979-93a5-9e711816167d",
   "metadata": {},
   "outputs": [
    {
     "name": "stdout",
     "output_type": "stream",
     "text": [
      "1.0\n",
      "1.0\n",
      "1.0\n",
      "1.0\n",
      "1.0\n",
      "1.0\n",
      "1.0\n",
      "1.0\n",
      "1.0\n",
      "1.0\n",
      "1.0\n",
      "1.0\n"
     ]
    }
   ],
   "source": [
    "for v in midpoints:\n",
    "    print(Qvector(v).length())"
   ]
  },
  {
   "cell_type": "code",
   "execution_count": 26,
   "id": "53e8a5a3-05b1-4595-ab1f-75a6c8e28012",
   "metadata": {},
   "outputs": [
    {
     "data": {
      "text/plain": [
       "ivm_vector(a=1, b=0, c=0, d=0)"
      ]
     },
     "execution_count": 26,
     "metadata": {},
     "output_type": "execute_result"
    }
   ],
   "source": [
    "a"
   ]
  },
  {
   "cell_type": "code",
   "execution_count": 27,
   "id": "411a0209-9dd9-4fa3-bcca-38bc5c9c2cda",
   "metadata": {},
   "outputs": [
    {
     "data": {
      "text/plain": [
       "ivm_vector(a=0, b=1, c=1, d=1)"
      ]
     },
     "execution_count": 27,
     "metadata": {},
     "output_type": "execute_result"
    }
   ],
   "source": [
    "-a"
   ]
  },
  {
   "cell_type": "markdown",
   "id": "1f8173e4-a181-4efc-bc18-57d9912973d1",
   "metadata": {
    "tags": []
   },
   "source": [
    "![](https://media.giphy.com/media/v1.Y2lkPTc5MGI3NjExYjRlNzNhNzFiODdkOTM4MjE4Y2RjMWQ5ZDk2NDdhODhlN2E0YzRkMyZjdD1n/c9KRe5M6eYiL3zFtrh/giphy.gif)"
   ]
  },
  {
   "cell_type": "markdown",
   "id": "2985832e-cd57-4bc5-b07b-7ec7e17712f3",
   "metadata": {
    "tags": []
   },
   "source": [
    "**Related readings:**\n",
    "\n",
    "* [M4W Freelists, March, 2023](https://www.freelists.org/archive/math4wisdom/03-2023)\n",
    "* [The Fano Plane](FanoPlane.ipynb)\n",
    "* [Generating the Flextegrity Lattice](Flextegrity_Lattice.ipynb)\n",
    "* [Quadpod](https://controlroom.blogspot.com/2009/03/quadpod.html)\n",
    "* [Tetravolumes with Quadrays](https://nbviewer.org/github/4dsolutions/School_of_Tomorrow/blob/master/Qvolume.ipynb)\n",
    "* [The Tetrahedron: Volume from Edges Formulae](https://nbviewer.org/github/4dsolutions/School_of_Tomorrow/blob/master/VolumeTalk.ipynb)\n",
    "* [Hop's Gallery](http://clowder.net/hop/)\n",
    "* [Quadray Coordinates on Wikipedia](https://en.wikipedia.org/wiki/Quadray_coordinates)\n",
    "* [Lie Theory for the Roboticist (1)](https://youtu.be/nHOcoIyJj2o)\n",
    "* [Lie Theory for the Roboticist (2)](https://youtu.be/csolG83gCV8)\n",
    "* [OOP Meets Algebra, Suggested \"New Ways of Looking\"](http://4dsolutions.net/ocn/oopalgebra.html)"
   ]
  }
 ],
 "metadata": {
  "kernelspec": {
   "display_name": "Python 3 (ipykernel)",
   "language": "python",
   "name": "python3"
  },
  "language_info": {
   "codemirror_mode": {
    "name": "ipython",
    "version": 3
   },
   "file_extension": ".py",
   "mimetype": "text/x-python",
   "name": "python",
   "nbconvert_exporter": "python",
   "pygments_lexer": "ipython3",
   "version": "3.9.15"
  }
 },
 "nbformat": 4,
 "nbformat_minor": 5
}
