{
 "cells": [
  {
   "cell_type": "markdown",
   "id": "cf7236a0-61a1-485e-b99d-fc44d4fedae8",
   "metadata": {
    "tags": []
   },
   "source": [
    "[Oregon Curriculum Network](http://4dsolutions.net/ocn/)\n",
    "\n",
    "[Home](School_of_Tomorrow.ipynb)\n",
    "\n",
    "<a data-flickr-embed=\"true\" href=\"https://www.flickr.com/photos/kirbyurner/23636692173/in/album-72157664250599655/\" title=\"Business Accelerator Building\"><img src=\"https://live.staticflickr.com/1584/23636692173_103b411737_c.jpg\" width=\"800\" height=\"600\" alt=\"Business Accelerator Building\"/></a><script async src=\"//embedr.flickr.com/assets/client-code.js\" charset=\"utf-8\"></script>\n",
    "\n",
    "# Using Python\n",
    "\n",
    "We do not focus on the scientific calculator as our primary computing platform.  Instead we use Python within JupyterLab."
   ]
  },
  {
   "cell_type": "code",
   "execution_count": 1,
   "id": "5f968fb6-f759-4a50-bd96-908a3dd9bc6a",
   "metadata": {},
   "outputs": [
    {
     "data": {
      "text/plain": [
       "'3.11.2 (main, Mar 27 2023, 18:39:42) [Clang 14.0.6 ]'"
      ]
     },
     "execution_count": 1,
     "metadata": {},
     "output_type": "execute_result"
    }
   ],
   "source": [
    "import sys\n",
    "sys.version"
   ]
  },
  {
   "cell_type": "markdown",
   "id": "50d7d740-c5d1-4cfe-99b8-0ae1d442b86a",
   "metadata": {},
   "source": [
    "# XYZ vs IVM Vectors\n",
    "\n",
    "This segment will not be intelligible to students unfamiliar with \"caltrop coordinates\", an esoteric literary topic taken up by Silicon Forest open sourcerers and other such elitist operatives within geekdom.\n",
    "\n",
    "I'm including it here as representative of those segments wherein we leave the beaten track and take a more futuristic (aka \"martian\") track through coordinate geometry.\n",
    "\n",
    "The acronym \"IVM\" (coined by Buckminster Fuller) is used on the humanities side of the C.P. Snow chasm to signify what most Stemites (STEM-ites) refer to as the CCP or FCC, i.e. the cubic close packing or face centered cubic lattice respectively.\n",
    "\n",
    "We play with Fuller's \"unit volume tetrahedron\" idea, wherein the skeletal rods of the IVM define cells of 1 and 4 respectively, given a prime edge length (from sphere center to neighboring sphere center) of either 1 diameter or 2 radii."
   ]
  },
  {
   "cell_type": "code",
   "execution_count": 2,
   "id": "0989fc08-9843-4e52-9870-413e5bf260ee",
   "metadata": {},
   "outputs": [],
   "source": [
    "from qrays import Qvector"
   ]
  },
  {
   "cell_type": "markdown",
   "id": "a61536c9-8804-463b-b753-88ea513a0aab",
   "metadata": {},
   "source": [
    "<a data-flickr-embed=\"true\" href=\"https://www.flickr.com/photos/kirbyurner/51847355339/in/photolist-Bpf1cD-KjMqQP-7cVeMN-8cn39x-JotMo-2jxGLDx-2m29ok8-8P2cs1-2myMppk-2mFYn7K-2mK3nhE-2mTB9R8-2mYtG3k-2mZq5Lb-2mZzfpD-2ondmT4\" title=\"Quadrays on Synergeo\"><img src=\"https://live.staticflickr.com/65535/51847355339_1c31fd6abe_c.jpg\" width=\"800\" height=\"555\" alt=\"Quadrays on Synergeo\"/></a><script async src=\"//embedr.flickr.com/assets/client-code.js\" charset=\"utf-8\"></script>"
   ]
  },
  {
   "cell_type": "markdown",
   "id": "1e3b8898-34c7-41a6-b55d-c97107529775",
   "metadata": {},
   "source": [
    "The four vectors to the corners of a regular tetrahedron of edges one diameter:"
   ]
  },
  {
   "cell_type": "code",
   "execution_count": 3,
   "id": "5c6b1512-15ee-453b-b242-38b96076699e",
   "metadata": {},
   "outputs": [],
   "source": [
    "a = Qvector((1,0,0,0))\n",
    "b = Qvector((0,1,0,0))\n",
    "c = Qvector((0,0,1,0))\n",
    "d = Qvector((0,0,0,1))"
   ]
  },
  {
   "cell_type": "code",
   "execution_count": 4,
   "id": "8e96b848-8daa-40f6-9352-6ab640c62a42",
   "metadata": {},
   "outputs": [
    {
     "name": "stdout",
     "output_type": "stream",
     "text": [
      "0.6123724356957945\n",
      "0.6123724356957945\n",
      "0.6123724356957945\n",
      "0.6123724356957945\n"
     ]
    }
   ],
   "source": [
    "for v in a,b,c,d:\n",
    "    print(v.length())"
   ]
  },
  {
   "cell_type": "code",
   "execution_count": 5,
   "id": "179ca3fe-073e-4c1e-a433-896396d798d0",
   "metadata": {},
   "outputs": [],
   "source": [
    "pairs = [a+b, a+c, a+d, b+c, c+d, b+d]"
   ]
  },
  {
   "cell_type": "code",
   "execution_count": 6,
   "id": "9413cd87-d9fe-40d2-a9c3-5e7e5cee6261",
   "metadata": {},
   "outputs": [
    {
     "data": {
      "text/plain": [
       "[ivm_vector(a=1, b=1, c=0, d=0),\n",
       " ivm_vector(a=1, b=0, c=1, d=0),\n",
       " ivm_vector(a=1, b=0, c=0, d=1),\n",
       " ivm_vector(a=0, b=1, c=1, d=0),\n",
       " ivm_vector(a=0, b=0, c=1, d=1),\n",
       " ivm_vector(a=0, b=1, c=0, d=1)]"
      ]
     },
     "execution_count": 6,
     "metadata": {},
     "output_type": "execute_result"
    }
   ],
   "source": [
    "pairs"
   ]
  },
  {
   "cell_type": "markdown",
   "id": "c3844ba2-a862-4703-8d2e-cb454f22d5cb",
   "metadata": {},
   "source": [
    "These six vectors bisect the tetrahedron's six edges, which are likewise volume 3 cube face diagonals, and continue across the short side of a diamond edge, $\\sqrt{2}/2$ in length, to the center of a neighboring cube.  \n",
    "\n",
    "Cube center to cube center is $\\sqrt{2}/2$ meaning that this likewise the cube's edge length.  \n",
    "\n",
    "Cube face diagonals are therefore 1.  In this system that's are prime vector i.e. D = 1, R = 0.5"
   ]
  },
  {
   "cell_type": "code",
   "execution_count": 7,
   "id": "def7e4c2-9f99-4ea6-9afd-2334980d57d6",
   "metadata": {},
   "outputs": [
    {
     "name": "stdout",
     "output_type": "stream",
     "text": [
      "0.7071067811865476\n",
      "0.7071067811865476\n",
      "0.7071067811865476\n",
      "0.7071067811865476\n",
      "0.7071067811865476\n",
      "0.7071067811865476\n"
     ]
    }
   ],
   "source": [
    "for v in pairs:\n",
    "    print(v.length())"
   ]
  },
  {
   "cell_type": "code",
   "execution_count": 8,
   "id": "25621177-71b6-4b40-8d15-b4f8809435cb",
   "metadata": {},
   "outputs": [],
   "source": [
    "e = -a\n",
    "f = -b\n",
    "g = -c\n",
    "h = -d"
   ]
  },
  {
   "cell_type": "code",
   "execution_count": 9,
   "id": "46518560-2d91-4a7e-aa3e-aa80a41a4377",
   "metadata": {},
   "outputs": [
    {
     "name": "stdout",
     "output_type": "stream",
     "text": [
      "0.6123724356957945\n",
      "0.6123724356957945\n",
      "0.6123724356957945\n",
      "0.6123724356957945\n"
     ]
    }
   ],
   "source": [
    "for v in e,f,g,h:\n",
    "    print(v.length())"
   ]
  },
  {
   "cell_type": "markdown",
   "id": "30f25e3b-06c9-4421-b080-3e565215006f",
   "metadata": {},
   "source": [
    "# Pascal's Triangle\n",
    "\n",
    "Pascal's Triangle (PT) is a grand central station in our Glass Bead Games, wherein sphere packing serves as a conceptual starting point.\n",
    "\n",
    "[Some Early OCN Materials](http://4dsolutions.net/ocn/numeracy0.html)"
   ]
  },
  {
   "cell_type": "code",
   "execution_count": 10,
   "id": "e171ae5c-7caf-438b-9a54-bd50408d9d10",
   "metadata": {},
   "outputs": [],
   "source": [
    "import numpy as np\n",
    "import seaborn as sb"
   ]
  },
  {
   "cell_type": "code",
   "execution_count": 11,
   "id": "fcae2b05-bf71-4c0e-9c22-82fe56d8f137",
   "metadata": {},
   "outputs": [],
   "source": [
    "def pascal():\n",
    "    row = [1]\n",
    "    while True:\n",
    "        yield row\n",
    "        row = [a + b for a, b in zip(row + [0], [0] + row)]"
   ]
  },
  {
   "cell_type": "code",
   "execution_count": 12,
   "id": "f854efc5-91ab-4e82-b100-824cb6fd8319",
   "metadata": {},
   "outputs": [],
   "source": [
    "def PT(n):\n",
    "    pt = pascal()\n",
    "    bed = np.zeros((n, n), dtype=int)\n",
    "\n",
    "    for i in range(n):\n",
    "        cells = next(pt)\n",
    "        bed[i, :i+1] = cells\n",
    "\n",
    "    return bed"
   ]
  },
  {
   "cell_type": "code",
   "execution_count": 13,
   "id": "59bf46ff-60a3-441a-b62c-70c0c51690e1",
   "metadata": {},
   "outputs": [
    {
     "data": {
      "text/plain": [
       "array([[ 1,  0,  0,  0,  0,  0],\n",
       "       [ 1,  1,  0,  0,  0,  0],\n",
       "       [ 1,  2,  1,  0,  0,  0],\n",
       "       [ 1,  3,  3,  1,  0,  0],\n",
       "       [ 1,  4,  6,  4,  1,  0],\n",
       "       [ 1,  5, 10, 10,  5,  1]])"
      ]
     },
     "execution_count": 13,
     "metadata": {},
     "output_type": "execute_result"
    }
   ],
   "source": [
    "PT(6)"
   ]
  },
  {
   "cell_type": "code",
   "execution_count": 14,
   "id": "95120820-5c8d-418e-bcee-1407096cbb46",
   "metadata": {},
   "outputs": [
    {
     "data": {
      "text/plain": [
       "array([     1,     20,    190,   1140,   4845,  15504,  38760,  77520,\n",
       "       125970, 167960, 184756, 167960, 125970,  77520,  38760,  15504,\n",
       "         4845,   1140,    190,     20,      1])"
      ]
     },
     "execution_count": 14,
     "metadata": {},
     "output_type": "execute_result"
    }
   ],
   "source": [
    "last_row = PT(21)[-1,:]\n",
    "last_row"
   ]
  },
  {
   "cell_type": "code",
   "execution_count": null,
   "id": "2df24da2-b740-4a48-bd87-3864a20c4734",
   "metadata": {},
   "outputs": [],
   "source": [
    "sb.lineplot(data=last_row);"
   ]
  },
  {
   "cell_type": "code",
   "execution_count": null,
   "id": "2282510d-5929-4b13-9051-195fec79ed1d",
   "metadata": {},
   "outputs": [],
   "source": [
    "rng = np.random.default_rng(42)"
   ]
  },
  {
   "cell_type": "code",
   "execution_count": null,
   "id": "ce776688-d270-4bdf-b08b-64716a2fe8e0",
   "metadata": {},
   "outputs": [],
   "source": [
    "s = rng.standard_normal(10000)"
   ]
  },
  {
   "cell_type": "code",
   "execution_count": null,
   "id": "4aa7489e-815a-4e4b-bf0b-2e89264a6112",
   "metadata": {},
   "outputs": [],
   "source": [
    "sb.displot(data=s, kind=\"hist\", bins=20, kde=True);"
   ]
  },
  {
   "cell_type": "markdown",
   "id": "cf3df596-a695-4970-94c9-72bcf991d8cd",
   "metadata": {},
   "source": [
    "For further reading:\n",
    "\n",
    "* [Generating the Flextegrity Lattice](https://nbviewer.org/github/4dsolutions/School_of_Tomorrow/blob/master/Flextegrity_Lattice.ipynb)\n",
    "* [Focal Points](https://mybizmo.blogspot.com/2006/09/focal-points.html)\n",
    "* [Research Papers Online](https://kirbyurner.academia.edu/research)"
   ]
  }
 ],
 "metadata": {
  "kernelspec": {
   "display_name": "Python 3 (ipykernel)",
   "language": "python",
   "name": "python3"
  },
  "language_info": {
   "codemirror_mode": {
    "name": "ipython",
    "version": 3
   },
   "file_extension": ".py",
   "mimetype": "text/x-python",
   "name": "python",
   "nbconvert_exporter": "python",
   "pygments_lexer": "ipython3",
   "version": "3.11.2"
  }
 },
 "nbformat": 4,
 "nbformat_minor": 5
}
