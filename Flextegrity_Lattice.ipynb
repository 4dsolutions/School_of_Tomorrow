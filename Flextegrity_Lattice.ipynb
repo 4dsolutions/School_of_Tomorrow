{
 "cells": [
  {
   "cell_type": "markdown",
   "metadata": {},
   "source": [
    "# Generating the Flextegrity Lattice\n",
    "\n",
    "Our purpose here is to elaborate a classic Python framework for storing and writing geometric information in a variety of formats, suitable for ray tracing and use within CAD programs.\n",
    "\n",
    "The target architecture we want to model is [Flextegrity](http://c6xty.com), a tension-compression lattice based on holding compression islands in relative positions, in an all-way space.\n",
    "\n",
    "### CCP (Cubic Close Packing)\n",
    "The general case CCP lattice will form our background.  The cubic closest packed matrix of balls serves as our \"holodeck\" (our substitute XYZ grid), for \"tuning in\" our Flextegrity lattices.\n",
    "\n",
    "Where spheres touch, they define the diamond faces of a rhombic dodecahedron, each tangent to twelve neighbors.  This marks the \"high water mark\" for sphere size (inter-tangency) and is the CCP itself.\n",
    "\n",
    "As spheres begin to contract, without losing their relative positions, we're in a position to study alternative adjoining or holding strategies.  \n",
    "\n",
    "How might these spheres still connect to each other in a way that preserves their intitial positions, and yet may allow from abberrational distortions, i.e. flexibility?  Our lattice is not brittle.\n",
    "\n",
    "### CCP in Architecture\n",
    "\n",
    "The center-to-center strategy is well known to some architects as a space frame patented as the \"octet truss\" by R. Buckminster Fuller, and featured as \"kites\" in earlier studies by Alexander Graham Bell.  \n",
    "\n",
    "NASA went with the octet truss as a basic space frame for orbiting space station designs.\n",
    "\n",
    "<a data-flickr-embed=\"true\" href=\"https://www.flickr.com/photos/kirbyurner/3604089857/in/photolist-6utUmi-gzmEy1-ekFr83-gzmEhu-5Pskff-5Ff3Hc-5zM26h-7kM3FK-9ho3VF-SihXUN-3Cdjdw-vaBoTv-AUNWd6-r8nXpZ-r8o2un-vTMVDX-vTMXoD-9hrbAY-pnSHJt-pEkQ8L-pEkQb1-pnRKqt-HMv9ay-DFodCy-5bVG87-5bVGd7-6ejsoR-5bRq6a-5bVGj5-HMvahU-dZqij2-dZqjUp-fDCcB4-dZqk5g-dZw32d-dZw2e9-dZw23o-dZqiEr-dZw1HN-dZqjBR-dZqkqp-Sssbwf-S7nkQ3-4oQCpy-5rFY8v-n4cppG-5FjkKG-69L1bK-oBEGJt-oDqycH\" title=\"Octet Truss\"><img src=\"https://live.staticflickr.com/3326/3604089857_033f9f54c2.jpg\" width=\"500\" height=\"375\" alt=\"Octet Truss\"></a><script async src=\"//embedr.flickr.com/assets/client-code.js\" charset=\"utf-8\"></script>\n",
    "\n",
    "### Flextegrity\n",
    "\n",
    "Sam Lanahan pioneered a three-way weaving of mutually orthogonal truss members, called struts in some models, that suggest different, possibly flexible, materials.  \n",
    "\n",
    "Flexibility means countouring, as road pavement matches the contour of the underlying topography.\n",
    "\n",
    "<a data-flickr-embed=\"true\" href=\"https://www.flickr.com/photos/kirbyurner/4249887521/in/photolist-7L5wXK-bFHyv8-8bdGfA-5xKsWB-6iQiQi-aBoaMG-9f5Bg7-6iUv5o-8YLgPj-7txMuM-7vYsSk-cwtfnN-9Y6Jq5-VBwCaX-7Wkd9P-7vYsE6-6CyK5a-7YNVtZ-83biTg-7FqRR3-7NGzHS-7QW944-7wzTcq-6tQosA-5QB1z4-7YS7Uo-8pNRGs-6h9qoA-pkPux3-6CCTpC-7r71wq-9WvZsv-7nJjtA-91Zd3u-68oXAX-91W6pn-7KvFwT-7Pz6gD-8oTV56-8UWce6-7txMip-8iYwQE-crzsp1-7txPja-9Y8Bvq-zCJpe6-Hie7g4-8ryyt2-P6io19-dPU3pc\" title=\"Flextegrity Model\"><img src=\"https://live.staticflickr.com/2650/4249887521_9525392db4_z.jpg\" width=\"640\" height=\"480\" alt=\"Flextegrity Model\"></a><script async src=\"//embedr.flickr.com/assets/client-code.js\" charset=\"utf-8\"></script>\n",
    "\n",
    "### Cubic Reference Cells\n",
    "\n",
    "Our cubic reference cell, surrounding any compression island, is defined by the short diagonals of the rhombic dodecahedron's diamond faces.  \n",
    "\n",
    "The cube and dodeca have relative volumes 3 and 6 (1 and 2).  Each dodeca carves out 1/6th of the six face-adhering neighboring reference cubes, pictured as void (no balls therein). This effectively describes the rhombic dodecahedron: a reference cube with six sixths added (so double the cube's volume).\n",
    "\n",
    "The rhombic dodecahedron is the space-filler associated with the CCP, which each ball nested snugly inside one.  Relative the tetrahedron of four CCP balls, intertangent, the rhombic dodecahedron is six tetravolumes.\n",
    "\n",
    "From the Fuller Archives:\n",
    "\n",
    "<a data-flickr-embed=\"true\" href=\"https://www.flickr.com/photos/kirbyurner/4147716381/in/photolist-7jw8zp-27m279d-28ryrb8-27m2SHJ-sb9rRn-274R4SM-274RBWX-28rzEyt-27aZfmh-28nawPU-JMAMGp-2hGyuQ1-6Lm3DN-sutG6M-8rBHYW-WgfUsF-6XSpXY-2ypHhr-W18AtK-7DSum6-9dqru5-9dBJbo-XvSatr-ssnvYM-saV86K-Am4sCQ-27m33iL-Vrm16F-rxt3hQ-2g9hw2G-HUjd6Y-qvSspT-suiyJu-pyYUi2-qvJVYB-WBfCVQ-K87vgR-JjTpKz-HoQ4xE-HoPrdA-surYzt-pySJoq-91hkkf-HUjyB7-sb9AwP-ssnxz2-saLYqJ-b4FXeM-rvyvsT-sskHhP\" title=\"Legendary Concentric Hierarchy\"><img src=\"https://live.staticflickr.com/2573/4147716381_7991c273b2.jpg\" width=\"389\" height=\"500\" alt=\"Legendary Concentric Hierarchy\"></a><script async src=\"//embedr.flickr.com/assets/client-code.js\" charset=\"utf-8\"></script>\n",
    "\n",
    "Consider an icosahedron with its three XYZ golden rectangles parallel to those of our reference cube.  If the rectangles terminate in the cube's faces, then connecting bands to adjacent cube edges will provide a mechanism for inter-icosahedron joining.\n",
    "\n",
    "![](flextegrity.png)\n",
    "\n",
    "As the icosahedrons grow such that their phi rectangles protrude through the cube's faces, into the neighboring cube domains, all of which are void (empty of sphere centers), the bands to the reference cube edges will slant, like the sides of a tent from a ridge pole, but not as steeply. This slanting band will meet another at 180 degrees, coming from a neighboring icosahedron.  Twelve icosahedron's around a nuclear icosahedron, will be held in place in this way.\n",
    "\n",
    "<a data-flickr-embed=\"true\" href=\"https://www.flickr.com/photos/kirbyurner/3484407906/in/photolist-7L5wXK-bFHyv8-8bdGfA-5xKsWB-6iQiQi-aBoaMG-9f5Bg7-6iUv5o-8YLgPj-7txMuM-7vYsSk-cwtfnN-9Y6Jq5-VBwCaX-7Wkd9P-7vYsE6-6CyK5a-7YNVtZ-83biTg-7FqRR3-7NGzHS-7QW944-7wzTcq-6tQosA-5QB1z4-7YS7Uo-8pNRGs-6h9qoA-pkPux3-6CCTpC-7r71wq-9WvZsv-7nJjtA-91Zd3u-68oXAX-91W6pn-7KvFwT-7Pz6gD-8oTV56-8UWce6-7txMip-8iYwQE-crzsp1-7txPja-9Y8Bvq-zCJpe6-Hie7g4-8ryyt2-P6io19-dPU3pc/\" title=\"Flextegrity Design\"><img src=\"https://live.staticflickr.com/3539/3484407906_47eec921c5_z.jpg\" width=\"640\" height=\"480\" alt=\"Flextegrity Design\"></a><script async src=\"//embedr.flickr.com/assets/client-code.js\" charset=\"utf-8\"></script>\n",
    "\n",
    "\n",
    "## Python Framework\n",
    "\n",
    "The Python framework we're developing has a generic purpose, of introducing simple vectorial geometry in conjunction with the Concentric Hierarchy well-known to School of Tomorrow students.  The content is in the form of a Jupyter Notebook on Github.\n",
    "\n",
    "The skeletal Polyhedron below is meant to be subclassed and further fleshed out. This inherited piece provides mechanisms for resizing and translating the beast.  You may imagine adding rotation, as you learn more about vector-based computations based on technologies invented by Heaviside-Gibbs.\n",
    "\n",
    "Python allows operator overloading such that multiplying a Polyhedron object by a scalar (\\* triggers ```__mul__``` or ```__rmul__```) , say an int or float, will resize it in place.  A new Polyhedron is delivered however, following a more functional model with more immutability of state.  \n",
    "\n",
    "Using the addition operator (+ triggers ```__add__``` or ```__radd__```), and supplying a vector (an arrow pointing to \"where it should move\"), the polyhedron may be translated (without resizing or rotating).  Again, the original polyhedron is unaffected, as only the face structure with labeled rings is essential topology.  \n",
    "\n",
    "Acting on all the vertexes effectively scales and/or moves the object, but the Polyhedron so defined need not entangle itself with the original.\n",
    "\n",
    "```python\n",
    ">>> t = Tetrahedron()\n",
    ">>> t2 = t + Qvector((2,1,1,0))\n",
    ">>> t2.edges  # re-distilled\n",
    "```\n",
    "\n",
    "The strategy in both cases (resizing or moving) is similar:  the vertexes are what anchor the whole show, are the tent stakes as it were.  \n",
    "\n",
    "To resize and move requires recomputing the vertexes, relative to an origin.  \n",
    "\n",
    "Additionally, each subclass of Polyhedron needs to bring to the table its own dictionary of labeled faces.\n",
    "\n",
    "Per the Cube:\n",
    "\n",
    "```python\n",
    "        # 6 faces\n",
    "        self.faces = (('a','f','c','h'),('h','c','e','b'),\n",
    "                      ('b','e','d','g'),('g','d','f','a'),\n",
    "                      ('c','f','d','e'),('a','h','b','g'))\n",
    "```\n",
    "\n",
    "where these lowercase labels correspond to their uppercase global counterparts, the A-Z of the Concentric Hierarchy.\n",
    "\n",
    "From the faces, a Polyhedron knows how to distill all the edge pairs.  The Edge is a type of object all on its own, consisting of only two vectors.  A vector, by definition, has its tail at the origin, and so only carries the information for one point in space (relative the fixed origin).  An Edge connects any two vectors, so a Polyhedron may be considered a network of such edges."
   ]
  },
  {
   "cell_type": "code",
   "execution_count": 1,
   "metadata": {},
   "outputs": [],
   "source": [
    "class Polyhedron:\n",
    "    \"\"\"\n",
    "    Designed to be subclassed, not used directly\n",
    "    \"\"\"\n",
    "    \n",
    "    def scale(self, scalefactor):\n",
    "        newverts = {}\n",
    "        for v in self.vertexes:\n",
    "            newverts[v] = self.vertexes[v] * scalefactor\n",
    "        newme = type(self)()\n",
    "        newme.vertexes = newverts\n",
    "        newme.edges = newme._distill()\n",
    "        return newme\n",
    "\n",
    "    __mul__ = __rmul__ = scale\n",
    "\n",
    "    def translate(self, vector):\n",
    "        newverts = {}\n",
    "        for v in self.vertexes:\n",
    "            newverts[v] = self.vertexes[v] + vector\n",
    "        newme = type(self)()\n",
    "        newme.vertexes = newverts\n",
    "        newme.edges = newme._distill()\n",
    "        return newme\n",
    "\n",
    "    __add__ = __radd__ = translate\n",
    "    \n",
    "    def _distill(self):\n",
    "\n",
    "        edges = []\n",
    "        unique = set()\n",
    "        \n",
    "        for f in self.faces:\n",
    "            for pair in zip(f , f[1:] + (f[0],)):\n",
    "                unique.add( tuple(sorted(pair)) )\n",
    "        \n",
    "        for edge in unique:\n",
    "            edges.append( Edge(self.vertexes[edge[0]],\n",
    "                               self.vertexes[edge[1]]) )\n",
    "\n",
    "        return edges            "
   ]
  },
  {
   "cell_type": "markdown",
   "metadata": {},
   "source": [
    "As provided, the Edge is little more than a two-vector storing device.  In various frameworks, it might be fleshed out to provide its own rendering methods.  By \"rendering\" I mean writing out in some other flavor of source code (outside of Python) such as in Scene Description Language (POV-Ray, free, open) or in Rhino (CAD).\n",
    "\n",
    "Rather than customize the Edge here, the Scene Description Language rendering will be provided externally, as free-standing functions outside of Polyhedron or Edge types."
   ]
  },
  {
   "cell_type": "code",
   "execution_count": 2,
   "metadata": {},
   "outputs": [],
   "source": [
    "class Edge:\n",
    "\n",
    "    \"\"\"\n",
    "    Edges are defined by two Vectors (above) and express as cylinder via draw().\n",
    "    \"\"\"\n",
    "\n",
    "    def __init__(self, v0, v1):\n",
    "        self.v0 = v0\n",
    "        self.v1 = v1\n",
    "             \n",
    "    def __repr__(self):\n",
    "        return 'Edge from %s to %s' % (self.v0, self.v1)"
   ]
  },
  {
   "cell_type": "markdown",
   "metadata": {},
   "source": [
    "The master function we'll use for rendering a poly is ```draw_poly```.  It takes the poly in question as a first argument, then the filetype object to which the output will go.  Finally, some switches allow turning on and off rendering of specifically edges, vertexes and faces (V + F = E + 2)."
   ]
  },
  {
   "cell_type": "code",
   "execution_count": 3,
   "metadata": {},
   "outputs": [],
   "source": [
    "def draw_vert(v): pass\n",
    "def draw_face(f): pass\n",
    "def draw_edge(e): pass\n",
    "\n",
    "def draw_poly(p, the_file, v=True, f=True, e=True):\n",
    "    \n",
    "    ec = p.edge_color\n",
    "    er = p.edge_radius\n",
    "    vc = p.vert_color\n",
    "    vr = p.vert_radius\n",
    "    fc = p.face_color\n",
    "    \n",
    "    if v:\n",
    "        for v in p.vertexes.values():\n",
    "            draw_vert(v, vc, vr, the_file)\n",
    "\n",
    "    if f:\n",
    "        for f in p.faces:\n",
    "            draw_face(f, fc, the_file)\n",
    "\n",
    "    if e:\n",
    "        for e in p.edges:\n",
    "            draw_edge(e, ec, er, the_file)"
   ]
  },
  {
   "cell_type": "code",
   "execution_count": 4,
   "metadata": {},
   "outputs": [],
   "source": [
    "from qrays import Qvector"
   ]
  },
  {
   "cell_type": "markdown",
   "metadata": {},
   "source": [
    "![](qtet.png)\n",
    "\n",
    "### Quadray Coordinates\n",
    "\n",
    "For a change of pace, and to expand our horizons, the vector framework here introduced may seem unfamiliar.  Instead of the three positive and three negative unit vectors, spokes in a \"jack\" arrangement, we have just four basis vectors, scalable but not rotatable, and use linear combinations of those four to specify our point \"out there\" from the origin, which is (0,0,0,0).  Instead of a \"jack\" we're using a \"caltrop\".\n",
    "\n",
    "![quadrays](https://upload.wikimedia.org/wikipedia/commons/9/99/Quadray.gif)\n",
    "\n",
    "As discussed in [Generating the FCC](https://github.com/4dsolutions/School_of_Tomorrow/blob/master/Flextegrity_Lattice.ipynb), all twelve unique permutations of the quadray coordinates {2,1,1,0} give use the CCP positions relative the origin.  We may fill space with the CCP with integral addressing of rhombic dodecahedron centers."
   ]
  },
  {
   "cell_type": "markdown",
   "metadata": {},
   "source": [
    "### Globals: A-Z + Jitterbug\n",
    "\n",
    "Perhaps controversially, the global namespace gets populated with a set of reference vectors, conveniently A-Z i.e. 26 ASCII characters (consecutive).  These are all vector sums of the original basis vectors, which go from the center of a tetrahedron in four directions, by convention to its points.\n",
    "\n",
    "The edges of the Tetrahedron formed by the four basis vectors has the lengths we most care about and we measure in CCP sphere radii or diameters.  The Tetrahedron has edges = 1 CCP diameter (2 radii).\n",
    "\n",
    "We get pretty much all of the Concentric Hierarchy vertexes with A-Z, but for the 12 vertexes of the icosahedron (from which its dual, and rhombic triacontahedron, may be derived).  The bridging to five-fold symmetry is accomplished by means of the Jitterbug Transformation in our curriculum.\n",
    "\n",
    "In the computations below, the outer 12 positions are transformed into the three mutually orthogonal phi rectangles or \"boards\" of the icosahedron."
   ]
  },
  {
   "cell_type": "markdown",
   "metadata": {},
   "source": [
    "![cubocta](https://upload.wikimedia.org/wikipedia/commons/d/dc/Povlabels.gif)"
   ]
  },
  {
   "cell_type": "code",
   "execution_count": 5,
   "metadata": {},
   "outputs": [],
   "source": [
    "import math\n",
    "PHI = (1 + math.sqrt(5))/2.0\n",
    "\n",
    "A = Qvector((1,0,0,0))\n",
    "B = Qvector((0,1,0,0))\n",
    "C = Qvector((0,0,1,0))\n",
    "D = Qvector((0,0,0,1))\n",
    "E,F,G,H     = B+C+D, A+C+D, A+B+D, A+B+C\n",
    "I,J,K,L,M,N = A+B, A+C, A+D, B+C, B+D, C+D\n",
    "O,P,Q,R,S,T = I+J, I+K, I+L, I+M, N+J, N+K\n",
    "U,V,W,X,Y,Z = N+L, N+M, J+L, L+M, M+K, K+J\n",
    "\n",
    "# OPPOSITE DIAGONALS\n",
    "# ZY WX\n",
    "# RV OS\n",
    "# TU PQ\n",
    "control = (Z - T).length()\n",
    "\n",
    "midface = (Z + Y)\n",
    "gold    = 0.5 * PHI * midface/midface.length()\n",
    "Zi = gold + J/J.length() * control/2\n",
    "Yi = gold + M/M.length() * control/2\n",
    "\n",
    "midface = (W + X)\n",
    "gold    = 0.5 * PHI * midface/midface.length()\n",
    "Wi = gold + J/J.length() * control/2\n",
    "Xi = gold + M/M.length() * control/2\n",
    "\n",
    "midface = (R + V)\n",
    "gold    = 0.5 * PHI * midface/midface.length()\n",
    "Ri = gold + I/I.length() * control/2\n",
    "Vi = gold + N/N.length() * control/2\n",
    "\n",
    "midface = (O + S)\n",
    "gold    = 0.5 * PHI * midface/midface.length()\n",
    "Oi = gold + I/I.length() * control/2\n",
    "Si = gold + N/N.length() * control/2\n",
    "\n",
    "midface = (T + U)\n",
    "gold    = 0.5 * PHI * midface/midface.length()\n",
    "Ti = gold + K/K.length() * control/2\n",
    "Ui = gold + L/L.length() * control/2\n",
    "\n",
    "midface = (P + Q)\n",
    "gold    = 0.5 * PHI * midface/midface.length()\n",
    "Pi = gold + K/K.length() * control/2\n",
    "Qi = gold + L/L.length() * control/2"
   ]
  },
  {
   "cell_type": "markdown",
   "metadata": {},
   "source": [
    "### Subclassing the Polyhedron Class\n",
    "Subclassing may now commence.  At this level, customization, a kind of \"rust\" is tainting our hitherto Platonic framework with abberational details of a specific subculture, that of the POV-Ray users, the raytracers.\n",
    "\n",
    "Secondary characteristics (as these were known to Descartes) include such not-Platonic features such as color, texture, even weight.  Tension and compression start to creep in, as real world properties.  All of this is for the better, but it complicates our code, so we have postponed, until now, any introduction of Scene Description Language."
   ]
  },
  {
   "cell_type": "code",
   "execution_count": 6,
   "metadata": {},
   "outputs": [],
   "source": [
    "class Tetrahedron(Polyhedron):\n",
    "    \n",
    "    def __init__(self):\n",
    "        self.name = \"Tetrahedron\"\n",
    "        self.edge_color = \"rgb <{}, {}, {}>\".format(1, 127/255, 80/255)\n",
    "        self.edge_radius= 0.03\n",
    "        self.vert_color = \"rgb <{}, {}, {}>\".format(1, 127/255, 80/255)\n",
    "        self.vert_radius= 0.03\n",
    "        self.face_color = \"rgb <0, 0, 0>\"\n",
    "        \n",
    "        self.vertexes = dict(a = Qvector((1,0,0,0)),\n",
    "                             b = Qvector((0,1,0,0)),\n",
    "                             c = Qvector((0,0,1,0)),\n",
    "                             d = Qvector((0,0,0,1)))\n",
    "        \n",
    "        # 4 faces\n",
    "        self.faces = (('a','b','c'),('a','c','d'),\n",
    "                      ('a','d','b'),('b','d','c'))\n",
    "\n",
    "        self.edges = self._distill()\n",
    "        \n",
    "class Cube (Polyhedron):\n",
    "\n",
    "    def __init__(self):\n",
    "        # 8 vertices\n",
    "        self.edge_color = \"rgb <0, 1, 0>\"\n",
    "        self.edge_radius= 0.03\n",
    "        self.vert_color = \"rgb <1, 0, 0>\"\n",
    "        self.vert_radius= 0.03\n",
    "        self.face_color = \"rgb <0, 0, 0>\"\n",
    "\n",
    "        self.vertexes = dict(a =  Qvector((1,0,0,0)),\n",
    "                             b =  Qvector((0,1,0,0)),\n",
    "                             c =  Qvector((0,0,1,0)),\n",
    "                             d =  Qvector((0,0,0,1)),\n",
    "                             e = -Qvector((1,0,0,0)),\n",
    "                             f = -Qvector((0,1,0,0)),\n",
    "                             g = -Qvector((0,0,1,0)),\n",
    "                             h = -Qvector((0,0,0,1)))\n",
    "        self.name = \"Cube\"\n",
    "        \n",
    "        # 6 faces\n",
    "        self.faces = (('a','f','c','h'),('h','c','e','b'),\n",
    "                      ('b','e','d','g'),('g','d','f','a'),\n",
    "                      ('c','f','d','e'),('a','h','b','g'))\n",
    "\n",
    "        self.edges = self._distill()"
   ]
  },
  {
   "cell_type": "markdown",
   "metadata": {},
   "source": [
    "Future editions of this Jupyter Notebook might rely more on the pre-existing globals, A-Z, for getting these polyhedrons off the ground.  The code above goes back to the original Quadray coodinates of each vertex.\n",
    "\n",
    "In the Cuboctahedron and Icosahedron, the code will marry itself to the global namespace, meaning these types have no stand-alone integrity outside the specific Notebook provided, or another similarly prepopulated."
   ]
  },
  {
   "cell_type": "markdown",
   "metadata": {},
   "source": [
    "Experimenting with translation:  create a new Tetrahedron object (canonically sized) and move it to the center of a neighboring CCP position, i.e. to the center of a tangent CCP ball relative the ball at the origin."
   ]
  },
  {
   "cell_type": "code",
   "execution_count": 7,
   "metadata": {},
   "outputs": [
    {
     "data": {
      "text/plain": [
       "[Edge from ivm_vector(a=3, b=1, c=1, d=0) to ivm_vector(a=2, b=2, c=1, d=0),\n",
       " Edge from ivm_vector(a=2, b=2, c=1, d=0) to ivm_vector(a=2, b=1, c=2, d=0),\n",
       " Edge from ivm_vector(a=3, b=1, c=1, d=0) to ivm_vector(a=2, b=1, c=2, d=0),\n",
       " Edge from ivm_vector(a=2, b=2, c=1, d=0) to ivm_vector(a=1, b=0, c=0, d=0),\n",
       " Edge from ivm_vector(a=3, b=1, c=1, d=0) to ivm_vector(a=1, b=0, c=0, d=0),\n",
       " Edge from ivm_vector(a=2, b=1, c=2, d=0) to ivm_vector(a=1, b=0, c=0, d=0)]"
      ]
     },
     "execution_count": 7,
     "metadata": {},
     "output_type": "execute_result"
    }
   ],
   "source": [
    "t = Tetrahedron()\n",
    "t2 = t + Qvector((2,1,1,0))\n",
    "t2.edges"
   ]
  },
  {
   "cell_type": "code",
   "execution_count": 8,
   "metadata": {},
   "outputs": [],
   "source": [
    "c = Cube()"
   ]
  },
  {
   "cell_type": "markdown",
   "metadata": {},
   "source": [
    "## Scene Description Language (POV-Ray)\n",
    "\n",
    "Since POV-Ray Scene Description Language is a whole world unto itself, much like VRML (Virtual Reality Markup Language), why not provide direct access to the header, so the end user, any reader of this Notebook, is empowered to play with lighting, camera position, available texturing libraries.\n",
    "\n",
    "Our project is not about recreating the capable POV-Ray GUI in some alternative Python compatible GUI widget kit.  That could be fun to undertake, but we're just using povray at the command line, from within the bash shell (orginally on Mac OSX).  Something similar works on Windows, or on Linux (including on a Pi, where POV-Ray may be successfully compiled)."
   ]
  },
  {
   "cell_type": "code",
   "execution_count": 9,
   "metadata": {},
   "outputs": [],
   "source": [
    "pov_header = \\\n",
    "\"\"\"\n",
    "// Persistence of Vision Ray Tracer Scene Description File\n",
    "// File: xyz.pov\n",
    "// Vers: 3.6\n",
    "// Desc: test file\n",
    "// Date: Sat Sep  7 09:49:33 2019\n",
    "// Auth: me\n",
    "// ==== Standard POV-Ray Includes ====\n",
    "#include \"colors.inc\"     // Standard Color definitions\n",
    "#include \"textures.inc\"   // Standard Texture definitions\n",
    "#include \"functions.inc\"  // internal functions usable in user defined functions\n",
    "\n",
    "// ==== Additional Includes ====\n",
    "// Don't have all of the following included at once, it'll cost memory and time\n",
    "// to parse!\n",
    "// --- general include files ---\n",
    "#include \"chars.inc\"      // A complete library of character objects, by Ken Maeno\n",
    "#include \"skies.inc\"      // Ready defined sky spheres\n",
    "#include \"stars.inc\"      // Some star fields\n",
    "#include \"strings.inc\"    // macros for generating and manipulating text strings\n",
    "\n",
    "// --- textures ---\n",
    "#include \"finish.inc\"     // Some basic finishes\n",
    "#include \"glass.inc\"      // Glass textures/interiors\n",
    "#include \"golds.inc\"      // Gold textures\n",
    "#include \"metals.inc\"     // Metallic pigments, finishes, and textures\n",
    "#include \"stones.inc\"     // Binding include-file for STONES1 and STONES2\n",
    "#include \"stones1.inc\"    // Great stone-textures created by Mike Miller\n",
    "#include \"stones2.inc\"    // More, done by Dan Farmer and Paul Novak\n",
    "#include \"woodmaps.inc\"   // Basic wooden colormaps\n",
    "#include \"woods.inc\"      // Great wooden textures created by Dan Farmer and Paul Novak\n",
    "\n",
    "global_settings {assumed_gamma 1.0}\n",
    "global_settings {ambient_light rgb<1, 1, 1> }\n",
    "\n",
    "// perspective (default) camera\n",
    "camera {\n",
    "  location  <4, 0.1, 0.2>\n",
    "  look_at   <0.0, 0.0,  0.0>\n",
    "  right     x*image_width/image_height\n",
    "}\n",
    "\n",
    "// create a regular point light source\n",
    "light_source {\n",
    "  0*x                  // light's position (translated below)\n",
    "  color rgb <1,1,1>    // light's color\n",
    "  translate <-20, 15, 10>\n",
    "}\n",
    "\n",
    "// create a regular point light source\n",
    "light_source {\n",
    "  0*x                  // light's position (translated below)\n",
    "  color rgb <1,1,1>    // light's color\n",
    "  translate <20, -15, -10>\n",
    "}\n",
    "\n",
    "background { color rgb <1.0, 1.0, 1.0> }\n",
    "\"\"\""
   ]
  },
  {
   "cell_type": "markdown",
   "metadata": {},
   "source": [
    "Finally, lets rewrite the functions left as stubs above.  Our ```draw_poly``` function cycles through all of these in concert.\n",
    "\n",
    "As we're mainly concerned with polyhedrons in wireframe view (with \"wires\" as thick or thin as we set their radii), no work was expended on face rendering."
   ]
  },
  {
   "cell_type": "code",
   "execution_count": 10,
   "metadata": {},
   "outputs": [],
   "source": [
    "def draw_vert(v, c, r, t): \n",
    "    v = v.xyz()\n",
    "    x,y,z = v.x, v.y, v.z\n",
    "    data = \"< %s, %s, %s >\" % (x,y,z), r, c\n",
    "    template = (\"sphere { %s, %s texture \"\n",
    "                \"{ pigment { color %s } } no_shadow }\")\n",
    "    print(template % data, file=t)\n",
    "    \n",
    "def draw_face(f, c, t): pass\n",
    "\n",
    "def draw_edge(e, c, r, t):\n",
    "    v = e.v0.xyz()\n",
    "    v0 = \"< %s, %s, %s >\" % (v.x, v.y, v.z)\n",
    "    v = e.v1.xyz()\n",
    "    v1 = \"< %s, %s, %s >\" % (v.x, v.y, v.z)\n",
    "    data = (v0, v1, r, c)\n",
    "    template = (\"cylinder { %s, %s, %s texture \"\n",
    "                        \"{pigment { color %s } } no_shadow }\")\n",
    "    print(template % data, file=t)"
   ]
  },
  {
   "cell_type": "code",
   "execution_count": 11,
   "metadata": {},
   "outputs": [],
   "source": [
    "with open(\"testme.pov\", \"w\") as target:\n",
    "    target.write(pov_header)\n",
    "    draw_poly(c, target, f=False)\n",
    "    draw_poly(t, target, f=False)"
   ]
  },
  {
   "cell_type": "markdown",
   "metadata": {},
   "source": [
    "![](testme.png)"
   ]
  },
  {
   "cell_type": "markdown",
   "metadata": {},
   "source": [
    "## APPENDIX:  Additional Source Code and Renderings\n",
    "\n",
    "Below are those 12 quadrays to nearest CCP neighbors around the origin.  All 26 A-Z reference points are similarly integral (and positive in canonical form).\n",
    "\n",
    "By means of translation, we may conjure a cube at the origin, clone it around, and put some other figure inside each, appropriately scaled.\n",
    "\n",
    "A sphere in particular may be:\n",
    "\n",
    "* tangent to the reference cube's six faces\n",
    "* tangent to the reference cube's 12 mid-edges (high water mark)\n",
    "* internal to the cube (shrinking)\n",
    "* bulging from the cube (growing)\n",
    "\n",
    "Now mentaly replace each sphere with a compression island, perhaps an icosahedron, and you're reading to weave some Flextegrity."
   ]
  },
  {
   "cell_type": "code",
   "execution_count": 12,
   "metadata": {},
   "outputs": [
    {
     "name": "stdout",
     "output_type": "stream",
     "text": [
      "{(0, 1, 1, 2), (1, 0, 1, 2), (2, 0, 1, 1), (0, 2, 1, 1), (0, 1, 2, 1), (1, 2, 1, 0), (1, 1, 2, 0), (2, 1, 1, 0), (1, 0, 2, 1), (1, 2, 0, 1), (2, 1, 0, 1), (1, 1, 0, 2)}\n"
     ]
    }
   ],
   "source": [
    "from itertools import permutations\n",
    "g = permutations((2,1,1,0))\n",
    "unique = {p for p in g}  # set comprehension\n",
    "print(unique)"
   ]
  },
  {
   "cell_type": "code",
   "execution_count": 13,
   "metadata": {},
   "outputs": [],
   "source": [
    "def twelve_cubes():\n",
    "    c = Cube()\n",
    "    twelve_cubes = [ ]\n",
    "    for v in unique:\n",
    "        trans_vector = Qvector(v)\n",
    "        twelve_cubes.append(c + trans_vector)\n",
    "    return twelve_cubes\n",
    "\n",
    "with open(\"multicube.pov\", \"w\") as target:\n",
    "    target.write(pov_header) \n",
    "    draw_poly(c, target, f=False)\n",
    "    for c in twelve_cubes():\n",
    "        draw_poly(c, target, f=False)"
   ]
  },
  {
   "cell_type": "markdown",
   "metadata": {},
   "source": [
    "![](multicube.png)"
   ]
  },
  {
   "cell_type": "markdown",
   "metadata": {},
   "source": [
    "![cubocta](https://upload.wikimedia.org/wikipedia/commons/d/dc/Povlabels.gif)"
   ]
  },
  {
   "cell_type": "code",
   "execution_count": 14,
   "metadata": {},
   "outputs": [],
   "source": [
    "class Cuboctahedron (Polyhedron):\n",
    "\n",
    "    def __init__(self):\n",
    "        # 8 vertices\n",
    "        self.edge_color = \"rgb <1, 1, 0>\"\n",
    "        self.edge_radius= 0.03\n",
    "        self.vert_color = \"rgb <1, 1, 0>\"\n",
    "        self.vert_radius= 0.03\n",
    "        self.face_color = \"rgb <0, 0, 0>\"\n",
    "\n",
    "        self.vertexes = dict(o =  O,\n",
    "                             p =  P,\n",
    "                             q =  Q,\n",
    "                             r =  R,\n",
    "                             s =  S,\n",
    "                             t =  T,\n",
    "                             u =  U,\n",
    "                             v =  V,\n",
    "                             w =  W,\n",
    "                             x =  X,\n",
    "                             y =  Y,\n",
    "                             z =  Z)\n",
    "        self.name = \"Cuboctahedron\"\n",
    "        \n",
    "        # 6 faces\n",
    "        self.faces = (('o','w','s','z'),('z','p','y','t'),\n",
    "                      ('t','v','u','s'),('w','q','x','u'),\n",
    "                      ('o','p','r','q'),('r','y','v','x'),\n",
    "                      ('z','s','t'),('t','y','v'),\n",
    "                      ('y','p','r'),('r','q','x'),\n",
    "                      ('x','u','v'),('u','s','w'),\n",
    "                      ('w','q','o'),('o','z','p'))\n",
    "\n",
    "        self.edges = self._distill()"
   ]
  },
  {
   "cell_type": "code",
   "execution_count": 15,
   "metadata": {},
   "outputs": [],
   "source": [
    "with open(\"cubocta.pov\", \"w\") as target:\n",
    "    target.write(pov_header) \n",
    "    cubocta = Cuboctahedron()\n",
    "    draw_poly(cubocta, target, f=False)\n",
    "    for c in twelve_cubes():\n",
    "        draw_poly(c, target, f=False)"
   ]
  },
  {
   "cell_type": "markdown",
   "metadata": {},
   "source": [
    "![ ](cubocta.png)"
   ]
  },
  {
   "cell_type": "code",
   "execution_count": 19,
   "metadata": {},
   "outputs": [],
   "source": [
    "with open(\"sphere_pack.pov\", \"w\") as target:\n",
    "    target.write(pov_header) \n",
    "    draw_poly(c, target, f=False)\n",
    "    for c in twelve_cubes():\n",
    "        draw_poly(c, target, f=False)\n",
    "    cubocta.vert_radius = Qvector((2,1,1,0)).length()/2 # grow the balls\n",
    "    cubocta.vert_color = \"rgb <1,0,0>\"\n",
    "    draw_poly(cubocta, target, v=True, e=False, f=False)\n",
    "    draw_vert(Qvector((0,0,0,0)), c=cubocta.vert_color, \n",
    "              r=cubocta.vert_radius, t=target)"
   ]
  },
  {
   "cell_type": "code",
   "execution_count": null,
   "metadata": {},
   "outputs": [],
   "source": [
    "# !/usr/local/bin/povray +A +H768 +W1024 sphere_pack.pov"
   ]
  },
  {
   "cell_type": "markdown",
   "metadata": {},
   "source": [
    "![ ](sphere_pack.png)"
   ]
  },
  {
   "cell_type": "code",
   "execution_count": null,
   "metadata": {},
   "outputs": [],
   "source": [
    "sm_radius = (A-F).length()/2"
   ]
  },
  {
   "cell_type": "code",
   "execution_count": null,
   "metadata": {},
   "outputs": [],
   "source": [
    "with open(\"smaller_sphere_pack.pov\", \"w\") as target:\n",
    "    target.write(pov_header) \n",
    "    draw_poly(c, target, f=False)\n",
    "    for c in twelve_cubes():\n",
    "        draw_poly(c, target, f=False)\n",
    "    cub.vert_radius = sm_radius\n",
    "    cub.vert_color = \"rgb <1,0,0>\"\n",
    "    draw_poly(cub, target, v=True, e=False, f=False)\n",
    "    draw_vert(Qvector((0,0,0,0)), c=cub.vert_color, \n",
    "              r=cub.vert_radius, t=target)\n",
    "    "
   ]
  },
  {
   "cell_type": "markdown",
   "metadata": {},
   "source": [
    "![ ](smaller_sphere_pack.png)"
   ]
  },
  {
   "cell_type": "code",
   "execution_count": null,
   "metadata": {},
   "outputs": [],
   "source": [
    "class Icosahedron (Polyhedron):\n",
    "\n",
    "    def __init__(self):\n",
    "        # 8 vertices\n",
    "        self.edge_color = \"rgb <0, 1, 1>\"\n",
    "        self.edge_radius= 0.03\n",
    "        self.vert_color = \"rgb <0, 1, 1>\"\n",
    "        self.vert_radius= 0.03\n",
    "        self.face_color = \"rgb <0, 0, 0>\"\n",
    "\n",
    "        self.vertexes = dict(o =  Oi,\n",
    "                             p =  Pi,\n",
    "                             q =  Qi,\n",
    "                             r =  Ri,\n",
    "                             s =  Si,\n",
    "                             t =  Ti,\n",
    "                             u =  Ui,\n",
    "                             v =  Vi,\n",
    "                             w =  Wi,\n",
    "                             x =  Xi,\n",
    "                             y =  Yi,\n",
    "                             z =  Zi)\n",
    "        self.name = \"Icosahedron\"\n",
    "        \n",
    "        # 20 faces\n",
    "        # OPPOSITE DIAGONALS of cubocta\n",
    "        # ZY WX\n",
    "        # RV OS\n",
    "        # TU PQ\n",
    "        self.faces = (('o','w','s'),('o','z','s'),\n",
    "                      ('z','p','y'),('z','t','y'),\n",
    "                      ('t','v','u'),('t','s','u'),\n",
    "                      ('w','q','x'),('w','u','x'),\n",
    "                      ('p','o','q'),('p','r','q'),\n",
    "                      ('r','y','v'),('r','x','v'),\n",
    "                      ('z','s','t'),('t','y','v'),\n",
    "                      ('y','p','r'),('r','q','x'),\n",
    "                      ('x','u','v'),('u','s','w'),\n",
    "                      ('w','q','o'),('o','z','p'))\n",
    "\n",
    "        self.edges = self._distill()"
   ]
  },
  {
   "cell_type": "markdown",
   "metadata": {},
   "source": [
    "![cubocta](https://upload.wikimedia.org/wikipedia/commons/d/dc/Povlabels.gif)"
   ]
  },
  {
   "cell_type": "code",
   "execution_count": null,
   "metadata": {},
   "outputs": [],
   "source": [
    "ico = Icosahedron()"
   ]
  },
  {
   "cell_type": "code",
   "execution_count": null,
   "metadata": {},
   "outputs": [],
   "source": [
    "with open(\"jitterbug.pov\", \"w\") as target:\n",
    "    target.write(pov_header) \n",
    "    c   = Cube()\n",
    "    ico = Icosahedron() * (1/PHI * math.sqrt(2)/2)\n",
    "    draw_poly(c, target, f=False)\n",
    "    draw_poly(ico, target, f=False)"
   ]
  },
  {
   "cell_type": "markdown",
   "metadata": {},
   "source": [
    "![icosa](jitterbug.png)"
   ]
  },
  {
   "cell_type": "code",
   "execution_count": null,
   "metadata": {},
   "outputs": [],
   "source": [
    "with open(\"flextegrity.pov\", \"w\") as target:\n",
    "    target.write(pov_header) \n",
    "    c   = Cube()\n",
    "    draw_poly(c, target, f=False)\n",
    "    for c in twelve_cubes():\n",
    "        draw_poly(c, target, f=False)\n",
    "    ico = Icosahedron() * (1/PHI * math.sqrt(2)/2)\n",
    "    draw_poly(ico, target, f=False)\n",
    "    for v in unique:\n",
    "        newico = ico + Qvector(v)\n",
    "        draw_poly(newico, target, f=False)"
   ]
  },
  {
   "cell_type": "markdown",
   "metadata": {},
   "source": [
    "![](flextegrity.png)"
   ]
  }
 ],
 "metadata": {
  "kernelspec": {
   "display_name": "Python 3",
   "language": "python",
   "name": "python3"
  },
  "language_info": {
   "codemirror_mode": {
    "name": "ipython",
    "version": 3
   },
   "file_extension": ".py",
   "mimetype": "text/x-python",
   "name": "python",
   "nbconvert_exporter": "python",
   "pygments_lexer": "ipython3",
   "version": "3.7.4"
  }
 },
 "nbformat": 4,
 "nbformat_minor": 4
}
