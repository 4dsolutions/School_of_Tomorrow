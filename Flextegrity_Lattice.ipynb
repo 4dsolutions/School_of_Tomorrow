{
 "cells": [
  {
   "cell_type": "markdown",
   "metadata": {},
   "source": [
    "# Generating the Flextegrity Lattice\n",
    "\n",
    "Our purpose here is to elaborate a classic Python framework for storing and writing geometric information in a variety of formats, suitable for ray tracing and use within CAD programs.\n",
    "\n",
    "The general case CCP lattice will form our background.  Where spheres touch, they define the diamond faces of a rhombic dodecahedron.  This marks the \"high water mark\" for sphere size.\n",
    "\n",
    "As spheres begin to contract, without losing their positions, we're in a position to study joining or holding strategies.  How might these spheres still connect to each other in a way that preserves their intitial positions, and yet may allow from abberrational distortions, i.e. flexibility.  Our lattice is not brittle.\n",
    "\n",
    "<a data-flickr-embed=\"true\" href=\"https://www.flickr.com/photos/kirbyurner/4249887521/in/photolist-7L5wXK-bFHyv8-8bdGfA-5xKsWB-6iQiQi-aBoaMG-9f5Bg7-6iUv5o-8YLgPj-7txMuM-7vYsSk-cwtfnN-9Y6Jq5-VBwCaX-7Wkd9P-7vYsE6-6CyK5a-7YNVtZ-83biTg-7FqRR3-7NGzHS-7QW944-7wzTcq-6tQosA-5QB1z4-7YS7Uo-8pNRGs-6h9qoA-pkPux3-6CCTpC-7r71wq-9WvZsv-7nJjtA-91Zd3u-68oXAX-91W6pn-7KvFwT-7Pz6gD-8oTV56-8UWce6-7txMip-8iYwQE-crzsp1-7txPja-9Y8Bvq-zCJpe6-Hie7g4-8ryyt2-P6io19-dPU3pc\" title=\"Flextegrity Model\"><img src=\"https://live.staticflickr.com/2650/4249887521_9525392db4_z.jpg\" width=\"640\" height=\"480\" alt=\"Flextegrity Model\"></a><script async src=\"//embedr.flickr.com/assets/client-code.js\" charset=\"utf-8\"></script>\n",
    "\n",
    "Our cubic reference cell is defined by the short diagonals of the rhombic dodecahedron's diamond faces.\n",
    "\n",
    "Consider an icosahedron with its three XYZ golden rectangles parallel to those of our reference cube.  If the rectangles terminate in the cube's faces, then connecting bands to adjacent cube edges will provide a mechanism for inter-icosahedron joining.\n",
    "\n",
    "As the icosahedrons grow such that their phi rectangles protrude through the cube's faces, into the neighboring cube domains, all of which are void (empty of sphere centers), the bands to the reference cube edges will slant, like the sides of a tent from a ridge pole, but not as steeply. This slanting band will meet another at 180 degrees, coming from a neighboring icosahedron.  Twelve icosahedron's around a nuclear icosahedron, will be held in place in this way.\n",
    "\n",
    "<a data-flickr-embed=\"true\" href=\"https://www.flickr.com/photos/kirbyurner/3484407906/in/photolist-7L5wXK-bFHyv8-8bdGfA-5xKsWB-6iQiQi-aBoaMG-9f5Bg7-6iUv5o-8YLgPj-7txMuM-7vYsSk-cwtfnN-9Y6Jq5-VBwCaX-7Wkd9P-7vYsE6-6CyK5a-7YNVtZ-83biTg-7FqRR3-7NGzHS-7QW944-7wzTcq-6tQosA-5QB1z4-7YS7Uo-8pNRGs-6h9qoA-pkPux3-6CCTpC-7r71wq-9WvZsv-7nJjtA-91Zd3u-68oXAX-91W6pn-7KvFwT-7Pz6gD-8oTV56-8UWce6-7txMip-8iYwQE-crzsp1-7txPja-9Y8Bvq-zCJpe6-Hie7g4-8ryyt2-P6io19-dPU3pc/\" title=\"Flextegrity Design\"><img src=\"https://live.staticflickr.com/3539/3484407906_47eec921c5_z.jpg\" width=\"640\" height=\"480\" alt=\"Flextegrity Design\"></a><script async src=\"//embedr.flickr.com/assets/client-code.js\" charset=\"utf-8\"></script>"
   ]
  },
  {
   "cell_type": "code",
   "execution_count": 1,
   "metadata": {},
   "outputs": [],
   "source": [
    "class Polyhedron:\n",
    "    \"\"\"\n",
    "    Designed to be subclassed, not used directly\n",
    "    \"\"\"\n",
    "    \n",
    "    def scale(self, scalefactor):\n",
    "        newverts = {}\n",
    "        for v in self.vertexes:\n",
    "            newverts[v] = self.vertexes[v] * scalefactor\n",
    "        newme = type(self)()\n",
    "        newme.vertexes = newverts\n",
    "        newme.edges = newme._distill()\n",
    "        return newme\n",
    "\n",
    "    __mul__ = __rmul__ = scale\n",
    "\n",
    "    def translate(self, vector):\n",
    "        newverts = {}\n",
    "        for v in self.vertexes:\n",
    "            newverts[v] = self.vertexes[v] + vector\n",
    "        newme = type(self)()\n",
    "        newme.vertexes = newverts\n",
    "        newme.edges = newme._distill()\n",
    "        return newme\n",
    "\n",
    "    __add__ = __radd__ = translate\n",
    "    \n",
    "    def _distill(self):\n",
    "\n",
    "        edges = []\n",
    "        unique = set()\n",
    "        \n",
    "        for f in self.faces:\n",
    "            for pair in zip(f , f[1:] + (f[0],)):\n",
    "                unique.add( tuple(sorted(pair)) )\n",
    "        \n",
    "        for edge in unique:\n",
    "            edges.append( Edge(self.vertexes[edge[0]],\n",
    "                               self.vertexes[edge[1]]) )\n",
    "\n",
    "        return edges            "
   ]
  },
  {
   "cell_type": "code",
   "execution_count": 2,
   "metadata": {},
   "outputs": [],
   "source": [
    "class Edge:\n",
    "\n",
    "    \"\"\"\n",
    "    Edges are defined by two Vectors (above) and express as cylinder via draw().\n",
    "    \"\"\"\n",
    "\n",
    "    def __init__(self, v0, v1):\n",
    "        self.v0 = v0\n",
    "        self.v1 = v1\n",
    "             \n",
    "    def __repr__(self):\n",
    "        return 'Edge from %s to %s' % (self.v0, self.v1)"
   ]
  },
  {
   "cell_type": "code",
   "execution_count": 3,
   "metadata": {},
   "outputs": [],
   "source": [
    "def draw_vert(v): pass\n",
    "def draw_face(f): pass\n",
    "def draw_edge(e): pass\n",
    "\n",
    "def draw_poly(p, the_file, v=True, f=True, e=True):\n",
    "    \n",
    "    ec = p.edge_color\n",
    "    er = p.edge_radius\n",
    "    vc = p.vert_color\n",
    "    vr = p.vert_radius\n",
    "    fc = p.face_color\n",
    "    \n",
    "    if v:\n",
    "        for v in p.vertexes.values():\n",
    "            draw_vert(v, vc, vr, the_file)\n",
    "\n",
    "    if f:\n",
    "        for f in p.faces:\n",
    "            draw_face(f, fc, the_file)\n",
    "\n",
    "    if e:\n",
    "        for e in p.edges:\n",
    "            draw_edge(e, ec, er, the_file)"
   ]
  },
  {
   "cell_type": "code",
   "execution_count": 4,
   "metadata": {},
   "outputs": [],
   "source": [
    "from qrays import Qvector"
   ]
  },
  {
   "cell_type": "markdown",
   "metadata": {},
   "source": [
    "![cubocta](https://upload.wikimedia.org/wikipedia/commons/d/dc/Povlabels.gif)"
   ]
  },
  {
   "cell_type": "code",
   "execution_count": 5,
   "metadata": {},
   "outputs": [],
   "source": [
    "import math\n",
    "PHI = (1 + math.sqrt(5))/2.0\n",
    "\n",
    "A = Qvector((1,0,0,0))\n",
    "B = Qvector((0,1,0,0))\n",
    "C = Qvector((0,0,1,0))\n",
    "D = Qvector((0,0,0,1))\n",
    "E,F,G,H     = B+C+D, A+C+D, A+B+D, A+B+C\n",
    "I,J,K,L,M,N = A+B, A+C, A+D, B+C, B+D, C+D\n",
    "O,P,Q,R,S,T = I+J, I+K, I+L, I+M, N+J, N+K\n",
    "U,V,W,X,Y,Z = N+L, N+M, J+L, L+M, M+K, K+J\n",
    "\n",
    "# OPPOSITE DIAGONALS\n",
    "# ZY WX\n",
    "# RV OS\n",
    "# TU PQ\n",
    "control = (Z - T).length()\n",
    "\n",
    "midface = (Z + Y)\n",
    "gold    = 0.5 * PHI * midface/midface.length()\n",
    "Zi = gold + J/J.length() * control/2\n",
    "Yi = gold + M/M.length() * control/2\n",
    "\n",
    "midface = (W + X)\n",
    "gold    = 0.5 * PHI * midface/midface.length()\n",
    "Wi = gold + J/J.length() * control/2\n",
    "Xi = gold + M/M.length() * control/2\n",
    "\n",
    "midface = (R + V)\n",
    "gold    = 0.5 * PHI * midface/midface.length()\n",
    "Ri = gold + I/I.length() * control/2\n",
    "Vi = gold + N/N.length() * control/2\n",
    "\n",
    "midface = (O + S)\n",
    "gold    = 0.5 * PHI * midface/midface.length()\n",
    "Oi = gold + I/I.length() * control/2\n",
    "Si = gold + N/N.length() * control/2\n",
    "\n",
    "midface = (T + U)\n",
    "gold    = 0.5 * PHI * midface/midface.length()\n",
    "Ti = gold + K/K.length() * control/2\n",
    "Ui = gold + L/L.length() * control/2\n",
    "\n",
    "midface = (P + Q)\n",
    "gold    = 0.5 * PHI * midface/midface.length()\n",
    "Pi = gold + K/K.length() * control/2\n",
    "Qi = gold + L/L.length() * control/2"
   ]
  },
  {
   "cell_type": "code",
   "execution_count": 6,
   "metadata": {},
   "outputs": [],
   "source": [
    "class Tetrahedron(Polyhedron):\n",
    "    \n",
    "    def __init__(self):\n",
    "        self.name = \"Tetrahedron\"\n",
    "        self.edge_color = \"rgb <{}, {}, {}>\".format(1, 127/255, 80/255)\n",
    "        self.edge_radius= 0.03\n",
    "        self.vert_color = \"rgb <{}, {}, {}>\".format(1, 127/255, 80/255)\n",
    "        self.vert_radius= 0.03\n",
    "        self.face_color = \"rgb <0, 0, 0>\"\n",
    "        \n",
    "        self.vertexes = dict(a = Qvector((1,0,0,0)),\n",
    "                             b = Qvector((0,1,0,0)),\n",
    "                             c = Qvector((0,0,1,0)),\n",
    "                             d = Qvector((0,0,0,1)))\n",
    "        \n",
    "        # 4 faces\n",
    "        self.faces = (('a','b','c'),('a','c','d'),\n",
    "                      ('a','d','b'),('b','d','c'))\n",
    "\n",
    "        self.edges = self._distill()\n",
    "        \n",
    "class Cube (Polyhedron):\n",
    "\n",
    "    def __init__(self):\n",
    "        # 8 vertices\n",
    "        self.edge_color = \"rgb <0, 1, 0>\"\n",
    "        self.edge_radius= 0.03\n",
    "        self.vert_color = \"rgb <1, 0, 0>\"\n",
    "        self.vert_radius= 0.03\n",
    "        self.face_color = \"rgb <0, 0, 0>\"\n",
    "\n",
    "        self.vertexes = dict(a =  Qvector((1,0,0,0)),\n",
    "                             b =  Qvector((0,1,0,0)),\n",
    "                             c =  Qvector((0,0,1,0)),\n",
    "                             d =  Qvector((0,0,0,1)),\n",
    "                             e = -Qvector((1,0,0,0)),\n",
    "                             f = -Qvector((0,1,0,0)),\n",
    "                             g = -Qvector((0,0,1,0)),\n",
    "                             h = -Qvector((0,0,0,1)))\n",
    "        self.name = \"Cube\"\n",
    "        \n",
    "        # 6 faces\n",
    "        self.faces = (('a','f','c','h'),('h','c','e','b'),\n",
    "                      ('b','e','d','g'),('g','d','f','a'),\n",
    "                      ('c','f','d','e'),('a','h','b','g'))\n",
    "\n",
    "        self.edges = self._distill()"
   ]
  },
  {
   "cell_type": "code",
   "execution_count": 7,
   "metadata": {},
   "outputs": [
    {
     "data": {
      "text/plain": [
       "[Edge from ivm_vector(a=2, b=1, c=2, d=0) to ivm_vector(a=1, b=0, c=0, d=0),\n",
       " Edge from ivm_vector(a=2, b=2, c=1, d=0) to ivm_vector(a=2, b=1, c=2, d=0),\n",
       " Edge from ivm_vector(a=2, b=2, c=1, d=0) to ivm_vector(a=1, b=0, c=0, d=0),\n",
       " Edge from ivm_vector(a=3, b=1, c=1, d=0) to ivm_vector(a=2, b=2, c=1, d=0),\n",
       " Edge from ivm_vector(a=3, b=1, c=1, d=0) to ivm_vector(a=1, b=0, c=0, d=0),\n",
       " Edge from ivm_vector(a=3, b=1, c=1, d=0) to ivm_vector(a=2, b=1, c=2, d=0)]"
      ]
     },
     "execution_count": 7,
     "metadata": {},
     "output_type": "execute_result"
    }
   ],
   "source": [
    "t = Tetrahedron()\n",
    "t2 = t + Qvector((2,1,1,0))\n",
    "t2.edges"
   ]
  },
  {
   "cell_type": "code",
   "execution_count": 8,
   "metadata": {},
   "outputs": [],
   "source": [
    "c = Cube()"
   ]
  },
  {
   "cell_type": "code",
   "execution_count": 9,
   "metadata": {},
   "outputs": [],
   "source": [
    "pov_header = \\\n",
    "\"\"\"\n",
    "// Persistence of Vision Ray Tracer Scene Description File\n",
    "// File: xyz.pov\n",
    "// Vers: 3.6\n",
    "// Desc: test file\n",
    "// Date: Sat Sep  7 09:49:33 2019\n",
    "// Auth: me\n",
    "// ==== Standard POV-Ray Includes ====\n",
    "#include \"colors.inc\"     // Standard Color definitions\n",
    "#include \"textures.inc\"   // Standard Texture definitions\n",
    "#include \"functions.inc\"  // internal functions usable in user defined functions\n",
    "\n",
    "// ==== Additional Includes ====\n",
    "// Don't have all of the following included at once, it'll cost memory and time\n",
    "// to parse!\n",
    "// --- general include files ---\n",
    "#include \"chars.inc\"      // A complete library of character objects, by Ken Maeno\n",
    "#include \"skies.inc\"      // Ready defined sky spheres\n",
    "#include \"stars.inc\"      // Some star fields\n",
    "#include \"strings.inc\"    // macros for generating and manipulating text strings\n",
    "\n",
    "// --- textures ---\n",
    "#include \"finish.inc\"     // Some basic finishes\n",
    "#include \"glass.inc\"      // Glass textures/interiors\n",
    "#include \"golds.inc\"      // Gold textures\n",
    "#include \"metals.inc\"     // Metallic pigments, finishes, and textures\n",
    "#include \"stones.inc\"     // Binding include-file for STONES1 and STONES2\n",
    "#include \"stones1.inc\"    // Great stone-textures created by Mike Miller\n",
    "#include \"stones2.inc\"    // More, done by Dan Farmer and Paul Novak\n",
    "#include \"woodmaps.inc\"   // Basic wooden colormaps\n",
    "#include \"woods.inc\"      // Great wooden textures created by Dan Farmer and Paul Novak\n",
    "\n",
    "global_settings {assumed_gamma 1.0}\n",
    "global_settings {ambient_light rgb<1, 1, 1> }\n",
    "\n",
    "// perspective (default) camera\n",
    "camera {\n",
    "  location  <4, 0.1, 0.2>\n",
    "  look_at   <0.0, 0.0,  0.0>\n",
    "  right     x*image_width/image_height\n",
    "}\n",
    "\n",
    "// create a regular point light source\n",
    "light_source {\n",
    "  0*x                  // light's position (translated below)\n",
    "  color rgb <1,1,1>    // light's color\n",
    "  translate <-20, 15, 10>\n",
    "}\n",
    "\n",
    "// create a regular point light source\n",
    "light_source {\n",
    "  0*x                  // light's position (translated below)\n",
    "  color rgb <1,1,1>    // light's color\n",
    "  translate <20, -15, -10>\n",
    "}\n",
    "\n",
    "background { color rgb <1.0, 1.0, 1.0> }\n",
    "\"\"\""
   ]
  },
  {
   "cell_type": "code",
   "execution_count": 10,
   "metadata": {},
   "outputs": [],
   "source": [
    "def draw_vert(v, c, r, t): \n",
    "    v = v.xyz()\n",
    "    x,y,z = v.x, v.y, v.z\n",
    "    data = \"< %s, %s, %s >\" % (x,y,z), r, c\n",
    "    template = (\"sphere { %s, %s texture \"\n",
    "                \"{ pigment { color %s } } no_shadow }\")\n",
    "    print(template % data, file=t)\n",
    "    \n",
    "def draw_face(f, c, t): pass\n",
    "\n",
    "def draw_edge(e, c, r, t):\n",
    "    v = e.v0.xyz()\n",
    "    v0 = \"< %s, %s, %s >\" % (v.x, v.y, v.z)\n",
    "    v = e.v1.xyz()\n",
    "    v1 = \"< %s, %s, %s >\" % (v.x, v.y, v.z)\n",
    "    data = (v0, v1, r, c)\n",
    "    template = (\"cylinder { %s, %s, %s texture \"\n",
    "                        \"{pigment { color %s } } no_shadow }\")\n",
    "    print(template % data, file=t)"
   ]
  },
  {
   "cell_type": "code",
   "execution_count": 11,
   "metadata": {},
   "outputs": [],
   "source": [
    "with open(\"testme.pov\", \"w\") as target:\n",
    "    target.write(pov_header)\n",
    "    draw_poly(c, target, f=False)\n",
    "    draw_poly(t, target, f=False)"
   ]
  },
  {
   "cell_type": "code",
   "execution_count": 12,
   "metadata": {},
   "outputs": [
    {
     "name": "stdout",
     "output_type": "stream",
     "text": [
      "{(0, 1, 1, 2), (1, 0, 1, 2), (2, 0, 1, 1), (0, 2, 1, 1), (0, 1, 2, 1), (1, 2, 1, 0), (1, 1, 2, 0), (2, 1, 1, 0), (1, 0, 2, 1), (1, 2, 0, 1), (2, 1, 0, 1), (1, 1, 0, 2)}\n"
     ]
    }
   ],
   "source": [
    "from itertools import permutations\n",
    "g = permutations((2,1,1,0))\n",
    "unique = {p for p in g}  # set comprehension\n",
    "print(unique)"
   ]
  },
  {
   "cell_type": "code",
   "execution_count": 13,
   "metadata": {},
   "outputs": [],
   "source": [
    "def twelve_cubes():\n",
    "    c = Cube()\n",
    "    twelve_cubes = [ ]\n",
    "    for v in unique:\n",
    "        trans_vector = Qvector(v)\n",
    "        twelve_cubes.append(c + trans_vector)\n",
    "    return twelve_cubes\n",
    "\n",
    "with open(\"multicube.pov\", \"w\") as target:\n",
    "    target.write(pov_header) \n",
    "    draw_poly(c, target, f=False)\n",
    "    for c in twelve_cubes():\n",
    "        draw_poly(c, target, f=False)"
   ]
  },
  {
   "cell_type": "markdown",
   "metadata": {},
   "source": [
    "![](multicube.png)"
   ]
  },
  {
   "cell_type": "markdown",
   "metadata": {},
   "source": [
    "![cubocta](https://upload.wikimedia.org/wikipedia/commons/d/dc/Povlabels.gif)"
   ]
  },
  {
   "cell_type": "code",
   "execution_count": 14,
   "metadata": {},
   "outputs": [],
   "source": [
    "class Cuboctahedron (Polyhedron):\n",
    "\n",
    "    def __init__(self):\n",
    "        # 8 vertices\n",
    "        self.edge_color = \"rgb <1, 1, 0>\"\n",
    "        self.edge_radius= 0.03\n",
    "        self.vert_color = \"rgb <1, 1, 0>\"\n",
    "        self.vert_radius= 0.03\n",
    "        self.face_color = \"rgb <0, 0, 0>\"\n",
    "\n",
    "        self.vertexes = dict(o =  O,\n",
    "                             p =  P,\n",
    "                             q =  Q,\n",
    "                             r =  R,\n",
    "                             s =  S,\n",
    "                             t =  T,\n",
    "                             u =  U,\n",
    "                             v =  V,\n",
    "                             w =  W,\n",
    "                             x =  X,\n",
    "                             y =  Y,\n",
    "                             z =  Z)\n",
    "        self.name = \"Cuboctahedron\"\n",
    "        \n",
    "        # 6 faces\n",
    "        self.faces = (('o','w','s','z'),('z','p','y','t'),\n",
    "                      ('t','v','u','s'),('w','q','x','u'),\n",
    "                      ('o','p','r','q'),('r','y','v','x'),\n",
    "                      ('z','s','t'),('t','y','v'),\n",
    "                      ('y','p','r'),('r','q','x'),\n",
    "                      ('x','u','v'),('u','s','w'),\n",
    "                      ('w','q','o'),('o','z','p'))\n",
    "\n",
    "        self.edges = self._distill()"
   ]
  },
  {
   "cell_type": "code",
   "execution_count": 28,
   "metadata": {},
   "outputs": [],
   "source": [
    "with open(\"cubocta.pov\", \"w\") as target:\n",
    "    target.write(pov_header) \n",
    "    cubocta = Cuboctahedron()\n",
    "    draw_poly(cubocta, target, f=False)\n",
    "    for c in twelve_cubes():\n",
    "        draw_poly(c, target, f=False)"
   ]
  },
  {
   "cell_type": "markdown",
   "metadata": {},
   "source": [
    "![ ](cubocta.png)"
   ]
  },
  {
   "cell_type": "code",
   "execution_count": 16,
   "metadata": {},
   "outputs": [],
   "source": [
    "with open(\"sphere_pack.pov\", \"w\") as target:\n",
    "    target.write(pov_header) \n",
    "    draw_poly(c, target, f=False)\n",
    "    for c in twelve_cubes():\n",
    "        draw_poly(c, target, f=False)\n",
    "    cub.vert_radius = Qvector((2,1,1,0)).length()/2\n",
    "    cub.vert_color = \"rgb <1,0,0>\"\n",
    "    draw_poly(cub, target, v=True, e=False, f=False)\n",
    "    draw_vert(Qvector((0,0,0,0)), c=cub.vert_color, \n",
    "              r=cub.vert_radius, t=target)\n",
    "    "
   ]
  },
  {
   "cell_type": "code",
   "execution_count": 27,
   "metadata": {},
   "outputs": [],
   "source": [
    "# !/usr/local/bin/povray +A +H768 +W1024 sphere_pack.pov"
   ]
  },
  {
   "cell_type": "markdown",
   "metadata": {},
   "source": [
    "![ ](sphere_pack.png)"
   ]
  },
  {
   "cell_type": "code",
   "execution_count": 17,
   "metadata": {},
   "outputs": [],
   "source": [
    "sm_radius = (A-F).length()/2"
   ]
  },
  {
   "cell_type": "code",
   "execution_count": 18,
   "metadata": {},
   "outputs": [],
   "source": [
    "with open(\"smaller_sphere_pack.pov\", \"w\") as target:\n",
    "    target.write(pov_header) \n",
    "    draw_poly(c, target, f=False)\n",
    "    for c in twelve_cubes():\n",
    "        draw_poly(c, target, f=False)\n",
    "    cub.vert_radius = sm_radius\n",
    "    cub.vert_color = \"rgb <1,0,0>\"\n",
    "    draw_poly(cub, target, v=True, e=False, f=False)\n",
    "    draw_vert(Qvector((0,0,0,0)), c=cub.vert_color, \n",
    "              r=cub.vert_radius, t=target)\n",
    "    "
   ]
  },
  {
   "cell_type": "markdown",
   "metadata": {},
   "source": [
    "![ ](smaller_sphere_pack.png)"
   ]
  },
  {
   "cell_type": "code",
   "execution_count": 19,
   "metadata": {},
   "outputs": [],
   "source": [
    "class Icosahedron (Polyhedron):\n",
    "\n",
    "    def __init__(self):\n",
    "        # 8 vertices\n",
    "        self.edge_color = \"rgb <0, 1, 1>\"\n",
    "        self.edge_radius= 0.03\n",
    "        self.vert_color = \"rgb <0, 1, 1>\"\n",
    "        self.vert_radius= 0.03\n",
    "        self.face_color = \"rgb <0, 0, 0>\"\n",
    "\n",
    "        self.vertexes = dict(o =  Oi,\n",
    "                             p =  Pi,\n",
    "                             q =  Qi,\n",
    "                             r =  Ri,\n",
    "                             s =  Si,\n",
    "                             t =  Ti,\n",
    "                             u =  Ui,\n",
    "                             v =  Vi,\n",
    "                             w =  Wi,\n",
    "                             x =  Xi,\n",
    "                             y =  Yi,\n",
    "                             z =  Zi)\n",
    "        self.name = \"Icosahedron\"\n",
    "        \n",
    "        # 20 faces\n",
    "        # OPPOSITE DIAGONALS of cubocta\n",
    "        # ZY WX\n",
    "        # RV OS\n",
    "        # TU PQ\n",
    "        self.faces = (('o','w','s'),('o','z','s'),\n",
    "                      ('z','p','y'),('z','t','y'),\n",
    "                      ('t','v','u'),('t','s','u'),\n",
    "                      ('w','q','x'),('w','u','x'),\n",
    "                      ('p','o','q'),('p','r','q'),\n",
    "                      ('r','y','v'),('r','x','v'),\n",
    "                      ('z','s','t'),('t','y','v'),\n",
    "                      ('y','p','r'),('r','q','x'),\n",
    "                      ('x','u','v'),('u','s','w'),\n",
    "                      ('w','q','o'),('o','z','p'))\n",
    "\n",
    "        self.edges = self._distill()"
   ]
  },
  {
   "cell_type": "markdown",
   "metadata": {},
   "source": [
    "![cubocta](https://upload.wikimedia.org/wikipedia/commons/d/dc/Povlabels.gif)"
   ]
  },
  {
   "cell_type": "code",
   "execution_count": 20,
   "metadata": {},
   "outputs": [],
   "source": [
    "ico = Icosahedron()"
   ]
  },
  {
   "cell_type": "code",
   "execution_count": 21,
   "metadata": {},
   "outputs": [],
   "source": [
    "with open(\"jitterbug.pov\", \"w\") as target:\n",
    "    target.write(pov_header) \n",
    "    c   = Cube()\n",
    "    ico = Icosahedron() * (1/PHI * math.sqrt(2)/2)\n",
    "    draw_poly(c, target, f=False)\n",
    "    draw_poly(ico, target, f=False)"
   ]
  },
  {
   "cell_type": "markdown",
   "metadata": {},
   "source": [
    "![icosa](jitterbug.png)"
   ]
  },
  {
   "cell_type": "code",
   "execution_count": 22,
   "metadata": {},
   "outputs": [],
   "source": [
    "with open(\"flextegrity.pov\", \"w\") as target:\n",
    "    target.write(pov_header) \n",
    "    c   = Cube()\n",
    "    draw_poly(c, target, f=False)\n",
    "    for c in twelve_cubes():\n",
    "        draw_poly(c, target, f=False)\n",
    "    ico = Icosahedron() * (1/PHI * math.sqrt(2)/2)\n",
    "    draw_poly(ico, target, f=False)\n",
    "    for v in unique:\n",
    "        newico = ico + Qvector(v)\n",
    "        draw_poly(newico, target, f=False)"
   ]
  },
  {
   "cell_type": "markdown",
   "metadata": {},
   "source": [
    "![](flextegrity.png)"
   ]
  },
  {
   "cell_type": "code",
   "execution_count": null,
   "metadata": {},
   "outputs": [],
   "source": []
  }
 ],
 "metadata": {
  "kernelspec": {
   "display_name": "Python 3",
   "language": "python",
   "name": "python3"
  },
  "language_info": {
   "codemirror_mode": {
    "name": "ipython",
    "version": 3
   },
   "file_extension": ".py",
   "mimetype": "text/x-python",
   "name": "python",
   "nbconvert_exporter": "python",
   "pygments_lexer": "ipython3",
   "version": "3.7.4"
  }
 },
 "nbformat": 4,
 "nbformat_minor": 4
}
