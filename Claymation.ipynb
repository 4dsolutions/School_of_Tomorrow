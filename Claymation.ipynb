{
 "cells": [
  {
   "cell_type": "markdown",
   "id": "dada9ad5-858f-493a-862a-4a5578818ca3",
   "metadata": {},
   "source": [
    "# Claymation + Synergetics + Hypertoons\n",
    "\n",
    "\n",
    "<a data-flickr-embed=\"true\" href=\"https://www.flickr.com/photos/kirbyurner/54306757794/in/dateposted/\" title=\"Cascadian Synergetics\"><img src=\"https://live.staticflickr.com/65535/54306757794_ee6877d7dd.jpg\" width=\"500\" height=\"375\" alt=\"Cascadian Synergetics\"/></a><script async src=\"//embedr.flickr.com/assets/client-code.js\" charset=\"utf-8\"></script>\n",
    "\n",
    "<a data-flickr-embed=\"true\" href=\"https://www.flickr.com/photos/kirbyurner/54308081752/in/dateposted/\" title=\"Claymation + Synergetics\"><img src=\"https://live.staticflickr.com/65535/54308081752_7d1f3ba3cc.jpg\" width=\"500\" height=\"319\" alt=\"Claymation + Synergetics\"/></a><script async src=\"//embedr.flickr.com/assets/client-code.js\" charset=\"utf-8\"></script>\n",
    "<br />\n",
    "*PROMPT*: A claymation snake made of clay wiggles and slithers across the table \n",
    "<br>then turns into a regular tetrahedron that uses the same amount of clay. Three \n",
    "<br>snakes come together to make a cube. Polyhedrons on posters in the background.\n",
    "\n",
    "Context:\n",
    "\n",
    "* Google Slides:  [BASKET modules](https://docs.google.com/presentation/d/13QLfgKo6kyX0j0K0RJ7W0uisB0ZyeBiK-_qbzytipck/edit?usp=sharing)\n",
    "* Hypertoons: [Coffee Shops Network](https://coffeeshopsnet.blogspot.com/search?q=hypertoon) (philosophy talk blog)\n",
    "* [Kick Off Post](https://flic.kr/p/2qK6Z9r) (Telegram)\n",
    "* [About R. B. Fuller](https://coda.io/d/Math4Wisdom_d0SvdI3KSto/R-Buckminster-Fuller_su1nmfT1#_luxyCCAR)"
   ]
  },
  {
   "cell_type": "code",
   "execution_count": 1,
   "id": "07644423-2151-4bc3-94ee-6df622b5caa9",
   "metadata": {},
   "outputs": [],
   "source": [
    "from IPython.display import YouTubeVideo"
   ]
  },
  {
   "cell_type": "code",
   "execution_count": 2,
   "id": "45269c27-73f1-4473-a0c6-4c052cc935a3",
   "metadata": {},
   "outputs": [
    {
     "data": {
      "image/jpeg": "[encoded data removed]",
      "text/html": [
       "\n",
       "        <iframe\n",
       "            width=\"400\"\n",
       "            height=\"300\"\n",
       "            src=\"https://www.youtube.com/embed/q58HKkoN60E\"\n",
       "            frameborder=\"0\"\n",
       "            allowfullscreen\n",
       "            \n",
       "        ></iframe>\n",
       "        "
      ],
      "text/plain": [
       "<IPython.lib.display.YouTubeVideo at 0x7fb5ec64f550>"
      ]
     },
     "execution_count": 2,
     "metadata": {},
     "output_type": "execute_result"
    }
   ],
   "source": [
    "YouTubeVideo(\"q58HKkoN60E\")"
   ]
  },
  {
   "cell_type": "markdown",
   "id": "121848a3-d8c2-4012-89f5-16f6e0d7ec4e",
   "metadata": {},
   "source": [
    "## Example Scenario 1\n",
    "\n",
    "Brainstorming the Synergetics meets Claymation space… kinda Gumby aesthetic, start simple. \n",
    "\n",
    "* Kids know how to roll clay into a snake and animation makes it slither along, one quantum of clay. \n",
    "* Snake stops and forms into a reg tet (home base, unit volume).\n",
    "* Morphs back into a snake and continues. \n",
    "* Merges with two other snakes (same volume) to make cube (face diagonal = home base edge)\n",
    "* Add another snake. Octahedron… \n",
    "\n",
    "etc.\n",
    "\n",
    "There’s a measuring tool or several. A piece of string maybe several. Diagonal of cube = string length. Then show it’s same as edge of octahedron etc. \n"
   ]
  },
  {
   "cell_type": "markdown",
   "id": "05198e58-7b28-4626-b0a9-359c2a76c8ea",
   "metadata": {},
   "source": [
    "## Example Scenario 2\n",
    "\n",
    "\n",
    "We get to phi early. Phi scaling. 2nd and 3rd power rules (area and volume change at respective 2nd & 3rd power of edge length change). \n",
    "We’ll be phi scaling and smushing together S mods in no time. S6 + S3 == 1. \n",
    "\n",
    "Snake optionally turns into a tetrahelix in closer inspection. Could have snakes turn into tetrahedra that face-bond into a bigger snake etc. \n",
    "\n",
    "Claymation suggests many doable fantasies. Portland is home to LAIKA Studios, could see something happening.\n",
    "\n",
    "* Start with S mod (key short)\n",
    "* S mod scales up by phi to S3\n",
    "* S3 mod scales up by phi to S6\n",
    "* both mods combine to give RegTet (HB).\n",
    "\n",
    "HB = Home Base.\n",
    "<br>\n",
    "<a data-flickr-embed=\"true\" href=\"https://www.flickr.com/photos/kirbyurner/6335726352/in/photolist-ujipN3-vLby2U-CwvwpP-5zTRjp-5zY9gA-S4BDeE-22RBsb5-25JufgG-7jZLe2-7jZLhp-7k4Eid-7k4Ejf-7k4Em5-7mcmne-2d6EFEQ-8ryEix-8ryECF-2mT2hXj-2mT3vMb-2pzB2yb-aDSfHf-f75zUP\" title=\"S Module\"><img src=\"https://live.staticflickr.com/6114/6335726352_902009df40.jpg\" width=\"500\" height=\"441\" alt=\"S Module\"/></a><script async src=\"//embedr.flickr.com/assets/client-code.js\" charset=\"utf-8\"></script>"
   ]
  },
  {
   "cell_type": "markdown",
   "id": "48a9e2c1-5564-4cc8-9bee-36565f51c222",
   "metadata": {},
   "source": [
    "#### Mathematical PlayPen"
   ]
  },
  {
   "cell_type": "code",
   "execution_count": 3,
   "id": "1651a12c-cd4e-4229-b315-4cf697506780",
   "metadata": {},
   "outputs": [],
   "source": [
    "import tetravolume as tv\n",
    "from sympy import Rational, sqrt"
   ]
  },
  {
   "cell_type": "code",
   "execution_count": 4,
   "id": "1a818677-8de3-46c9-a656-c4673b14e95e",
   "metadata": {},
   "outputs": [],
   "source": [
    "ϕ = (1 + sqrt(5))/2  # right, phi as in Golden Mean"
   ]
  },
  {
   "cell_type": "code",
   "execution_count": 5,
   "id": "05f6d30a-14ac-47e1-b461-27727a4b98a0",
   "metadata": {},
   "outputs": [
    {
     "data": {
      "text/latex": [
       "$\\displaystyle \\frac{1}{2} + \\frac{\\sqrt{5}}{2}$"
      ],
      "text/plain": [
       "1/2 + sqrt(5)/2"
      ]
     },
     "execution_count": 5,
     "metadata": {},
     "output_type": "execute_result"
    }
   ],
   "source": [
    "ϕ"
   ]
  },
  {
   "cell_type": "code",
   "execution_count": 6,
   "id": "2d1a9dba-3f97-4e6a-8332-4ab9c4e290ee",
   "metadata": {},
   "outputs": [
    {
     "data": {
      "text/latex": [
       "$\\displaystyle \\frac{1}{2 \\left(\\frac{1}{2} + \\frac{\\sqrt{5}}{2}\\right)^{5}}$"
      ],
      "text/plain": [
       "1/(2*(1/2 + sqrt(5)/2)**5)"
      ]
     },
     "execution_count": 6,
     "metadata": {},
     "output_type": "execute_result"
    }
   ],
   "source": [
    "S = Rational(1,2) * ϕ**-5 # volume of the S module\n",
    "S"
   ]
  },
  {
   "cell_type": "code",
   "execution_count": 7,
   "id": "63125975-9727-4187-8e36-67c0a97a1521",
   "metadata": {},
   "outputs": [
    {
     "data": {
      "text/latex": [
       "$\\displaystyle 0.04508497187473712051146708591409529430077294951440715533862155676315115704725612426801801047347784371$"
      ],
      "text/plain": [
       "0.04508497187473712051146708591409529430077294951440715533862155676315115704725612426801801047347784371"
      ]
     },
     "execution_count": 7,
     "metadata": {},
     "output_type": "execute_result"
    }
   ],
   "source": [
    "S.evalf(100)"
   ]
  },
  {
   "cell_type": "code",
   "execution_count": 8,
   "id": "09eead85-f595-4364-ba03-c0b2c1283f77",
   "metadata": {},
   "outputs": [],
   "source": [
    "S3 = S  * ϕ**3   # S  scaled up by phi linearly, phi to the 3rd volumetrically\n",
    "S6 = S3 * ϕ**3   # S3 scaled up by phi linearly, phi to the 3rd volumetrically"
   ]
  },
  {
   "cell_type": "markdown",
   "id": "0be984c8-5c12-49f2-8df3-7aa74618f24e",
   "metadata": {},
   "source": [
    "<a data-flickr-embed=\"true\" href=\"https://www.flickr.com/photos/kirbyurner/46009103944/in/photolist-ujipN3-vLby2U-CwvwpP-5zTRjp-5zY9gA-S4BDeE-22RBsb5-25JufgG-7jZLe2-7jZLhp-7k4Eid-7k4Ejf-7k4Em5-7mcmne-2d6EFEQ-8ryEix-8ryECF-2mT2hXj-2mT3vMb-2pzB2yb-aDSfHf-f75zUP\" title=\"Phi Scaled S Module\"><img src=\"https://live.staticflickr.com/4847/46009103944_bda5a5f0c3.jpg\" width=\"500\" height=\"500\" alt=\"Phi Scaled S Module\"/></a><script async src=\"//embedr.flickr.com/assets/client-code.js\" charset=\"utf-8\"></script>"
   ]
  },
  {
   "cell_type": "code",
   "execution_count": 9,
   "id": "68d17c4e-b25d-4fb8-933a-f22863d7b78c",
   "metadata": {},
   "outputs": [
    {
     "data": {
      "text/latex": [
       "$\\displaystyle \\frac{1}{2 \\left(\\frac{1}{2} + \\frac{\\sqrt{5}}{2}\\right)^{2}}$"
      ],
      "text/plain": [
       "1/(2*(1/2 + sqrt(5)/2)**2)"
      ]
     },
     "execution_count": 9,
     "metadata": {},
     "output_type": "execute_result"
    }
   ],
   "source": [
    "S3"
   ]
  },
  {
   "cell_type": "code",
   "execution_count": 10,
   "id": "11efbfcb-5d6b-4fe5-b975-a1d8a45b892f",
   "metadata": {},
   "outputs": [
    {
     "data": {
      "text/latex": [
       "$\\displaystyle \\frac{1}{4} + \\frac{\\sqrt{5}}{4}$"
      ],
      "text/plain": [
       "1/4 + sqrt(5)/4"
      ]
     },
     "execution_count": 10,
     "metadata": {},
     "output_type": "execute_result"
    }
   ],
   "source": [
    "S6"
   ]
  },
  {
   "cell_type": "code",
   "execution_count": 11,
   "id": "762966e8-feba-40f1-980a-0ab1bbc23f43",
   "metadata": {},
   "outputs": [
    {
     "data": {
      "text/latex": [
       "$\\displaystyle \\frac{1}{2 \\left(\\frac{1}{2} + \\frac{\\sqrt{5}}{2}\\right)^{2}} + \\frac{1}{4} + \\frac{\\sqrt{5}}{4}$"
      ],
      "text/plain": [
       "1/(2*(1/2 + sqrt(5)/2)**2) + 1/4 + sqrt(5)/4"
      ]
     },
     "execution_count": 11,
     "metadata": {},
     "output_type": "execute_result"
    }
   ],
   "source": [
    "S3 + S6 # equals 1"
   ]
  },
  {
   "cell_type": "code",
   "execution_count": 12,
   "id": "d2aa6c8a-3094-4c22-a518-62e51609712d",
   "metadata": {},
   "outputs": [
    {
     "data": {
      "text/latex": [
       "$\\displaystyle 1$"
      ],
      "text/plain": [
       "1"
      ]
     },
     "execution_count": 12,
     "metadata": {},
     "output_type": "execute_result"
    }
   ],
   "source": [
    "(S3 + S6).simplify() # unit volume tetrahedron"
   ]
  },
  {
   "cell_type": "markdown",
   "id": "3d7c6f24-e542-498c-9491-5eb290d0e9d3",
   "metadata": {},
   "source": [
    "<a data-flickr-embed=\"true\" href=\"https://www.flickr.com/photos/kirbyurner/53545176726/in/photolist-ujipN3-vLby2U-CwvwpP-5zTRjp-5zY9gA-S4BDeE-22RBsb5-25JufgG-7jZLe2-7jZLhp-7k4Eid-7k4Ejf-7k4Em5-7mcmne-2d6EFEQ-8ryEix-8ryECF-2mT2hXj-2mT3vMb-2pzB2yb-aDSfHf-f75zUP\" title=\"Presentation Mode by David Koski\"><img src=\"https://live.staticflickr.com/65535/53545176726_86f1644013.jpg\" width=\"500\" height=\"163\" alt=\"Presentation Mode by David Koski\"/></a><script async src=\"//embedr.flickr.com/assets/client-code.js\" charset=\"utf-8\"></script>\n",
    "\n",
    "Koski Studios: source for phi scaled S modules work"
   ]
  }
 ],
 "metadata": {
  "kernelspec": {
   "display_name": "Python 3 (ipykernel)",
   "language": "python",
   "name": "python3"
  },
  "language_info": {
   "codemirror_mode": {
    "name": "ipython",
    "version": 3
   },
   "file_extension": ".py",
   "mimetype": "text/x-python",
   "name": "python",
   "nbconvert_exporter": "python",
   "pygments_lexer": "ipython3",
   "version": "3.9.15"
  }
 },
 "nbformat": 4,
 "nbformat_minor": 5
}
