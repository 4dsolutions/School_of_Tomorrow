{
 "cells": [
  {
   "cell_type": "markdown",
   "id": "dada9ad5-858f-493a-862a-4a5578818ca3",
   "metadata": {},
   "source": [
    "# Claymation + Synergetics\n",
    "\n",
    "\n",
    "<a data-flickr-embed=\"true\" href=\"https://www.flickr.com/photos/kirbyurner/54308081752/in/dateposted/\" title=\"Claymation + Synergetics\"><img src=\"https://live.staticflickr.com/65535/54308081752_7d1f3ba3cc.jpg\" width=\"500\" height=\"319\" alt=\"Claymation + Synergetics\"/></a><script async src=\"//embedr.flickr.com/assets/client-code.js\" charset=\"utf-8\"></script>"
   ]
  },
  {
   "cell_type": "code",
   "execution_count": 1,
   "id": "1651a12c-cd4e-4229-b315-4cf697506780",
   "metadata": {},
   "outputs": [],
   "source": [
    "import tetravolume as tv\n",
    "import flextegrity as fx\n",
    "import pandas as pd\n",
    "import numpy as np\n",
    "from importlib import reload\n",
    "import sympy"
   ]
  },
  {
   "cell_type": "code",
   "execution_count": 3,
   "id": "1a818677-8de3-46c9-a656-c4673b14e95e",
   "metadata": {},
   "outputs": [],
   "source": [
    "ϕ = (1 + sympy.sqrt(5))/2"
   ]
  },
  {
   "cell_type": "code",
   "execution_count": 4,
   "id": "05f6d30a-14ac-47e1-b461-27727a4b98a0",
   "metadata": {},
   "outputs": [
    {
     "data": {
      "text/latex": [
       "$\\displaystyle \\frac{1}{2} + \\frac{\\sqrt{5}}{2}$"
      ],
      "text/plain": [
       "1/2 + sqrt(5)/2"
      ]
     },
     "execution_count": 4,
     "metadata": {},
     "output_type": "execute_result"
    }
   ],
   "source": [
    "ϕ"
   ]
  },
  {
   "cell_type": "code",
   "execution_count": 5,
   "id": "2d1a9dba-3f97-4e6a-8332-4ab9c4e290ee",
   "metadata": {},
   "outputs": [
    {
     "data": {
      "text/latex": [
       "$\\displaystyle \\frac{1}{2 \\left(\\frac{1}{2} + \\frac{\\sqrt{5}}{2}\\right)^{5}}$"
      ],
      "text/plain": [
       "1/(2*(1/2 + sqrt(5)/2)**5)"
      ]
     },
     "execution_count": 5,
     "metadata": {},
     "output_type": "execute_result"
    }
   ],
   "source": [
    "S = sympy.Rational(1,2) * ϕ**-5\n",
    "S"
   ]
  },
  {
   "cell_type": "code",
   "execution_count": 6,
   "id": "63125975-9727-4187-8e36-67c0a97a1521",
   "metadata": {},
   "outputs": [
    {
     "data": {
      "text/latex": [
       "$\\displaystyle 0.0450849718747371$"
      ],
      "text/plain": [
       "0.0450849718747371"
      ]
     },
     "execution_count": 6,
     "metadata": {},
     "output_type": "execute_result"
    }
   ],
   "source": [
    "S.evalf()"
   ]
  },
  {
   "cell_type": "code",
   "execution_count": 7,
   "id": "09eead85-f595-4364-ba03-c0b2c1283f77",
   "metadata": {},
   "outputs": [],
   "source": [
    "S3 = S * ϕ**3\n",
    "S6 = S3 * ϕ**3"
   ]
  },
  {
   "cell_type": "code",
   "execution_count": 8,
   "id": "68d17c4e-b25d-4fb8-933a-f22863d7b78c",
   "metadata": {},
   "outputs": [
    {
     "data": {
      "text/latex": [
       "$\\displaystyle \\frac{1}{2 \\left(\\frac{1}{2} + \\frac{\\sqrt{5}}{2}\\right)^{2}}$"
      ],
      "text/plain": [
       "1/(2*(1/2 + sqrt(5)/2)**2)"
      ]
     },
     "execution_count": 8,
     "metadata": {},
     "output_type": "execute_result"
    }
   ],
   "source": [
    "S3"
   ]
  },
  {
   "cell_type": "code",
   "execution_count": 9,
   "id": "11efbfcb-5d6b-4fe5-b975-a1d8a45b892f",
   "metadata": {},
   "outputs": [
    {
     "data": {
      "text/latex": [
       "$\\displaystyle \\frac{1}{4} + \\frac{\\sqrt{5}}{4}$"
      ],
      "text/plain": [
       "1/4 + sqrt(5)/4"
      ]
     },
     "execution_count": 9,
     "metadata": {},
     "output_type": "execute_result"
    }
   ],
   "source": [
    "S6"
   ]
  },
  {
   "cell_type": "code",
   "execution_count": 10,
   "id": "762966e8-feba-40f1-980a-0ab1bbc23f43",
   "metadata": {},
   "outputs": [
    {
     "data": {
      "text/latex": [
       "$\\displaystyle \\frac{1}{2 \\left(\\frac{1}{2} + \\frac{\\sqrt{5}}{2}\\right)^{2}} + \\frac{1}{4} + \\frac{\\sqrt{5}}{4}$"
      ],
      "text/plain": [
       "1/(2*(1/2 + sqrt(5)/2)**2) + 1/4 + sqrt(5)/4"
      ]
     },
     "execution_count": 10,
     "metadata": {},
     "output_type": "execute_result"
    }
   ],
   "source": [
    "S3 + S6"
   ]
  },
  {
   "cell_type": "code",
   "execution_count": 11,
   "id": "d2aa6c8a-3094-4c22-a518-62e51609712d",
   "metadata": {},
   "outputs": [
    {
     "data": {
      "text/latex": [
       "$\\displaystyle 1$"
      ],
      "text/plain": [
       "1"
      ]
     },
     "execution_count": 11,
     "metadata": {},
     "output_type": "execute_result"
    }
   ],
   "source": [
    "(S3 + S6).simplify()"
   ]
  }
 ],
 "metadata": {
  "kernelspec": {
   "display_name": "Python 3 (ipykernel)",
   "language": "python",
   "name": "python3"
  },
  "language_info": {
   "codemirror_mode": {
    "name": "ipython",
    "version": 3
   },
   "file_extension": ".py",
   "mimetype": "text/x-python",
   "name": "python",
   "nbconvert_exporter": "python",
   "pygments_lexer": "ipython3",
   "version": "3.9.15"
  }
 },
 "nbformat": 4,
 "nbformat_minor": 5
}
