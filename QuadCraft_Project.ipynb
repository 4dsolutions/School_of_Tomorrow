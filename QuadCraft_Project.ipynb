{
 "cells": [
  {
   "cell_type": "markdown",
   "id": "8dc11e7b-f831-44e3-b641-6c4cabd56797",
   "metadata": {},
   "source": [
    "[School of Tomorrow (Home)](School_of_Tomorrow.ipynb)\n",
    "\n",
    "\n",
    "# Project QuadCraft"
   ]
  },
  {
   "cell_type": "markdown",
   "id": "fc15502a-e389-4c4c-8a5c-217f36740876",
   "metadata": {},
   "source": [
    "<a data-flickr-embed=\"true\" href=\"https://www.flickr.com/photos/kirbyurner/4073009388/\" title=\"Quadray Coordinates\"><img src=\"https://live.staticflickr.com/2693/4073009388_e924a4091c_o.gif\" width=\"400\" height=\"350\" alt=\"Quadray Coordinates\"/></a><script async src=\"//embedr.flickr.com/assets/client-code.js\" charset=\"utf-8\"></script>"
   ]
  },
  {
   "cell_type": "code",
   "execution_count": 1,
   "id": "1af885c6-7d83-4125-bc41-dc61cb20bc6b",
   "metadata": {},
   "outputs": [],
   "source": [
    "from qrays import Vector, Qvector\n",
    "import qrays\n",
    "from sympy import sqrt"
   ]
  },
  {
   "cell_type": "markdown",
   "id": "db6ff0d3-63fa-4462-99b4-8de350437736",
   "metadata": {},
   "source": [
    "### Background\n",
    "\n",
    "The Quadcraft Project was originally developed by the Crescent City campus to encourage programmers to contribute to the pool of demo projects suitable for appending to [the Quadrays slide deck](https://docs.google.com/presentation/d/1ynde13tnMAu7EelfVuQVTFDUWGYBcRDRmtkMu4LIUFw/edit?usp=sharing) (4D Solutions). \n",
    "\n",
    "[School of Tomorrow](https://github.com/4dsolutions/School_of_Tomorrow/blob/master/School_of_Tomorrow.ipynb) students will be able to eyeball the source code related to numerous implementations of the concepts, thereby reinforcing their mastery of the material while introducing them to alternative tool sets.\n",
    "\n",
    "The details of the UI are left to the programmer, but with up front guidance as to what a default implementation might include, in terms of dashboard display widgets and a main 3d canvas.\n",
    "\n",
    "For example, the UI sketched below consists of four UAPs (UFOs) which think in terms of Martian Math (i.e. IVM coordinates) when moving from CCP ball to neighboring CCP ball. \n",
    "\n",
    "The program keeps track of their six respective interdistances and continually re-computes the tetravolume for the tetrahedron resulting from the four-UFO formation."
   ]
  },
  {
   "cell_type": "markdown",
   "id": "d204e180-5bad-4bed-b692-5e6496a2b492",
   "metadata": {},
   "source": [
    "### Basic UI Concepts\n",
    "\n",
    "<a data-flickr-embed=\"true\" href=\"https://www.flickr.com/photos/kirbyurner/54504074003/in/dateposted/\" title=\"QuadCraft Dashboard Concepts\"><img src=\"https://live.staticflickr.com/65535/54504074003_31a72d23dd_z.jpg\" width=\"640\" height=\"501\" alt=\"QuadCraft Dashboard Concepts\"/></a><script async src=\"//embedr.flickr.com/assets/client-code.js\" charset=\"utf-8\"></script>"
   ]
  },
  {
   "cell_type": "markdown",
   "id": "70e6553c-a9b6-4ca9-a062-fa1cd5d72be0",
   "metadata": {},
   "source": [
    "We will keep track of the positions of the UFOs in both Quadray Coordinates (IVM coordinates) and in XYZ coordinates. Quadrays employ 4-tuples and in canonical lowest-terms form at least one of the 4 slots is zero, representing the quadray not bounding the quadrant in question (the quadrant a point is actually in).\n",
    "\n",
    "Only three of the four quadrays bounds each of the four quadrants of space, so it makes sense there's always at least one unused basis vector.  Defining a \"lowest terms\" also addresses the issue that every quadray forms an equivalence class, much as rational numbers do e.g. 1/2 = 2/4 = 3/6 ...  Likewise (a,b,c,d) + any (n,n,n,n) defines the same point. So to simplify to lowest terms: subtract the smallest (n,n,n,n) that makes one at least one of the four digits a zero (i.e. unused)."
   ]
  },
  {
   "cell_type": "markdown",
   "id": "35a9261d-8df4-4a0e-b28c-a94858395a20",
   "metadata": {},
   "source": [
    "The canvas below, alluded to above in the \"IVM\" area, shows the 3d contrails of four avatars random walking in the CCP. \n",
    "\n",
    "Every move is to a neighboring ball in the CCP lattice (cubic closest packing). \n",
    "\n",
    "At every turn to play, the four UFOs define six interdistances that in turn define a tetrahedron, the volume of which we will compute, and display."
   ]
  },
  {
   "cell_type": "markdown",
   "id": "b05843c5-0368-4623-ab76-9d3056595023",
   "metadata": {},
   "source": [
    "<a data-flickr-embed=\"true\" href=\"https://www.flickr.com/photos/kirbyurner/54502948587/in/dateposted/\" title=\"Four UFOs Leaving RD Contrails\"><img src=\"https://live.staticflickr.com/65535/54502948587_0cd17f91ee_z.jpg\" width=\"607\" height=\"503\" alt=\"Four UFOs Leaving RD Contrails\"/></a><script async src=\"//embedr.flickr.com/assets/client-code.js\" charset=\"utf-8\"></script>"
   ]
  },
  {
   "cell_type": "markdown",
   "id": "28c4f78b-465a-427f-8078-732d61328045",
   "metadata": {},
   "source": [
    "### Twelve Degrees of Freedom in the CCP\n",
    "This display instrument below shows how 12 linear combinations of quadrays {2, 1, 1, 0} correspond to the corners of a cuboctahedron, meaning a neighboring tangent sphere relative to the central sphere. \n",
    "\n",
    "Given Basis Quadrays:\n",
    "\n",
    "A ← (1, 0, 0, 0) \n",
    "B ← (0, 1, 0, 0) \n",
    "C ←(0, 0, 1, 0) \n",
    "D ← (0, 0, 0, 1)\n",
    "\n",
    "multiply any one of them by 2, any two others by 1 (i.e. take as is), and don’t use the fourth one at all (multiply by 0), and add the results. Quadray vectors add the same way XYZ vectors do, tip-to-tail.\n",
    "\n",
    "The resultant vector will be from ORIGIN (0,0,0,0) to one of the 12 corners of the cuboctahedron, of radial and circumferential edges DIAMETER (the same length as the edges of the home base tetrahedron)."
   ]
  },
  {
   "cell_type": "markdown",
   "id": "52a0c9ef-0332-43ba-8a19-454d4fecfa10",
   "metadata": {},
   "source": [
    "![thrusters.gif](thrusters.gif)"
   ]
  },
  {
   "cell_type": "markdown",
   "id": "87320466-6101-4f35-94c7-e29f2503f843",
   "metadata": {},
   "source": [
    "The animated GIF below shows how 12 unit diameter spheres define the 24 edges of the yellow cuboctahedron, as well as how rhombic dodecahedra encase each such ball in a space-filling lattace."
   ]
  },
  {
   "cell_type": "markdown",
   "id": "a6d433c7-de0e-43a3-b476-fd719eff2f18",
   "metadata": {},
   "source": [
    "![synergetica](https://grunch.net/synergetics/hierarchy/sphpackanim.gif)"
   ]
  },
  {
   "cell_type": "markdown",
   "id": "86d3ffc2-7a0e-4e86-a454-a6e14ae28331",
   "metadata": {},
   "source": [
    "For more context see:  [The Synergetics Hierarchy of Concentric Polyhedra](https://grunch.net/synergetics/volumes.html) @ [Synergetics on the Web](https://grunch.net/synergetics/) at grunch.net "
   ]
  },
  {
   "cell_type": "markdown",
   "id": "c47e3b2c-726f-48bb-83c2-0d3c4367362a",
   "metadata": {},
   "source": [
    "### Turtle\n",
    "\n",
    "Sea Turtle, Drone, UAP, UAV... UFO... take your pick.  The idea comes from Logo language, of which 3D versions were developed.\n",
    "\n",
    "Do Turtle movements leave a trace?  Perhaps only when \"pen down\".  How do we control their movements?  \n",
    "\n",
    "Might they each have a \"random\" mode?\n",
    "\n",
    "### Movement \n",
    "\n",
    "The idea is one could mouse click on one of 12 buttons, if wanting to move a Turtle to a neigboring ball center.\n",
    "\n",
    "This world is all about a lattice of ball centers, and not just any lattice, but the CCP in particular\n",
    "\n",
    "<a data-flickr-embed=\"true\" href=\"https://www.flickr.com/photos/kirbyurner/54504191001/in/dateposted/\" title=\"4D Studios:  Claymation Station\"><img src=\"https://live.staticflickr.com/65535/54504191001_cf40eb5002_n.jpg\" width=\"320\" height=\"319\" alt=\"4D Studios:  Claymation Station\"/></a><script async src=\"//embedr.flickr.com/assets/client-code.js\" charset=\"utf-8\"></script>\n",
    "\n",
    "### Location\n",
    "\n",
    "\"Where am I now?\"  The selected UAP displays its current location, according to two different coordinate systems:  IVM and XYZ.\n",
    "\n",
    "### Distance\n",
    "\n",
    "\"How far am I from my neighbors?\"  In the default implementation, we have just the four UAPs, each always occupying a CCP ball center. The six resulting inter-distances define the edges of a tetrahedron.  What is its volume?  In XYZ.  In the IVM?\n",
    "\n",
    "You might think the volumes would be the same given the XYZ and IVM readouts point to the same vertices, but that's not the case. In IVM world, we have a different concept of volume, and an alternative volumes table.\n",
    "\n",
    "<a data-flickr-embed=\"true\" href=\"https://www.flickr.com/photos/kirbyurner/51804664503/in/photostream/\" title=\"Wikipedia Volumes Table\"><img src=\"https://live.staticflickr.com/65535/51804664503_63e3407cba_z.jpg\" width=\"640\" height=\"395\" alt=\"Wikipedia Volumes Table\"/></a><script async src=\"//embedr.flickr.com/assets/client-code.js\" charset=\"utf-8\"></script>"
   ]
  },
  {
   "cell_type": "markdown",
   "id": "faaec9f4-4d2d-4bac-8ba8-22a35e1ba622",
   "metadata": {},
   "source": [
    "### Developers' Sandbox"
   ]
  },
  {
   "cell_type": "code",
   "execution_count": 2,
   "id": "5bc0c095-e395-47e0-9bbc-8377f3485bc6",
   "metadata": {},
   "outputs": [
    {
     "data": {
      "text/latex": [
       "$\\displaystyle 1$"
      ],
      "text/plain": [
       "1"
      ]
     },
     "execution_count": 2,
     "metadata": {},
     "output_type": "execute_result"
    }
   ],
   "source": [
    "qrays.DIAM"
   ]
  },
  {
   "cell_type": "code",
   "execution_count": 3,
   "id": "48e9611d-f16c-40dc-a124-c70b23e9ed3a",
   "metadata": {},
   "outputs": [
    {
     "data": {
      "text/plain": [
       "(ivm_vector(a=1, b=0, c=0, d=0),\n",
       " ivm_vector(a=0, b=1, c=0, d=0),\n",
       " ivm_vector(a=0, b=0, c=1, d=0),\n",
       " ivm_vector(a=0, b=0, c=0, d=1))"
      ]
     },
     "execution_count": 3,
     "metadata": {},
     "output_type": "execute_result"
    }
   ],
   "source": [
    "qrays.A, qrays.B, qrays.C, qrays.D"
   ]
  },
  {
   "cell_type": "markdown",
   "id": "6bd249b1-2a5f-464a-8e63-02aa7fa388c1",
   "metadata": {},
   "source": [
    "<a data-flickr-embed=\"true\" href=\"https://www.flickr.com/photos/kirbyurner/54503756916/in/dateposted/\" title=\"Quadrays Conventions\"><img src=\"https://live.staticflickr.com/65535/54503756916_46b64d54df_z.jpg\" width=\"640\" height=\"362\" alt=\"Quadrays Conventions\"/></a><script async src=\"//embedr.flickr.com/assets/client-code.js\" charset=\"utf-8\"></script>"
   ]
  },
  {
   "cell_type": "code",
   "execution_count": 4,
   "id": "41c5f0aa-f8ae-4818-b9bf-40ea593e3a41",
   "metadata": {},
   "outputs": [
    {
     "data": {
      "text/plain": [
       "xyz_vector(x=3, y=11, z=7)"
      ]
     },
     "execution_count": 4,
     "metadata": {},
     "output_type": "execute_result"
    }
   ],
   "source": [
    "anyXYZ = Vector((3, 11, 7))\n",
    "anyXYZ"
   ]
  },
  {
   "cell_type": "code",
   "execution_count": 5,
   "id": "8f8648ce-ffb4-4137-85dd-911c275f5ddb",
   "metadata": {},
   "outputs": [
    {
     "data": {
      "text/plain": [
       "ivm_vector(a=18*sqrt(2), b=4*sqrt(2), c=8*sqrt(2), d=0)"
      ]
     },
     "execution_count": 5,
     "metadata": {},
     "output_type": "execute_result"
    }
   ],
   "source": [
    "anyXYZ.quadray().coords"
   ]
  },
  {
   "cell_type": "code",
   "execution_count": 6,
   "id": "938ac045-ed63-4b8d-93cc-5781a8d6c0c8",
   "metadata": {},
   "outputs": [
    {
     "data": {
      "text/plain": [
       "[25.4558441227157, 5.65685424949238, 11.3137084989848, 0]"
      ]
     },
     "execution_count": 6,
     "metadata": {},
     "output_type": "execute_result"
    }
   ],
   "source": [
    "[d.evalf() for d in anyXYZ.quadray().coords]"
   ]
  },
  {
   "cell_type": "code",
   "execution_count": 7,
   "id": "f9f62419-ea54-43e7-a71e-da587b5252bb",
   "metadata": {},
   "outputs": [
    {
     "data": {
      "text/plain": [
       "[25.4558441227157, 11.3137084989848, 11.3137084989848, 0]"
      ]
     },
     "execution_count": 7,
     "metadata": {},
     "output_type": "execute_result"
    }
   ],
   "source": [
    "anyXYZ = Vector((1, 9, 9))\n",
    "[d.evalf() for d in anyXYZ.quadray().coords]"
   ]
  },
  {
   "cell_type": "code",
   "execution_count": 8,
   "id": "0d7deedc-56ca-4f97-aff0-60756ee14297",
   "metadata": {},
   "outputs": [
    {
     "data": {
      "text/plain": [
       "ivm_vector(a=18*sqrt(2), b=8*sqrt(2), c=8*sqrt(2), d=0)"
      ]
     },
     "execution_count": 8,
     "metadata": {},
     "output_type": "execute_result"
    }
   ],
   "source": [
    "anyXYZ.quadray().coords"
   ]
  },
  {
   "cell_type": "code",
   "execution_count": 9,
   "id": "522cc80e-fbf6-4927-bf0e-e21c2a9607f2",
   "metadata": {},
   "outputs": [
    {
     "data": {
      "text/latex": [
       "$\\displaystyle 1$"
      ],
      "text/plain": [
       "1"
      ]
     },
     "execution_count": 9,
     "metadata": {},
     "output_type": "execute_result"
    }
   ],
   "source": [
    "Qvector((sqrt(2), 0, 0, sqrt(2))).length()"
   ]
  },
  {
   "cell_type": "code",
   "execution_count": 10,
   "id": "88e51a53-0892-4e2d-be0a-dd1315623ff3",
   "metadata": {},
   "outputs": [
    {
     "data": {
      "text/plain": [
       "xyz_vector(x=1, y=0, z=0)"
      ]
     },
     "execution_count": 10,
     "metadata": {},
     "output_type": "execute_result"
    }
   ],
   "source": [
    "Qvector((sqrt(2), 0, 0, sqrt(2))).xyz"
   ]
  }
 ],
 "metadata": {
  "kernelspec": {
   "display_name": "Python 3 (ipykernel)",
   "language": "python",
   "name": "python3"
  },
  "language_info": {
   "codemirror_mode": {
    "name": "ipython",
    "version": 3
   },
   "file_extension": ".py",
   "mimetype": "text/x-python",
   "name": "python",
   "nbconvert_exporter": "python",
   "pygments_lexer": "ipython3",
   "version": "3.11.3"
  }
 },
 "nbformat": 4,
 "nbformat_minor": 5
}
