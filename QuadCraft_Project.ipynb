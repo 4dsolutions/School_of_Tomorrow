{
 "cells": [
  {
   "cell_type": "markdown",
   "id": "8dc11e7b-f831-44e3-b641-6c4cabd56797",
   "metadata": {},
   "source": [
    "[School of Tomorrow (Home)](School_of_Tomorrow.ipynb)\n",
    "\n",
    "<div style=\"text-align: center;\">\n",
    "<a data-flickr-embed=\"true\" href=\"https://www.flickr.com/photos/kirbyurner/54596554819/in/dateposted/\" title=\"Banner Icon\"><img src=\"https://live.staticflickr.com/65535/54596554819_a73ca2675f_n.jpg\" width=\"320\" height=\"320\" alt=\"Banner Icon\"/></a><script async src=\"//embedr.flickr.com/assets/client-code.js\" charset=\"utf-8\"></script>\n",
    "</div>\n",
    "\n",
    "<br >\n",
    "\n",
    "### For Developers\n",
    "\n",
    "<div style=\"text-align: center;\">\n",
    "<a data-flickr-embed=\"true\" href=\"https://www.flickr.com/photos/kirbyurner/54504421824/in/dateposted/\" title=\"Not Your Grandma&#x27;s MineCraft\"><img src=\"https://live.staticflickr.com/65535/54504421824_f6ab851bf0_o.png\" width=\"931\" height=\"589\" alt=\"Not Your Grandma&#x27;s MineCraft\"/></a><script async src=\"//embedr.flickr.com/assets/client-code.js\" charset=\"utf-8\"></script>\n",
    "</div>\n",
    "\n",
    "<div style=\"text-align: center;\">\n",
    "Last Slide: Now What?\n",
    "</div>\n",
    "\n",
    "# Project QuadCraft: DEMO versions\n",
    "### *\"a world beyond MineCraft\"*"
   ]
  },
  {
   "cell_type": "markdown",
   "id": "fc15502a-e389-4c4c-8a5c-217f36740876",
   "metadata": {},
   "source": [
    "<div style=\"text-align: center;\">\n",
    "<a data-flickr-embed=\"true\" href=\"https://www.flickr.com/photos/kirbyurner/4073009388/\" title=\"Quadray Coordinates\"><img src=\"https://live.staticflickr.com/2693/4073009388_e924a4091c_o.gif\" width=\"400\" height=\"350\" alt=\"Quadray Coordinates\"/></a><script async src=\"//embedr.flickr.com/assets/client-code.js\" charset=\"utf-8\"></script>\n",
    "</div>"
   ]
  },
  {
   "cell_type": "code",
   "execution_count": 1,
   "id": "1af885c6-7d83-4125-bc41-dc61cb20bc6b",
   "metadata": {},
   "outputs": [],
   "source": [
    "import qrays\n",
    "import sympy\n",
    "from qrays import Vector, Qvector\n",
    "from sympy import sqrt\n",
    "\n",
    "from itertools import permutations\n",
    "from random import choice"
   ]
  },
  {
   "cell_type": "markdown",
   "id": "db6ff0d3-63fa-4462-99b4-8de350437736",
   "metadata": {},
   "source": [
    "### Background\n",
    "\n",
    "The Quadcraft Project was originally developed by [the Crescent City campus](https://www.hmdb.org/m.asp?m=181238 ) to encourage programmers to contribute to the pool of demo projects suitable for appending to [the Quadrays slide deck](https://docs.google.com/presentation/d/1ynde13tnMAu7EelfVuQVTFDUWGYBcRDRmtkMu4LIUFw/edit?usp=sharing) (4D Solutions). Daniel Friedman tapped [benrayfield](https://x.com/benrayfield) via X to start up a new [QuadCraft Github site](https://github.com/docxology/QuadCraft). This process helped catalyze new ways to shape our forays into software development. For example, this QuadCraft Project Notebook was launched and developed, in parallel with a lot of new stuff in [the M4W Coda](https://github.com/4dsolutions/m4w/blob/main/M4WTOC.ipynb).\n",
    "\n",
    "<a data-flickr-embed=\"true\" href=\"https://www.flickr.com/photos/kirbyurner/54595486067/in/dateposted/\" title=\"quadcraft_4\"><img src=\"https://live.staticflickr.com/65535/54595486067_362936d705_c.jpg\" width=\"533\" height=\"800\" alt=\"quadcraft_4\"/></a><script async src=\"//embedr.flickr.com/assets/client-code.js\" charset=\"utf-8\"></script>\n",
    "\n",
    "[School of Tomorrow](https://github.com/4dsolutions/School_of_Tomorrow/blob/master/School_of_Tomorrow.ipynb) students will be able to eyeball the source code related to numerous implementations of the concepts, thereby reinforcing their mastery of the material while introducing them to alternative tool sets.\n",
    "\n",
    "Presenters of the Quardrays slides, when they get to the last slide, which says DEMO, will be able to shift gears into one or more demos, choosing from our growing inventory of open source implementations.\n",
    "\n",
    "The details of the UI are left to the programmer, but with up front guidance as to what a default implementation might include, in terms of dashboard display widgets and a main 3d canvas. A goal is to dovetail with the slide presentation, creating a mutually reinforcing feedback loop.\n",
    "\n",
    "For example, the UI sketched below consists of four UAPs (UFOs) which think in terms of [Martian Math](https://github.com/4dsolutions/DigitalMathematics/blob/master/MartianMath.ipynb) (i.e. IVM coordinates) when moving from CCP ball to neighboring CCP ball. \n",
    "\n",
    "The program keeps track of their six respective inter-distances and continually re-computes the tetravolume for the tetrahedron resulting from the four-UFO formation. \n",
    "\n",
    "The UFOs occupy CCP balls.  Four such inter-tangent balls define the unit volume tetrahedron."
   ]
  },
  {
   "cell_type": "markdown",
   "id": "d204e180-5bad-4bed-b692-5e6496a2b492",
   "metadata": {},
   "source": [
    "### Basic UI Concepts\n",
    "\n",
    "<a data-flickr-embed=\"true\" href=\"https://www.flickr.com/photos/kirbyurner/54504074003/in/dateposted/\" title=\"QuadCraft Dashboard Concepts\"><img src=\"https://live.staticflickr.com/65535/54504074003_31a72d23dd_z.jpg\" width=\"640\" height=\"501\" alt=\"QuadCraft Dashboard Concepts\"/></a><script async src=\"//embedr.flickr.com/assets/client-code.js\" charset=\"utf-8\"></script>"
   ]
  },
  {
   "cell_type": "markdown",
   "id": "70e6553c-a9b6-4ca9-a062-fa1cd5d72be0",
   "metadata": {},
   "source": [
    "We will keep track of the positions of the UFOs in both Quadray Coordinates (IVM coordinates) and in XYZ coordinates. \n",
    "\n",
    "Quadrays employ 4-tuples and in canonical lowest-terms form at least one of the 4 slots is zero, representing the quadray not bounding the quadrant in question (the quadrant a point is actually in).\n",
    "\n",
    "Only three of the four quadrays bounds each of the four quadrants of space, so it makes sense there's always at least one unused basis vector.  \n",
    "\n",
    "Defining a \"lowest terms\" also addresses the issue that every quadray forms an equivalence class, much as rational numbers do e.g. 1/2 = 2/4 = 3/6 ...  Likewise (a,b,c,d) + any (n,n,n,n) defines the same point. \n",
    "\n",
    "So to simplify to lowest terms: subtract the smallest (n,n,n,n) that makes at least one of the four digits a zero (i.e. unused), keeping the rest positive.\n",
    "\n",
    "<a data-flickr-embed=\"true\" href=\"https://www.flickr.com/photos/kirbyurner/54504412999/in/dateposted/\" title=\"Initializing a Quadray\"><img src=\"https://live.staticflickr.com/65535/54504412999_c20862dbf6_w.jpg\" width=\"400\" height=\"210\" alt=\"Initializing a Quadray\"/></a><script async src=\"//embedr.flickr.com/assets/client-code.js\" charset=\"utf-8\"></script>\n",
    "\n",
    "We have a reference version of \"Qvectors\" (Quadrays) [available in Python](https://github.com/4dsolutions/School_of_Tomorrow/blob/master/qrays.py)."
   ]
  },
  {
   "cell_type": "markdown",
   "id": "35a9261d-8df4-4a0e-b28c-a94858395a20",
   "metadata": {},
   "source": [
    "The canvas below, alluded to above in the \"IVM\" area, shows the 3d contrails of four avatars random walking in the CCP. \n",
    "\n",
    "Every move is to a neighboring ball in the CCP lattice (cubic closest packing). \n",
    "\n",
    "At every turn to play, the four UFOs define six interdistances that in turn define a tetrahedron, the volume of which we will compute, and display."
   ]
  },
  {
   "cell_type": "markdown",
   "id": "8311ba2b-8cfe-4e35-8ef3-4cde9cb1bb41",
   "metadata": {},
   "source": [
    "### QWERTY Tests\n",
    "\n",
    "How to implement turtle or cursor control in the IVM of 12 directions (CCP: 12 balls around any nuclear 1)? On a US-ASCII keyboard, one straight forward is to map QWERTY (the top left row) and ASDFGH (next row down) to six \"positive\" and six \"negative\" directions, in other words six pairs. Q = -A, W = -S and so on.\n",
    "\n",
    "The cells below are about auditing one of the many Github-saved experiments. This one had a \"selq\" readout showing the Quadray coodinates of any given grid point. From such a random point, one may test that the 12 surrounding are reachable. \n",
    "\n",
    "If you're not planning on using a US-ASCII keyboard, you may want to skip ahead to the **Twelve Degrees of Freedom in the CCP** section. \n",
    "\n",
    "The code cells below are of more concern to a game developer, once the controller keys (however set up) have become intuitive. Advice: write a simple demo consisting of only 13 CCP balls and use the keyboard to move your \"sea turtle\" among them."
   ]
  },
  {
   "cell_type": "code",
   "execution_count": 2,
   "id": "3fb3e094-a50e-47eb-abc1-d5d417882f08",
   "metadata": {},
   "outputs": [
    {
     "data": {
      "text/plain": [
       "{ivm_vector(a=0, b=1, c=1, d=2),\n",
       " ivm_vector(a=0, b=1, c=2, d=1),\n",
       " ivm_vector(a=0, b=2, c=1, d=1),\n",
       " ivm_vector(a=1, b=0, c=1, d=2),\n",
       " ivm_vector(a=1, b=0, c=2, d=1),\n",
       " ivm_vector(a=1, b=1, c=0, d=2),\n",
       " ivm_vector(a=1, b=1, c=2, d=0),\n",
       " ivm_vector(a=1, b=2, c=0, d=1),\n",
       " ivm_vector(a=1, b=2, c=1, d=0),\n",
       " ivm_vector(a=2, b=0, c=1, d=1),\n",
       " ivm_vector(a=2, b=1, c=0, d=1),\n",
       " ivm_vector(a=2, b=1, c=1, d=0)}"
      ]
     },
     "execution_count": 2,
     "metadata": {},
     "output_type": "execute_result"
    }
   ],
   "source": [
    "g = permutations((2,1,1,0))\n",
    "UNIQUE = {p for p in g}  # set comprehension\n",
    "\n",
    "IVM_DIRS = {Qvector(x) for x in UNIQUE}\n",
    "IVM_DIRS"
   ]
  },
  {
   "cell_type": "code",
   "execution_count": 3,
   "id": "ce2ecd4d-1c78-4970-8adf-ab1f95519b56",
   "metadata": {},
   "outputs": [
    {
     "name": "stdout",
     "output_type": "stream",
     "text": [
      "xyz_vector(x=sqrt(2)/2, y=0, z=-sqrt(2)/2)\n",
      "xyz_vector(x=0, y=sqrt(2)/2, z=sqrt(2)/2)\n",
      "xyz_vector(x=-sqrt(2)/2, y=sqrt(2)/2, z=0)\n",
      "xyz_vector(x=-sqrt(2)/2, y=0, z=-sqrt(2)/2)\n",
      "xyz_vector(x=0, y=sqrt(2)/2, z=-sqrt(2)/2)\n",
      "xyz_vector(x=0, y=-sqrt(2)/2, z=sqrt(2)/2)\n",
      "xyz_vector(x=sqrt(2)/2, y=0, z=sqrt(2)/2)\n",
      "xyz_vector(x=sqrt(2)/2, y=sqrt(2)/2, z=0)\n",
      "xyz_vector(x=sqrt(2)/2, y=-sqrt(2)/2, z=0)\n",
      "xyz_vector(x=-sqrt(2)/2, y=0, z=sqrt(2)/2)\n",
      "xyz_vector(x=-sqrt(2)/2, y=-sqrt(2)/2, z=0)\n",
      "xyz_vector(x=0, y=-sqrt(2)/2, z=-sqrt(2)/2)\n"
     ]
    }
   ],
   "source": [
    "for v in IVM_DIRS:\n",
    "    print(v.xyz)"
   ]
  },
  {
   "cell_type": "code",
   "execution_count": 4,
   "id": "0c996974-0245-4813-9b51-84058b4d0224",
   "metadata": {},
   "outputs": [],
   "source": [
    "ORIGIN = Qvector((0,0,3,1))\n",
    "q = Qvector((1,0,5,2))\n",
    "w = Qvector((0,1,4,3))\n",
    "e = Qvector((1,0,4,3))\n",
    "r = Qvector((0,1,5,2))\n",
    "t = Qvector((1,0,3,0))\n",
    "y = Qvector((0,1,2,1))\n",
    "\n",
    "a = Qvector((0,1,2,1))\n",
    "s = Qvector((1,0,3,0))\n",
    "d = Qvector((0,1,3,0))\n",
    "f = Qvector((1,0,2,1))\n",
    "g = Qvector((0,1,4,3))\n",
    "h = Qvector((1,0,5,2))\n",
    "\n",
    "selq = set((q,w,e,r,t,y,a,s,d,f,g,h))\n",
    "seldict = {label:v for label, v in zip(\"QWERTYASDFGH\", (q,w,e,r,t,y,a,s,d,f,g,h))}"
   ]
  },
  {
   "cell_type": "code",
   "execution_count": 5,
   "id": "db9b4fe3-065a-4fc0-840c-063dfcf728d2",
   "metadata": {},
   "outputs": [
    {
     "name": "stdout",
     "output_type": "stream",
     "text": [
      "ivm_vector(a=1, b=0, c=5, d=2)\n",
      "ivm_vector(a=0, b=1, c=4, d=3)\n",
      "ivm_vector(a=1, b=0, c=4, d=3)\n",
      "ivm_vector(a=0, b=1, c=5, d=2)\n",
      "ivm_vector(a=1, b=0, c=3, d=0)\n",
      "ivm_vector(a=0, b=1, c=2, d=1)\n"
     ]
    }
   ],
   "source": [
    "for v, negv in zip((q,w,e,r,t,y), (a,s,d,f,g,h)):\n",
    "    if -v != negv:\n",
    "        print(v)\n"
   ]
  },
  {
   "cell_type": "code",
   "execution_count": 6,
   "id": "2d4339b1-41dd-4607-919d-9ff2c9164edc",
   "metadata": {},
   "outputs": [
    {
     "data": {
      "text/plain": [
       "ivm_vector(a=1, b=0, c=5, d=2)"
      ]
     },
     "execution_count": 6,
     "metadata": {},
     "output_type": "execute_result"
    }
   ],
   "source": [
    "q"
   ]
  },
  {
   "cell_type": "code",
   "execution_count": 7,
   "id": "1c0e5776-a475-4c7a-8ada-ce983244bff7",
   "metadata": {},
   "outputs": [
    {
     "data": {
      "text/plain": [
       "ivm_vector(a=0, b=0, c=6, d=2)"
      ]
     },
     "execution_count": 7,
     "metadata": {},
     "output_type": "execute_result"
    }
   ],
   "source": [
    "q + a"
   ]
  },
  {
   "cell_type": "code",
   "execution_count": 8,
   "id": "6c387d29-d92b-4b92-9bb0-564e158e7400",
   "metadata": {},
   "outputs": [
    {
     "data": {
      "text/plain": [
       "{'Q': ivm_vector(a=1, b=0, c=5, d=2),\n",
       " 'W': ivm_vector(a=0, b=1, c=4, d=3),\n",
       " 'E': ivm_vector(a=1, b=0, c=4, d=3),\n",
       " 'R': ivm_vector(a=0, b=1, c=5, d=2),\n",
       " 'T': ivm_vector(a=1, b=0, c=3, d=0),\n",
       " 'Y': ivm_vector(a=0, b=1, c=2, d=1),\n",
       " 'A': ivm_vector(a=0, b=1, c=2, d=1),\n",
       " 'S': ivm_vector(a=1, b=0, c=3, d=0),\n",
       " 'D': ivm_vector(a=0, b=1, c=3, d=0),\n",
       " 'F': ivm_vector(a=1, b=0, c=2, d=1),\n",
       " 'G': ivm_vector(a=0, b=1, c=4, d=3),\n",
       " 'H': ivm_vector(a=1, b=0, c=5, d=2)}"
      ]
     },
     "execution_count": 8,
     "metadata": {},
     "output_type": "execute_result"
    }
   ],
   "source": [
    "seldict"
   ]
  },
  {
   "cell_type": "code",
   "execution_count": 9,
   "id": "19b34c89-e3ac-4414-bf5e-ebb26ffd66c7",
   "metadata": {},
   "outputs": [
    {
     "data": {
      "text/plain": [
       "{'Q': ivm_vector(a=1, b=0, c=2, d=1),\n",
       " 'W': ivm_vector(a=0, b=1, c=1, d=2),\n",
       " 'E': ivm_vector(a=1, b=0, c=1, d=2),\n",
       " 'R': ivm_vector(a=0, b=1, c=2, d=1),\n",
       " 'T': ivm_vector(a=2, b=1, c=1, d=0),\n",
       " 'Y': ivm_vector(a=1, b=2, c=0, d=1),\n",
       " 'A': ivm_vector(a=1, b=2, c=0, d=1),\n",
       " 'S': ivm_vector(a=2, b=1, c=1, d=0),\n",
       " 'D': ivm_vector(a=1, b=2, c=1, d=0),\n",
       " 'F': ivm_vector(a=2, b=1, c=0, d=1),\n",
       " 'G': ivm_vector(a=0, b=1, c=1, d=2),\n",
       " 'H': ivm_vector(a=1, b=0, c=2, d=1)}"
      ]
     },
     "execution_count": 9,
     "metadata": {},
     "output_type": "execute_result"
    }
   ],
   "source": [
    "hops = {}\n",
    "for label, v in zip(\"QWERTYASDFGH\", (q,w,e,r,t,y,a,s,d,f,g,h)):\n",
    "    hops[label] = (v - ORIGIN)\n",
    "\n",
    "hops"
   ]
  },
  {
   "cell_type": "code",
   "execution_count": 10,
   "id": "3ff43a52-ebde-4ffe-b24f-d0ac4f29464a",
   "metadata": {},
   "outputs": [
    {
     "data": {
      "text/plain": [
       "ivm_vector(a=0, b=0, c=0, d=0)"
      ]
     },
     "execution_count": 10,
     "metadata": {},
     "output_type": "execute_result"
    }
   ],
   "source": [
    "(ORIGIN - a) + (ORIGIN - q)"
   ]
  },
  {
   "cell_type": "code",
   "execution_count": 11,
   "id": "15e63b02-4acd-4643-a181-f5fb191cb2b1",
   "metadata": {},
   "outputs": [
    {
     "data": {
      "text/plain": [
       "ivm_vector(a=0, b=0, c=0, d=0)"
      ]
     },
     "execution_count": 11,
     "metadata": {},
     "output_type": "execute_result"
    }
   ],
   "source": [
    "(ORIGIN - s) + (ORIGIN - w)"
   ]
  },
  {
   "cell_type": "code",
   "execution_count": 12,
   "id": "3ec22a6a-ffea-4899-828e-72b2543458e2",
   "metadata": {},
   "outputs": [
    {
     "data": {
      "text/plain": [
       "ivm_vector(a=0, b=0, c=0, d=0)"
      ]
     },
     "execution_count": 12,
     "metadata": {},
     "output_type": "execute_result"
    }
   ],
   "source": [
    "(ORIGIN - e) + (ORIGIN - d)"
   ]
  },
  {
   "cell_type": "code",
   "execution_count": 13,
   "id": "f49425a4-1996-47b4-b2e1-f92c29e38c2f",
   "metadata": {},
   "outputs": [
    {
     "data": {
      "text/plain": [
       "ivm_vector(a=0, b=0, c=0, d=0)"
      ]
     },
     "execution_count": 13,
     "metadata": {},
     "output_type": "execute_result"
    }
   ],
   "source": [
    "(ORIGIN - r) + (ORIGIN - f)"
   ]
  },
  {
   "cell_type": "code",
   "execution_count": 14,
   "id": "82e93f55-ed5c-4c93-baa1-6927c9b33a6f",
   "metadata": {},
   "outputs": [
    {
     "data": {
      "text/plain": [
       "ivm_vector(a=0, b=0, c=0, d=0)"
      ]
     },
     "execution_count": 14,
     "metadata": {},
     "output_type": "execute_result"
    }
   ],
   "source": [
    "(ORIGIN - t) + (ORIGIN - g)"
   ]
  },
  {
   "cell_type": "code",
   "execution_count": 15,
   "id": "d684e52a-2b50-4c31-bc87-e654a0799354",
   "metadata": {},
   "outputs": [
    {
     "data": {
      "text/plain": [
       "ivm_vector(a=0, b=0, c=0, d=0)"
      ]
     },
     "execution_count": 15,
     "metadata": {},
     "output_type": "execute_result"
    }
   ],
   "source": [
    "(ORIGIN - y) + (ORIGIN - h)"
   ]
  },
  {
   "cell_type": "code",
   "execution_count": 16,
   "id": "d1163e7d-b9ea-448c-805d-be2e0c690c66",
   "metadata": {},
   "outputs": [
    {
     "data": {
      "text/plain": [
       "ivm_vector(a=0, b=0, c=0, d=0)"
      ]
     },
     "execution_count": 16,
     "metadata": {},
     "output_type": "execute_result"
    }
   ],
   "source": [
    "(ORIGIN - a) + (ORIGIN - q)"
   ]
  },
  {
   "cell_type": "code",
   "execution_count": 17,
   "id": "c6dd4087-973b-4c1a-bdf9-2bcbfd9bf2b0",
   "metadata": {},
   "outputs": [
    {
     "data": {
      "text/plain": [
       "[ivm_vector(a=0, b=1, c=1, d=2),\n",
       " ivm_vector(a=0, b=1, c=1, d=2),\n",
       " ivm_vector(a=0, b=1, c=2, d=1),\n",
       " ivm_vector(a=1, b=0, c=1, d=2),\n",
       " ivm_vector(a=1, b=0, c=2, d=1),\n",
       " ivm_vector(a=1, b=0, c=2, d=1),\n",
       " ivm_vector(a=1, b=2, c=0, d=1),\n",
       " ivm_vector(a=1, b=2, c=0, d=1),\n",
       " ivm_vector(a=1, b=2, c=1, d=0),\n",
       " ivm_vector(a=2, b=1, c=0, d=1),\n",
       " ivm_vector(a=2, b=1, c=1, d=0),\n",
       " ivm_vector(a=2, b=1, c=1, d=0)]"
      ]
     },
     "execution_count": 17,
     "metadata": {},
     "output_type": "execute_result"
    }
   ],
   "source": [
    "sorted(hops.values())"
   ]
  },
  {
   "cell_type": "code",
   "execution_count": 18,
   "id": "9bd2b949-8519-48f4-ad27-1a54bdfd4b30",
   "metadata": {},
   "outputs": [
    {
     "data": {
      "text/plain": [
       "8"
      ]
     },
     "execution_count": 18,
     "metadata": {},
     "output_type": "execute_result"
    }
   ],
   "source": [
    "len(set(hops.values()))"
   ]
  },
  {
   "cell_type": "code",
   "execution_count": 19,
   "id": "4c73a1df-ed22-4c2e-80e6-a183d14efc8f",
   "metadata": {},
   "outputs": [
    {
     "data": {
      "text/plain": [
       "ivm_vector(a=1, b=0, c=3, d=0)"
      ]
     },
     "execution_count": 19,
     "metadata": {},
     "output_type": "execute_result"
    }
   ],
   "source": [
    "t"
   ]
  },
  {
   "cell_type": "code",
   "execution_count": 20,
   "id": "02a50db1-9927-415a-9024-db743775a3fe",
   "metadata": {},
   "outputs": [
    {
     "data": {
      "text/plain": [
       "ivm_vector(a=2, b=3, c=0, d=3)"
      ]
     },
     "execution_count": 20,
     "metadata": {},
     "output_type": "execute_result"
    }
   ],
   "source": [
    "-t"
   ]
  },
  {
   "cell_type": "code",
   "execution_count": 21,
   "id": "e202e640-4d8e-4bc5-9b7e-7dd4181e1fc0",
   "metadata": {},
   "outputs": [
    {
     "data": {
      "text/plain": [
       "False"
      ]
     },
     "execution_count": 21,
     "metadata": {},
     "output_type": "execute_result"
    }
   ],
   "source": [
    "-t in selq"
   ]
  },
  {
   "cell_type": "code",
   "execution_count": 22,
   "id": "201f65e3-9a04-4115-a521-c3120a1e91ac",
   "metadata": {},
   "outputs": [
    {
     "data": {
      "text/plain": [
       "False"
      ]
     },
     "execution_count": 22,
     "metadata": {},
     "output_type": "execute_result"
    }
   ],
   "source": [
    "-g in selq"
   ]
  },
  {
   "cell_type": "code",
   "execution_count": 23,
   "id": "503235bf-ea85-4d51-af60-278f079e037d",
   "metadata": {},
   "outputs": [
    {
     "data": {
      "text/plain": [
       "False"
      ]
     },
     "execution_count": 23,
     "metadata": {},
     "output_type": "execute_result"
    }
   ],
   "source": [
    "-w in selq"
   ]
  },
  {
   "cell_type": "code",
   "execution_count": 24,
   "id": "194176a3-068d-4464-af15-63a31b509bea",
   "metadata": {},
   "outputs": [
    {
     "data": {
      "text/plain": [
       "True"
      ]
     },
     "execution_count": 24,
     "metadata": {},
     "output_type": "execute_result"
    }
   ],
   "source": [
    "w in selq"
   ]
  },
  {
   "cell_type": "code",
   "execution_count": 25,
   "id": "cf5630a1-5431-4a40-b289-1dd2fc77a85d",
   "metadata": {},
   "outputs": [
    {
     "name": "stdout",
     "output_type": "stream",
     "text": [
      "ivm_vector(a=2, b=3, c=0, d=3)\n",
      "ivm_vector(a=4, b=5, c=0, d=3)\n",
      "ivm_vector(a=3, b=4, c=0, d=1)\n",
      "ivm_vector(a=2, b=1, c=0, d=1)\n",
      "ivm_vector(a=3, b=2, c=0, d=3)\n",
      "ivm_vector(a=1, b=2, c=0, d=1)\n",
      "ivm_vector(a=4, b=3, c=0, d=1)\n",
      "ivm_vector(a=5, b=4, c=0, d=3)\n"
     ]
    }
   ],
   "source": [
    "for v in selq:\n",
    "    if -v not in selq:\n",
    "        print(-v)"
   ]
  },
  {
   "cell_type": "code",
   "execution_count": 26,
   "id": "af23c30c-2958-44fc-b3e7-9bf22d818c76",
   "metadata": {},
   "outputs": [
    {
     "data": {
      "text/plain": [
       "{ivm_vector(a=0, b=1, c=1, d=2),\n",
       " ivm_vector(a=0, b=1, c=2, d=1),\n",
       " ivm_vector(a=1, b=0, c=1, d=2),\n",
       " ivm_vector(a=1, b=0, c=2, d=1),\n",
       " ivm_vector(a=1, b=2, c=0, d=1),\n",
       " ivm_vector(a=1, b=2, c=1, d=0),\n",
       " ivm_vector(a=2, b=1, c=0, d=1),\n",
       " ivm_vector(a=2, b=1, c=1, d=0)}"
      ]
     },
     "execution_count": 26,
     "metadata": {},
     "output_type": "execute_result"
    }
   ],
   "source": [
    "IVM_DIRS.intersection(set(hops.values()))"
   ]
  },
  {
   "cell_type": "code",
   "execution_count": 27,
   "id": "4476e77b-5da1-4c76-beaf-188a654a22d9",
   "metadata": {},
   "outputs": [
    {
     "data": {
      "text/plain": [
       "{ivm_vector(a=0, b=2, c=1, d=1),\n",
       " ivm_vector(a=1, b=1, c=0, d=2),\n",
       " ivm_vector(a=1, b=1, c=2, d=0),\n",
       " ivm_vector(a=2, b=0, c=1, d=1)}"
      ]
     },
     "execution_count": 27,
     "metadata": {},
     "output_type": "execute_result"
    }
   ],
   "source": [
    "IVM_DIRS.difference(set(hops.values()))"
   ]
  },
  {
   "cell_type": "code",
   "execution_count": 28,
   "id": "1eba98d3-a2a3-4144-914c-9a6ebd8a9561",
   "metadata": {},
   "outputs": [],
   "source": [
    "v0,v1,v2,v3 = list(IVM_DIRS.difference(set(hops.values())))"
   ]
  },
  {
   "cell_type": "code",
   "execution_count": 29,
   "id": "ba8afd92-1f03-4af4-a04b-aed563aa6918",
   "metadata": {},
   "outputs": [
    {
     "data": {
      "text/plain": [
       "ivm_vector(a=2, b=0, c=1, d=1)"
      ]
     },
     "execution_count": 29,
     "metadata": {},
     "output_type": "execute_result"
    }
   ],
   "source": [
    "v0"
   ]
  },
  {
   "cell_type": "code",
   "execution_count": 30,
   "id": "b9ba2462-b081-44af-806a-2c2b615a714a",
   "metadata": {},
   "outputs": [
    {
     "data": {
      "text/plain": [
       "ivm_vector(a=0, b=2, c=1, d=1)"
      ]
     },
     "execution_count": 30,
     "metadata": {},
     "output_type": "execute_result"
    }
   ],
   "source": [
    "-v0"
   ]
  },
  {
   "cell_type": "code",
   "execution_count": 31,
   "id": "cf384003-eb03-4f1f-92a4-e3be56282987",
   "metadata": {},
   "outputs": [
    {
     "data": {
      "text/plain": [
       "False"
      ]
     },
     "execution_count": 31,
     "metadata": {},
     "output_type": "execute_result"
    }
   ],
   "source": [
    "-v0 in hops"
   ]
  },
  {
   "cell_type": "code",
   "execution_count": 32,
   "id": "90fda5b0-164c-4bbc-bc30-a905244410e7",
   "metadata": {},
   "outputs": [
    {
     "data": {
      "text/plain": [
       "ivm_vector(a=1, b=1, c=2, d=0)"
      ]
     },
     "execution_count": 32,
     "metadata": {},
     "output_type": "execute_result"
    }
   ],
   "source": [
    "-v1"
   ]
  },
  {
   "cell_type": "code",
   "execution_count": 33,
   "id": "18f7cc06-bc1e-47a8-8fb3-873324e40ddc",
   "metadata": {},
   "outputs": [
    {
     "data": {
      "text/plain": [
       "[ivm_vector(a=0, b=0, c=2, d=2),\n",
       " ivm_vector(a=0, b=0, c=4, d=0),\n",
       " ivm_vector(a=0, b=1, c=2, d=1),\n",
       " ivm_vector(a=0, b=1, c=3, d=0),\n",
       " ivm_vector(a=0, b=1, c=4, d=3),\n",
       " ivm_vector(a=0, b=1, c=5, d=2),\n",
       " ivm_vector(a=0, b=2, c=4, d=2),\n",
       " ivm_vector(a=1, b=0, c=2, d=1),\n",
       " ivm_vector(a=1, b=0, c=3, d=0),\n",
       " ivm_vector(a=1, b=0, c=4, d=3),\n",
       " ivm_vector(a=1, b=0, c=5, d=2),\n",
       " ivm_vector(a=2, b=0, c=4, d=2)]"
      ]
     },
     "execution_count": 33,
     "metadata": {},
     "output_type": "execute_result"
    }
   ],
   "source": [
    "neighbors = [ORIGIN + v for v in IVM_DIRS]\n",
    "sorted(neighbors)"
   ]
  },
  {
   "cell_type": "code",
   "execution_count": 34,
   "id": "23eeba5e-fba6-4f1e-ad9e-103c20213869",
   "metadata": {},
   "outputs": [
    {
     "data": {
      "text/plain": [
       "{ivm_vector(a=0, b=0, c=2, d=2),\n",
       " ivm_vector(a=0, b=0, c=4, d=0),\n",
       " ivm_vector(a=0, b=2, c=4, d=2),\n",
       " ivm_vector(a=2, b=0, c=4, d=2)}"
      ]
     },
     "execution_count": 34,
     "metadata": {},
     "output_type": "execute_result"
    }
   ],
   "source": [
    "set(neighbors).difference(set((q,w,e,r,t,y,a,s,d,f,g,h)))"
   ]
  },
  {
   "cell_type": "code",
   "execution_count": 35,
   "id": "0e2c863d-f944-49cf-9144-ec65cf8c3f20",
   "metadata": {},
   "outputs": [
    {
     "data": {
      "text/plain": [
       "{ivm_vector(a=0, b=0, c=2, d=2),\n",
       " ivm_vector(a=0, b=0, c=4, d=0),\n",
       " ivm_vector(a=0, b=2, c=4, d=2),\n",
       " ivm_vector(a=2, b=0, c=4, d=2)}"
      ]
     },
     "execution_count": 35,
     "metadata": {},
     "output_type": "execute_result"
    }
   ],
   "source": [
    "set(neighbors).difference(set(seldict.values()))"
   ]
  },
  {
   "cell_type": "code",
   "execution_count": 36,
   "id": "47ebc38a-4f39-44f9-aa9e-3ceab75578a8",
   "metadata": {},
   "outputs": [
    {
     "data": {
      "text/plain": [
       "set()"
      ]
     },
     "execution_count": 36,
     "metadata": {},
     "output_type": "execute_result"
    }
   ],
   "source": [
    "set(seldict.values()).difference(set(neighbors))"
   ]
  },
  {
   "cell_type": "code",
   "execution_count": 37,
   "id": "a7e766a6-6e67-45a2-ace2-fb3550c6bbb2",
   "metadata": {},
   "outputs": [],
   "source": [
    "v0,v1,v2,v3 = list(set(neighbors).difference(set(seldict.values())))"
   ]
  },
  {
   "cell_type": "code",
   "execution_count": 38,
   "id": "5b30c3f8-4898-4a51-b7a2-7af6cbaede1e",
   "metadata": {},
   "outputs": [
    {
     "data": {
      "text/plain": [
       "False"
      ]
     },
     "execution_count": 38,
     "metadata": {},
     "output_type": "execute_result"
    }
   ],
   "source": [
    "v0 in selq"
   ]
  },
  {
   "cell_type": "code",
   "execution_count": 39,
   "id": "e721a111-fce3-4a83-8f21-8c8d6e54bd54",
   "metadata": {},
   "outputs": [
    {
     "data": {
      "text/plain": [
       "False"
      ]
     },
     "execution_count": 39,
     "metadata": {},
     "output_type": "execute_result"
    }
   ],
   "source": [
    "-v0 in selq"
   ]
  },
  {
   "cell_type": "code",
   "execution_count": 40,
   "id": "53235976-d4ba-46dc-9ea9-d390d485750d",
   "metadata": {},
   "outputs": [
    {
     "data": {
      "text/plain": [
       "False"
      ]
     },
     "execution_count": 40,
     "metadata": {},
     "output_type": "execute_result"
    }
   ],
   "source": [
    "v1 in selq"
   ]
  },
  {
   "cell_type": "code",
   "execution_count": 41,
   "id": "6b35960c-9697-4583-9373-989c4289bbbd",
   "metadata": {},
   "outputs": [
    {
     "data": {
      "text/plain": [
       "False"
      ]
     },
     "execution_count": 41,
     "metadata": {},
     "output_type": "execute_result"
    }
   ],
   "source": [
    "-v1 in selq"
   ]
  },
  {
   "cell_type": "code",
   "execution_count": 42,
   "id": "a9fc79da-567d-4ead-8187-ecbfe7363b8a",
   "metadata": {},
   "outputs": [
    {
     "data": {
      "text/plain": [
       "{ivm_vector(a=0, b=1, c=2, d=1),\n",
       " ivm_vector(a=0, b=1, c=3, d=0),\n",
       " ivm_vector(a=0, b=1, c=4, d=3),\n",
       " ivm_vector(a=0, b=1, c=5, d=2),\n",
       " ivm_vector(a=1, b=0, c=2, d=1),\n",
       " ivm_vector(a=1, b=0, c=3, d=0),\n",
       " ivm_vector(a=1, b=0, c=4, d=3),\n",
       " ivm_vector(a=1, b=0, c=5, d=2)}"
      ]
     },
     "execution_count": 42,
     "metadata": {},
     "output_type": "execute_result"
    }
   ],
   "source": [
    "set(neighbors).intersection(selq)"
   ]
  },
  {
   "cell_type": "markdown",
   "id": "b05843c5-0368-4623-ab76-9d3056595023",
   "metadata": {},
   "source": [
    "<a data-flickr-embed=\"true\" href=\"https://www.flickr.com/photos/kirbyurner/54502948587/in/dateposted/\" title=\"Four UFOs Leaving RD Contrails\"><img src=\"https://live.staticflickr.com/65535/54502948587_0cd17f91ee_z.jpg\" width=\"607\" height=\"503\" alt=\"Four UFOs Leaving RD Contrails\"/></a><script async src=\"//embedr.flickr.com/assets/client-code.js\" charset=\"utf-8\"></script>"
   ]
  },
  {
   "cell_type": "markdown",
   "id": "28c4f78b-465a-427f-8078-732d61328045",
   "metadata": {},
   "source": [
    "### Twelve Degrees of Freedom in the CCP\n",
    "This display instrument below shows how 12 linear combinations of quadrays {2, 1, 1, 0} correspond to the corners of a cuboctahedron, meaning a neighboring tangent sphere relative to the central sphere. \n",
    "\n",
    "Given Basis Quadrays:\n",
    "\n",
    "* A ← (1, 0, 0, 0) \n",
    "* B ← (0, 1, 0, 0) \n",
    "* C ←(0, 0, 1, 0) \n",
    "* D ← (0, 0, 0, 1)\n",
    "\n",
    "multiply any one of them by 2, any two others by 1 (i.e. take as is), and don’t use the fourth one at all (multiply by 0), and add the results. Quadray vectors add the same way XYZ vectors do, tip-to-tail.\n",
    "\n",
    "The resultant vector will be from ORIGIN (0,0,0,0) to one of the 12 corners of the cuboctahedron, of radial and circumferential edges DIAMETER (the same length as the edges of the home base tetrahedron)."
   ]
  },
  {
   "cell_type": "markdown",
   "id": "52a0c9ef-0332-43ba-8a19-454d4fecfa10",
   "metadata": {},
   "source": [
    "![thrusters.gif](thrusters.gif)\n",
    "\n",
    "Source code for this GIF:  [test2 in quadcraft.py](https://github.com/4dsolutions/School_of_Tomorrow/blob/master/quadcraft.py#L64) (uses [Flextegrity Framework](https://github.com/4dsolutions/School_of_Tomorrow/blob/master/Flextegrity_Lattice.ipynb))"
   ]
  },
  {
   "cell_type": "markdown",
   "id": "87320466-6101-4f35-94c7-e29f2503f843",
   "metadata": {},
   "source": [
    "The animated GIF below shows how 12 unit diameter spheres define the 24 edges of the yellow cuboctahedron, as well as how rhombic dodecahedra encase each such ball in a space-filling lattace."
   ]
  },
  {
   "cell_type": "markdown",
   "id": "a6d433c7-de0e-43a3-b476-fd719eff2f18",
   "metadata": {},
   "source": [
    "![synergetica](https://grunch.net/synergetics/hierarchy/sphpackanim.gif)"
   ]
  },
  {
   "cell_type": "markdown",
   "id": "86d3ffc2-7a0e-4e86-a454-a6e14ae28331",
   "metadata": {},
   "source": [
    "For more context see:  [The Synergetics Hierarchy of Concentric Polyhedra](https://grunch.net/synergetics/volumes.html) @ [Synergetics on the Web](https://grunch.net/synergetics/) at grunch.net \n",
    "\n",
    "<a data-flickr-embed=\"true\" href=\"https://www.flickr.com/photos/kirbyurner/54596359626/in/dateposted/\" title=\"quadcraft_1\"><img src=\"https://live.staticflickr.com/65535/54596359626_843407c20e_c.jpg\" width=\"533\" height=\"800\" alt=\"quadcraft_1\"/></a><script async src=\"//embedr.flickr.com/assets/client-code.js\" charset=\"utf-8\"></script>"
   ]
  },
  {
   "cell_type": "markdown",
   "id": "c47e3b2c-726f-48bb-83c2-0d3c4367362a",
   "metadata": {},
   "source": [
    "### Turtle\n",
    "\n",
    "Sea Turtle, Drone, UAP, UAV... UFO... take your pick.  The idea comes from Logo language, of which 3D versions were developed.\n",
    "\n",
    "Do Turtle movements leave a trace?  Perhaps only when \"pen down\".  How do we control their movements?  \n",
    "\n",
    "Might they each have a \"random\" mode?\n",
    "\n",
    "### Movement \n",
    "\n",
    "The idea is one could mouse click on one of 12 buttons, or use the keyboard, if wanting to move a Turtle to a neigboring ball center.\n",
    "\n",
    "This world is all about a lattice of ball centers, and not just any lattice, but the CCP in particular\n",
    "\n",
    "<a data-flickr-embed=\"true\" href=\"https://www.flickr.com/photos/kirbyurner/54504191001/in/dateposted/\" title=\"4D Studios:  Claymation Station\"><img src=\"https://live.staticflickr.com/65535/54504191001_cf40eb5002_n.jpg\" width=\"320\" height=\"319\" alt=\"4D Studios:  Claymation Station\"/></a><script async src=\"//embedr.flickr.com/assets/client-code.js\" charset=\"utf-8\"></script>\n",
    "\n",
    "What happens when we reach an edge? The IVM ocean is not of infinite size. What does the outer perimeter look like? A cube? A cuboctahedron? A sphere?\n",
    "\n",
    "This is a UI challenge left in the hands of DEMO developers. In the default implementation, some of the \"next\" buttons will gray out when a boundary is reached. Not all twelve surrounding the current position will be available.\n",
    "\n",
    "The computer will have known ahead of time these spatial positions were beyond the outer limits. Would that be because of an exceeded radius (distance from the center), or because of some other criteria? A simple rule might take the form: \"no single coordinate shall be above the number N\". Or perhaps the ball (a, b, c, d) in question is simply not in the database, as determined by a lookup operation that comes back empty handed.\n",
    "\n",
    "Note that in principle quadrays are free to vary smoothly, as floating points. Whether a given DEMO permits that is again up to the developer. To sync with the slides, the recommendation is to go with a CCP ball diameter of unity or unity-2, with a corresponding radius of 1/2 or 1:  D=1, R=1/2; D=2, R=1. The Python implementation allows toggling between these two regimes, but without changing the answers in terms of tetravolumes i.e. the home base quadray tetrahedron has volume one, whether the edges are valued at one or two. The home base quadray tetrahedron is defined by four such CCP balls in intertangency, their four centers and six center-interconnecting edges \n",
    "\n",
    "The integral \"click stops\" at ball centers is not meant to foreclose all other possibilities. Continous and/or very high frequency resolution implies Quadrays used to describe curvacious paths, not just discrete point lattices. How fine / precise the movements might be has to do with the granularity of the ball packing.\n",
    "\n",
    "### Location\n",
    "\n",
    "\"Where am I now?\"  The selected UAP displays its current location, according to two different coordinate systems:  IVM and XYZ. \n",
    "\n",
    "In this namespace, \"IVM coordinates\" are an alias for the Quadray Coordinates, which in turn maybe others call by other names. The use of three capital letters for each of XYZ and IVM is partly what makes \"IVM\" attractive: the easy mnemonic relationship twixt those language games we wish to contrast. Spelled out, \"IVM\" stands for \"isotropic vector matrix\" and was deployed by Buckminster Fuller in the namespace of Synergetics, where he made a lot of design decisions around language, *Synergetics* being his sandbox or playpen or magnum opus.\n",
    "\n",
    "Note that none of these words (\"isotropic\" \"vector\" or \"matrix\") are neologisms. They're all good dictionary words that long predate Bucky. His attitude, expressed in The Remoteness of the Synergetics Vocabulary ([250.31](http://rwgrayprojects.com/synergetics/s02/p5000.html)), was he had as much right to raid (i.e. borrow from) the dictionary as anyone, and in so doing he thereby \"revectored\" a lot of words, bending them along new trajectories, including science words. The sciences do this too: apply \"spin\" to \"psy-ons\" per [Cultagory Theory](https://docs.google.com/presentation/d/1zvEA5wf5ToyCK27IHGDQ-E47a0Try7DZE0_79dB0lA8/edit?usp=sharing).\n",
    "\n",
    "Per the namespace of Harold Bloom in *A Map of Misreading*, Fuller was a master of \"misprision\".\n",
    "\n",
    "<blockquote>\n",
    "In <i>A Map of Misreading</i> Bloom continued his habit of creating his own linguistic terms to explain his concept of passing on the poetic tradition. His tropes became “anxiety” and “misreading” and, in his second book of the series, many of his terms came from the Kabbala.  He explained “misprision” –- a deliberate misunderstanding -– as a “swerve” away from the predecessor by the new poet who completes the parent poem by retaining its terms and its fragments but means these terms in another sense.  \n",
    "   \n",
    "[source](https://arthistoryunstuffed.com/harold-bloom-a-map-of-misreading/)\n",
    "\n",
    "</blockquote>\n",
    "\n",
    "The Quadray apparatus is calibrated to be CCP-friendly at the expense of XYZ. one could say, in light of the fact that CCP ball centers have non-negative integer quadray coordinates, whereas the corresponding addresses in the XYZ system involve irrational or, in more practical terms, float point numbers. Some might call this \"stacking the deck\" or \"putting one's thumb on the scales\" i.e. trying to sell skeptics on the virtues of Quadrays by artificially making them seem more natural and/or convenient.\n",
    "\n",
    "<a data-flickr-embed=\"true\" href=\"https://www.flickr.com/photos/kirbyurner/54511737489/in/dateposted/\" title=\"CCP in IVM and XYZ Coordinates\"><img src=\"https://live.staticflickr.com/65535/54511737489_0a1962d6cb_z.jpg\" width=\"524\" height=\"640\" alt=\"CCP in IVM and XYZ Coordinates\"/></a><script async src=\"//embedr.flickr.com/assets/client-code.js\" charset=\"utf-8\"></script>\n",
    "\n",
    "Rather than cast oneself as a skeptic being arm-twisted, why not simply adopt the mindset of an engineer looking for useful tools and finding Quadrays to provide a productive working environment for some tasks? This DEMO is indeed about showing off the advantages of Quadrays for some applications. What's the point of cynicism here? \n",
    "\n",
    "### Distance and Volume\n",
    "\n",
    "\"How far am I from my neighbors?\"  In the default implementation, we have just the four UAPs, each always occupying a CCP ball center. The six resulting inter-distances define the edges of a tetrahedron.  What is its volume?  In XYZ.  In the IVM?\n",
    "\n",
    "You might think the volumes would be the same given the XYZ and IVM readouts point to the same vertices, but that's not the case. In IVM world, we have a different concept of volume, and an alternative volumes table.\n",
    "\n",
    "In Synergetics, when I raise a length L to the 3rd power, I'm making a tetrahedron out of it, edges L. Likewise, I'm able to model height times width times depth using an angle other that 90 degrees, without creating any ambiguity in the resulting shape, which need not be rectilinear.  In other words, ancient conventions (or call them rules) get broken, in service of an eclipsing aesthetic: that of the 60 degree angle instead.\n",
    "\n",
    "<a data-flickr-embed=\"true\" href=\"https://www.flickr.com/photos/kirbyurner/51804664503/in/photostream/\" title=\"Wikipedia Volumes Table\"><img src=\"https://live.staticflickr.com/65535/51804664503_63e3407cba_z.jpg\" width=\"640\" height=\"395\" alt=\"Wikipedia Volumes Table\"/></a><script async src=\"//embedr.flickr.com/assets/client-code.js\" charset=\"utf-8\"></script>\n",
    "<br />\n",
    "<a data-flickr-embed=\"true\" href=\"https://www.flickr.com/photos/kirbyurner/41211296445/in/album-72157624750749042\" title=\"2 x 2 x 5 &#x3D; 20\"><img src=\"https://live.staticflickr.com/968/41211296445_aaf456a919.jpg\" width=\"500\" height=\"312\" alt=\"2 x 2 x 5 &#x3D; 20\"/></a><script async src=\"//embedr.flickr.com/assets/client-code.js\" charset=\"utf-8\"></script><br />\n",
    "2 x 2 x 5 = 20\n",
    "<br />\n",
    "<a data-flickr-embed=\"true\" href=\"https://www.flickr.com/photos/kirbyurner/54367545139/in/album-72157624750749042\" title=\"claymation_station\"><img src=\"https://live.staticflickr.com/65535/54367545139_ce354f8675.jpg\" width=\"500\" height=\"375\" alt=\"claymation_station\"/></a><script async src=\"//embedr.flickr.com/assets/client-code.js\" charset=\"utf-8\"></script><br />\n",
    "Synergetics Constant"
   ]
  },
  {
   "cell_type": "markdown",
   "id": "faaec9f4-4d2d-4bac-8ba8-22a35e1ba622",
   "metadata": {},
   "source": [
    "### Twelve Degrees of Freedom (continued)"
   ]
  },
  {
   "cell_type": "code",
   "execution_count": 43,
   "id": "5bc0c095-e395-47e0-9bbc-8377f3485bc6",
   "metadata": {},
   "outputs": [
    {
     "data": {
      "text/latex": [
       "$\\displaystyle 1$"
      ],
      "text/plain": [
       "1"
      ]
     },
     "execution_count": 43,
     "metadata": {},
     "output_type": "execute_result"
    }
   ],
   "source": [
    "qrays.DIAM"
   ]
  },
  {
   "cell_type": "code",
   "execution_count": 44,
   "id": "48e9611d-f16c-40dc-a124-c70b23e9ed3a",
   "metadata": {},
   "outputs": [
    {
     "data": {
      "text/plain": [
       "(ivm_vector(a=1, b=0, c=0, d=0),\n",
       " ivm_vector(a=0, b=1, c=0, d=0),\n",
       " ivm_vector(a=0, b=0, c=1, d=0),\n",
       " ivm_vector(a=0, b=0, c=0, d=1))"
      ]
     },
     "execution_count": 44,
     "metadata": {},
     "output_type": "execute_result"
    }
   ],
   "source": [
    "BASIS = qrays.A, qrays.B, qrays.C, qrays.D\n",
    "BASIS"
   ]
  },
  {
   "cell_type": "code",
   "execution_count": 45,
   "id": "9d765c53-47a8-43ed-8a14-2932161ccff3",
   "metadata": {},
   "outputs": [
    {
     "data": {
      "text/plain": [
       "[sqrt(6)/4, sqrt(6)/4, sqrt(6)/4, sqrt(6)/4]"
      ]
     },
     "execution_count": 45,
     "metadata": {},
     "output_type": "execute_result"
    }
   ],
   "source": [
    "[v.length() for v in BASIS]"
   ]
  },
  {
   "cell_type": "code",
   "execution_count": 46,
   "id": "0eb859b3-5f91-4dab-ad78-b37047ed2683",
   "metadata": {},
   "outputs": [
    {
     "data": {
      "text/plain": [
       "(1, 1, 1, 1, 1, 1)"
      ]
     },
     "execution_count": 46,
     "metadata": {},
     "output_type": "execute_result"
    }
   ],
   "source": [
    "((qrays.A - qrays.B).length(),\n",
    " (qrays.A - qrays.C).length(),\n",
    " (qrays.A - qrays.D).length(),\n",
    " (qrays.B - qrays.C).length(),\n",
    " (qrays.C - qrays.D).length(),\n",
    " (qrays.D - qrays.B).length())"
   ]
  },
  {
   "cell_type": "code",
   "execution_count": 47,
   "id": "20b5b645-5539-4546-96c4-1c2c0499b02e",
   "metadata": {},
   "outputs": [],
   "source": [
    "g = permutations((2,1,1,0))\n",
    "UNIQUE = {p for p in g}  # set comprehension\n",
    "\n",
    "IVM_DIRS = {Qvector(x) for x in UNIQUE}"
   ]
  },
  {
   "cell_type": "code",
   "execution_count": 48,
   "id": "aed65304-8fe6-4214-b88c-4dec14001bfe",
   "metadata": {},
   "outputs": [
    {
     "data": {
      "text/plain": [
       "{(0, 1, 1, 2),\n",
       " (0, 1, 2, 1),\n",
       " (0, 2, 1, 1),\n",
       " (1, 0, 1, 2),\n",
       " (1, 0, 2, 1),\n",
       " (1, 1, 0, 2),\n",
       " (1, 1, 2, 0),\n",
       " (1, 2, 0, 1),\n",
       " (1, 2, 1, 0),\n",
       " (2, 0, 1, 1),\n",
       " (2, 1, 0, 1),\n",
       " (2, 1, 1, 0)}"
      ]
     },
     "execution_count": 48,
     "metadata": {},
     "output_type": "execute_result"
    }
   ],
   "source": [
    "UNIQUE"
   ]
  },
  {
   "cell_type": "code",
   "execution_count": 49,
   "id": "18082129-dc93-427d-85f1-4cab84684691",
   "metadata": {},
   "outputs": [
    {
     "data": {
      "text/plain": [
       "{ivm_vector(a=0, b=1, c=1, d=2),\n",
       " ivm_vector(a=0, b=1, c=2, d=1),\n",
       " ivm_vector(a=0, b=2, c=1, d=1),\n",
       " ivm_vector(a=1, b=0, c=1, d=2),\n",
       " ivm_vector(a=1, b=0, c=2, d=1),\n",
       " ivm_vector(a=1, b=1, c=0, d=2),\n",
       " ivm_vector(a=1, b=1, c=2, d=0),\n",
       " ivm_vector(a=1, b=2, c=0, d=1),\n",
       " ivm_vector(a=1, b=2, c=1, d=0),\n",
       " ivm_vector(a=2, b=0, c=1, d=1),\n",
       " ivm_vector(a=2, b=1, c=0, d=1),\n",
       " ivm_vector(a=2, b=1, c=1, d=0)}"
      ]
     },
     "execution_count": 49,
     "metadata": {},
     "output_type": "execute_result"
    }
   ],
   "source": [
    "IVM_DIRS"
   ]
  },
  {
   "cell_type": "code",
   "execution_count": 50,
   "id": "be5a2d30-1e05-4e37-9bf4-eb4dc381b961",
   "metadata": {},
   "outputs": [
    {
     "data": {
      "text/plain": [
       "[1.00000000000000,\n",
       " 1.00000000000000,\n",
       " 1.00000000000000,\n",
       " 1.00000000000000,\n",
       " 1.00000000000000,\n",
       " 1.00000000000000,\n",
       " 1.00000000000000,\n",
       " 1.00000000000000,\n",
       " 1.00000000000000,\n",
       " 1.00000000000000,\n",
       " 1.00000000000000,\n",
       " 1.00000000000000]"
      ]
     },
     "execution_count": 50,
     "metadata": {},
     "output_type": "execute_result"
    }
   ],
   "source": [
    "[v.length() for v in IVM_DIRS]"
   ]
  },
  {
   "cell_type": "markdown",
   "id": "6bd249b1-2a5f-464a-8e63-02aa7fa388c1",
   "metadata": {},
   "source": [
    "<a data-flickr-embed=\"true\" href=\"https://www.flickr.com/photos/kirbyurner/54503756916/in/dateposted/\" title=\"Quadrays Conventions\"><img src=\"https://live.staticflickr.com/65535/54503756916_46b64d54df_z.jpg\" width=\"640\" height=\"362\" alt=\"Quadrays Conventions\"/></a><script async src=\"//embedr.flickr.com/assets/client-code.js\" charset=\"utf-8\"></script>"
   ]
  },
  {
   "cell_type": "markdown",
   "id": "a8d329e4-c7cb-4b3b-86b0-fa7968a7c9d0",
   "metadata": {},
   "source": [
    "In the following two cells demo example UI output associated with the four turtles and their inter-distances. The four turtles, each starting at the ORIGIN, hop randomly in the 12 directions. The tetra-volume of the resulting (most likely irregular) tetrahedron is computed from its six edges."
   ]
  },
  {
   "cell_type": "code",
   "execution_count": 51,
   "id": "18eb5dfe-d9a4-42a0-a0a3-326bb0dd2b62",
   "metadata": {},
   "outputs": [],
   "source": [
    "from tetravolume import Tetrahedron as TV\n",
    "from random import choice\n",
    "from sympy import Integer\n",
    "zero = Integer(0)\n",
    "directions = list(IVM_DIRS)"
   ]
  },
  {
   "cell_type": "code",
   "execution_count": 52,
   "id": "60f7bbcc-1c91-4b88-afe2-db58fb1825e1",
   "metadata": {},
   "outputs": [
    {
     "data": {
      "text/latex": [
       "$\\displaystyle 12065$"
      ],
      "text/plain": [
       "12065"
      ]
     },
     "execution_count": 52,
     "metadata": {},
     "output_type": "execute_result"
    }
   ],
   "source": [
    "# Volume Demo: Random CCP Tetrahedron has whole number tetravolume\n",
    "\n",
    "turtles = [Qvector((zero,zero,zero,zero)), \n",
    "           Qvector((zero,zero,zero,zero)), \n",
    "           Qvector((zero,zero,zero,zero)), \n",
    "           Qvector((zero,zero,zero,zero))]\n",
    "\n",
    "for hop in range(1000):\n",
    "    for idx, t in enumerate(turtles):\n",
    "        turtles[idx] = t + choice(directions)\n",
    "\n",
    "a,b,c,d = turtles\n",
    "\n",
    "edges = ((a-b).length(), (a-c).length(), (a-d).length(), (b-c).length(), (c-d).length(), (d-b).length())\n",
    "TV(*edges).ivm_volume()"
   ]
  },
  {
   "cell_type": "markdown",
   "id": "74a0d9ed-5ebe-435f-abb0-3b943dc6578f",
   "metadata": {},
   "source": [
    "### Animated GIFs\n",
    "\n",
    "![quadcraft](quadcraft.gif)\n",
    "\n",
    "![oscisllate](oscillate.gif)\n",
    "\n",
    "![startup_ch](startup_ch.gif)\n",
    "\n",
    "![four_ivms](four_ivms.gif)\n",
    "\n",
    "![ccp_grow](ccp_grow.gif)\n",
    "\n",
    "![ccp_rds](ccp_rds.gif)"
   ]
  },
  {
   "cell_type": "markdown",
   "id": "4118cb32-bc70-4123-8274-78e6d70d12b3",
   "metadata": {},
   "source": [
    "### Related Notebooks\n",
    "\n",
    "* [Generating the FCC](https://github.com/4dsolutions/Python5/blob/master/Generating%20the%20FCC.ipynb)\n",
    "* [Building the CCP:  Apex-Outward vs Center-Outward Packing](Packing_algorithms.ipynb)\n",
    "* [Tetravolumes with Quadrays](Qvolume.ipynb)\n",
    "\n",
    "### More Context\n",
    "\n",
    "* [Cascadian Synergetics: Executive Summary, June 2025](https://www.perplexity.ai/search/comprehensively-research-and-g-p.LreUtEQR6zCjOh_PzIoA) (Perplexity.ai)"
   ]
  },
  {
   "cell_type": "markdown",
   "id": "8fbd2aa1-b4b8-4447-ba90-5c9a6246c3e7",
   "metadata": {},
   "source": [
    "### YouTubes\n",
    "\n",
    "If you're viewing this on Github, YouTubes will not display as playable thumbnails. \n",
    "\n",
    "Copy-paste the URLs to YouTube or view [this same Notebook through nbviewer](https://nbviewer.org/github/4dsolutions/School_of_Tomorrow/blob/master/QuadCraft_Project.ipynb)."
   ]
  },
  {
   "cell_type": "code",
   "execution_count": 53,
   "id": "46a22627-51ed-447f-a98f-843acfd87cf1",
   "metadata": {},
   "outputs": [],
   "source": [
    "from IPython.display import YouTubeVideo"
   ]
  },
  {
   "cell_type": "code",
   "execution_count": 54,
   "id": "ba30ff01-9b50-4585-a343-2765aa96d506",
   "metadata": {},
   "outputs": [
    {
     "data": {
      "image/jpeg": "[encoded data removed]",
      "text/html": [
       "\n",
       "        <iframe\n",
       "            width=\"400\"\n",
       "            height=\"300\"\n",
       "            src=\"https://www.youtube.com/embed/nSPj_iD7ics\"\n",
       "            frameborder=\"0\"\n",
       "            allowfullscreen\n",
       "            \n",
       "        ></iframe>\n",
       "        "
      ],
      "text/plain": [
       "<IPython.lib.display.YouTubeVideo at 0x1076753d0>"
      ]
     },
     "execution_count": 54,
     "metadata": {},
     "output_type": "execute_result"
    }
   ],
   "source": [
    "YouTubeVideo(\"nSPj_iD7ics\")"
   ]
  },
  {
   "cell_type": "code",
   "execution_count": 55,
   "id": "89e9ee18-e3ca-4ae1-ad3a-9260c228526b",
   "metadata": {},
   "outputs": [
    {
     "data": {
      "image/jpeg": "[encoded data removed]",
      "text/html": [
       "\n",
       "        <iframe\n",
       "            width=\"400\"\n",
       "            height=\"300\"\n",
       "            src=\"https://www.youtube.com/embed/hez0bg5GKCQ\"\n",
       "            frameborder=\"0\"\n",
       "            allowfullscreen\n",
       "            \n",
       "        ></iframe>\n",
       "        "
      ],
      "text/plain": [
       "<IPython.lib.display.YouTubeVideo at 0x107b39dd0>"
      ]
     },
     "execution_count": 55,
     "metadata": {},
     "output_type": "execute_result"
    }
   ],
   "source": [
    "YouTubeVideo(\"hez0bg5GKCQ\")"
   ]
  },
  {
   "cell_type": "code",
   "execution_count": 56,
   "id": "0d4df54a-56b4-4143-8fc1-854f8be8f8cc",
   "metadata": {},
   "outputs": [
    {
     "data": {
      "image/jpeg": "[encoded data removed]",
      "text/html": [
       "\n",
       "        <iframe\n",
       "            width=\"400\"\n",
       "            height=\"300\"\n",
       "            src=\"https://www.youtube.com/embed/0DoMz5OEwQY\"\n",
       "            frameborder=\"0\"\n",
       "            allowfullscreen\n",
       "            \n",
       "        ></iframe>\n",
       "        "
      ],
      "text/plain": [
       "<IPython.lib.display.YouTubeVideo at 0x10807be90>"
      ]
     },
     "execution_count": 56,
     "metadata": {},
     "output_type": "execute_result"
    }
   ],
   "source": [
    "YouTubeVideo(\"0DoMz5OEwQY\")"
   ]
  },
  {
   "cell_type": "code",
   "execution_count": 57,
   "id": "80a0ffa8-6fbc-4826-bc4a-7970bcadd356",
   "metadata": {},
   "outputs": [
    {
     "data": {
      "image/jpeg": "[encoded data removed]",
      "text/html": [
       "\n",
       "        <iframe\n",
       "            width=\"400\"\n",
       "            height=\"300\"\n",
       "            src=\"https://www.youtube.com/embed/2uogeb6NLQY\"\n",
       "            frameborder=\"0\"\n",
       "            allowfullscreen\n",
       "            \n",
       "        ></iframe>\n",
       "        "
      ],
      "text/plain": [
       "<IPython.lib.display.YouTubeVideo at 0x107a47690>"
      ]
     },
     "execution_count": 57,
     "metadata": {},
     "output_type": "execute_result"
    }
   ],
   "source": [
    "YouTubeVideo(\"2uogeb6NLQY\")"
   ]
  },
  {
   "cell_type": "markdown",
   "id": "84b53850-d070-4b58-871b-28d97c26bb35",
   "metadata": {},
   "source": [
    "<a data-flickr-embed=\"true\" href=\"https://www.flickr.com/photos/kirbyurner/54596668240/in/dateposted/\" title=\"quadcraft_2\"><img src=\"https://live.staticflickr.com/65535/54596668240_0767c109ff_w.jpg\" width=\"267\" height=\"400\" alt=\"quadcraft_2\"/></a><script async src=\"//embedr.flickr.com/assets/client-code.js\" charset=\"utf-8\"></script>"
   ]
  },
  {
   "cell_type": "markdown",
   "id": "135e02b3-5d9f-46bc-b16d-14868bbb77bc",
   "metadata": {},
   "source": [
    "<a data-flickr-embed=\"true\" href=\"https://www.flickr.com/photos/kirbyurner/54615431532/in/dateposted/\" title=\"On the Road\"><img src=\"https://live.staticflickr.com/65535/54615431532_6312790e81_z.jpg\" width=\"522\" height=\"640\" alt=\"On the Road\"/></a><script async src=\"//embedr.flickr.com/assets/client-code.js\" charset=\"utf-8\"></script>"
   ]
  },
  {
   "cell_type": "markdown",
   "id": "4c49d2da-28cc-43c1-a3ec-e4b7da43e132",
   "metadata": {},
   "source": [
    "<div style=\"text-align: center;\">\n",
    "<a data-flickr-embed=\"true\" href=\"https://www.flickr.com/photos/kirbyurner/54621587718/in/dateposted/\" title=\"CogSec\"><img src=\"https://live.staticflickr.com/65535/54621587718_97ffef82c5_t.jpg\" width=\"100\" height=\"100\" alt=\"CogSec\"/></a><script async src=\"//embedr.flickr.com/assets/client-code.js\" charset=\"utf-8\"></script>\n",
    "</div>"
   ]
  }
 ],
 "metadata": {
  "kernelspec": {
   "display_name": "Python 3 (ipykernel)",
   "language": "python",
   "name": "python3"
  },
  "language_info": {
   "codemirror_mode": {
    "name": "ipython",
    "version": 3
   },
   "file_extension": ".py",
   "mimetype": "text/x-python",
   "name": "python",
   "nbconvert_exporter": "python",
   "pygments_lexer": "ipython3",
   "version": "3.11.3"
  }
 },
 "nbformat": 4,
 "nbformat_minor": 5
}
