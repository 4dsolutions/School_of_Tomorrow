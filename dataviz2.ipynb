{
 "cells": [
  {
   "cell_type": "markdown",
   "metadata": {},
   "source": [
    "[Oregon Curriculum Network](http://4dsolutions.net/ocn/)\n",
    "\n",
    "[Home](School_of_Tomorrow.ipynb)\n",
    "\n",
    "# Data Visualization (Part Two)\n",
    "\n",
    "<a data-flickr-embed=\"true\"  href=\"https://www.flickr.com/photos/kirbyurner/26084029938/in/album-72157693427665102/\" title=\"P1040200\"><img src=\"https://live.staticflickr.com/4763/26084029938_70b453b3c2.jpg\" width=\"500\" height=\"333\" alt=\"P1040200\"></a><script async src=\"//embedr.flickr.com/assets/client-code.js\" charset=\"utf-8\"></script>\n",
    "<div style=\"text-align: center\">\n",
    "Political Data Layer (PDL)\n",
    "</div>"
   ]
  },
  {
   "cell_type": "markdown",
   "metadata": {},
   "source": [
    "## Snap Shots in Time\n",
    "\n",
    "You might think of a photograph as a slice of time, like a slice of bread with some jam on it, where the jam is \"whatever is happening\" and where the slice has some thickness.  It takes time for photons to register on a chemical film, or on photosensitive resistors.  However a trend in photography has been to heighten the sensistivity of the recording material and to speed up the frame rate, meaning each individual slice of \"bread\" (time) is becoming less thick.  Slow motion movies take advantage of this fact.\n",
    "\n",
    "Speaking of movies, as soon as you put the time slices back together, you start to see rates of change.  In delta calculus, invented by Newton, Leibniz and other greats, we look for minimum changes (differentiation) however, then we add up those changes (integration) to get more summary results.  Even short movies, in placing one time slice after another in quick progression, say 30 frames per second (fps), may tell us a lot more about what we're looking at."
   ]
  },
  {
   "cell_type": "markdown",
   "metadata": {},
   "source": [
    "## Time Series Data\n",
    "\n",
    "The time series in question might be \"one snap shot a day\" or \"one per second\" or \"one per 1/100th of a second\".  Or a time series might feature snap shots taken once a year, as when chronicling the slow advance or retreat of a glacier. \n",
    "\n",
    "However, given the wide range of instrumentation out there, you may not be getting literal photographs.  Most measurements, including images, have a numeric format and when it comes to noticing or registering differences, we may use numeric techniques rather than our own eyes and brains, to judge what a movie is showing.\n",
    "\n",
    "More likely yet, we use a combination of visualizations, intuitions, and numerical computations, in various feedback loops, to help build comprehension through apprehension (see Synergetics for more contextualizing passages).\n",
    "\n",
    "A lot of time series data is financial in nature.  Analysts look for patterns and seek to anticipate trends.\n",
    "\n",
    "Jake VanderPlas is [one of the top authorities](https://jakevdp.github.io/PythonDataScienceHandbook/03.11-working-with-time-series.html) on using ```pandas``` to do data science.  The link is to his copyleft book."
   ]
  },
  {
   "cell_type": "code",
   "execution_count": 1,
   "metadata": {},
   "outputs": [
    {
     "data": {
      "text/plain": [
       "'wraps numpy arrays in handsome frames with row and column indexes'"
      ]
     },
     "execution_count": 1,
     "metadata": {},
     "output_type": "execute_result"
    }
   ],
   "source": [
    "import json\n",
    "\n",
    "with open(\"glossary2.txt\", 'r') as the_file:\n",
    "    glossary = json.load(the_file)\n",
    "    \n",
    "glossary['pandas']"
   ]
  },
  {
   "cell_type": "markdown",
   "metadata": {},
   "source": [
    "## Globes and Maps as Data Vizualization Tools\n",
    "\n",
    "<a data-flickr-embed=\"true\"  href=\"https://www.flickr.com/photos/kirbyurner/28494828118/in/album-72157693427665102/\" title=\"DGGS / Global Matrix\"><img src=\"https://live.staticflickr.com/1741/28494828118_573fc6c57b_n.jpg\" width=\"320\" height=\"180\" alt=\"DGGS / Global Matrix\"></a><script async src=\"//embedr.flickr.com/assets/client-code.js\" charset=\"utf-8\"></script>\n",
    "<div style=\"text-align: center\">\n",
    "Data Visualization Tool\n",
    "</div>\n",
    "\n",
    "You likely agree that maps and globes are informative.  Many of us use maps and globes daily, especially maps, because we are trying to find routes to follow, to specific places we search for.  Places get stored with sufficient data, by means of latitude and longitude especially, to have them show up on maps and globes relative to other places.\n",
    "\n",
    "Sometimes our globes and maps have little to do with Spaceship Earth in that we're in a gaming or simulation environment and working with randomly generated planets on which phenomena evolve over time.  Sometimes we're working with other existing astronomical bodies, such as the Moon or Mars.  We have detailed maps for these spherical bodies, mostly thanks to \"spy satellite\" technology that was originally developed for self (Earth) observation.\n",
    "\n",
    "<a data-flickr-embed=\"true\"  href=\"https://www.flickr.com/photos/kirbyurner/2908472176/in/album-72157607673506906/\" title=\"Tailgate Tableau\"><img src=\"https://live.staticflickr.com/3110/2908472176_3ca704ca1d_n.jpg\" width=\"320\" height=\"240\" alt=\"Tailgate Tableau\"></a><script async src=\"//embedr.flickr.com/assets/client-code.js\" charset=\"utf-8\"></script>\n",
    "<div style=\"text-align: center\">\n",
    "Razz the Subaru with Map and Dog Food<br />\n",
    "OCN HQS\n",
    "</div>\n",
    "\n",
    "\n",
    "### Empircal versus Non-empirical Simulations\n",
    "\n",
    "Lets also remember that simulations and models kick in (become relevant) as soon as we move towards anticipating future developments, or filling in gaps for which we have only a little data.  \n",
    "\n",
    "The latter process (filling in gaps) is sometimes referred to as \"interpolation\", wherein we're \"filling holes\" based on what we know of some surroundings.  All of this kind of thinking is guesswork in some ways, provided we think new data might arise that could confirm or cast doubt on our guesses and models.  \n",
    "\n",
    "Studies subject to correction or confirmation or disconfirmation are considered \"empirical\" meaning continuing to gather data make sense.  A science fiction computer game that takes a planet into a simulated future may be non-empirical because it's a made-up reality.  \n",
    "\n",
    "\"What really happens\" is not an issue when \"reality\" is not in a position to correct us. On the other hand, inside the novel or story, the fictional characters (such as they exist) may have their simulated empirical concerns.\n",
    "\n",
    "### Philosophical Caveats\n",
    "\n",
    "Lets investigate some philosophical concerns relating to whether a given study is empirical or not.  People come to reality with very different beliefs and assumptions relative to others.  We do not always see agreement on the core terms of a debate and so what counts as evidence for or against a particular model may itself be in dispute."
   ]
  },
  {
   "cell_type": "markdown",
   "metadata": {},
   "source": [
    "## Importing Data\n",
    "\n",
    "### Case Study:  Periodic Table to DataFrame (over the web)\n",
    "\n",
    "In the previous notebook, we looked at JSON is a viable format for both storing and streaming global data on a global basis, meaning to and from any IP:port address.  Internet Protocol (IP) is not the only protocol available for transmitting signals, so we should keep in mind that JSON, as a protocol, is higher up in the \"transport layer\" than the lower level TCP/IP that we find in today's internet."
   ]
  },
  {
   "cell_type": "code",
   "execution_count": 2,
   "metadata": {},
   "outputs": [],
   "source": [
    "% matplotlib inline\n",
    "import numpy as np\n",
    "import pandas as pd\n",
    "import matplotlib.pyplot as plt\n",
    "import requests  # a new tool, for communicating using the HTTP protocol\n",
    "import json"
   ]
  },
  {
   "cell_type": "markdown",
   "metadata": {},
   "source": [
    "The Oregon Curriculum Network is currently sponsoring [a simple Flask website](http://thekirbster.pythonanywhere.com/), hosted by PythonAnywhere.com, that features all the source code and data on Github, meaning you're free to clone this website and operate it locally, on localhost. "
   ]
  },
  {
   "cell_type": "code",
   "execution_count": 3,
   "metadata": {},
   "outputs": [
    {
     "data": {
      "text/plain": [
       "200"
      ]
     },
     "execution_count": 3,
     "metadata": {},
     "output_type": "execute_result"
    }
   ],
   "source": [
    "http_request  = \"http://thekirbster.pythonanywhere.com/api/elements?elem=all\"\n",
    "http_response = requests.get(http_request)\n",
    "http_response.status_code # if not 200, the request failed"
   ]
  },
  {
   "cell_type": "code",
   "execution_count": 4,
   "metadata": {},
   "outputs": [
    {
     "data": {
      "text/plain": [
       "[1, 'H', 'Hydrogen', 1.008, 'diatomic nonmetal', 1498013115, 'KTU']"
      ]
     },
     "execution_count": 4,
     "metadata": {},
     "output_type": "execute_result"
    }
   ],
   "source": [
    "periodic_table = http_response.json()\n",
    "periodic_table['H']"
   ]
  },
  {
   "cell_type": "code",
   "execution_count": 5,
   "metadata": {},
   "outputs": [],
   "source": [
    "symbols = np.array(list(periodic_table.keys()))"
   ]
  },
  {
   "cell_type": "code",
   "execution_count": 6,
   "metadata": {},
   "outputs": [
    {
     "data": {
      "text/plain": [
       "array(['Am', 'P', 'Sr', 'Ts', 'Cl', 'Lv', 'Og', 'Ds', 'Nd', 'Os'],\n",
       "      dtype='<U2')"
      ]
     },
     "execution_count": 6,
     "metadata": {},
     "output_type": "execute_result"
    }
   ],
   "source": [
    "symbols[:10]"
   ]
  },
  {
   "cell_type": "code",
   "execution_count": 7,
   "metadata": {},
   "outputs": [],
   "source": [
    "values = np.array(list(periodic_table.values()))"
   ]
  },
  {
   "cell_type": "code",
   "execution_count": 8,
   "metadata": {},
   "outputs": [
    {
     "data": {
      "text/plain": [
       "array(['95', 'Am', 'Americium', '243.0', 'actinide', '1493462392', 'KTU'],\n",
       "      dtype='<U39')"
      ]
     },
     "execution_count": 8,
     "metadata": {},
     "output_type": "execute_result"
    }
   ],
   "source": [
    "values[0]"
   ]
  },
  {
   "cell_type": "markdown",
   "metadata": {},
   "source": [
    "Notice even the numeric values are quoted here, meaning they'll be treated as Unicode objects when it comes time to sort.  Our wish is to have appropriate number types in these columns.  The appropriate time to perform the conversion is when we have access to the ```.astype``` method of the pandas ```Series```, as these comprise the columns of the various sorted pandas ```DataFrame``` objects we aim to produce."
   ]
  },
  {
   "cell_type": "code",
   "execution_count": 9,
   "metadata": {},
   "outputs": [
    {
     "data": {
      "text/plain": [
       "array(['Am', 'P', 'Sr', 'Ts', 'Cl', 'Lv', 'Og', 'Ds', 'Nd', 'Os'],\n",
       "      dtype='<U39')"
      ]
     },
     "execution_count": 9,
     "metadata": {},
     "output_type": "execute_result"
    }
   ],
   "source": [
    "values[:10, 1]"
   ]
  },
  {
   "cell_type": "code",
   "execution_count": 10,
   "metadata": {},
   "outputs": [
    {
     "data": {
      "text/plain": [
       "(118, 7)"
      ]
     },
     "execution_count": 10,
     "metadata": {},
     "output_type": "execute_result"
    }
   ],
   "source": [
    "values.shape"
   ]
  },
  {
   "cell_type": "markdown",
   "metadata": {},
   "source": [
    "At this juncture, with values a two-dimensional numpy array, each row of seven columns, we might as well apply the ndarray's native ```astype``` method, used to produce a new array with the internals converted.  In this case, the fact that atomic number and atomic mass were quoted, came across as strings, is an issue.\n",
    "\n",
    "We should study how that happened.  Was [the source website](http://thekirbster.pythonanywhere.com/api/elements?elem=Cs) somehow the culprit?  No, that looks good.  Actually ```periodic_table['H']```, direct from the HTTP response object (with JSON payload) looked fine..."
   ]
  },
  {
   "cell_type": "code",
   "execution_count": 11,
   "metadata": {},
   "outputs": [
    {
     "data": {
      "text/plain": [
       "[55, 'Cs', 'Cesium', 132.905451966, 'alkali metal', 1493462392, 'KTU']"
      ]
     },
     "execution_count": 11,
     "metadata": {},
     "output_type": "execute_result"
    }
   ],
   "source": [
    "periodic_table['Cs']"
   ]
  },
  {
   "cell_type": "markdown",
   "metadata": {},
   "source": [
    "The issue was turning these lists, of numbers and strings mixed together, into ndarrays of these same elements. An ndarray needs all its elements to be of the same type.  Numbers get coerced into strings at this point.\n",
    "\n",
    "No matter, as we have the ability to slice and coerce back, in the process of creating and concatenating the three ```Series``` objects, plus an index.  That's what we undertake to accomplish below, with one of the several ways to construct a DataFrame.\n",
    "\n",
    "In this case, the leftmost argument is a dictionary, with keys being column names, and values being single columns from the ```values``` matrix.\n",
    "\n",
    "Notice the handsome frame.  The ```.head``` method defaults to displaying the top five rows.  You're free to pass an integer argument to see more.  Do you think ```.tail``` works.  How about ```.head``` with negative numbers?"
   ]
  },
  {
   "cell_type": "code",
   "execution_count": 12,
   "metadata": {},
   "outputs": [
    {
     "data": {
      "text/html": [
       "<div>\n",
       "<style scoped>\n",
       "    .dataframe tbody tr th:only-of-type {\n",
       "        vertical-align: middle;\n",
       "    }\n",
       "\n",
       "    .dataframe tbody tr th {\n",
       "        vertical-align: top;\n",
       "    }\n",
       "\n",
       "    .dataframe thead th {\n",
       "        text-align: right;\n",
       "    }\n",
       "</style>\n",
       "<table border=\"1\" class=\"dataframe\">\n",
       "  <thead>\n",
       "    <tr style=\"text-align: right;\">\n",
       "      <th></th>\n",
       "      <th>Name</th>\n",
       "      <th>Number</th>\n",
       "      <th>Mass</th>\n",
       "    </tr>\n",
       "    <tr>\n",
       "      <th>Symbol</th>\n",
       "      <th></th>\n",
       "      <th></th>\n",
       "      <th></th>\n",
       "    </tr>\n",
       "  </thead>\n",
       "  <tbody>\n",
       "    <tr>\n",
       "      <th>Am</th>\n",
       "      <td>Americium</td>\n",
       "      <td>95</td>\n",
       "      <td>243.000000</td>\n",
       "    </tr>\n",
       "    <tr>\n",
       "      <th>P</th>\n",
       "      <td>Phosphorus</td>\n",
       "      <td>15</td>\n",
       "      <td>30.973762</td>\n",
       "    </tr>\n",
       "    <tr>\n",
       "      <th>Sr</th>\n",
       "      <td>Strontium</td>\n",
       "      <td>38</td>\n",
       "      <td>87.621000</td>\n",
       "    </tr>\n",
       "    <tr>\n",
       "      <th>Ts</th>\n",
       "      <td>Tennessine</td>\n",
       "      <td>117</td>\n",
       "      <td>294.000000</td>\n",
       "    </tr>\n",
       "    <tr>\n",
       "      <th>Cl</th>\n",
       "      <td>Chlorine</td>\n",
       "      <td>17</td>\n",
       "      <td>35.450000</td>\n",
       "    </tr>\n",
       "  </tbody>\n",
       "</table>\n",
       "</div>"
      ],
      "text/plain": [
       "              Name  Number        Mass\n",
       "Symbol                                \n",
       "Am       Americium      95  243.000000\n",
       "P       Phosphorus      15   30.973762\n",
       "Sr       Strontium      38   87.621000\n",
       "Ts      Tennessine     117  294.000000\n",
       "Cl        Chlorine      17   35.450000"
      ]
     },
     "execution_count": 12,
     "metadata": {},
     "output_type": "execute_result"
    }
   ],
   "source": [
    "p_table = pd.DataFrame({\"Name\":   values[:, 2], \n",
    "                        \"Number\": values[:, 0].astype(np.int8), \n",
    "                        \"Mass\":   values[:, 3].astype(np.float64)},\n",
    "                        index = symbols)\n",
    "p_table.index.name = \"Symbol\"\n",
    "p_table.head()"
   ]
  },
  {
   "cell_type": "code",
   "execution_count": 13,
   "metadata": {},
   "outputs": [
    {
     "data": {
      "text/html": [
       "<div>\n",
       "<style scoped>\n",
       "    .dataframe tbody tr th:only-of-type {\n",
       "        vertical-align: middle;\n",
       "    }\n",
       "\n",
       "    .dataframe tbody tr th {\n",
       "        vertical-align: top;\n",
       "    }\n",
       "\n",
       "    .dataframe thead th {\n",
       "        text-align: right;\n",
       "    }\n",
       "</style>\n",
       "<table border=\"1\" class=\"dataframe\">\n",
       "  <thead>\n",
       "    <tr style=\"text-align: right;\">\n",
       "      <th></th>\n",
       "      <th>Name</th>\n",
       "      <th>Number</th>\n",
       "      <th>Mass</th>\n",
       "    </tr>\n",
       "    <tr>\n",
       "      <th>Symbol</th>\n",
       "      <th></th>\n",
       "      <th></th>\n",
       "      <th></th>\n",
       "    </tr>\n",
       "  </thead>\n",
       "  <tbody>\n",
       "    <tr>\n",
       "      <th>N</th>\n",
       "      <td>Nitrogen</td>\n",
       "      <td>7</td>\n",
       "      <td>14.00700</td>\n",
       "    </tr>\n",
       "    <tr>\n",
       "      <th>V</th>\n",
       "      <td>Vanadium</td>\n",
       "      <td>23</td>\n",
       "      <td>50.94151</td>\n",
       "    </tr>\n",
       "    <tr>\n",
       "      <th>Nh</th>\n",
       "      <td>Nihonium</td>\n",
       "      <td>113</td>\n",
       "      <td>286.00000</td>\n",
       "    </tr>\n",
       "    <tr>\n",
       "      <th>Ba</th>\n",
       "      <td>Barium</td>\n",
       "      <td>56</td>\n",
       "      <td>137.32770</td>\n",
       "    </tr>\n",
       "    <tr>\n",
       "      <th>Fm</th>\n",
       "      <td>Fermium</td>\n",
       "      <td>100</td>\n",
       "      <td>257.00000</td>\n",
       "    </tr>\n",
       "  </tbody>\n",
       "</table>\n",
       "</div>"
      ],
      "text/plain": [
       "            Name  Number       Mass\n",
       "Symbol                             \n",
       "N       Nitrogen       7   14.00700\n",
       "V       Vanadium      23   50.94151\n",
       "Nh      Nihonium     113  286.00000\n",
       "Ba        Barium      56  137.32770\n",
       "Fm       Fermium     100  257.00000"
      ]
     },
     "execution_count": 13,
     "metadata": {},
     "output_type": "execute_result"
    }
   ],
   "source": [
    "p_table.tail()"
   ]
  },
  {
   "cell_type": "code",
   "execution_count": 14,
   "metadata": {},
   "outputs": [
    {
     "data": {
      "text/html": [
       "<div>\n",
       "<style scoped>\n",
       "    .dataframe tbody tr th:only-of-type {\n",
       "        vertical-align: middle;\n",
       "    }\n",
       "\n",
       "    .dataframe tbody tr th {\n",
       "        vertical-align: top;\n",
       "    }\n",
       "\n",
       "    .dataframe thead th {\n",
       "        text-align: right;\n",
       "    }\n",
       "</style>\n",
       "<table border=\"1\" class=\"dataframe\">\n",
       "  <thead>\n",
       "    <tr style=\"text-align: right;\">\n",
       "      <th></th>\n",
       "      <th>Name</th>\n",
       "      <th>Number</th>\n",
       "      <th>Mass</th>\n",
       "    </tr>\n",
       "    <tr>\n",
       "      <th>Symbol</th>\n",
       "      <th></th>\n",
       "      <th></th>\n",
       "      <th></th>\n",
       "    </tr>\n",
       "  </thead>\n",
       "  <tbody>\n",
       "    <tr>\n",
       "      <th>Am</th>\n",
       "      <td>Americium</td>\n",
       "      <td>95</td>\n",
       "      <td>243.000000</td>\n",
       "    </tr>\n",
       "    <tr>\n",
       "      <th>P</th>\n",
       "      <td>Phosphorus</td>\n",
       "      <td>15</td>\n",
       "      <td>30.973762</td>\n",
       "    </tr>\n",
       "    <tr>\n",
       "      <th>Sr</th>\n",
       "      <td>Strontium</td>\n",
       "      <td>38</td>\n",
       "      <td>87.621000</td>\n",
       "    </tr>\n",
       "    <tr>\n",
       "      <th>Ts</th>\n",
       "      <td>Tennessine</td>\n",
       "      <td>117</td>\n",
       "      <td>294.000000</td>\n",
       "    </tr>\n",
       "    <tr>\n",
       "      <th>Cl</th>\n",
       "      <td>Chlorine</td>\n",
       "      <td>17</td>\n",
       "      <td>35.450000</td>\n",
       "    </tr>\n",
       "    <tr>\n",
       "      <th>Lv</th>\n",
       "      <td>Livermorium</td>\n",
       "      <td>116</td>\n",
       "      <td>293.000000</td>\n",
       "    </tr>\n",
       "    <tr>\n",
       "      <th>Og</th>\n",
       "      <td>Oganesson</td>\n",
       "      <td>118</td>\n",
       "      <td>294.000000</td>\n",
       "    </tr>\n",
       "    <tr>\n",
       "      <th>Ds</th>\n",
       "      <td>Darmstadtium</td>\n",
       "      <td>110</td>\n",
       "      <td>281.000000</td>\n",
       "    </tr>\n",
       "    <tr>\n",
       "      <th>Nd</th>\n",
       "      <td>Neodymium</td>\n",
       "      <td>60</td>\n",
       "      <td>144.242300</td>\n",
       "    </tr>\n",
       "    <tr>\n",
       "      <th>Os</th>\n",
       "      <td>Osmium</td>\n",
       "      <td>76</td>\n",
       "      <td>190.233000</td>\n",
       "    </tr>\n",
       "    <tr>\n",
       "      <th>Nb</th>\n",
       "      <td>Niobium</td>\n",
       "      <td>41</td>\n",
       "      <td>92.906372</td>\n",
       "    </tr>\n",
       "    <tr>\n",
       "      <th>Es</th>\n",
       "      <td>Einsteinium</td>\n",
       "      <td>99</td>\n",
       "      <td>252.000000</td>\n",
       "    </tr>\n",
       "    <tr>\n",
       "      <th>Rn</th>\n",
       "      <td>Radon</td>\n",
       "      <td>86</td>\n",
       "      <td>222.000000</td>\n",
       "    </tr>\n",
       "    <tr>\n",
       "      <th>Bh</th>\n",
       "      <td>Bohrium</td>\n",
       "      <td>107</td>\n",
       "      <td>270.000000</td>\n",
       "    </tr>\n",
       "    <tr>\n",
       "      <th>B</th>\n",
       "      <td>Boron</td>\n",
       "      <td>5</td>\n",
       "      <td>10.810000</td>\n",
       "    </tr>\n",
       "    <tr>\n",
       "      <th>Pr</th>\n",
       "      <td>Praseodymium</td>\n",
       "      <td>59</td>\n",
       "      <td>140.907662</td>\n",
       "    </tr>\n",
       "    <tr>\n",
       "      <th>Po</th>\n",
       "      <td>Polonium</td>\n",
       "      <td>84</td>\n",
       "      <td>209.000000</td>\n",
       "    </tr>\n",
       "    <tr>\n",
       "      <th>Rg</th>\n",
       "      <td>Roentgenium</td>\n",
       "      <td>111</td>\n",
       "      <td>282.000000</td>\n",
       "    </tr>\n",
       "  </tbody>\n",
       "</table>\n",
       "</div>"
      ],
      "text/plain": [
       "                Name  Number        Mass\n",
       "Symbol                                  \n",
       "Am         Americium      95  243.000000\n",
       "P         Phosphorus      15   30.973762\n",
       "Sr         Strontium      38   87.621000\n",
       "Ts        Tennessine     117  294.000000\n",
       "Cl          Chlorine      17   35.450000\n",
       "Lv       Livermorium     116  293.000000\n",
       "Og         Oganesson     118  294.000000\n",
       "Ds      Darmstadtium     110  281.000000\n",
       "Nd         Neodymium      60  144.242300\n",
       "Os            Osmium      76  190.233000\n",
       "Nb           Niobium      41   92.906372\n",
       "Es       Einsteinium      99  252.000000\n",
       "Rn             Radon      86  222.000000\n",
       "Bh           Bohrium     107  270.000000\n",
       "B              Boron       5   10.810000\n",
       "Pr      Praseodymium      59  140.907662\n",
       "Po          Polonium      84  209.000000\n",
       "Rg       Roentgenium     111  282.000000"
      ]
     },
     "execution_count": 14,
     "metadata": {},
     "output_type": "execute_result"
    }
   ],
   "source": [
    "p_table.head(-100)"
   ]
  },
  {
   "cell_type": "code",
   "execution_count": 15,
   "metadata": {},
   "outputs": [
    {
     "data": {
      "text/plain": [
       "Name       object\n",
       "Number       int8\n",
       "Mass      float64\n",
       "dtype: object"
      ]
     },
     "execution_count": 15,
     "metadata": {},
     "output_type": "execute_result"
    }
   ],
   "source": [
    "p_table.dtypes  # mission accomplished, reconversion has occurred"
   ]
  },
  {
   "cell_type": "markdown",
   "metadata": {},
   "source": [
    "Check out the pandas API documentation for [how to sort by an index](https://pandas.pydata.org/pandas-docs/stable/reference/api/pandas.DataFrame.sort_index.html)."
   ]
  },
  {
   "cell_type": "code",
   "execution_count": 16,
   "metadata": {},
   "outputs": [
    {
     "data": {
      "text/html": [
       "<div>\n",
       "<style scoped>\n",
       "    .dataframe tbody tr th:only-of-type {\n",
       "        vertical-align: middle;\n",
       "    }\n",
       "\n",
       "    .dataframe tbody tr th {\n",
       "        vertical-align: top;\n",
       "    }\n",
       "\n",
       "    .dataframe thead th {\n",
       "        text-align: right;\n",
       "    }\n",
       "</style>\n",
       "<table border=\"1\" class=\"dataframe\">\n",
       "  <thead>\n",
       "    <tr style=\"text-align: right;\">\n",
       "      <th></th>\n",
       "      <th>Name</th>\n",
       "      <th>Number</th>\n",
       "      <th>Mass</th>\n",
       "    </tr>\n",
       "    <tr>\n",
       "      <th>Symbol</th>\n",
       "      <th></th>\n",
       "      <th></th>\n",
       "      <th></th>\n",
       "    </tr>\n",
       "  </thead>\n",
       "  <tbody>\n",
       "    <tr>\n",
       "      <th>Ac</th>\n",
       "      <td>Actinium</td>\n",
       "      <td>89</td>\n",
       "      <td>227.000000</td>\n",
       "    </tr>\n",
       "    <tr>\n",
       "      <th>Ag</th>\n",
       "      <td>Silver</td>\n",
       "      <td>47</td>\n",
       "      <td>107.868220</td>\n",
       "    </tr>\n",
       "    <tr>\n",
       "      <th>Al</th>\n",
       "      <td>Aluminium</td>\n",
       "      <td>13</td>\n",
       "      <td>26.981539</td>\n",
       "    </tr>\n",
       "    <tr>\n",
       "      <th>Am</th>\n",
       "      <td>Americium</td>\n",
       "      <td>95</td>\n",
       "      <td>243.000000</td>\n",
       "    </tr>\n",
       "    <tr>\n",
       "      <th>Ar</th>\n",
       "      <td>Argon</td>\n",
       "      <td>18</td>\n",
       "      <td>39.948100</td>\n",
       "    </tr>\n",
       "  </tbody>\n",
       "</table>\n",
       "</div>"
      ],
      "text/plain": [
       "             Name  Number        Mass\n",
       "Symbol                               \n",
       "Ac       Actinium      89  227.000000\n",
       "Ag         Silver      47  107.868220\n",
       "Al      Aluminium      13   26.981539\n",
       "Am      Americium      95  243.000000\n",
       "Ar          Argon      18   39.948100"
      ]
     },
     "execution_count": 16,
     "metadata": {},
     "output_type": "execute_result"
    }
   ],
   "source": [
    "p_table_by_symbol = p_table.sort_index(axis=0, ascending=True, inplace=False)\n",
    "p_table_by_symbol.head()"
   ]
  },
  {
   "cell_type": "markdown",
   "metadata": {},
   "source": [
    "Next lets sort the original ```p_table``` DataFrame object by Number instead of by Symbol.\n",
    "\n",
    "You might want to [check the API docs](https://pandas.pydata.org/pandas-docs/stable/reference/api/pandas.DataFrame.sort_values.html) again, as the arguments are a little bit different."
   ]
  },
  {
   "cell_type": "code",
   "execution_count": 17,
   "metadata": {},
   "outputs": [
    {
     "data": {
      "text/html": [
       "<div>\n",
       "<style scoped>\n",
       "    .dataframe tbody tr th:only-of-type {\n",
       "        vertical-align: middle;\n",
       "    }\n",
       "\n",
       "    .dataframe tbody tr th {\n",
       "        vertical-align: top;\n",
       "    }\n",
       "\n",
       "    .dataframe thead th {\n",
       "        text-align: right;\n",
       "    }\n",
       "</style>\n",
       "<table border=\"1\" class=\"dataframe\">\n",
       "  <thead>\n",
       "    <tr style=\"text-align: right;\">\n",
       "      <th></th>\n",
       "      <th>Name</th>\n",
       "      <th>Number</th>\n",
       "      <th>Mass</th>\n",
       "    </tr>\n",
       "    <tr>\n",
       "      <th>Symbol</th>\n",
       "      <th></th>\n",
       "      <th></th>\n",
       "      <th></th>\n",
       "    </tr>\n",
       "  </thead>\n",
       "  <tbody>\n",
       "    <tr>\n",
       "      <th>H</th>\n",
       "      <td>Hydrogen</td>\n",
       "      <td>1</td>\n",
       "      <td>1.008000</td>\n",
       "    </tr>\n",
       "    <tr>\n",
       "      <th>He</th>\n",
       "      <td>Helium</td>\n",
       "      <td>2</td>\n",
       "      <td>4.002602</td>\n",
       "    </tr>\n",
       "    <tr>\n",
       "      <th>Li</th>\n",
       "      <td>Lithium</td>\n",
       "      <td>3</td>\n",
       "      <td>6.940000</td>\n",
       "    </tr>\n",
       "    <tr>\n",
       "      <th>Be</th>\n",
       "      <td>Beryllium</td>\n",
       "      <td>4</td>\n",
       "      <td>9.012183</td>\n",
       "    </tr>\n",
       "    <tr>\n",
       "      <th>B</th>\n",
       "      <td>Boron</td>\n",
       "      <td>5</td>\n",
       "      <td>10.810000</td>\n",
       "    </tr>\n",
       "  </tbody>\n",
       "</table>\n",
       "</div>"
      ],
      "text/plain": [
       "             Name  Number       Mass\n",
       "Symbol                              \n",
       "H        Hydrogen       1   1.008000\n",
       "He         Helium       2   4.002602\n",
       "Li        Lithium       3   6.940000\n",
       "Be      Beryllium       4   9.012183\n",
       "B           Boron       5  10.810000"
      ]
     },
     "execution_count": 17,
     "metadata": {},
     "output_type": "execute_result"
    }
   ],
   "source": [
    "# inplace = False is the default, but it doesn't hurt to be explicit\n",
    "p_table_by_number = p_table.sort_values([\"Number\"], ascending=True, inplace=False) \n",
    "p_table_by_number.head()"
   ]
  },
  {
   "cell_type": "markdown",
   "metadata": {},
   "source": [
    "Notice that you don't need to import Python itself.  That's because Python is the Kernel behind the scenes running all these code cells.  One specifies the Kernel upon starting a new Jupyter Notebook."
   ]
  },
  {
   "cell_type": "code",
   "execution_count": 18,
   "metadata": {},
   "outputs": [],
   "source": [
    "import json\n",
    "with open(\"glossary2.txt\", 'r') as infile:\n",
    "    glossary = json.load(infile)"
   ]
  },
  {
   "cell_type": "code",
   "execution_count": 19,
   "metadata": {},
   "outputs": [],
   "source": [
    "def make_table():\n",
    "    \"\"\"\n",
    "    Build a pandas DataFrame from the glossary dict (global)\n",
    "    The terms being defined form the index and are sorted case-insensitively\n",
    "    \"\"\"\n",
    "    terms = pd.Series(np.array(list(glossary.keys())))\n",
    "    definitions = pd.Series(np.array(list(glossary.values()), dtype=object))\n",
    "    \n",
    "    df = pd.DataFrame({\"term\":terms, \"definition\":definitions}).set_index('term')\n",
    "    \n",
    "    # create and delete a sorting column, wherein the terms are all uppercase\n",
    "    df[\"sort_column\"] = df.index.str.upper()\n",
    "    df.sort_values(['sort_column'], axis=0, ascending=True, inplace=True)\n",
    "    del df[\"sort_column\"]  # now that the df is sorted, delete the sorting column\n",
    "    \n",
    "    return df"
   ]
  },
  {
   "cell_type": "markdown",
   "metadata": {},
   "source": [
    "The Python function above has the job of taking our ```glossary``` object, a Python dictionary, and turning it into a pandas DataFrame object.  The dict's keys should comprise our index of terms and be sorted in a case-insensitive manner."
   ]
  },
  {
   "cell_type": "code",
   "execution_count": 20,
   "metadata": {},
   "outputs": [],
   "source": [
    "# glossary is an ordinary Python dict, stored as JSON in a text file\n",
    "glossary[\"TCP/IP\"] =  \"at the basis of the ARPAnet, funded by DARPA, and later the generic internet\"\n",
    "glossary[\"delta calculus\"] = \"differential and integral calculus, popularized by Newton and Leibniz\"\n",
    "glossary[\"lambda calculus\"] = \"a logic of functions, invented Alonso Church et al, a basis of CS\"\n",
    "glossary[\"Series\"] = \"the pandas object for a single column of data, free-standing or in a DataFrame\"\n",
    "glossary[\"TCP\"] = \"Transmission Control Protocol\"\n",
    "glossary[\"IP\"] = \"Internet Protocol\"\n",
    "glossary[\"IP packet\"] = \"A routable chunk of data obeying the IP protocol (format), with payload\"\n",
    "glossary[\"CS\"] = \"Computer Science\"\n",
    "glossary[\"STEM\"] = \"Science, Technology, Engineering and Mathematics\"\n",
    "glossary[\"PATH\"] = \"Philosophy, Anthropology, Theater and History\"\n",
    "glossary[\"STEAM\"] = \"STEM with Anthropology added (Anthropology > Art)\""
   ]
  },
  {
   "cell_type": "code",
   "execution_count": 21,
   "metadata": {},
   "outputs": [],
   "source": [
    "df = make_table()"
   ]
  },
  {
   "cell_type": "code",
   "execution_count": 22,
   "metadata": {},
   "outputs": [
    {
     "data": {
      "text/html": [
       "<div>\n",
       "<style scoped>\n",
       "    .dataframe tbody tr th:only-of-type {\n",
       "        vertical-align: middle;\n",
       "    }\n",
       "\n",
       "    .dataframe tbody tr th {\n",
       "        vertical-align: top;\n",
       "    }\n",
       "\n",
       "    .dataframe thead th {\n",
       "        text-align: right;\n",
       "    }\n",
       "</style>\n",
       "<table border=\"1\" class=\"dataframe\">\n",
       "  <thead>\n",
       "    <tr style=\"text-align: right;\">\n",
       "      <th></th>\n",
       "      <th>definition</th>\n",
       "    </tr>\n",
       "    <tr>\n",
       "      <th>term</th>\n",
       "      <th></th>\n",
       "    </tr>\n",
       "  </thead>\n",
       "  <tbody>\n",
       "    <tr>\n",
       "      <th>API</th>\n",
       "      <td>a set of functions that take variable arguments, providing programmed control of something</td>\n",
       "    </tr>\n",
       "    <tr>\n",
       "      <th>Bayesian</th>\n",
       "      <td>inferential methods useable even in the absense of any prospect for controlled studies</td>\n",
       "    </tr>\n",
       "    <tr>\n",
       "      <th>cell</th>\n",
       "      <td>a Jupyter Notebook consists of mostly Code and Markdown cells</td>\n",
       "    </tr>\n",
       "    <tr>\n",
       "      <th>code cell</th>\n",
       "      <td>where runnable code, interpreted by the Kernel, is displayed and color coded</td>\n",
       "    </tr>\n",
       "    <tr>\n",
       "      <th>CS</th>\n",
       "      <td>Computer Science</td>\n",
       "    </tr>\n",
       "    <tr>\n",
       "      <th>CSV</th>\n",
       "      <td>comma-separated values, one of the simplest data sharing formats</td>\n",
       "    </tr>\n",
       "    <tr>\n",
       "      <th>DataFrame</th>\n",
       "      <td>the star of the pandas package, providing ndarrays with a framing infrastructure</td>\n",
       "    </tr>\n",
       "    <tr>\n",
       "      <th>delta calculus</th>\n",
       "      <td>differential and integral calculus, popularized by Newton and Leibniz</td>\n",
       "    </tr>\n",
       "    <tr>\n",
       "      <th>DOM</th>\n",
       "      <td>the Document Object Model is a tree of graph of a document in a web browser</td>\n",
       "    </tr>\n",
       "    <tr>\n",
       "      <th>HTML</th>\n",
       "      <td>hypertext markup language, almost an XML, defines the DOM in tandem with CSS</td>\n",
       "    </tr>\n",
       "    <tr>\n",
       "      <th>HTTP</th>\n",
       "      <td>[hypertext transfer protocol]</td>\n",
       "    </tr>\n",
       "    <tr>\n",
       "      <th>IP</th>\n",
       "      <td>Internet Protocol</td>\n",
       "    </tr>\n",
       "    <tr>\n",
       "      <th>IP packet</th>\n",
       "      <td>A routable chunk of data obeying the IP protocol (format), with payload</td>\n",
       "    </tr>\n",
       "    <tr>\n",
       "      <th>JavaScript</th>\n",
       "      <td>a computer language, not confined to running inside browsers but happy there</td>\n",
       "    </tr>\n",
       "    <tr>\n",
       "      <th>json</th>\n",
       "      <td>JavaScript Object Notation is a way to save data (compare with XML)</td>\n",
       "    </tr>\n",
       "    <tr>\n",
       "      <th>Jupyter Notebook (JN)</th>\n",
       "      <td>like a web page, but interactive, stored as json</td>\n",
       "    </tr>\n",
       "    <tr>\n",
       "      <th>Kernel</th>\n",
       "      <td>an interpreter, e.g. Python, ready to process JN code cells and return results</td>\n",
       "    </tr>\n",
       "    <tr>\n",
       "      <th>lambda calculus</th>\n",
       "      <td>a logic of functions, invented Alonso Church et al, a basis of CS</td>\n",
       "    </tr>\n",
       "    <tr>\n",
       "      <th>localhost</th>\n",
       "      <td>the IP address of the host computer: 127.0.0.1</td>\n",
       "    </tr>\n",
       "    <tr>\n",
       "      <th>markdown cell</th>\n",
       "      <td>uses a markup called markdown to format the text cells in a Jupyter Notebook</td>\n",
       "    </tr>\n",
       "    <tr>\n",
       "      <th>matplotlib</th>\n",
       "      <td>data visualization package for Python, originally written by John D. Hunter</td>\n",
       "    </tr>\n",
       "    <tr>\n",
       "      <th>ndarray</th>\n",
       "      <td>n-dimensional array, the star of the numpy package, a multi-axis data structure</td>\n",
       "    </tr>\n",
       "    <tr>\n",
       "      <th>numpy</th>\n",
       "      <td>number crunchy goodness, vectorizes computations on n-dimensional arrays</td>\n",
       "    </tr>\n",
       "    <tr>\n",
       "      <th>pandas</th>\n",
       "      <td>wraps numpy arrays in handsome frames with row and column indexes</td>\n",
       "    </tr>\n",
       "    <tr>\n",
       "      <th>PATH</th>\n",
       "      <td>Philosophy, Anthropology, Theater and History</td>\n",
       "    </tr>\n",
       "    <tr>\n",
       "      <th>PGP</th>\n",
       "      <td>Pretty Good Privacy, RSA before the US patent expired, by Phil Zimmerman</td>\n",
       "    </tr>\n",
       "    <tr>\n",
       "      <th>port</th>\n",
       "      <td>internet services connect through IP:port addresses, JN usually on port 8888</td>\n",
       "    </tr>\n",
       "    <tr>\n",
       "      <th>Python</th>\n",
       "      <td>a computer language from Holland (the Netherlands) that went viral</td>\n",
       "    </tr>\n",
       "    <tr>\n",
       "      <th>RSA</th>\n",
       "      <td>public key crypto algorithm, named for collaborators Rivest, Shamir, Adleman</td>\n",
       "    </tr>\n",
       "    <tr>\n",
       "      <th>Ruby</th>\n",
       "      <td>a programming language somewhat like Python and Perl, invented by Yukihiro Matsumoto</td>\n",
       "    </tr>\n",
       "    <tr>\n",
       "      <th>seaborn</th>\n",
       "      <td>adds new powers to matplotlib, makes pretty plots</td>\n",
       "    </tr>\n",
       "    <tr>\n",
       "      <th>Series</th>\n",
       "      <td>the pandas object for a single column of data, free-standing or in a DataFrame</td>\n",
       "    </tr>\n",
       "    <tr>\n",
       "      <th>STEAM</th>\n",
       "      <td>STEM with Anthropology added (Anthropology &gt; Art)</td>\n",
       "    </tr>\n",
       "    <tr>\n",
       "      <th>STEM</th>\n",
       "      <td>Science, Technology, Engineering and Mathematics</td>\n",
       "    </tr>\n",
       "    <tr>\n",
       "      <th>TCP</th>\n",
       "      <td>Transmission Control Protocol</td>\n",
       "    </tr>\n",
       "    <tr>\n",
       "      <th>TCP/IP</th>\n",
       "      <td>at the basis of the ARPAnet, funded by DARPA, and later the generic internet</td>\n",
       "    </tr>\n",
       "    <tr>\n",
       "      <th>TLS</th>\n",
       "      <td>Transport Layer Security, used to turn HTTP into HTTPS</td>\n",
       "    </tr>\n",
       "    <tr>\n",
       "      <th>web browser</th>\n",
       "      <td>HTTP client, sends requests, gets responses</td>\n",
       "    </tr>\n",
       "    <tr>\n",
       "      <th>web server</th>\n",
       "      <td>accepts and processes (or rejects) HTTP requests, sends responses</td>\n",
       "    </tr>\n",
       "    <tr>\n",
       "      <th>XML</th>\n",
       "      <td>a markup language using pointy brackets, reminiscent of HTML, for structured data</td>\n",
       "    </tr>\n",
       "  </tbody>\n",
       "</table>\n",
       "</div>"
      ],
      "text/plain": [
       "                                                                                                       definition\n",
       "term                                                                                                             \n",
       "API                    a set of functions that take variable arguments, providing programmed control of something\n",
       "Bayesian               inferential methods useable even in the absense of any prospect for controlled studies    \n",
       "cell                   a Jupyter Notebook consists of mostly Code and Markdown cells                             \n",
       "code cell              where runnable code, interpreted by the Kernel, is displayed and color coded              \n",
       "CS                     Computer Science                                                                          \n",
       "CSV                    comma-separated values, one of the simplest data sharing formats                          \n",
       "DataFrame              the star of the pandas package, providing ndarrays with a framing infrastructure          \n",
       "delta calculus         differential and integral calculus, popularized by Newton and Leibniz                     \n",
       "DOM                    the Document Object Model is a tree of graph of a document in a web browser               \n",
       "HTML                   hypertext markup language, almost an XML, defines the DOM in tandem with CSS              \n",
       "HTTP                   [hypertext transfer protocol]                                                             \n",
       "IP                     Internet Protocol                                                                         \n",
       "IP packet              A routable chunk of data obeying the IP protocol (format), with payload                   \n",
       "JavaScript             a computer language, not confined to running inside browsers but happy there              \n",
       "json                   JavaScript Object Notation is a way to save data (compare with XML)                       \n",
       "Jupyter Notebook (JN)  like a web page, but interactive, stored as json                                          \n",
       "Kernel                 an interpreter, e.g. Python, ready to process JN code cells and return results            \n",
       "lambda calculus        a logic of functions, invented Alonso Church et al, a basis of CS                         \n",
       "localhost              the IP address of the host computer: 127.0.0.1                                            \n",
       "markdown cell          uses a markup called markdown to format the text cells in a Jupyter Notebook              \n",
       "matplotlib             data visualization package for Python, originally written by John D. Hunter               \n",
       "ndarray                n-dimensional array, the star of the numpy package, a multi-axis data structure           \n",
       "numpy                  number crunchy goodness, vectorizes computations on n-dimensional arrays                  \n",
       "pandas                 wraps numpy arrays in handsome frames with row and column indexes                         \n",
       "PATH                   Philosophy, Anthropology, Theater and History                                             \n",
       "PGP                    Pretty Good Privacy, RSA before the US patent expired, by Phil Zimmerman                  \n",
       "port                   internet services connect through IP:port addresses, JN usually on port 8888              \n",
       "Python                 a computer language from Holland (the Netherlands) that went viral                        \n",
       "RSA                    public key crypto algorithm, named for collaborators Rivest, Shamir, Adleman              \n",
       "Ruby                   a programming language somewhat like Python and Perl, invented by Yukihiro Matsumoto      \n",
       "seaborn                adds new powers to matplotlib, makes pretty plots                                         \n",
       "Series                 the pandas object for a single column of data, free-standing or in a DataFrame            \n",
       "STEAM                  STEM with Anthropology added (Anthropology > Art)                                         \n",
       "STEM                   Science, Technology, Engineering and Mathematics                                          \n",
       "TCP                    Transmission Control Protocol                                                             \n",
       "TCP/IP                 at the basis of the ARPAnet, funded by DARPA, and later the generic internet              \n",
       "TLS                    Transport Layer Security, used to turn HTTP into HTTPS                                    \n",
       "web browser            HTTP client, sends requests, gets responses                                               \n",
       "web server             accepts and processes (or rejects) HTTP requests, sends responses                         \n",
       "XML                    a markup language using pointy brackets, reminiscent of HTML, for structured data         "
      ]
     },
     "execution_count": 22,
     "metadata": {},
     "output_type": "execute_result"
    }
   ],
   "source": [
    "pd.set_option('display.max_colwidth', -1)  # max width on columns please\n",
    "df"
   ]
  },
  {
   "cell_type": "code",
   "execution_count": 23,
   "metadata": {},
   "outputs": [],
   "source": [
    "with open('glossary3.txt', 'w') as output:\n",
    "    json.dump(glossary, output)"
   ]
  }
 ],
 "metadata": {
  "kernelspec": {
   "display_name": "Python 3",
   "language": "python",
   "name": "python3"
  },
  "language_info": {
   "codemirror_mode": {
    "name": "ipython",
    "version": 3
   },
   "file_extension": ".py",
   "mimetype": "text/x-python",
   "name": "python",
   "nbconvert_exporter": "python",
   "pygments_lexer": "ipython3",
   "version": "3.6.8"
  }
 },
 "nbformat": 4,
 "nbformat_minor": 2
}
