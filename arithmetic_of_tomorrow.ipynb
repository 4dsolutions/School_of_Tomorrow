{
 "cells": [
  {
   "cell_type": "markdown",
   "metadata": {},
   "source": [
    "[Oregon Curriculum Network](http://4dsolutions.net/ocn/)\n",
    "\n",
    "[Home](School_of_Tomorrow.ipynb)\n",
    "\n",
    "# Arithmetic\n",
    "\n",
    "### COLOR CODING\n",
    "Most of what you'll want to know you will find in the School of Yesterday, although if you data mine in the recent past you might miss out on number bases.  \n",
    "\n",
    "Some elements within the Lower48 in North America, for example, perpetrated a base-10-only restrictum that many professionals ignored. \n",
    "\n",
    "Number bases, as a concept, need some focus and attention.\n",
    "\n",
    "[XKCD Color Names](https://xkcd.com/color/rgb/)\n",
    "\n",
    "![What is Color?](https://imgs.xkcd.com/comics/color_models.png)\n",
    "\n",
    "\n",
    "This work is licensed under a Creative Commons Attribution-NonCommercial 2.5 License.\n",
    "\n",
    "This means you're free to copy and share these comics (but not to sell them). More details.\n"
   ]
  },
  {
   "cell_type": "code",
   "execution_count": 1,
   "metadata": {},
   "outputs": [],
   "source": [
    "base10 = int('FF', 16) # in base 16 but give us decimal output (the default format)"
   ]
  },
  {
   "cell_type": "code",
   "execution_count": 2,
   "metadata": {},
   "outputs": [
    {
     "data": {
      "text/plain": [
       "255"
      ]
     },
     "execution_count": 2,
     "metadata": {},
     "output_type": "execute_result"
    }
   ],
   "source": [
    "base10"
   ]
  },
  {
   "cell_type": "code",
   "execution_count": 3,
   "metadata": {},
   "outputs": [
    {
     "data": {
      "text/plain": [
       "'0xff'"
      ]
     },
     "execution_count": 3,
     "metadata": {},
     "output_type": "execute_result"
    }
   ],
   "source": [
    "hex(base10)  # string output, with 0x prefix meaning hexadecimal"
   ]
  },
  {
   "cell_type": "code",
   "execution_count": 4,
   "metadata": {},
   "outputs": [
    {
     "data": {
      "text/plain": [
       "255"
      ]
     },
     "execution_count": 4,
     "metadata": {},
     "output_type": "execute_result"
    }
   ],
   "source": [
    "eval(hex(base10))"
   ]
  },
  {
   "cell_type": "code",
   "execution_count": 5,
   "metadata": {},
   "outputs": [
    {
     "data": {
      "image/png": "[encoded data removed]",
      "text/plain": [
       "<Figure size 288x288 with 16 Axes>"
      ]
     },
     "metadata": {},
     "output_type": "display_data"
    }
   ],
   "source": [
    "%matplotlib inline\n",
    "import matplotlib.pyplot as plt\n",
    "\n",
    "def make_squares(all_axes, the_color):\n",
    "    \"\"\"Side Effect City\"\"\"\n",
    "    all_axes = all_axes.ravel()\n",
    "    [axi.xaxis.set_visible(False) for axi in all_axes]\n",
    "    [axi.yaxis.set_visible(False) for axi in all_axes]\n",
    "    [axi.set_facecolor(the_color) for axi in all_axes]\n",
    "\n",
    "f, axarr = plt.subplots(4,4, figsize=(4,4), facecolor=(.18, .31, .31))\n",
    "make_squares(axarr, 'xkcd:salmon' ) #ff796c\n",
    "plt.show();"
   ]
  },
  {
   "cell_type": "code",
   "execution_count": 6,
   "metadata": {},
   "outputs": [
    {
     "data": {
      "image/png": "[encoded data removed]",
      "text/plain": [
       "<Figure size 288x288 with 16 Axes>"
      ]
     },
     "metadata": {},
     "output_type": "display_data"
    }
   ],
   "source": [
    "f, axarr = plt.subplots(4,4, figsize=(4,4), facecolor=(.18, .31, .31))\n",
    "make_squares(axarr, 'xkcd:burnt sienna' ) #b04e0f\n",
    "plt.show();"
   ]
  },
  {
   "cell_type": "code",
   "execution_count": 7,
   "metadata": {},
   "outputs": [
    {
     "data": {
      "image/jpeg": "[encoded data removed]",
      "text/html": [
       "\n",
       "        <iframe\n",
       "            width=\"400\"\n",
       "            height=\"300\"\n",
       "            src=\"https://www.youtube.com/embed/UIKGV2cTgqA\"\n",
       "            frameborder=\"0\"\n",
       "            allowfullscreen\n",
       "        ></iframe>\n",
       "        "
      ],
      "text/plain": [
       "<IPython.lib.display.YouTubeVideo at 0x109fe9b38>"
      ]
     },
     "execution_count": 7,
     "metadata": {},
     "output_type": "execute_result"
    }
   ],
   "source": [
    "from IPython.display import YouTubeVideo\n",
    "YouTubeVideo(\"UIKGV2cTgqA\") "
   ]
  },
  {
   "cell_type": "markdown",
   "metadata": {},
   "source": [
    "[About Tom Lehrer on Wikipedia](https://en.wikipedia.org/wiki/Tom_Lehrer)\n",
    "\n",
    "#### Research Project:  Fastest Multiplication Methods\n",
    "\n",
    "[Mathematicians Discover the Perfect Way to Multiply](https://www.quantamagazine.org/mathematicians-discover-the-perfect-way-to-multiply-20190411/) by Kevin Hartnett, Senior Writer, April 11, 2019"
   ]
  },
  {
   "cell_type": "code",
   "execution_count": 8,
   "metadata": {},
   "outputs": [
    {
     "data": {
      "image/jpeg": "[encoded data removed]",
      "text/html": [
       "\n",
       "        <iframe\n",
       "            width=\"400\"\n",
       "            height=\"300\"\n",
       "            src=\"https://www.youtube.com/embed/FKGRc867j10\"\n",
       "            frameborder=\"0\"\n",
       "            allowfullscreen\n",
       "        ></iframe>\n",
       "        "
      ],
      "text/plain": [
       "<IPython.lib.display.YouTubeVideo at 0x109fe9048>"
      ]
     },
     "execution_count": 8,
     "metadata": {},
     "output_type": "execute_result"
    }
   ],
   "source": [
    "YouTubeVideo(\"FKGRc867j10\") "
   ]
  }
 ],
 "metadata": {
  "kernelspec": {
   "display_name": "Python 3",
   "language": "python",
   "name": "python3"
  },
  "language_info": {
   "codemirror_mode": {
    "name": "ipython",
    "version": 3
   },
   "file_extension": ".py",
   "mimetype": "text/x-python",
   "name": "python",
   "nbconvert_exporter": "python",
   "pygments_lexer": "ipython3",
   "version": "3.6.8"
  }
 },
 "nbformat": 4,
 "nbformat_minor": 2
}
