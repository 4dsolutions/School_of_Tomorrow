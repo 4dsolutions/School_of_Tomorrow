{
 "cells": [
  {
   "cell_type": "markdown",
   "metadata": {},
   "source": [
    "[Oregon Curriculum Network](http://4dsolutions.net/ocn/)\n",
    "\n",
    "[Home](School_of_Tomorrow.ipynb)\n",
    "\n",
    "# Arithmetic\n",
    "\n",
    "### COLOR CODING\n",
    "Most of what you'll want to know you will find in the School of Yesterday, although if you data mine in the recent past you might miss out on number bases.  \n",
    "\n",
    "Some elements within the Lower48 in North America, for example, perpetrated a base-10-only restrictum that many professionals ignored. \n",
    "\n",
    "Number bases, as a concept, need some focus and attention.\n",
    "\n",
    "#### Research Project:  Vocab\n",
    "\n",
    "* [Angle vs. Frequency](http://grunch.net/synergetics/terms.html)\n",
    "* [XKCD Color Names](https://xkcd.com/color/rgb/)\n",
    "\n",
    "![What is Color?](https://imgs.xkcd.com/comics/color_models.png)\n",
    "\n",
    "\n",
    "This work is licensed under a Creative Commons Attribution-NonCommercial 2.5 License.\n",
    "\n",
    "This means you're free to copy and share these comics (but not to sell them). More details.\n"
   ]
  },
  {
   "cell_type": "code",
   "execution_count": 1,
   "metadata": {},
   "outputs": [],
   "source": [
    "base10 = int('FF', 16) # in base 16 but give us decimal output (the default format)"
   ]
  },
  {
   "cell_type": "code",
   "execution_count": 2,
   "metadata": {},
   "outputs": [
    {
     "data": {
      "text/plain": [
       "255"
      ]
     },
     "execution_count": 2,
     "metadata": {},
     "output_type": "execute_result"
    }
   ],
   "source": [
    "base10"
   ]
  },
  {
   "cell_type": "code",
   "execution_count": 3,
   "metadata": {},
   "outputs": [
    {
     "data": {
      "text/plain": [
       "'0xff'"
      ]
     },
     "execution_count": 3,
     "metadata": {},
     "output_type": "execute_result"
    }
   ],
   "source": [
    "hex(base10)  # string output, with 0x prefix meaning hexadecimal"
   ]
  },
  {
   "cell_type": "code",
   "execution_count": 4,
   "metadata": {},
   "outputs": [
    {
     "data": {
      "text/plain": [
       "255"
      ]
     },
     "execution_count": 4,
     "metadata": {},
     "output_type": "execute_result"
    }
   ],
   "source": [
    "eval(hex(base10))"
   ]
  },
  {
   "cell_type": "code",
   "execution_count": 5,
   "metadata": {},
   "outputs": [
    {
     "data": {
      "image/png": "[encoded data removed]",
      "text/plain": [
       "<Figure size 288x288 with 16 Axes>"
      ]
     },
     "metadata": {},
     "output_type": "display_data"
    }
   ],
   "source": [
    "%matplotlib inline\n",
    "import matplotlib.pyplot as plt\n",
    "\n",
    "def make_squares(all_axes, the_color):\n",
    "    \"\"\"Side Effect City\"\"\"\n",
    "    all_axes = all_axes.ravel()\n",
    "    [axi.xaxis.set_visible(False) for axi in all_axes]\n",
    "    [axi.yaxis.set_visible(False) for axi in all_axes]\n",
    "    [axi.set_facecolor(the_color) for axi in all_axes]\n",
    "\n",
    "f, axarr = plt.subplots(4,4, figsize=(4,4), facecolor=(.18, .31, .31))\n",
    "make_squares(axarr, 'xkcd:salmon' ) #ff796c\n",
    "plt.show();"
   ]
  },
  {
   "cell_type": "code",
   "execution_count": 6,
   "metadata": {},
   "outputs": [
    {
     "data": {
      "image/png": "[encoded data removed]",
      "text/plain": [
       "<Figure size 288x288 with 16 Axes>"
      ]
     },
     "metadata": {},
     "output_type": "display_data"
    }
   ],
   "source": [
    "f, axarr = plt.subplots(4,4, figsize=(4,4), facecolor=(.18, .31, .31))\n",
    "make_squares(axarr, 'xkcd:burnt sienna' ) #b04e0f\n",
    "plt.show();"
   ]
  },
  {
   "cell_type": "code",
   "execution_count": 7,
   "metadata": {},
   "outputs": [
    {
     "data": {
      "image/jpeg": "[encoded data removed]",
      "text/html": [
       "\n",
       "        <iframe\n",
       "            width=\"400\"\n",
       "            height=\"300\"\n",
       "            src=\"https://www.youtube.com/embed/UIKGV2cTgqA\"\n",
       "            frameborder=\"0\"\n",
       "            allowfullscreen\n",
       "        ></iframe>\n",
       "        "
      ],
      "text/plain": [
       "<IPython.lib.display.YouTubeVideo at 0x105f8a518>"
      ]
     },
     "execution_count": 7,
     "metadata": {},
     "output_type": "execute_result"
    }
   ],
   "source": [
    "from IPython.display import YouTubeVideo\n",
    "YouTubeVideo(\"UIKGV2cTgqA\") "
   ]
  },
  {
   "cell_type": "markdown",
   "metadata": {},
   "source": [
    "[About Tom Lehrer on Wikipedia](https://en.wikipedia.org/wiki/Tom_Lehrer)\n",
    "\n",
    "#### Research Project:  Fastest Multiplication Methods\n",
    "\n",
    "[Mathematicians Discover the Perfect Way to Multiply](https://www.quantamagazine.org/mathematicians-discover-the-perfect-way-to-multiply-20190411/) by Kevin Hartnett, Senior Writer, April 11, 2019"
   ]
  },
  {
   "cell_type": "code",
   "execution_count": 8,
   "metadata": {},
   "outputs": [
    {
     "data": {
      "image/jpeg": "[encoded data removed]",
      "text/html": [
       "\n",
       "        <iframe\n",
       "            width=\"400\"\n",
       "            height=\"300\"\n",
       "            src=\"https://www.youtube.com/embed/FKGRc867j10\"\n",
       "            frameborder=\"0\"\n",
       "            allowfullscreen\n",
       "        ></iframe>\n",
       "        "
      ],
      "text/plain": [
       "<IPython.lib.display.YouTubeVideo at 0x105f8aef0>"
      ]
     },
     "execution_count": 8,
     "metadata": {},
     "output_type": "execute_result"
    }
   ],
   "source": [
    "YouTubeVideo(\"FKGRc867j10\") "
   ]
  },
  {
   "cell_type": "markdown",
   "metadata": {},
   "source": [
    "## PLOTTING\n",
    "\n",
    "A plot is what we also call a graph.  However Graph Theory has a meaning for graph worth giving the spotlight, so why waste two words for \"plotting\".  Now \"plot\" has other meanings as well, such as \"a grave in the cemetery\", \"the driving storyline\", \"a secret plan\".\n",
    "\n",
    "We use splots to graphically show relationships between co-variables such as x and y, as in:\n",
    "\n",
    "y = \"rule depending on x somehow\" \n",
    "\n",
    "Sometimes, in data mining textbooks of yesterday, you will see the notation \"f(x)\" = \"some expression involving x\" where \"f(x)\" is read as \"function of x\".  \n",
    "\n",
    "A formal mathematical definition of \"function\" includes the feature that it's deterministic in the following sense:  given all the same inputs (a point in n-d space perhaps), you always get precisely the same output, no exceptions.  f(2) gives 4 when f(x) = x + 2.  \n",
    "\n",
    "You're not allowed to change the base or basis, as that might indeed change the answer.  The base is considered part of the environment, nor are we permitted to change the meaning of ```__add__``` mid-stream, to make it mean \"modulo N\" as we might in cryptography.\n",
    "\n",
    "For more plotting, see [isotope decay](isotope_decay.ipynb)."
   ]
  },
  {
   "cell_type": "code",
   "execution_count": 9,
   "metadata": {},
   "outputs": [
    {
     "name": "stdout",
     "output_type": "stream",
     "text": [
      "func(6) returns 8\n"
     ]
    }
   ],
   "source": [
    "def func(x):\n",
    "    return x + 2\n",
    "\n",
    "x = the_input  = 6\n",
    "y = the_output = func(x)\n",
    "print(f\"func({x}) returns {y}\")"
   ]
  },
  {
   "cell_type": "code",
   "execution_count": 10,
   "metadata": {},
   "outputs": [
    {
     "name": "stdout",
     "output_type": "stream",
     "text": [
      "func(255) returns 257\n"
     ]
    }
   ],
   "source": [
    "x = the_input  = int('FF',16)\n",
    "y = the_output = eval(hex(func(x)))\n",
    "print(f\"func({x}) returns {y}\")"
   ]
  },
  {
   "cell_type": "markdown",
   "metadata": {},
   "source": [
    "Examples of a mathematical not-function (which we might still call a function in Python), are datetime.datetime.now(), datetime.date.today() and time.now().  \n",
    "\n",
    "These all depend on the current calendar time under the hood, meaning they read from the computer's clock.  However the clock is not shown as input.  Secret or hidden inputs, exposed to light, might turn an indeterministic process into a more deterministic one.  \n",
    "\n",
    "Once you learn what is happening behind the scenes, you are able to make your rule of thumb (some exceptions) into more of a generalized principle (truly exceptionless)."
   ]
  },
  {
   "cell_type": "code",
   "execution_count": 11,
   "metadata": {},
   "outputs": [
    {
     "name": "stdout",
     "output_type": "stream",
     "text": [
      "2019-06-07 12:28:12.591877\n",
      "2019-06-07\n",
      "5.353529\n"
     ]
    }
   ],
   "source": [
    "import datetime, time\n",
    "print(\n",
    "datetime.datetime.now(),\n",
    "datetime.date.today(),\n",
    "time.clock(),\n",
    "sep = \"\\n\")"
   ]
  },
  {
   "cell_type": "markdown",
   "metadata": {},
   "source": [
    "The code cell below is all about trying out different arguments in the sixteen cells (assuming 4 by 4 as the default -- you're free to change the code of course).  Lets experiment with marker sizes and shapes, and different vectorized, linear functions.\n",
    "\n",
    "A vectorized function is one trained to automatically apply to every element in any ndarray fed to it."
   ]
  },
  {
   "cell_type": "code",
   "execution_count": 12,
   "metadata": {},
   "outputs": [
    {
     "data": {
      "image/png": "[encoded data removed]",
      "text/plain": [
       "<Figure size 288x288 with 16 Axes>"
      ]
     },
     "metadata": {},
     "output_type": "display_data"
    }
   ],
   "source": [
    "import numpy as np\n",
    "vf = np.vectorize(func)\n",
    "\n",
    "domain1 = np.arange(0,1,0.1)\n",
    "domain2 = np.linspace(-1,1,10)\n",
    "\n",
    "fig, axarr = plt.subplots(4,4, figsize=(4,4), facecolor=(.18, .31, .31))\n",
    "make_squares(axarr, 'xkcd:burnt sienna' ) #b04e0f\n",
    "\n",
    "#=== ROW 0 ==========\n",
    "plt.sca(axarr[0,0])\n",
    "plt.scatter([0],[0])\n",
    "\n",
    "plt.sca(axarr[0,1])\n",
    "plt.scatter([0,1,10],[0,1,10])\n",
    "\n",
    "plt.sca(axarr[0,2])\n",
    "plt.scatter(domain1,domain1**2)\n",
    "\n",
    "plt.sca(axarr[0,3])\n",
    "plt.scatter(domain2,domain2**2)\n",
    "\n",
    "#=== ROW 1 ==========\n",
    "plt.sca(axarr[1,0])\n",
    "plt.scatter([0],[0], s=500, marker=\"^\")\n",
    "\n",
    "plt.sca(axarr[1,1])\n",
    "plt.scatter([0],[0], s=1000, marker=\"2\")\n",
    "\n",
    "plt.sca(axarr[1,2])\n",
    "plt.scatter([0],[0], s=1000, marker=\"s\")\n",
    "\n",
    "plt.sca(axarr[1,3])\n",
    "plt.scatter([0],[0], s=1000, marker=\"p\")\n",
    "\n",
    "#=== ROW 2 ==========\n",
    "plt.sca(axarr[2,0])\n",
    "plt.scatter([0],[0], s=500, marker=\"P\")\n",
    "\n",
    "plt.sca(axarr[2,1])\n",
    "plt.scatter([0],[0], s=1000, marker=\"+\")\n",
    "\n",
    "plt.sca(axarr[2,2])\n",
    "plt.scatter([0],[0], s=1000, marker=\"D\")\n",
    "\n",
    "plt.sca(axarr[2,3])\n",
    "plt.scatter([0],[0], s=1000, marker=\"d\")\n",
    "\n",
    "#=== ROW 3 ===========\n",
    "plt.sca(axarr[3,0])\n",
    "plt.scatter(np.array([0.1, 0.2]), np.array([0.5, 0.2]))\n",
    "\n",
    "plt.sca(axarr[3,1])\n",
    "plt.scatter(domain1, vf(domain1))\n",
    "\n",
    "plt.sca(axarr[3,2])\n",
    "plt.scatter(domain1, np.vectorize(lambda x: -x)(domain1));\n",
    "\n",
    "plt.sca(axarr[3,3])\n",
    "plt.scatter(domain1, np.vectorize(lambda x: 0)(domain1));"
   ]
  }
 ],
 "metadata": {
  "kernelspec": {
   "display_name": "Python 3",
   "language": "python",
   "name": "python3"
  },
  "language_info": {
   "codemirror_mode": {
    "name": "ipython",
    "version": 3
   },
   "file_extension": ".py",
   "mimetype": "text/x-python",
   "name": "python",
   "nbconvert_exporter": "python",
   "pygments_lexer": "ipython3",
   "version": "3.6.8"
  }
 },
 "nbformat": 4,
 "nbformat_minor": 2
}
