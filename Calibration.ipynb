{
 "cells": [
  {
   "cell_type": "code",
   "execution_count": 1,
   "id": "382bcd14-c58e-4c45-8de2-30fcc42b27bf",
   "metadata": {},
   "outputs": [],
   "source": [
    "import tetravolume as tv\n",
    "import flextegrity as fx\n",
    "import pandas as pd\n",
    "import numpy as np\n",
    "from importlib import reload\n",
    "import sympy\n",
    "from sympy import sqrt, Rational, Integer\n",
    "from qrays import Vector, Qvector\n",
    "import qrays"
   ]
  },
  {
   "cell_type": "code",
   "execution_count": 2,
   "id": "d63c806b-16c2-49b9-97c4-0fbf70be1a47",
   "metadata": {},
   "outputs": [],
   "source": [
    "DIAM = tv.DIAM = qrays.DIAM = tv.one\n",
    "RAD  = tv.RAD = qrays.RAD  = qrays.DIAM/tv.two"
   ]
  },
  {
   "cell_type": "code",
   "execution_count": 3,
   "id": "714a109e-53e1-486d-a2bc-f5b3addb9001",
   "metadata": {},
   "outputs": [
    {
     "name": "stdout",
     "output_type": "stream",
     "text": [
      "1 1 1/2 1/2\n"
     ]
    }
   ],
   "source": [
    "print(qrays.DIAM, tv.DIAM, qrays.RAD, tv.RAD)"
   ]
  },
  {
   "cell_type": "code",
   "execution_count": 4,
   "id": "ed5c5c40-75f8-4484-ba58-aebefa4bb361",
   "metadata": {},
   "outputs": [
    {
     "data": {
      "text/plain": [
       "flextegrity.Cube"
      ]
     },
     "execution_count": 4,
     "metadata": {},
     "output_type": "execute_result"
    }
   ],
   "source": [
    "fx.Cube"
   ]
  },
  {
   "cell_type": "code",
   "execution_count": 5,
   "id": "80aee1f1-b7f3-4306-896e-4c1163bf0620",
   "metadata": {},
   "outputs": [],
   "source": [
    "cu = fx.Cube()"
   ]
  },
  {
   "cell_type": "code",
   "execution_count": 6,
   "id": "19afe79d-8c6f-4589-bc61-23aa6e7f4904",
   "metadata": {},
   "outputs": [
    {
     "data": {
      "text/plain": [
       "{'a': ivm_vector(a=1, b=0, c=0, d=0),\n",
       " 'b': ivm_vector(a=0, b=1, c=0, d=0),\n",
       " 'c': ivm_vector(a=0, b=0, c=1, d=0),\n",
       " 'd': ivm_vector(a=0, b=0, c=0, d=1),\n",
       " 'e': ivm_vector(a=0, b=1, c=1, d=1),\n",
       " 'f': ivm_vector(a=1, b=0, c=1, d=1),\n",
       " 'g': ivm_vector(a=1, b=1, c=0, d=1),\n",
       " 'h': ivm_vector(a=1, b=1, c=1, d=0)}"
      ]
     },
     "execution_count": 6,
     "metadata": {},
     "output_type": "execute_result"
    }
   ],
   "source": [
    "cu.vertexes"
   ]
  },
  {
   "cell_type": "code",
   "execution_count": 7,
   "id": "25e14e78-eb0b-4991-a017-103b1f86d10b",
   "metadata": {},
   "outputs": [
    {
     "data": {
      "text/plain": [
       "(('a', 'f', 'c', 'h'),\n",
       " ('h', 'c', 'e', 'b'),\n",
       " ('b', 'e', 'd', 'g'),\n",
       " ('g', 'd', 'f', 'a'),\n",
       " ('c', 'f', 'd', 'e'),\n",
       " ('a', 'h', 'b', 'g'))"
      ]
     },
     "execution_count": 7,
     "metadata": {},
     "output_type": "execute_result"
    }
   ],
   "source": [
    "cu.faces"
   ]
  },
  {
   "cell_type": "code",
   "execution_count": 8,
   "id": "7fedb5ef-d4c1-40ef-a77e-e1a5c3018fd6",
   "metadata": {},
   "outputs": [
    {
     "data": {
      "text/plain": [
       "3"
      ]
     },
     "execution_count": 8,
     "metadata": {},
     "output_type": "execute_result"
    }
   ],
   "source": [
    "cu.volume "
   ]
  },
  {
   "cell_type": "code",
   "execution_count": 9,
   "id": "3ce25573-72b4-4e76-afea-51b7f99e388f",
   "metadata": {},
   "outputs": [
    {
     "data": {
      "text/latex": [
       "$\\displaystyle 1$"
      ],
      "text/plain": [
       "1"
      ]
     },
     "execution_count": 9,
     "metadata": {},
     "output_type": "execute_result"
    }
   ],
   "source": [
    "(cu.vertexes['a'] - cu.vertexes['c']).length() # face diagonal"
   ]
  },
  {
   "cell_type": "code",
   "execution_count": 10,
   "id": "f4907d1e-7dab-48f1-a67b-7c2e051fd3d5",
   "metadata": {},
   "outputs": [
    {
     "data": {
      "text/latex": [
       "$\\displaystyle \\frac{\\sqrt{2}}{2}$"
      ],
      "text/plain": [
       "sqrt(2)/2"
      ]
     },
     "execution_count": 10,
     "metadata": {},
     "output_type": "execute_result"
    }
   ],
   "source": [
    "(cu.vertexes['a'] - cu.vertexes['f']).length() # cube edge"
   ]
  },
  {
   "cell_type": "code",
   "execution_count": 11,
   "id": "e34ec499-4aef-4692-aa70-d6fd626aff5d",
   "metadata": {},
   "outputs": [
    {
     "data": {
      "text/plain": [
       "xyz_vector(x=sqrt(2)/4, y=sqrt(2)/4, z=sqrt(2)/4)"
      ]
     },
     "execution_count": 11,
     "metadata": {},
     "output_type": "execute_result"
    }
   ],
   "source": [
    "cu.vertexes['a'].xyz"
   ]
  },
  {
   "cell_type": "code",
   "execution_count": 12,
   "id": "72dc63de-df4a-415b-9c90-42d1c3c9347d",
   "metadata": {},
   "outputs": [],
   "source": [
    "cu2 = cu * (1/sqrt(2))  # shrink cube to edges 1D"
   ]
  },
  {
   "cell_type": "code",
   "execution_count": 13,
   "id": "90ebf323-8be4-43dd-8556-d996766ae7f8",
   "metadata": {},
   "outputs": [
    {
     "data": {
      "text/plain": [
       "{'a': ivm_vector(a=sqrt(2)/2, b=0, c=0, d=0),\n",
       " 'b': ivm_vector(a=0, b=sqrt(2)/2, c=0, d=0),\n",
       " 'c': ivm_vector(a=0, b=0, c=sqrt(2)/2, d=0),\n",
       " 'd': ivm_vector(a=0, b=0, c=0, d=sqrt(2)/2),\n",
       " 'e': ivm_vector(a=0, b=sqrt(2)/2, c=sqrt(2)/2, d=sqrt(2)/2),\n",
       " 'f': ivm_vector(a=sqrt(2)/2, b=0, c=sqrt(2)/2, d=sqrt(2)/2),\n",
       " 'g': ivm_vector(a=sqrt(2)/2, b=sqrt(2)/2, c=0, d=sqrt(2)/2),\n",
       " 'h': ivm_vector(a=sqrt(2)/2, b=sqrt(2)/2, c=sqrt(2)/2, d=0)}"
      ]
     },
     "execution_count": 13,
     "metadata": {},
     "output_type": "execute_result"
    }
   ],
   "source": [
    "cu2.vertexes"
   ]
  },
  {
   "cell_type": "code",
   "execution_count": 14,
   "id": "aa0ed5aa-2629-4a2d-bdb1-cacc0757584f",
   "metadata": {},
   "outputs": [],
   "source": [
    "D_is_1 = None\n",
    "D_is_2 = None\n",
    "if DIAM == 1:\n",
    "    D_is_1 = cu2.vertexes\n",
    "if DIAM == 2:\n",
    "    D_is_2 = cu2.vertexes"
   ]
  },
  {
   "cell_type": "code",
   "execution_count": 15,
   "id": "5933793e-a32c-43ea-8155-a2996a13cfbb",
   "metadata": {},
   "outputs": [
    {
     "data": {
      "text/plain": [
       "{'a': ivm_vector(a=sqrt(2)/2, b=0, c=0, d=0),\n",
       " 'b': ivm_vector(a=0, b=sqrt(2)/2, c=0, d=0),\n",
       " 'c': ivm_vector(a=0, b=0, c=sqrt(2)/2, d=0),\n",
       " 'd': ivm_vector(a=0, b=0, c=0, d=sqrt(2)/2),\n",
       " 'e': ivm_vector(a=0, b=sqrt(2)/2, c=sqrt(2)/2, d=sqrt(2)/2),\n",
       " 'f': ivm_vector(a=sqrt(2)/2, b=0, c=sqrt(2)/2, d=sqrt(2)/2),\n",
       " 'g': ivm_vector(a=sqrt(2)/2, b=sqrt(2)/2, c=0, d=sqrt(2)/2),\n",
       " 'h': ivm_vector(a=sqrt(2)/2, b=sqrt(2)/2, c=sqrt(2)/2, d=0)}"
      ]
     },
     "execution_count": 15,
     "metadata": {},
     "output_type": "execute_result"
    }
   ],
   "source": [
    "D_is_1"
   ]
  },
  {
   "cell_type": "code",
   "execution_count": 16,
   "id": "503df466-6ec3-4937-ad0f-4f18dff9036a",
   "metadata": {},
   "outputs": [],
   "source": [
    "D_is_2"
   ]
  },
  {
   "cell_type": "code",
   "execution_count": 17,
   "id": "9ca42d83-dd4a-48e6-b4a7-e69a8d5e8537",
   "metadata": {},
   "outputs": [
    {
     "data": {
      "text/latex": [
       "$\\displaystyle \\frac{1}{2}$"
      ],
      "text/plain": [
       "1/2"
      ]
     },
     "execution_count": 17,
     "metadata": {},
     "output_type": "execute_result"
    }
   ],
   "source": [
    "(cu2.vertexes['a'] - cu2.vertexes['f']).length() # R-edge cube"
   ]
  },
  {
   "cell_type": "code",
   "execution_count": 18,
   "id": "32987c9f-d6de-4470-a91b-1b5206eb2d8e",
   "metadata": {},
   "outputs": [
    {
     "data": {
      "text/plain": [
       "xyz_vector(x=1/4, y=1/4, z=1/4)"
      ]
     },
     "execution_count": 18,
     "metadata": {},
     "output_type": "execute_result"
    }
   ],
   "source": [
    "cu2.vertexes['a'].xyz"
   ]
  },
  {
   "cell_type": "code",
   "execution_count": 19,
   "id": "22a08f8e-e8ef-4390-9520-058d3ba45336",
   "metadata": {},
   "outputs": [
    {
     "data": {
      "text/plain": [
       "xyz_vector(x=1/4, y=1/4, z=-1/4)"
      ]
     },
     "execution_count": 19,
     "metadata": {},
     "output_type": "execute_result"
    }
   ],
   "source": [
    "cu2.vertexes['f'].xyz"
   ]
  },
  {
   "cell_type": "code",
   "execution_count": 20,
   "id": "3254d5bc-18df-4877-b660-a52706fdf9c3",
   "metadata": {},
   "outputs": [
    {
     "data": {
      "text/latex": [
       "$\\displaystyle 1.060660172$"
      ],
      "text/plain": [
       "1.060660172"
      ]
     },
     "execution_count": 20,
     "metadata": {},
     "output_type": "execute_result"
    }
   ],
   "source": [
    "cu2.volume.evalf(10)   # XYZ cube of edges 1 has Syn3 tetravolume"
   ]
  },
  {
   "cell_type": "code",
   "execution_count": 21,
   "id": "2bc3c293-aff3-4f1f-b21e-a4ec85099fc9",
   "metadata": {},
   "outputs": [
    {
     "data": {
      "text/latex": [
       "$\\displaystyle \\frac{\\sqrt{2}}{2}$"
      ],
      "text/plain": [
       "sqrt(2)/2"
      ]
     },
     "execution_count": 21,
     "metadata": {},
     "output_type": "execute_result"
    }
   ],
   "source": [
    "(cu2.vertexes['a'] - cu2.vertexes['c']).length()  # face diagonal"
   ]
  },
  {
   "cell_type": "code",
   "execution_count": 22,
   "id": "c12a6617-1d9e-4e18-b9c9-0cae50146be2",
   "metadata": {},
   "outputs": [
    {
     "data": {
      "text/latex": [
       "$\\displaystyle \\frac{\\sqrt{3}}{2}$"
      ],
      "text/plain": [
       "sqrt(3)/2"
      ]
     },
     "execution_count": 22,
     "metadata": {},
     "output_type": "execute_result"
    }
   ],
   "source": [
    "(cu2.vertexes['a'] - cu2.vertexes['e']).length()  # body diagonal of XYZ cube of edges R"
   ]
  },
  {
   "cell_type": "code",
   "execution_count": 23,
   "id": "1c04bf94-06d9-4b02-b46c-679f8e52ddc3",
   "metadata": {},
   "outputs": [
    {
     "data": {
      "text/latex": [
       "$\\displaystyle \\frac{\\sqrt{6}}{2}$"
      ],
      "text/plain": [
       "sqrt(6)/2"
      ]
     },
     "execution_count": 23,
     "metadata": {},
     "output_type": "execute_result"
    }
   ],
   "source": [
    "(cu.vertexes['a'] - cu.vertexes['e']).length()  # body diagonal of IVM cube of R"
   ]
  },
  {
   "cell_type": "code",
   "execution_count": 24,
   "id": "5a2f9c74-01e1-452d-8d4c-e5c2d94263a8",
   "metadata": {},
   "outputs": [
    {
     "data": {
      "text/plain": [
       "xyz_vector(x=sqrt(2)/4, y=sqrt(2)/4, z=sqrt(2)/4)"
      ]
     },
     "execution_count": 24,
     "metadata": {},
     "output_type": "execute_result"
    }
   ],
   "source": [
    "cu.vertexes['a'].xyz"
   ]
  },
  {
   "cell_type": "code",
   "execution_count": 25,
   "id": "def51dc7-db72-45e0-a94e-929f100bb824",
   "metadata": {},
   "outputs": [],
   "source": [
    "qA = cu.vertexes['a']\n",
    "qB = cu.vertexes['b']\n",
    "qC = cu.vertexes['c']\n",
    "qD = cu.vertexes['d']\n",
    "qE = cu.vertexes['e']\n",
    "qF = cu.vertexes['f']\n",
    "qG = cu.vertexes['g']\n",
    "qH = cu.vertexes['h']"
   ]
  },
  {
   "cell_type": "code",
   "execution_count": 26,
   "id": "91cd20de-da66-4f1c-af1d-58d9b74a6646",
   "metadata": {},
   "outputs": [
    {
     "data": {
      "text/latex": [
       "$\\displaystyle 1$"
      ],
      "text/plain": [
       "1"
      ]
     },
     "execution_count": 26,
     "metadata": {},
     "output_type": "execute_result"
    }
   ],
   "source": [
    "D = (qA - qB).length()\n",
    "D"
   ]
  },
  {
   "cell_type": "code",
   "execution_count": 27,
   "id": "375a733d-da5e-4978-be8f-aabdda7d4f6b",
   "metadata": {},
   "outputs": [
    {
     "data": {
      "text/latex": [
       "$\\displaystyle 1$"
      ],
      "text/plain": [
       "1"
      ]
     },
     "execution_count": 27,
     "metadata": {},
     "output_type": "execute_result"
    }
   ],
   "source": [
    "tv.Tetrahedron(D, D, D, D, D, D).ivm_volume()"
   ]
  },
  {
   "cell_type": "code",
   "execution_count": 28,
   "id": "96f71fcd-f469-43e5-8a0d-74ebfb9abb8b",
   "metadata": {},
   "outputs": [
    {
     "data": {
      "text/latex": [
       "$\\displaystyle 1$"
      ],
      "text/plain": [
       "1"
      ]
     },
     "execution_count": 28,
     "metadata": {},
     "output_type": "execute_result"
    }
   ],
   "source": [
    "tv.DIAM"
   ]
  },
  {
   "cell_type": "code",
   "execution_count": 29,
   "id": "5d524501-e385-46f9-a796-f820010a8eed",
   "metadata": {},
   "outputs": [
    {
     "data": {
      "text/latex": [
       "$\\displaystyle 0.9428090416$"
      ],
      "text/plain": [
       "0.9428090416"
      ]
     },
     "execution_count": 29,
     "metadata": {},
     "output_type": "execute_result"
    }
   ],
   "source": [
    "tv.Tetrahedron(D, D, D, D, D, D).xyz_volume().evalf(10)"
   ]
  },
  {
   "cell_type": "code",
   "execution_count": 30,
   "id": "2c2ad620-9870-40b8-a4e6-c87ff62291f0",
   "metadata": {},
   "outputs": [
    {
     "data": {
      "text/latex": [
       "$\\displaystyle 1$"
      ],
      "text/plain": [
       "1"
      ]
     },
     "execution_count": 30,
     "metadata": {},
     "output_type": "execute_result"
    }
   ],
   "source": [
    "qrays.DIAM"
   ]
  },
  {
   "cell_type": "code",
   "execution_count": 31,
   "id": "d9be4233-2ce4-442c-ae9a-1817b640b17f",
   "metadata": {},
   "outputs": [
    {
     "data": {
      "text/latex": [
       "$\\displaystyle \\frac{1}{2}$"
      ],
      "text/plain": [
       "1/2"
      ]
     },
     "execution_count": 31,
     "metadata": {},
     "output_type": "execute_result"
    }
   ],
   "source": [
    "R = qrays.RAD\n",
    "R"
   ]
  },
  {
   "cell_type": "code",
   "execution_count": 32,
   "id": "7c514a22-bac7-42ca-b654-3063f355b9eb",
   "metadata": {},
   "outputs": [
    {
     "data": {
      "text/latex": [
       "$\\displaystyle \\frac{1}{4}$"
      ],
      "text/plain": [
       "1/4"
      ]
     },
     "execution_count": 32,
     "metadata": {},
     "output_type": "execute_result"
    }
   ],
   "source": [
    "tv.make_tet(qA, qB, qC).ivm_volume()"
   ]
  },
  {
   "cell_type": "code",
   "execution_count": 33,
   "id": "e622ada6-1346-488e-b2f1-6538adf9655d",
   "metadata": {},
   "outputs": [
    {
     "data": {
      "text/latex": [
       "$\\displaystyle \\frac{\\sqrt{2}}{4}$"
      ],
      "text/plain": [
       "sqrt(2)/4"
      ]
     },
     "execution_count": 33,
     "metadata": {},
     "output_type": "execute_result"
    }
   ],
   "source": [
    "((qA + qB)/sympy.Integer(2)).length()"
   ]
  },
  {
   "cell_type": "code",
   "execution_count": 34,
   "id": "fb8e8779-e825-428b-9b49-90b4f41f8373",
   "metadata": {},
   "outputs": [],
   "source": [
    "v0 = cu2.vertexes['a'] - cu2.vertexes['h']\n",
    "v1 = cu2.vertexes['a'] - cu2.vertexes['f']\n",
    "v2 = cu2.vertexes['a'] - cu2.vertexes['g']"
   ]
  },
  {
   "cell_type": "code",
   "execution_count": 35,
   "id": "a39bf2ec-e20f-4796-9687-2c08da28411f",
   "metadata": {},
   "outputs": [
    {
     "data": {
      "text/plain": [
       "(xyz_vector(x=1/2, y=0, z=0),\n",
       " xyz_vector(x=0, y=0, z=1/2),\n",
       " xyz_vector(x=0, y=1/2, z=0))"
      ]
     },
     "execution_count": 35,
     "metadata": {},
     "output_type": "execute_result"
    }
   ],
   "source": [
    "v0.xyz, v1.xyz, v2.xyz"
   ]
  },
  {
   "cell_type": "code",
   "execution_count": 36,
   "id": "7111e0c9-91a3-433b-bb4d-9f01cb419d92",
   "metadata": {},
   "outputs": [
    {
     "data": {
      "text/latex": [
       "$\\displaystyle \\frac{1}{2}$"
      ],
      "text/plain": [
       "1/2"
      ]
     },
     "execution_count": 36,
     "metadata": {},
     "output_type": "execute_result"
    }
   ],
   "source": [
    "v0.length()"
   ]
  },
  {
   "cell_type": "code",
   "execution_count": 37,
   "id": "f5fd143a-1664-431f-a309-8690a989ea4d",
   "metadata": {},
   "outputs": [],
   "source": [
    "def test_octant(x, y, z):\n",
    "    tet = tv.make_tet(x,y,z)\n",
    "    return tet.xyz_volume()"
   ]
  },
  {
   "cell_type": "code",
   "execution_count": 38,
   "id": "7ddbba7b-8927-4233-ab46-be494d8f7531",
   "metadata": {},
   "outputs": [
    {
     "data": {
      "text/latex": [
       "$\\displaystyle \\frac{1}{2}$"
      ],
      "text/plain": [
       "1/2"
      ]
     },
     "execution_count": 38,
     "metadata": {},
     "output_type": "execute_result"
    }
   ],
   "source": [
    "RAD"
   ]
  },
  {
   "cell_type": "code",
   "execution_count": 39,
   "id": "ef312add-2199-427d-af09-0c5541b18af7",
   "metadata": {},
   "outputs": [],
   "source": [
    "def test_octant2():\n",
    "    x = (qE - qB) * (1/sqrt(tv.two))\n",
    "    y = (qE - qC) * (1/sqrt(tv.two))\n",
    "    z = (qE - qD) * (1/sqrt(tv.two))\n",
    "    tet = tv.make_tet(x,y,z)\n",
    "    return tet.xyz_volume()"
   ]
  },
  {
   "cell_type": "code",
   "execution_count": 40,
   "id": "a99312fa-3034-4d52-8b2a-e51e0ceb3e82",
   "metadata": {},
   "outputs": [
    {
     "data": {
      "text/latex": [
       "$\\displaystyle \\frac{1}{6}$"
      ],
      "text/plain": [
       "1/6"
      ]
     },
     "execution_count": 40,
     "metadata": {},
     "output_type": "execute_result"
    }
   ],
   "source": [
    "test_octant2()"
   ]
  },
  {
   "cell_type": "code",
   "execution_count": 41,
   "id": "2bc9b11b-0f30-4ddb-9845-e91f1cf6d095",
   "metadata": {},
   "outputs": [
    {
     "data": {
      "text/latex": [
       "$\\displaystyle \\frac{1}{2}$"
      ],
      "text/plain": [
       "1/2"
      ]
     },
     "execution_count": 41,
     "metadata": {},
     "output_type": "execute_result"
    }
   ],
   "source": [
    "e = RAD\n",
    "x = Vector((e, 0, 0))\n",
    "x.length()"
   ]
  },
  {
   "cell_type": "code",
   "execution_count": 42,
   "id": "d0ffc5c4-bab3-4ae8-8dd9-63b1737cda92",
   "metadata": {},
   "outputs": [
    {
     "data": {
      "text/latex": [
       "$\\displaystyle \\frac{1}{6}$"
      ],
      "text/plain": [
       "1/6"
      ]
     },
     "execution_count": 42,
     "metadata": {},
     "output_type": "execute_result"
    }
   ],
   "source": [
    "test_octant(v0, v1, v2)"
   ]
  },
  {
   "cell_type": "code",
   "execution_count": 43,
   "id": "69b07732-125d-45ea-a784-4d02fb926885",
   "metadata": {},
   "outputs": [
    {
     "data": {
      "text/latex": [
       "$\\displaystyle 1$"
      ],
      "text/plain": [
       "1"
      ]
     },
     "execution_count": 43,
     "metadata": {},
     "output_type": "execute_result"
    }
   ],
   "source": [
    "x = Vector((1, 0, 0))\n",
    "x.length()"
   ]
  },
  {
   "cell_type": "code",
   "execution_count": 44,
   "id": "d5447586-888a-44c9-be73-04440b0c5327",
   "metadata": {},
   "outputs": [
    {
     "data": {
      "text/latex": [
       "$\\displaystyle 1$"
      ],
      "text/plain": [
       "1"
      ]
     },
     "execution_count": 44,
     "metadata": {},
     "output_type": "execute_result"
    }
   ],
   "source": [
    "(qA-qB).length()"
   ]
  },
  {
   "cell_type": "code",
   "execution_count": 45,
   "id": "aca93d4b-3a39-43dd-9e22-11775dfc7007",
   "metadata": {},
   "outputs": [
    {
     "data": {
      "text/latex": [
       "$\\displaystyle 1$"
      ],
      "text/plain": [
       "1"
      ]
     },
     "execution_count": 45,
     "metadata": {},
     "output_type": "execute_result"
    }
   ],
   "source": [
    "Vector((1,0,0)).quadray().length()"
   ]
  },
  {
   "cell_type": "code",
   "execution_count": 46,
   "id": "f61476ef-1939-44b5-b58c-f23f29048e4b",
   "metadata": {},
   "outputs": [
    {
     "data": {
      "text/plain": [
       "ivm_vector(a=sqrt(2), b=0, c=0, d=sqrt(2))"
      ]
     },
     "execution_count": 46,
     "metadata": {},
     "output_type": "execute_result"
    }
   ],
   "source": [
    "Vector((1,0,0)).quadray()"
   ]
  },
  {
   "cell_type": "code",
   "execution_count": 47,
   "id": "e0ebe927-2e70-4b85-b327-55b1a0ba3b01",
   "metadata": {},
   "outputs": [],
   "source": [
    "def test_phi_tet():\n",
    "    \"edges from common vertex: phi, 1/phi, 1\"\n",
    "    two = Integer(2)\n",
    "    one = Integer(1)\n",
    "    p = Qvector((two,one,0,one))\n",
    "    q = Qvector((two,one,one,0))\n",
    "    r = Qvector((two,0,one,one))\n",
    "    result = tv.make_tet(p * tv.PHI, q * (1/tv.PHI), r)\n",
    "    return result.ivm_volume()"
   ]
  },
  {
   "cell_type": "code",
   "execution_count": 48,
   "id": "8b1775ed-73f1-4cf2-bbcc-27c6edd09a79",
   "metadata": {},
   "outputs": [],
   "source": [
    "r = test_phi_tet()"
   ]
  },
  {
   "cell_type": "code",
   "execution_count": 49,
   "id": "0eafb438-5fc1-43b1-a69b-1080a9d89a45",
   "metadata": {},
   "outputs": [
    {
     "data": {
      "text/latex": [
       "$\\displaystyle 1.0$"
      ],
      "text/plain": [
       "1.000000000"
      ]
     },
     "execution_count": 49,
     "metadata": {},
     "output_type": "execute_result"
    }
   ],
   "source": [
    "r.evalf(10)"
   ]
  },
  {
   "cell_type": "code",
   "execution_count": 59,
   "id": "80770254-c01c-4156-add5-479a659314ea",
   "metadata": {},
   "outputs": [],
   "source": [
    "DIAM = tv.DIAM = qrays.DIAM = tv.one\n",
    "RAD  = tv.RAD = qrays.RAD  = qrays.DIAM/tv.two"
   ]
  },
  {
   "cell_type": "code",
   "execution_count": 60,
   "id": "130921fe-c61e-4299-87b3-98b4fc98fc5b",
   "metadata": {},
   "outputs": [],
   "source": [
    "def test_xyz_area1():\n",
    "    v1 = Vector((2, 0, 0))\n",
    "    v2 = Vector((0, 2, 0))\n",
    "    print((v1-v2).length())\n",
    "    tri = tv.make_tri(v1, v2)\n",
    "    return tri.xyz_area().evalf()\n",
    "\n",
    "def test_xyz_area2():\n",
    "    v1 = Vector((1, 0, 0))\n",
    "    v2 = Vector((0, 1, 0))\n",
    "    print((v1-v2).length())\n",
    "    tri = tv.make_tri(v1, v2)\n",
    "    return tri.xyz_area().evalf()"
   ]
  },
  {
   "cell_type": "code",
   "execution_count": 61,
   "id": "dfef29f8-afdd-4e7a-974a-d9f5e78a500a",
   "metadata": {},
   "outputs": [
    {
     "data": {
      "text/latex": [
       "$\\displaystyle 1$"
      ],
      "text/plain": [
       "1"
      ]
     },
     "execution_count": 61,
     "metadata": {},
     "output_type": "execute_result"
    }
   ],
   "source": [
    "tv.DIAM"
   ]
  },
  {
   "cell_type": "code",
   "execution_count": 62,
   "id": "c8b8f80f-8a82-4384-bbc2-ac4243d6fe23",
   "metadata": {},
   "outputs": [
    {
     "data": {
      "text/latex": [
       "$\\displaystyle \\frac{1}{2}$"
      ],
      "text/plain": [
       "1/2"
      ]
     },
     "execution_count": 62,
     "metadata": {},
     "output_type": "execute_result"
    }
   ],
   "source": [
    "RAD"
   ]
  },
  {
   "cell_type": "code",
   "execution_count": 63,
   "id": "de95b764-b2bc-4527-9b8a-6772d99f8243",
   "metadata": {},
   "outputs": [
    {
     "name": "stdout",
     "output_type": "stream",
     "text": [
      "2*sqrt(2)\n"
     ]
    },
    {
     "data": {
      "text/latex": [
       "$\\displaystyle 8.0$"
      ],
      "text/plain": [
       "8.00000000000000"
      ]
     },
     "execution_count": 63,
     "metadata": {},
     "output_type": "execute_result"
    }
   ],
   "source": [
    "test_xyz_area1()"
   ]
  },
  {
   "cell_type": "code",
   "execution_count": 64,
   "id": "1a6642a0-a69f-49c3-ac71-a7ba17b5969f",
   "metadata": {},
   "outputs": [
    {
     "name": "stdout",
     "output_type": "stream",
     "text": [
      "sqrt(2)\n"
     ]
    },
    {
     "data": {
      "text/latex": [
       "$\\displaystyle 2.0$"
      ],
      "text/plain": [
       "2.00000000000000"
      ]
     },
     "execution_count": 64,
     "metadata": {},
     "output_type": "execute_result"
    }
   ],
   "source": [
    "test_xyz_area2()"
   ]
  },
  {
   "cell_type": "code",
   "execution_count": 65,
   "id": "0d7efabe-f339-4ce6-976a-7e8336534bc4",
   "metadata": {},
   "outputs": [],
   "source": [
    "DIAM = tv.DIAM = qrays.DIAM = tv.two\n",
    "RAD  = tv.RAD = qrays.RAD  = qrays.DIAM/tv.two"
   ]
  },
  {
   "cell_type": "code",
   "execution_count": 66,
   "id": "3a72f57f-89a7-4b47-9a89-1acf5d30d82e",
   "metadata": {},
   "outputs": [
    {
     "name": "stdout",
     "output_type": "stream",
     "text": [
      "4*sqrt(2)\n"
     ]
    },
    {
     "data": {
      "text/latex": [
       "$\\displaystyle 8.0$"
      ],
      "text/plain": [
       "8.00000000000000"
      ]
     },
     "execution_count": 66,
     "metadata": {},
     "output_type": "execute_result"
    }
   ],
   "source": [
    "test_xyz_area1()"
   ]
  },
  {
   "cell_type": "code",
   "execution_count": 67,
   "id": "2a2b3c6f-3e14-42e8-9a64-692e1effb094",
   "metadata": {},
   "outputs": [
    {
     "name": "stdout",
     "output_type": "stream",
     "text": [
      "2*sqrt(2)\n"
     ]
    },
    {
     "data": {
      "text/latex": [
       "$\\displaystyle 2.0$"
      ],
      "text/plain": [
       "2.00000000000000"
      ]
     },
     "execution_count": 67,
     "metadata": {},
     "output_type": "execute_result"
    }
   ],
   "source": [
    "test_xyz_area2()"
   ]
  },
  {
   "cell_type": "code",
   "execution_count": null,
   "id": "d10f5343-e96f-4af3-afd7-a871140dca9c",
   "metadata": {},
   "outputs": [],
   "source": []
  }
 ],
 "metadata": {
  "kernelspec": {
   "display_name": "Python 3 (ipykernel)",
   "language": "python",
   "name": "python3"
  },
  "language_info": {
   "codemirror_mode": {
    "name": "ipython",
    "version": 3
   },
   "file_extension": ".py",
   "mimetype": "text/x-python",
   "name": "python",
   "nbconvert_exporter": "python",
   "pygments_lexer": "ipython3",
   "version": "3.11.3"
  }
 },
 "nbformat": 4,
 "nbformat_minor": 5
}
