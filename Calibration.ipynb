{
 "cells": [
  {
   "cell_type": "code",
   "execution_count": 96,
   "id": "382bcd14-c58e-4c45-8de2-30fcc42b27bf",
   "metadata": {},
   "outputs": [],
   "source": [
    "import tetravolume as tv\n",
    "import flextegrity as fx\n",
    "import pandas as pd\n",
    "import numpy as np\n",
    "from importlib import reload\n",
    "import sympy\n",
    "from sympy import sqrt, Rational, Integer\n",
    "from qrays import Vector, Qvector\n",
    "import qrays"
   ]
  },
  {
   "cell_type": "code",
   "execution_count": 131,
   "id": "d63c806b-16c2-49b9-97c4-0fbf70be1a47",
   "metadata": {},
   "outputs": [],
   "source": [
    "DIAM = tv.DIAM = qrays.DIAM = tv.two\n",
    "RAD  = tv.RAD = qrays.RAD  = qrays.DIAM/tv.two"
   ]
  },
  {
   "cell_type": "code",
   "execution_count": 132,
   "id": "714a109e-53e1-486d-a2bc-f5b3addb9001",
   "metadata": {},
   "outputs": [
    {
     "name": "stdout",
     "output_type": "stream",
     "text": [
      "2 2 1 1\n"
     ]
    }
   ],
   "source": [
    "print(qrays.DIAM, tv.DIAM, qrays.RAD, tv.RAD)"
   ]
  },
  {
   "cell_type": "code",
   "execution_count": 133,
   "id": "ed5c5c40-75f8-4484-ba58-aebefa4bb361",
   "metadata": {},
   "outputs": [
    {
     "data": {
      "text/plain": [
       "flextegrity.Cube"
      ]
     },
     "execution_count": 133,
     "metadata": {},
     "output_type": "execute_result"
    }
   ],
   "source": [
    "fx.Cube"
   ]
  },
  {
   "cell_type": "code",
   "execution_count": 134,
   "id": "80aee1f1-b7f3-4306-896e-4c1163bf0620",
   "metadata": {},
   "outputs": [],
   "source": [
    "cu = fx.Cube()"
   ]
  },
  {
   "cell_type": "code",
   "execution_count": 135,
   "id": "19afe79d-8c6f-4589-bc61-23aa6e7f4904",
   "metadata": {},
   "outputs": [
    {
     "data": {
      "text/plain": [
       "{'a': ivm_vector(a=1, b=0, c=0, d=0),\n",
       " 'b': ivm_vector(a=0, b=1, c=0, d=0),\n",
       " 'c': ivm_vector(a=0, b=0, c=1, d=0),\n",
       " 'd': ivm_vector(a=0, b=0, c=0, d=1),\n",
       " 'e': ivm_vector(a=0, b=1, c=1, d=1),\n",
       " 'f': ivm_vector(a=1, b=0, c=1, d=1),\n",
       " 'g': ivm_vector(a=1, b=1, c=0, d=1),\n",
       " 'h': ivm_vector(a=1, b=1, c=1, d=0)}"
      ]
     },
     "execution_count": 135,
     "metadata": {},
     "output_type": "execute_result"
    }
   ],
   "source": [
    "cu.vertexes"
   ]
  },
  {
   "cell_type": "code",
   "execution_count": 136,
   "id": "25e14e78-eb0b-4991-a017-103b1f86d10b",
   "metadata": {},
   "outputs": [
    {
     "data": {
      "text/plain": [
       "(('a', 'f', 'c', 'h'),\n",
       " ('h', 'c', 'e', 'b'),\n",
       " ('b', 'e', 'd', 'g'),\n",
       " ('g', 'd', 'f', 'a'),\n",
       " ('c', 'f', 'd', 'e'),\n",
       " ('a', 'h', 'b', 'g'))"
      ]
     },
     "execution_count": 136,
     "metadata": {},
     "output_type": "execute_result"
    }
   ],
   "source": [
    "cu.faces"
   ]
  },
  {
   "cell_type": "code",
   "execution_count": 137,
   "id": "7fedb5ef-d4c1-40ef-a77e-e1a5c3018fd6",
   "metadata": {},
   "outputs": [
    {
     "data": {
      "text/plain": [
       "3"
      ]
     },
     "execution_count": 137,
     "metadata": {},
     "output_type": "execute_result"
    }
   ],
   "source": [
    "cu.volume "
   ]
  },
  {
   "cell_type": "code",
   "execution_count": 138,
   "id": "3ce25573-72b4-4e76-afea-51b7f99e388f",
   "metadata": {},
   "outputs": [
    {
     "data": {
      "text/latex": [
       "$\\displaystyle 2$"
      ],
      "text/plain": [
       "2"
      ]
     },
     "execution_count": 138,
     "metadata": {},
     "output_type": "execute_result"
    }
   ],
   "source": [
    "(cu.vertexes['a'] - cu.vertexes['c']).length() # face diagonal"
   ]
  },
  {
   "cell_type": "code",
   "execution_count": 164,
   "id": "f4907d1e-7dab-48f1-a67b-7c2e051fd3d5",
   "metadata": {},
   "outputs": [
    {
     "data": {
      "text/latex": [
       "$\\displaystyle \\sqrt{2}$"
      ],
      "text/plain": [
       "sqrt(2)"
      ]
     },
     "execution_count": 164,
     "metadata": {},
     "output_type": "execute_result"
    }
   ],
   "source": [
    "(cu.vertexes['a'] - cu.vertexes['f']).length() # cube edge"
   ]
  },
  {
   "cell_type": "code",
   "execution_count": 165,
   "id": "e34ec499-4aef-4692-aa70-d6fd626aff5d",
   "metadata": {},
   "outputs": [
    {
     "data": {
      "text/plain": [
       "xyz_vector(x=sqrt(2)/4, y=sqrt(2)/4, z=sqrt(2)/4)"
      ]
     },
     "execution_count": 165,
     "metadata": {},
     "output_type": "execute_result"
    }
   ],
   "source": [
    "cu.vertexes['a'].xyz"
   ]
  },
  {
   "cell_type": "code",
   "execution_count": 166,
   "id": "72dc63de-df4a-415b-9c90-42d1c3c9347d",
   "metadata": {},
   "outputs": [],
   "source": [
    "cu2 = cu * (1/sqrt(2))  # shrink cube to edges 1D"
   ]
  },
  {
   "cell_type": "code",
   "execution_count": 167,
   "id": "9ca42d83-dd4a-48e6-b4a7-e69a8d5e8537",
   "metadata": {},
   "outputs": [
    {
     "data": {
      "text/latex": [
       "$\\displaystyle 1$"
      ],
      "text/plain": [
       "1"
      ]
     },
     "execution_count": 167,
     "metadata": {},
     "output_type": "execute_result"
    }
   ],
   "source": [
    "(cu2.vertexes['a'] - cu2.vertexes['f']).length() # R-edge cube"
   ]
  },
  {
   "cell_type": "code",
   "execution_count": 168,
   "id": "32987c9f-d6de-4470-a91b-1b5206eb2d8e",
   "metadata": {},
   "outputs": [
    {
     "data": {
      "text/plain": [
       "xyz_vector(x=1/4, y=1/4, z=1/4)"
      ]
     },
     "execution_count": 168,
     "metadata": {},
     "output_type": "execute_result"
    }
   ],
   "source": [
    "cu2.vertexes['a'].xyz"
   ]
  },
  {
   "cell_type": "code",
   "execution_count": 169,
   "id": "22a08f8e-e8ef-4390-9520-058d3ba45336",
   "metadata": {},
   "outputs": [
    {
     "data": {
      "text/plain": [
       "xyz_vector(x=1/4, y=1/4, z=-1/4)"
      ]
     },
     "execution_count": 169,
     "metadata": {},
     "output_type": "execute_result"
    }
   ],
   "source": [
    "cu2.vertexes['f'].xyz"
   ]
  },
  {
   "cell_type": "code",
   "execution_count": 145,
   "id": "3254d5bc-18df-4877-b660-a52706fdf9c3",
   "metadata": {},
   "outputs": [
    {
     "data": {
      "text/latex": [
       "$\\displaystyle 1.060660172$"
      ],
      "text/plain": [
       "1.060660172"
      ]
     },
     "execution_count": 145,
     "metadata": {},
     "output_type": "execute_result"
    }
   ],
   "source": [
    "cu2.volume.evalf(10)   # XYZ cube of edges 1 has Syn3 tetravolume"
   ]
  },
  {
   "cell_type": "code",
   "execution_count": 146,
   "id": "2bc3c293-aff3-4f1f-b21e-a4ec85099fc9",
   "metadata": {},
   "outputs": [
    {
     "data": {
      "text/latex": [
       "$\\displaystyle \\sqrt{2}$"
      ],
      "text/plain": [
       "sqrt(2)"
      ]
     },
     "execution_count": 146,
     "metadata": {},
     "output_type": "execute_result"
    }
   ],
   "source": [
    "(cu2.vertexes['a'] - cu2.vertexes['c']).length()  # face diagonal"
   ]
  },
  {
   "cell_type": "code",
   "execution_count": 147,
   "id": "c12a6617-1d9e-4e18-b9c9-0cae50146be2",
   "metadata": {},
   "outputs": [
    {
     "data": {
      "text/latex": [
       "$\\displaystyle \\sqrt{3}$"
      ],
      "text/plain": [
       "sqrt(3)"
      ]
     },
     "execution_count": 147,
     "metadata": {},
     "output_type": "execute_result"
    }
   ],
   "source": [
    "(cu2.vertexes['a'] - cu2.vertexes['e']).length()  # body diagonal of XYZ cube of edges R"
   ]
  },
  {
   "cell_type": "code",
   "execution_count": 148,
   "id": "1c04bf94-06d9-4b02-b46c-679f8e52ddc3",
   "metadata": {},
   "outputs": [
    {
     "data": {
      "text/latex": [
       "$\\displaystyle \\sqrt{6}$"
      ],
      "text/plain": [
       "sqrt(6)"
      ]
     },
     "execution_count": 148,
     "metadata": {},
     "output_type": "execute_result"
    }
   ],
   "source": [
    "(cu.vertexes['a'] - cu.vertexes['e']).length()  # body diagonal of IVM cube of R"
   ]
  },
  {
   "cell_type": "code",
   "execution_count": 149,
   "id": "5a2f9c74-01e1-452d-8d4c-e5c2d94263a8",
   "metadata": {},
   "outputs": [
    {
     "data": {
      "text/plain": [
       "xyz_vector(x=sqrt(2)/4, y=sqrt(2)/4, z=sqrt(2)/4)"
      ]
     },
     "execution_count": 149,
     "metadata": {},
     "output_type": "execute_result"
    }
   ],
   "source": [
    "cu.vertexes['a'].xyz"
   ]
  },
  {
   "cell_type": "code",
   "execution_count": 150,
   "id": "def51dc7-db72-45e0-a94e-929f100bb824",
   "metadata": {},
   "outputs": [],
   "source": [
    "qA = cu.vertexes['a']\n",
    "qB = cu.vertexes['b']\n",
    "qC = cu.vertexes['c']\n",
    "qD = cu.vertexes['d']"
   ]
  },
  {
   "cell_type": "code",
   "execution_count": 151,
   "id": "91cd20de-da66-4f1c-af1d-58d9b74a6646",
   "metadata": {},
   "outputs": [
    {
     "data": {
      "text/latex": [
       "$\\displaystyle 2$"
      ],
      "text/plain": [
       "2"
      ]
     },
     "execution_count": 151,
     "metadata": {},
     "output_type": "execute_result"
    }
   ],
   "source": [
    "D = (qA - qB).length()\n",
    "D"
   ]
  },
  {
   "cell_type": "code",
   "execution_count": 152,
   "id": "375a733d-da5e-4978-be8f-aabdda7d4f6b",
   "metadata": {},
   "outputs": [
    {
     "data": {
      "text/latex": [
       "$\\displaystyle 1$"
      ],
      "text/plain": [
       "1"
      ]
     },
     "execution_count": 152,
     "metadata": {},
     "output_type": "execute_result"
    }
   ],
   "source": [
    "tv.Tetrahedron(D, D, D, D, D, D).ivm_volume()"
   ]
  },
  {
   "cell_type": "code",
   "execution_count": 153,
   "id": "96f71fcd-f469-43e5-8a0d-74ebfb9abb8b",
   "metadata": {},
   "outputs": [
    {
     "data": {
      "text/latex": [
       "$\\displaystyle 2$"
      ],
      "text/plain": [
       "2"
      ]
     },
     "execution_count": 153,
     "metadata": {},
     "output_type": "execute_result"
    }
   ],
   "source": [
    "tv.DIAM"
   ]
  },
  {
   "cell_type": "code",
   "execution_count": 154,
   "id": "5d524501-e385-46f9-a796-f820010a8eed",
   "metadata": {},
   "outputs": [
    {
     "data": {
      "text/latex": [
       "$\\displaystyle 0.9428090416$"
      ],
      "text/plain": [
       "0.9428090416"
      ]
     },
     "execution_count": 154,
     "metadata": {},
     "output_type": "execute_result"
    }
   ],
   "source": [
    "tv.Tetrahedron(D, D, D, D, D, D).xyz_volume().evalf(10)"
   ]
  },
  {
   "cell_type": "code",
   "execution_count": 155,
   "id": "2c2ad620-9870-40b8-a4e6-c87ff62291f0",
   "metadata": {},
   "outputs": [
    {
     "data": {
      "text/latex": [
       "$\\displaystyle 2$"
      ],
      "text/plain": [
       "2"
      ]
     },
     "execution_count": 155,
     "metadata": {},
     "output_type": "execute_result"
    }
   ],
   "source": [
    "qrays.DIAM"
   ]
  },
  {
   "cell_type": "code",
   "execution_count": 156,
   "id": "d9be4233-2ce4-442c-ae9a-1817b640b17f",
   "metadata": {},
   "outputs": [
    {
     "data": {
      "text/latex": [
       "$\\displaystyle 1$"
      ],
      "text/plain": [
       "1"
      ]
     },
     "execution_count": 156,
     "metadata": {},
     "output_type": "execute_result"
    }
   ],
   "source": [
    "R = qrays.RAD\n",
    "R"
   ]
  },
  {
   "cell_type": "code",
   "execution_count": 157,
   "id": "7c514a22-bac7-42ca-b654-3063f355b9eb",
   "metadata": {},
   "outputs": [
    {
     "data": {
      "text/latex": [
       "$\\displaystyle \\frac{1}{4}$"
      ],
      "text/plain": [
       "1/4"
      ]
     },
     "execution_count": 157,
     "metadata": {},
     "output_type": "execute_result"
    }
   ],
   "source": [
    "tv.make_tet(qA, qB, qC).ivm_volume()"
   ]
  },
  {
   "cell_type": "code",
   "execution_count": 158,
   "id": "e622ada6-1346-488e-b2f1-6538adf9655d",
   "metadata": {},
   "outputs": [
    {
     "data": {
      "text/latex": [
       "$\\displaystyle \\frac{\\sqrt{2}}{2}$"
      ],
      "text/plain": [
       "sqrt(2)/2"
      ]
     },
     "execution_count": 158,
     "metadata": {},
     "output_type": "execute_result"
    }
   ],
   "source": [
    "((qA + qB)/sympy.Integer(2)).length()"
   ]
  },
  {
   "cell_type": "code",
   "execution_count": 176,
   "id": "fb8e8779-e825-428b-9b49-90b4f41f8373",
   "metadata": {},
   "outputs": [],
   "source": [
    "v0 = cu2.vertexes['a'] - cu2.vertexes['h']\n",
    "v1 = cu2.vertexes['a'] - cu2.vertexes['f']\n",
    "v2 = cu2.vertexes['a'] - cu2.vertexes['g']"
   ]
  },
  {
   "cell_type": "code",
   "execution_count": 182,
   "id": "a39bf2ec-e20f-4796-9687-2c08da28411f",
   "metadata": {},
   "outputs": [
    {
     "data": {
      "text/plain": [
       "(xyz_vector(x=1/2, y=0, z=0),\n",
       " xyz_vector(x=0, y=0, z=1/2),\n",
       " xyz_vector(x=0, y=1/2, z=0))"
      ]
     },
     "execution_count": 182,
     "metadata": {},
     "output_type": "execute_result"
    }
   ],
   "source": [
    "v0.xyz, v1.xyz, v2.xyz"
   ]
  },
  {
   "cell_type": "code",
   "execution_count": 180,
   "id": "f5fd143a-1664-431f-a309-8690a989ea4d",
   "metadata": {},
   "outputs": [],
   "source": [
    "def test_octant(x, y, z):\n",
    "    tet = tv.make_tet(x,y,z)\n",
    "    return tet.xyz_volume()"
   ]
  },
  {
   "cell_type": "code",
   "execution_count": 163,
   "id": "7ddbba7b-8927-4233-ab46-be494d8f7531",
   "metadata": {},
   "outputs": [
    {
     "data": {
      "text/latex": [
       "$\\displaystyle 1$"
      ],
      "text/plain": [
       "1"
      ]
     },
     "execution_count": 163,
     "metadata": {},
     "output_type": "execute_result"
    }
   ],
   "source": [
    "RAD"
   ]
  },
  {
   "cell_type": "code",
   "execution_count": 183,
   "id": "2bc9b11b-0f30-4ddb-9845-e91f1cf6d095",
   "metadata": {},
   "outputs": [
    {
     "data": {
      "text/latex": [
       "$\\displaystyle 2$"
      ],
      "text/plain": [
       "2"
      ]
     },
     "execution_count": 183,
     "metadata": {},
     "output_type": "execute_result"
    }
   ],
   "source": [
    "e = RAD\n",
    "x = Vector((e, 0, 0))\n",
    "x.length()"
   ]
  },
  {
   "cell_type": "code",
   "execution_count": 184,
   "id": "d0ffc5c4-bab3-4ae8-8dd9-63b1737cda92",
   "metadata": {},
   "outputs": [
    {
     "data": {
      "text/latex": [
       "$\\displaystyle \\frac{1}{6}$"
      ],
      "text/plain": [
       "1/6"
      ]
     },
     "execution_count": 184,
     "metadata": {},
     "output_type": "execute_result"
    }
   ],
   "source": [
    "test_octant(v0, v1, v2)"
   ]
  },
  {
   "cell_type": "code",
   "execution_count": 185,
   "id": "69b07732-125d-45ea-a784-4d02fb926885",
   "metadata": {},
   "outputs": [
    {
     "data": {
      "text/latex": [
       "$\\displaystyle 2$"
      ],
      "text/plain": [
       "2"
      ]
     },
     "execution_count": 185,
     "metadata": {},
     "output_type": "execute_result"
    }
   ],
   "source": [
    "x = Vector((1, 0, 0))\n",
    "x.length()"
   ]
  },
  {
   "cell_type": "code",
   "execution_count": 186,
   "id": "d5447586-888a-44c9-be73-04440b0c5327",
   "metadata": {},
   "outputs": [
    {
     "data": {
      "text/latex": [
       "$\\displaystyle 2$"
      ],
      "text/plain": [
       "2"
      ]
     },
     "execution_count": 186,
     "metadata": {},
     "output_type": "execute_result"
    }
   ],
   "source": [
    "(qA-qB).length()"
   ]
  },
  {
   "cell_type": "code",
   "execution_count": 187,
   "id": "aca93d4b-3a39-43dd-9e22-11775dfc7007",
   "metadata": {},
   "outputs": [
    {
     "data": {
      "text/latex": [
       "$\\displaystyle 2$"
      ],
      "text/plain": [
       "2"
      ]
     },
     "execution_count": 187,
     "metadata": {},
     "output_type": "execute_result"
    }
   ],
   "source": [
    "Vector((1,0,0)).quadray().length()"
   ]
  },
  {
   "cell_type": "code",
   "execution_count": 188,
   "id": "f61476ef-1939-44b5-b58c-f23f29048e4b",
   "metadata": {},
   "outputs": [
    {
     "data": {
      "text/plain": [
       "ivm_vector(a=sqrt(2), b=0, c=0, d=sqrt(2))"
      ]
     },
     "execution_count": 188,
     "metadata": {},
     "output_type": "execute_result"
    }
   ],
   "source": [
    "Vector((1,0,0)).quadray()"
   ]
  }
 ],
 "metadata": {
  "kernelspec": {
   "display_name": "Python 3 (ipykernel)",
   "language": "python",
   "name": "python3"
  },
  "language_info": {
   "codemirror_mode": {
    "name": "ipython",
    "version": 3
   },
   "file_extension": ".py",
   "mimetype": "text/x-python",
   "name": "python",
   "nbconvert_exporter": "python",
   "pygments_lexer": "ipython3",
   "version": "3.11.3"
  }
 },
 "nbformat": 4,
 "nbformat_minor": 5
}
