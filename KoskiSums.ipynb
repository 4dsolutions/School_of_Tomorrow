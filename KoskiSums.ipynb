{
 "cells": [
  {
   "cell_type": "markdown",
   "id": "bd06312f-a5d4-4a37-b9e3-dc6526a3071c",
   "metadata": {},
   "source": [
    "# Koski Sums\n",
    "\n",
    "The sympy simplifier, on its own, just makes baroque expressions, but if confronted with $\\sqrt{2}$ and $\\sqrt{3}$ as equalities, [as suggested on StackOverFlow](https://stackoverflow.com/questions/37112738/sympy-comparing-expressions#37115190), the identities are confirmed."
   ]
  },
  {
   "cell_type": "code",
   "execution_count": 1,
   "id": "1c685ef6-3d88-44b0-8af9-324aa3f7ca7d",
   "metadata": {},
   "outputs": [],
   "source": [
    "import sympy as sym"
   ]
  },
  {
   "cell_type": "code",
   "execution_count": 2,
   "id": "62dfe70e-e5c4-402d-adb9-30b3ba671fcb",
   "metadata": {},
   "outputs": [],
   "source": [
    "phi = (sym.sqrt(5)+1)/2"
   ]
  },
  {
   "cell_type": "code",
   "execution_count": 3,
   "id": "08fcaee2-f137-428d-ac15-fe02ec5b6e08",
   "metadata": {},
   "outputs": [
    {
     "data": {
      "text/latex": [
       "$\\displaystyle \\frac{1}{2} + \\frac{\\sqrt{5}}{2}$"
      ],
      "text/plain": [
       "1/2 + sqrt(5)/2"
      ]
     },
     "execution_count": 3,
     "metadata": {},
     "output_type": "execute_result"
    }
   ],
   "source": [
    "phi"
   ]
  },
  {
   "cell_type": "code",
   "execution_count": 8,
   "id": "434a3938-ca65-466c-8e40-c7bcdadea44d",
   "metadata": {},
   "outputs": [
    {
     "data": {
      "text/latex": [
       "$\\displaystyle \\sqrt{\\frac{1}{\\left(\\frac{1}{2} + \\frac{\\sqrt{5}}{2}\\right)^{2}} + \\frac{1}{2} + \\frac{\\sqrt{5}}{2}}$"
      ],
      "text/plain": [
       "sqrt((1/2 + sqrt(5)/2)**(-2) + 1/2 + sqrt(5)/2)"
      ]
     },
     "execution_count": 8,
     "metadata": {},
     "output_type": "execute_result"
    }
   ],
   "source": [
    "e = sym.sqrt(phi + phi**-2)\n",
    "e"
   ]
  },
  {
   "cell_type": "code",
   "execution_count": 10,
   "id": "ebdad85c-f683-4aa4-93b7-05c049d66909",
   "metadata": {},
   "outputs": [
    {
     "data": {
      "text/latex": [
       "$\\displaystyle - \\frac{\\sqrt{\\sqrt{5} + 3}}{2} + \\frac{\\sqrt{5} \\sqrt{\\sqrt{5} + 3}}{2}$"
      ],
      "text/plain": [
       "-sqrt(sqrt(5) + 3)/2 + sqrt(5)*sqrt(sqrt(5) + 3)/2"
      ]
     },
     "execution_count": 10,
     "metadata": {},
     "output_type": "execute_result"
    }
   ],
   "source": [
    "sym.simplify(e)"
   ]
  },
  {
   "cell_type": "code",
   "execution_count": 15,
   "id": "c540b099-1eb6-435f-92a3-7a2dc57357ab",
   "metadata": {},
   "outputs": [
    {
     "data": {
      "text/latex": [
       "$\\displaystyle 1.4142135623730950488016887242096980785696718753769$"
      ],
      "text/plain": [
       "1.4142135623730950488016887242096980785696718753769"
      ]
     },
     "execution_count": 15,
     "metadata": {},
     "output_type": "execute_result"
    }
   ],
   "source": [
    "e.evalf(50)"
   ]
  },
  {
   "cell_type": "code",
   "execution_count": 14,
   "id": "fb65bb9c-33f5-47a9-aaf8-0793159b60c1",
   "metadata": {},
   "outputs": [
    {
     "data": {
      "text/latex": [
       "$\\displaystyle 1.4142135623730950488016887242096980785696718753769$"
      ],
      "text/plain": [
       "1.4142135623730950488016887242096980785696718753769"
      ]
     },
     "execution_count": 14,
     "metadata": {},
     "output_type": "execute_result"
    }
   ],
   "source": [
    "sym.N(sym.sqrt(2), 50)"
   ]
  },
  {
   "cell_type": "code",
   "execution_count": 17,
   "id": "c8b8c8da-6401-451a-8e9f-77473144652a",
   "metadata": {},
   "outputs": [
    {
     "data": {
      "text/latex": [
       "$\\displaystyle 0$"
      ],
      "text/plain": [
       "0"
      ]
     },
     "execution_count": 17,
     "metadata": {},
     "output_type": "execute_result"
    }
   ],
   "source": [
    "sym.simplify(e - sym.sqrt(2))"
   ]
  },
  {
   "cell_type": "code",
   "execution_count": 18,
   "id": "93090737-cc80-47ca-9120-0379f8487c22",
   "metadata": {},
   "outputs": [
    {
     "data": {
      "text/latex": [
       "$\\displaystyle \\sqrt{\\frac{1}{\\left(\\frac{1}{2} + \\frac{\\sqrt{5}}{2}\\right)^{2}} + \\left(\\frac{1}{2} + \\frac{\\sqrt{5}}{2}\\right)^{2}}$"
      ],
      "text/plain": [
       "sqrt((1/2 + sqrt(5)/2)**(-2) + (1/2 + sqrt(5)/2)**2)"
      ]
     },
     "execution_count": 18,
     "metadata": {},
     "output_type": "execute_result"
    }
   ],
   "source": [
    "e2 = sym.sqrt(phi**2 + phi**-2)\n",
    "e2"
   ]
  },
  {
   "cell_type": "code",
   "execution_count": 19,
   "id": "ad201a52-f62d-4992-b789-1b2b5f74d12c",
   "metadata": {},
   "outputs": [
    {
     "data": {
      "text/latex": [
       "$\\displaystyle 1.7320508075688772935274463415058723669428052538104$"
      ],
      "text/plain": [
       "1.7320508075688772935274463415058723669428052538104"
      ]
     },
     "execution_count": 19,
     "metadata": {},
     "output_type": "execute_result"
    }
   ],
   "source": [
    "e2.evalf(50)"
   ]
  },
  {
   "cell_type": "code",
   "execution_count": 20,
   "id": "b40b44e8-3306-4bcf-9b70-33a6e9976f36",
   "metadata": {},
   "outputs": [
    {
     "data": {
      "text/latex": [
       "$\\displaystyle 1.7320508075688772935274463415058723669428052538104$"
      ],
      "text/plain": [
       "1.7320508075688772935274463415058723669428052538104"
      ]
     },
     "execution_count": 20,
     "metadata": {},
     "output_type": "execute_result"
    }
   ],
   "source": [
    "sym.N(sym.sqrt(3), 50)"
   ]
  },
  {
   "cell_type": "code",
   "execution_count": 21,
   "id": "8828771d-463f-4ef3-974b-ce92195ae247",
   "metadata": {},
   "outputs": [
    {
     "data": {
      "text/latex": [
       "$\\displaystyle 0$"
      ],
      "text/plain": [
       "0"
      ]
     },
     "execution_count": 21,
     "metadata": {},
     "output_type": "execute_result"
    }
   ],
   "source": [
    "sym.simplify(e2 - sym.sqrt(3))"
   ]
  },
  {
   "cell_type": "code",
   "execution_count": 22,
   "id": "d4f7d14d-53ba-4712-bfa8-4fb072865718",
   "metadata": {},
   "outputs": [
    {
     "data": {
      "text/latex": [
       "$\\displaystyle \\sqrt{\\frac{1}{\\left(\\frac{1}{2} + \\frac{\\sqrt{5}}{2}\\right)^{2}} + \\left(\\frac{1}{2} + \\frac{\\sqrt{5}}{2}\\right)^{2}}$"
      ],
      "text/plain": [
       "sqrt((1/2 + sqrt(5)/2)**(-2) + (1/2 + sqrt(5)/2)**2)"
      ]
     },
     "execution_count": 22,
     "metadata": {},
     "output_type": "execute_result"
    }
   ],
   "source": [
    "e2"
   ]
  },
  {
   "cell_type": "code",
   "execution_count": 24,
   "id": "50ce0685-c3e2-4caf-8817-6d6e117a77bb",
   "metadata": {},
   "outputs": [
    {
     "data": {
      "text/latex": [
       "$\\displaystyle - \\frac{\\sqrt{6 \\sqrt{5} + 18}}{4} + \\frac{\\sqrt{5} \\sqrt{6 \\sqrt{5} + 18}}{4}$"
      ],
      "text/plain": [
       "-sqrt(6*sqrt(5) + 18)/4 + sqrt(5)*sqrt(6*sqrt(5) + 18)/4"
      ]
     },
     "execution_count": 24,
     "metadata": {},
     "output_type": "execute_result"
    }
   ],
   "source": [
    "sym.simplify(e2)"
   ]
  },
  {
   "cell_type": "code",
   "execution_count": 25,
   "id": "43466cbe-2d8a-423b-a10a-4eabeb2f1a32",
   "metadata": {},
   "outputs": [
    {
     "data": {
      "text/plain": [
       "True"
      ]
     },
     "execution_count": 25,
     "metadata": {},
     "output_type": "execute_result"
    }
   ],
   "source": [
    "e.equals(sym.sqrt(2))"
   ]
  },
  {
   "cell_type": "code",
   "execution_count": 26,
   "id": "d218c157-241e-475f-aec7-870900ef26aa",
   "metadata": {},
   "outputs": [
    {
     "data": {
      "text/plain": [
       "True"
      ]
     },
     "execution_count": 26,
     "metadata": {},
     "output_type": "execute_result"
    }
   ],
   "source": [
    "e2.equals(sym.sqrt(3))"
   ]
  }
 ],
 "metadata": {
  "kernelspec": {
   "display_name": "Python 3 (ipykernel)",
   "language": "python",
   "name": "python3"
  },
  "language_info": {
   "codemirror_mode": {
    "name": "ipython",
    "version": 3
   },
   "file_extension": ".py",
   "mimetype": "text/x-python",
   "name": "python",
   "nbconvert_exporter": "python",
   "pygments_lexer": "ipython3",
   "version": "3.9.12"
  }
 },
 "nbformat": 4,
 "nbformat_minor": 5
}
