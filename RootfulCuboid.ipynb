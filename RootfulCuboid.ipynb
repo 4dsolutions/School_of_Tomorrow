{
 "cells": [
  {
   "cell_type": "markdown",
   "id": "1d48e20d",
   "metadata": {},
   "source": [
    "# The Rootful Cuboid\n",
    "\n",
    "#### by Kirby Urner and David Koski\n",
    "\n",
    "<a data-flickr-embed=\"true\" href=\"https://www.flickr.com/photos/kirbyurner/51493063586/in/dateposted-public/\" title=\"cuboid\"><img src=\"https://live.staticflickr.com/65535/51493063586_d7576b6cab_o.jpg\" width=\"321\" height=\"321\" alt=\"cuboid\"></a><script async src=\"//embedr.flickr.com/assets/client-code.js\" charset=\"utf-8\"></script>\n",
    "\n",
    "A round of applause for this David Koski discovery, perhaps known to nomads, but missing from contemporary popularizations: \n",
    "\n",
    "The cuboid of height, width, depth $\\sqrt{1}$ $\\sqrt{2}$ $\\sqrt{4}$, and face diagonals $\\sqrt{3}$ $\\sqrt{5}$ $\\sqrt{6}$ and body diagonal  $\\sqrt{7}$.  \n",
    "\n",
    "That's a parellelopiped with an inscribed tetrahedron of only face diagonals, and four right tetrahedrons each involving a corner and three right angles.  \n",
    "\n",
    "The inscribed tetrahedron will have a volume 1/3rd that of the paralleopiped, with the corner tetrahedrons each having 1/6th that total volume. This is a generic truth for parallelopipeds.\n",
    "\n",
    "Lets label the two ends of the cuboic (brick) ABCD counter-clockwise with EFGH at the other end, and matching A with E, B with F and so on, such that the six faces of the cuboid are:  \n",
    "\n",
    "* ABCD, EFGH (parallel front/back)\n",
    "* AEFB, DHGF (parallel sides)\n",
    "* ADHE, BCGF (parallel top/bottom)\n",
    "\n",
    "The convention for naming edges is to write the two corner points alphabetically, to keep them unique.  We write AB, but not BA, as these describe the same edge and we want a unique canonical identifier for each one."
   ]
  },
  {
   "cell_type": "code",
   "execution_count": 1,
   "id": "baf1d87a",
   "metadata": {},
   "outputs": [],
   "source": [
    "from math import sqrt as rt2\n",
    "\n",
    "# cuboid\n",
    "AB = EF = CD = GH = rt2(1)/2\n",
    "AD = BC = FG = EH = rt2(2)/2\n",
    "AC = BD = EG = FH = rt2(3)/2\n",
    "AE = BF = CG = DH = rt2(4)/2\n",
    "AF = BE = CH = DG = rt2(5)/2\n",
    "AH = BG = CF = DE = rt2(6)/2\n",
    "AG = BH = CE = DF = rt2(7)/2"
   ]
  },
  {
   "cell_type": "markdown",
   "id": "300ffeff",
   "metadata": {},
   "source": [
    "Enter our frame of reference made of unit radius spheres packed in the CCP interconnected by IVM vectors.  Four such spheres packed together define a tetrahedron of edges one sphere diameter (D), or twice the radius (R).  \n",
    "\n",
    "<a data-flickr-embed=\"true\" href=\"https://www.flickr.com/photos/kirbyurner/4949801610/in/photolist-2m29ojG-5DsYaY-2i3qGpP-8EDNfx-8xp2z5-6wUiRq\" title=\"Sphere Packing\"><img src=\"https://live.staticflickr.com/4146/4949801610_da3fc94b2c_n.jpg\" width=\"240\" height=\"320\" alt=\"Sphere Packing\"></a><script async src=\"//embedr.flickr.com/assets/client-code.js\" charset=\"utf-8\"></script>\n",
    "\n",
    "If we wish our home base tetrahedron of edges one, to have volume one, then set we set our unit length to D (= 2 R).\n",
    "\n",
    "The reason for scaling the entire cuboid describe above by 1/2 is to imagine we're going from R as unit length to D as unit length.  Every length gets halved, and the result is an inscribed tetradron of unit tetravolume, the same as our reference tetrahedron's, even though this one is irregular.\n",
    "\n",
    "The transformation from XYZ volume to IVM volume is baked into the constant S3, such that we sometimes say \"XYZ volume times S3 gives IVM volume\" with 1/S3 used to go the other direction.  S3 = $\\sqrt{9/8}$ or $(3\\sqrt{2})/4$."
   ]
  },
  {
   "cell_type": "code",
   "execution_count": 2,
   "id": "5d9f46b8",
   "metadata": {
    "tags": []
   },
   "outputs": [],
   "source": [
    "import tetravolume as tv"
   ]
  },
  {
   "cell_type": "markdown",
   "id": "bc5a53bb",
   "metadata": {},
   "source": [
    "The volume method used below takes the six lengths of a tetrahedron as input.  \n",
    "\n",
    "Order matters.  \n",
    "\n",
    "Pick a corner, any corner, of the tetrahedron, and start with the three lengths stemming from that corner, to the corners of the opposite face.  \n",
    "\n",
    "Then provide the segments around the opposite face, in the same order mentioned.\n",
    "\n",
    "For example, given tetrahedron ABCD, lets pick A and go AB, AC, AD.  \n",
    "\n",
    "The opposite face is BCD and the lengths should be in the order mentioned the first time i.e. B first, so B-to-C, C-to-D and D-back-to-B i.e. BC, CD, BD.  \n",
    "\n",
    "Remember how edges have a unique representation and we write BD versus DB, because B is before D alphabetically."
   ]
  },
  {
   "cell_type": "code",
   "execution_count": 3,
   "id": "9f797d34",
   "metadata": {},
   "outputs": [],
   "source": [
    "unit_vol = tv.Tetrahedron(1, 1, 1, 1, 1, 1) # reference tetrahedron"
   ]
  },
  {
   "cell_type": "code",
   "execution_count": 4,
   "id": "d9f01311",
   "metadata": {},
   "outputs": [
    {
     "data": {
      "text/plain": [
       "1.0"
      ]
     },
     "execution_count": 4,
     "metadata": {},
     "output_type": "execute_result"
    }
   ],
   "source": [
    "unit_vol.ivm_volume()"
   ]
  },
  {
   "cell_type": "code",
   "execution_count": 5,
   "id": "d0634997",
   "metadata": {},
   "outputs": [
    {
     "data": {
      "text/plain": [
       "1.0"
      ]
     },
     "execution_count": 5,
     "metadata": {},
     "output_type": "execute_result"
    }
   ],
   "source": [
    "ACHF = tv.Tetrahedron(AC, AH, AF, CH, FH, CF) # inscribed tetrahedron, all face diagonals\n",
    "ACHF.ivm_volume()"
   ]
  },
  {
   "cell_type": "code",
   "execution_count": 6,
   "id": "4282a1f3",
   "metadata": {
    "tags": []
   },
   "outputs": [],
   "source": [
    "S3 = rt2(9/8)"
   ]
  },
  {
   "cell_type": "code",
   "execution_count": 7,
   "id": "7a1b3f70",
   "metadata": {},
   "outputs": [
    {
     "data": {
      "text/plain": [
       "0.9428090415820635"
      ]
     },
     "execution_count": 7,
     "metadata": {},
     "output_type": "execute_result"
    }
   ],
   "source": [
    "ACHF.xyz_volume()"
   ]
  },
  {
   "cell_type": "code",
   "execution_count": 8,
   "id": "de099ab1",
   "metadata": {},
   "outputs": [
    {
     "data": {
      "text/plain": [
       "0.5"
      ]
     },
     "execution_count": 8,
     "metadata": {},
     "output_type": "execute_result"
    }
   ],
   "source": [
    "AEDB = tv.Tetrahedron(AB, AE, AD, BE, DE, BD) # right angles at A\n",
    "AEDB.ivm_volume()"
   ]
  },
  {
   "cell_type": "code",
   "execution_count": 9,
   "id": "6b07aa03",
   "metadata": {},
   "outputs": [
    {
     "data": {
      "text/plain": [
       "0.49999999999999956"
      ]
     },
     "execution_count": 9,
     "metadata": {},
     "output_type": "execute_result"
    }
   ],
   "source": [
    "ABCE = tv.Tetrahedron(AB, AC, AE, BC, CE, BE) # right angles at B\n",
    "ABCE.ivm_volume()"
   ]
  },
  {
   "cell_type": "code",
   "execution_count": 10,
   "id": "ced99476",
   "metadata": {},
   "outputs": [
    {
     "data": {
      "text/plain": [
       "0.5"
      ]
     },
     "execution_count": 10,
     "metadata": {},
     "output_type": "execute_result"
    }
   ],
   "source": [
    "ACDH = tv.Tetrahedron(AD, CD, DH, AC, CH, AH)  # right angles at H\n",
    "ACDH.ivm_volume()"
   ]
  },
  {
   "cell_type": "code",
   "execution_count": 11,
   "id": "ec73744d",
   "metadata": {},
   "outputs": [
    {
     "data": {
      "text/plain": [
       "0.5"
      ]
     },
     "execution_count": 11,
     "metadata": {},
     "output_type": "execute_result"
    }
   ],
   "source": [
    "FGHC = tv.Tetrahedron(FG, GH, CG, FH, CH, CF) # right angles at G\n",
    "FGHC.ivm_volume()"
   ]
  },
  {
   "cell_type": "code",
   "execution_count": 12,
   "id": "ceadff77",
   "metadata": {},
   "outputs": [
    {
     "data": {
      "text/plain": [
       "0.5"
      ]
     },
     "execution_count": 12,
     "metadata": {},
     "output_type": "execute_result"
    }
   ],
   "source": [
    "ABCF = tv.Tetrahedron(AB, AC, AF, BC, CF, BF) # includes body diagonal\n",
    "ABCF.ivm_volume()"
   ]
  },
  {
   "cell_type": "markdown",
   "id": "a204630f",
   "metadata": {},
   "source": [
    "## Generating the POV-Ray Graphic\n",
    "\n",
    "The ```flextegrity.py``` and ```qrays.py``` files provide the necessary dependencies for generating the requiste scene description language.  Here's the code:"
   ]
  },
  {
   "cell_type": "code",
   "execution_count": 13,
   "id": "563bf951",
   "metadata": {},
   "outputs": [],
   "source": [
    "# %load cuboid.py\n",
    "#!/usr/bin/env python3\n",
    "\"\"\"\n",
    "Created on Sun Sep 19 10:46:45 2021\n",
    "\n",
    "@author: Kirby Urner\n",
    "\"\"\"\n",
    "\n",
    "from flextegrity import pov_header, Cuboid, \\\n",
    "    draw_poly, Octahedron, Cube\n",
    "\n",
    "with open(\"cuboid.pov\", \"w\") as target:\n",
    "    target.write(pov_header)\n",
    "    cuboid = Cuboid() * 0.5\n",
    "    octa = Octahedron()\n",
    "    cube = Cube()\n",
    "    draw_poly(cuboid, target)\n",
    "    draw_poly(octa, target)\n",
    "    draw_poly(cube, target)"
   ]
  },
  {
   "cell_type": "markdown",
   "id": "48f23007",
   "metadata": {},
   "source": [
    "But what does Cuboid, the class, look like internally.  We can check it out here:\n",
    "\n",
    "```python\n",
    "\n",
    "    class Cuboid (Polyhedron):\n",
    "        \"\"\"\n",
    "        Cuboid with height, width, depth = sqrt(1), sqrt(2), sqrt(4)\n",
    "        \"\"\"\n",
    "\n",
    "        def __init__(self):\n",
    "            # POV-Ray\n",
    "            self.edge_color = \"rgb <255/255, 20/255, 147/255>\"\n",
    "            self.edge_radius= 0.03\n",
    "            self.vert_color = \"rgb <255/255, 20/255, 147/255>\"\n",
    "            self.vert_radius= 0.03\n",
    "            self.face_color = \"rgb <0, 0, 0>\"\n",
    "\n",
    "            verts = {}\n",
    "            verts['A'] = Vector(( 1,  0.5,  math.sqrt(2)/2))\n",
    "            verts['B'] = Vector(( 1, -0.5,  math.sqrt(2)/2))       \n",
    "            verts['C'] = Vector(( 1, -0.5, -math.sqrt(2)/2))        \n",
    "            verts['D'] = Vector(( 1,  0.5, -math.sqrt(2)/2))\n",
    "            verts['E'] = Vector((-1,  0.5,  math.sqrt(2)/2))\n",
    "            verts['F'] = Vector((-1, -0.5,  math.sqrt(2)/2))\n",
    "            verts['G'] = Vector((-1, -0.5, -math.sqrt(2)/2))\n",
    "            verts['H'] = Vector((-1,  0.5, -math.sqrt(2)/2))\n",
    "\n",
    "            self.name = \"Cuboid\"\n",
    "            self.volume = 8  # per Concentric Hierarchy\n",
    "            self.center = ORIGIN\n",
    "\n",
    "            # 8 vertices\n",
    "            self.vertexes = verts\n",
    "\n",
    "            # 6 faces\n",
    "            self.faces = (('A','B','C','D'),('E','F','G','H'),\n",
    "                          ('A','E','F','B'),('D','H','G','C'),\n",
    "                          ('A','E','H','D'),('B','F','G','C'))\n",
    "\n",
    "        self.edges = self._distill()\n",
    "```"
   ]
  },
  {
   "cell_type": "markdown",
   "id": "66b2d908",
   "metadata": {},
   "source": [
    "This time we're using ordinary XYZ Vectors, not Quadrays or Qvectors.  Per the cuboid program, the final Polyhedron is scaled down by 1/2 to have it fit more neatly into our canonical hierarchy of polyhedrons."
   ]
  },
  {
   "cell_type": "markdown",
   "id": "48f747f5",
   "metadata": {},
   "source": [
    "After the target file is written, a .pov file, we may then render it using the povray raytracing engine."
   ]
  },
  {
   "cell_type": "code",
   "execution_count": 14,
   "id": "d003436a",
   "metadata": {},
   "outputs": [
    {
     "name": "stdout",
     "output_type": "stream",
     "text": [
      "Persistence of Vision(tm) Ray Tracer Version 3.7.0.8.unofficial (clang++ 4.2.1 @\n",
      " x86_64-apple-darwin14.5.0)\n",
      "This is an unofficial version compiled by:\n",
      " homebrew\n",
      " The POV-Ray Team is not responsible for supporting this version.\n",
      "\n",
      "POV-Ray is based on DKBTrace 2.12 by David K. Buck & Aaron A. Collins\n",
      "Copyright 1991-2013 Persistence of Vision Raytracer Pty. Ltd.\n",
      "\n",
      "Primary POV-Ray 3.7 Architects/Developers: (Alphabetically)\n",
      "  Chris Cason         Thorsten Froehlich  Christoph Lipka   \n",
      "\n",
      "With Assistance From: (Alphabetically)\n",
      "  Nicolas Calimet     Jerome Grimbert     James Holsenback    Christoph Hormann \n",
      "  Nathan Kopp         Juha Nieminen     \n",
      "\n",
      "Past Contributors: (Alphabetically)\n",
      "  Steve Anger         Eric Barish         Dieter Bayer        David K. Buck     \n",
      "  Nicolas Calimet     Chris Cason         Aaron A. Collins    Chris Dailey      \n",
      "  Steve Demlow        Andreas Dilger      Alexander Enzmann   Dan Farmer        \n",
      "  Thorsten Froehlich  Mark Gordon         James Holsenback    Christoph Hormann \n",
      "  Mike Hough          Chris Huff          Kari Kivisalo       Nathan Kopp       \n",
      "  Lutz Kretzschmar    Christoph Lipka     Jochen Lippert      Pascal Massimino  \n",
      "  Jim McElhiney       Douglas Muir        Juha Nieminen       Ron Parker        \n",
      "  Bill Pulver         Eduard Schwan       Wlodzimierz Skiba   Robert Skinner    \n",
      "  Yvo Smellenbergh    Zsolt Szalavari     Scott Taylor        Massimo Valentini \n",
      "  Timothy Wegner      Drew Wells          Chris Young       \n",
      "\n",
      "Other contributors are listed in the documentation.\n",
      "\n",
      "Support libraries used by POV-Ray:\n",
      "  ZLib 1.2.5, Copyright 1995-2012 Jean-loup Gailly and Mark Adler\n",
      "  LibPNG 1.6.37, Copyright 1998-2012 Glenn Randers-Pehrson\n",
      "  LibJPEG 90, Copyright 1991-2013 Thomas G. Lane, Guido Vollbeding\n",
      "  LibTIFF 4.3.0, Copyright 1988-1997 Sam Leffler, 1991-1997 SGI\n",
      "  Boost 1.70, http://www.boost.org/\n",
      "\n",
      "Parser Options\n",
      "  Input file: cuboid.pov\n",
      "  Remove bounds........On \n",
      "  Split unions.........Off\n",
      "  Library paths:\n",
      "    /usr/local/Cellar/povray/3.7.0.8_1/share/povray-3.7\n",
      "    /usr/local/Cellar/povray/3.7.0.8_1/share/povray-3.7/ini\n",
      "    /usr/local/Cellar/povray/3.7.0.8_1/share/povray-3.7/include\n",
      "  Clock value:    0.000  (Animation off)\n",
      "Image Output Options\n",
      "  Image resolution.....1024 by 768 (rows 1 to 768, columns 1 to 1024).\n",
      "  Output file..........cuboid.png, 24 bpp PNG\n",
      "  Dithering............Off\n",
      "  Graphic display......On  (gamma: sRGB)\n",
      "  Mosaic preview.......Off\n",
      "  Continued trace......Off\n",
      "Information Output Options\n",
      "  All Streams to console..........On \n",
      "  Debug Stream to console.........On \n",
      "  Fatal Stream to console.........On \n",
      "  Render Stream to console........On \n",
      "  Statistics Stream to console....On \n",
      "  Warning Stream to console.......On \n",
      "==== [Parsing...] ==========================================================\n",
      "Parse Warning: This scene had other declarations preceding the first #version\n",
      " directive. Please be aware that as of POV-Ray 3.7, unless already specified via\n",
      " an INI option, a #version is expected as the first declaration in a scene file.\n",
      " If this is not done, POV-Ray may apply compatibility settings to some features\n",
      " that are intended to make pre-3.7 scenes render as designed. You are strongly\n",
      " encouraged to add a #version statement to the scene to make your intent clear.\n",
      " Future versions of POV-Ray may make the presence of a #version mandatory.\n",
      "----------------------------------------------------------------------------\n",
      "Parser Statistics\n",
      "----------------------------------------------------------------------------\n",
      "Finite Objects:           58\n",
      "Infinite Objects:          0\n",
      "Light Sources:             2\n",
      "Total:                    60\n",
      "----------------------------------------------------------------------------\n",
      "Parser Time\n",
      "  Parse Time:       0 hours  0 minutes  0 seconds (0.031 seconds)\n",
      "              using 1 thread(s) with 0.-01 CPU-seconds total\n",
      "  Bounding Time:    0 hours  0 minutes  0 seconds (0.000 seconds)\n",
      "              using 1 thread(s) with 0.-01 CPU-seconds total\n",
      "----------------------------------------------------------------------------\n",
      "Render Options\n",
      "  Quality:  9\n",
      "  Bounding boxes.......On   Bounding threshold: 3\n",
      "  Antialiasing.........On  (Method 1, Threshold 0.300, Depth 3, Jitter 1.00,\n",
      " Gamma 2.50)\n",
      "==== [Rendering...] ========================================================\n",
      "Rendered 786432 of 786432 pixels (100%)\n",
      "----------------------------------------------------------------------------\n",
      "Render Statistics\n",
      "Image Resolution 1024 x 768\n",
      "----------------------------------------------------------------------------\n",
      "Pixels:           835584   Samples:           94086   Smpls/Pxl: 0.11\n",
      "Rays:             929670   Saved:                 0   Max Level: 1/5\n",
      "----------------------------------------------------------------------------\n",
      "Ray->Shape Intersection          Tests       Succeeded  Percentage\n",
      "----------------------------------------------------------------------------\n",
      "Cone/Cylinder                   372085          109666     29.47\n",
      "Sphere                            8128            3112     38.29\n",
      "Bounding Box                   9922847         2508100     25.28\n",
      "----------------------------------------------------------------------------\n",
      "Shadow Ray Tests:            102260   Succeeded:                     0\n",
      "----------------------------------------------------------------------------\n",
      "----------------------------------------------------------------------------\n",
      "Render Time:\n",
      "  Photon Time:      No photons\n",
      "  Radiosity Time:   No radiosity\n",
      "  Trace Time:       0 hours  0 minutes  2 seconds (2.468 seconds)\n",
      "              using 2 thread(s) with 0.-02 CPU-seconds total\n",
      "POV-Ray finished\n",
      "\n"
     ]
    }
   ],
   "source": [
    "! /usr/local/bin/povray +A +H768 +W1024 cuboid.pov"
   ]
  }
 ],
 "metadata": {
  "kernelspec": {
   "display_name": "Python 3",
   "language": "python",
   "name": "python3"
  },
  "language_info": {
   "codemirror_mode": {
    "name": "ipython",
    "version": 3
   },
   "file_extension": ".py",
   "mimetype": "text/x-python",
   "name": "python",
   "nbconvert_exporter": "python",
   "pygments_lexer": "ipython3",
   "version": "3.7.9"
  }
 },
 "nbformat": 4,
 "nbformat_minor": 5
}
