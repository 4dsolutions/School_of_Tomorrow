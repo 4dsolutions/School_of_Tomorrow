{
 "cells": [
  {
   "cell_type": "markdown",
   "metadata": {},
   "source": [
    "[Oregon Curriculum Network](http://4dsolutions.net/ocn/)\n",
    "\n",
    "# The School of Tomorrow\n",
    "\n",
    "[Home Page](School_of_Tomorrow.ipynb)\n",
    "\n",
    "<a data-flickr-embed=\"true\" href=\"https://www.flickr.com/photos/kirbyurner/49982660476/in/dateposted-public/\" title=\"ramanujan1\"><img src=\"https://live.staticflickr.com/65535/49982660476_aa975f3e3e_c.jpg\" width=\"800\" height=\"330\" alt=\"ramanujan1\"></a><script async src=\"//embedr.flickr.com/assets/client-code.js\" charset=\"utf-8\"></script>\n",
    "\n",
    "(scroll down for embedded source code and more remarks about its runtime context)\n",
    "\n",
    "# Number Theory"
   ]
  },
  {
   "cell_type": "markdown",
   "metadata": {},
   "source": [
    "To what extent was Number Theory purged from some curricula owing to anti-German sentiment and a wish to deprecate all things German?  Too much Gauss would never do, and yet he was a Principal.  Solution:  spend more time on Euclidean Geometry instead.  But did it have to be either / or?\n",
    "\n",
    "Sometimes our Notebook will be more of a springboard, a diving board, into a deep well or chasm (sounds dramatic).  You may jump into Number Theory through Cryptography as well, and may wish to study them together.  Indeed, what has brought Number Theory back into vogue, if it ever went away, is the ubiquity (omnipresence) of cryptography in our daily lives today.\n",
    "\n",
    "You'll want to learn about Fermat's Little Theorem, about totatives and totients, and about Diophantine Equations.  Even earlier, let's start out with Euclid's Method for the GCD (greatest common divisor), as one of the earliest numeric algorithms out there."
   ]
  },
  {
   "cell_type": "markdown",
   "metadata": {},
   "source": [
    "# Euclid's Method\n",
    "\n",
    "I had you two lengths and ask you what size length in whole number size, will divide into both with no remainder.  Start with the two lengths also being whole number.  Everything in this picture is an integer, a positive integer, a length.  What integer length divides evenly into these two?  Clearly 1 does, as 1 divides into everything.  How about 2?  How about 3?  What's the greatest number that divides them both, without remainder?\n",
    "\n",
    "Well, what if the smaller length already divides the larger into two.  If we call them A and B and divide A into B, not knowing which is longer, then if A is longer, it won't go into B at all.  If it does, does it go just once?  If so, we're done, and A is the GCD.  Otherwise, last possibility, there's some remainder.\n",
    "\n",
    "That remainder then, is the next shorter length of interest.  If there's a GCD > 1, it will divide both of these, as if it does, it will also divide into B, which consists of N As + R for remainder.  So make R the new A, and B the new longest length, what used to be A."
   ]
  },
  {
   "cell_type": "code",
   "execution_count": 1,
   "metadata": {},
   "outputs": [
    {
     "data": {
      "text/plain": [
       "(4, 0)"
      ]
     },
     "execution_count": 1,
     "metadata": {},
     "output_type": "execute_result"
    }
   ],
   "source": [
    "N, R = divmod(12, 3) # how many times goes in N, what remainder R\n",
    "(N, R)"
   ]
  },
  {
   "cell_type": "code",
   "execution_count": 2,
   "metadata": {},
   "outputs": [
    {
     "data": {
      "text/plain": [
       "(0, 3)"
      ]
     },
     "execution_count": 2,
     "metadata": {},
     "output_type": "execute_result"
    }
   ],
   "source": [
    "divmod(3, 12) # 12 doesn't go into 3, 3 is left"
   ]
  },
  {
   "cell_type": "markdown",
   "metadata": {},
   "source": [
    "Here's a recursive solution, based on the description above:"
   ]
  },
  {
   "cell_type": "code",
   "execution_count": 3,
   "metadata": {},
   "outputs": [],
   "source": [
    "def GCD(A, B):\n",
    "    N, R = divmod(B, A)  # bigger by smaller?\n",
    "    if N == 0:           # if not\n",
    "        return GCD(B, A) # then switch\n",
    "    elif R == 0:\n",
    "        return A         # if no remainder, we're done\n",
    "    elif R == 1:\n",
    "        return 1         # down to 1, nowhere to go so 1\n",
    "    elif R > 0:\n",
    "        return GCD(R, B) # keep drilling down"
   ]
  },
  {
   "cell_type": "code",
   "execution_count": 4,
   "metadata": {},
   "outputs": [
    {
     "data": {
      "text/plain": [
       "10"
      ]
     },
     "execution_count": 4,
     "metadata": {},
     "output_type": "execute_result"
    }
   ],
   "source": [
    "GCD(100, 30)"
   ]
  },
  {
   "cell_type": "code",
   "execution_count": 5,
   "metadata": {},
   "outputs": [
    {
     "data": {
      "text/plain": [
       "9"
      ]
     },
     "execution_count": 5,
     "metadata": {},
     "output_type": "execute_result"
    }
   ],
   "source": [
    "GCD(81, 18)"
   ]
  },
  {
   "cell_type": "markdown",
   "metadata": {},
   "source": [
    "However Guido came up with a more brilliant, non-recursive solution, that automatically switches the arguments if a > b:"
   ]
  },
  {
   "cell_type": "code",
   "execution_count": 6,
   "metadata": {},
   "outputs": [
    {
     "data": {
      "text/plain": [
       "18"
      ]
     },
     "execution_count": 6,
     "metadata": {},
     "output_type": "execute_result"
    }
   ],
   "source": [
    "18 % 81 # 81 doesn't go into 18, 18 remains"
   ]
  },
  {
   "cell_type": "code",
   "execution_count": 7,
   "metadata": {},
   "outputs": [
    {
     "data": {
      "text/plain": [
       "9"
      ]
     },
     "execution_count": 7,
     "metadata": {},
     "output_type": "execute_result"
    }
   ],
   "source": [
    "81 % 18 # 18 goes into 81 9 times"
   ]
  },
  {
   "cell_type": "code",
   "execution_count": 8,
   "metadata": {},
   "outputs": [
    {
     "data": {
      "text/plain": [
       "12"
      ]
     },
     "execution_count": 8,
     "metadata": {},
     "output_type": "execute_result"
    }
   ],
   "source": [
    "12 % 24 # 24 doesn't go into 12, 12 is the remainder"
   ]
  },
  {
   "cell_type": "code",
   "execution_count": 9,
   "metadata": {},
   "outputs": [],
   "source": [
    "def gcd(a, b):\n",
    "    while b:\n",
    "        b, a = a % b, b\n",
    "    return a"
   ]
  },
  {
   "cell_type": "code",
   "execution_count": 10,
   "metadata": {},
   "outputs": [
    {
     "data": {
      "text/plain": [
       "9"
      ]
     },
     "execution_count": 10,
     "metadata": {},
     "output_type": "execute_result"
    }
   ],
   "source": [
    "gcd(18, 81)"
   ]
  },
  {
   "cell_type": "code",
   "execution_count": 11,
   "metadata": {},
   "outputs": [
    {
     "data": {
      "text/plain": [
       "10"
      ]
     },
     "execution_count": 11,
     "metadata": {},
     "output_type": "execute_result"
    }
   ],
   "source": [
    "gcd(100, 30)"
   ]
  },
  {
   "cell_type": "code",
   "execution_count": 12,
   "metadata": {},
   "outputs": [
    {
     "data": {
      "text/plain": [
       "3"
      ]
     },
     "execution_count": 12,
     "metadata": {},
     "output_type": "execute_result"
    }
   ],
   "source": [
    "gcd(12, 3)"
   ]
  },
  {
   "cell_type": "code",
   "execution_count": 13,
   "metadata": {},
   "outputs": [
    {
     "data": {
      "text/plain": [
       "3"
      ]
     },
     "execution_count": 13,
     "metadata": {},
     "output_type": "execute_result"
    }
   ],
   "source": [
    "gcd(3, 12)"
   ]
  },
  {
   "cell_type": "markdown",
   "metadata": {},
   "source": [
    "Finally, how about the Lowest Common Multiple or LCM.  That turns out to be the product of A and B (all factors combined) divided by the GCD (all factors common to both)."
   ]
  },
  {
   "cell_type": "code",
   "execution_count": 14,
   "metadata": {},
   "outputs": [],
   "source": [
    "def lcm(a, b):\n",
    "    return int((a * b)/gcd(a, b))"
   ]
  },
  {
   "cell_type": "code",
   "execution_count": 15,
   "metadata": {},
   "outputs": [
    {
     "data": {
      "text/plain": [
       "99"
      ]
     },
     "execution_count": 15,
     "metadata": {},
     "output_type": "execute_result"
    }
   ],
   "source": [
    "lcm(11, 9)"
   ]
  },
  {
   "cell_type": "markdown",
   "metadata": {},
   "source": [
    "We can use that to define a Fraction, or rational number (Rat).  Our adventures in Python's object oriented model might, in fact, begin here, even though Python's standard library already includes a Fraction class in fraction.  Our tests might compare their behaviors."
   ]
  },
  {
   "cell_type": "code",
   "execution_count": 16,
   "metadata": {},
   "outputs": [],
   "source": [
    "from fractions import Fraction"
   ]
  },
  {
   "cell_type": "markdown",
   "metadata": {},
   "source": [
    "In the Rational Number or alternative fraction class below, we make use of the ```gcd``` and ```lcm``` functions defined above.\n",
    "\n",
    "If you haven't looked at Python a lot, you may miss some of what's going on:  Python's special names define the guts of a fraction [in terms of its operations](https://docs.python.org/3/library/operator.html). \n",
    "\n",
    "When you add two fractions, what happens?  A lowest common multiple makes for a denominator.  Given the initialization process reduces the fraction to lowest terms, just multiplying the two denominators together would also work.\n",
    "\n",
    "Complexity arises when we let integers play with Rationals, which we should, as they're a subset of same.  $N \\subset Z \\subset Q \\subset R \\subset C$ as we say."
   ]
  },
  {
   "cell_type": "code",
   "execution_count": 18,
   "metadata": {},
   "outputs": [],
   "source": [
    "from __future__ import annotations\n",
    "\n",
    "class Rat:\n",
    "    \n",
    "    def __init__(self, n, d=None):\n",
    "        \n",
    "        if type(d) is None:\n",
    "            d = 1\n",
    "        if d == 0:\n",
    "            raise ZeroDivisionError\n",
    "            \n",
    "        _gcd = gcd(n, d)\n",
    "        self.numer = n//_gcd\n",
    "        self.denom = d//_gcd\n",
    "        \n",
    "    def __eq__(self, other):\n",
    "        if type(other) is int:\n",
    "            return ((self.numer) == other \n",
    "                     and self.denom == 1)\n",
    "        return ((self.numer == other.numer) \n",
    "                and (self.denom == other.denom))\n",
    "        \n",
    "    def __repr__(self):\n",
    "        return \"Rat(%s, %s)\" % (self.numer, self.denom)\n",
    "    \n",
    "    def __add__(self, other) -> Rat:\n",
    "        # get an lcm before adding\n",
    "        if type(other) is int:\n",
    "            other = Rat(other, 1)\n",
    "        _lcm = lcm(self.denom, other.denom)\n",
    "        return Rat(self.numer * _lcm//self.denom\n",
    "               + other.numer * _lcm//other.denom, \n",
    "               _lcm) # denominator\n",
    "    \n",
    "    def __sub__(self, other) -> Rat:\n",
    "        # add the additive inverse of other\n",
    "        if type(other) is int:\n",
    "            other = Rat(other, 1)\n",
    "        return self + (-other)\n",
    "    \n",
    "    def __neg__(self) -> Rat:\n",
    "        # return the additive inverse of self\n",
    "        return Rat(-self.numer, self.denom)\n",
    "    \n",
    "    def __mul__(self, other) -> Rat:\n",
    "        # multiply two rationals\n",
    "        if type(other) is int:\n",
    "            other = Rat(other, 1)\n",
    "        return Rat(self.numer * other.numer, \n",
    "                  self.denom * other.denom)\n",
    "    \n",
    "    def __truediv__(self, other) -> Rat:\n",
    "        # multiply by the multiplicative inverse of other\n",
    "        if type(other) is int:\n",
    "            other = Rat(other, 1)\n",
    "        return self * other**(-1)\n",
    "    \n",
    "    def __pow__(self, n : int) -> Rat:\n",
    "        # raise self to the nth power\n",
    "        return Rat(self.numer ** n, self.denom ** n)\n",
    "    \n",
    "    __rmul__ = __mul__\n",
    "    __radd__ = __add__\n",
    "    __rtruediv__ = __truediv__"
   ]
  },
  {
   "cell_type": "code",
   "execution_count": 19,
   "metadata": {},
   "outputs": [],
   "source": [
    "from unittest import TestCase\n",
    "import unittest\n",
    "\n",
    "class TestRat(TestCase):\n",
    "    \n",
    "    def test_1(self):\n",
    "        p = Rat(1, 3)\n",
    "        q = Rat(2, 3)\n",
    "        self.assertEqual(p + q, 1)\n",
    "        \n",
    "    def test_2(self):\n",
    "        fp = Fraction(16,32)\n",
    "        fq = Fraction(18,56)\n",
    "        p = Rat(16,32)\n",
    "        q = Rat(18,56)\n",
    "        fproduct = fp * fq\n",
    "        product = p * q\n",
    "        self.assertEqual(fproduct.numerator, product.numer)\n",
    "        self.assertEqual(fproduct.denominator, product.denom)\n",
    "        \n",
    "    def test_3(self):\n",
    "        p = Rat(16,32)\n",
    "        q = Rat(18,56)\n",
    "        result = p - q\n",
    "        fp = Fraction(16,32)\n",
    "        fq = Fraction(18,56)\n",
    "        fresult = fp - fq\n",
    "        self.assertEqual(fresult.numerator, result.numer)\n",
    "        self.assertEqual(fresult.denominator, result.denom)        "
   ]
  },
  {
   "cell_type": "code",
   "execution_count": 20,
   "metadata": {},
   "outputs": [
    {
     "name": "stderr",
     "output_type": "stream",
     "text": [
      "test_1 (__main__.TestRat) ... ok\n",
      "test_2 (__main__.TestRat) ... ok\n",
      "test_3 (__main__.TestRat) ... ok\n",
      "\n",
      "----------------------------------------------------------------------\n",
      "Ran 3 tests in 0.026s\n",
      "\n",
      "OK\n"
     ]
    },
    {
     "data": {
      "text/plain": [
       "<unittest.main.TestProgram at 0x1091a0ad0>"
      ]
     },
     "execution_count": 20,
     "metadata": {},
     "output_type": "execute_result"
    }
   ],
   "source": [
    "unittest.main(argv=[''], verbosity=3, exit=False)"
   ]
  },
  {
   "cell_type": "markdown",
   "metadata": {},
   "source": [
    "## RAMANUJAN\n",
    "\n",
    "\\begin{equation*}\n",
    "\\frac{1}{\\Bigl(\\sqrt{\\phi \\sqrt{5}}-\\phi\\Bigr) e^{\\frac25 \\pi}} =\n",
    "1+\\frac{e^{-2\\pi}} {1+\\frac{e^{-4\\pi}} {1+\\frac{e^{-6\\pi}}\n",
    "{1+\\frac{e^{-8\\pi}} {1+\\ldots} } } }\n",
    "\\end{equation*}"
   ]
  },
  {
   "cell_type": "code",
   "execution_count": 22,
   "metadata": {},
   "outputs": [
    {
     "name": "stdout",
     "output_type": "stream",
     "text": [
      "gmpy\n",
      "1.001867436219318606077227680424157087122424127427497054500130190210949798909562825712938250353099963\n",
      "1.001867436219318606077227680424157087122424127427497054500130190210949798909562825712938250353099963\n",
      "Ta daa!\n"
     ]
    }
   ],
   "source": [
    "# %load genius_identity.py\n",
    "#!/usr/bin/env python3\n",
    "\"\"\"\n",
    "Created on Mon Jun  8 17:48:56 2020\n",
    "\n",
    "@author: Kirby Urner\n",
    "\n",
    "Verifying a Ramanujan Identity\n",
    "https://flic.kr/p/2j9NcAd\n",
    "\n",
    "Keywords:  recursion, number theory, arbitrary precision\n",
    "\n",
    "School of Tomorrow\n",
    "https://medium.com/@kirbyurner/calculator-of-tomorrow-using-arbitrary-precision-8f219b0092d9\n",
    "https://repl.it/@kurner/RamanujanIdentity01\n",
    "\"\"\"\n",
    "\n",
    "import mpmath\n",
    "from mpmath import e, pi\n",
    "print(mpmath.libmp.BACKEND)\n",
    "mpmath.mp.dps = 100\n",
    "two   = mpmath.mpf('2')\n",
    "five  = mpmath.mpf('5')\n",
    "root5 = mpmath.mpf('5').sqrt()\n",
    "phi = (1 + root5)/2\n",
    "\n",
    "term = \"(1 + (e ** (-2*{} * pi))/{})\"\n",
    "\n",
    "def cont_frac(n, c=1):\n",
    "    \"\"\"\n",
    "    Recursively build the continued fraction, \n",
    "    as a string, to level of depth n\n",
    "    \"\"\"\n",
    "    if n==0:\n",
    "        return \"1\"\n",
    "    else:    \n",
    "        return \"(1 + ((e ** (-2*{} * pi)/{})))\".format(c, cont_frac(n-1, c+1))\n",
    "\n",
    "print(eval(cont_frac(10))) # evaluate the continued fraction\n",
    "print(1/(((phi * root5).sqrt() - phi) * e ** (two/five * pi))) # left side of the equation\n",
    "print(\"Ta daa!\")"
   ]
  }
 ],
 "metadata": {
  "kernelspec": {
   "display_name": "Python 3",
   "language": "python",
   "name": "python3"
  },
  "language_info": {
   "codemirror_mode": {
    "name": "ipython",
    "version": 3
   },
   "file_extension": ".py",
   "mimetype": "text/x-python",
   "name": "python",
   "nbconvert_exporter": "python",
   "pygments_lexer": "ipython3",
   "version": "3.7.7"
  }
 },
 "nbformat": 4,
 "nbformat_minor": 4
}
