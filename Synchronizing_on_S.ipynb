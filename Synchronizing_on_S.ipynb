{
 "cells": [
  {
   "cell_type": "markdown",
   "id": "a76d7161-3803-4ce3-b43f-d5aa09bf5bd4",
   "metadata": {},
   "source": [
    "<a href=\"https://colab.research.google.com/github/4dsolutions/clarusway_data_analysis/blob/main/DAwPy_S1_(Numpy_Arrays)/daily_schedule.ipynb\"><img align=\"left\" src=\"https://colab.research.google.com/assets/colab-badge.svg\" alt=\"Open in Colab\" title=\"Open and Execute in Google Colaboratory\"></a><br/>\n",
    "[![nbviewer](https://raw.githubusercontent.com/jupyter/design/master/logos/Badges/nbviewer_badge.svg)](https://nbviewer.org/github/4dsolutions/clarusway_data_analysis/blob/main/DAwPy_S1_%28Numpy_Arrays%29/daily_schedule.ipynb)"
   ]
  },
  {
   "cell_type": "markdown",
   "id": "178584f0-f9d8-4732-bb60-c86299d46b3f",
   "metadata": {},
   "source": [
    "# Synchronizing Around the S Module\n",
    "\n",
    "To \"synchronize\" is a lot like to \"omni-triangulate\" i.e. to well-order in space and/or time.  \"Synchronized swimming\" is where they don't crash into each other, the whole point being to show off tightly coreographed dance moves."
   ]
  },
  {
   "cell_type": "markdown",
   "id": "6b2a44a0-4a96-4ea9-9457-6b55f72bd01b",
   "metadata": {},
   "source": [
    "Let's start with a published page from Synergetics (R. Buckminster Fuller), showing clearly what we mean by \"the S module\":\n",
    "\n",
    "<a data-flickr-embed=\"true\" href=\"https://www.flickr.com/photos/kirbyurner/6335726352/in/photolist-ujipN3-vLby2U-CwvwpP-5zTRjp-5zY9gA-S4BDeE-22RBsb5-25JufgG-7jZLe2-7jZLhp-7k4Eid-7k4Ejf-7k4Em5-7mcmne-2d6EFEQ-8ryEix-8ryECF-2mT2hXj-2mT3vMb-2oFtnCt-aDSfHf-f75zUP\" title=\"S Module\"><img src=\"https://live.staticflickr.com/6114/6335726352_902009df40_w.jpg\" width=\"400\" height=\"353\" alt=\"S Module\"/></a><script async src=\"//embedr.flickr.com/assets/client-code.js\" charset=\"utf-8\"></script>"
   ]
  },
  {
   "cell_type": "markdown",
   "id": "a341afca-9ecc-4e2d-b285-b616fa8f9f8b",
   "metadata": {},
   "source": [
    "Corresponding to this picture, is the corresponding plane net (note that the letters match):\n",
    "\n",
    "<a data-flickr-embed=\"true\" href=\"https://www.flickr.com/photos/kirbyurner/52960966455/in/datetaken/\" title=\"f988_13A\"><img src=\"https://live.staticflickr.com/65535/52960966455_e8acc598fa_w.jpg\" width=\"400\" height=\"305\" alt=\"f988_13A\"/></a><script async src=\"//embedr.flickr.com/assets/client-code.js\" charset=\"utf-8\"></script>"
   ]
  },
  {
   "cell_type": "markdown",
   "id": "0a7f617f-962e-42e5-b4b1-c0e6582ecea3",
   "metadata": {
    "tags": []
   },
   "source": [
    "What we're going to need are the six edges of the S module tetrahedron, for one of our tetravolume computing algorithms, the ones that eat edges for input.  To this end, let's gather all the distances in the above diagram.  \n",
    "\n",
    "Note that the plane net contains duplicate edges.  We will make sure our labels are alphabetized internally i.e. given EG and GE, we will pick EG as the canonical representation, because E < G in the alphabet."
   ]
  },
  {
   "cell_type": "code",
   "execution_count": 1,
   "id": "4c9064ad-ed16-485a-b2e4-cdcb59813231",
   "metadata": {},
   "outputs": [
    {
     "data": {
      "text/html": [
       "<div>\n",
       "<style scoped>\n",
       "    .dataframe tbody tr th:only-of-type {\n",
       "        vertical-align: middle;\n",
       "    }\n",
       "\n",
       "    .dataframe tbody tr th {\n",
       "        vertical-align: top;\n",
       "    }\n",
       "\n",
       "    .dataframe thead th {\n",
       "        text-align: right;\n",
       "    }\n",
       "</style>\n",
       "<table border=\"1\" class=\"dataframe\">\n",
       "  <thead>\n",
       "    <tr style=\"text-align: right;\">\n",
       "      <th></th>\n",
       "      <th>Edges</th>\n",
       "      <th>Lengths</th>\n",
       "    </tr>\n",
       "  </thead>\n",
       "  <tbody>\n",
       "    <tr>\n",
       "      <th>0</th>\n",
       "      <td>EF</td>\n",
       "      <td>0.540182</td>\n",
       "    </tr>\n",
       "    <tr>\n",
       "      <th>1</th>\n",
       "      <td>EG</td>\n",
       "      <td>0.270091</td>\n",
       "    </tr>\n",
       "    <tr>\n",
       "      <th>2</th>\n",
       "      <td>EH</td>\n",
       "      <td>0.381966</td>\n",
       "    </tr>\n",
       "    <tr>\n",
       "      <th>3</th>\n",
       "      <td>FG</td>\n",
       "      <td>0.467811</td>\n",
       "    </tr>\n",
       "    <tr>\n",
       "      <th>4</th>\n",
       "      <td>FH</td>\n",
       "      <td>0.618034</td>\n",
       "    </tr>\n",
       "    <tr>\n",
       "      <th>5</th>\n",
       "      <td>GH</td>\n",
       "      <td>0.270091</td>\n",
       "    </tr>\n",
       "  </tbody>\n",
       "</table>\n",
       "</div>"
      ],
      "text/plain": [
       "  Edges   Lengths\n",
       "0    EF  0.540182\n",
       "1    EG  0.270091\n",
       "2    EH  0.381966\n",
       "3    FG  0.467811\n",
       "4    FH  0.618034\n",
       "5    GH  0.270091"
      ]
     },
     "execution_count": 1,
     "metadata": {},
     "output_type": "execute_result"
    }
   ],
   "source": [
    "import pandas as pd\n",
    "import numpy as np\n",
    "\n",
    "import math\n",
    "from math import sqrt as rt2\n",
    "\n",
    "a  = 1\n",
    "\n",
    "EF = a * rt2(7 - 3 * rt2(5))\n",
    "EG = (a/2) * rt2(7 - 3 * rt2(5))\n",
    "EH = (a/2) * (3 - rt2(5))\n",
    "FG = (a/2) * rt2(3) * rt2(7 - 3 * rt2(5))\n",
    "FH = (a/2) * (rt2(5) - 1)\n",
    "GH = (a/2) * rt2(7 - 3 * rt2(5))\n",
    "\n",
    "S_net = pd.DataFrame({'Edges'  : ['EF', 'EG', 'EH', 'FG', 'FH', 'GH'],\n",
    "                      'Lengths': [EF, EG, EH, FG, FH, GH]})\n",
    "\n",
    "S_net"
   ]
  },
  {
   "cell_type": "markdown",
   "id": "e9553927-2a16-4c8b-b9fd-3c124c6d426e",
   "metadata": {},
   "source": [
    "Now we want a volume formula that eats edge lengths in a particular order, and returns volume.\n",
    "\n",
    "We have at least three to choose from:\n",
    "\n",
    "* Piero della Francesca's\n",
    "* Gerald de Jong's\n",
    "* Cayley-Menger Determinant\n",
    "\n",
    "All three are described [here](https://nbviewer.org/github/4dsolutions/School_of_Tomorrow/blob/master/VolumeTalk.ipynb).\n",
    "\n",
    "We start with an apex vertex (any vertex), say E, extending to EF, EG, EH, and then we go around the opposite face in the same order i.e. FG GH FH.\n",
    "\n",
    "Here we go then:"
   ]
  },
  {
   "cell_type": "code",
   "execution_count": 2,
   "id": "8fc2bd0d-7754-4497-8942-e3536f5d480c",
   "metadata": {},
   "outputs": [],
   "source": [
    "def CM_ivm(a, b, c, d, e, f):\n",
    "    # double and 2nd power us\n",
    "    A,B,C,D,E,F = [(2*x)**2 for x in (a,b,c,d,e,f)]\n",
    "    \n",
    "    # Construct a 5x5 matrix per Caley-Menger\n",
    "    M = np.ones((5,5))\n",
    "    M[0,0:5] = 0, 1, 1, 1, 1\n",
    "    M[1,0:5] = 1, 0, A, B, C\n",
    "    M[2,0:5] = 1, A, 0, D, F\n",
    "    M[3,0:5] = 1, B, D, 0, E\n",
    "    M[4,0:5] = 1, C, F, E, 0\n",
    "    print(M) # comment out?\n",
    "    return math.sqrt(np.linalg.det(M))/16  # Syn3 factored in "
   ]
  },
  {
   "cell_type": "markdown",
   "id": "2d188631-6a74-4146-bae1-53cb9dfeadb4",
   "metadata": {},
   "source": [
    "The reference prime vector length is set to 1 in this formula, meaning the octahedron in which the icosahedron is inscribed, and what's left with the 24 S modules subtracted, is the diameter of a unit radius IVM sphere."
   ]
  },
  {
   "cell_type": "code",
   "execution_count": 3,
   "id": "43c05f5d-ad47-4a9e-84e1-59cfa166ef7a",
   "metadata": {},
   "outputs": [
    {
     "name": "stdout",
     "output_type": "stream",
     "text": [
      "[[0.         1.         1.         1.         1.        ]\n",
      " [1.         0.         1.16718427 0.29179607 0.58359214]\n",
      " [1.         1.16718427 0.         0.8753882  1.52786405]\n",
      " [1.         0.29179607 0.8753882  0.         0.29179607]\n",
      " [1.         0.58359214 1.52786405 0.29179607 0.        ]]\n"
     ]
    },
    {
     "data": {
      "text/plain": [
       "0.045084971874737007"
      ]
     },
     "execution_count": 3,
     "metadata": {},
     "output_type": "execute_result"
    }
   ],
   "source": [
    "CM_ivm(EF, EG, EH, FG, GH, FH)"
   ]
  },
  {
   "cell_type": "markdown",
   "id": "5f4d104a-9df0-45cf-b547-f63e551466b8",
   "metadata": {},
   "source": [
    "What's our usual value for the S mod volume?"
   ]
  },
  {
   "cell_type": "code",
   "execution_count": 4,
   "id": "a289b016-3256-4852-8cd6-05f10b12a74a",
   "metadata": {},
   "outputs": [
    {
     "data": {
      "text/plain": [
       "0.04508497187473711"
      ]
     },
     "execution_count": 4,
     "metadata": {},
     "output_type": "execute_result"
    }
   ],
   "source": [
    "φ         = (rt2(5)+1)/2   # golden ratio\n",
    "Smod      = (φ**-5) / 2    # home base Smod\n",
    "Smod"
   ]
  },
  {
   "cell_type": "markdown",
   "id": "094d4803-a7c2-4746-bc6d-92219df94c66",
   "metadata": {},
   "source": [
    "Another Synergetics motif has been the S_Factor, or S_volume / E_volume..."
   ]
  },
  {
   "cell_type": "code",
   "execution_count": 5,
   "id": "cb62e147-1480-43e6-9353-94c5ca9b0221",
   "metadata": {},
   "outputs": [],
   "source": [
    "Emod      = (rt2(2) / 8) * (φ**-3)  # home base Emod\n",
    "S_factor  = Smod / Emod  # 2*sqrt(7-3*sqrt(5))"
   ]
  },
  {
   "cell_type": "code",
   "execution_count": 6,
   "id": "551d616c-d468-43a5-833a-b6df835cd69a",
   "metadata": {},
   "outputs": [
    {
     "data": {
      "text/plain": [
       "3.999999999999999"
      ]
     },
     "execution_count": 6,
     "metadata": {},
     "output_type": "execute_result"
    }
   ],
   "source": [
    "icosa_within = 2.5 * S_factor * S_factor\n",
    "icosa_within + 24 * Smod"
   ]
  },
  {
   "cell_type": "markdown",
   "id": "111e3685-f9f3-4c2e-b7e5-01b272718cc1",
   "metadata": {},
   "source": [
    "# Recomputing the S Module with sympy"
   ]
  },
  {
   "cell_type": "markdown",
   "id": "65b75cef-ea27-47fc-92bd-340c22fad27e",
   "metadata": {},
   "source": [
    "That's the target Octahedron volume, or close.  The next step is to audit the above using `sympy` and its arbitrary precision numbers.\n",
    "\n",
    "[sympy documentation](https://docs.sympy.org/latest/index.html)"
   ]
  },
  {
   "cell_type": "code",
   "execution_count": 7,
   "id": "9fce4778-915b-4084-b382-d1b472bc258e",
   "metadata": {},
   "outputs": [],
   "source": [
    "from sympy import symbols, sqrt as rt2, Matrix, ones\n",
    "import sympy as sy"
   ]
  },
  {
   "cell_type": "code",
   "execution_count": 8,
   "id": "d8b75d5f-db57-47dc-8b37-52167afd2527",
   "metadata": {},
   "outputs": [],
   "source": [
    "a = symbols('a')"
   ]
  },
  {
   "cell_type": "code",
   "execution_count": 9,
   "id": "2a4f5894-7f09-4e33-89f5-8b21df9c689f",
   "metadata": {},
   "outputs": [],
   "source": [
    "EF = a * rt2(7 - 3 * rt2(5))\n",
    "EG = (a/2) * rt2(7 - 3 * rt2(5))\n",
    "EH = (a/2) * (3 - rt2(5))\n",
    "FG = (a/2) * rt2(3) * rt2(7 - 3 * rt2(5))\n",
    "FH = (a/2) * (rt2(5) - 1)\n",
    "GH = (a/2) * rt2(7 - 3 * rt2(5))"
   ]
  },
  {
   "cell_type": "code",
   "execution_count": 10,
   "id": "95558a13-87cf-4b7d-9967-62e7f4e93d01",
   "metadata": {},
   "outputs": [
    {
     "data": {
      "text/latex": [
       "$\\displaystyle a \\sqrt{7 - 3 \\sqrt{5}}$"
      ],
      "text/plain": [
       "a*sqrt(7 - 3*sqrt(5))"
      ]
     },
     "execution_count": 10,
     "metadata": {},
     "output_type": "execute_result"
    }
   ],
   "source": [
    "EF"
   ]
  },
  {
   "cell_type": "code",
   "execution_count": 11,
   "id": "409e4288-cc3a-4181-a013-8d8dedafd753",
   "metadata": {},
   "outputs": [
    {
     "data": {
      "text/latex": [
       "$\\displaystyle \\frac{a \\left(-1 + \\sqrt{5}\\right)}{2}$"
      ],
      "text/plain": [
       "a*(-1 + sqrt(5))/2"
      ]
     },
     "execution_count": 11,
     "metadata": {},
     "output_type": "execute_result"
    }
   ],
   "source": [
    "FH"
   ]
  },
  {
   "cell_type": "code",
   "execution_count": 12,
   "id": "eceb1b0d-85df-43af-a2b0-a8609a0deb79",
   "metadata": {},
   "outputs": [
    {
     "data": {
      "text/latex": [
       "$\\displaystyle 0.61803398874989484820458683436563811772030917980576$"
      ],
      "text/plain": [
       "0.61803398874989484820458683436563811772030917980576"
      ]
     },
     "execution_count": 12,
     "metadata": {},
     "output_type": "execute_result"
    }
   ],
   "source": [
    "FH.evalf(50,subs={a: 1})  # to 50 decimal places"
   ]
  },
  {
   "cell_type": "code",
   "execution_count": 13,
   "id": "f1997c78-a2d2-4b26-934f-d3d31aba7265",
   "metadata": {},
   "outputs": [
    {
     "data": {
      "text/html": [
       "<div>\n",
       "<style scoped>\n",
       "    .dataframe tbody tr th:only-of-type {\n",
       "        vertical-align: middle;\n",
       "    }\n",
       "\n",
       "    .dataframe tbody tr th {\n",
       "        vertical-align: top;\n",
       "    }\n",
       "\n",
       "    .dataframe thead th {\n",
       "        text-align: right;\n",
       "    }\n",
       "</style>\n",
       "<table border=\"1\" class=\"dataframe\">\n",
       "  <thead>\n",
       "    <tr style=\"text-align: right;\">\n",
       "      <th></th>\n",
       "      <th>Lengths</th>\n",
       "      <th>Values</th>\n",
       "    </tr>\n",
       "    <tr>\n",
       "      <th>Edges</th>\n",
       "      <th></th>\n",
       "      <th></th>\n",
       "    </tr>\n",
       "  </thead>\n",
       "  <tbody>\n",
       "    <tr>\n",
       "      <th>EF</th>\n",
       "      <td>a*sqrt(7 - 3*sqrt(5))</td>\n",
       "      <td>0.54018151347545290720308631409818785099473024...</td>\n",
       "    </tr>\n",
       "    <tr>\n",
       "      <th>EG</th>\n",
       "      <td>a*sqrt(7 - 3*sqrt(5))/2</td>\n",
       "      <td>0.27009075673772645360154315704909392549736512...</td>\n",
       "    </tr>\n",
       "    <tr>\n",
       "      <th>EH</th>\n",
       "      <td>a*(3 - sqrt(5))/2</td>\n",
       "      <td>0.38196601125010515179541316563436188227969082...</td>\n",
       "    </tr>\n",
       "    <tr>\n",
       "      <th>FG</th>\n",
       "      <td>sqrt(3)*a*sqrt(7 - 3*sqrt(5))/2</td>\n",
       "      <td>0.46781091332446829000553859902741320909259887...</td>\n",
       "    </tr>\n",
       "    <tr>\n",
       "      <th>FH</th>\n",
       "      <td>a*(-1 + sqrt(5))/2</td>\n",
       "      <td>0.61803398874989484820458683436563811772030917...</td>\n",
       "    </tr>\n",
       "    <tr>\n",
       "      <th>GH</th>\n",
       "      <td>a*sqrt(7 - 3*sqrt(5))/2</td>\n",
       "      <td>0.27009075673772645360154315704909392549736512...</td>\n",
       "    </tr>\n",
       "  </tbody>\n",
       "</table>\n",
       "</div>"
      ],
      "text/plain": [
       "                               Lengths  \\\n",
       "Edges                                    \n",
       "EF               a*sqrt(7 - 3*sqrt(5))   \n",
       "EG             a*sqrt(7 - 3*sqrt(5))/2   \n",
       "EH                   a*(3 - sqrt(5))/2   \n",
       "FG     sqrt(3)*a*sqrt(7 - 3*sqrt(5))/2   \n",
       "FH                  a*(-1 + sqrt(5))/2   \n",
       "GH             a*sqrt(7 - 3*sqrt(5))/2   \n",
       "\n",
       "                                                  Values  \n",
       "Edges                                                     \n",
       "EF     0.54018151347545290720308631409818785099473024...  \n",
       "EG     0.27009075673772645360154315704909392549736512...  \n",
       "EH     0.38196601125010515179541316563436188227969082...  \n",
       "FG     0.46781091332446829000553859902741320909259887...  \n",
       "FH     0.61803398874989484820458683436563811772030917...  \n",
       "GH     0.27009075673772645360154315704909392549736512...  "
      ]
     },
     "execution_count": 13,
     "metadata": {},
     "output_type": "execute_result"
    }
   ],
   "source": [
    "S_net = pd.DataFrame({'Edges'  : ['EF', 'EG', 'EH', 'FG', 'FH', 'GH'],\n",
    "                      'Lengths': [EF, EG, EH, FG, FH, GH],\n",
    "                      'Values' : [L.evalf(50, subs={a:1}) \n",
    "                                  for L in [EF, EG, EH, FG, FH, GH]]})\n",
    "\n",
    "S_net.set_index('Edges', inplace=True)\n",
    "S_net"
   ]
  },
  {
   "cell_type": "code",
   "execution_count": 14,
   "id": "73f8e6fa-a637-4125-aab0-ac23f7c58713",
   "metadata": {},
   "outputs": [
    {
     "name": "stdout",
     "output_type": "stream",
     "text": [
      "<class 'pandas.core.frame.DataFrame'>\n",
      "Index: 6 entries, EF to GH\n",
      "Data columns (total 2 columns):\n",
      " #   Column   Non-Null Count  Dtype \n",
      "---  ------   --------------  ----- \n",
      " 0   Lengths  6 non-null      object\n",
      " 1   Values   6 non-null      object\n",
      "dtypes: object(2)\n",
      "memory usage: 144.0+ bytes\n"
     ]
    }
   ],
   "source": [
    "S_net.info()"
   ]
  },
  {
   "cell_type": "code",
   "execution_count": 15,
   "id": "0dccff17-8e05-4f6c-93f8-e1bbc14b9021",
   "metadata": {},
   "outputs": [
    {
     "data": {
      "text/latex": [
       "$\\displaystyle 0.27009075673772645360154315704909392549736512170141$"
      ],
      "text/plain": [
       "0.27009075673772645360154315704909392549736512170141"
      ]
     },
     "execution_count": 15,
     "metadata": {},
     "output_type": "execute_result"
    }
   ],
   "source": [
    "S_net.loc['EG', 'Values']"
   ]
  },
  {
   "cell_type": "code",
   "execution_count": 16,
   "id": "fbd627d3-15e6-411f-86c1-b3e708a5b2f7",
   "metadata": {},
   "outputs": [],
   "source": [
    "def CM_ivm(a, b, c, d, e, f):\n",
    "    # double and 2nd power us\n",
    "    A,B,C,D,E,F = [(2*x)**2 for x in (a,b,c,d,e,f)]\n",
    "    \n",
    "    # Construct a 5x5 matrix per Caley-Menger\n",
    "    M = Matrix(\n",
    "        [\n",
    "        [0, 1, 1, 1, 1],\n",
    "        [1, 0, A, B, C],\n",
    "        [1, A, 0, D, F],\n",
    "        [1, B, D, 0, E],\n",
    "        [1, C, F, E, 0]])\n",
    "    # print(M) # comment out?\n",
    "    return rt2(M.det())/16  # Syn3 factored in"
   ]
  },
  {
   "cell_type": "code",
   "execution_count": 17,
   "id": "51069115-3cee-4f8f-8247-a5473176d833",
   "metadata": {},
   "outputs": [],
   "source": [
    "args = S_net.loc[['EF', 'EG', 'EH', 'FG', 'GH', 'FH'], 'Values']"
   ]
  },
  {
   "cell_type": "code",
   "execution_count": 18,
   "id": "94ef8546-c0a3-4a41-9db5-7c56262b24ed",
   "metadata": {},
   "outputs": [
    {
     "data": {
      "text/plain": [
       "Edges\n",
       "EF    0.54018151347545290720308631409818785099473024...\n",
       "EG    0.27009075673772645360154315704909392549736512...\n",
       "EH    0.38196601125010515179541316563436188227969082...\n",
       "FG    0.46781091332446829000553859902741320909259887...\n",
       "GH    0.27009075673772645360154315704909392549736512...\n",
       "FH    0.61803398874989484820458683436563811772030917...\n",
       "Name: Values, dtype: object"
      ]
     },
     "execution_count": 18,
     "metadata": {},
     "output_type": "execute_result"
    }
   ],
   "source": [
    "args"
   ]
  },
  {
   "cell_type": "code",
   "execution_count": 19,
   "id": "58866fec-36c2-46f3-a2a1-e376e4753ef2",
   "metadata": {},
   "outputs": [
    {
     "data": {
      "text/latex": [
       "$\\displaystyle 0.045084971874737120511467085914095294300772949514407$"
      ],
      "text/plain": [
       "0.045084971874737120511467085914095294300772949514407"
      ]
     },
     "execution_count": 19,
     "metadata": {},
     "output_type": "execute_result"
    }
   ],
   "source": [
    "Svol = CM_ivm(*args)\n",
    "Svol"
   ]
  },
  {
   "cell_type": "code",
   "execution_count": 20,
   "id": "da40f7b0-ae90-4d6f-afdf-845cf6491915",
   "metadata": {},
   "outputs": [
    {
     "data": {
      "text/latex": [
       "$\\displaystyle \\frac{1}{2} + \\frac{\\sqrt{5}}{2}$"
      ],
      "text/plain": [
       "1/2 + sqrt(5)/2"
      ]
     },
     "execution_count": 20,
     "metadata": {},
     "output_type": "execute_result"
    }
   ],
   "source": [
    "φ         = (rt2(5)+1)/2   # golden ratio\n",
    "φ"
   ]
  },
  {
   "cell_type": "code",
   "execution_count": 21,
   "id": "4fc1b6de-5033-426a-96a3-be20f9528148",
   "metadata": {},
   "outputs": [
    {
     "data": {
      "text/latex": [
       "$\\displaystyle 1.6180339887498948482045868343656381177203091798058$"
      ],
      "text/plain": [
       "1.6180339887498948482045868343656381177203091798058"
      ]
     },
     "execution_count": 21,
     "metadata": {},
     "output_type": "execute_result"
    }
   ],
   "source": [
    "φ.evalf(50)"
   ]
  },
  {
   "cell_type": "code",
   "execution_count": 22,
   "id": "8a4ccd1d-1ad2-453b-ab35-2e587cf41055",
   "metadata": {},
   "outputs": [
    {
     "data": {
      "text/latex": [
       "$\\displaystyle \\frac{1}{2 \\left(\\frac{1}{2} + \\frac{\\sqrt{5}}{2}\\right)^{5}}$"
      ],
      "text/plain": [
       "1/(2*(1/2 + sqrt(5)/2)**5)"
      ]
     },
     "execution_count": 22,
     "metadata": {},
     "output_type": "execute_result"
    }
   ],
   "source": [
    "Svol2 = (φ**-5) / 2\n",
    "Svol2"
   ]
  },
  {
   "cell_type": "code",
   "execution_count": 23,
   "id": "d5a013d9-fc56-453c-b89d-05721162ff64",
   "metadata": {},
   "outputs": [
    {
     "data": {
      "text/latex": [
       "$\\displaystyle 0.045084971874737120511467085914095294300772949514407$"
      ],
      "text/plain": [
       "0.045084971874737120511467085914095294300772949514407"
      ]
     },
     "execution_count": 23,
     "metadata": {},
     "output_type": "execute_result"
    }
   ],
   "source": [
    "Svol2 = Svol2.evalf(50)\n",
    "Svol2"
   ]
  },
  {
   "cell_type": "code",
   "execution_count": 24,
   "id": "8f378b68-007a-4f68-965d-d7bdc68753d0",
   "metadata": {},
   "outputs": [
    {
     "data": {
      "text/latex": [
       "$\\displaystyle 0.045084971874737120511467085914095294300772949514407$"
      ],
      "text/plain": [
       "0.045084971874737120511467085914095294300772949514407"
      ]
     },
     "execution_count": 24,
     "metadata": {},
     "output_type": "execute_result"
    }
   ],
   "source": [
    "Svol"
   ]
  },
  {
   "cell_type": "markdown",
   "id": "3a69b013-056d-45b8-9d0a-d68e8662fa30",
   "metadata": {},
   "source": [
    "Looking good!"
   ]
  },
  {
   "cell_type": "code",
   "execution_count": 25,
   "id": "95d17e47-b1af-417d-a21b-72b0b0baf52c",
   "metadata": {},
   "outputs": [],
   "source": [
    "Evol      = (rt2(2) / 8) * (φ**-3)  # home base Emod\n",
    "S_factor  = Svol / Evol  # 2*sqrt(7-3*sqrt(5))"
   ]
  },
  {
   "cell_type": "code",
   "execution_count": 26,
   "id": "3d022e07-65a0-4728-bdd0-580804107bef",
   "metadata": {},
   "outputs": [
    {
     "data": {
      "text/latex": [
       "$\\displaystyle 2.9179606750063091077247899380617129367814492116542$"
      ],
      "text/plain": [
       "2.9179606750063091077247899380617129367814492116542"
      ]
     },
     "execution_count": 26,
     "metadata": {},
     "output_type": "execute_result"
    }
   ],
   "source": [
    "2.5 * S_factor.evalf(50)**2"
   ]
  },
  {
   "cell_type": "code",
   "execution_count": 27,
   "id": "5e7383ad-695e-46c5-8815-cae861d5ff5e",
   "metadata": {},
   "outputs": [
    {
     "data": {
      "text/latex": [
       "$\\displaystyle 0.045084971874737120511467085914095294300772949514407$"
      ],
      "text/plain": [
       "0.045084971874737120511467085914095294300772949514407"
      ]
     },
     "execution_count": 27,
     "metadata": {},
     "output_type": "execute_result"
    }
   ],
   "source": [
    "Svol"
   ]
  },
  {
   "cell_type": "code",
   "execution_count": 28,
   "id": "ad0faf2d-6db8-40f0-bfde-5d7870a6225a",
   "metadata": {},
   "outputs": [
    {
     "data": {
      "text/latex": [
       "$\\displaystyle 4.0$"
      ],
      "text/plain": [
       "4.0000000000000000000000000000000000000000000000000"
      ]
     },
     "execution_count": 28,
     "metadata": {},
     "output_type": "execute_result"
    }
   ],
   "source": [
    "icosa_within = 2.5 * S_factor.evalf(50) * S_factor.evalf(50)\n",
    "icosa_within + 24 * Svol"
   ]
  },
  {
   "cell_type": "markdown",
   "id": "8f84990f-12dc-43aa-8c34-a46fb4871f6d",
   "metadata": {},
   "source": [
    "Yup!"
   ]
  }
 ],
 "metadata": {
  "kernelspec": {
   "display_name": "Python 3 (ipykernel)",
   "language": "python",
   "name": "python3"
  },
  "language_info": {
   "codemirror_mode": {
    "name": "ipython",
    "version": 3
   },
   "file_extension": ".py",
   "mimetype": "text/x-python",
   "name": "python",
   "nbconvert_exporter": "python",
   "pygments_lexer": "ipython3",
   "version": "3.11.3"
  }
 },
 "nbformat": 4,
 "nbformat_minor": 5
}
