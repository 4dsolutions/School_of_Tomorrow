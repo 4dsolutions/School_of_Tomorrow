{
 "cells": [
  {
   "cell_type": "markdown",
   "id": "0adb46d1-6c96-4db1-b442-9e58c62d68b1",
   "metadata": {},
   "source": [
    "# A Sphere in Tetravolumes\n",
    "\n",
    "Imagine a 100 frequency icosasphere, meaning the 20 triangles of the icosahedron have been 3-way cross-hatched by 99 lines (100 intervals) to subdivide each into 100 by 100 subtriangles.  In contrast, the icosa below is 6-frequency, not 100-frequency:\n",
    "\n",
    "<a data-flickr-embed=\"true\" href=\"https://www.flickr.com/photos/kirbyurner/51745860133/in/dateposted-public/\" title=\"project_icosa\"><img src=\"https://live.staticflickr.com/65535/51745860133_8baa47a248_o.jpg\" width=\"354\" height=\"142\" alt=\"project_icosa\"></a><script async src=\"//embedr.flickr.com/assets/client-code.js\" charset=\"utf-8\"></script>\n",
    "\n",
    "How many faces do we have?  Each of twenty faces has 10,000 triangles, so 200K faces."
   ]
  },
  {
   "cell_type": "code",
   "execution_count": 1,
   "id": "15506d16-2727-4c76-91ab-ca3b72be5021",
   "metadata": {},
   "outputs": [
    {
     "data": {
      "text/plain": [
       "200000"
      ]
     },
     "execution_count": 1,
     "metadata": {},
     "output_type": "execute_result"
    }
   ],
   "source": [
    "faces = 20 * (100 * 100)\n",
    "faces"
   ]
  },
  {
   "cell_type": "markdown",
   "id": "0ffb3781-cc30-4b76-ae18-7053cf438b86",
   "metadata": {},
   "source": [
    "We might also use the frequency formula for icosahedral numbers, to get the same answer:"
   ]
  },
  {
   "cell_type": "code",
   "execution_count": 2,
   "id": "83540ddb-982a-47ce-8bb3-76772be60c6e",
   "metadata": {},
   "outputs": [],
   "source": [
    "# from Synergetics\n",
    "F = 100\n",
    "balls = 10 * F * F + 2\n",
    "non_polar_balls = balls - 2\n",
    "edges = non_polar_balls * 3\n",
    "faces = non_polar_balls * 2"
   ]
  },
  {
   "cell_type": "code",
   "execution_count": 3,
   "id": "09b97688-d9ff-4770-90b0-d18158ef9c92",
   "metadata": {},
   "outputs": [
    {
     "data": {
      "text/plain": [
       "200000"
      ]
     },
     "execution_count": 3,
     "metadata": {},
     "output_type": "execute_result"
    }
   ],
   "source": [
    "faces"
   ]
  },
  {
   "cell_type": "code",
   "execution_count": 4,
   "id": "d813965c-d67e-43d1-8e59-a6bfc44c2de7",
   "metadata": {},
   "outputs": [],
   "source": [
    "from math import pi, sqrt as rt2, sin, cos, radians"
   ]
  },
  {
   "cell_type": "markdown",
   "id": "7f4e3df2-7039-4654-ba44-9d8a815b671a",
   "metadata": {},
   "source": [
    "If each of the 200,000 triangular faces has average surface edges of 1 meter, what would the radius R to each of the vertexes have to be, to closely approximate that of a sphere of similar radius?\n",
    "\n",
    "<a data-flickr-embed=\"true\" href=\"https://www.flickr.com/photos/kirbyurner/51745621666/in/dateposted-public/\" title=\"high_frequency_icosa\"><img src=\"https://live.staticflickr.com/65535/51745621666_921d1e41e5_o.jpg\" width=\"229\" height=\"220\" alt=\"high_frequency_icosa\"></a><script async src=\"//embedr.flickr.com/assets/client-code.js\" charset=\"utf-8\"></script>"
   ]
  },
  {
   "cell_type": "code",
   "execution_count": 5,
   "id": "4ce6cac5-4c7d-419b-80bc-06713af9ccde",
   "metadata": {},
   "outputs": [],
   "source": [
    "def sphere_xyz(r=1):  # R units\n",
    "    \"XYZ volume\"\n",
    "    return (4/3) * pi * r**3"
   ]
  },
  {
   "cell_type": "code",
   "execution_count": 6,
   "id": "ab44fdf3-9791-43ef-b37e-1a0e1e00204f",
   "metadata": {},
   "outputs": [],
   "source": [
    "def sphere_ivm(r=0.5): # D units\n",
    "    \"IVM volume\"\n",
    "    return pi * rt2(2) * (2*r)**3"
   ]
  },
  {
   "cell_type": "code",
   "execution_count": 7,
   "id": "0ae432ca-3188-4d8a-ace7-5e379aff14c9",
   "metadata": {},
   "outputs": [],
   "source": [
    "Syn3 = rt2(9/8)"
   ]
  },
  {
   "cell_type": "code",
   "execution_count": 8,
   "id": "b16d9716-6c92-4070-9c14-bfaf42d7dbc4",
   "metadata": {},
   "outputs": [],
   "source": [
    "interval = 1\n",
    "ball_radius = 0.5"
   ]
  },
  {
   "cell_type": "markdown",
   "id": "ddb1c1c6-da1d-4a14-b8eb-ec7c59be4142",
   "metadata": {},
   "source": [
    "The IVM function expects input in terms if Diameters D."
   ]
  },
  {
   "cell_type": "code",
   "execution_count": 9,
   "id": "2c2f64e6-6723-4a7c-896f-b64c0d481361",
   "metadata": {},
   "outputs": [
    {
     "data": {
      "text/plain": [
       "4.1887902047863905"
      ]
     },
     "execution_count": 9,
     "metadata": {},
     "output_type": "execute_result"
    }
   ],
   "source": [
    "sphere_xyz(1)"
   ]
  },
  {
   "cell_type": "code",
   "execution_count": 10,
   "id": "d5c39997-1a4f-4cb0-a8fd-00e7c976636e",
   "metadata": {},
   "outputs": [
    {
     "data": {
      "text/plain": [
       "4.442882938158366"
      ]
     },
     "execution_count": 10,
     "metadata": {},
     "output_type": "execute_result"
    }
   ],
   "source": [
    "sphere_ivm(0.5)  # individual IVM ball in tetravolumes"
   ]
  },
  {
   "cell_type": "code",
   "execution_count": 11,
   "id": "9890d48d-99f7-4b42-bcd1-f4ff511d6d38",
   "metadata": {},
   "outputs": [
    {
     "data": {
      "text/plain": [
       "1.0606601717798214"
      ]
     },
     "execution_count": 11,
     "metadata": {},
     "output_type": "execute_result"
    }
   ],
   "source": [
    "sphere_ivm(0.5) / sphere_xyz(1)  # Syn3"
   ]
  },
  {
   "cell_type": "code",
   "execution_count": 12,
   "id": "d18d0d0d-495d-4784-8cc8-bf7b319ff84a",
   "metadata": {},
   "outputs": [],
   "source": [
    "from tetravolume import Tetrahedron as T"
   ]
  },
  {
   "cell_type": "markdown",
   "id": "da30b105-2344-4498-8a2c-7facc7e1f880",
   "metadata": {},
   "source": [
    "Lets contemplate 200K \"average tetrahedrons\" that come together to approximate a sphere such as the above. \n",
    "\n",
    "In practice, these tetrahedrons cannot all have equal surface edges, as that would make them equilateral and therefore equiangular.  But 60-60-60 triangles do not produce curvature.  \n",
    "\n",
    "<a data-flickr-embed=\"true\" href=\"https://www.flickr.com/photos/kirbyurner/51746507890/in/dateposted-public/\" title=\"moonscape_tetras\"><img src=\"https://live.staticflickr.com/65535/51746507890_a8bc0058eb_o.jpg\" width=\"480\" height=\"332\" alt=\"moonscape_tetras\"></a><script async src=\"//embedr.flickr.com/assets/client-code.js\" charset=\"utf-8\"></script>\n",
    "\n",
    "We need less than 360 degrees around each vertex, albeit only a little less.  All these deltas (degrees less than 360) add up to 720 degrees.  Descartes' Deficit.  Yet every triangle still has 180 degrees.\n",
    "\n",
    "So we stipulate the surface edges \"average\" out to 1, meaning some edges are longer, others shorter."
   ]
  },
  {
   "cell_type": "markdown",
   "id": "62ea5e29-b6eb-49cf-aeea-be7f4c78bf4a",
   "metadata": {},
   "source": [
    "Using surface area, we could say an equilateral triangle that's 1 on a side has only 43% the area of a 1 x 1 square."
   ]
  },
  {
   "cell_type": "code",
   "execution_count": 13,
   "id": "1c57e200-6157-4bf3-883e-2b3604ab9bf7",
   "metadata": {},
   "outputs": [
    {
     "data": {
      "text/plain": [
       "0.4330127018922193"
      ]
     },
     "execution_count": 13,
     "metadata": {},
     "output_type": "execute_result"
    }
   ],
   "source": [
    "tri_area_xyz = sin(radians(60))/2\n",
    "tri_area_xyz"
   ]
  },
  {
   "cell_type": "markdown",
   "id": "d28f9d7b-7e20-4494-a4e7-d429810a492a",
   "metadata": {},
   "source": [
    "So 200K such triangles give a total surface area (in squares) which we may use to get the radius, working backward from $R = \\sqrt{A/4 \\pi}$"
   ]
  },
  {
   "cell_type": "code",
   "execution_count": 14,
   "id": "dae4e94a-0a1e-4bfa-9b38-8527d8aabb1d",
   "metadata": {},
   "outputs": [
    {
     "data": {
      "text/plain": [
       "86602.54037844385"
      ]
     },
     "execution_count": 14,
     "metadata": {},
     "output_type": "execute_result"
    }
   ],
   "source": [
    "sphere_area_xyz = 200000 * tri_area_xyz\n",
    "sphere_area_xyz"
   ]
  },
  {
   "cell_type": "code",
   "execution_count": 15,
   "id": "7afc5dfc-d422-4c28-88d9-f57bb73fac4b",
   "metadata": {},
   "outputs": [
    {
     "data": {
      "text/plain": [
       "83.01572858665037"
      ]
     },
     "execution_count": 15,
     "metadata": {},
     "output_type": "execute_result"
    }
   ],
   "source": [
    "radius = rt2(sphere_area_xyz / (4 * pi))\n",
    "radius"
   ]
  },
  {
   "cell_type": "code",
   "execution_count": 16,
   "id": "61c19e00-5254-46fa-aa28-677f9617de7a",
   "metadata": {},
   "outputs": [
    {
     "data": {
      "text/plain": [
       "20334617.56626723"
      ]
     },
     "execution_count": 16,
     "metadata": {},
     "output_type": "execute_result"
    }
   ],
   "source": [
    "sphere_ivm(radius)"
   ]
  },
  {
   "cell_type": "code",
   "execution_count": 17,
   "id": "2e5a3d3b-57b9-4f43-8ceb-d55460595283",
   "metadata": {},
   "outputs": [
    {
     "data": {
      "text/plain": [
       "20330272.993740145"
      ]
     },
     "execution_count": 17,
     "metadata": {},
     "output_type": "execute_result"
    }
   ],
   "source": [
    "tv = T(83, 83, 83, 1, 1, 1).ivm_volume() * 200000\n",
    "tv"
   ]
  },
  {
   "cell_type": "markdown",
   "id": "2e5c3ff3-9ca8-4852-8df8-509d4be0f0f4",
   "metadata": {},
   "source": [
    "Very close!"
   ]
  },
  {
   "cell_type": "markdown",
   "id": "fe75ad64-3652-432b-8755-1622a30a5398",
   "metadata": {},
   "source": [
    "### Other Constants"
   ]
  },
  {
   "cell_type": "code",
   "execution_count": 18,
   "id": "dd0aca7a-c3d4-49c3-ad81-7c5a3bd52fee",
   "metadata": {},
   "outputs": [],
   "source": [
    "φ         = (rt2(5)+1)/2  # golden ratio\n",
    "Syn3      = rt2(9/8)      # not to be confused with Smod\n",
    "\n",
    "S         = (φ**-5) / 2   # home base Smod\n",
    "\n",
    "Cubocta   = 20\n",
    "SuperRT   = Syn3 * Cubocta\n",
    "\n",
    "E         = (rt2(2) / 8) * (φ**-3)  # home base Emod\n",
    "E3        = (rt2(2) / 8)\n",
    "e3        = E * (φ**-3)\n",
    "\n",
    "S_factor  = S / E   # 2*sqrt(7-3*sqrt(5))"
   ]
  },
  {
   "cell_type": "code",
   "execution_count": 19,
   "id": "8b932eb8-c2f9-4e6e-ac88-d0836fb100f3",
   "metadata": {},
   "outputs": [],
   "source": [
    "icosa = 20 * 1/S_factor"
   ]
  },
  {
   "cell_type": "code",
   "execution_count": 20,
   "id": "8307bc3c-c557-48d7-af90-6c4261f17eca",
   "metadata": {},
   "outputs": [
    {
     "data": {
      "text/plain": [
       "18.512295868219162"
      ]
     },
     "execution_count": 20,
     "metadata": {},
     "output_type": "execute_result"
    }
   ],
   "source": [
    "icosa"
   ]
  }
 ],
 "metadata": {
  "kernelspec": {
   "display_name": "Python 3 (ipykernel)",
   "language": "python",
   "name": "python3"
  },
  "language_info": {
   "codemirror_mode": {
    "name": "ipython",
    "version": 3
   },
   "file_extension": ".py",
   "mimetype": "text/x-python",
   "name": "python",
   "nbconvert_exporter": "python",
   "pygments_lexer": "ipython3",
   "version": "3.7.9"
  }
 },
 "nbformat": 4,
 "nbformat_minor": 5
}
