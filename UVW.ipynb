{
 "cells": [
  {
   "cell_type": "markdown",
   "id": "b74cda4c-5160-41f9-a549-22da2d79c2a1",
   "metadata": {},
   "source": [
    "# Defining the U, V & W Modules\n",
    "\n",
    "These three quants (quantim modules) are not in Synergetics as published, but do extend the same ideas.  David Koski is behind this naming schema, with the U an allusion to Tell Anderson's U.\n",
    "\n",
    "<a data-flickr-embed=\"true\" href=\"https://www.flickr.com/photos/kirbyurner/51773223239/in/dateposted-public/\" title=\"uvw1\"><img src=\"https://live.staticflickr.com/65535/51773223239_5f75c7e85f_c.jpg\" width=\"450\" height=\"800\" alt=\"uvw1\"></a><script async src=\"//embedr.flickr.com/assets/client-code.js\" charset=\"utf-8\"></script>\n",
    "\n",
    "V6 made of (3U+2V+1W)"
   ]
  },
  {
   "cell_type": "code",
   "execution_count": 1,
   "id": "a3bff75c-e85d-420f-b4ad-96bc24f170f7",
   "metadata": {},
   "outputs": [
    {
     "data": {
      "image/jpeg": "[encoded data removed]",
      "text/html": [
       "\n",
       "        <iframe\n",
       "            width=\"400\"\n",
       "            height=\"300\"\n",
       "            src=\"https://www.youtube.com/embed/EbDKiOCcfBY\"\n",
       "            frameborder=\"0\"\n",
       "            allowfullscreen\n",
       "            \n",
       "        ></iframe>\n",
       "        "
      ],
      "text/plain": [
       "<IPython.lib.display.YouTubeVideo at 0x7f7f59bf0400>"
      ]
     },
     "execution_count": 1,
     "metadata": {},
     "output_type": "execute_result"
    }
   ],
   "source": [
    "from IPython.display import YouTubeVideo\n",
    "YouTubeVideo(\"EbDKiOCcfBY\") "
   ]
  },
  {
   "cell_type": "markdown",
   "id": "912d4610-679a-4da3-b71f-25ed55a48a27",
   "metadata": {},
   "source": [
    "<a data-flickr-embed=\"true\" href=\"https://www.flickr.com/photos/kirbyurner/4153868198/in/photolist-ck1iRN-8UZfpy-8SV4qc-8EDMRx-7hDe4L-6QZDdA-6vnr4t-6kGvRg-7k4Eid-6weKyQ/\" title=\"Phi Spiral\"><img src=\"https://live.staticflickr.com/2698/4153868198_7fe9726437_o.jpg\" width=\"299\" height=\"243\" alt=\"Phi Spiral\"></a><script async src=\"//embedr.flickr.com/assets/client-code.js\" charset=\"utf-8\"></script> \n",
    "\n",
    "Synergetics as published focused on the A, B, T (1/24), E and S modules.\n",
    "\n",
    "To review, A and B modules together build the regular tetrahedron and octahedron, the complementary space-fillers of the IVM.  24 As (12 left, 12 right) build the regular tetrahedron.\n",
    "\n",
    "<a data-flickr-embed=\"true\" href=\"https://www.flickr.com/photos/kirbyurner/4073112337/in/photolist-25JufgG-NYVxaA-ujipN3-f75zUP-8ryEix-8ryECF-7pQH9f-7pLP7a-7mcmne-7cVLoM-5zY9gA-5zTRjp-7k4Eid-7jZLe2-7jZLhp-7k4Em5-7k4Ejf\" title=\"A &amp; B Modules\"><img src=\"https://live.staticflickr.com/3508/4073112337_471d7e6804_n.jpg\" width=\"320\" height=\"240\" alt=\"A &amp; B Modules\"></a><script async src=\"//embedr.flickr.com/assets/client-code.js\" charset=\"utf-8\"></script>\n",
    "\n",
    "S module: 24 of them (12 left, 12 right) nestle in the voids twixt the octa of volume 4, and a faces-flush icosahedron of volume approximately 2.91.\n",
    "\n",
    "<a data-flickr-embed=\"true\" href=\"https://www.flickr.com/photos/kirbyurner/6335726352/in/photolist-S4BDeE-2d6EFEQ-25JufgG-22RBsb5-CwvwpP-vLby2U-ujipN3-f75zUP-aDSfHf-8ryEix-8ryECF-7mcmne-5zY9gA-5zTRjp-7k4Eid-7jZLe2-7jZLhp-7k4Ejf-7k4Em5\" title=\"S Module\"><img src=\"https://live.staticflickr.com/6114/6335726352_902009df40_w.jpg\" width=\"400\" height=\"353\" alt=\"S Module\"></a><script async src=\"//embedr.flickr.com/assets/client-code.js\" charset=\"utf-8\"></script>\n",
    "\n",
    "The E module:  120 of them (60 left, 60 right) build the thirty diamond-faced rhombic triacontahedron (RT).  The RT made of Es \"shrink wraps\" an IVM ball. \n",
    "\n",
    "The RT made of 120 Ts have a volume of precisely 5.  The E and T share the same angles (have the same shape) and differ in size only minutely.\n",
    "\n",
    "<a data-flickr-embed=\"true\" href=\"https://www.flickr.com/photos/kirbyurner/4148457444/in/photolist-2mskcxr-8batBx-27mJSE2-9AU59Y-97TTvV-8dyvmP-8awATh-7YZyV3-7nfvNf-7jzVRo-7jzVSm-5STUzp-5DsYfo-5zTRpB-Joybi-JoybP-6BkWWK\" title=\"Rhombic Triacontahedron\"><img src=\"https://live.staticflickr.com/2662/4148457444_60e88eee55_w.jpg\" width=\"400\" height=\"312\" alt=\"Rhombic Triacontahedron\"></a><script async src=\"//embedr.flickr.com/assets/client-code.js\" charset=\"utf-8\"></script>\n",
    "\n",
    "\n",
    "#### Additional Nomenclature\n",
    "\n",
    "U3 means all edges phi-up (φ scaled) so volume goes up as a factor of φ to the 3rd.\n",
    "\n",
    "u3 means all edges phi-down (1/φ scaled) so volume decreases as a factor of (1/φ) to the 3rd.\n",
    "\n",
    "Ditto for other letters (E3, S3, v3, w3 and so on)."
   ]
  },
  {
   "cell_type": "code",
   "execution_count": 2,
   "id": "a8b3964e-ce5d-49f6-a124-8c4df8584be3",
   "metadata": {},
   "outputs": [],
   "source": [
    "from math import sqrt as rt2"
   ]
  },
  {
   "cell_type": "code",
   "execution_count": 3,
   "id": "d379123d-b10c-4003-9b44-fd6402e0bcff",
   "metadata": {},
   "outputs": [],
   "source": [
    "φ         = (rt2(5)+1)/2  # golden ratio\n",
    "Syn3      = rt2(9/8)      # not to be confused with Smod\n",
    "\n",
    "S         = (φ**-5) / 2   # home base Smod\n",
    "\n",
    "Cubocta   = 20\n",
    "SuperRT   = Syn3 * Cubocta\n",
    "\n",
    "E3        = (rt2(2) / 8)\n",
    "E         = E3 * (φ**-3)  # home base Emod\n",
    "e3        = E  * (φ**-3)\n",
    "e6        = e3 * (φ**-3)\n",
    "\n",
    "S_factor  = S / E   # 2*sqrt(7-3*sqrt(5))"
   ]
  },
  {
   "cell_type": "markdown",
   "id": "31cb57f2-546f-49af-b785-aba99d2d9e8e",
   "metadata": {},
   "source": [
    "For computing tetrahedron volumes from six edges, we have a choice of formulae.  I'm using Gerald de Jong's (GdJ).  David works with Piero della Francesca's."
   ]
  },
  {
   "cell_type": "code",
   "execution_count": 4,
   "id": "7671426f-ac04-4245-8625-ffcaaa10d3d8",
   "metadata": {},
   "outputs": [],
   "source": [
    "from tetravolume import Tetrahedron as T"
   ]
  },
  {
   "cell_type": "markdown",
   "id": "4acb05f4-ec7e-4999-9850-d02960d57578",
   "metadata": {},
   "source": [
    "# W Module\n",
    "\n",
    "Expected volume:  E3 + E or $(\\sqrt{2}/4)\\phi^{-1}$"
   ]
  },
  {
   "cell_type": "code",
   "execution_count": 5,
   "id": "92516564-6eea-4e11-879c-9ed242684839",
   "metadata": {},
   "outputs": [
    {
     "data": {
      "text/plain": [
       "0.21850801222441055"
      ]
     },
     "execution_count": 5,
     "metadata": {},
     "output_type": "execute_result"
    }
   ],
   "source": [
    "W = E3 + E\n",
    "W"
   ]
  },
  {
   "cell_type": "code",
   "execution_count": 6,
   "id": "c2ce2c4a-1766-470a-b81a-756226ce9074",
   "metadata": {},
   "outputs": [
    {
     "data": {
      "text/plain": [
       "0.21850801222441052"
      ]
     },
     "execution_count": 6,
     "metadata": {},
     "output_type": "execute_result"
    }
   ],
   "source": [
    "(rt2(2)/4)*φ**-1"
   ]
  },
  {
   "cell_type": "code",
   "execution_count": 7,
   "id": "6d015a98-5e73-4379-9b87-2dc76bd4f12c",
   "metadata": {},
   "outputs": [],
   "source": [
    "# in R = 1 units\n",
    "a = rt2(φ**-2 + 1)\n",
    "b = rt2(φ**2 + 1 )\n",
    "c = rt2(3) \n",
    "d = rt2(3)\n",
    "e = rt2(3*φ**-2)\n",
    "f = rt2(φ**-2 + 1)"
   ]
  },
  {
   "cell_type": "code",
   "execution_count": 8,
   "id": "f7f8d273-8e28-4de9-9576-77eaaecaa721",
   "metadata": {},
   "outputs": [
    {
     "data": {
      "text/plain": [
       "(1.1755705045849463,\n",
       " 1.902113032590307,\n",
       " 1.7320508075688772,\n",
       " 1.7320508075688772,\n",
       " 1.07046626931927,\n",
       " 1.1755705045849463)"
      ]
     },
     "execution_count": 8,
     "metadata": {},
     "output_type": "execute_result"
    }
   ],
   "source": [
    "a, b, c, d, e, f"
   ]
  },
  {
   "cell_type": "markdown",
   "id": "23015a52-8f50-4d4a-b01d-2e3a3df461f7",
   "metadata": {},
   "source": [
    "The above dimensions assume R = 1, where R is the radius of any IVM ball.  The volume-from-edges formula used below assumes D = 1, so the lengths get halved.  Also, the order in which the edges get entered is:  three from any apex, then the edges around the base in the same order.\n",
    "\n",
    "<a data-flickr-embed=\"true\" href=\"https://www.flickr.com/photos/kirbyurner/51756102189/in/dateposted-public/\" title=\"reference_tet\"><img src=\"https://live.staticflickr.com/65535/51756102189_221ba14b82_w.jpg\" width=\"400\" height=\"395\" alt=\"reference_tet\"></a><script async src=\"//embedr.flickr.com/assets/client-code.js\" charset=\"utf-8\"></script>"
   ]
  },
  {
   "cell_type": "code",
   "execution_count": 9,
   "id": "866cd047-0a69-4e6e-b2af-1d7516327281",
   "metadata": {},
   "outputs": [
    {
     "data": {
      "text/latex": [
       "$\\displaystyle 0.218508012224411$"
      ],
      "text/plain": [
       "0.218508012224411"
      ]
     },
     "execution_count": 9,
     "metadata": {},
     "output_type": "execute_result"
    }
   ],
   "source": [
    "T(a/2, c/2, e/2, b/2, f/2, d/2).ivm_volume() # D = 1"
   ]
  },
  {
   "cell_type": "markdown",
   "id": "c2db67a8-1823-4ef9-b740-411cb04bb6ff",
   "metadata": {},
   "source": [
    "# U3 Module\n",
    "\n",
    "Expected volume: 2E3 or $(\\sqrt{2}/4)$"
   ]
  },
  {
   "cell_type": "code",
   "execution_count": 10,
   "id": "cb5d1109-43a6-49b2-abdc-1db50a4134ed",
   "metadata": {},
   "outputs": [
    {
     "data": {
      "text/plain": [
       "0.3535533905932738"
      ]
     },
     "execution_count": 10,
     "metadata": {},
     "output_type": "execute_result"
    }
   ],
   "source": [
    "U3 = 2 * E3\n",
    "U3"
   ]
  },
  {
   "cell_type": "code",
   "execution_count": 11,
   "id": "d83b9793-fd61-463a-9042-78a3e0387e2a",
   "metadata": {},
   "outputs": [
    {
     "data": {
      "text/plain": [
       "0.3535533905932738"
      ]
     },
     "execution_count": 11,
     "metadata": {},
     "output_type": "execute_result"
    }
   ],
   "source": [
    "rt2(2)/4"
   ]
  },
  {
   "cell_type": "code",
   "execution_count": 12,
   "id": "9c2ad896-1c80-43a0-95c7-c4b915fe6bd9",
   "metadata": {},
   "outputs": [],
   "source": [
    "# in R = 1 units\n",
    "a = rt2(φ**-2 + 1)\n",
    "b = rt2(φ**2 + 1)\n",
    "c = rt2(3)\n",
    "d = rt2(3) \n",
    "e = rt2(φ**2 + 1)\n",
    "f = rt2(φ**-2 + 1)"
   ]
  },
  {
   "cell_type": "code",
   "execution_count": 13,
   "id": "dee7000d-98b0-4f90-af06-1dd3ad798c15",
   "metadata": {},
   "outputs": [
    {
     "data": {
      "text/plain": [
       "(1.1755705045849463,\n",
       " 1.902113032590307,\n",
       " 1.7320508075688772,\n",
       " 1.7320508075688772,\n",
       " 1.902113032590307,\n",
       " 1.1755705045849463)"
      ]
     },
     "execution_count": 13,
     "metadata": {},
     "output_type": "execute_result"
    }
   ],
   "source": [
    "a, b, c, d, e, f"
   ]
  },
  {
   "cell_type": "code",
   "execution_count": 14,
   "id": "a94da294-c83d-4c2b-ac9d-0582c0dd06f7",
   "metadata": {},
   "outputs": [
    {
     "data": {
      "text/latex": [
       "$\\displaystyle 0.353553390593274$"
      ],
      "text/plain": [
       "0.353553390593274"
      ]
     },
     "execution_count": 14,
     "metadata": {},
     "output_type": "execute_result"
    }
   ],
   "source": [
    "T(a/2, c/2, e/2, b/2, f/2, d/2).ivm_volume() # D = 1"
   ]
  },
  {
   "cell_type": "markdown",
   "id": "ee66662b-7321-44e4-8e67-9d8c9ab10034",
   "metadata": {},
   "source": [
    "# V3 Module\n",
    "\n",
    "Expected volume:  V3 = 3E3 + E or or $(\\sqrt{2}/4)\\phi$"
   ]
  },
  {
   "cell_type": "code",
   "execution_count": 15,
   "id": "9bbb3353-13c3-483f-82fe-a1dac279c837",
   "metadata": {},
   "outputs": [
    {
     "data": {
      "text/plain": [
       "0.5720614028176844"
      ]
     },
     "execution_count": 15,
     "metadata": {},
     "output_type": "execute_result"
    }
   ],
   "source": [
    "V3 = 3 * E3 + E\n",
    "V3"
   ]
  },
  {
   "cell_type": "code",
   "execution_count": 16,
   "id": "c5cfa255-eb8d-4356-9c1f-87caaa846d7e",
   "metadata": {},
   "outputs": [
    {
     "data": {
      "text/plain": [
       "0.5720614028176844"
      ]
     },
     "execution_count": 16,
     "metadata": {},
     "output_type": "execute_result"
    }
   ],
   "source": [
    "(rt2(2)/4)*φ"
   ]
  },
  {
   "cell_type": "code",
   "execution_count": 17,
   "id": "9d44cb61-c5b7-4593-821b-51223695767a",
   "metadata": {},
   "outputs": [],
   "source": [
    "a = rt2(φ**-2 + 1)\n",
    "b = rt2(φ**2 + 1)\n",
    "c = rt2(3)\n",
    "d = rt2(3)\n",
    "e = rt2(φ**2 + 1)\n",
    "f = rt2(3*φ**2)"
   ]
  },
  {
   "cell_type": "code",
   "execution_count": 18,
   "id": "0e8f3bfc-9013-46b4-9c58-2218bf4cd8d3",
   "metadata": {},
   "outputs": [
    {
     "data": {
      "text/plain": [
       "(1.1755705045849463,\n",
       " 1.902113032590307,\n",
       " 1.7320508075688772,\n",
       " 1.7320508075688772,\n",
       " 1.902113032590307,\n",
       " 2.8025170768881473)"
      ]
     },
     "execution_count": 18,
     "metadata": {},
     "output_type": "execute_result"
    }
   ],
   "source": [
    "a, b, c, d, e, f"
   ]
  },
  {
   "cell_type": "code",
   "execution_count": 19,
   "id": "45641217-41b2-4e8a-81fa-bc20aa8f138e",
   "metadata": {},
   "outputs": [
    {
     "data": {
      "text/latex": [
       "$\\displaystyle 0.572061402817684$"
      ],
      "text/plain": [
       "0.572061402817684"
      ]
     },
     "execution_count": 19,
     "metadata": {},
     "output_type": "execute_result"
    }
   ],
   "source": [
    "V3 = T(a/2, c/2, e/2, b/2, f/2, d/2).ivm_volume() # D = 1\n",
    "V3"
   ]
  },
  {
   "cell_type": "markdown",
   "id": "cf6f99c0-8bf9-4ce7-aa55-444a474b7fca",
   "metadata": {},
   "source": [
    "# Relationships Between U, V, W"
   ]
  },
  {
   "cell_type": "code",
   "execution_count": 20,
   "id": "95785d4b-76bd-412f-b13b-0b881c575484",
   "metadata": {},
   "outputs": [
    {
     "data": {
      "text/latex": [
       "$\\displaystyle 1.61803398874989$"
      ],
      "text/plain": [
       "1.61803398874989"
      ]
     },
     "execution_count": 20,
     "metadata": {},
     "output_type": "execute_result"
    }
   ],
   "source": [
    "V3/U3"
   ]
  },
  {
   "cell_type": "code",
   "execution_count": 21,
   "id": "6f441219-bdcc-4861-9b31-f77eff699f34",
   "metadata": {},
   "outputs": [
    {
     "data": {
      "text/plain": [
       "1.618033988749895"
      ]
     },
     "execution_count": 21,
     "metadata": {},
     "output_type": "execute_result"
    }
   ],
   "source": [
    "U3/W"
   ]
  },
  {
   "cell_type": "code",
   "execution_count": 22,
   "id": "e2d33124-525f-4942-a553-d660c3fe2f0f",
   "metadata": {},
   "outputs": [],
   "source": [
    "U = U3 * (φ**-3) \n",
    "V = V3 * (φ**-3)"
   ]
  },
  {
   "cell_type": "code",
   "execution_count": 23,
   "id": "76f9dd47-c528-4ae2-a8e1-3d468e327e9a",
   "metadata": {},
   "outputs": [
    {
     "data": {
      "text/latex": [
       "$\\displaystyle 0.21850801222441$"
      ],
      "text/plain": [
       "0.218508012224410"
      ]
     },
     "execution_count": 23,
     "metadata": {},
     "output_type": "execute_result"
    }
   ],
   "source": [
    "U + V"
   ]
  },
  {
   "cell_type": "code",
   "execution_count": 24,
   "id": "bd096b6b-d036-494b-b8f4-b1466d054879",
   "metadata": {},
   "outputs": [
    {
     "data": {
      "text/plain": [
       "0.21850801222441055"
      ]
     },
     "execution_count": 24,
     "metadata": {},
     "output_type": "execute_result"
    }
   ],
   "source": [
    "W"
   ]
  },
  {
   "cell_type": "code",
   "execution_count": 25,
   "id": "7412d3c8-f770-41eb-b740-eae00bcd3f87",
   "metadata": {},
   "outputs": [
    {
     "data": {
      "text/latex": [
       "$\\displaystyle 0.618033988749895$"
      ],
      "text/plain": [
       "0.618033988749895"
      ]
     },
     "execution_count": 25,
     "metadata": {},
     "output_type": "execute_result"
    }
   ],
   "source": [
    "U/V"
   ]
  },
  {
   "cell_type": "code",
   "execution_count": 26,
   "id": "9dbe5181-7a67-4bd3-a77d-4dafa291a003",
   "metadata": {},
   "outputs": [
    {
     "data": {
      "text/latex": [
       "$\\displaystyle 0.618033988749895$"
      ],
      "text/plain": [
       "0.618033988749895"
      ]
     },
     "execution_count": 26,
     "metadata": {},
     "output_type": "execute_result"
    }
   ],
   "source": [
    "V/W"
   ]
  },
  {
   "cell_type": "code",
   "execution_count": 27,
   "id": "54f651f6-7a43-49d3-bc52-811a1ef4d3b4",
   "metadata": {},
   "outputs": [
    {
     "data": {
      "text/latex": [
       "$\\displaystyle 0.353553390593274$"
      ],
      "text/plain": [
       "0.353553390593274"
      ]
     },
     "execution_count": 27,
     "metadata": {},
     "output_type": "execute_result"
    }
   ],
   "source": [
    "V + W"
   ]
  },
  {
   "cell_type": "code",
   "execution_count": 28,
   "id": "71ff2807-8bf8-4ea4-9d7f-1074b5c58939",
   "metadata": {},
   "outputs": [
    {
     "data": {
      "text/plain": [
       "0.3535533905932738"
      ]
     },
     "execution_count": 28,
     "metadata": {},
     "output_type": "execute_result"
    }
   ],
   "source": [
    "U3"
   ]
  },
  {
   "cell_type": "markdown",
   "id": "75868ded-86d3-485b-ae4a-58746395307d",
   "metadata": {},
   "source": [
    "<a data-flickr-embed=\"true\" href=\"https://www.flickr.com/photos/kirbyurner/51773221344/in/dateposted-public/\" title=\"uvw_module_spiral2\"><img src=\"https://live.staticflickr.com/65535/51773221344_c2992d8e0f_c.jpg\" width=\"800\" height=\"450\" alt=\"uvw_module_spiral2\"></a><script async src=\"//embedr.flickr.com/assets/client-code.js\" charset=\"utf-8\"></script>\n",
    "\n",
    "From David:\n",
    "\n",
    "More on the u v w sequence:\n",
    "This part of the helix, starts with a V and the largest is a V9 <br />\n",
    "V, V3, V6, V9 <br />\n",
    "4 V tetrahedra 3U & 3W scaled of course<br />"
   ]
  }
 ],
 "metadata": {
  "kernelspec": {
   "display_name": "Python 3 (ipykernel)",
   "language": "python",
   "name": "python3"
  },
  "language_info": {
   "codemirror_mode": {
    "name": "ipython",
    "version": 3
   },
   "file_extension": ".py",
   "mimetype": "text/x-python",
   "name": "python",
   "nbconvert_exporter": "python",
   "pygments_lexer": "ipython3",
   "version": "3.9.12"
  }
 },
 "nbformat": 4,
 "nbformat_minor": 5
}
