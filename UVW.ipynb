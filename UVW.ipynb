{
 "cells": [
  {
   "cell_type": "code",
   "execution_count": 1,
   "id": "a8b3964e-ce5d-49f6-a124-8c4df8584be3",
   "metadata": {},
   "outputs": [],
   "source": [
    "from math import sqrt as rt2"
   ]
  },
  {
   "cell_type": "code",
   "execution_count": 2,
   "id": "d379123d-b10c-4003-9b44-fd6402e0bcff",
   "metadata": {},
   "outputs": [],
   "source": [
    "φ = (rt2(5)+1)/2  # golden ratio"
   ]
  },
  {
   "cell_type": "code",
   "execution_count": 3,
   "id": "7671426f-ac04-4245-8625-ffcaaa10d3d8",
   "metadata": {},
   "outputs": [],
   "source": [
    "from tetravolume import Tetrahedron as T"
   ]
  },
  {
   "cell_type": "markdown",
   "id": "4acb05f4-ec7e-4999-9850-d02960d57578",
   "metadata": {},
   "source": [
    "# W Module"
   ]
  },
  {
   "cell_type": "code",
   "execution_count": 4,
   "id": "6d015a98-5e73-4379-9b87-2dc76bd4f12c",
   "metadata": {},
   "outputs": [],
   "source": [
    "A = φ**-2 + 1\n",
    "B = φ**2 + 1 \n",
    "C = 3 \n",
    "D = 3\n",
    "E = 3*φ**-2\n",
    "F = φ**-2 + 1"
   ]
  },
  {
   "cell_type": "code",
   "execution_count": 5,
   "id": "f7f8d273-8e28-4de9-9576-77eaaecaa721",
   "metadata": {},
   "outputs": [
    {
     "data": {
      "text/plain": [
       "(1.381966011250105,\n",
       " 3.618033988749895,\n",
       " 3,\n",
       " 3,\n",
       " 1.1458980337503155,\n",
       " 1.381966011250105)"
      ]
     },
     "execution_count": 5,
     "metadata": {},
     "output_type": "execute_result"
    }
   ],
   "source": [
    "A, B, C, D, E, F"
   ]
  },
  {
   "cell_type": "code",
   "execution_count": 6,
   "id": "866cd047-0a69-4e6e-b2af-1d7516327281",
   "metadata": {},
   "outputs": [
    {
     "data": {
      "text/plain": [
       "(6.782015810777035e-16+11.07587235029551j)"
      ]
     },
     "execution_count": 6,
     "metadata": {},
     "output_type": "execute_result"
    }
   ],
   "source": [
    "T(A,B,C,D,F,E).ivm_volume()"
   ]
  },
  {
   "cell_type": "markdown",
   "id": "c2db67a8-1823-4ef9-b740-411cb04bb6ff",
   "metadata": {},
   "source": [
    "# U3 Module"
   ]
  },
  {
   "cell_type": "code",
   "execution_count": 7,
   "id": "9c2ad896-1c80-43a0-95c7-c4b915fe6bd9",
   "metadata": {},
   "outputs": [],
   "source": [
    "A = φ**-2 + 1\n",
    "B = φ**2 + 1\n",
    "C = 3\n",
    "D = 3 \n",
    "E = φ**2 + 1\n",
    "F = φ**-2 + 1"
   ]
  },
  {
   "cell_type": "code",
   "execution_count": 8,
   "id": "dee7000d-98b0-4f90-af06-1dd3ad798c15",
   "metadata": {},
   "outputs": [
    {
     "data": {
      "text/plain": [
       "(1.381966011250105,\n",
       " 3.618033988749895,\n",
       " 3,\n",
       " 3,\n",
       " 3.618033988749895,\n",
       " 1.381966011250105)"
      ]
     },
     "execution_count": 8,
     "metadata": {},
     "output_type": "execute_result"
    }
   ],
   "source": [
    "A, B, C, D, E, F"
   ]
  },
  {
   "cell_type": "code",
   "execution_count": 9,
   "id": "bdeb1d66-ff17-47eb-bc0d-7b3b939e8b1e",
   "metadata": {},
   "outputs": [
    {
     "data": {
      "text/plain": [
       "(9.949077628387608e-16+16.248076809271936j)"
      ]
     },
     "execution_count": 9,
     "metadata": {},
     "output_type": "execute_result"
    }
   ],
   "source": [
    "T(A,B,C,D,F,E).ivm_volume()"
   ]
  },
  {
   "cell_type": "markdown",
   "id": "ee66662b-7321-44e4-8e67-9d8c9ab10034",
   "metadata": {},
   "source": [
    "# V3 Module"
   ]
  },
  {
   "cell_type": "code",
   "execution_count": 10,
   "id": "9d44cb61-c5b7-4593-821b-51223695767a",
   "metadata": {},
   "outputs": [],
   "source": [
    "A = φ**-2 + 1\n",
    "B = φ**2 + 1\n",
    "C = 3\n",
    "D = 3\n",
    "E = φ**2 + 1 \n",
    "F = 3*φ**2"
   ]
  },
  {
   "cell_type": "code",
   "execution_count": 11,
   "id": "0e8f3bfc-9013-46b4-9c58-2218bf4cd8d3",
   "metadata": {},
   "outputs": [
    {
     "data": {
      "text/plain": [
       "(1.381966011250105,\n",
       " 3.618033988749895,\n",
       " 3,\n",
       " 3,\n",
       " 3.618033988749895,\n",
       " 7.854101966249685)"
      ]
     },
     "execution_count": 11,
     "metadata": {},
     "output_type": "execute_result"
    }
   ],
   "source": [
    "A, B, C, D, E, F"
   ]
  },
  {
   "cell_type": "code",
   "execution_count": 12,
   "id": "45641217-41b2-4e8a-81fa-bc20aa8f138e",
   "metadata": {},
   "outputs": [
    {
     "data": {
      "text/plain": [
       "(1.918170903639829e-15+31.3261081476771j)"
      ]
     },
     "execution_count": 12,
     "metadata": {},
     "output_type": "execute_result"
    }
   ],
   "source": [
    "T(A,B,C,D,F,E).ivm_volume()"
   ]
  }
 ],
 "metadata": {
  "kernelspec": {
   "display_name": "Python 3 (ipykernel)",
   "language": "python",
   "name": "python3"
  },
  "language_info": {
   "codemirror_mode": {
    "name": "ipython",
    "version": 3
   },
   "file_extension": ".py",
   "mimetype": "text/x-python",
   "name": "python",
   "nbconvert_exporter": "python",
   "pygments_lexer": "ipython3",
   "version": "3.7.9"
  }
 },
 "nbformat": 4,
 "nbformat_minor": 5
}
