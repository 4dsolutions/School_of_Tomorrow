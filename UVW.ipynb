{
 "cells": [
  {
   "cell_type": "markdown",
   "id": "a54a58d2-2452-48c7-8c72-ad8dbfb9e707",
   "metadata": {},
   "source": [
    "# U, V, W Modules\n",
    "\n",
    "These three quants (quantim modules) are not in Synergetics as published, but do extend the same ideas.  David Koski is behind this naming schema, with the U an allusion to Tell Anderson's U.\n",
    "\n",
    "<a data-flickr-embed=\"true\" href=\"https://www.flickr.com/photos/kirbyurner/4153868198/in/photolist-ck1iRN-8UZfpy-8SV4qc-8EDMRx-7hDe4L-6QZDdA-6vnr4t-6kGvRg-7k4Eid-6weKyQ/\" title=\"Phi Spiral\"><img src=\"https://live.staticflickr.com/2698/4153868198_7fe9726437_o.jpg\" width=\"299\" height=\"243\" alt=\"Phi Spiral\"></a><script async src=\"//embedr.flickr.com/assets/client-code.js\" charset=\"utf-8\"></script> \n",
    "\n",
    "Synergetics as published focused on the A, B, T (1/24), E and S modules.\n",
    "\n",
    "#### Nomenclature\n",
    "\n",
    "U3 means all edges phi-up (φ scaled) so volume goes up as a factor of φ to the 3rd.\n",
    "\n",
    "u3 means all edges phi-down (1/φ scaled) so volume decreases as a factor of (1/φ) to the 3rd.\n",
    "\n",
    "Ditto for other letters (E3, S3, v3, w3 and so on)."
   ]
  },
  {
   "cell_type": "code",
   "execution_count": 1,
   "id": "a8b3964e-ce5d-49f6-a124-8c4df8584be3",
   "metadata": {},
   "outputs": [],
   "source": [
    "from math import sqrt as rt2"
   ]
  },
  {
   "cell_type": "code",
   "execution_count": 2,
   "id": "d379123d-b10c-4003-9b44-fd6402e0bcff",
   "metadata": {},
   "outputs": [],
   "source": [
    "φ         = (rt2(5)+1)/2  # golden ratio\n",
    "Syn3      = rt2(9/8)      # not to be confused with Smod\n",
    "\n",
    "S         = (φ**-5) / 2   # home base Smod\n",
    "\n",
    "Cubocta   = 20\n",
    "SuperRT   = Syn3 * Cubocta\n",
    "\n",
    "E3        = (rt2(2) / 8)\n",
    "E         = E3 * (φ**-3)  # home base Emod\n",
    "e3        = E  * (φ**-3)\n",
    "e6        = e3 * (φ**-3)\n",
    "\n",
    "S_factor  = S / E   # 2*sqrt(7-3*sqrt(5))"
   ]
  },
  {
   "cell_type": "markdown",
   "id": "31cb57f2-546f-49af-b785-aba99d2d9e8e",
   "metadata": {},
   "source": [
    "For computing tetrahedron volumes from six edges, we have a choice of formulae.  I'm using Gerald de Jong's (GdJ).  David works with Piero della Francesca's."
   ]
  },
  {
   "cell_type": "code",
   "execution_count": 3,
   "id": "7671426f-ac04-4245-8625-ffcaaa10d3d8",
   "metadata": {},
   "outputs": [],
   "source": [
    "from tetravolume import Tetrahedron as T"
   ]
  },
  {
   "cell_type": "markdown",
   "id": "4acb05f4-ec7e-4999-9850-d02960d57578",
   "metadata": {},
   "source": [
    "# W Module\n",
    "\n",
    "Expected volume:  E3 + E or $(\\sqrt{2}/4)\\phi^{-1}$"
   ]
  },
  {
   "cell_type": "code",
   "execution_count": 4,
   "id": "92516564-6eea-4e11-879c-9ed242684839",
   "metadata": {},
   "outputs": [
    {
     "data": {
      "text/plain": [
       "0.21850801222441055"
      ]
     },
     "execution_count": 4,
     "metadata": {},
     "output_type": "execute_result"
    }
   ],
   "source": [
    "W = E3 + E\n",
    "W"
   ]
  },
  {
   "cell_type": "code",
   "execution_count": 5,
   "id": "c2ce2c4a-1766-470a-b81a-756226ce9074",
   "metadata": {},
   "outputs": [
    {
     "data": {
      "text/plain": [
       "0.21850801222441052"
      ]
     },
     "execution_count": 5,
     "metadata": {},
     "output_type": "execute_result"
    }
   ],
   "source": [
    "(rt2(2)/4)*φ**-1"
   ]
  },
  {
   "cell_type": "code",
   "execution_count": 6,
   "id": "6d015a98-5e73-4379-9b87-2dc76bd4f12c",
   "metadata": {},
   "outputs": [],
   "source": [
    "# in R = 1 units\n",
    "a = rt2(φ**-2 + 1)\n",
    "b = rt2(φ**2 + 1 )\n",
    "c = rt2(3) \n",
    "d = rt2(3)\n",
    "e = rt2(3*φ**-2)\n",
    "f = rt2(φ**-2 + 1)"
   ]
  },
  {
   "cell_type": "code",
   "execution_count": 7,
   "id": "f7f8d273-8e28-4de9-9576-77eaaecaa721",
   "metadata": {},
   "outputs": [
    {
     "data": {
      "text/plain": [
       "(1.1755705045849463,\n",
       " 1.902113032590307,\n",
       " 1.7320508075688772,\n",
       " 1.7320508075688772,\n",
       " 1.07046626931927,\n",
       " 1.1755705045849463)"
      ]
     },
     "execution_count": 7,
     "metadata": {},
     "output_type": "execute_result"
    }
   ],
   "source": [
    "a, b, c, d, e, f"
   ]
  },
  {
   "cell_type": "code",
   "execution_count": 8,
   "id": "866cd047-0a69-4e6e-b2af-1d7516327281",
   "metadata": {},
   "outputs": [
    {
     "data": {
      "text/plain": [
       "0.23198437144285575"
      ]
     },
     "execution_count": 8,
     "metadata": {},
     "output_type": "execute_result"
    }
   ],
   "source": [
    "T(a/2, b/2, c/2, d/2, e/2, f/2).ivm_volume() # D = 1"
   ]
  },
  {
   "cell_type": "markdown",
   "id": "c2db67a8-1823-4ef9-b740-411cb04bb6ff",
   "metadata": {},
   "source": [
    "# U3 Module\n",
    "\n",
    "Expected volume: 2E3 or $(\\sqrt{2}/4)$"
   ]
  },
  {
   "cell_type": "code",
   "execution_count": 9,
   "id": "cb5d1109-43a6-49b2-abdc-1db50a4134ed",
   "metadata": {},
   "outputs": [
    {
     "data": {
      "text/plain": [
       "0.3535533905932738"
      ]
     },
     "execution_count": 9,
     "metadata": {},
     "output_type": "execute_result"
    }
   ],
   "source": [
    "U3 = 2 * E3\n",
    "U3"
   ]
  },
  {
   "cell_type": "code",
   "execution_count": 10,
   "id": "d83b9793-fd61-463a-9042-78a3e0387e2a",
   "metadata": {},
   "outputs": [
    {
     "data": {
      "text/plain": [
       "0.3535533905932738"
      ]
     },
     "execution_count": 10,
     "metadata": {},
     "output_type": "execute_result"
    }
   ],
   "source": [
    "rt2(2)/4"
   ]
  },
  {
   "cell_type": "code",
   "execution_count": 11,
   "id": "9c2ad896-1c80-43a0-95c7-c4b915fe6bd9",
   "metadata": {},
   "outputs": [],
   "source": [
    "# in R = 1 units\n",
    "a = rt2(φ**-2 + 1)\n",
    "b = rt2(φ**2 + 1)\n",
    "c = rt2(3)\n",
    "d = rt2(3) \n",
    "e = rt2(φ**2 + 1)\n",
    "f = rt2(φ**-2 + 1)"
   ]
  },
  {
   "cell_type": "code",
   "execution_count": 12,
   "id": "dee7000d-98b0-4f90-af06-1dd3ad798c15",
   "metadata": {},
   "outputs": [
    {
     "data": {
      "text/plain": [
       "(1.1755705045849463,\n",
       " 1.902113032590307,\n",
       " 1.7320508075688772,\n",
       " 1.7320508075688772,\n",
       " 1.902113032590307,\n",
       " 1.1755705045849463)"
      ]
     },
     "execution_count": 12,
     "metadata": {},
     "output_type": "execute_result"
    }
   ],
   "source": [
    "a, b, c, d, e, f"
   ]
  },
  {
   "cell_type": "code",
   "execution_count": 13,
   "id": "a94da294-c83d-4c2b-ac9d-0582c0dd06f7",
   "metadata": {},
   "outputs": [
    {
     "data": {
      "text/plain": [
       "0.3535533905932738"
      ]
     },
     "execution_count": 13,
     "metadata": {},
     "output_type": "execute_result"
    }
   ],
   "source": [
    "T(a/2, c/2, e/2, b/2, f/2, d/2).ivm_volume() # D = 1"
   ]
  },
  {
   "cell_type": "markdown",
   "id": "ee66662b-7321-44e4-8e67-9d8c9ab10034",
   "metadata": {},
   "source": [
    "# V3 Module\n",
    "\n",
    "Expected volume:  V3 = 3E3 + E or or $(\\sqrt{2}/4)\\phi$"
   ]
  },
  {
   "cell_type": "code",
   "execution_count": 14,
   "id": "9bbb3353-13c3-483f-82fe-a1dac279c837",
   "metadata": {},
   "outputs": [
    {
     "data": {
      "text/plain": [
       "0.5720614028176844"
      ]
     },
     "execution_count": 14,
     "metadata": {},
     "output_type": "execute_result"
    }
   ],
   "source": [
    "V3 = 3 * E3 + E\n",
    "V3"
   ]
  },
  {
   "cell_type": "code",
   "execution_count": 15,
   "id": "c5cfa255-eb8d-4356-9c1f-87caaa846d7e",
   "metadata": {},
   "outputs": [
    {
     "data": {
      "text/plain": [
       "0.5720614028176844"
      ]
     },
     "execution_count": 15,
     "metadata": {},
     "output_type": "execute_result"
    }
   ],
   "source": [
    "(rt2(2)/4)*φ"
   ]
  },
  {
   "cell_type": "code",
   "execution_count": 16,
   "id": "9d44cb61-c5b7-4593-821b-51223695767a",
   "metadata": {},
   "outputs": [],
   "source": [
    "a = rt2(φ**-2 + 1)\n",
    "b = rt2(φ**2 + 1)\n",
    "c = rt2(3)\n",
    "d = rt2(3)\n",
    "e = rt2(φ**2 + 1)\n",
    "f = rt2(3*φ**2)"
   ]
  },
  {
   "cell_type": "code",
   "execution_count": 17,
   "id": "0e8f3bfc-9013-46b4-9c58-2218bf4cd8d3",
   "metadata": {},
   "outputs": [
    {
     "data": {
      "text/plain": [
       "(1.1755705045849463,\n",
       " 1.902113032590307,\n",
       " 1.7320508075688772,\n",
       " 1.7320508075688772,\n",
       " 1.902113032590307,\n",
       " 2.8025170768881473)"
      ]
     },
     "execution_count": 17,
     "metadata": {},
     "output_type": "execute_result"
    }
   ],
   "source": [
    "a, b, c, d, e, f"
   ]
  },
  {
   "cell_type": "code",
   "execution_count": 18,
   "id": "45641217-41b2-4e8a-81fa-bc20aa8f138e",
   "metadata": {},
   "outputs": [
    {
     "data": {
      "text/plain": [
       "0.5720614028176841"
      ]
     },
     "execution_count": 18,
     "metadata": {},
     "output_type": "execute_result"
    }
   ],
   "source": [
    "V3 = T(a/2, c/2, e/2, b/2, f/2, d/2).ivm_volume() # D = 1\n",
    "V3"
   ]
  },
  {
   "cell_type": "code",
   "execution_count": 19,
   "id": "95785d4b-76bd-412f-b13b-0b881c575484",
   "metadata": {},
   "outputs": [
    {
     "data": {
      "text/plain": [
       "1.6180339887498942"
      ]
     },
     "execution_count": 19,
     "metadata": {},
     "output_type": "execute_result"
    }
   ],
   "source": [
    "V3/U3"
   ]
  },
  {
   "cell_type": "code",
   "execution_count": 20,
   "id": "6f441219-bdcc-4861-9b31-f77eff699f34",
   "metadata": {},
   "outputs": [
    {
     "data": {
      "text/plain": [
       "1.618033988749895"
      ]
     },
     "execution_count": 20,
     "metadata": {},
     "output_type": "execute_result"
    }
   ],
   "source": [
    "U3/W"
   ]
  }
 ],
 "metadata": {
  "kernelspec": {
   "display_name": "Python 3 (ipykernel)",
   "language": "python",
   "name": "python3"
  },
  "language_info": {
   "codemirror_mode": {
    "name": "ipython",
    "version": 3
   },
   "file_extension": ".py",
   "mimetype": "text/x-python",
   "name": "python",
   "nbconvert_exporter": "python",
   "pygments_lexer": "ipython3",
   "version": "3.7.9"
  }
 },
 "nbformat": 4,
 "nbformat_minor": 5
}
