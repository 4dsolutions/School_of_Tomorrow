{
 "cells": [
  {
   "cell_type": "markdown",
   "metadata": {},
   "source": [
    "<a data-flickr-embed=\"true\"  href=\"https://www.flickr.com/photos/kirbyurner/20946665614/in/photolist-rphEL7-2eApC2U-2byhb26-RWhR29-Nh7Aky-JfW2Bx-GoWwZ9-GtwCeS-xUZ8V9-rtsF8i-sgG7ay-qK6uNp-rpiodJ-rDAfYo-rpr6Rv-rDynfA-rDy7Ff-rnwhEe-rFKtfH-rmBn7P/\" title=\"DSCF6564\"><img src=\"https://live.staticflickr.com/8561/16834313726_d84569c001.jpg\" width=\"500\" height=\"375\" alt=\"DSCF6564\"></a><script async src=\"//embedr.flickr.com/assets/client-code.js\" charset=\"utf-8\"></script>\n",
    "\n",
    "# Data Analysis Sandbox\n",
    "\n",
    "## Plotting Curves\n",
    "\n",
    "In the old days, we used graphing calculators for some of this, and paper and pencil before that.\n",
    "\n",
    "\n",
    "![plot](parabola.png)\n",
    "\n",
    "Those older tools still make sense to use in some contexts, but when you're going for some publication quality digital outputs, you'll want to do more homework.\n",
    "\n",
    "One way to build skills with these new tools is to revisit high schoolish content, perhaps already covered with a graphing calculator.  You were taught to plot some y versus some x.  You were told x would be \"time\" sometimes, not other times.\n",
    "\n",
    "![plot](3rd_powering.png)\n",
    "\n",
    "Then came the linear and parabolic equations, and their respective curves.  Even straight lines might be considered curves, the ones we don't see bending in the scope of our viewframe.\n",
    "\n",
    "---\n",
    "\n",
    "Lets do some review from the top, now that we've toured a large territory.\n",
    "\n",
    "Given this is a visualization course, lets talk about plotting right away.\n",
    "\n",
    "Classic opening, like pawn to King-4 in chess.  We'll get the Queen out later (pandas).\n",
    "\n",
    "#### By the Way... Lets Talk about Unicode!\n",
    "\n",
    "# &#128120; &#9812; &#128060;\n",
    "\n",
    "[StackOverFlow discussion](https://stackoverflow.com/questions/34538879/unicode-in-github-markdown)\n",
    "\n",
    "This way of representing Unicode characters in Markdown requires knowing the decimal equivalents.\n",
    "\n",
    "🐼🐼🐼🐼🐼🐼🐼\n",
    "\n",
    "Once you get the glyph you want, rendered, just cut and paste it back in.  \n",
    "\n",
    "Now that you've conjured the panda, the panda is yours."
   ]
  },
  {
   "cell_type": "code",
   "execution_count": 1,
   "metadata": {},
   "outputs": [
    {
     "name": "stdout",
     "output_type": "stream",
     "text": [
      "👸 ♔ 🐼\n"
     ]
    }
   ],
   "source": [
    "# Testing Unicode.  Unicode includes many emoji\n",
    "\n",
    "print('\\U0001F478', '\\U00002654', '\\U0001F43C')  # does this work for you? 👸👸"
   ]
  },
  {
   "cell_type": "markdown",
   "metadata": {},
   "source": [
    "And now, for our opening moves..."
   ]
  },
  {
   "cell_type": "code",
   "execution_count": 2,
   "metadata": {},
   "outputs": [],
   "source": [
    "% matplotlib inline\n",
    "import matplotlib.pyplot as plt\n",
    "plt.style.use('seaborn-white')  # <--- good idea, looks nicer\n",
    "import numpy as np"
   ]
  },
  {
   "cell_type": "markdown",
   "metadata": {},
   "source": [
    "In the beginning, one needs a \"domain\" to rule over, a turf.  We'll be using numpy to generate domains a lot, especially..."
   ]
  },
  {
   "cell_type": "code",
   "execution_count": 3,
   "metadata": {},
   "outputs": [
    {
     "data": {
      "text/plain": [
       "array([-1. , -0.8, -0.6, -0.4, -0.2,  0. ,  0.2,  0.4,  0.6,  0.8,  1. ])"
      ]
     },
     "execution_count": 3,
     "metadata": {},
     "output_type": "execute_result"
    }
   ],
   "source": [
    "np.round(np.linspace(-1, 1, 11), 2) # say how many points"
   ]
  },
  {
   "cell_type": "code",
   "execution_count": 4,
   "metadata": {},
   "outputs": [
    {
     "data": {
      "text/plain": [
       "array([-1. , -0.8, -0.6, -0.4, -0.2, -0. ,  0.2,  0.4,  0.6,  0.8,  1. ])"
      ]
     },
     "execution_count": 4,
     "metadata": {},
     "output_type": "execute_result"
    }
   ],
   "source": [
    "np.round(np.arange(-1, 1.1, 0.2), 2) # give spread between the points"
   ]
  },
  {
   "cell_type": "markdown",
   "metadata": {},
   "source": [
    "Here's a Castle, an Emoji.  Do you see it?\n",
    "\n",
    "# &#127984;\n",
    "\n",
    "Our ability to reach a \"co-domain\" another turf, depends on having some domain to feed to a callable.  The callable eats domain objects (picture fish) and does whatever work necessary to reach a corresponding result."
   ]
  },
  {
   "cell_type": "code",
   "execution_count": 5,
   "metadata": {},
   "outputs": [
    {
     "data": {
      "text/plain": [
       "'🏰'"
      ]
     },
     "execution_count": 5,
     "metadata": {},
     "output_type": "execute_result"
    }
   ],
   "source": [
    "chr(127984)  # testing the chr function, see a Castle?"
   ]
  },
  {
   "cell_type": "markdown",
   "metadata": {},
   "source": [
    "What can they teach me about parabolas in Cyberia?  Do we find them in nature?\n",
    "\n",
    "* [Real Life Examples](https://sciencestruck.com/real-life-examples-of-parabola)\n",
    "* [Lots in Gravity and Area Optimizing Problems](https://www.mathsisfun.com/algebra/quadratic-equation-real-world.html)"
   ]
  },
  {
   "cell_type": "markdown",
   "metadata": {},
   "source": [
    " ### TIME TO GET PLOTTING!\n",
    " \n",
    "A question to ask yourself, when invoking such \"spells\" as ```plt.plot``` or ```plt.figure``` is what do they return?  \n",
    "\n",
    "You won't necessarily need to give it a name, but it still helps to keep return types in mind.  We start learning that in the C language, one of Python's several precursors."
   ]
  },
  {
   "cell_type": "markdown",
   "metadata": {},
   "source": [
    "[Docs on pyplot.plot](https://matplotlib.org/3.1.0/api/_as_gen/matplotlib.pyplot.plot.html)\n",
    "\n",
    "```\n",
    "plot([x], y, [fmt], *, data=None, **kwargs)\n",
    "plot([x], y, [fmt], [x2], y2, [fmt2], ..., **kwargs)\n",
    "```\n",
    "\n",
    "```\n",
    ">>> plot('xlabel', 'ylabel', data=obj)  # for when we get to pandas\n",
    "```"
   ]
  },
  {
   "cell_type": "markdown",
   "metadata": {},
   "source": [
    "[Docs on pyplot.figure](https://matplotlib.org/3.1.0/api/_as_gen/matplotlib.pyplot.figure.html)\n",
    "```\n",
    "pyplot.figure(num=None, figsize=None, dpi=None, facecolor=None, edgecolor=None, frameon=True, FigureClass=<class 'matplotlib.figure.Figure'>, clear=False, **kwargs)[source]\n",
    "```"
   ]
  },
  {
   "cell_type": "code",
   "execution_count": 6,
   "metadata": {},
   "outputs": [
    {
     "data": {
      "image/png": "[encoded data removed]",
      "text/plain": [
       "<Figure size 432x288 with 1 Axes>"
      ]
     },
     "metadata": {},
     "output_type": "display_data"
    }
   ],
   "source": [
    "domain = np.linspace(-10, 10, 1000)  # a thousand points, evenly spaced\n",
    "rule1 = lambda x: x**2\n",
    "\n",
    "figures = []\n",
    "figures.append(plt.figure(num='2nd_powering'))  # not \"squaring\" necessarily\n",
    "\n",
    "plt.plot(domain, np.vectorize(rule1)(domain), 'r')\n",
    "plt.xlabel('X')\n",
    "plt.ylabel('Y')\n",
    "plt.title(\"PARABOLA\");\n",
    "plt.grid(True);"
   ]
  },
  {
   "cell_type": "code",
   "execution_count": 7,
   "metadata": {},
   "outputs": [
    {
     "data": {
      "image/png": "[encoded data removed]",
      "text/plain": [
       "<Figure size 432x288 with 1 Axes>"
      ]
     },
     "metadata": {},
     "output_type": "display_data"
    }
   ],
   "source": [
    "figures.append(plt.figure(num='STL'))  # not \"squaring\" necessarily\n",
    "rule2 = lambda x: -x**2 + 100\n",
    "\n",
    "plt.plot(domain, np.vectorize(rule2)(domain), 'g')\n",
    "plt.xlabel('X')\n",
    "plt.ylabel('Y')\n",
    "plt.title(\"PARABOLA\");\n",
    "plt.annotate(\"STL!\", (-0.5,40))\n",
    "plt.grid(False);"
   ]
  },
  {
   "cell_type": "markdown",
   "metadata": {},
   "source": [
    "Do you see a parabola in this picture?\n",
    "\n",
    "\n",
    "<a data-flickr-embed=\"true\"  href=\"https://www.flickr.com/photos/kirbyurner/26565791380/in/photostream/\" title=\"St. Louis Arch\"><img src=\"https://live.staticflickr.com/7207/26565791380_7c49625997.jpg\" width=\"375\" height=\"500\" alt=\"St. Louis Arch\"></a><script async src=\"//embedr.flickr.com/assets/client-code.js\" charset=\"utf-8\"></script>"
   ]
  },
  {
   "cell_type": "markdown",
   "metadata": {},
   "source": [
    "Look at how ```lambda``` was used to express a rule.  The object thereby created is a callable object, and we named it for later use.  If you had wanted to show everything in some step..."
   ]
  },
  {
   "cell_type": "code",
   "execution_count": 10,
   "metadata": {},
   "outputs": [
    {
     "data": {
      "image/png": "[encoded data removed]",
      "text/plain": [
       "<Figure size 432x288 with 1 Axes>"
      ]
     },
     "metadata": {},
     "output_type": "display_data"
    }
   ],
   "source": [
    "# plot([x], y, [fmt], [x2], y2, [fmt2], ..., **kwargs)\n",
    "plt.plot(domain, rule1(domain), 'r', domain, rule2(domain), 'b');"
   ]
  },
  {
   "cell_type": "code",
   "execution_count": 11,
   "metadata": {},
   "outputs": [
    {
     "data": {
      "image/png": "[encoded data removed]",
      "text/plain": [
       "<Figure size 432x288 with 1 Axes>"
      ]
     },
     "metadata": {},
     "output_type": "display_data"
    }
   ],
   "source": [
    "figures.append(plt.figure(num='3rd_powering'))              # not \"cubing\" necessarily\n",
    "plt.plot(domain, np.vectorize(lambda x: x**3)(domain), '.') # thicken with markers\n",
    "plt.grid(True)\n",
    "plt.title(\"3rd Power Curve\");"
   ]
  },
  {
   "cell_type": "markdown",
   "metadata": {},
   "source": [
    "Hey these are pretty graphics that we might want to stick in other homework, to prove we've been busy.  How do we keep the above figures as png files, for example?\n",
    "\n",
    "```\n",
    "savefig(fname, dpi=None, facecolor='w', edgecolor='w',\n",
    "        orientation='portrait', papertype=None, format=None,\n",
    "        transparent=False, bbox_inches=None, pad_inches=0.1,\n",
    "        frameon=None, metadata=None)\n",
    "```\n"
   ]
  },
  {
   "cell_type": "code",
   "execution_count": 12,
   "metadata": {},
   "outputs": [],
   "source": [
    "for figure in figures:\n",
    "    figure.savefig('{0}.png'.format(figure.get_label()))"
   ]
  },
  {
   "cell_type": "markdown",
   "metadata": {},
   "source": [
    "Remember what it means to ```np.vectorize```?  We're making a \"callable\" (technical term) work with a numpy ndarray (an n-dimensional array) such that it applies to all elements in that array.\n",
    "\n",
    "lets move on to pandas and look at functions in terms of columns, x and y.\n",
    "\n",
    "# 🐼🐼🐼🐼🐼🐼🐼🐼"
   ]
  },
  {
   "cell_type": "code",
   "execution_count": 13,
   "metadata": {},
   "outputs": [],
   "source": [
    "import pandas as pd"
   ]
  },
  {
   "cell_type": "code",
   "execution_count": 14,
   "metadata": {},
   "outputs": [],
   "source": [
    "parabola = pd.DataFrame({'x': domain,\n",
    "                         'y': np.vectorize(lambda x: x**2)(domain)})\n",
    "parabola.index.name = 'samples'"
   ]
  },
  {
   "cell_type": "code",
   "execution_count": 15,
   "metadata": {},
   "outputs": [
    {
     "data": {
      "text/html": [
       "<div>\n",
       "<style scoped>\n",
       "    .dataframe tbody tr th:only-of-type {\n",
       "        vertical-align: middle;\n",
       "    }\n",
       "\n",
       "    .dataframe tbody tr th {\n",
       "        vertical-align: top;\n",
       "    }\n",
       "\n",
       "    .dataframe thead th {\n",
       "        text-align: right;\n",
       "    }\n",
       "</style>\n",
       "<table border=\"1\" class=\"dataframe\">\n",
       "  <thead>\n",
       "    <tr style=\"text-align: right;\">\n",
       "      <th></th>\n",
       "      <th>x</th>\n",
       "      <th>y</th>\n",
       "    </tr>\n",
       "    <tr>\n",
       "      <th>samples</th>\n",
       "      <th></th>\n",
       "      <th></th>\n",
       "    </tr>\n",
       "  </thead>\n",
       "  <tbody>\n",
       "    <tr>\n",
       "      <th>0</th>\n",
       "      <td>-10.00000</td>\n",
       "      <td>100.000000</td>\n",
       "    </tr>\n",
       "    <tr>\n",
       "      <th>1</th>\n",
       "      <td>-9.97998</td>\n",
       "      <td>99.600000</td>\n",
       "    </tr>\n",
       "    <tr>\n",
       "      <th>2</th>\n",
       "      <td>-9.95996</td>\n",
       "      <td>99.200802</td>\n",
       "    </tr>\n",
       "    <tr>\n",
       "      <th>3</th>\n",
       "      <td>-9.93994</td>\n",
       "      <td>98.802406</td>\n",
       "    </tr>\n",
       "    <tr>\n",
       "      <th>4</th>\n",
       "      <td>-9.91992</td>\n",
       "      <td>98.404811</td>\n",
       "    </tr>\n",
       "  </tbody>\n",
       "</table>\n",
       "</div>"
      ],
      "text/plain": [
       "                x           y\n",
       "samples                      \n",
       "0       -10.00000  100.000000\n",
       "1        -9.97998   99.600000\n",
       "2        -9.95996   99.200802\n",
       "3        -9.93994   98.802406\n",
       "4        -9.91992   98.404811"
      ]
     },
     "execution_count": 15,
     "metadata": {},
     "output_type": "execute_result"
    }
   ],
   "source": [
    "parabola.head()"
   ]
  },
  {
   "cell_type": "markdown",
   "metadata": {},
   "source": [
    "OMG that was easy.  Might we do plotting directly from a DataFrame.  \n",
    "\n",
    "That might be too good to be true.\n",
    "\n",
    "[Yes We Can!](https://pandas.pydata.org/pandas-docs/stable/reference/api/pandas.DataFrame.plot.html)\n",
    "\n",
    "Yet we're still free to modify and decorate the final result, having taken advantage of some streamlining.\n",
    "\n",
    "For example, we might [\"annotate\"](https://matplotlib.org/3.1.0/api/_as_gen/matplotlib.pyplot.annotate.html), meaning add strings to the plot in curious ways."
   ]
  },
  {
   "cell_type": "code",
   "execution_count": 17,
   "metadata": {},
   "outputs": [
    {
     "data": {
      "image/png": "[encoded data removed]",
      "text/plain": [
       "<Figure size 432x288 with 1 Axes>"
      ]
     },
     "metadata": {},
     "output_type": "display_data"
    }
   ],
   "source": [
    "fig, ax = plt.subplots()\n",
    "parabola.plot(x='x', y='y', kind='line', title=\"PARABOLA\", grid=True, legend=False, ax=ax);"
   ]
  },
  {
   "cell_type": "code",
   "execution_count": 18,
   "metadata": {},
   "outputs": [],
   "source": [
    "fig.savefig('new_parabola.png')"
   ]
  },
  {
   "cell_type": "code",
   "execution_count": 19,
   "metadata": {},
   "outputs": [],
   "source": [
    "two_curves = pd.DataFrame({'x': domain,\n",
    "                           'curve0': np.vectorize(lambda x: x**2)(domain),\n",
    "                           'curve1': np.vectorize(lambda x: x**3)(domain)})"
   ]
  },
  {
   "cell_type": "code",
   "execution_count": 20,
   "metadata": {},
   "outputs": [
    {
     "data": {
      "text/html": [
       "<div>\n",
       "<style scoped>\n",
       "    .dataframe tbody tr th:only-of-type {\n",
       "        vertical-align: middle;\n",
       "    }\n",
       "\n",
       "    .dataframe tbody tr th {\n",
       "        vertical-align: top;\n",
       "    }\n",
       "\n",
       "    .dataframe thead th {\n",
       "        text-align: right;\n",
       "    }\n",
       "</style>\n",
       "<table border=\"1\" class=\"dataframe\">\n",
       "  <thead>\n",
       "    <tr style=\"text-align: right;\">\n",
       "      <th></th>\n",
       "      <th>x</th>\n",
       "      <th>curve0</th>\n",
       "      <th>curve1</th>\n",
       "    </tr>\n",
       "  </thead>\n",
       "  <tbody>\n",
       "    <tr>\n",
       "      <th>0</th>\n",
       "      <td>-10.00000</td>\n",
       "      <td>100.000000</td>\n",
       "      <td>-1000.000000</td>\n",
       "    </tr>\n",
       "    <tr>\n",
       "      <th>1</th>\n",
       "      <td>-9.97998</td>\n",
       "      <td>99.600000</td>\n",
       "      <td>-994.006010</td>\n",
       "    </tr>\n",
       "    <tr>\n",
       "      <th>2</th>\n",
       "      <td>-9.95996</td>\n",
       "      <td>99.200802</td>\n",
       "      <td>-988.036020</td>\n",
       "    </tr>\n",
       "    <tr>\n",
       "      <th>3</th>\n",
       "      <td>-9.93994</td>\n",
       "      <td>98.802406</td>\n",
       "      <td>-982.089982</td>\n",
       "    </tr>\n",
       "    <tr>\n",
       "      <th>4</th>\n",
       "      <td>-9.91992</td>\n",
       "      <td>98.404811</td>\n",
       "      <td>-976.167847</td>\n",
       "    </tr>\n",
       "  </tbody>\n",
       "</table>\n",
       "</div>"
      ],
      "text/plain": [
       "          x      curve0       curve1\n",
       "0 -10.00000  100.000000 -1000.000000\n",
       "1  -9.97998   99.600000  -994.006010\n",
       "2  -9.95996   99.200802  -988.036020\n",
       "3  -9.93994   98.802406  -982.089982\n",
       "4  -9.91992   98.404811  -976.167847"
      ]
     },
     "execution_count": 20,
     "metadata": {},
     "output_type": "execute_result"
    }
   ],
   "source": [
    "two_curves.head()"
   ]
  },
  {
   "cell_type": "markdown",
   "metadata": {},
   "source": [
    "We'll not use subplots at first.  Lets get both curves on the same grid.  If you don't turn subplots on, this will be the default behavior.  If you do turn subplots on, specify layout too, so that you get what you know you want.  See below."
   ]
  },
  {
   "cell_type": "code",
   "execution_count": 21,
   "metadata": {},
   "outputs": [
    {
     "data": {
      "image/png": "[encoded data removed]",
      "text/plain": [
       "<Figure size 432x288 with 1 Axes>"
      ]
     },
     "metadata": {},
     "output_type": "display_data"
    }
   ],
   "source": [
    "two_curves.plot(x='x', y=['curve0', 'curve1'], grid=True, title=\"Two Curves\");"
   ]
  },
  {
   "cell_type": "markdown",
   "metadata": {},
   "source": [
    "OK, now we're starting to get fancy.  The ```DataFrame.plot``` method will let you turn on subplots, specify their layout, and then access the subplots individually, by means of axes.\n",
    "\n",
    "Note how layout=(2,1) says \"give me two rows in a single column\", and don't draw the x tickmarks both times, let them share.  The returned object is a numpy array of axes, organized the same way (in the same shape) as the subplots."
   ]
  },
  {
   "cell_type": "code",
   "execution_count": 22,
   "metadata": {},
   "outputs": [
    {
     "data": {
      "image/png": "[encoded data removed]",
      "text/plain": [
       "<Figure size 288x720 with 2 Axes>"
      ]
     },
     "metadata": {},
     "output_type": "display_data"
    }
   ],
   "source": [
    "axes = two_curves.plot(x='x', y=['curve0', 'curve1'], layout=(2,1), \n",
    "                sharex=True, subplots=True, figsize=(4,10), grid=True)\n",
    "\n",
    "axes[0,0].set_title('Parabola')\n",
    "axes[1,0].set_title('3rd Degree');"
   ]
  },
  {
   "cell_type": "markdown",
   "metadata": {},
   "source": [
    "* [A Guide to Subplots (VanderPlas)](https://jakevdp.github.io/PythonDataScienceHandbook/04.08-multiple-subplots.html)\n",
    "* [Direct from the Docs](https://matplotlib.org/api/_as_gen/matplotlib.pyplot.subplots.html)"
   ]
  },
  {
   "cell_type": "markdown",
   "metadata": {},
   "source": [
    "#### Different Workout\n",
    "\n",
    "Lets essentially duplicate the work we just did, but without the benefit of the DataFrame's plot method.  We will call on plt subplots directly.\n",
    "\n",
    "```\n",
    "matplotlib.pyplot.subplots(nrows=1, ncols=1, sharex=False, sharey=False, squeeze=True, subplot_kw=None, gridspec_kw=None, **fig_kw)[source]\n",
    "```\n",
    "\n",
    "[Programmatically selecting subplots (StackOverFlow)](https://stackoverflow.com/questions/7101273/how-can-i-programmatically-select-a-specific-subplot-in-matplotlib)\n",
    "\n",
    "My recommendation:  use the ```pandas.plot``` facility, or the ```plt.subplots``` facility for pretty much all your plotting needs."
   ]
  },
  {
   "cell_type": "code",
   "execution_count": 23,
   "metadata": {},
   "outputs": [
    {
     "data": {
      "image/png": "[encoded data removed]",
      "text/plain": [
       "<Figure size 360x720 with 2 Axes>"
      ]
     },
     "metadata": {},
     "output_type": "display_data"
    }
   ],
   "source": [
    "import matplotlib.pyplot as plt\n",
    "\n",
    "fig, the_axes = plt.subplots(ncols=1, nrows=2, sharex=True, figsize=(5,10))\n",
    "ax0, ax1 = the_axes  # top row, only column\n",
    "#======= axis0 =========\n",
    "ax0.plot('x', 'curve0', data=two_curves)\n",
    "ax0.set_title(\"Parabola\")\n",
    "ax0.set_xlabel(\"X\")\n",
    "ax0.set_ylabel(\"Y\")\n",
    "#======= axis1 =========\n",
    "ax1.plot('x', 'curve1', data=two_curves)\n",
    "ax1.set_title(\"3rd Power\")\n",
    "ax1.set_xlabel(\"X\")\n",
    "ax1.set_ylabel(\"Y\");"
   ]
  },
  {
   "cell_type": "markdown",
   "metadata": {},
   "source": [
    "### What Other Curves Might We Explore?"
   ]
  },
  {
   "cell_type": "code",
   "execution_count": 24,
   "metadata": {},
   "outputs": [],
   "source": [
    "three_curves = pd.merge(two_curves, pd.DataFrame({\"curve2\": np.exp(domain)}), \n",
    "                                                  right_index=True, left_index=True)"
   ]
  },
  {
   "cell_type": "code",
   "execution_count": 25,
   "metadata": {},
   "outputs": [
    {
     "data": {
      "text/html": [
       "<div>\n",
       "<style scoped>\n",
       "    .dataframe tbody tr th:only-of-type {\n",
       "        vertical-align: middle;\n",
       "    }\n",
       "\n",
       "    .dataframe tbody tr th {\n",
       "        vertical-align: top;\n",
       "    }\n",
       "\n",
       "    .dataframe thead th {\n",
       "        text-align: right;\n",
       "    }\n",
       "</style>\n",
       "<table border=\"1\" class=\"dataframe\">\n",
       "  <thead>\n",
       "    <tr style=\"text-align: right;\">\n",
       "      <th></th>\n",
       "      <th>x</th>\n",
       "      <th>curve0</th>\n",
       "      <th>curve1</th>\n",
       "      <th>curve2</th>\n",
       "    </tr>\n",
       "  </thead>\n",
       "  <tbody>\n",
       "    <tr>\n",
       "      <th>0</th>\n",
       "      <td>-10.00000</td>\n",
       "      <td>100.000000</td>\n",
       "      <td>-1000.000000</td>\n",
       "      <td>0.000045</td>\n",
       "    </tr>\n",
       "    <tr>\n",
       "      <th>1</th>\n",
       "      <td>-9.97998</td>\n",
       "      <td>99.600000</td>\n",
       "      <td>-994.006010</td>\n",
       "      <td>0.000046</td>\n",
       "    </tr>\n",
       "    <tr>\n",
       "      <th>2</th>\n",
       "      <td>-9.95996</td>\n",
       "      <td>99.200802</td>\n",
       "      <td>-988.036020</td>\n",
       "      <td>0.000047</td>\n",
       "    </tr>\n",
       "    <tr>\n",
       "      <th>3</th>\n",
       "      <td>-9.93994</td>\n",
       "      <td>98.802406</td>\n",
       "      <td>-982.089982</td>\n",
       "      <td>0.000048</td>\n",
       "    </tr>\n",
       "    <tr>\n",
       "      <th>4</th>\n",
       "      <td>-9.91992</td>\n",
       "      <td>98.404811</td>\n",
       "      <td>-976.167847</td>\n",
       "      <td>0.000049</td>\n",
       "    </tr>\n",
       "  </tbody>\n",
       "</table>\n",
       "</div>"
      ],
      "text/plain": [
       "          x      curve0       curve1    curve2\n",
       "0 -10.00000  100.000000 -1000.000000  0.000045\n",
       "1  -9.97998   99.600000  -994.006010  0.000046\n",
       "2  -9.95996   99.200802  -988.036020  0.000047\n",
       "3  -9.93994   98.802406  -982.089982  0.000048\n",
       "4  -9.91992   98.404811  -976.167847  0.000049"
      ]
     },
     "execution_count": 25,
     "metadata": {},
     "output_type": "execute_result"
    }
   ],
   "source": [
    "three_curves.head()"
   ]
  },
  {
   "cell_type": "code",
   "execution_count": 26,
   "metadata": {},
   "outputs": [
    {
     "data": {
      "image/png": "[encoded data removed]",
      "text/plain": [
       "<Figure size 432x288 with 1 Axes>"
      ]
     },
     "metadata": {},
     "output_type": "display_data"
    }
   ],
   "source": [
    "three_curves.plot(x='x', y='curve2');"
   ]
  },
  {
   "cell_type": "code",
   "execution_count": 27,
   "metadata": {},
   "outputs": [],
   "source": [
    "μ = 0      # lets use Greek letters\n",
    "σ = 1      # standard deviation\n",
    "π = np.pi\n",
    "\n",
    "rule = lambda x: (1/(σ * np.sqrt(2 * π))) * np.exp(-0.5 * ((μ - x)/σ)**2)"
   ]
  },
  {
   "cell_type": "code",
   "execution_count": 28,
   "metadata": {},
   "outputs": [],
   "source": [
    "four_curves = pd.merge(three_curves, pd.DataFrame({\"curve3\": np.vectorize(rule)(domain)}), \n",
    "                                                  right_index=True, left_index=True)"
   ]
  },
  {
   "cell_type": "code",
   "execution_count": 29,
   "metadata": {},
   "outputs": [
    {
     "data": {
      "text/html": [
       "<div>\n",
       "<style scoped>\n",
       "    .dataframe tbody tr th:only-of-type {\n",
       "        vertical-align: middle;\n",
       "    }\n",
       "\n",
       "    .dataframe tbody tr th {\n",
       "        vertical-align: top;\n",
       "    }\n",
       "\n",
       "    .dataframe thead th {\n",
       "        text-align: right;\n",
       "    }\n",
       "</style>\n",
       "<table border=\"1\" class=\"dataframe\">\n",
       "  <thead>\n",
       "    <tr style=\"text-align: right;\">\n",
       "      <th></th>\n",
       "      <th>x</th>\n",
       "      <th>curve0</th>\n",
       "      <th>curve1</th>\n",
       "      <th>curve2</th>\n",
       "      <th>curve3</th>\n",
       "    </tr>\n",
       "  </thead>\n",
       "  <tbody>\n",
       "    <tr>\n",
       "      <th>0</th>\n",
       "      <td>-10.00000</td>\n",
       "      <td>100.000000</td>\n",
       "      <td>-1000.000000</td>\n",
       "      <td>0.000045</td>\n",
       "      <td>7.694599e-23</td>\n",
       "    </tr>\n",
       "    <tr>\n",
       "      <th>1</th>\n",
       "      <td>-9.97998</td>\n",
       "      <td>99.600000</td>\n",
       "      <td>-994.006010</td>\n",
       "      <td>0.000046</td>\n",
       "      <td>9.398202e-23</td>\n",
       "    </tr>\n",
       "    <tr>\n",
       "      <th>2</th>\n",
       "      <td>-9.95996</td>\n",
       "      <td>99.200802</td>\n",
       "      <td>-988.036020</td>\n",
       "      <td>0.000047</td>\n",
       "      <td>1.147439e-22</td>\n",
       "    </tr>\n",
       "    <tr>\n",
       "      <th>3</th>\n",
       "      <td>-9.93994</td>\n",
       "      <td>98.802406</td>\n",
       "      <td>-982.089982</td>\n",
       "      <td>0.000048</td>\n",
       "      <td>1.400362e-22</td>\n",
       "    </tr>\n",
       "    <tr>\n",
       "      <th>4</th>\n",
       "      <td>-9.91992</td>\n",
       "      <td>98.404811</td>\n",
       "      <td>-976.167847</td>\n",
       "      <td>0.000049</td>\n",
       "      <td>1.708350e-22</td>\n",
       "    </tr>\n",
       "  </tbody>\n",
       "</table>\n",
       "</div>"
      ],
      "text/plain": [
       "          x      curve0       curve1    curve2        curve3\n",
       "0 -10.00000  100.000000 -1000.000000  0.000045  7.694599e-23\n",
       "1  -9.97998   99.600000  -994.006010  0.000046  9.398202e-23\n",
       "2  -9.95996   99.200802  -988.036020  0.000047  1.147439e-22\n",
       "3  -9.93994   98.802406  -982.089982  0.000048  1.400362e-22\n",
       "4  -9.91992   98.404811  -976.167847  0.000049  1.708350e-22"
      ]
     },
     "execution_count": 29,
     "metadata": {},
     "output_type": "execute_result"
    }
   ],
   "source": [
    "four_curves.head()"
   ]
  },
  {
   "cell_type": "code",
   "execution_count": 30,
   "metadata": {},
   "outputs": [
    {
     "data": {
      "image/png": "[encoded data removed]",
      "text/plain": [
       "<Figure size 432x288 with 1 Axes>"
      ]
     },
     "metadata": {},
     "output_type": "display_data"
    }
   ],
   "source": [
    "four_curves.plot(x='x', y='curve3');"
   ]
  },
  {
   "cell_type": "code",
   "execution_count": 31,
   "metadata": {},
   "outputs": [],
   "source": [
    "four_curves.to_csv(\"curvy_data.csv\")"
   ]
  },
  {
   "cell_type": "markdown",
   "metadata": {},
   "source": [
    "### PASCAL'S TRIANGLE\n",
    "\n",
    "The Bell Curve above looks a lot like the Binomial Distribution, which we tend to see in a Galton Board.  Lets define a generator that gives successive rows of Pascal's Triangle, and do a bar plot of the result."
   ]
  },
  {
   "cell_type": "code",
   "execution_count": 32,
   "metadata": {},
   "outputs": [
    {
     "name": "stdout",
     "output_type": "stream",
     "text": [
      "[1]\n",
      "[1 1]\n",
      "[1 2 1]\n",
      "[1 3 3 1]\n",
      "[1 4 6 4 1]\n",
      "[ 1  5 10 10  5  1]\n",
      "[ 1  6 15 20 15  6  1]\n",
      "[ 1  7 21 35 35 21  7  1]\n",
      "[ 1  8 28 56 70 56 28  8  1]\n",
      "[  1   9  36  84 126 126  84  36   9   1]\n"
     ]
    }
   ],
   "source": [
    "def pascal():\n",
    "    \"\"\"\n",
    "    Successive rows of Pascal's Triangle\n",
    "    \"\"\"\n",
    "    row = np.array([1], dtype='int64')\n",
    "    while True:\n",
    "        yield row\n",
    "        reg0 = np.append(row, np.zeros(1, dtype='int64'))\n",
    "        reg1 = np.append(np.zeros(1, dtype='int64'), row)\n",
    "        row = reg0 + reg1\n",
    "        \n",
    "gen = pascal()\n",
    "\n",
    "for _ in range(10):\n",
    "    print(next(gen))"
   ]
  },
  {
   "cell_type": "code",
   "execution_count": 33,
   "metadata": {},
   "outputs": [
    {
     "data": {
      "image/png": "[encoded data removed]",
      "text/plain": [
       "<Figure size 432x288 with 1 Axes>"
      ]
     },
     "metadata": {},
     "output_type": "display_data"
    }
   ],
   "source": [
    "fig, axes = plt.subplots(0,0)\n",
    "data = next(gen)\n",
    "pd.Series(data).plot(kind='bar', color='b');"
   ]
  }
 ],
 "metadata": {
  "kernelspec": {
   "display_name": "Python 3",
   "language": "python",
   "name": "python3"
  },
  "language_info": {
   "codemirror_mode": {
    "name": "ipython",
    "version": 3
   },
   "file_extension": ".py",
   "mimetype": "text/x-python",
   "name": "python",
   "nbconvert_exporter": "python",
   "pygments_lexer": "ipython3",
   "version": "3.6.8"
  }
 },
 "nbformat": 4,
 "nbformat_minor": 2
}
