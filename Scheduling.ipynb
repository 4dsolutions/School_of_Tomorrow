{
 "cells": [
  {
   "cell_type": "markdown",
   "metadata": {},
   "source": [
    "[Oregon Curriculum Network](http://4dsolutions.net/ocn/)\n",
    "\n",
    "# The School of Tomorrow\n",
    "\n",
    "\n",
    "<a data-flickr-embed=\"true\" href=\"https://www.flickr.com/photos/kirbyurner/49971857412/in/dateposted-public/\" title=\"Barrel Tower and Mapparium Bag\"><img src=\"https://live.staticflickr.com/65535/49971857412_accc8a247f_c.jpg\" width=\"800\" height=\"450\" alt=\"Barrel Tower and Mapparium Bag\"></a><script async src=\"//embedr.flickr.com/assets/client-code.js\" charset=\"utf-8\"></script>\n",
    "\n",
    "(scroll down for embedded source code and more remarks about its runtime context)\n",
    "\n",
    "[Home Page](School_of_Tomorrow.ipynb)"
   ]
  },
  {
   "cell_type": "markdown",
   "metadata": {},
   "source": [
    "# Scheduling\n",
    "\n",
    "The general idea of \"scheduling\" encompasses plenty, from personal time management, to vast parallel processing, in computers and in the large.  The trucking industry is all about scheduling.  Routes need to be staffed.  Routes take time and cover a lot of ground.\n",
    "\n",
    "In the operating system world, on computers, the goal is to allocate resources to hungry processes, some of which would be all-consuming if allowed to be.  In the personal sphere, when we get \"too addicted\" to some computer game or science fiction novel, we're saying we think we spending too much time with it, at considerable opportunity cost.  There's a fine line between an activity hogging all your time and you swilling in a mud you love.\n",
    "\n",
    "The operating system does not moralize about good and bad processes, although it does block bad behavior by restricting processes to their own section of memory.  The OS is in many dimensions an internalized model of government, right down for the need for secrecy in the sense of privacy, to preserve democracy.\n",
    "\n",
    "In meditating on scheduling, both personal and institutional, you are thinking about priorities while observing a value system.  Imagine just joining your psyche moments ago and trying to get the hang of how this person thinks and prioritizes.  Now imagine yourself aware of the parallel scenarios (convergent / divergent) characterizing a busy airport.  Passengers, cargo, crews, baggage handling, ticketing, wining and dining, chauffering... all of these roles synchronize to varying degree, as people, over time, have evolved the \"dance of the airport\" (not that every airport is a copy in terms of its behavior, find some experts who might speak to the details as an exercise)."
   ]
  }
 ],
 "metadata": {
  "kernelspec": {
   "display_name": "Python 3",
   "language": "python",
   "name": "python3"
  },
  "language_info": {
   "codemirror_mode": {
    "name": "ipython",
    "version": 3
   },
   "file_extension": ".py",
   "mimetype": "text/x-python",
   "name": "python",
   "nbconvert_exporter": "python",
   "pygments_lexer": "ipython3",
   "version": "3.6.8"
  }
 },
 "nbformat": 4,
 "nbformat_minor": 4
}
