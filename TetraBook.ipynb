{
 "cells": [
  {
   "cell_type": "markdown",
   "id": "b2c494fa-bf65-450e-99b8-07c997b1d846",
   "metadata": {},
   "source": [
    "## The TetraBook and S3\n",
    "\n",
    "A Jupyter Notebook for the School of Tomorrow.\n",
    "\n",
    "With thanks to Alan Michelson on Synergeo, for circling back to it, and to David Koski, for the TetraBook meme in the first place.\n",
    "\n",
    "[View in nbviewer]()"
   ]
  },
  {
   "cell_type": "code",
   "execution_count": 1,
   "id": "fda9e374-30aa-4ce0-a2ca-12724db39940",
   "metadata": {},
   "outputs": [],
   "source": [
    "from IPython.display import YouTubeVideo"
   ]
  },
  {
   "cell_type": "code",
   "execution_count": 2,
   "id": "1960684d-cb7e-4a90-b462-7fab4ed09f8d",
   "metadata": {},
   "outputs": [
    {
     "data": {
      "image/jpeg": "[encoded data removed]",
      "text/html": [
       "\n",
       "        <iframe\n",
       "            width=\"400\"\n",
       "            height=\"300\"\n",
       "            src=\"https://www.youtube.com/embed/WKrGmuXW-RQ\"\n",
       "            frameborder=\"0\"\n",
       "            allowfullscreen\n",
       "        ></iframe>\n",
       "        "
      ],
      "text/plain": [
       "<IPython.lib.display.YouTubeVideo at 0x1125e8790>"
      ]
     },
     "execution_count": 2,
     "metadata": {},
     "output_type": "execute_result"
    }
   ],
   "source": [
    "YouTubeVideo(\"WKrGmuXW-RQ\")"
   ]
  },
  {
   "cell_type": "code",
   "execution_count": 3,
   "id": "71f41d58-cca6-4994-bc7a-822b4322e808",
   "metadata": {},
   "outputs": [],
   "source": [
    "import numpy as np\n",
    "import pandas as pd"
   ]
  },
  {
   "cell_type": "code",
   "execution_count": 4,
   "id": "4c392a18-9d2b-4f16-96d3-2fdd88a712be",
   "metadata": {},
   "outputs": [],
   "source": [
    "import math"
   ]
  },
  {
   "cell_type": "code",
   "execution_count": 5,
   "id": "bef4b5c4-bf9d-409b-a403-636f20252999",
   "metadata": {},
   "outputs": [],
   "source": [
    "root3 = math.sqrt(3)\n",
    "S3 = math.sqrt(9/8)"
   ]
  },
  {
   "cell_type": "code",
   "execution_count": 6,
   "id": "559103cb-46af-4114-b476-d4d86ab7f859",
   "metadata": {},
   "outputs": [
    {
     "data": {
      "text/plain": [
       "3.4641016151377544"
      ]
     },
     "execution_count": 6,
     "metadata": {},
     "output_type": "execute_result"
    }
   ],
   "source": [
    "2 * root3 # book cover tip to book cover tip"
   ]
  },
  {
   "cell_type": "code",
   "execution_count": 7,
   "id": "0c752872-11a9-46b5-a2ff-9e616e065ca1",
   "metadata": {},
   "outputs": [],
   "source": [
    "theta_deg = np.arange(0, 181) # degrees\n"
   ]
  },
  {
   "cell_type": "code",
   "execution_count": 8,
   "id": "3efad524-6e9b-4828-b206-f77d996ce174",
   "metadata": {},
   "outputs": [],
   "source": [
    "front_cover_tip = (-root3, 0.0)  # left\n",
    "back_cover_tip  = ( root3, 0.0)  # right"
   ]
  },
  {
   "cell_type": "code",
   "execution_count": 9,
   "id": "5dc80f09-4d97-4612-a56d-d9a82355fab7",
   "metadata": {},
   "outputs": [],
   "source": [
    "page_tip_deg = lambda deg: (-root3 * np.cos(np.radians(deg)), root3 * (np.sin(np.radians(deg))))\n",
    "page_tip_rad = lambda rad: (-root3 * np.cos(rad), root3 * np.sin(rad))"
   ]
  },
  {
   "cell_type": "code",
   "execution_count": 10,
   "id": "9f3a2f62-1885-4bc3-ba25-d452efd0c8c0",
   "metadata": {},
   "outputs": [
    {
     "data": {
      "text/plain": [
       "(-1.0605752387249068e-16, 1.7320508075688772)"
      ]
     },
     "execution_count": 10,
     "metadata": {},
     "output_type": "execute_result"
    }
   ],
   "source": [
    "page_tip_rad(math.pi/2)"
   ]
  },
  {
   "cell_type": "code",
   "execution_count": 11,
   "id": "d3450655-e0c8-470d-a08d-618465e4073b",
   "metadata": {},
   "outputs": [
    {
     "data": {
      "text/plain": [
       "70.52877936550931"
      ]
     },
     "execution_count": 11,
     "metadata": {},
     "output_type": "execute_result"
    }
   ],
   "source": [
    "dihedral_angle_of_reg_tet = math.acos(1/3)\n",
    "math.degrees(dihedral_angle_of_reg_tet)"
   ]
  },
  {
   "cell_type": "code",
   "execution_count": 12,
   "id": "985838f7-0366-4ff7-86ab-49535aa7998d",
   "metadata": {},
   "outputs": [],
   "source": [
    "def distance(a, b):\n",
    "    return np.sqrt((a[0] - b[0])**2 + (a[1] - b[1])**2)"
   ]
  },
  {
   "cell_type": "code",
   "execution_count": 13,
   "id": "bfaa4d07-0a3a-4d9f-b536-e1ad1f0872dd",
   "metadata": {},
   "outputs": [
    {
     "data": {
      "text/plain": [
       "3.4641016151377544"
      ]
     },
     "execution_count": 13,
     "metadata": {},
     "output_type": "execute_result"
    }
   ],
   "source": [
    "distance(front_cover_tip, back_cover_tip)"
   ]
  },
  {
   "cell_type": "code",
   "execution_count": 14,
   "id": "05dabb6f-aa23-44d8-9405-0b1e6255c003",
   "metadata": {},
   "outputs": [
    {
     "data": {
      "text/plain": [
       "2.449489742783178"
      ]
     },
     "execution_count": 14,
     "metadata": {},
     "output_type": "execute_result"
    }
   ],
   "source": [
    "distance(front_cover_tip, page_tip_deg(90))"
   ]
  },
  {
   "cell_type": "code",
   "execution_count": 15,
   "id": "534c901e-dcd0-4eaf-9f88-3654246cb0e2",
   "metadata": {},
   "outputs": [
    {
     "data": {
      "text/plain": [
       "3.4641016151377544"
      ]
     },
     "execution_count": 15,
     "metadata": {},
     "output_type": "execute_result"
    }
   ],
   "source": [
    "distance(front_cover_tip, page_tip_deg(180))"
   ]
  },
  {
   "cell_type": "markdown",
   "id": "a2a00560-9a3c-4c79-87f2-d53d8d5fa6b4",
   "metadata": {},
   "source": [
    "<a data-flickr-embed=\"true\" href=\"https://www.flickr.com/photos/kirbyurner/46149255411/in/photolist-2ncC3Xn-2mZypyZ-2dj3ZQP-2dj3ZPr-Sb76Cn-S6Quyu-S6QuFd\" title=\"tetrabook2\"><img src=\"https://live.staticflickr.com/4850/46149255411_31eb8869cf.jpg\" width=\"500\" height=\"341\" alt=\"tetrabook2\"></a><script async src=\"//embedr.flickr.com/assets/client-code.js\" charset=\"utf-8\"></script>"
   ]
  },
  {
   "cell_type": "code",
   "execution_count": 16,
   "id": "d686c0f1-e3bc-4d87-bf1e-13d909163ab5",
   "metadata": {},
   "outputs": [],
   "source": [
    "import imp"
   ]
  },
  {
   "cell_type": "code",
   "execution_count": 17,
   "id": "b75c66a0-511a-4371-8da6-5cef878f57a7",
   "metadata": {},
   "outputs": [
    {
     "data": {
      "text/plain": [
       "<module 'tetravolume' from '/Users/mac/Documents/School_of_Tomorrow/tetravolume.py'>"
      ]
     },
     "execution_count": 17,
     "metadata": {},
     "output_type": "execute_result"
    }
   ],
   "source": [
    "import tetravolume\n",
    "imp.reload(tetravolume)"
   ]
  },
  {
   "cell_type": "code",
   "execution_count": 18,
   "id": "a4cb182d-560c-4afc-8600-79cd9bd596ce",
   "metadata": {},
   "outputs": [],
   "source": [
    "import tetravolume as tv\n",
    "from tetravolume import Tetrahedron"
   ]
  },
  {
   "cell_type": "code",
   "execution_count": 19,
   "id": "1d4a6a24-5b74-4422-abcb-1c1caffb071d",
   "metadata": {},
   "outputs": [
    {
     "data": {
      "text/plain": [
       "1.0"
      ]
     },
     "execution_count": 19,
     "metadata": {},
     "output_type": "execute_result"
    }
   ],
   "source": [
    "tv.D"
   ]
  },
  {
   "cell_type": "code",
   "execution_count": 20,
   "id": "ed4c62a1-5cb5-4746-9054-2a229744538e",
   "metadata": {},
   "outputs": [],
   "source": [
    "test_tet = Tetrahedron(1,1,1,1,1,1)"
   ]
  },
  {
   "cell_type": "code",
   "execution_count": 21,
   "id": "5254f86b-22dc-4c22-9613-1e018e15961f",
   "metadata": {},
   "outputs": [
    {
     "data": {
      "text/plain": [
       "1.0"
      ]
     },
     "execution_count": 21,
     "metadata": {},
     "output_type": "execute_result"
    }
   ],
   "source": [
    "test_tet.ivm_volume()"
   ]
  },
  {
   "cell_type": "code",
   "execution_count": 22,
   "id": "cc0e7a45-ef5c-4c8f-a32e-bf820abe1bcd",
   "metadata": {},
   "outputs": [],
   "source": [
    "def get_volume_rad(theta):\n",
    "    return Tetrahedron(1,1,1,1,1, distance(back_cover_tip, page_tip_rad(theta))/2).ivm_volume()"
   ]
  },
  {
   "cell_type": "code",
   "execution_count": 23,
   "id": "d399e4ab-47ab-44ac-957b-581d592ff40e",
   "metadata": {},
   "outputs": [],
   "source": [
    "get_vol = np.vectorize(get_volume_rad)"
   ]
  },
  {
   "cell_type": "code",
   "execution_count": 24,
   "id": "a62b6789-169a-44ac-bdc8-67adbe76ba33",
   "metadata": {},
   "outputs": [],
   "source": [
    "table = pd.DataFrame({\"theta_deg\":theta_deg, \"theta_rad\":np.radians(theta_deg)})"
   ]
  },
  {
   "cell_type": "code",
   "execution_count": 25,
   "id": "b8172027-099e-4b42-adf3-f38aa95c4ec8",
   "metadata": {},
   "outputs": [
    {
     "data": {
      "text/html": [
       "<div>\n",
       "<style scoped>\n",
       "    .dataframe tbody tr th:only-of-type {\n",
       "        vertical-align: middle;\n",
       "    }\n",
       "\n",
       "    .dataframe tbody tr th {\n",
       "        vertical-align: top;\n",
       "    }\n",
       "\n",
       "    .dataframe thead th {\n",
       "        text-align: right;\n",
       "    }\n",
       "</style>\n",
       "<table border=\"1\" class=\"dataframe\">\n",
       "  <thead>\n",
       "    <tr style=\"text-align: right;\">\n",
       "      <th></th>\n",
       "      <th>theta_deg</th>\n",
       "      <th>theta_rad</th>\n",
       "    </tr>\n",
       "  </thead>\n",
       "  <tbody>\n",
       "    <tr>\n",
       "      <th>0</th>\n",
       "      <td>0</td>\n",
       "      <td>0.000000</td>\n",
       "    </tr>\n",
       "    <tr>\n",
       "      <th>1</th>\n",
       "      <td>1</td>\n",
       "      <td>0.017453</td>\n",
       "    </tr>\n",
       "    <tr>\n",
       "      <th>2</th>\n",
       "      <td>2</td>\n",
       "      <td>0.034907</td>\n",
       "    </tr>\n",
       "    <tr>\n",
       "      <th>3</th>\n",
       "      <td>3</td>\n",
       "      <td>0.052360</td>\n",
       "    </tr>\n",
       "    <tr>\n",
       "      <th>4</th>\n",
       "      <td>4</td>\n",
       "      <td>0.069813</td>\n",
       "    </tr>\n",
       "  </tbody>\n",
       "</table>\n",
       "</div>"
      ],
      "text/plain": [
       "   theta_deg  theta_rad\n",
       "0          0   0.000000\n",
       "1          1   0.017453\n",
       "2          2   0.034907\n",
       "3          3   0.052360\n",
       "4          4   0.069813"
      ]
     },
     "execution_count": 25,
     "metadata": {},
     "output_type": "execute_result"
    }
   ],
   "source": [
    "table.head()"
   ]
  },
  {
   "cell_type": "code",
   "execution_count": 26,
   "id": "e9ca1597-7280-4574-8ccc-f9c2ac455fec",
   "metadata": {},
   "outputs": [],
   "source": [
    "table[\"alt\"] = table.theta_rad.apply(lambda r: root3 * math.sin(r))\n",
    "table[\"tvs\"] = table.theta_rad.apply(get_volume_rad)\n",
    "table[\"x\"]   = table.theta_rad.apply(lambda r: root3 * math.cos(r))"
   ]
  },
  {
   "cell_type": "code",
   "execution_count": 27,
   "id": "55af267b-4fef-46c5-9bf3-bbaea4d7bb86",
   "metadata": {},
   "outputs": [
    {
     "data": {
      "text/html": [
       "<div>\n",
       "<style scoped>\n",
       "    .dataframe tbody tr th:only-of-type {\n",
       "        vertical-align: middle;\n",
       "    }\n",
       "\n",
       "    .dataframe tbody tr th {\n",
       "        vertical-align: top;\n",
       "    }\n",
       "\n",
       "    .dataframe thead th {\n",
       "        text-align: right;\n",
       "    }\n",
       "</style>\n",
       "<table border=\"1\" class=\"dataframe\">\n",
       "  <thead>\n",
       "    <tr style=\"text-align: right;\">\n",
       "      <th></th>\n",
       "      <th>theta_deg</th>\n",
       "      <th>theta_rad</th>\n",
       "      <th>alt</th>\n",
       "      <th>tvs</th>\n",
       "      <th>x</th>\n",
       "    </tr>\n",
       "  </thead>\n",
       "  <tbody>\n",
       "    <tr>\n",
       "      <th>0</th>\n",
       "      <td>0</td>\n",
       "      <td>0.000000</td>\n",
       "      <td>0.000000e+00</td>\n",
       "      <td>4.214685e-08</td>\n",
       "      <td>1.732051</td>\n",
       "    </tr>\n",
       "    <tr>\n",
       "      <th>1</th>\n",
       "      <td>1</td>\n",
       "      <td>0.017453</td>\n",
       "      <td>3.022845e-02</td>\n",
       "      <td>1.851107e-02</td>\n",
       "      <td>1.731787</td>\n",
       "    </tr>\n",
       "    <tr>\n",
       "      <th>2</th>\n",
       "      <td>2</td>\n",
       "      <td>0.034907</td>\n",
       "      <td>6.044770e-02</td>\n",
       "      <td>3.701651e-02</td>\n",
       "      <td>1.730996</td>\n",
       "    </tr>\n",
       "    <tr>\n",
       "      <th>3</th>\n",
       "      <td>3</td>\n",
       "      <td>0.052360</td>\n",
       "      <td>9.064854e-02</td>\n",
       "      <td>5.551066e-02</td>\n",
       "      <td>1.729677</td>\n",
       "    </tr>\n",
       "    <tr>\n",
       "      <th>4</th>\n",
       "      <td>4</td>\n",
       "      <td>0.069813</td>\n",
       "      <td>1.208218e-01</td>\n",
       "      <td>7.398791e-02</td>\n",
       "      <td>1.727832</td>\n",
       "    </tr>\n",
       "    <tr>\n",
       "      <th>...</th>\n",
       "      <td>...</td>\n",
       "      <td>...</td>\n",
       "      <td>...</td>\n",
       "      <td>...</td>\n",
       "      <td>...</td>\n",
       "    </tr>\n",
       "    <tr>\n",
       "      <th>176</th>\n",
       "      <td>176</td>\n",
       "      <td>3.071779</td>\n",
       "      <td>1.208218e-01</td>\n",
       "      <td>7.398791e-02</td>\n",
       "      <td>-1.727832</td>\n",
       "    </tr>\n",
       "    <tr>\n",
       "      <th>177</th>\n",
       "      <td>177</td>\n",
       "      <td>3.089233</td>\n",
       "      <td>9.064854e-02</td>\n",
       "      <td>5.551066e-02</td>\n",
       "      <td>-1.729677</td>\n",
       "    </tr>\n",
       "    <tr>\n",
       "      <th>178</th>\n",
       "      <td>178</td>\n",
       "      <td>3.106686</td>\n",
       "      <td>6.044770e-02</td>\n",
       "      <td>3.701651e-02</td>\n",
       "      <td>-1.730996</td>\n",
       "    </tr>\n",
       "    <tr>\n",
       "      <th>179</th>\n",
       "      <td>179</td>\n",
       "      <td>3.124139</td>\n",
       "      <td>3.022845e-02</td>\n",
       "      <td>1.851107e-02</td>\n",
       "      <td>-1.731787</td>\n",
       "    </tr>\n",
       "    <tr>\n",
       "      <th>180</th>\n",
       "      <td>180</td>\n",
       "      <td>3.141593</td>\n",
       "      <td>2.121150e-16</td>\n",
       "      <td>0.000000e+00</td>\n",
       "      <td>-1.732051</td>\n",
       "    </tr>\n",
       "  </tbody>\n",
       "</table>\n",
       "<p>181 rows × 5 columns</p>\n",
       "</div>"
      ],
      "text/plain": [
       "     theta_deg  theta_rad           alt           tvs         x\n",
       "0            0   0.000000  0.000000e+00  4.214685e-08  1.732051\n",
       "1            1   0.017453  3.022845e-02  1.851107e-02  1.731787\n",
       "2            2   0.034907  6.044770e-02  3.701651e-02  1.730996\n",
       "3            3   0.052360  9.064854e-02  5.551066e-02  1.729677\n",
       "4            4   0.069813  1.208218e-01  7.398791e-02  1.727832\n",
       "..         ...        ...           ...           ...       ...\n",
       "176        176   3.071779  1.208218e-01  7.398791e-02 -1.727832\n",
       "177        177   3.089233  9.064854e-02  5.551066e-02 -1.729677\n",
       "178        178   3.106686  6.044770e-02  3.701651e-02 -1.730996\n",
       "179        179   3.124139  3.022845e-02  1.851107e-02 -1.731787\n",
       "180        180   3.141593  2.121150e-16  0.000000e+00 -1.732051\n",
       "\n",
       "[181 rows x 5 columns]"
      ]
     },
     "execution_count": 27,
     "metadata": {},
     "output_type": "execute_result"
    }
   ],
   "source": [
    "table"
   ]
  },
  {
   "cell_type": "code",
   "execution_count": 28,
   "id": "91c6023b-78e7-44cf-a278-3e11e2e9e7a2",
   "metadata": {},
   "outputs": [
    {
     "data": {
      "text/html": [
       "<div>\n",
       "<style scoped>\n",
       "    .dataframe tbody tr th:only-of-type {\n",
       "        vertical-align: middle;\n",
       "    }\n",
       "\n",
       "    .dataframe tbody tr th {\n",
       "        vertical-align: top;\n",
       "    }\n",
       "\n",
       "    .dataframe thead th {\n",
       "        text-align: right;\n",
       "    }\n",
       "</style>\n",
       "<table border=\"1\" class=\"dataframe\">\n",
       "  <thead>\n",
       "    <tr style=\"text-align: right;\">\n",
       "      <th></th>\n",
       "      <th>theta_deg</th>\n",
       "      <th>theta_rad</th>\n",
       "      <th>x</th>\n",
       "      <th>alt</th>\n",
       "      <th>tvs</th>\n",
       "    </tr>\n",
       "  </thead>\n",
       "  <tbody>\n",
       "    <tr>\n",
       "      <th>0</th>\n",
       "      <td>0</td>\n",
       "      <td>0.000000</td>\n",
       "      <td>1.732051</td>\n",
       "      <td>0.000000e+00</td>\n",
       "      <td>4.214685e-08</td>\n",
       "    </tr>\n",
       "    <tr>\n",
       "      <th>1</th>\n",
       "      <td>1</td>\n",
       "      <td>0.017453</td>\n",
       "      <td>1.731787</td>\n",
       "      <td>3.022845e-02</td>\n",
       "      <td>1.851107e-02</td>\n",
       "    </tr>\n",
       "    <tr>\n",
       "      <th>2</th>\n",
       "      <td>2</td>\n",
       "      <td>0.034907</td>\n",
       "      <td>1.730996</td>\n",
       "      <td>6.044770e-02</td>\n",
       "      <td>3.701651e-02</td>\n",
       "    </tr>\n",
       "    <tr>\n",
       "      <th>3</th>\n",
       "      <td>3</td>\n",
       "      <td>0.052360</td>\n",
       "      <td>1.729677</td>\n",
       "      <td>9.064854e-02</td>\n",
       "      <td>5.551066e-02</td>\n",
       "    </tr>\n",
       "    <tr>\n",
       "      <th>4</th>\n",
       "      <td>4</td>\n",
       "      <td>0.069813</td>\n",
       "      <td>1.727832</td>\n",
       "      <td>1.208218e-01</td>\n",
       "      <td>7.398791e-02</td>\n",
       "    </tr>\n",
       "    <tr>\n",
       "      <th>...</th>\n",
       "      <td>...</td>\n",
       "      <td>...</td>\n",
       "      <td>...</td>\n",
       "      <td>...</td>\n",
       "      <td>...</td>\n",
       "    </tr>\n",
       "    <tr>\n",
       "      <th>176</th>\n",
       "      <td>176</td>\n",
       "      <td>3.071779</td>\n",
       "      <td>-1.727832</td>\n",
       "      <td>1.208218e-01</td>\n",
       "      <td>7.398791e-02</td>\n",
       "    </tr>\n",
       "    <tr>\n",
       "      <th>177</th>\n",
       "      <td>177</td>\n",
       "      <td>3.089233</td>\n",
       "      <td>-1.729677</td>\n",
       "      <td>9.064854e-02</td>\n",
       "      <td>5.551066e-02</td>\n",
       "    </tr>\n",
       "    <tr>\n",
       "      <th>178</th>\n",
       "      <td>178</td>\n",
       "      <td>3.106686</td>\n",
       "      <td>-1.730996</td>\n",
       "      <td>6.044770e-02</td>\n",
       "      <td>3.701651e-02</td>\n",
       "    </tr>\n",
       "    <tr>\n",
       "      <th>179</th>\n",
       "      <td>179</td>\n",
       "      <td>3.124139</td>\n",
       "      <td>-1.731787</td>\n",
       "      <td>3.022845e-02</td>\n",
       "      <td>1.851107e-02</td>\n",
       "    </tr>\n",
       "    <tr>\n",
       "      <th>180</th>\n",
       "      <td>180</td>\n",
       "      <td>3.141593</td>\n",
       "      <td>-1.732051</td>\n",
       "      <td>2.121150e-16</td>\n",
       "      <td>0.000000e+00</td>\n",
       "    </tr>\n",
       "  </tbody>\n",
       "</table>\n",
       "<p>181 rows × 5 columns</p>\n",
       "</div>"
      ],
      "text/plain": [
       "     theta_deg  theta_rad         x           alt           tvs\n",
       "0            0   0.000000  1.732051  0.000000e+00  4.214685e-08\n",
       "1            1   0.017453  1.731787  3.022845e-02  1.851107e-02\n",
       "2            2   0.034907  1.730996  6.044770e-02  3.701651e-02\n",
       "3            3   0.052360  1.729677  9.064854e-02  5.551066e-02\n",
       "4            4   0.069813  1.727832  1.208218e-01  7.398791e-02\n",
       "..         ...        ...       ...           ...           ...\n",
       "176        176   3.071779 -1.727832  1.208218e-01  7.398791e-02\n",
       "177        177   3.089233 -1.729677  9.064854e-02  5.551066e-02\n",
       "178        178   3.106686 -1.730996  6.044770e-02  3.701651e-02\n",
       "179        179   3.124139 -1.731787  3.022845e-02  1.851107e-02\n",
       "180        180   3.141593 -1.732051  2.121150e-16  0.000000e+00\n",
       "\n",
       "[181 rows x 5 columns]"
      ]
     },
     "execution_count": 28,
     "metadata": {},
     "output_type": "execute_result"
    }
   ],
   "source": [
    "table = table.reindex(columns=[\"theta_deg\", \"theta_rad\", \"x\", \"alt\", \"tvs\"])\n",
    "table"
   ]
  },
  {
   "cell_type": "code",
   "execution_count": 29,
   "id": "6389e390-008a-4e4e-9f56-6842ed6f7355",
   "metadata": {},
   "outputs": [
    {
     "data": {
      "text/html": [
       "<div>\n",
       "<style scoped>\n",
       "    .dataframe tbody tr th:only-of-type {\n",
       "        vertical-align: middle;\n",
       "    }\n",
       "\n",
       "    .dataframe tbody tr th {\n",
       "        vertical-align: top;\n",
       "    }\n",
       "\n",
       "    .dataframe thead th {\n",
       "        text-align: right;\n",
       "    }\n",
       "</style>\n",
       "<table border=\"1\" class=\"dataframe\">\n",
       "  <thead>\n",
       "    <tr style=\"text-align: right;\">\n",
       "      <th></th>\n",
       "      <th>theta_deg</th>\n",
       "      <th>theta_rad</th>\n",
       "      <th>x</th>\n",
       "      <th>alt</th>\n",
       "      <th>tvs</th>\n",
       "    </tr>\n",
       "  </thead>\n",
       "  <tbody>\n",
       "    <tr>\n",
       "      <th>0</th>\n",
       "      <td>0</td>\n",
       "      <td>0.000</td>\n",
       "      <td>1.732</td>\n",
       "      <td>0.000</td>\n",
       "      <td>0.000</td>\n",
       "    </tr>\n",
       "    <tr>\n",
       "      <th>1</th>\n",
       "      <td>1</td>\n",
       "      <td>0.017</td>\n",
       "      <td>1.732</td>\n",
       "      <td>0.030</td>\n",
       "      <td>0.019</td>\n",
       "    </tr>\n",
       "    <tr>\n",
       "      <th>2</th>\n",
       "      <td>2</td>\n",
       "      <td>0.035</td>\n",
       "      <td>1.731</td>\n",
       "      <td>0.060</td>\n",
       "      <td>0.037</td>\n",
       "    </tr>\n",
       "    <tr>\n",
       "      <th>3</th>\n",
       "      <td>3</td>\n",
       "      <td>0.052</td>\n",
       "      <td>1.730</td>\n",
       "      <td>0.091</td>\n",
       "      <td>0.056</td>\n",
       "    </tr>\n",
       "    <tr>\n",
       "      <th>4</th>\n",
       "      <td>4</td>\n",
       "      <td>0.070</td>\n",
       "      <td>1.728</td>\n",
       "      <td>0.121</td>\n",
       "      <td>0.074</td>\n",
       "    </tr>\n",
       "  </tbody>\n",
       "</table>\n",
       "</div>"
      ],
      "text/plain": [
       "   theta_deg  theta_rad     x   alt   tvs\n",
       "0          0      0.000 1.732 0.000 0.000\n",
       "1          1      0.017 1.732 0.030 0.019\n",
       "2          2      0.035 1.731 0.060 0.037\n",
       "3          3      0.052 1.730 0.091 0.056\n",
       "4          4      0.070 1.728 0.121 0.074"
      ]
     },
     "execution_count": 29,
     "metadata": {},
     "output_type": "execute_result"
    }
   ],
   "source": [
    "pd.reset_option(\"display.precision\", 5)\n",
    "pd.set_option(\"display.float_format\", \"{:.3f}\".format)\n",
    "table.head()"
   ]
  },
  {
   "cell_type": "code",
   "execution_count": 30,
   "id": "0b748a07-c4cc-4fd0-a9c3-a64d70c67cd9",
   "metadata": {},
   "outputs": [
    {
     "data": {
      "text/html": [
       "<div>\n",
       "<style scoped>\n",
       "    .dataframe tbody tr th:only-of-type {\n",
       "        vertical-align: middle;\n",
       "    }\n",
       "\n",
       "    .dataframe tbody tr th {\n",
       "        vertical-align: top;\n",
       "    }\n",
       "\n",
       "    .dataframe thead th {\n",
       "        text-align: right;\n",
       "    }\n",
       "</style>\n",
       "<table border=\"1\" class=\"dataframe\">\n",
       "  <thead>\n",
       "    <tr style=\"text-align: right;\">\n",
       "      <th></th>\n",
       "      <th>theta_deg</th>\n",
       "      <th>theta_rad</th>\n",
       "      <th>x</th>\n",
       "      <th>alt</th>\n",
       "      <th>tvs</th>\n",
       "      <th>cus</th>\n",
       "    </tr>\n",
       "  </thead>\n",
       "  <tbody>\n",
       "    <tr>\n",
       "      <th>0</th>\n",
       "      <td>0</td>\n",
       "      <td>0.000</td>\n",
       "      <td>1.732</td>\n",
       "      <td>0.000</td>\n",
       "      <td>0.000</td>\n",
       "      <td>0.000</td>\n",
       "    </tr>\n",
       "    <tr>\n",
       "      <th>1</th>\n",
       "      <td>1</td>\n",
       "      <td>0.017</td>\n",
       "      <td>1.732</td>\n",
       "      <td>0.030</td>\n",
       "      <td>0.019</td>\n",
       "      <td>0.017</td>\n",
       "    </tr>\n",
       "    <tr>\n",
       "      <th>2</th>\n",
       "      <td>2</td>\n",
       "      <td>0.035</td>\n",
       "      <td>1.731</td>\n",
       "      <td>0.060</td>\n",
       "      <td>0.037</td>\n",
       "      <td>0.035</td>\n",
       "    </tr>\n",
       "    <tr>\n",
       "      <th>3</th>\n",
       "      <td>3</td>\n",
       "      <td>0.052</td>\n",
       "      <td>1.730</td>\n",
       "      <td>0.091</td>\n",
       "      <td>0.056</td>\n",
       "      <td>0.052</td>\n",
       "    </tr>\n",
       "    <tr>\n",
       "      <th>4</th>\n",
       "      <td>4</td>\n",
       "      <td>0.070</td>\n",
       "      <td>1.728</td>\n",
       "      <td>0.121</td>\n",
       "      <td>0.074</td>\n",
       "      <td>0.070</td>\n",
       "    </tr>\n",
       "  </tbody>\n",
       "</table>\n",
       "</div>"
      ],
      "text/plain": [
       "   theta_deg  theta_rad     x   alt   tvs   cus\n",
       "0          0      0.000 1.732 0.000 0.000 0.000\n",
       "1          1      0.017 1.732 0.030 0.019 0.017\n",
       "2          2      0.035 1.731 0.060 0.037 0.035\n",
       "3          3      0.052 1.730 0.091 0.056 0.052\n",
       "4          4      0.070 1.728 0.121 0.074 0.070"
      ]
     },
     "execution_count": 30,
     "metadata": {},
     "output_type": "execute_result"
    }
   ],
   "source": [
    "table[\"cus\"] = table.tvs.apply(lambda c: c/S3)\n",
    "table.head()"
   ]
  },
  {
   "cell_type": "code",
   "execution_count": 31,
   "id": "0b2bd53b-d853-443f-af87-9e465fb650e3",
   "metadata": {},
   "outputs": [],
   "source": [
    "import matplotlib.pyplot as plt\n",
    "import matplotlib as mpl"
   ]
  },
  {
   "cell_type": "code",
   "execution_count": 32,
   "id": "b9303225-aee4-49e9-8dc6-80afc4ff7302",
   "metadata": {},
   "outputs": [
    {
     "data": {
      "image/png": "[encoded data removed]",
      "text/plain": [
       "<Figure size 720x720 with 1 Axes>"
      ]
     },
     "metadata": {
      "needs_background": "light"
     },
     "output_type": "display_data"
    }
   ],
   "source": [
    "fig, ax = plt.subplots(1, 1, figsize=(10,10))\n",
    "\n",
    "ax.plot('theta_rad', 'tvs', data=table, label=\"Tetravols\")\n",
    "ax.plot('theta_rad', 'alt', data=table, label=\"Altitude\")\n",
    "\n",
    "# ax.set_box_aspect(1)\n",
    "ax.set_aspect('equal')\n",
    "\n",
    "ax.set_xlim(0,3.5)\n",
    "ax.set_xticks(np.arange(0, 3.5, 0.2))\n",
    "ax.set_xlabel(\"Theta (radians)\")\n",
    "\n",
    "ax.set_ylim(0,2.0)\n",
    "ax.set_yticks(np.arange(0, 2.0, 0.2))\n",
    "ax.set_ylabel(\"TVs / Page Altitude\")\n",
    "ax.set_title(\"Theta versus Tetravolumes\")\n",
    "\n",
    "ax.grid()\n",
    "\n",
    "ax.axhline(1.06066, color='green', ls=\"-\", dashes = (5, 2, 1, 2), label=\"S3\")\n",
    "ax.axvline(math.acos(1/3), color='blue', dashes = (5, 2), label=\"Reg Tet\")\n",
    "ax.axvline(math.acos(-1/3), color='blue', dashes = (5, 2))\n",
    "\n",
    "ax.legend()\n",
    "\n",
    "plt.show()"
   ]
  },
  {
   "cell_type": "code",
   "execution_count": 33,
   "id": "fc246c6c-8ac6-440a-98ed-f41a0fa128cd",
   "metadata": {},
   "outputs": [
    {
     "data": {
      "image/png": "[encoded data removed]",
      "text/plain": [
       "<Figure size 720x720 with 1 Axes>"
      ]
     },
     "metadata": {
      "needs_background": "light"
     },
     "output_type": "display_data"
    }
   ],
   "source": [
    "fig, ax = plt.subplots(1, 1, figsize=(10,10))\n",
    "\n",
    "ax.plot('x', 'tvs', data=table, label=\"Tetravols\")\n",
    "ax.plot('x', 'alt', data=table, label=\"Page Tip\")\n",
    "\n",
    "# ax.set_box_aspect(1)\n",
    "ax.set_aspect('equal')\n",
    "\n",
    "ax.set_xlim(-2,2)\n",
    "ax.set_xticks(np.arange(-2, 2, 0.2))\n",
    "ax.set_xlabel(\"X coord\", fontsize=12)\n",
    "\n",
    "ax.yaxis.set_label_position(\"left\")\n",
    "ax.set_ylabel(\"Page Altitude (Y coord)\\nTetravolumes\", fontsize=12)\n",
    "ax.set_title(\"TetraBook Page Sweepout\")\n",
    "\n",
    "ax.set_ylim(0,2)\n",
    "ax.set_yticks(np.arange(0, 2.0, 0.2))\n",
    "\n",
    "ax.grid()\n",
    "\n",
    "ax.axhline(1.06066, color='green', ls=\"-\", dashes = (5, 2, 1, 2), label=\"S3\")\n",
    "ax.axvline(root3 * math.cos(math.acos( 1/3)), color='blue', dashes = (5, 2), label=\"Reg Tet\")\n",
    "ax.axvline(root3 * math.cos(math.acos(-1/3)), color='blue', dashes = (5, 2))\n",
    "\n",
    "ax.legend()\n",
    "\n",
    "plt.savefig(\"tetrabook_plot.png\", format=\"png\", bbox_inches=\"tight\")\n",
    "plt.show()"
   ]
  },
  {
   "cell_type": "code",
   "execution_count": 34,
   "id": "ec3aa56d-36c6-4473-b1e6-522ee1f7e162",
   "metadata": {},
   "outputs": [
    {
     "data": {
      "image/png": "[encoded data removed]",
      "text/plain": [
       "<Figure size 720x720 with 1 Axes>"
      ]
     },
     "metadata": {
      "needs_background": "light"
     },
     "output_type": "display_data"
    }
   ],
   "source": [
    "fig, ax = plt.subplots(1, 1, figsize=(10,10))\n",
    "\n",
    "ax.plot('x', 'cus', data=table, label=\"Cubes (R)\")\n",
    "ax.plot('x', 'alt', data=table, label=\"Page Tip\")\n",
    "\n",
    "# ax.set_box_aspect(1)\n",
    "ax.set_aspect('equal')\n",
    "\n",
    "ax.set_xlim(-2,2)\n",
    "ax.set_xticks(np.arange(-2, 2, 0.2))\n",
    "ax.set_xlabel(\"X coord\", fontsize=12)\n",
    "\n",
    "ax.yaxis.set_label_position(\"left\")\n",
    "ax.set_ylabel(\"Page Altitude (Y coord)\\nCube Volumes\", fontsize=12)\n",
    "ax.set_title(\"TetraBook Page Sweepout\")\n",
    "\n",
    "ax.set_ylim(0,2)\n",
    "ax.set_yticks(np.arange(0, 2.0, 0.2))\n",
    "\n",
    "ax.grid()\n",
    "\n",
    "ax.axhline(1/S3, color='green', ls=\"-\", dashes = (5, 2, 1, 2), label=\"1/S3\")\n",
    "ax.axvline(root3 * math.cos(math.acos( 1/3)), color='blue', dashes = (5, 2), label=\"Reg Tet\")\n",
    "ax.axvline(root3 * math.cos(math.acos(-1/3)), color='blue', dashes = (5, 2))\n",
    "\n",
    "ax.legend()\n",
    "\n",
    "plt.savefig(\"tetrabook_cu_plot.png\", format=\"png\", bbox_inches=\"tight\")\n",
    "plt.show()"
   ]
  }
 ],
 "metadata": {
  "kernelspec": {
   "display_name": "Python 3 (ipykernel)",
   "language": "python",
   "name": "python3"
  },
  "language_info": {
   "codemirror_mode": {
    "name": "ipython",
    "version": 3
   },
   "file_extension": ".py",
   "mimetype": "text/x-python",
   "name": "python",
   "nbconvert_exporter": "python",
   "pygments_lexer": "ipython3",
   "version": "3.7.9"
  }
 },
 "nbformat": 4,
 "nbformat_minor": 5
}
