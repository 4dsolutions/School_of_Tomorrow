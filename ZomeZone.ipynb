{
 "cells": [
  {
   "cell_type": "markdown",
   "id": "a598f320-dc7d-49fb-99aa-25bf497b2df1",
   "metadata": {
    "tags": []
   },
   "source": [
    "[Oregon Curriculum Network](http://4dsolutions.net/ocn/)<br/>\n",
    "[School of Tomorrow](School_of_Tomorrow.ipynb)\n",
    "\n",
    "\n",
    "# Zaney Zomery: Introducing the Y Module\n",
    "\n",
    "The main topic here is the Koski Y module.  What we mean by \"module\" is explained below, along with the rationale for naming it Y in this namespace. \n",
    "\n",
    "What namespace?  That too will be explained.\n",
    "\n",
    "<a data-flickr-embed=\"true\" href=\"https://www.flickr.com/photos/kirbyurner/52374459958/in/dateposted-public/\" title=\"y_tetrahedron\"><img src=\"https://live.staticflickr.com/65535/52374459958_7d122dba38_m.jpg\" width=\"135\" height=\"240\" alt=\"y_tetrahedron\"></a><script async src=\"//embedr.flickr.com/assets/client-code.js\" charset=\"utf-8\"></script>\n",
    "<br />\n",
    "*Y module plane net*\n",
    "<br />\n",
    "<br />\n",
    "<a data-flickr-embed=\"true\" href=\"https://www.flickr.com/photos/kirbyurner/52374237481/in/dateposted-public/\" title=\"plane_net\"><img src=\"https://live.staticflickr.com/65535/52374237481_95b1e8a648_m.jpg\" width=\"155\" height=\"206\" alt=\"plane_net\"></a><script async src=\"//embedr.flickr.com/assets/client-code.js\" charset=\"utf-8\"></script>\n",
    "<br />\n",
    "*Example plane net with color coded Lengths*\n",
    "<br />\n",
    "\n",
    "These plane nets are from David Koski.  The camera perspective may result in lengths towards the camera appearing longer than they are, relative those further back.  That's why color coding is so useful.  To [a fluent Zomer](https://www.zometool.com/), just looking at the color tells one a lot.  That being said, three lengths of light blue might still be confusing:  1/phi, 1 and phi.\n",
    "\n",
    "One can see why Koski Phi Studies and Zomery go hand in hand.  In Phi Studies, a page from Synergetics is taken (see TetraBook) such that Tetravolumes become the expected currency.  This becomes so implied it's not even stated.  \n",
    "\n",
    "Then what gets Phi-Scaled?  By \"scaled\" we don't mean like snake scales, but like scaling larger and smaller. To scale up by phi is to elongate every edge by about 1.61803398875.  That's longer than the 2nd root of 2, which is only about 1.414213562373 or so).  Every edge of what?  Usually some tetrahedron, dubbed a \"module\".\n",
    "\n",
    "What \"modules\" do we have already named?  Koski has coined [U, V, and W](UVW.ipynb).  He's aware of Tell Andersen's work, and Steve Baer's, Yasushi Kajikawa's, Einar Thorsteinn's, Guy Inchbald's, Grayham Forscutt's.  This Notebook introduces a \"Y module\", with a logical relationship to U3 (U scaled up by phi).\n",
    "\n",
    "However, on that borrowed page from Synergetics (see above), the already-defined modules spell BEAST (memorably) and here they are:\n",
    "\n",
    "* B module:  1/24th of what's left given regular Octahedron minus 48 A modules (six per face)\n",
    "* E module:  1/120th of a rhombic triacontahedron, radius 1\n",
    "* A module:  1/24th of a regular tetrahedron (12 left-handed, 12 right-handed)\n",
    "* S module:  pack around an icosahedron inscribed in said regular Octahedron of volume 4\n",
    "* T module:  same volume as A & B, E module of diminished radius (~0.9994).\n",
    "\n",
    "<a data-flickr-embed=\"true\" href=\"https://www.flickr.com/photos/kirbyurner/6335726352/in/photolist-25JufgG-CwvwpP-f75zUP-aDSfHf-8ryECF-8ryEix-5zY9gA-7k4Eid-7k4Em5-7k4Ejf-7jZLhp-2mT3vMb-2mT2hXj-S4BDeE-2d6EFEQ-22RBsb5-vLby2U-ujipN3-7mcmne-5zTRjp\" title=\"S Module\"><img src=\"https://live.staticflickr.com/6114/6335726352_902009df40_w.jpg\" width=\"400\" height=\"353\" alt=\"S Module\"></a><script async src=\"//embedr.flickr.com/assets/client-code.js\" charset=\"utf-8\"></script>\n",
    "<br />\n",
    "*Four S modules around each of six Octahedron tips*"
   ]
  },
  {
   "cell_type": "code",
   "execution_count": 1,
   "id": "408d12bc-fd27-4d82-918f-598234a98fe1",
   "metadata": {},
   "outputs": [],
   "source": [
    "import sympy as sym"
   ]
  },
  {
   "cell_type": "code",
   "execution_count": 2,
   "id": "8b701851-d625-465c-a0a9-81a863a14a0a",
   "metadata": {},
   "outputs": [],
   "source": [
    "rt2       = sym.sqrt      # for consistency\n",
    "\n",
    "φ         = (rt2(5)+1)/2  # golden ratio\n",
    "Syn3      = rt2(9/8)      # not to be confused with Smod\n",
    "E3        = (rt2(2) / 8)\n",
    "\n",
    "B         = 1/24\n",
    "E         = E3 * (φ**-3)  # home base Emod\n",
    "A         = 1/24\n",
    "S         = (φ**-5) / 2   # home base Smod\n",
    "T         = 1/24\n",
    "\n",
    "Cubocta   = 20\n",
    "SuperRT   = Syn3 * Cubocta\n",
    "\n",
    "e3        = E  * (φ**-3)\n",
    "e6        = e3 * (φ**-3)\n",
    "\n",
    "S_factor  = S / E   # 2*sqrt(7-3*sqrt(5))"
   ]
  },
  {
   "cell_type": "markdown",
   "id": "9dc46182-0ae3-4615-bc52-bc672dd285d6",
   "metadata": {},
   "source": [
    "\n",
    "<br />\n",
    "<a data-flickr-embed=\"true\" href=\"https://www.flickr.com/photos/kirbyurner/52374653495/in/dateposted-public/\" title=\"cuboid\"><img src=\"https://live.staticflickr.com/65535/52374653495_2d6c377f39_m.jpg\" width=\"135\" height=\"240\" alt=\"cuboid\"></a><script async src=\"//embedr.flickr.com/assets/client-code.js\" charset=\"utf-8\"></script>\n",
    "<br />\n",
    "*A Golden Cuboid from Whence Many Tetrahedrons Derive*\n",
    "<br />"
   ]
  },
  {
   "cell_type": "markdown",
   "id": "ceaece23-cfb0-45a1-9e50-5bb31d97d038",
   "metadata": {},
   "source": [
    "The notes I initially got from David, in a Facebook message (we're both boomers), boiled down to the following:\n",
    "\n",
    "* Yellow is sqrt 3\n",
    "* Green is sqrt 2\n",
    "* Dark blue sqrt phi\n",
    "* Light blue long = 1\n",
    "* Light blue short = phi**-1\n",
    "* Light blue extra long = phi\n",
    "\n",
    "However, David is always thinking in terms of a unit volume tetrahedron with edges 2R, i.e. his control length is 2.  My [tetravolume.py](tetravolume.py) is happiest when D=1 and R=0.5, where D, R refer to the Diameter and Radius of the IVM ball or sphere.  IVM = \"isotropic vector matrix\".\n",
    "\n",
    "In order to make our numbers jibe, I divided all of the above Koski lengths by 2, to accommodate my double-sized unit."
   ]
  },
  {
   "cell_type": "code",
   "execution_count": 3,
   "id": "8b343555-a434-4497-9930-730bfe770736",
   "metadata": {},
   "outputs": [],
   "source": [
    "# Zome Lengths * 1/2 scale factor since D == 1\n",
    "\n",
    "yellow = rt2(3)/2\n",
    "green  = rt2(2)/2\n",
    "db     = dark_blue        = rt2(ϕ)/2\n",
    "lbs    = light_blue_short = 1/(2*ϕ)\n",
    "lbl    = light_blue_long  = 1/2\n",
    "lbe    = light_blue_extra = ϕ/2"
   ]
  },
  {
   "cell_type": "code",
   "execution_count": 4,
   "id": "e2537fe0-3582-41b3-9e0b-9b887ecef4d3",
   "metadata": {},
   "outputs": [],
   "source": [
    "import tetravolume as tv # includes Gerald de Jong volume formula (Koski uses Piero della Francesca's)"
   ]
  },
  {
   "cell_type": "markdown",
   "id": "82c2b5f8-7e0e-407e-a654-8ff7a34094f8",
   "metadata": {},
   "source": [
    "For more Tetrahedron from six edges volume formulae see:\n",
    "\n",
    "* [VolumeTalk.ipynb](VolumeTalk.ipynb) -- a Jupyter Notebook in this same School of Tomorrow repo\n",
    "* [Online Calculator](https://keisan.casio.com/exec/system/1329962711) -- a nifty XYZ volume calculator\n",
    "* [U, V, and W](UVW.ipynb) -- more context for Y module"
   ]
  },
  {
   "cell_type": "markdown",
   "id": "c4ab7085-df62-4317-bd8d-214cd57d0b59",
   "metadata": {},
   "source": [
    "# The Y Module\n",
    "\n",
    "<a data-flickr-embed=\"true\" href=\"https://www.flickr.com/photos/kirbyurner/52374459958/in/dateposted-public/\" title=\"y_tetrahedron\"><img src=\"https://live.staticflickr.com/65535/52374459958_7d122dba38_m.jpg\" width=\"135\" height=\"240\" alt=\"y_tetrahedron\"></a><script async src=\"//embedr.flickr.com/assets/client-code.js\" charset=\"utf-8\"></script>\n",
    "<br />\n",
    "*Y module*\n",
    "<br />\n",
    "\n",
    "Plane net of tetrahedron (rough model in back)\n",
    "* 4 lengths $\\phi/2$\n",
    "* 2 lengths $\\sqrt{2}/2$\n",
    "\n",
    "Koski:\n",
    "\n",
    "By pure happenstance I realized I can make a tetrahedron: \n",
    "    \n",
    " * Two opposite edges are sqrt2  \n",
    " * The other four are the length phi\n",
    " * So four isosceles triangles.\n",
    " * It has a volume of .449726\n",
    " * Which follows the [U3] tetrahedron of volume 0.35355\n",
    " * Which is phi**(1/2) increase in volume\n"
   ]
  },
  {
   "cell_type": "code",
   "execution_count": 5,
   "id": "66bd6e00-82c5-4b0f-b403-06cf570d4f47",
   "metadata": {},
   "outputs": [],
   "source": [
    "Y = tv.Tetrahedron(lbe, lbe, green, green, lbe, lbe)"
   ]
  },
  {
   "cell_type": "code",
   "execution_count": 6,
   "id": "20e8eb86-b88b-4ea5-97aa-1ba2b08ef3df",
   "metadata": {},
   "outputs": [
    {
     "data": {
      "text/latex": [
       "$\\displaystyle \\sqrt{- \\frac{1}{8} + \\frac{\\left(\\frac{1}{4} + \\frac{\\sqrt{5}}{4}\\right)^{2}}{2}}$"
      ],
      "text/plain": [
       "sqrt(-1/8 + (1/4 + sqrt(5)/4)**2/2)"
      ]
     },
     "execution_count": 6,
     "metadata": {},
     "output_type": "execute_result"
    }
   ],
   "source": [
    "Y.ivm_volume()"
   ]
  },
  {
   "cell_type": "code",
   "execution_count": 7,
   "id": "c8152292-a868-433d-a6a7-69c6eae84055",
   "metadata": {},
   "outputs": [
    {
     "data": {
      "text/latex": [
       "$\\displaystyle \\frac{\\sqrt{1 + \\sqrt{5}}}{4}$"
      ],
      "text/plain": [
       "sqrt(1 + sqrt(5))/4"
      ]
     },
     "execution_count": 7,
     "metadata": {},
     "output_type": "execute_result"
    }
   ],
   "source": [
    "sym.simplify(Y.ivm_volume())"
   ]
  },
  {
   "cell_type": "markdown",
   "id": "7c32a514-80b4-4d69-a7b6-9dfb62b2aaaf",
   "metadata": {},
   "source": [
    "<a data-flickr-embed=\"true\" href=\"https://www.flickr.com/photos/kirbyurner/52374459958/in/dateposted-public/\" title=\"y_tetrahedron\"><img src=\"https://live.staticflickr.com/65535/52374459958_7d122dba38_m.jpg\" width=\"135\" height=\"240\" alt=\"y_tetrahedron\"></a><script async src=\"//embedr.flickr.com/assets/client-code.js\" charset=\"utf-8\"></script>\n",
    "<br />\n",
    "*Y module*\n",
    "<br />"
   ]
  },
  {
   "cell_type": "code",
   "execution_count": 8,
   "id": "5f1a0ceb-08c2-4f69-bc1e-2e587e512852",
   "metadata": {},
   "outputs": [],
   "source": [
    "Y = tv.Tetrahedron(green, lbe, lbe, lbe, green, lbe)  # alternative ordering"
   ]
  },
  {
   "cell_type": "code",
   "execution_count": 9,
   "id": "04cd2ccb-9ea7-44c9-9d4b-e6840ea2f971",
   "metadata": {},
   "outputs": [
    {
     "data": {
      "text/latex": [
       "$\\displaystyle \\frac{\\sqrt{1 + \\sqrt{5}}}{4}$"
      ],
      "text/plain": [
       "sqrt(1 + sqrt(5))/4"
      ]
     },
     "execution_count": 9,
     "metadata": {},
     "output_type": "execute_result"
    }
   ],
   "source": [
    "Ymod = sym.simplify(Y.ivm_volume())\n",
    "Ymod"
   ]
  },
  {
   "cell_type": "code",
   "execution_count": 10,
   "id": "fd5afc32-e3da-4a74-806c-40cfe1bbdb87",
   "metadata": {},
   "outputs": [
    {
     "data": {
      "text/latex": [
       "$\\displaystyle 0.4497268599869668180653068959060639095818862459063$"
      ],
      "text/plain": [
       "0.44972685998696681806530689590606390958188624590630"
      ]
     },
     "execution_count": 10,
     "metadata": {},
     "output_type": "execute_result"
    }
   ],
   "source": [
    "Ymod.evalf(50)  # jibes with Koski's result (tetravolumes remember)"
   ]
  },
  {
   "cell_type": "code",
   "execution_count": 11,
   "id": "6e1ec146-e934-420a-a3c3-8e4ddfa8ae05",
   "metadata": {},
   "outputs": [
    {
     "data": {
      "text/latex": [
       "$\\displaystyle \\frac{1}{2} + \\frac{\\sqrt{5}}{2}$"
      ],
      "text/plain": [
       "1/2 + sqrt(5)/2"
      ]
     },
     "execution_count": 11,
     "metadata": {},
     "output_type": "execute_result"
    }
   ],
   "source": [
    "ϕ"
   ]
  },
  {
   "cell_type": "code",
   "execution_count": 12,
   "id": "894a6e4f-dcef-48ed-a6d6-255ee0907c99",
   "metadata": {},
   "outputs": [
    {
     "data": {
      "text/latex": [
       "$\\displaystyle 1.6180339887498948482045868343656381177203091798058$"
      ],
      "text/plain": [
       "1.6180339887498948482045868343656381177203091798058"
      ]
     },
     "execution_count": 12,
     "metadata": {},
     "output_type": "execute_result"
    }
   ],
   "source": [
    "ϕ.evalf(50)  # what's phi again?"
   ]
  },
  {
   "cell_type": "code",
   "execution_count": 13,
   "id": "ca71f75e-241a-482f-a43f-34e9bf27d68b",
   "metadata": {},
   "outputs": [
    {
     "data": {
      "text/latex": [
       "$\\displaystyle 1.4142135623730950488016887242096980785696718753769$"
      ],
      "text/plain": [
       "1.4142135623730950488016887242096980785696718753769"
      ]
     },
     "execution_count": 13,
     "metadata": {},
     "output_type": "execute_result"
    }
   ],
   "source": [
    "rt2(2).evalf(50)  # what's sqrt 2?"
   ]
  },
  {
   "cell_type": "markdown",
   "id": "3167922a-6a74-4cbf-a28c-b93d7092a946",
   "metadata": {},
   "source": [
    "## Checking...\n",
    "\n",
    "Checking with [online tetrahedron calculator](https://keisan.casio.com/exec/system/1329962711):\n",
    "\n",
    "Inputting (not trying to carry too many decimals):\n",
    "\n",
    "* a1 = 1.6180339887498948\n",
    "* a2 = 1.6180339887498948\n",
    "* a3 = 1.414213562373095\n",
    "* a4 = 1.414213562373095\n",
    "* a5 = 1.6180339887498948\n",
    "* a6 = 1.6180339887498948\n",
    "\n",
    "Result:"
   ]
  },
  {
   "cell_type": "code",
   "execution_count": 14,
   "id": "cb302633-8c66-407d-aae1-8c6e11286c15",
   "metadata": {},
   "outputs": [
    {
     "data": {
      "text/plain": [
       "0.42400654983802"
      ]
     },
     "execution_count": 14,
     "metadata": {},
     "output_type": "execute_result"
    }
   ],
   "source": [
    "v = 0.42400654983802  # XYZ volume\n",
    "v"
   ]
  },
  {
   "cell_type": "code",
   "execution_count": 15,
   "id": "2f9e0fa7-4cf0-4613-b0f2-98bcf1df811c",
   "metadata": {},
   "outputs": [
    {
     "data": {
      "text/latex": [
       "$\\displaystyle 0.449726859986964$"
      ],
      "text/plain": [
       "0.449726859986964"
      ]
     },
     "execution_count": 15,
     "metadata": {},
     "output_type": "execute_result"
    }
   ],
   "source": [
    "v * Syn3 # IVM volume using Synergetics Constant Syn3 rt2(9/8)"
   ]
  },
  {
   "cell_type": "code",
   "execution_count": 16,
   "id": "92f142bf-9f61-4d4a-af73-17570b3ce449",
   "metadata": {},
   "outputs": [
    {
     "data": {
      "text/latex": [
       "$\\displaystyle 0.449726859986967$"
      ],
      "text/plain": [
       "0.449726859986967"
      ]
     },
     "execution_count": 16,
     "metadata": {},
     "output_type": "execute_result"
    }
   ],
   "source": [
    "Ymod.evalf(15) # close enough"
   ]
  },
  {
   "cell_type": "markdown",
   "id": "99ca2b18-5b43-4100-a80e-07e9ef60f995",
   "metadata": {},
   "source": [
    "## Y = $U3 \\sqrt{\\phi}$\n",
    "\n",
    "U3 is the U module scaled up by (edges multipied by) $\\phi$.\n",
    "\n",
    "For more on U, V, W modules see [this Notebook](UVW.ipynb])."
   ]
  },
  {
   "cell_type": "code",
   "execution_count": 17,
   "id": "9d1b74e4-503a-4c63-9a65-2ef5ce0d3946",
   "metadata": {},
   "outputs": [],
   "source": [
    "E3        = (rt2(2) / 8)\n",
    "E         = E3 * (φ**-3)  # home base Emod\n",
    "e3        = E  * (φ**-3)\n",
    "e6        = e3 * (φ**-3)"
   ]
  },
  {
   "cell_type": "code",
   "execution_count": 18,
   "id": "68d00479-4033-4212-824b-04091587cdfe",
   "metadata": {},
   "outputs": [
    {
     "data": {
      "text/latex": [
       "$\\displaystyle \\frac{\\sqrt{2}}{4}$"
      ],
      "text/plain": [
       "sqrt(2)/4"
      ]
     },
     "execution_count": 18,
     "metadata": {},
     "output_type": "execute_result"
    }
   ],
   "source": [
    "U3 = 2 * E3\n",
    "U3"
   ]
  },
  {
   "cell_type": "code",
   "execution_count": 19,
   "id": "deceda27-74f4-4ea3-8a58-270911153d5b",
   "metadata": {},
   "outputs": [
    {
     "data": {
      "text/latex": [
       "$\\displaystyle 0.353553390593274$"
      ],
      "text/plain": [
       "0.353553390593274"
      ]
     },
     "execution_count": 19,
     "metadata": {},
     "output_type": "execute_result"
    }
   ],
   "source": [
    "sym.N(U3)"
   ]
  },
  {
   "cell_type": "code",
   "execution_count": 20,
   "id": "40cd58a6-c397-48d2-a555-fa3a498655ab",
   "metadata": {},
   "outputs": [
    {
     "data": {
      "text/latex": [
       "$\\displaystyle \\sqrt{\\frac{1}{2} + \\frac{\\sqrt{5}}{2}}$"
      ],
      "text/plain": [
       "sqrt(1/2 + sqrt(5)/2)"
      ]
     },
     "execution_count": 20,
     "metadata": {},
     "output_type": "execute_result"
    }
   ],
   "source": [
    "rt2(ϕ)"
   ]
  },
  {
   "cell_type": "markdown",
   "id": "7252664a-dc91-4fbb-81e3-9b2895b69573",
   "metadata": {},
   "source": [
    "The Y module is $\\sqrt{\\phi}$ times the volume of U3."
   ]
  },
  {
   "cell_type": "code",
   "execution_count": 21,
   "id": "ec6d5478-2174-413d-83a4-f223333281f0",
   "metadata": {},
   "outputs": [
    {
     "data": {
      "text/latex": [
       "$\\displaystyle \\frac{\\sqrt{1 + \\sqrt{5}}}{4}$"
      ],
      "text/plain": [
       "sqrt(1 + sqrt(5))/4"
      ]
     },
     "execution_count": 21,
     "metadata": {},
     "output_type": "execute_result"
    }
   ],
   "source": [
    "checkY = U3 * rt2(ϕ)\n",
    "sym.simplify(checkY)"
   ]
  },
  {
   "cell_type": "code",
   "execution_count": 22,
   "id": "b8c4d158-2bdb-4749-a4c8-9833acb79157",
   "metadata": {},
   "outputs": [
    {
     "data": {
      "text/latex": [
       "$\\displaystyle \\frac{\\sqrt{1 + \\sqrt{5}}}{4}$"
      ],
      "text/plain": [
       "sqrt(1 + sqrt(5))/4"
      ]
     },
     "execution_count": 22,
     "metadata": {},
     "output_type": "execute_result"
    }
   ],
   "source": [
    "Ymod"
   ]
  },
  {
   "cell_type": "code",
   "execution_count": 23,
   "id": "23d0cef9-748d-4ad7-bc2c-f8922db31f54",
   "metadata": {},
   "outputs": [
    {
     "data": {
      "text/latex": [
       "$\\displaystyle 0.4497268599869668180653068959060639095818862459063$"
      ],
      "text/plain": [
       "0.44972685998696681806530689590606390958188624590630"
      ]
     },
     "execution_count": 23,
     "metadata": {},
     "output_type": "execute_result"
    }
   ],
   "source": [
    "Ymod.evalf(50)  # jibes with Koski's result (tetravolumes remember)"
   ]
  },
  {
   "cell_type": "code",
   "execution_count": 24,
   "id": "80eadfbc-60c3-4cce-97d0-d450a1fb322d",
   "metadata": {},
   "outputs": [
    {
     "data": {
      "text/latex": [
       "$\\displaystyle 0.4497268599869668180653068959060639095818862459063$"
      ],
      "text/plain": [
       "0.44972685998696681806530689590606390958188624590630"
      ]
     },
     "execution_count": 24,
     "metadata": {},
     "output_type": "execute_result"
    }
   ],
   "source": [
    "(U3 * rt2(ϕ)).evalf(50)"
   ]
  },
  {
   "cell_type": "markdown",
   "id": "05ad9db6-2f92-453b-9c7c-555569a04811",
   "metadata": {},
   "source": [
    "### Goof Off Area\n",
    "\n",
    "I've been upgrading [qrays.py](./qrays.py) and [tetravolume.py](./tetravolume.py) to work well with [sympy](https://docs.sympy.org/latest/index.html).  This has meant fixing some unittests."
   ]
  },
  {
   "cell_type": "code",
   "execution_count": 25,
   "id": "dd573771-c501-4878-89f9-ded8e796bc10",
   "metadata": {},
   "outputs": [
    {
     "name": "stdout",
     "output_type": "stream",
     "text": [
      "..........................\n",
      "----------------------------------------------------------------------\n",
      "Ran 26 tests in 11.923s\n",
      "\n",
      "OK\n"
     ]
    }
   ],
   "source": [
    "! python3.9 tetravolume.py"
   ]
  },
  {
   "cell_type": "code",
   "execution_count": 26,
   "id": "8c8aa84c-c352-4aff-9135-307d6e05bb97",
   "metadata": {},
   "outputs": [],
   "source": [
    "import sympy as sym\n",
    "\n",
    "R = 1/2\n",
    "D = 1\n",
    "rt2   = sym.sqrt\n",
    "\n",
    "S3    = rt2(9/8)\n",
    "root2 = rt2(2)\n",
    "root3 = rt2(3)\n",
    "root5 = rt2(5)\n",
    "root6 = rt2(6)\n",
    "PHI = (1 + root5)/2"
   ]
  },
  {
   "cell_type": "code",
   "execution_count": 27,
   "id": "828ee02c-c3fd-47d5-8990-a27057618170",
   "metadata": {},
   "outputs": [],
   "source": [
    "T = tv.Tetrahedron(PHI, 1/PHI, 1, root2, root2/PHI, root2)"
   ]
  },
  {
   "cell_type": "code",
   "execution_count": 28,
   "id": "b0594760-ccf3-4497-a9a8-1882193fdc05",
   "metadata": {},
   "outputs": [
    {
     "data": {
      "text/latex": [
       "$\\displaystyle 1.0$"
      ],
      "text/plain": [
       "1.0000000000000000000000000000000000000000000000000"
      ]
     },
     "execution_count": 28,
     "metadata": {},
     "output_type": "execute_result"
    }
   ],
   "source": [
    "T.ivm_volume().evalf(50)"
   ]
  },
  {
   "cell_type": "code",
   "execution_count": 29,
   "id": "3f3928a6-b3f7-411e-89f7-3b9682ec94a3",
   "metadata": {},
   "outputs": [
    {
     "data": {
      "text/latex": [
       "$\\displaystyle 1.0$"
      ],
      "text/plain": [
       "1.00000000000000"
      ]
     },
     "execution_count": 29,
     "metadata": {},
     "output_type": "execute_result"
    }
   ],
   "source": [
    "0.577350269189626*rt2(3).evalf()"
   ]
  },
  {
   "cell_type": "code",
   "execution_count": 30,
   "id": "18a5701c-e492-4c62-ba55-54d5eef04762",
   "metadata": {},
   "outputs": [
    {
     "data": {
      "text/latex": [
       "$\\displaystyle \\sqrt{3}$"
      ],
      "text/plain": [
       "sqrt(3)"
      ]
     },
     "execution_count": 30,
     "metadata": {},
     "output_type": "execute_result"
    }
   ],
   "source": [
    "tv.root3"
   ]
  },
  {
   "cell_type": "code",
   "execution_count": 31,
   "id": "9ae965d6-f4f4-450e-a05c-468c66b93e73",
   "metadata": {},
   "outputs": [],
   "source": [
    "T = tv.Triangle(sym.Integer(1),sym.Integer(1),sym.Integer(1))"
   ]
  },
  {
   "cell_type": "code",
   "execution_count": 32,
   "id": "bbf90f21-8ce9-4b7e-9383-aeb4f10152e6",
   "metadata": {},
   "outputs": [
    {
     "data": {
      "text/latex": [
       "$\\displaystyle 1$"
      ],
      "text/plain": [
       "1"
      ]
     },
     "execution_count": 32,
     "metadata": {},
     "output_type": "execute_result"
    }
   ],
   "source": [
    "T.a"
   ]
  },
  {
   "cell_type": "code",
   "execution_count": 33,
   "id": "bf3b003b-e64e-4ce3-9099-f25f78dcdcfa",
   "metadata": {},
   "outputs": [
    {
     "data": {
      "text/plain": [
       "sympy.core.numbers.One"
      ]
     },
     "execution_count": 33,
     "metadata": {},
     "output_type": "execute_result"
    }
   ],
   "source": [
    "type(T.a)"
   ]
  },
  {
   "cell_type": "code",
   "execution_count": 34,
   "id": "4d3ac270-260c-477b-b815-3cbb0149aa44",
   "metadata": {},
   "outputs": [
    {
     "data": {
      "text/latex": [
       "$\\displaystyle \\sqrt{3}$"
      ],
      "text/plain": [
       "sqrt(3)"
      ]
     },
     "execution_count": 34,
     "metadata": {},
     "output_type": "execute_result"
    }
   ],
   "source": [
    "T.xyz_area()"
   ]
  },
  {
   "cell_type": "code",
   "execution_count": 35,
   "id": "33bbf6d2-1f44-4b1d-b005-33312c9407bd",
   "metadata": {},
   "outputs": [
    {
     "data": {
      "text/latex": [
       "$\\displaystyle 1$"
      ],
      "text/plain": [
       "1"
      ]
     },
     "execution_count": 35,
     "metadata": {},
     "output_type": "execute_result"
    }
   ],
   "source": [
    "T.ivm_area()"
   ]
  },
  {
   "cell_type": "code",
   "execution_count": 36,
   "id": "92dfdada-1e5e-458e-a820-254d24684eff",
   "metadata": {},
   "outputs": [
    {
     "data": {
      "text/latex": [
       "$\\displaystyle \\frac{\\sqrt{3}}{3}$"
      ],
      "text/plain": [
       "sqrt(3)/3"
      ]
     },
     "execution_count": 36,
     "metadata": {},
     "output_type": "execute_result"
    }
   ],
   "source": [
    "1/rt2(3)"
   ]
  },
  {
   "cell_type": "code",
   "execution_count": 37,
   "id": "9779baaa-041f-451e-9a03-a37e5da7303d",
   "metadata": {},
   "outputs": [
    {
     "data": {
      "text/latex": [
       "$\\displaystyle 0.5773502692$"
      ],
      "text/plain": [
       "0.5773502692"
      ]
     },
     "execution_count": 37,
     "metadata": {},
     "output_type": "execute_result"
    }
   ],
   "source": [
    "1/rt2(3).evalf(10)"
   ]
  }
 ],
 "metadata": {
  "kernelspec": {
   "display_name": "Python 3 (ipykernel)",
   "language": "python",
   "name": "python3"
  },
  "language_info": {
   "codemirror_mode": {
    "name": "ipython",
    "version": 3
   },
   "file_extension": ".py",
   "mimetype": "text/x-python",
   "name": "python",
   "nbconvert_exporter": "python",
   "pygments_lexer": "ipython3",
   "version": "3.9.12"
  }
 },
 "nbformat": 4,
 "nbformat_minor": 5
}
