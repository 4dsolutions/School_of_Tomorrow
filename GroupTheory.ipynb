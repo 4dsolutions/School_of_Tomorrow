{
 "cells": [
  {
   "cell_type": "markdown",
   "metadata": {},
   "source": [
    "[Oregon Curriculum Network](http://4dsolutions.net/ocn/)\n",
    "\n",
    "# The School of Tomorrow\n",
    "\n",
    "[Home Page](School_of_Tomorrow.ipynb)\n",
    "\n",
    "<a data-flickr-embed=\"true\" href=\"https://www.flickr.com/photos/kirbyurner/3175451489/in/photolist-9D8wgJ-5QB26B\" title=\"Group Theory\"><img src=\"https://live.staticflickr.com/3078/3175451489_cf793f89af.jpg\" width=\"500\" height=\"375\" alt=\"Group Theory\"></a><script async src=\"//embedr.flickr.com/assets/client-code.js\" charset=\"utf-8\"></script>\n",
    "\n",
    "(scroll down for embedded source code and more remarks about its runtime context)\n",
    "\n",
    "# Group Theory\n",
    "\n",
    "Group Theory is usually presented as a branch of exploration that started with Galois Theory.\n",
    "\n",
    "The School of Tomorrow does not aim to provide exhaustive treatment of all topics touched on.  Instead, the topics we touch upon get woven together in a somewhat systematic way.\n",
    "\n",
    "In Group Theory, we'll visit the idea of totatives, as we do in Number Theory as well.  The totatives of N, multiplied modulo N, form a group.  The totative of N module N when N is prime, form a field."
   ]
  },
  {
   "cell_type": "code",
   "execution_count": 1,
   "metadata": {},
   "outputs": [],
   "source": [
    "class Mod:\n",
    "    \n",
    "    _modulus = 12\n",
    "    \n",
    "    def __init__(self, n):\n",
    "        self.value = n % self._modulus\n",
    "    \n",
    "    def __repr__(self):\n",
    "        return \"({} mod {})\".format(self.value, self._modulus)\n",
    "    \n",
    "    def __add__(self, other):\n",
    "        return type(self)(self.value + other.value)\n",
    "    \n",
    "    def __mul__(self, other):\n",
    "        return type(self)(self.value * other.value)\n",
    "    \n",
    "    def __pow__(self, n):\n",
    "        return type(self)(pow(self.value, n, self._modulus))"
   ]
  },
  {
   "cell_type": "code",
   "execution_count": 2,
   "metadata": {},
   "outputs": [],
   "source": [
    "def gcd(a, b):\n",
    "    while b:\n",
    "        b, a = a % b, b\n",
    "    return a\n",
    "\n",
    "def totatives(n):\n",
    "    return [totative for totative in range(1, n) \n",
    "                  if gcd(totative, n) == 1]"
   ]
  },
  {
   "cell_type": "code",
   "execution_count": 3,
   "metadata": {},
   "outputs": [
    {
     "data": {
      "text/plain": [
       "[1, 5, 7, 11]"
      ]
     },
     "execution_count": 3,
     "metadata": {},
     "output_type": "execute_result"
    }
   ],
   "source": [
    "totatives(12)"
   ]
  },
  {
   "cell_type": "code",
   "execution_count": 4,
   "metadata": {},
   "outputs": [],
   "source": [
    "group_12 = map(Mod, totatives(12))"
   ]
  },
  {
   "cell_type": "code",
   "execution_count": 5,
   "metadata": {},
   "outputs": [
    {
     "data": {
      "text/plain": [
       "[(1 mod 12), (5 mod 12), (7 mod 12), (11 mod 12)]"
      ]
     },
     "execution_count": 5,
     "metadata": {},
     "output_type": "execute_result"
    }
   ],
   "source": [
    "list(group_12)"
   ]
  },
  {
   "cell_type": "code",
   "execution_count": 6,
   "metadata": {},
   "outputs": [],
   "source": [
    "from itertools import product"
   ]
  },
  {
   "cell_type": "code",
   "execution_count": 7,
   "metadata": {},
   "outputs": [],
   "source": [
    "group_12 = map(Mod, totatives(12))\n",
    "n = list(group_12)"
   ]
  },
  {
   "cell_type": "code",
   "execution_count": 8,
   "metadata": {},
   "outputs": [
    {
     "data": {
      "text/plain": [
       "[(1 mod 12), (5 mod 12), (7 mod 12), (11 mod 12)]"
      ]
     },
     "execution_count": 8,
     "metadata": {},
     "output_type": "execute_result"
    }
   ],
   "source": [
    "n"
   ]
  },
  {
   "cell_type": "code",
   "execution_count": 9,
   "metadata": {},
   "outputs": [],
   "source": [
    "table = product(n, n)"
   ]
  },
  {
   "cell_type": "code",
   "execution_count": 10,
   "metadata": {},
   "outputs": [
    {
     "data": {
      "text/plain": [
       "[(1 mod 12),\n",
       " (5 mod 12),\n",
       " (7 mod 12),\n",
       " (11 mod 12),\n",
       " (5 mod 12),\n",
       " (1 mod 12),\n",
       " (11 mod 12),\n",
       " (7 mod 12),\n",
       " (7 mod 12),\n",
       " (11 mod 12),\n",
       " (1 mod 12),\n",
       " (5 mod 12),\n",
       " (11 mod 12),\n",
       " (7 mod 12),\n",
       " (5 mod 12),\n",
       " (1 mod 12)]"
      ]
     },
     "execution_count": 10,
     "metadata": {},
     "output_type": "execute_result"
    }
   ],
   "source": [
    "[a * b for a, b in table]  # closure"
   ]
  }
 ],
 "metadata": {
  "kernelspec": {
   "display_name": "Python 3",
   "language": "python",
   "name": "python3"
  },
  "language_info": {
   "codemirror_mode": {
    "name": "ipython",
    "version": 3
   },
   "file_extension": ".py",
   "mimetype": "text/x-python",
   "name": "python",
   "nbconvert_exporter": "python",
   "pygments_lexer": "ipython3",
   "version": "3.7.7"
  }
 },
 "nbformat": 4,
 "nbformat_minor": 4
}
