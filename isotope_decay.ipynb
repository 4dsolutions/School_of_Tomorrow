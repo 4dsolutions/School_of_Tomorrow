{
 "cells": [
  {
   "cell_type": "markdown",
   "metadata": {},
   "source": [
    "[Oregon Curriculum Network](http://4dsolutions.net/ocn/)\n",
    "\n",
    "[Home](School_of_Tomorrow.ipynb)\n",
    "\n",
    "# RADIO-TOXINS\n",
    "\n",
    "One of the big tasks facing humanity in the 21st Century is protecting itself from past screw-ups.  \n",
    "\n",
    "Humans destroyed two of their major cities, and spread radio-toxins around the planet as soon as they discovered how to make nuclear bombs (so-called \"atom bombs\"). \n",
    "\n",
    "Welcome to Planet of the Apes.  \"We are DEVO\"."
   ]
  },
  {
   "cell_type": "code",
   "execution_count": 1,
   "metadata": {},
   "outputs": [
    {
     "data": {
      "image/jpeg": "[encoded data removed]",
      "text/html": [
       "\n",
       "        <iframe\n",
       "            width=\"400\"\n",
       "            height=\"300\"\n",
       "            src=\"https://www.youtube.com/embed/hRguZr0xCOc\"\n",
       "            frameborder=\"0\"\n",
       "            allowfullscreen\n",
       "        ></iframe>\n",
       "        "
      ],
      "text/plain": [
       "<IPython.lib.display.YouTubeVideo at 0x1072aa668>"
      ]
     },
     "execution_count": 1,
     "metadata": {},
     "output_type": "execute_result"
    }
   ],
   "source": [
    "from IPython.display import YouTubeVideo\n",
    "YouTubeVideo(\"hRguZr0xCOc\") # https://youtu.be/hRguZr0xCOc"
   ]
  },
  {
   "cell_type": "code",
   "execution_count": 2,
   "metadata": {},
   "outputs": [],
   "source": [
    "# in years\n",
    "half_life_table = {\n",
    "'Pu238':87.74,\n",
    "'Pu239':24_100,\n",
    "'Pu240':6500,\n",
    "'Pu241':14  \n",
    "}"
   ]
  },
  {
   "cell_type": "markdown",
   "metadata": {},
   "source": [
    "![Pu Decay](https://upload.wikimedia.org/wikipedia/commons/thumb/c/cc/Sasahara.svg/800px-Sasahara.svg.png)\n",
    "\n",
    "Permission details:\n",
    "\n",
    "CC-BY-SA-3.0-MIGRATED; Licensed under the GFDL by the author; Released under the GNU Free Documentation License."
   ]
  },
  {
   "cell_type": "code",
   "execution_count": 3,
   "metadata": {},
   "outputs": [
    {
     "data": {
      "image/jpeg": "[encoded data removed]",
      "text/html": [
       "\n",
       "        <iframe\n",
       "            width=\"400\"\n",
       "            height=\"300\"\n",
       "            src=\"https://www.youtube.com/embed/0EBTn_3DBYo\"\n",
       "            frameborder=\"0\"\n",
       "            allowfullscreen\n",
       "        ></iframe>\n",
       "        "
      ],
      "text/plain": [
       "<IPython.lib.display.YouTubeVideo at 0x1077dc5c0>"
      ]
     },
     "execution_count": 3,
     "metadata": {},
     "output_type": "execute_result"
    }
   ],
   "source": [
    "YouTubeVideo(\"0EBTn_3DBYo\") # https://youtu.be/0EBTn_3DBYo"
   ]
  },
  {
   "cell_type": "markdown",
   "metadata": {},
   "source": [
    "### Historical Sidebar\n",
    "\n",
    "New Zealand based [geochemist Bernie Gunn](https://worldgame.blogspot.com/2004/12/view-from-middle-earth.html) used to complain to me (Kirby Urner) that the new generations of geochemist seemed mostly eager to attend conferences at resort destinations and enjoy drinks by the pool.  When would they find the time to get any work done?"
   ]
  },
  {
   "cell_type": "markdown",
   "metadata": {},
   "source": [
    "### Programming Interlude:  Ploting Radioactive Decay"
   ]
  },
  {
   "cell_type": "markdown",
   "metadata": {},
   "source": [
    "[OpenStax Chemistry](https://opentextbc.ca/chemistry/)\n",
    "\n",
    "[Radioactive Decay](https://opentextbc.ca/chemistry/chapter/21-3-radioactive-decay/)\n",
    "\n",
    "![Rutherford's Apparatus](https://opentextbc.ca/chemistry/wp-content/uploads/sites/150/2016/05/CNX_Chem_21_03_Radiation.jpg)"
   ]
  },
  {
   "cell_type": "markdown",
   "metadata": {},
   "source": [
    "$$_LaTex$$\n",
    "\n",
    "Alpha Decay: \n",
    "\n",
    "$$_{84}^{210}\\text{Po}\\;{\\longrightarrow}\\;_2^4\\text{He}\\;+\\;_{82}^{206}\\text{Pb}\\;\\;\\;\\;\\text{or}\\;\\;\\;\\;_{84}^{210}\\text{Po}\\;{\\longrightarrow}\\;_2^4{\\alpha}\\;+\\;_{82}^{206}\\text{Pb}$$\n",
    "\n",
    "Positron Decay:\n",
    "\n",
    "$$_{19}^{40}\\text{K}\\;+\\;_{-1}^0\\text{e}\\;{\\longrightarrow}\\;_{18}^{40}\\text{Ar}$$\n",
    "\n",
    "![Cobalt Decay](https://opentextbc.ca/chemistry/wp-content/uploads/sites/150/2016/05/CNX_Chem_21_03_HalfLife.jpg)"
   ]
  },
  {
   "cell_type": "markdown",
   "metadata": {},
   "source": [
    "For more background on plotting using ```matplotlib``` see [Arithmetic, Plotting](arithmetic_of_tomorrow.ipynb)."
   ]
  },
  {
   "cell_type": "code",
   "execution_count": 4,
   "metadata": {},
   "outputs": [],
   "source": [
    "% matplotlib inline\n",
    "import numpy as np\n",
    "import pandas as pd\n",
    "import math"
   ]
  },
  {
   "cell_type": "markdown",
   "metadata": {},
   "source": [
    "$$\n",
    "{\\lambda} = \\frac{\\text{ln}\\;2}{t_{1/2}} = \\frac{0.693}{t_{1/2}}\\;\\;\\;\\;\\text{or}\\;\\;\\;\\;t_{1/2} = \\frac{\\text{ln}\\;2}{\\lambda} = \\frac{0.693}{\\lambda}\n",
    "$$\n",
    "\n",
    "$$\n",
    "N_t = N_0e^{-kt}\\;\\;\\;\\;\\text{or}\\;\\;\\;\\;t = -\\frac{1}{\\lambda}\\text{ln}(\\frac{N_t}{N_0})\n",
    "$$"
   ]
  },
  {
   "cell_type": "code",
   "execution_count": 5,
   "metadata": {},
   "outputs": [],
   "source": [
    "# https://youtu.be/WTQvfvoOF3g"
   ]
  },
  {
   "cell_type": "code",
   "execution_count": 6,
   "metadata": {},
   "outputs": [
    {
     "data": {
      "text/plain": [
       "0.13152697923338622"
      ]
     },
     "execution_count": 6,
     "metadata": {},
     "output_type": "execute_result"
    }
   ],
   "source": [
    "half_life_colbalt = 5.27 # years\n",
    "rate_constant = math.log(2)/half_life_colbalt\n",
    "rate_constant"
   ]
  },
  {
   "cell_type": "code",
   "execution_count": 7,
   "metadata": {},
   "outputs": [],
   "source": [
    "time_axis  = np.arange(0, 6 * half_life_colbalt, half_life_colbalt/12) # 100 data points\n",
    "snap_shots = np.linspace(0, 6 * half_life_colbalt, 6)"
   ]
  },
  {
   "cell_type": "code",
   "execution_count": 8,
   "metadata": {},
   "outputs": [],
   "source": [
    "remaining_cobolt_cont = 100 * math.e ** (-rate_constant * time_axis)\n",
    "remaining_cobolt_disc = 100 * math.e ** (-rate_constant * snap_shots)"
   ]
  },
  {
   "cell_type": "code",
   "execution_count": 9,
   "metadata": {},
   "outputs": [
    {
     "data": {
      "text/plain": [
       "13.905236523299653"
      ]
     },
     "execution_count": 9,
     "metadata": {},
     "output_type": "execute_result"
    }
   ],
   "source": [
    "year15 = 100 * math.e ** (-rate_constant * 15)\n",
    "year15"
   ]
  },
  {
   "cell_type": "code",
   "execution_count": 10,
   "metadata": {},
   "outputs": [],
   "source": [
    "# high frequency sample (more continuous)\n",
    "data1 = pd.DataFrame({\"Time\": pd.Series(time_axis),\n",
    "                      \"Mass\": pd.Series(remaining_cobolt_cont)})\n",
    "\n",
    "# low frequency sample (more discrete)\n",
    "data2 = pd.DataFrame({\"Time\": pd.Series(snap_shots),\n",
    "                     \"Mass\": pd.Series(remaining_cobolt_disc)})"
   ]
  },
  {
   "cell_type": "code",
   "execution_count": 11,
   "metadata": {},
   "outputs": [
    {
     "data": {
      "text/html": [
       "<div>\n",
       "<style scoped>\n",
       "    .dataframe tbody tr th:only-of-type {\n",
       "        vertical-align: middle;\n",
       "    }\n",
       "\n",
       "    .dataframe tbody tr th {\n",
       "        vertical-align: top;\n",
       "    }\n",
       "\n",
       "    .dataframe thead th {\n",
       "        text-align: right;\n",
       "    }\n",
       "</style>\n",
       "<table border=\"1\" class=\"dataframe\">\n",
       "  <thead>\n",
       "    <tr style=\"text-align: right;\">\n",
       "      <th></th>\n",
       "      <th>Time</th>\n",
       "      <th>Mass</th>\n",
       "    </tr>\n",
       "  </thead>\n",
       "  <tbody>\n",
       "    <tr>\n",
       "      <th>0</th>\n",
       "      <td>0.000000</td>\n",
       "      <td>100.000000</td>\n",
       "    </tr>\n",
       "    <tr>\n",
       "      <th>1</th>\n",
       "      <td>0.439167</td>\n",
       "      <td>94.387431</td>\n",
       "    </tr>\n",
       "    <tr>\n",
       "      <th>2</th>\n",
       "      <td>0.878333</td>\n",
       "      <td>89.089872</td>\n",
       "    </tr>\n",
       "    <tr>\n",
       "      <th>3</th>\n",
       "      <td>1.317500</td>\n",
       "      <td>84.089642</td>\n",
       "    </tr>\n",
       "    <tr>\n",
       "      <th>4</th>\n",
       "      <td>1.756667</td>\n",
       "      <td>79.370053</td>\n",
       "    </tr>\n",
       "  </tbody>\n",
       "</table>\n",
       "</div>"
      ],
      "text/plain": [
       "       Time        Mass\n",
       "0  0.000000  100.000000\n",
       "1  0.439167   94.387431\n",
       "2  0.878333   89.089872\n",
       "3  1.317500   84.089642\n",
       "4  1.756667   79.370053"
      ]
     },
     "execution_count": 11,
     "metadata": {},
     "output_type": "execute_result"
    }
   ],
   "source": [
    "data1.head()"
   ]
  },
  {
   "cell_type": "code",
   "execution_count": 12,
   "metadata": {},
   "outputs": [
    {
     "data": {
      "text/html": [
       "<div>\n",
       "<style scoped>\n",
       "    .dataframe tbody tr th:only-of-type {\n",
       "        vertical-align: middle;\n",
       "    }\n",
       "\n",
       "    .dataframe tbody tr th {\n",
       "        vertical-align: top;\n",
       "    }\n",
       "\n",
       "    .dataframe thead th {\n",
       "        text-align: right;\n",
       "    }\n",
       "</style>\n",
       "<table border=\"1\" class=\"dataframe\">\n",
       "  <thead>\n",
       "    <tr style=\"text-align: right;\">\n",
       "      <th></th>\n",
       "      <th>Time</th>\n",
       "      <th>Mass</th>\n",
       "    </tr>\n",
       "  </thead>\n",
       "  <tbody>\n",
       "    <tr>\n",
       "      <th>0</th>\n",
       "      <td>0.000</td>\n",
       "      <td>100.000000</td>\n",
       "    </tr>\n",
       "    <tr>\n",
       "      <th>1</th>\n",
       "      <td>6.324</td>\n",
       "      <td>43.527528</td>\n",
       "    </tr>\n",
       "    <tr>\n",
       "      <th>2</th>\n",
       "      <td>12.648</td>\n",
       "      <td>18.946457</td>\n",
       "    </tr>\n",
       "    <tr>\n",
       "      <th>3</th>\n",
       "      <td>18.972</td>\n",
       "      <td>8.246924</td>\n",
       "    </tr>\n",
       "    <tr>\n",
       "      <th>4</th>\n",
       "      <td>25.296</td>\n",
       "      <td>3.589682</td>\n",
       "    </tr>\n",
       "    <tr>\n",
       "      <th>5</th>\n",
       "      <td>31.620</td>\n",
       "      <td>1.562500</td>\n",
       "    </tr>\n",
       "  </tbody>\n",
       "</table>\n",
       "</div>"
      ],
      "text/plain": [
       "     Time        Mass\n",
       "0   0.000  100.000000\n",
       "1   6.324   43.527528\n",
       "2  12.648   18.946457\n",
       "3  18.972    8.246924\n",
       "4  25.296    3.589682\n",
       "5  31.620    1.562500"
      ]
     },
     "execution_count": 12,
     "metadata": {},
     "output_type": "execute_result"
    }
   ],
   "source": [
    "data2.head(6)"
   ]
  },
  {
   "cell_type": "markdown",
   "metadata": {},
   "source": [
    "Tips:\n",
    "\n",
    "The [DataFrame.plot](https://pandas.pydata.org/pandas-docs/stable/reference/api/pandas.DataFrame.plot.html) method does a lot. You may set the kind of plot, and in extracting the axes, you've got access to an Artist.\n",
    "\n",
    "[What about colors?](https://matplotlib.org/api/colors_api.html)\n",
    "\n",
    "Getting multiple plots in the same figure requires passing the axes into subsequent plots.  [StackOverFlow has the answers](https://stackoverflow.com/questions/13872533/plot-different-dataframes-in-the-same-figure) a lot of times."
   ]
  },
  {
   "cell_type": "code",
   "execution_count": 13,
   "metadata": {},
   "outputs": [
    {
     "data": {
      "text/plain": [
       "Text(0, 0.5, 'Cobalt Remaining')"
      ]
     },
     "execution_count": 13,
     "metadata": {},
     "output_type": "execute_result"
    },
    {
     "data": {
      "image/png": "[encoded data removed]",
      "text/plain": [
       "<Figure size 432x288 with 1 Axes>"
      ]
     },
     "metadata": {},
     "output_type": "display_data"
    }
   ],
   "source": [
    "ax = data1.plot(x=\"Time\", y=\"Mass\", kind=\"line\", color = ['c'])\n",
    "ax.set_ylim(0,105)\n",
    "\n",
    "# note passing ax\n",
    "ax = data2.plot.scatter(x=\"Time\" ,y=\"Mass\", ax = ax, \n",
    "           color = 'tab:orange', s=40)\n",
    "\n",
    "ax.set_xlabel(\"Years\")\n",
    "ax.set_ylabel(\"Cobalt Remaining\")"
   ]
  },
  {
   "cell_type": "markdown",
   "metadata": {},
   "source": [
    "<blockquote>\n",
    "Plutonium is still omnipresent in the environment from previous atmospheric nuclear weapons tests. We investigated soil and plants sampled at different hot spots in Japan, searching for reactor-borne plutonium using its isotopic ratio 240Pu/239Pu. By using accelerator mass spectrometry, we clearly demonstrated the release of Pu from the Fukushima Daiichi power plant: While most samples contained only the radionuclide signature of fallout plutonium, there is at least one vegetation sample whose isotope ratio (0.381 +/- 0.046) evidences that the Pu originates from a nuclear reactor (239+240Pu activity concentration 0.49 Bq/kg). Plutonium content and isotope ratios differ considerably even for very close sampling locations, e.g. the soil and the plants growing on it. This strong localization indicates a particulate Pu release, which is of high radiological risk if incorporated.\n",
    "</blockquote>\n",
    "\n",
    "[Source: CDC](https://www.cdc.gov/niosh/nioshtic-2/20044680.html)"
   ]
  },
  {
   "cell_type": "markdown",
   "metadata": {},
   "source": [
    "![OpenStax Logo](https://opentextbc.ca/chemistry/wp-content/uploads/sites/150/2016/05/OSC_Interactive_200-43.png)\n",
    "\n",
    "License\n",
    "\n",
    "![Icon for the Creative Commons Attribution 4.0 International License](https://opentextbc.ca/chemistry/wp-content/themes/pressbooks-book/packages/buckram/assets/images/cc-by.svg)\n",
    "\n",
    "21.3 Radioactive Decay by Rice University is licensed under a Creative Commons Attribution 4.0 International License, except where otherwise noted."
   ]
  }
 ],
 "metadata": {
  "kernelspec": {
   "display_name": "Python 3",
   "language": "python",
   "name": "python3"
  },
  "language_info": {
   "codemirror_mode": {
    "name": "ipython",
    "version": 3
   },
   "file_extension": ".py",
   "mimetype": "text/x-python",
   "name": "python",
   "nbconvert_exporter": "python",
   "pygments_lexer": "ipython3",
   "version": "3.6.8"
  }
 },
 "nbformat": 4,
 "nbformat_minor": 2
}
