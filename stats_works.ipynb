{
 "cells": [
  {
   "cell_type": "markdown",
   "metadata": {},
   "source": [
    "[Oregon Curriculum Network](http://4dsolutions.net/ocn/)\n",
    "\n",
    "[School of Tomorrow (Home)](School_of_Tomorrow.ipynb)\n",
    "\n",
    "[PyCampNextLevel Outline](PyCampNextLevel.ipynb)\n",
    "\n",
    "![animated](anim.gif)\n",
    "\n",
    "![casino math](https://wikieducator.org/images/9/9a/Casino_math.jpg)\n",
    "\n",
    "# Casino Math\n",
    "\n",
    "Welcome to this Casino Math worksheet.  At the School of Tomorrow (an allusion to a certain movie and book), we follow [a Silicon Forest proposal](https://wikieducator.org/Digital_Math) from my Oregon Curriculum Network, to look at maths in four dimensions:  [Casino](https://wikieducator.org/Casino_Math), Supermarket, Neolithic and Futuristic (also known as Martian).\n",
    "\n",
    "In Casino Math we work with randomness, permutations, combintatorics, statistics, predictive models, ways of managing risk.  \n",
    "\n",
    "In some subcultures (\"cults\") the Chief Risk Officer (CRO) has high hopes of joining the C-suite (CEO, CFO...).\n",
    "\n",
    "<blockquote>\n",
    "The chief risk officer or chief risk management officer of a firm or corporation is the executive accountable for enabling the efficient and effective governance of significant risks, and related opportunities, to a business and its various segments. Risks are commonly categorized as strategic, reputational, operational, financial, or compliance-related. CROs are accountable to the Executive Committee and The Board for enabling the business to balance risk and reward. In more complex organizations, they are generally responsible for coordinating the organization's Enterprise Risk Management approach. \n",
    "</blockquote>\n",
    "\n",
    "Every culture has ways of anticipating chaos (noise and uncertainty, disruption -- see VUCA) and coping with risks, however formalized with job titles and legal frameworks."
   ]
  },
  {
   "cell_type": "markdown",
   "metadata": {},
   "source": [
    "### Workbench Tools\n",
    "\n",
    "Every craft has its workbench tools, which may be heavy (hard to move) or as light as a feather.  In Casino Math, with may think in terms of games of chance, expectations of winnings, possible outcomes and so on.  We inherit from the culture of statisticians, which includes actuarial sciences and their somewhat morbid concerns (causes of death, likelihood of death by cause).  \n",
    "\n",
    "Games have always included their life and death themes, amidst which we move our avatars, which have their lifetimes and levels.\n",
    "\n",
    "As of 2020, the Python toolkit has acheived widespread acceptance in many walks of life.  At the School of Tomorrow, we assume these tools as a part of our Calculator of Tomorrow.  The handheld calculator is still a useful tool, however our mission here (a form of prostelytizing), our bias, is towards using Jupyter Notebooks as a front end.\n",
    "\n",
    "<img src=\"./handheld_calculators.jpg\" width=\"500\" />\n",
    "\n",
    "On the backend, you will attach to (import) various tools, and not necessarily investigate their internals at every turn, given the work at hand.\n",
    "\n",
    "We're starting over with the basics in some sense, and yet availing ourselves of state of the art tools in another.  Lets combine assumed naivte with state of the art sophistication."
   ]
  },
  {
   "cell_type": "code",
   "execution_count": 1,
   "metadata": {},
   "outputs": [],
   "source": [
    "import numpy as np"
   ]
  },
  {
   "cell_type": "markdown",
   "metadata": {},
   "source": [
    "## Integration\n",
    "\n",
    "Integration is a way of accumulating, as the MIT lecture linked below well explains.  The integration-differentiation trip is a round trip.  The first accumulates sums whereas the second dissects an accumulation into successive growth rates (change rates), so-called \"slopes\".  The slope of something is a measure of steepness or rate of change.\n",
    "\n",
    "* [Big Picture of Calculus](https://youtu.be/UcWsDwg1XwM)\n",
    "* [Big Picture Derivatives](https://youtu.be/T_I-CUOc_bk)"
   ]
  },
  {
   "cell_type": "markdown",
   "metadata": {},
   "source": [
    "![math dream](https://media.giphy.com/media/26gR0YFZxWbnUPtMA/giphy.gif)"
   ]
  },
  {
   "cell_type": "markdown",
   "metadata": {},
   "source": [
    "The salient feature of our high school level approach is we assume people of any age, with lots of experience, have reason to go through high school again, not because they've \"forgotten everything\" but because the content changes, or should.  We have stopped picturing the high school curriculum as static, with \"future shock\" always postponed.  The future is shocking mostly if you've had some expectation of a static condition, a status quo.  That's an unrealistic expectation in many subcultures.\n",
    "\n",
    "### Connecting Calculus with Statistics\n",
    "The high school calculus I went through was quite divorced from statistics.  The statisticians refer to probability density functions, and associated cumulative density functions, where the latter is the integral of the former, but the high school delta calc teachers rarely did much in the other direction, to connect their textbooks with the ones used in statistics.\n",
    "\n",
    "![derivative](https://media.giphy.com/media/3o7WIxxI7tLStjR2p2/giphy.gif)\n",
    "\n",
    "The fracturing of disciplines into too many subdisciplines is what led Buckminster Fuller (critical to our School of Tomorrow curriculum) to sound the alarm in *Operating Manual for Spaceship Earth* wherein he circled \"overspecialization\" as a leading cause of species and/or cultural extinction."
   ]
  },
  {
   "cell_type": "code",
   "execution_count": 2,
   "metadata": {},
   "outputs": [],
   "source": [
    "def integrate(f, dx=1e-08):\n",
    "    \n",
    "    def sumup(a, b):\n",
    "        accum = 0\n",
    "        summing = True\n",
    "\n",
    "        while summing:\n",
    "            accum += dx * f(a)  # slice of area\n",
    "            a += dx             # increment a by dx\n",
    "            if a >= b:          # are we there yet?\n",
    "                summing = False # stop summing\n",
    "        \n",
    "        return accum\n",
    "            \n",
    "    return sumup # return the callable function"
   ]
  },
  {
   "cell_type": "markdown",
   "metadata": {},
   "source": [
    "Looking for [Symbolic Integration](http://www.learningaboutelectronics.com/Articles/How-to-find-the-integral-of-a-function-in-Python.php)?"
   ]
  },
  {
   "cell_type": "markdown",
   "metadata": {},
   "source": [
    "What's important to our approach above is \"to integrate\" (the verb) is applied to a function, and returns a function.  Ditto for differentiation.  \n",
    "\n",
    "Both the integrate and differentiate functions eat functions and return functions.  Notice the keyword ```def``` inside an outer ```def```:  that's a function being defined and then returned as the end product.  What the returned function will \"eat\" (in terms of x) is left for later.\n",
    "\n",
    "The internal ```sumup``` function has a single responsibibility, to accumulate ```dx * f(a)``` rectangles per the standard textbook intro.  Trek across a curve accumulating all the areas.  That's purposely rather simple-minded.\n",
    "\n",
    "![Riemann Sum](https://media.giphy.com/media/prqer53bXBopG/giphy.gif)\n",
    "\n",
    "[Riemann_Sum on Wikipedia](https://media.giphy.com/media/prqer53bXBopG/giphy.gif)\n",
    "\n",
    "Clearly dx is not *infinitely* small so this is still digital more than continuous mathematics.  That's not unusual as \"the continuous\" is associated with the \"theoretical limit\" which we only approximate with our assumed values for delta x.  \n",
    "\n",
    "We'll be allowing it to be larger that 0.00000001 in examples below."
   ]
  },
  {
   "cell_type": "code",
   "execution_count": 3,
   "metadata": {},
   "outputs": [
    {
     "data": {
      "text/plain": [
       "'1.000000e-08'"
      ]
     },
     "execution_count": 3,
     "metadata": {},
     "output_type": "execute_result"
    }
   ],
   "source": [
    "\"{:e}\".format(0.00000001)"
   ]
  },
  {
   "cell_type": "code",
   "execution_count": 4,
   "metadata": {},
   "outputs": [],
   "source": [
    "def differentiate(f, dx=1e-8):\n",
    "    def differ(x):\n",
    "        return ((f(x+dx) - f(x))/dx)\n",
    "    return differ"
   ]
  },
  {
   "cell_type": "markdown",
   "metadata": {},
   "source": [
    "Again, the default dx is a token \"very small\" value.  The returned function will have taken whatever value \"to heart\" i.e. the time to set it is when asking to differentiate.  \n",
    "\n",
    "The differ function is a \"wiggler\" in that it slightly wiggles x to get a corresponding wiggle in y, which it then ratios.  A good mnenomic for \"slope\" is: wiggle in y divided by wiggle in x, with y considered the \"dependent\" variable thanks to the function connecting them.  We usually say \"delta\" in place of \"wiggle\" which also means \"change\".\n",
    "\n",
    "![slope at a point](https://media.giphy.com/media/rDaWuLJZxAp6o/giphy.gif)\n",
    "\n",
    "The reason we call ordinary calculus \"delta calc\" is because it's about studying rates of change, and how those rates affect accumulation.  A sloping upward line adds larger area slices."
   ]
  },
  {
   "cell_type": "code",
   "execution_count": 5,
   "metadata": {},
   "outputs": [],
   "source": [
    "def line_maker(slope, intercept):\n",
    "    m, b = slope, intercept\n",
    "    def line(x):\n",
    "        y = m * x + b\n",
    "        return y\n",
    "    return line"
   ]
  },
  {
   "cell_type": "markdown",
   "metadata": {},
   "source": [
    "Again, the focus is on functions that make functions, which we call factory functions.  ```line_maker``` is designed to spit out any linear function, with any slope and y-intercept we desire.  Such lines become the focus of \"linear regression\" problems later, wherein we're looking for a \"best fit\" predictor, some function that does the best job of predicting y, given x, and assuming some quasi-linear relationship.\n",
    "\n",
    "We do not expect linear functions to precisely predict outcomes, but to do so within some interval of confidance.  Computing that interval, based on actual sample data, is the topic of another worksheet."
   ]
  },
  {
   "cell_type": "code",
   "execution_count": 6,
   "metadata": {},
   "outputs": [],
   "source": [
    "domain = np.arange(0,5,.01)"
   ]
  },
  {
   "cell_type": "code",
   "execution_count": 7,
   "metadata": {},
   "outputs": [],
   "source": [
    "pretty_steep = line_maker(4, 2)\n",
    "output = [pretty_steep(x) for x in domain]"
   ]
  },
  {
   "cell_type": "code",
   "execution_count": 8,
   "metadata": {},
   "outputs": [
    {
     "data": {
      "text/plain": [
       "[2.0, 2.04, 2.08, 2.12, 2.16, 2.2, 2.24, 2.2800000000000002, 2.32, 2.36]"
      ]
     },
     "execution_count": 8,
     "metadata": {},
     "output_type": "execute_result"
    }
   ],
   "source": [
    "output[:10]  # first 10 points"
   ]
  },
  {
   "cell_type": "code",
   "execution_count": 9,
   "metadata": {},
   "outputs": [],
   "source": [
    "import matplotlib.pyplot as plt"
   ]
  },
  {
   "cell_type": "code",
   "execution_count": 10,
   "metadata": {},
   "outputs": [
    {
     "data": {
      "image/png": "[encoded data removed]",
      "text/plain": [
       "<Figure size 432x288 with 1 Axes>"
      ]
     },
     "metadata": {
      "needs_background": "light"
     },
     "output_type": "display_data"
    }
   ],
   "source": [
    "fig = plt.figure() # fresh and new\n",
    "ax  = plt.subplot('111')\n",
    "plt.xlabel(\"x\")\n",
    "plt.ylabel(\"y\")\n",
    "ax.plot(domain, output);"
   ]
  },
  {
   "cell_type": "code",
   "execution_count": 11,
   "metadata": {},
   "outputs": [],
   "source": [
    "integral_pretty_steep = integrate(pretty_steep, dx=0.01)  # return a function"
   ]
  },
  {
   "cell_type": "code",
   "execution_count": 12,
   "metadata": {},
   "outputs": [],
   "source": [
    "output = [integral_pretty_steep(min(domain), x) for x in domain]"
   ]
  },
  {
   "cell_type": "code",
   "execution_count": 13,
   "metadata": {},
   "outputs": [
    {
     "data": {
      "image/png": "[encoded data removed]",
      "text/plain": [
       "<Figure size 432x288 with 1 Axes>"
      ]
     },
     "metadata": {
      "needs_background": "light"
     },
     "output_type": "display_data"
    }
   ],
   "source": [
    "fig = plt.figure() # fresh and new\n",
    "ax  = plt.subplot('111')\n",
    "plt.xlabel(\"x\")\n",
    "plt.ylabel(\"y\")\n",
    "ax.plot(domain, output);"
   ]
  },
  {
   "cell_type": "code",
   "execution_count": 14,
   "metadata": {},
   "outputs": [],
   "source": [
    "domain = np.arange(0,5,.01)"
   ]
  },
  {
   "cell_type": "markdown",
   "metadata": {},
   "source": [
    "Our integral functions approximates the area under a curve from some starting value to some x value. In order to fix the starting value, we might use ```functools.partial```.  It gives us a new function with a first value already filled in.  That's for the benefit of the differentiator, which returns a function that expects one argument only, the area from some fixed ```a``` to our current ```x```.\n",
    "```python\n",
    "    def differentiate(f, dx=1e-8):\n",
    "        def differ(x):\n",
    "            return ((f(x+dx) - f(x))/dx)\n",
    "        return differ\n",
    "```"
   ]
  },
  {
   "cell_type": "code",
   "execution_count": 15,
   "metadata": {},
   "outputs": [],
   "source": [
    "from functools import partial\n",
    "definite_integral = partial(integral_pretty_steep, min(domain)) # bind a\n",
    "Df = differentiate(definite_integral, 0.01)"
   ]
  },
  {
   "cell_type": "code",
   "execution_count": 16,
   "metadata": {},
   "outputs": [],
   "source": [
    "output = [Df(x) for x in domain]"
   ]
  },
  {
   "cell_type": "code",
   "execution_count": 17,
   "metadata": {},
   "outputs": [
    {
     "data": {
      "image/png": "[encoded data removed]",
      "text/plain": [
       "<Figure size 432x288 with 1 Axes>"
      ]
     },
     "metadata": {
      "needs_background": "light"
     },
     "output_type": "display_data"
    }
   ],
   "source": [
    "fig = plt.figure() # fresh and new\n",
    "ax  = plt.subplot('111')\n",
    "plt.xlabel(\"x\")\n",
    "plt.ylabel(\"y\")\n",
    "ax.plot(domain, output);"
   ]
  },
  {
   "cell_type": "markdown",
   "metadata": {},
   "source": [
    "## Normal Distribution\n",
    "\n",
    "So far, this presentation has not deviated too much from the usual / average presentation of delta calculus, but for calling it \"delta calc\" and introducing triangles and tetrahedrons as paradigm area and volume shapes.\n",
    "\n",
    "For the most part, we'll keep going back to XY and XYZ grid computations and leave the futuristic stuff to Martian Math.\n",
    "\n",
    "However, another departure from normal is to feature the Normal Distribution early and often, with other Probably Distribution Functions to follow.  We will adhere to a statistics intensive presentation in other words.  The bridge from pdf to cdf is one of integration, and vice versa."
   ]
  },
  {
   "cell_type": "code",
   "execution_count": 18,
   "metadata": {},
   "outputs": [
    {
     "data": {
      "text/latex": [
       "$ pdf(x,\\mu,\\sigma) = \\frac{1}{ \\sigma\\sqrt{2 \\pi}} e^{\\left(-\\frac{{\\left(\\mu - x\\right)}^{2}}{2 \\, \\sigma^{2}}\\right)} $"
      ],
      "text/plain": [
       "<IPython.core.display.Latex object>"
      ]
     },
     "metadata": {},
     "output_type": "display_data"
    }
   ],
   "source": [
    "from IPython.display import display, Latex\n",
    "\n",
    "ltx = '$ pdf(x,\\\\mu,\\\\sigma) = \\\\frac{1}{ \\\\sigma' + \\\n",
    " '\\\\sqrt{2 \\\\pi}} e^{\\\\left(-\\\\frac{{\\\\left(\\\\mu - ' + \\\n",
    " 'x\\\\right)}^{2}}{2 \\\\, \\\\sigma^{2}}\\\\right)} $'\n",
    "display(Latex(ltx))"
   ]
  },
  {
   "cell_type": "code",
   "execution_count": 19,
   "metadata": {},
   "outputs": [],
   "source": [
    "import math\n",
    "def g(x):\n",
    "    return (1/(sigma * math.sqrt(2 * np.pi))) * math.exp(-0.5 * ((mu - x)/sigma)**2)"
   ]
  },
  {
   "cell_type": "markdown",
   "metadata": {},
   "source": [
    "By adjusting sigma and mu below, you're free to describe any \"bell curve\" under the sun.  A typical procedure is to \"alter perspective\" by mapping any and every bell curve to the standard bell curve, checking the Z-Score, and learning what constitutes a \"standard deviation\" in terms of original units."
   ]
  },
  {
   "cell_type": "code",
   "execution_count": 20,
   "metadata": {},
   "outputs": [],
   "source": [
    "sigma = 1; mu = 0"
   ]
  },
  {
   "cell_type": "code",
   "execution_count": 21,
   "metadata": {},
   "outputs": [],
   "source": [
    "vg = np.vectorize(g)"
   ]
  },
  {
   "cell_type": "code",
   "execution_count": 22,
   "metadata": {},
   "outputs": [],
   "source": [
    "domain = np.arange(-5,5,.01)"
   ]
  },
  {
   "cell_type": "code",
   "execution_count": 23,
   "metadata": {},
   "outputs": [],
   "source": [
    "output = vg(domain) # thanks to vectorize, we can dispense with the looping structure"
   ]
  },
  {
   "cell_type": "code",
   "execution_count": 24,
   "metadata": {},
   "outputs": [
    {
     "data": {
      "image/png": "[encoded data removed]",
      "text/plain": [
       "<Figure size 432x288 with 1 Axes>"
      ]
     },
     "metadata": {
      "needs_background": "light"
     },
     "output_type": "display_data"
    }
   ],
   "source": [
    "fig = plt.figure() # fresh and new\n",
    "ax  = plt.subplot('111')\n",
    "plt.xlabel(\"x\")\n",
    "plt.ylabel(\"y\")\n",
    "ax.plot(domain, output);"
   ]
  },
  {
   "cell_type": "code",
   "execution_count": 25,
   "metadata": {},
   "outputs": [],
   "source": [
    "cdf = integrate(vg, 0.01)"
   ]
  },
  {
   "cell_type": "code",
   "execution_count": 26,
   "metadata": {},
   "outputs": [],
   "source": [
    "output = [cdf(min(domain), b) for b in domain]   # this could take a long time...."
   ]
  },
  {
   "cell_type": "code",
   "execution_count": 27,
   "metadata": {},
   "outputs": [
    {
     "data": {
      "image/png": "[encoded data removed]",
      "text/plain": [
       "<Figure size 432x288 with 1 Axes>"
      ]
     },
     "metadata": {
      "needs_background": "light"
     },
     "output_type": "display_data"
    }
   ],
   "source": [
    "fig = plt.figure() # fresh and new\n",
    "ax  = plt.subplot('111') # 1 row, 1 column, subplot 1\n",
    "plt.xlabel(\"x\")\n",
    "plt.ylabel(\"y\")\n",
    "ax.plot(domain, output);"
   ]
  },
  {
   "cell_type": "code",
   "execution_count": 28,
   "metadata": {},
   "outputs": [],
   "source": [
    "import scipy.integrate as integral"
   ]
  },
  {
   "cell_type": "code",
   "execution_count": 29,
   "metadata": {},
   "outputs": [],
   "source": [
    "result =  [integral.quad(vg, min(domain), b)[0] for b in domain]"
   ]
  },
  {
   "cell_type": "code",
   "execution_count": 30,
   "metadata": {},
   "outputs": [
    {
     "data": {
      "image/png": "[encoded data removed]",
      "text/plain": [
       "<Figure size 432x288 with 1 Axes>"
      ]
     },
     "metadata": {
      "needs_background": "light"
     },
     "output_type": "display_data"
    }
   ],
   "source": [
    "fig = plt.figure() # fresh and new\n",
    "ax  = plt.subplot('111') # 1 row, 1 column, subplot 1\n",
    "plt.xlabel(\"x\")\n",
    "plt.ylabel(\"y\")\n",
    "ax.plot(domain, result);"
   ]
  },
  {
   "cell_type": "code",
   "execution_count": 31,
   "metadata": {},
   "outputs": [],
   "source": [
    "domain = np.arange(-5,5,.01)\n",
    "definite_integral = partial(cdf, min(domain))\n",
    "Df = differentiate(definite_integral, 0.01)"
   ]
  },
  {
   "cell_type": "markdown",
   "metadata": {},
   "source": [
    "Here's the idea of a definite integral.  How much have we accumulated between start point ```a``` and end point ```b```?\n",
    "\n",
    "![matplotlib integral](https://matplotlib.org/3.2.1/_images/sphx_glr_integral_001.png)\n",
    "\n",
    "[Original Gallery](https://matplotlib.org/3.2.1/gallery/showcase/integral.html)"
   ]
  },
  {
   "cell_type": "code",
   "execution_count": 32,
   "metadata": {},
   "outputs": [],
   "source": [
    "output = [Df(x) for x in domain]  # this could take a long time...."
   ]
  },
  {
   "cell_type": "code",
   "execution_count": 33,
   "metadata": {},
   "outputs": [
    {
     "data": {
      "image/png": "[encoded data removed]",
      "text/plain": [
       "<Figure size 432x288 with 1 Axes>"
      ]
     },
     "metadata": {
      "needs_background": "light"
     },
     "output_type": "display_data"
    }
   ],
   "source": [
    "fig = plt.figure() # fresh and new\n",
    "ax  = plt.subplot('111') # 1 row, 1 column, subplot 1\n",
    "plt.xlabel(\"x\")\n",
    "plt.ylabel(\"y\")\n",
    "ax.plot(domain, output);"
   ]
  },
  {
   "cell_type": "code",
   "execution_count": 34,
   "metadata": {},
   "outputs": [
    {
     "data": {
      "image/png": "[encoded data removed]",
      "text/plain": [
       "<Figure size 432x288 with 1 Axes>"
      ]
     },
     "metadata": {
      "needs_background": "light"
     },
     "output_type": "display_data"
    }
   ],
   "source": [
    "from matplotlib.patches import Polygon\n",
    "\n",
    "fig = plt.figure() # fresh and new\n",
    "ax  = plt.subplot('111') # 1 row, 1 column, subplot 1\n",
    "plt.xlabel(\"x\")\n",
    "plt.ylabel(\"y\")\n",
    "ax.plot(domain, output)\n",
    "ix = np.arange(-1,1,.01)\n",
    "iy = vg(ix)\n",
    "output = vg(domain) # thanks to vectorize, we can dispense with the looping structure\n",
    "verts = [(-1, 0), *zip(ix, iy), (1, 0)]\n",
    "poly = Polygon(verts, facecolor='0.9', edgecolor='0.5')\n",
    "ax.add_patch(poly)\n",
    "plt.show();"
   ]
  },
  {
   "cell_type": "markdown",
   "metadata": {},
   "source": [
    "## Now that we've seen all that...\n",
    "\n",
    "scipy.stats has ```norm``` so we *don't have to* hand-code integration"
   ]
  },
  {
   "cell_type": "code",
   "execution_count": 35,
   "metadata": {},
   "outputs": [],
   "source": [
    "from scipy.stats import norm"
   ]
  },
  {
   "cell_type": "code",
   "execution_count": 36,
   "metadata": {},
   "outputs": [
    {
     "data": {
      "image/png": "[encoded data removed]",
      "text/plain": [
       "<Figure size 720x288 with 2 Axes>"
      ]
     },
     "metadata": {
      "needs_background": "light"
     },
     "output_type": "display_data"
    }
   ],
   "source": [
    "fig = plt.figure(figsize=(10,4)) # fresh and new\n",
    "\n",
    "ax  = plt.subplot('121') # 1 row, 1 column, subplot 1\n",
    "# Plot between -10 and 10 with .001 steps.\n",
    "x_axis = np.arange(-10, 10, 0.001)\n",
    "# Mean = 0, SD = 2.\n",
    "plt.plot(x_axis, norm.pdf(x_axis,0,2))\n",
    "\n",
    "ax  = plt.subplot('122') # 1 row, 1 column, subplot 1\n",
    "# Plot between -10 and 10 with .001 steps.\n",
    "x_axis = np.arange(-10, 10, 0.001)\n",
    "# Mean = 0, SD = 2.\n",
    "plt.plot(x_axis, norm.cdf(x_axis,0,2))\n",
    "\n",
    "plt.show();"
   ]
  },
  {
   "cell_type": "markdown",
   "metadata": {},
   "source": [
    "# APPENDIX:  ABOUT AREA AND VOLUME\n",
    "\n",
    "<a data-flickr-embed=\"true\" href=\"https://www.flickr.com/photos/kirbyurner/15733544935/in/album-72157624750749042/\" title=\"2 x 2 &#x3D; 4\"><img src=\"https://live.staticflickr.com/5611/15733544935_8f001fc396_w.jpg\" width=\"400\" height=\"300\" alt=\"2 x 2 &#x3D; 4\"></a><script async src=\"//embedr.flickr.com/assets/client-code.js\" charset=\"utf-8\"></script>\n",
    "\n",
    "Area of lower triangle = 4 in equilateral triangular units (etus).\n",
    "\n",
    "<a data-flickr-embed=\"true\" href=\"https://www.flickr.com/photos/kirbyurner/39851434361/in/album-72157624750749042/\" title=\"4 x 8 &#x3D; 32\"><img src=\"https://live.staticflickr.com/4621/39851434361_8dc2f5f7fa_w.jpg\" width=\"400\" height=\"389\" alt=\"4 x 8 &#x3D; 32\"></a><script async src=\"//embedr.flickr.com/assets/client-code.js\" charset=\"utf-8\"></script>\n",
    "\n",
    "Area of lower triangle = A times B (the two edge lengths from any angle) in etus.\n",
    "\n",
    "Picture an equilateral triangle, with a 60 degree apex.  As the apex gradually rises above the base, all angles remain 60 degrees, however the total area is increasing as a 2nd power of the linear rate of change, measured by altitude or any edge.  A second power curve would start a 0 and show the increasing area as a curve, the right half of a parabola.\n",
    "\n",
    "A regular tetrahedron's volume would likewise increase at the 3rd power rate, as all the edges increased at a linear rate.  Such is the ```edge:area:volume``` relationship for any shape."
   ]
  },
  {
   "cell_type": "markdown",
   "metadata": {},
   "source": [
    "![clustering data points](https://media.giphy.com/media/wZ04FZrdMqCDC/giphy.gif)"
   ]
  }
 ],
 "metadata": {
  "kernelspec": {
   "display_name": "Python 3",
   "language": "python",
   "name": "python3"
  },
  "language_info": {
   "codemirror_mode": {
    "name": "ipython",
    "version": 3
   },
   "file_extension": ".py",
   "mimetype": "text/x-python",
   "name": "python",
   "nbconvert_exporter": "python",
   "pygments_lexer": "ipython3",
   "version": "3.7.4"
  }
 },
 "nbformat": 4,
 "nbformat_minor": 4
}
