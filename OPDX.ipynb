{
 "cells": [
  {
   "cell_type": "markdown",
   "metadata": {},
   "source": [
    "[Oregon Curriculum Network](http://4dsolutions.net/ocn/)\n",
    "\n",
    "# OPDX:  Occupy Portland\n",
    "\n",
    "[Home Page](School_of_Tomorrow.ipynb)\n",
    "\n",
    "### History Section\n",
    "\n",
    "The time: 2009.  The place: Portland, Oregon.\n",
    "\n",
    "What's special about the Portland instantiation of the Occupy concept, is the history of the park in which the camp appeared.  The Bonus Army began its march on Washington DC at a 1932 rally there.\n",
    "\n",
    "### For further reading:\n",
    "\n",
    "* [Occupy University on Medium](https://kirbyurner.medium.com/occupy-university-ef91da029f9e)\n",
    "* [Changing Hats: From Analyst to Activist (Youtube)](https://youtu.be/w0f-kP4FC-o)\n",
    "* [\"OPDX\" in Control Room (blog)](https://controlroom.blogspot.com/search?q=OPDX)\n",
    "* [Raining Pumpkins](https://mybizmo.blogspot.com/2024/11/raining-pumpkins.html)\n",
    "* [OPDX Flickr Album](https://flic.kr/s/aHsjwhAJCZ)\n",
    "* [Smedley Butler Addresses Bonus Army, a James Clark article](https://taskandpurpose.com/history/marine-medal-of-honor-smedley-butler-bonus-army-speech/)\n",
    "* [Bonus Army Story By Gary Olson in Counterpunch](https://www.counterpunch.org/2020/07/28/the-bonus-army-protest/)\n",
    "* [Connecting OPDX to Fuller Syllabus](https://worldgame.blogspot.com/2020/01/occupy-history.html)"
   ]
  },
  {
   "cell_type": "code",
   "execution_count": null,
   "metadata": {},
   "outputs": [],
   "source": []
  }
 ],
 "metadata": {
  "kernelspec": {
   "display_name": "Python 3 (ipykernel)",
   "language": "python",
   "name": "python3"
  },
  "language_info": {
   "codemirror_mode": {
    "name": "ipython",
    "version": 3
   },
   "file_extension": ".py",
   "mimetype": "text/x-python",
   "name": "python",
   "nbconvert_exporter": "python",
   "pygments_lexer": "ipython3",
   "version": "3.11.3"
  }
 },
 "nbformat": 4,
 "nbformat_minor": 4
}
