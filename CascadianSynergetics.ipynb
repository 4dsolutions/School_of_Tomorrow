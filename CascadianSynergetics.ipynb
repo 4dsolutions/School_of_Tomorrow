{
 "cells": [
  {
   "cell_type": "markdown",
   "id": "96457bdd-9b49-45d1-a8e2-1a43a48812f7",
   "metadata": {},
   "source": [
    "[Oregon Curriculum Network](http://4dsolutions.net/ocn/)<br />\n",
    "[Home Page](School_of_Tomorrow.ipynb)\n",
    "\n",
    "\n",
    "<a data-flickr-embed=\"true\" href=\"https://www.flickr.com/photos/kirbyurner/54357207507/in/dateposted/\" title=\"Branding Project\"><img src=\"https://live.staticflickr.com/65535/54357207507_4980438668_o.png\" width=\"1024\" height=\"768\" alt=\"Branding Project\"/></a><script async src=\"//embedr.flickr.com/assets/client-code.js\" charset=\"utf-8\"></script>"
   ]
  },
  {
   "cell_type": "markdown",
   "id": "9c77ff5a-86cd-4d34-9704-653de802bee1",
   "metadata": {},
   "source": [
    "# Documenting My Code"
   ]
  },
  {
   "cell_type": "markdown",
   "id": "536de708-c14d-4278-94fe-624b3b422845",
   "metadata": {},
   "source": [
    "<a data-flickr-embed=\"true\" href=\"https://www.flickr.com/photos/kirbyurner/54358293944/in/photostream/\" title=\"Revectoring Wordmeanings\"><img src=\"https://live.staticflickr.com/65535/54358293944_129216b523_o.png\" width=\"237\" height=\"278\" alt=\"Revectoring Wordmeanings\"/></a><script async src=\"//embedr.flickr.com/assets/client-code.js\" charset=\"utf-8\"></script>"
   ]
  },
  {
   "cell_type": "markdown",
   "id": "b3762efc-0565-4dd5-b1d9-dd4ab961963b",
   "metadata": {},
   "source": [
    "I know we almost always say “sqrt” for “square root” in computer languages, but much as each of us fights an unwanted bias with new jargon, I have a habit in Python of going:\n",
    "\n",
    "  from math import sqrt as rt2\n",
    "\n",
    "… the reason being, when one is attempting to think in Synergetics, just as raising to a 2nd power does not have to connote “squaring” (could be “triangling”) so the inverse operation of 2nd rooting has a non-rectilinear visualization that we don’t want to always bury in our customary notation.\n",
    "\n",
    "So what I quoted above starts further down, when I already have given sqrt a new alias. Also, I’m not getting my sqrt from Python’s standard library math, but from sympy, a 3rd party package that is more like Mathematica’s in keeping everything algebraic (algorithmic) internally until you actually wanna see digits, in which case it’s up to you how many, i.e. I can give S mod volume to 1000 places, and have done so, something calculators can’t do.  \n",
    "\n",
    "Partly what I bring to the table is technology that’s pretty open-ended when it comes to precision. I argue in my curriculum reformist lit that “floating point numbers” are a disappointment to a lot of kids, who thought computers were better at math only to find this engineering hack posing as a real number. Well, that’s been fixed, so let’s take advantage.\n",
    "\n",
    "That I’m using sympy explains such as rt2(Rational(9, 8)) for S3.  Rational(9,8) is sympy’s way of keeping a rational number algebraic i.e. keeping it from degenerating into a float, a lossy encoding from which there’s no recovering algebraic precision in many cases. As I was saying, my goal is to keep internal expressions of stuff like BASKET mod volumes in terms of algebraic expressions that can be converted on the fly into however many requested decimal digits. Or other base if that’s necessary (not something I’ve done a lot of, when it comes to irrationals). \n",
    "\n",
    "Finally, Python uses double-star (**) for exponentiation.\n",
    "\n",
    "[flextegrity.py](https://github.com/4dsolutions/School_of_Tomorrow/blob/master/flextegrity.py)\n",
    "\n",
    "Continuing with the Python, this is the module I’ve been hacking on a lot recently, to get some new graphics. Its purpose is to define most concentric hierarchy polyhedrons in terms of Quadrays. It so happens that 26 points (so A-Z) match the number we need for:\n",
    "\n",
    "* tet + inverse tet labeled ABCDEFGH (which is already enough for the duo-tet cube)\n",
    "* octahedron IJKLMN (which added to cube verts, defines the RD’s verts)\n",
    "* VE or cuboctahedron (OPQRSTUVWXYZ)\n",
    "\n",
    "From [Wikipedia](https://en.wikipedia.org/wiki/Quadray_coordinates):\n",
    "\n",
    "<a data-flickr-embed=\"true\" href=\"https://www.flickr.com/photos/kirbyurner/54358305759/in/dateposted/\" title=\"From Wikipedia\"><img src=\"https://live.staticflickr.com/65535/54358305759_a302c94092_c.jpg\" width=\"800\" height=\"569\" alt=\"From Wikipedia\"/></a><script async src=\"//embedr.flickr.com/assets/client-code.js\" charset=\"utf-8\"></script>\n",
    "\n",
    "Then I have to compute additional points for 5 fold symmetric Icosa, Penta, RT, again using Quadrays.\n",
    "\n",
    "Turns out that verts of the VE for example, work out to all 12 permutations of {2, 1, 1, 0} in quadray coords.\n",
    "\n",
    "With Polys defined, I can scale them using simple multiply notation e.g.:\n",
    "\n",
    "```python\n",
    "ic = Icosa()          # give birth to icosa, default size\n",
    "small_ic = ic * half  # scale all edges down to half original length\n",
    "```\n",
    "\n",
    "So then I can [construct scenes](flex_scripts.py) of various polys in relationship and get them written out in a whole other language, the “scene description language” of [POV-Ray](https://www.povray.org), the rendering engine, for making pictures. \n",
    "\n",
    "This latter program, the ray tracer (free, cross platform) only understands about XYZ, so when Python writes out to a povray script (.pov), it turns anything (a, b, c, d) into (x, y, z) coordinates.  There’s a whole other module, qrays.py, that defines the Vector vs Qvector relationship (you’ll see it imported at the top of the above). They convert into each other, no problemo.\n",
    "\n",
    "[A growing ball packing](https://oeis.org/A005902) (layer = 0, 1, 2, 3 ..., balls = 1 + 12 + 42 + 92 ...):"
   ]
  },
  {
   "cell_type": "markdown",
   "id": "3242ca0f-76eb-4867-93e5-ce2672aae052",
   "metadata": {},
   "source": [
    "![growing ball packing](cubanim.gif)"
   ]
  },
  {
   "cell_type": "markdown",
   "id": "d32912ac-94a9-4685-ad1e-5e96b28fb269",
   "metadata": {},
   "source": [
    "Interesting?\n",
    "\n",
    "* [A next reading...](Flextegrity_Lattice.ipynb)\n",
    "* [Synergetics](https://github.com/4dsolutions/DigitalMathematics/blob/master/MartianMath.ipynb)"
   ]
  }
 ],
 "metadata": {
  "kernelspec": {
   "display_name": "Python 3 (ipykernel)",
   "language": "python",
   "name": "python3"
  },
  "language_info": {
   "codemirror_mode": {
    "name": "ipython",
    "version": 3
   },
   "file_extension": ".py",
   "mimetype": "text/x-python",
   "name": "python",
   "nbconvert_exporter": "python",
   "pygments_lexer": "ipython3",
   "version": "3.11.3"
  }
 },
 "nbformat": 4,
 "nbformat_minor": 5
}
